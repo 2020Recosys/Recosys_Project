{
 "cells": [
  {
   "cell_type": "code",
   "execution_count": 1,
   "metadata": {},
   "outputs": [],
   "source": [
    "import pandas as pd\n",
    "import numpy as np\n",
    "import matplotlib.pyplot as plt\n",
    "from tqdm import tqdm_notebook\n",
    "import itertools"
   ]
  },
  {
   "cell_type": "code",
   "execution_count": 2,
   "metadata": {},
   "outputs": [
    {
     "name": "stderr",
     "output_type": "stream",
     "text": [
      "C:\\ProgramData\\Anaconda3\\lib\\site-packages\\IPython\\core\\interactiveshell.py:3051: DtypeWarning: Columns (9) have mixed types. Specify dtype option on import or set low_memory=False.\n",
      "  interactivity=interactivity, compiler=compiler, result=result)\n"
     ]
    },
    {
     "data": {
      "text/plain": [
       "(3196362, 14)"
      ]
     },
     "execution_count": 2,
     "metadata": {},
     "output_type": "execute_result"
    }
   ],
   "source": [
    "온라인 = pd.read_csv('01.온라인 행동 정보.csv', encoding='utf-8')\n",
    "온라인 = 온라인.sort_values(['clnt_id','sess_id','hit_seq']).reset_index(drop=True)\n",
    "온라인.shape"
   ]
  },
  {
   "cell_type": "code",
   "execution_count": 3,
   "metadata": {},
   "outputs": [
    {
     "data": {
      "text/html": [
       "<div>\n",
       "<style scoped>\n",
       "    .dataframe tbody tr th:only-of-type {\n",
       "        vertical-align: middle;\n",
       "    }\n",
       "\n",
       "    .dataframe tbody tr th {\n",
       "        vertical-align: top;\n",
       "    }\n",
       "\n",
       "    .dataframe thead th {\n",
       "        text-align: right;\n",
       "    }\n",
       "</style>\n",
       "<table border=\"1\" class=\"dataframe\">\n",
       "  <thead>\n",
       "    <tr style=\"text-align: right;\">\n",
       "      <th></th>\n",
       "      <th>clnt_id</th>\n",
       "      <th>sess_id</th>\n",
       "      <th>hit_seq</th>\n",
       "      <th>action_type</th>\n",
       "      <th>biz_unit</th>\n",
       "      <th>sess_dt</th>\n",
       "      <th>hit_tm</th>\n",
       "      <th>hit_pss_tm</th>\n",
       "      <th>trans_id</th>\n",
       "      <th>sech_kwd</th>\n",
       "      <th>tot_pag_view_ct</th>\n",
       "      <th>tot_sess_hr_v</th>\n",
       "      <th>trfc_src</th>\n",
       "      <th>dvc_ctg_nm</th>\n",
       "      <th>unique_id</th>\n",
       "    </tr>\n",
       "  </thead>\n",
       "  <tbody>\n",
       "    <tr>\n",
       "      <th>0</th>\n",
       "      <td>1</td>\n",
       "      <td>1</td>\n",
       "      <td>1</td>\n",
       "      <td>0</td>\n",
       "      <td>A01</td>\n",
       "      <td>20190911</td>\n",
       "      <td>16:14</td>\n",
       "      <td>11880</td>\n",
       "      <td>NaN</td>\n",
       "      <td>과일선물세트</td>\n",
       "      <td>14.0</td>\n",
       "      <td>124.0</td>\n",
       "      <td>unknown</td>\n",
       "      <td>mobile_app</td>\n",
       "      <td>1_1</td>\n",
       "    </tr>\n",
       "    <tr>\n",
       "      <th>1</th>\n",
       "      <td>1</td>\n",
       "      <td>1</td>\n",
       "      <td>2</td>\n",
       "      <td>0</td>\n",
       "      <td>A01</td>\n",
       "      <td>20190911</td>\n",
       "      <td>16:15</td>\n",
       "      <td>22432</td>\n",
       "      <td>NaN</td>\n",
       "      <td>과일선물세트 백화점</td>\n",
       "      <td>14.0</td>\n",
       "      <td>124.0</td>\n",
       "      <td>unknown</td>\n",
       "      <td>mobile_app</td>\n",
       "      <td>1_1</td>\n",
       "    </tr>\n",
       "    <tr>\n",
       "      <th>2</th>\n",
       "      <td>1</td>\n",
       "      <td>1</td>\n",
       "      <td>3</td>\n",
       "      <td>0</td>\n",
       "      <td>A01</td>\n",
       "      <td>20190911</td>\n",
       "      <td>16:15</td>\n",
       "      <td>36140</td>\n",
       "      <td>NaN</td>\n",
       "      <td>과일바구니</td>\n",
       "      <td>14.0</td>\n",
       "      <td>124.0</td>\n",
       "      <td>unknown</td>\n",
       "      <td>mobile_app</td>\n",
       "      <td>1_1</td>\n",
       "    </tr>\n",
       "    <tr>\n",
       "      <th>3</th>\n",
       "      <td>1</td>\n",
       "      <td>2</td>\n",
       "      <td>1</td>\n",
       "      <td>0</td>\n",
       "      <td>A01</td>\n",
       "      <td>20190922</td>\n",
       "      <td>14:09</td>\n",
       "      <td>41584</td>\n",
       "      <td>NaN</td>\n",
       "      <td>초등가을잠바</td>\n",
       "      <td>45.0</td>\n",
       "      <td>424.0</td>\n",
       "      <td>unknown</td>\n",
       "      <td>mobile_app</td>\n",
       "      <td>1_2</td>\n",
       "    </tr>\n",
       "    <tr>\n",
       "      <th>4</th>\n",
       "      <td>1</td>\n",
       "      <td>2</td>\n",
       "      <td>2</td>\n",
       "      <td>0</td>\n",
       "      <td>A01</td>\n",
       "      <td>20190922</td>\n",
       "      <td>14:10</td>\n",
       "      <td>56113</td>\n",
       "      <td>NaN</td>\n",
       "      <td>초등가을점퍼</td>\n",
       "      <td>45.0</td>\n",
       "      <td>424.0</td>\n",
       "      <td>unknown</td>\n",
       "      <td>mobile_app</td>\n",
       "      <td>1_2</td>\n",
       "    </tr>\n",
       "  </tbody>\n",
       "</table>\n",
       "</div>"
      ],
      "text/plain": [
       "   clnt_id  sess_id  hit_seq  action_type biz_unit   sess_dt hit_tm  \\\n",
       "0        1        1        1            0      A01  20190911  16:14   \n",
       "1        1        1        2            0      A01  20190911  16:15   \n",
       "2        1        1        3            0      A01  20190911  16:15   \n",
       "3        1        2        1            0      A01  20190922  14:09   \n",
       "4        1        2        2            0      A01  20190922  14:10   \n",
       "\n",
       "   hit_pss_tm  trans_id    sech_kwd  tot_pag_view_ct  tot_sess_hr_v trfc_src  \\\n",
       "0       11880       NaN      과일선물세트             14.0          124.0  unknown   \n",
       "1       22432       NaN  과일선물세트 백화점             14.0          124.0  unknown   \n",
       "2       36140       NaN       과일바구니             14.0          124.0  unknown   \n",
       "3       41584       NaN      초등가을잠바             45.0          424.0  unknown   \n",
       "4       56113       NaN      초등가을점퍼             45.0          424.0  unknown   \n",
       "\n",
       "   dvc_ctg_nm unique_id  \n",
       "0  mobile_app       1_1  \n",
       "1  mobile_app       1_1  \n",
       "2  mobile_app       1_1  \n",
       "3  mobile_app       1_2  \n",
       "4  mobile_app       1_2  "
      ]
     },
     "execution_count": 3,
     "metadata": {},
     "output_type": "execute_result"
    }
   ],
   "source": [
    "온라인['unique_id'] = list(map(lambda x,y: str(x)+'_'+str(y), 온라인.clnt_id, 온라인.sess_id))\n",
    "온라인.head()"
   ]
  },
  {
   "cell_type": "code",
   "execution_count": 5,
   "metadata": {},
   "outputs": [
    {
     "data": {
      "text/plain": [
       "count    367149.0\n",
       "mean          1.0\n",
       "std           0.0\n",
       "min           1.0\n",
       "25%           1.0\n",
       "50%           1.0\n",
       "75%           1.0\n",
       "max           1.0\n",
       "Name: biz_unit, dtype: float64"
      ]
     },
     "execution_count": 5,
     "metadata": {},
     "output_type": "execute_result"
    }
   ],
   "source": [
    "온라인.groupby('unique_id').biz_unit.nunique().describe()"
   ]
  },
  {
   "cell_type": "code",
   "execution_count": 122,
   "metadata": {
    "scrolled": false
   },
   "outputs": [
    {
     "name": "stderr",
     "output_type": "stream",
     "text": [
      "C:\\ProgramData\\Anaconda3\\lib\\site-packages\\IPython\\core\\interactiveshell.py:3051: DtypeWarning: Columns (9) have mixed types. Specify dtype option on import or set low_memory=False.\n",
      "  interactivity=interactivity, compiler=compiler, result=result)\n",
      "C:\\ProgramData\\Anaconda3\\lib\\site-packages\\ipykernel_launcher.py:3: FutureWarning: `Series.plot()` should not be called with positional arguments, only keyword arguments. The order of positional arguments will change in the future. Use `Series.plot(kind='bar')` instead of `Series.plot('bar',)`.\n",
      "  This is separate from the ipykernel package so we can avoid doing imports until\n"
     ]
    },
    {
     "data": {
      "image/png": "[encoded data removed]",
      "text/plain": [
       "<Figure size 720x360 with 1 Axes>"
      ]
     },
     "metadata": {
      "needs_background": "light"
     },
     "output_type": "display_data"
    }
   ],
   "source": [
    "plt.figure(figsize=(10,5))\n",
    "온라인[온라인.hit_seq == 1].action_type.value_counts().plot('bar')\n",
    "plt.show()"
   ]
  },
  {
   "cell_type": "code",
   "execution_count": 4,
   "metadata": {},
   "outputs": [
    {
     "data": {
      "text/plain": [
       "(72399, 367149)"
      ]
     },
     "execution_count": 4,
     "metadata": {},
     "output_type": "execute_result"
    }
   ],
   "source": [
    "# 온라인 고객: 72,399명, 고객 및 세션: 367,149개\n",
    "온라인.clnt_id.nunique(), 온라인.unique_id.nunique()"
   ]
  },
  {
   "cell_type": "code",
   "execution_count": 6,
   "metadata": {},
   "outputs": [],
   "source": [
    "# 각 clnt_id별 session이 바뀌는 지점 index 저장\n",
    "idx1 = 온라인.unique_id.drop_duplicates().index.tolist()\n",
    "idx2 = idx1[1:] + [len(온라인)]"
   ]
  },
  {
   "cell_type": "code",
   "execution_count": 7,
   "metadata": {},
   "outputs": [
    {
     "name": "stderr",
     "output_type": "stream",
     "text": [
      "C:\\ProgramData\\Anaconda3\\lib\\site-packages\\ipykernel_launcher.py:3: TqdmDeprecationWarning: This function will be removed in tqdm==5.0.0\n",
      "Please use `tqdm.notebook.tqdm` instead of `tqdm.tqdm_notebook`\n",
      "  This is separate from the ipykernel package so we can avoid doing imports until\n"
     ]
    },
    {
     "data": {
      "application/vnd.jupyter.widget-view+json": {
       "model_id": "02481deca5c145d5b5d9df58a66d772e",
       "version_major": 2,
       "version_minor": 0
      },
      "text/plain": [
       "HBox(children=(FloatProgress(value=0.0, max=367149.0), HTML(value='')))"
      ]
     },
     "metadata": {},
     "output_type": "display_data"
    },
    {
     "name": "stdout",
     "output_type": "stream",
     "text": [
      "\n"
     ]
    }
   ],
   "source": [
    "# session별 체류시간 = 다음 hit_pss_tm - 이전 hit_pss_tm\n",
    "stay_tm = []\n",
    "for i, j in tqdm_notebook(zip(idx1, idx2), total=len(idx1)):\n",
    "    temp = 온라인.iloc[i:j].hit_pss_tm\n",
    "    if len(temp) == 1:\n",
    "        stay_tm.append(temp.tolist())\n",
    "    else:\n",
    "        temp = temp.diff().tolist()[1:]\n",
    "        temp.append(temp[-1]) # 마지막은 해당 hit_pss_tm 값 사용\n",
    "        stay_tm.append(temp)\n",
    "    #stay_tm = stay_tm + 온라인.iloc[i:j].hit_pss_tm.diff().fillna(0).tolist()"
   ]
  },
  {
   "cell_type": "code",
   "execution_count": 8,
   "metadata": {},
   "outputs": [],
   "source": [
    "#stay_tm = sum(stay_tm, []) # 시간 매우 오래걸림\n",
    "온라인['time_length'] = list(itertools.chain.from_iterable(stay_tm))"
   ]
  },
  {
   "cell_type": "code",
   "execution_count": 9,
   "metadata": {},
   "outputs": [],
   "source": [
    "# 밀리초->초 변환\n",
    "온라인['hit_pss_tm'] = np.ceil(온라인['hit_pss_tm']/1000)\n",
    "온라인['time_length'] = np.ceil(온라인['time_length']/1000)"
   ]
  },
  {
   "cell_type": "code",
   "execution_count": 10,
   "metadata": {},
   "outputs": [],
   "source": [
    "# 주말 및 공휴일 여부\n",
    "holiday_diff = []\n",
    "for i in 온라인.sess_dt.map(lambda x: str(x)[-3:]).tolist():\n",
    "    if i in (['706','707','713','714','717','720','721','727','728',\n",
    "               '803','804','810','811','815','817','818','824','825',\n",
    "               '907','908','912','913','914','915','921','922','928','929']):\n",
    "        holiday_diff.append(1)\n",
    "    else:\n",
    "        holiday_diff.append(0)\n",
    "온라인['holiday_diff'] = holiday_diff"
   ]
  },
  {
   "cell_type": "code",
   "execution_count": 11,
   "metadata": {},
   "outputs": [
    {
     "name": "stderr",
     "output_type": "stream",
     "text": [
      "C:\\ProgramData\\Anaconda3\\lib\\site-packages\\ipykernel_launcher.py:4: TqdmDeprecationWarning: This function will be removed in tqdm==5.0.0\n",
      "Please use `tqdm.notebook.tqdm` instead of `tqdm.tqdm_notebook`\n",
      "  after removing the cwd from sys.path.\n"
     ]
    },
    {
     "data": {
      "application/vnd.jupyter.widget-view+json": {
       "model_id": "f59efd0cf6244d7a9a9455f02af3477b",
       "version_major": 2,
       "version_minor": 0
      },
      "text/plain": [
       "HBox(children=(FloatProgress(value=0.0, max=367149.0), HTML(value='')))"
      ]
     },
     "metadata": {},
     "output_type": "display_data"
    },
    {
     "name": "stdout",
     "output_type": "stream",
     "text": [
      "\n"
     ]
    }
   ],
   "source": [
    "# keyword: session별 sech_kwd의 cumulative sum\n",
    "온라인['sech_kwd'] = 온라인.sech_kwd.map(lambda x: 0 if str(x) == 'nan' else 1)\n",
    "keyword = []\n",
    "for i, j in tqdm_notebook(zip(idx1, idx2), total=len(idx1)):\n",
    "    temp = 온라인.iloc[i:j].sech_kwd\n",
    "    keyword.append(np.cumsum(temp.tolist()))\n",
    "온라인['keyword'] = list(itertools.chain.from_iterable(keyword))"
   ]
  },
  {
   "cell_type": "code",
   "execution_count": 12,
   "metadata": {},
   "outputs": [],
   "source": [
    "온라인['sess_dt'] = 온라인['sess_dt'].map(lambda x: str(x)[:-2]) # day제거하고 month(7,8,9월)만 남김\n",
    "온라인['dvc_ctg_nm'].fillna('unknown',inplace=True) # device null값을 unknown으로 대체\n",
    "\n",
    "# dummy variable 생성 - action_type, biz_unit, sess_dt, trfc_src, dvc_ctg_nm\n",
    "온라인 = pd.concat([온라인, pd.get_dummies(온라인[['biz_unit','sess_dt','trfc_src','dvc_ctg_nm']])], axis=1) # sensitivy analysis 위해서 drop_first=False 사용\n",
    "온라인 = pd.concat([온라인, pd.get_dummies(온라인.action_type, prefix='action_type')], axis=1) # drop_fist=False\n",
    "온라인 = 온라인.drop(['action_type','biz_unit','sess_dt','hit_tm','sech_kwd','tot_pag_view_ct', 'tot_sess_hr_v','trfc_src','dvc_ctg_nm'], axis=1)"
   ]
  },
  {
   "cell_type": "code",
   "execution_count": 13,
   "metadata": {},
   "outputs": [],
   "source": [
    "온라인 = 온라인[['clnt_id', 'sess_id', 'trans_id', 'hit_seq', 'hit_pss_tm', 'time_length', 'holiday_diff', 'keyword',\n",
    "                'action_type_0', 'action_type_1', 'action_type_2', 'action_type_3','action_type_4', 'action_type_5', 'action_type_6', 'action_type_7',\n",
    "                'biz_unit_A01', 'biz_unit_A02', 'biz_unit_A03', 'sess_dt_201907', 'sess_dt_201908', 'sess_dt_201909', \n",
    "                'trfc_src_DIRECT', 'trfc_src_PORTAL_1', 'trfc_src_PORTAL_2', 'trfc_src_PORTAL_3', 'trfc_src_PUSH', 'trfc_src_WEBSITE', 'trfc_src_unknown', \n",
    "                'dvc_ctg_nm_PC', 'dvc_ctg_nm_mobile_app','dvc_ctg_nm_mobile_web', 'dvc_ctg_nm_unknown', 'unique_id']]"
   ]
  },
  {
   "cell_type": "code",
   "execution_count": 14,
   "metadata": {},
   "outputs": [
    {
     "name": "stdout",
     "output_type": "stream",
     "text": [
      "(3196362, 32)\n"
     ]
    },
    {
     "data": {
      "text/html": [
       "<div>\n",
       "<style scoped>\n",
       "    .dataframe tbody tr th:only-of-type {\n",
       "        vertical-align: middle;\n",
       "    }\n",
       "\n",
       "    .dataframe tbody tr th {\n",
       "        vertical-align: top;\n",
       "    }\n",
       "\n",
       "    .dataframe thead th {\n",
       "        text-align: right;\n",
       "    }\n",
       "</style>\n",
       "<table border=\"1\" class=\"dataframe\">\n",
       "  <thead>\n",
       "    <tr style=\"text-align: right;\">\n",
       "      <th></th>\n",
       "      <th>clnt_id</th>\n",
       "      <th>sess_id</th>\n",
       "      <th>trans_id</th>\n",
       "      <th>hit_seq</th>\n",
       "      <th>hit_pss_tm</th>\n",
       "      <th>time_length</th>\n",
       "      <th>holiday_diff</th>\n",
       "      <th>keyword</th>\n",
       "      <th>action_type_0</th>\n",
       "      <th>action_type_1</th>\n",
       "      <th>...</th>\n",
       "      <th>trfc_src_PORTAL_3</th>\n",
       "      <th>trfc_src_PUSH</th>\n",
       "      <th>trfc_src_WEBSITE</th>\n",
       "      <th>trfc_src_unknown</th>\n",
       "      <th>dvc_ctg_nm_PC</th>\n",
       "      <th>dvc_ctg_nm_mobile_app</th>\n",
       "      <th>dvc_ctg_nm_mobile_web</th>\n",
       "      <th>dvc_ctg_nm_unknown</th>\n",
       "      <th>unique_id</th>\n",
       "      <th>buy</th>\n",
       "    </tr>\n",
       "  </thead>\n",
       "  <tbody>\n",
       "    <tr>\n",
       "      <th>0</th>\n",
       "      <td>1</td>\n",
       "      <td>1</td>\n",
       "      <td>NaN</td>\n",
       "      <td>1</td>\n",
       "      <td>12.0</td>\n",
       "      <td>11.0</td>\n",
       "      <td>0</td>\n",
       "      <td>1</td>\n",
       "      <td>1</td>\n",
       "      <td>0</td>\n",
       "      <td>...</td>\n",
       "      <td>0</td>\n",
       "      <td>0</td>\n",
       "      <td>0</td>\n",
       "      <td>1</td>\n",
       "      <td>0</td>\n",
       "      <td>1</td>\n",
       "      <td>0</td>\n",
       "      <td>0</td>\n",
       "      <td>1_1</td>\n",
       "      <td>0</td>\n",
       "    </tr>\n",
       "    <tr>\n",
       "      <th>1</th>\n",
       "      <td>1</td>\n",
       "      <td>1</td>\n",
       "      <td>NaN</td>\n",
       "      <td>2</td>\n",
       "      <td>23.0</td>\n",
       "      <td>14.0</td>\n",
       "      <td>0</td>\n",
       "      <td>2</td>\n",
       "      <td>1</td>\n",
       "      <td>0</td>\n",
       "      <td>...</td>\n",
       "      <td>0</td>\n",
       "      <td>0</td>\n",
       "      <td>0</td>\n",
       "      <td>1</td>\n",
       "      <td>0</td>\n",
       "      <td>1</td>\n",
       "      <td>0</td>\n",
       "      <td>0</td>\n",
       "      <td>1_1</td>\n",
       "      <td>0</td>\n",
       "    </tr>\n",
       "    <tr>\n",
       "      <th>2</th>\n",
       "      <td>1</td>\n",
       "      <td>1</td>\n",
       "      <td>NaN</td>\n",
       "      <td>3</td>\n",
       "      <td>37.0</td>\n",
       "      <td>14.0</td>\n",
       "      <td>0</td>\n",
       "      <td>3</td>\n",
       "      <td>1</td>\n",
       "      <td>0</td>\n",
       "      <td>...</td>\n",
       "      <td>0</td>\n",
       "      <td>0</td>\n",
       "      <td>0</td>\n",
       "      <td>1</td>\n",
       "      <td>0</td>\n",
       "      <td>1</td>\n",
       "      <td>0</td>\n",
       "      <td>0</td>\n",
       "      <td>1_1</td>\n",
       "      <td>0</td>\n",
       "    </tr>\n",
       "    <tr>\n",
       "      <th>3</th>\n",
       "      <td>1</td>\n",
       "      <td>2</td>\n",
       "      <td>NaN</td>\n",
       "      <td>1</td>\n",
       "      <td>42.0</td>\n",
       "      <td>15.0</td>\n",
       "      <td>1</td>\n",
       "      <td>1</td>\n",
       "      <td>1</td>\n",
       "      <td>0</td>\n",
       "      <td>...</td>\n",
       "      <td>0</td>\n",
       "      <td>0</td>\n",
       "      <td>0</td>\n",
       "      <td>1</td>\n",
       "      <td>0</td>\n",
       "      <td>1</td>\n",
       "      <td>0</td>\n",
       "      <td>0</td>\n",
       "      <td>1_2</td>\n",
       "      <td>0</td>\n",
       "    </tr>\n",
       "    <tr>\n",
       "      <th>4</th>\n",
       "      <td>1</td>\n",
       "      <td>2</td>\n",
       "      <td>NaN</td>\n",
       "      <td>2</td>\n",
       "      <td>57.0</td>\n",
       "      <td>14.0</td>\n",
       "      <td>1</td>\n",
       "      <td>2</td>\n",
       "      <td>1</td>\n",
       "      <td>0</td>\n",
       "      <td>...</td>\n",
       "      <td>0</td>\n",
       "      <td>0</td>\n",
       "      <td>0</td>\n",
       "      <td>1</td>\n",
       "      <td>0</td>\n",
       "      <td>1</td>\n",
       "      <td>0</td>\n",
       "      <td>0</td>\n",
       "      <td>1_2</td>\n",
       "      <td>0</td>\n",
       "    </tr>\n",
       "  </tbody>\n",
       "</table>\n",
       "<p>5 rows × 32 columns</p>\n",
       "</div>"
      ],
      "text/plain": [
       "   clnt_id  sess_id  trans_id  hit_seq  hit_pss_tm  time_length  holiday_diff  \\\n",
       "0        1        1       NaN        1        12.0         11.0             0   \n",
       "1        1        1       NaN        2        23.0         14.0             0   \n",
       "2        1        1       NaN        3        37.0         14.0             0   \n",
       "3        1        2       NaN        1        42.0         15.0             1   \n",
       "4        1        2       NaN        2        57.0         14.0             1   \n",
       "\n",
       "   keyword  action_type_0  action_type_1  ...  trfc_src_PORTAL_3  \\\n",
       "0        1              1              0  ...                  0   \n",
       "1        2              1              0  ...                  0   \n",
       "2        3              1              0  ...                  0   \n",
       "3        1              1              0  ...                  0   \n",
       "4        2              1              0  ...                  0   \n",
       "\n",
       "   trfc_src_PUSH  trfc_src_WEBSITE  trfc_src_unknown  dvc_ctg_nm_PC  \\\n",
       "0              0                 0                 1              0   \n",
       "1              0                 0                 1              0   \n",
       "2              0                 0                 1              0   \n",
       "3              0                 0                 1              0   \n",
       "4              0                 0                 1              0   \n",
       "\n",
       "   dvc_ctg_nm_mobile_app  dvc_ctg_nm_mobile_web  dvc_ctg_nm_unknown  \\\n",
       "0                      1                      0                   0   \n",
       "1                      1                      0                   0   \n",
       "2                      1                      0                   0   \n",
       "3                      1                      0                   0   \n",
       "4                      1                      0                   0   \n",
       "\n",
       "   unique_id  buy  \n",
       "0        1_1    0  \n",
       "1        1_1    0  \n",
       "2        1_1    0  \n",
       "3        1_2    0  \n",
       "4        1_2    0  \n",
       "\n",
       "[5 rows x 32 columns]"
      ]
     },
     "execution_count": 14,
     "metadata": {},
     "output_type": "execute_result"
    }
   ],
   "source": [
    "# 각 hit_seq 당 action_type이 구매완료=1, 이외=0\n",
    "온라인['buy'] = 온라인['action_type_6']\n",
    "온라인 = 온라인.drop(['action_type_5', 'action_type_6', 'action_type_7'], axis=1)\n",
    "print(온라인.shape)\n",
    "온라인.head()"
   ]
  },
  {
   "cell_type": "code",
   "execution_count": 15,
   "metadata": {},
   "outputs": [
    {
     "data": {
      "text/plain": [
       "Index(['clnt_id', 'sess_id', 'trans_id', 'hit_seq', 'hit_pss_tm',\n",
       "       'time_length', 'holiday_diff', 'keyword', 'action_type_0',\n",
       "       'action_type_1', 'action_type_2', 'action_type_3', 'action_type_4',\n",
       "       'biz_unit_A01', 'biz_unit_A02', 'biz_unit_A03', 'sess_dt_201907',\n",
       "       'sess_dt_201908', 'sess_dt_201909', 'trfc_src_DIRECT',\n",
       "       'trfc_src_PORTAL_1', 'trfc_src_PORTAL_2', 'trfc_src_PORTAL_3',\n",
       "       'trfc_src_PUSH', 'trfc_src_WEBSITE', 'trfc_src_unknown',\n",
       "       'dvc_ctg_nm_PC', 'dvc_ctg_nm_mobile_app', 'dvc_ctg_nm_mobile_web',\n",
       "       'dvc_ctg_nm_unknown', 'unique_id', 'buy'],\n",
       "      dtype='object')"
      ]
     },
     "execution_count": 15,
     "metadata": {},
     "output_type": "execute_result"
    }
   ],
   "source": [
    "온라인.columns"
   ]
  },
  {
   "cell_type": "code",
   "execution_count": 16,
   "metadata": {},
   "outputs": [
    {
     "data": {
      "text/plain": [
       "32"
      ]
     },
     "execution_count": 16,
     "metadata": {},
     "output_type": "execute_result"
    }
   ],
   "source": [
    "len(온라인.columns)"
   ]
  },
  {
   "cell_type": "code",
   "execution_count": 24,
   "metadata": {},
   "outputs": [],
   "source": [
    "# 저장하고 가자\n",
    "온라인.to_csv('온라인_전처리_final_32columns.csv', index=False)"
   ]
  },
  {
   "cell_type": "code",
   "execution_count": 3,
   "metadata": {
    "scrolled": true
   },
   "outputs": [
    {
     "name": "stdout",
     "output_type": "stream",
     "text": [
      "(3196362, 32)\n"
     ]
    },
    {
     "data": {
      "text/html": [
       "<div>\n",
       "<style scoped>\n",
       "    .dataframe tbody tr th:only-of-type {\n",
       "        vertical-align: middle;\n",
       "    }\n",
       "\n",
       "    .dataframe tbody tr th {\n",
       "        vertical-align: top;\n",
       "    }\n",
       "\n",
       "    .dataframe thead th {\n",
       "        text-align: right;\n",
       "    }\n",
       "</style>\n",
       "<table border=\"1\" class=\"dataframe\">\n",
       "  <thead>\n",
       "    <tr style=\"text-align: right;\">\n",
       "      <th></th>\n",
       "      <th>clnt_id</th>\n",
       "      <th>sess_id</th>\n",
       "      <th>trans_id</th>\n",
       "      <th>hit_seq</th>\n",
       "      <th>hit_pss_tm</th>\n",
       "      <th>time_length</th>\n",
       "      <th>holiday_diff</th>\n",
       "      <th>keyword</th>\n",
       "      <th>action_type_0</th>\n",
       "      <th>action_type_1</th>\n",
       "      <th>...</th>\n",
       "      <th>trfc_src_PORTAL_3</th>\n",
       "      <th>trfc_src_PUSH</th>\n",
       "      <th>trfc_src_WEBSITE</th>\n",
       "      <th>trfc_src_unknown</th>\n",
       "      <th>dvc_ctg_nm_PC</th>\n",
       "      <th>dvc_ctg_nm_mobile_app</th>\n",
       "      <th>dvc_ctg_nm_mobile_web</th>\n",
       "      <th>dvc_ctg_nm_unknown</th>\n",
       "      <th>unique_id</th>\n",
       "      <th>buy</th>\n",
       "    </tr>\n",
       "  </thead>\n",
       "  <tbody>\n",
       "    <tr>\n",
       "      <th>0</th>\n",
       "      <td>1</td>\n",
       "      <td>1</td>\n",
       "      <td>NaN</td>\n",
       "      <td>1</td>\n",
       "      <td>12.0</td>\n",
       "      <td>11.0</td>\n",
       "      <td>0</td>\n",
       "      <td>1</td>\n",
       "      <td>1</td>\n",
       "      <td>0</td>\n",
       "      <td>...</td>\n",
       "      <td>0</td>\n",
       "      <td>0</td>\n",
       "      <td>0</td>\n",
       "      <td>1</td>\n",
       "      <td>0</td>\n",
       "      <td>1</td>\n",
       "      <td>0</td>\n",
       "      <td>0</td>\n",
       "      <td>1_1</td>\n",
       "      <td>0</td>\n",
       "    </tr>\n",
       "    <tr>\n",
       "      <th>1</th>\n",
       "      <td>1</td>\n",
       "      <td>1</td>\n",
       "      <td>NaN</td>\n",
       "      <td>2</td>\n",
       "      <td>23.0</td>\n",
       "      <td>14.0</td>\n",
       "      <td>0</td>\n",
       "      <td>2</td>\n",
       "      <td>1</td>\n",
       "      <td>0</td>\n",
       "      <td>...</td>\n",
       "      <td>0</td>\n",
       "      <td>0</td>\n",
       "      <td>0</td>\n",
       "      <td>1</td>\n",
       "      <td>0</td>\n",
       "      <td>1</td>\n",
       "      <td>0</td>\n",
       "      <td>0</td>\n",
       "      <td>1_1</td>\n",
       "      <td>0</td>\n",
       "    </tr>\n",
       "    <tr>\n",
       "      <th>2</th>\n",
       "      <td>1</td>\n",
       "      <td>1</td>\n",
       "      <td>NaN</td>\n",
       "      <td>3</td>\n",
       "      <td>37.0</td>\n",
       "      <td>14.0</td>\n",
       "      <td>0</td>\n",
       "      <td>3</td>\n",
       "      <td>1</td>\n",
       "      <td>0</td>\n",
       "      <td>...</td>\n",
       "      <td>0</td>\n",
       "      <td>0</td>\n",
       "      <td>0</td>\n",
       "      <td>1</td>\n",
       "      <td>0</td>\n",
       "      <td>1</td>\n",
       "      <td>0</td>\n",
       "      <td>0</td>\n",
       "      <td>1_1</td>\n",
       "      <td>0</td>\n",
       "    </tr>\n",
       "    <tr>\n",
       "      <th>3</th>\n",
       "      <td>1</td>\n",
       "      <td>2</td>\n",
       "      <td>NaN</td>\n",
       "      <td>1</td>\n",
       "      <td>42.0</td>\n",
       "      <td>15.0</td>\n",
       "      <td>1</td>\n",
       "      <td>1</td>\n",
       "      <td>1</td>\n",
       "      <td>0</td>\n",
       "      <td>...</td>\n",
       "      <td>0</td>\n",
       "      <td>0</td>\n",
       "      <td>0</td>\n",
       "      <td>1</td>\n",
       "      <td>0</td>\n",
       "      <td>1</td>\n",
       "      <td>0</td>\n",
       "      <td>0</td>\n",
       "      <td>1_2</td>\n",
       "      <td>0</td>\n",
       "    </tr>\n",
       "    <tr>\n",
       "      <th>4</th>\n",
       "      <td>1</td>\n",
       "      <td>2</td>\n",
       "      <td>NaN</td>\n",
       "      <td>2</td>\n",
       "      <td>57.0</td>\n",
       "      <td>14.0</td>\n",
       "      <td>1</td>\n",
       "      <td>2</td>\n",
       "      <td>1</td>\n",
       "      <td>0</td>\n",
       "      <td>...</td>\n",
       "      <td>0</td>\n",
       "      <td>0</td>\n",
       "      <td>0</td>\n",
       "      <td>1</td>\n",
       "      <td>0</td>\n",
       "      <td>1</td>\n",
       "      <td>0</td>\n",
       "      <td>0</td>\n",
       "      <td>1_2</td>\n",
       "      <td>0</td>\n",
       "    </tr>\n",
       "  </tbody>\n",
       "</table>\n",
       "<p>5 rows × 32 columns</p>\n",
       "</div>"
      ],
      "text/plain": [
       "   clnt_id  sess_id  trans_id  hit_seq  hit_pss_tm  time_length  holiday_diff  \\\n",
       "0        1        1       NaN        1        12.0         11.0             0   \n",
       "1        1        1       NaN        2        23.0         14.0             0   \n",
       "2        1        1       NaN        3        37.0         14.0             0   \n",
       "3        1        2       NaN        1        42.0         15.0             1   \n",
       "4        1        2       NaN        2        57.0         14.0             1   \n",
       "\n",
       "   keyword  action_type_0  action_type_1  ...  trfc_src_PORTAL_3  \\\n",
       "0        1              1              0  ...                  0   \n",
       "1        2              1              0  ...                  0   \n",
       "2        3              1              0  ...                  0   \n",
       "3        1              1              0  ...                  0   \n",
       "4        2              1              0  ...                  0   \n",
       "\n",
       "   trfc_src_PUSH  trfc_src_WEBSITE  trfc_src_unknown  dvc_ctg_nm_PC  \\\n",
       "0              0                 0                 1              0   \n",
       "1              0                 0                 1              0   \n",
       "2              0                 0                 1              0   \n",
       "3              0                 0                 1              0   \n",
       "4              0                 0                 1              0   \n",
       "\n",
       "   dvc_ctg_nm_mobile_app  dvc_ctg_nm_mobile_web  dvc_ctg_nm_unknown  \\\n",
       "0                      1                      0                   0   \n",
       "1                      1                      0                   0   \n",
       "2                      1                      0                   0   \n",
       "3                      1                      0                   0   \n",
       "4                      1                      0                   0   \n",
       "\n",
       "   unique_id  buy  \n",
       "0        1_1    0  \n",
       "1        1_1    0  \n",
       "2        1_1    0  \n",
       "3        1_2    0  \n",
       "4        1_2    0  \n",
       "\n",
       "[5 rows x 32 columns]"
      ]
     },
     "execution_count": 3,
     "metadata": {},
     "output_type": "execute_result"
    }
   ],
   "source": [
    "온라인 = pd.read_csv('온라인_전처리_final_32columns.csv')\n",
    "print(온라인.shape)\n",
    "온라인.head()"
   ]
  }
 ],
 "metadata": {
  "kernelspec": {
   "display_name": "Python 3",
   "language": "python",
   "name": "python3"
  },
  "language_info": {
   "codemirror_mode": {
    "name": "ipython",
    "version": 3
   },
   "file_extension": ".py",
   "mimetype": "text/x-python",
   "name": "python",
   "nbconvert_exporter": "python",
   "pygments_lexer": "ipython3",
   "version": "3.7.3"
  }
 },
 "nbformat": 4,
 "nbformat_minor": 2
}
