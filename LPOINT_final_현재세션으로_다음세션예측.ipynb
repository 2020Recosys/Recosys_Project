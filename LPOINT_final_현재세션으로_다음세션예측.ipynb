{
 "cells": [
  {
   "cell_type": "code",
   "execution_count": 11,
   "metadata": {},
   "outputs": [],
   "source": [
    "import pandas as pd\n",
    "import numpy as np\n",
    "import matplotlib.pyplot as plt\n",
    "from tqdm import tqdm_notebook\n",
    "import itertools\n",
    "from sklearn.preprocessing import StandardScaler, MinMaxScaler"
   ]
  },
  {
   "cell_type": "markdown",
   "metadata": {},
   "source": [
    "# <br>\n",
    "# 전처리"
   ]
  },
  {
   "cell_type": "code",
   "execution_count": 12,
   "metadata": {},
   "outputs": [
    {
     "name": "stderr",
     "output_type": "stream",
     "text": [
      "C:\\ProgramData\\Anaconda3\\lib\\site-packages\\IPython\\core\\interactiveshell.py:3051: DtypeWarning: Columns (9) have mixed types. Specify dtype option on import or set low_memory=False.\n",
      "  interactivity=interactivity, compiler=compiler, result=result)\n"
     ]
    },
    {
     "data": {
      "text/plain": [
       "(3196362, 14)"
      ]
     },
     "execution_count": 12,
     "metadata": {},
     "output_type": "execute_result"
    }
   ],
   "source": [
    "온라인 = pd.read_csv('제6회 L.POINT Big Data Competition-분석용데이터-01.온라인 행동 정보.csv', encoding='utf-8')\n",
    "온라인 = 온라인.sort_values(['clnt_id','sess_id','hit_seq']).reset_index(drop=True)\n",
    "온라인.shape"
   ]
  },
  {
   "cell_type": "code",
   "execution_count": 13,
   "metadata": {},
   "outputs": [
    {
     "data": {
      "text/html": [
       "<div>\n",
       "<style scoped>\n",
       "    .dataframe tbody tr th:only-of-type {\n",
       "        vertical-align: middle;\n",
       "    }\n",
       "\n",
       "    .dataframe tbody tr th {\n",
       "        vertical-align: top;\n",
       "    }\n",
       "\n",
       "    .dataframe thead th {\n",
       "        text-align: right;\n",
       "    }\n",
       "</style>\n",
       "<table border=\"1\" class=\"dataframe\">\n",
       "  <thead>\n",
       "    <tr style=\"text-align: right;\">\n",
       "      <th></th>\n",
       "      <th>clnt_id</th>\n",
       "      <th>sess_id</th>\n",
       "      <th>hit_seq</th>\n",
       "      <th>action_type</th>\n",
       "      <th>biz_unit</th>\n",
       "      <th>sess_dt</th>\n",
       "      <th>hit_tm</th>\n",
       "      <th>hit_pss_tm</th>\n",
       "      <th>trans_id</th>\n",
       "      <th>sech_kwd</th>\n",
       "      <th>tot_pag_view_ct</th>\n",
       "      <th>tot_sess_hr_v</th>\n",
       "      <th>trfc_src</th>\n",
       "      <th>dvc_ctg_nm</th>\n",
       "      <th>unique_id</th>\n",
       "    </tr>\n",
       "  </thead>\n",
       "  <tbody>\n",
       "    <tr>\n",
       "      <th>0</th>\n",
       "      <td>1</td>\n",
       "      <td>1</td>\n",
       "      <td>1</td>\n",
       "      <td>0</td>\n",
       "      <td>A01</td>\n",
       "      <td>20190911</td>\n",
       "      <td>16:14</td>\n",
       "      <td>11880</td>\n",
       "      <td>NaN</td>\n",
       "      <td>과일선물세트</td>\n",
       "      <td>14.0</td>\n",
       "      <td>124.0</td>\n",
       "      <td>unknown</td>\n",
       "      <td>mobile_app</td>\n",
       "      <td>1_1</td>\n",
       "    </tr>\n",
       "    <tr>\n",
       "      <th>1</th>\n",
       "      <td>1</td>\n",
       "      <td>1</td>\n",
       "      <td>2</td>\n",
       "      <td>0</td>\n",
       "      <td>A01</td>\n",
       "      <td>20190911</td>\n",
       "      <td>16:15</td>\n",
       "      <td>22432</td>\n",
       "      <td>NaN</td>\n",
       "      <td>과일선물세트 백화점</td>\n",
       "      <td>14.0</td>\n",
       "      <td>124.0</td>\n",
       "      <td>unknown</td>\n",
       "      <td>mobile_app</td>\n",
       "      <td>1_1</td>\n",
       "    </tr>\n",
       "    <tr>\n",
       "      <th>2</th>\n",
       "      <td>1</td>\n",
       "      <td>1</td>\n",
       "      <td>3</td>\n",
       "      <td>0</td>\n",
       "      <td>A01</td>\n",
       "      <td>20190911</td>\n",
       "      <td>16:15</td>\n",
       "      <td>36140</td>\n",
       "      <td>NaN</td>\n",
       "      <td>과일바구니</td>\n",
       "      <td>14.0</td>\n",
       "      <td>124.0</td>\n",
       "      <td>unknown</td>\n",
       "      <td>mobile_app</td>\n",
       "      <td>1_1</td>\n",
       "    </tr>\n",
       "    <tr>\n",
       "      <th>3</th>\n",
       "      <td>1</td>\n",
       "      <td>2</td>\n",
       "      <td>1</td>\n",
       "      <td>0</td>\n",
       "      <td>A01</td>\n",
       "      <td>20190922</td>\n",
       "      <td>14:09</td>\n",
       "      <td>41584</td>\n",
       "      <td>NaN</td>\n",
       "      <td>초등가을잠바</td>\n",
       "      <td>45.0</td>\n",
       "      <td>424.0</td>\n",
       "      <td>unknown</td>\n",
       "      <td>mobile_app</td>\n",
       "      <td>1_2</td>\n",
       "    </tr>\n",
       "    <tr>\n",
       "      <th>4</th>\n",
       "      <td>1</td>\n",
       "      <td>2</td>\n",
       "      <td>2</td>\n",
       "      <td>0</td>\n",
       "      <td>A01</td>\n",
       "      <td>20190922</td>\n",
       "      <td>14:10</td>\n",
       "      <td>56113</td>\n",
       "      <td>NaN</td>\n",
       "      <td>초등가을점퍼</td>\n",
       "      <td>45.0</td>\n",
       "      <td>424.0</td>\n",
       "      <td>unknown</td>\n",
       "      <td>mobile_app</td>\n",
       "      <td>1_2</td>\n",
       "    </tr>\n",
       "  </tbody>\n",
       "</table>\n",
       "</div>"
      ],
      "text/plain": [
       "   clnt_id  sess_id  hit_seq  action_type biz_unit   sess_dt hit_tm  \\\n",
       "0        1        1        1            0      A01  20190911  16:14   \n",
       "1        1        1        2            0      A01  20190911  16:15   \n",
       "2        1        1        3            0      A01  20190911  16:15   \n",
       "3        1        2        1            0      A01  20190922  14:09   \n",
       "4        1        2        2            0      A01  20190922  14:10   \n",
       "\n",
       "   hit_pss_tm  trans_id    sech_kwd  tot_pag_view_ct  tot_sess_hr_v trfc_src  \\\n",
       "0       11880       NaN      과일선물세트             14.0          124.0  unknown   \n",
       "1       22432       NaN  과일선물세트 백화점             14.0          124.0  unknown   \n",
       "2       36140       NaN       과일바구니             14.0          124.0  unknown   \n",
       "3       41584       NaN      초등가을잠바             45.0          424.0  unknown   \n",
       "4       56113       NaN      초등가을점퍼             45.0          424.0  unknown   \n",
       "\n",
       "   dvc_ctg_nm unique_id  \n",
       "0  mobile_app       1_1  \n",
       "1  mobile_app       1_1  \n",
       "2  mobile_app       1_1  \n",
       "3  mobile_app       1_2  \n",
       "4  mobile_app       1_2  "
      ]
     },
     "execution_count": 13,
     "metadata": {},
     "output_type": "execute_result"
    }
   ],
   "source": [
    "온라인['unique_id'] = list(map(lambda x,y: str(x)+'_'+str(y), 온라인.clnt_id, 온라인.sess_id))\n",
    "온라인.head()"
   ]
  },
  {
   "cell_type": "code",
   "execution_count": 14,
   "metadata": {},
   "outputs": [
    {
     "data": {
      "text/plain": [
       "(72399, 367149)"
      ]
     },
     "execution_count": 14,
     "metadata": {},
     "output_type": "execute_result"
    }
   ],
   "source": [
    "# 온라인 고객: 72,399명, 고객 및 세션: 367,149개\n",
    "온라인.clnt_id.nunique(), 온라인.unique_id.nunique()"
   ]
  },
  {
   "cell_type": "code",
   "execution_count": 15,
   "metadata": {},
   "outputs": [],
   "source": [
    "# 각 clnt_id별 session이 바뀌는 지점 index 저장\n",
    "idx1 = 온라인.unique_id.drop_duplicates().index.tolist()\n",
    "idx2 = idx1[1:] + [len(온라인)]"
   ]
  },
  {
   "cell_type": "code",
   "execution_count": 16,
   "metadata": {},
   "outputs": [
    {
     "name": "stderr",
     "output_type": "stream",
     "text": [
      "C:\\ProgramData\\Anaconda3\\lib\\site-packages\\ipykernel_launcher.py:3: TqdmDeprecationWarning: This function will be removed in tqdm==5.0.0\n",
      "Please use `tqdm.notebook.tqdm` instead of `tqdm.tqdm_notebook`\n",
      "  This is separate from the ipykernel package so we can avoid doing imports until\n"
     ]
    },
    {
     "data": {
      "application/vnd.jupyter.widget-view+json": {
       "model_id": "406c76295b4c4eae93b1f24ba8929de6",
       "version_major": 2,
       "version_minor": 0
      },
      "text/plain": [
       "HBox(children=(FloatProgress(value=0.0, max=367149.0), HTML(value='')))"
      ]
     },
     "metadata": {},
     "output_type": "display_data"
    },
    {
     "name": "stdout",
     "output_type": "stream",
     "text": [
      "\n"
     ]
    }
   ],
   "source": [
    "# session별 체류시간 = 다음 hit_pss_tm - 이전 hit_pss_tm\n",
    "stay_tm = []\n",
    "for i, j in tqdm_notebook(zip(idx1, idx2), total=len(idx1)):\n",
    "    temp = 온라인.iloc[i:j].hit_pss_tm\n",
    "    if len(temp) == 1:\n",
    "        stay_tm.append(temp.tolist())\n",
    "    else:\n",
    "        temp = temp.diff().tolist()[1:]\n",
    "        temp.append(temp[-1]) # 마지막은 해당 hit_pss_tm 값 사용\n",
    "        stay_tm.append(temp)\n",
    "    #stay_tm = stay_tm + 온라인.iloc[i:j].hit_pss_tm.diff().fillna(0).tolist()"
   ]
  },
  {
   "cell_type": "code",
   "execution_count": 17,
   "metadata": {},
   "outputs": [],
   "source": [
    "#stay_tm = sum(stay_tm, []) # 시간 매우 오래걸림\n",
    "온라인['time_length'] = list(itertools.chain.from_iterable(stay_tm))"
   ]
  },
  {
   "cell_type": "code",
   "execution_count": 18,
   "metadata": {},
   "outputs": [],
   "source": [
    "# 밀리초->초 변환\n",
    "온라인['hit_pss_tm'] = np.ceil(온라인['hit_pss_tm']/1000)\n",
    "온라인['time_length'] = np.ceil(온라인['time_length']/1000)"
   ]
  },
  {
   "cell_type": "code",
   "execution_count": 19,
   "metadata": {},
   "outputs": [],
   "source": [
    "# 주말 및 공휴일 여부\n",
    "holiday_diff = []\n",
    "for i in 온라인.sess_dt.map(lambda x: str(x)[-3:]).tolist():\n",
    "    if i in (['706','707','713','714','717','720','721','727','728',\n",
    "               '803','804','810','811','815','817','818','824','825',\n",
    "               '907','908','912','913','914','915','921','922','928','929']):\n",
    "        holiday_diff.append(1)\n",
    "    else:\n",
    "        holiday_diff.append(0)\n",
    "온라인['holiday_diff'] = holiday_diff"
   ]
  },
  {
   "cell_type": "code",
   "execution_count": 20,
   "metadata": {},
   "outputs": [
    {
     "name": "stderr",
     "output_type": "stream",
     "text": [
      "C:\\ProgramData\\Anaconda3\\lib\\site-packages\\ipykernel_launcher.py:4: TqdmDeprecationWarning: This function will be removed in tqdm==5.0.0\n",
      "Please use `tqdm.notebook.tqdm` instead of `tqdm.tqdm_notebook`\n",
      "  after removing the cwd from sys.path.\n"
     ]
    },
    {
     "data": {
      "application/vnd.jupyter.widget-view+json": {
       "model_id": "91aa13c9e796458b8383e8009c6d4961",
       "version_major": 2,
       "version_minor": 0
      },
      "text/plain": [
       "HBox(children=(FloatProgress(value=0.0, max=367149.0), HTML(value='')))"
      ]
     },
     "metadata": {},
     "output_type": "display_data"
    },
    {
     "name": "stdout",
     "output_type": "stream",
     "text": [
      "\n"
     ]
    }
   ],
   "source": [
    "# keyword: session별 sech_kwd의 cumulative sum\n",
    "온라인['sech_kwd'] = 온라인.sech_kwd.map(lambda x: 0 if str(x) == 'nan' else 1)\n",
    "keyword = []\n",
    "for i, j in tqdm_notebook(zip(idx1, idx2), total=len(idx1)):\n",
    "    temp = 온라인.iloc[i:j].sech_kwd\n",
    "    keyword.append(np.cumsum(temp.tolist()))\n",
    "온라인['keyword'] = list(itertools.chain.from_iterable(keyword))"
   ]
  },
  {
   "cell_type": "code",
   "execution_count": 21,
   "metadata": {},
   "outputs": [],
   "source": [
    "온라인['sess_dt'] = 온라인['sess_dt'].map(lambda x: str(x)[:-2]) # day제거하고 month(7,8,9월)만 남김\n",
    "온라인['dvc_ctg_nm'].fillna('unknown',inplace=True) # device null값을 unknown으로 대체\n",
    "\n",
    "# dummy variable 생성 - action_type, biz_unit, sess_dt, trfc_src, dvc_ctg_nm\n",
    "온라인 = pd.concat([온라인, pd.get_dummies(온라인[['biz_unit','sess_dt','trfc_src','dvc_ctg_nm']], drop_first=True)], axis=1)\n",
    "온라인 = pd.concat([온라인, pd.get_dummies(온라인.action_type, drop_first=True, prefix='action_type')], axis=1)\n",
    "온라인 = 온라인.drop(['action_type','biz_unit','sess_dt','hit_tm','sech_kwd','tot_pag_view_ct', 'tot_sess_hr_v','trfc_src','dvc_ctg_nm'], axis=1)"
   ]
  },
  {
   "cell_type": "code",
   "execution_count": 22,
   "metadata": {},
   "outputs": [
    {
     "name": "stdout",
     "output_type": "stream",
     "text": [
      "(3196362, 29)\n"
     ]
    },
    {
     "data": {
      "text/html": [
       "<div>\n",
       "<style scoped>\n",
       "    .dataframe tbody tr th:only-of-type {\n",
       "        vertical-align: middle;\n",
       "    }\n",
       "\n",
       "    .dataframe tbody tr th {\n",
       "        vertical-align: top;\n",
       "    }\n",
       "\n",
       "    .dataframe thead th {\n",
       "        text-align: right;\n",
       "    }\n",
       "</style>\n",
       "<table border=\"1\" class=\"dataframe\">\n",
       "  <thead>\n",
       "    <tr style=\"text-align: right;\">\n",
       "      <th></th>\n",
       "      <th>clnt_id</th>\n",
       "      <th>sess_id</th>\n",
       "      <th>trans_id</th>\n",
       "      <th>hit_seq</th>\n",
       "      <th>hit_pss_tm</th>\n",
       "      <th>time_length</th>\n",
       "      <th>holiday_diff</th>\n",
       "      <th>keyword</th>\n",
       "      <th>action_type_1</th>\n",
       "      <th>action_type_2</th>\n",
       "      <th>...</th>\n",
       "      <th>trfc_src_PORTAL_1</th>\n",
       "      <th>trfc_src_PORTAL_2</th>\n",
       "      <th>trfc_src_PORTAL_3</th>\n",
       "      <th>trfc_src_PUSH</th>\n",
       "      <th>trfc_src_WEBSITE</th>\n",
       "      <th>trfc_src_unknown</th>\n",
       "      <th>dvc_ctg_nm_mobile_app</th>\n",
       "      <th>dvc_ctg_nm_mobile_web</th>\n",
       "      <th>dvc_ctg_nm_unknown</th>\n",
       "      <th>unique_id</th>\n",
       "    </tr>\n",
       "  </thead>\n",
       "  <tbody>\n",
       "    <tr>\n",
       "      <th>0</th>\n",
       "      <td>1</td>\n",
       "      <td>1</td>\n",
       "      <td>NaN</td>\n",
       "      <td>1</td>\n",
       "      <td>12.0</td>\n",
       "      <td>11.0</td>\n",
       "      <td>0</td>\n",
       "      <td>1</td>\n",
       "      <td>0</td>\n",
       "      <td>0</td>\n",
       "      <td>...</td>\n",
       "      <td>0</td>\n",
       "      <td>0</td>\n",
       "      <td>0</td>\n",
       "      <td>0</td>\n",
       "      <td>0</td>\n",
       "      <td>1</td>\n",
       "      <td>1</td>\n",
       "      <td>0</td>\n",
       "      <td>0</td>\n",
       "      <td>1_1</td>\n",
       "    </tr>\n",
       "    <tr>\n",
       "      <th>1</th>\n",
       "      <td>1</td>\n",
       "      <td>1</td>\n",
       "      <td>NaN</td>\n",
       "      <td>2</td>\n",
       "      <td>23.0</td>\n",
       "      <td>14.0</td>\n",
       "      <td>0</td>\n",
       "      <td>2</td>\n",
       "      <td>0</td>\n",
       "      <td>0</td>\n",
       "      <td>...</td>\n",
       "      <td>0</td>\n",
       "      <td>0</td>\n",
       "      <td>0</td>\n",
       "      <td>0</td>\n",
       "      <td>0</td>\n",
       "      <td>1</td>\n",
       "      <td>1</td>\n",
       "      <td>0</td>\n",
       "      <td>0</td>\n",
       "      <td>1_1</td>\n",
       "    </tr>\n",
       "    <tr>\n",
       "      <th>2</th>\n",
       "      <td>1</td>\n",
       "      <td>1</td>\n",
       "      <td>NaN</td>\n",
       "      <td>3</td>\n",
       "      <td>37.0</td>\n",
       "      <td>14.0</td>\n",
       "      <td>0</td>\n",
       "      <td>3</td>\n",
       "      <td>0</td>\n",
       "      <td>0</td>\n",
       "      <td>...</td>\n",
       "      <td>0</td>\n",
       "      <td>0</td>\n",
       "      <td>0</td>\n",
       "      <td>0</td>\n",
       "      <td>0</td>\n",
       "      <td>1</td>\n",
       "      <td>1</td>\n",
       "      <td>0</td>\n",
       "      <td>0</td>\n",
       "      <td>1_1</td>\n",
       "    </tr>\n",
       "    <tr>\n",
       "      <th>3</th>\n",
       "      <td>1</td>\n",
       "      <td>2</td>\n",
       "      <td>NaN</td>\n",
       "      <td>1</td>\n",
       "      <td>42.0</td>\n",
       "      <td>15.0</td>\n",
       "      <td>1</td>\n",
       "      <td>1</td>\n",
       "      <td>0</td>\n",
       "      <td>0</td>\n",
       "      <td>...</td>\n",
       "      <td>0</td>\n",
       "      <td>0</td>\n",
       "      <td>0</td>\n",
       "      <td>0</td>\n",
       "      <td>0</td>\n",
       "      <td>1</td>\n",
       "      <td>1</td>\n",
       "      <td>0</td>\n",
       "      <td>0</td>\n",
       "      <td>1_2</td>\n",
       "    </tr>\n",
       "    <tr>\n",
       "      <th>4</th>\n",
       "      <td>1</td>\n",
       "      <td>2</td>\n",
       "      <td>NaN</td>\n",
       "      <td>2</td>\n",
       "      <td>57.0</td>\n",
       "      <td>14.0</td>\n",
       "      <td>1</td>\n",
       "      <td>2</td>\n",
       "      <td>0</td>\n",
       "      <td>0</td>\n",
       "      <td>...</td>\n",
       "      <td>0</td>\n",
       "      <td>0</td>\n",
       "      <td>0</td>\n",
       "      <td>0</td>\n",
       "      <td>0</td>\n",
       "      <td>1</td>\n",
       "      <td>1</td>\n",
       "      <td>0</td>\n",
       "      <td>0</td>\n",
       "      <td>1_2</td>\n",
       "    </tr>\n",
       "  </tbody>\n",
       "</table>\n",
       "<p>5 rows × 29 columns</p>\n",
       "</div>"
      ],
      "text/plain": [
       "   clnt_id  sess_id  trans_id  hit_seq  hit_pss_tm  time_length  holiday_diff  \\\n",
       "0        1        1       NaN        1        12.0         11.0             0   \n",
       "1        1        1       NaN        2        23.0         14.0             0   \n",
       "2        1        1       NaN        3        37.0         14.0             0   \n",
       "3        1        2       NaN        1        42.0         15.0             1   \n",
       "4        1        2       NaN        2        57.0         14.0             1   \n",
       "\n",
       "   keyword  action_type_1  action_type_2  ...  trfc_src_PORTAL_1  \\\n",
       "0        1              0              0  ...                  0   \n",
       "1        2              0              0  ...                  0   \n",
       "2        3              0              0  ...                  0   \n",
       "3        1              0              0  ...                  0   \n",
       "4        2              0              0  ...                  0   \n",
       "\n",
       "   trfc_src_PORTAL_2  trfc_src_PORTAL_3  trfc_src_PUSH  trfc_src_WEBSITE  \\\n",
       "0                  0                  0              0                 0   \n",
       "1                  0                  0              0                 0   \n",
       "2                  0                  0              0                 0   \n",
       "3                  0                  0              0                 0   \n",
       "4                  0                  0              0                 0   \n",
       "\n",
       "   trfc_src_unknown  dvc_ctg_nm_mobile_app  dvc_ctg_nm_mobile_web  \\\n",
       "0                 1                      1                      0   \n",
       "1                 1                      1                      0   \n",
       "2                 1                      1                      0   \n",
       "3                 1                      1                      0   \n",
       "4                 1                      1                      0   \n",
       "\n",
       "   dvc_ctg_nm_unknown  unique_id  \n",
       "0                   0        1_1  \n",
       "1                   0        1_1  \n",
       "2                   0        1_1  \n",
       "3                   0        1_2  \n",
       "4                   0        1_2  \n",
       "\n",
       "[5 rows x 29 columns]"
      ]
     },
     "execution_count": 22,
     "metadata": {},
     "output_type": "execute_result"
    }
   ],
   "source": [
    "온라인 = 온라인[['clnt_id', 'sess_id', 'trans_id', 'hit_seq', 'hit_pss_tm', 'time_length', 'holiday_diff', 'keyword',\n",
    "                'action_type_1', 'action_type_2', 'action_type_3','action_type_4', 'action_type_5', 'action_type_6', 'action_type_7',\n",
    "                'biz_unit_A02', 'biz_unit_A03', 'sess_dt_201908', 'sess_dt_201909', \n",
    "                'trfc_src_PORTAL_1', 'trfc_src_PORTAL_2', 'trfc_src_PORTAL_3', 'trfc_src_PUSH', 'trfc_src_WEBSITE', 'trfc_src_unknown', \n",
    "                'dvc_ctg_nm_mobile_app','dvc_ctg_nm_mobile_web', 'dvc_ctg_nm_unknown', 'unique_id']]\n",
    "print(온라인.shape)\n",
    "온라인.head()"
   ]
  },
  {
   "cell_type": "code",
   "execution_count": 23,
   "metadata": {},
   "outputs": [],
   "source": [
    "# 저장하고 가자\n",
    "온라인.to_csv('온라인_전처리_final.csv', index=False)"
   ]
  },
  {
   "cell_type": "code",
   "execution_count": 24,
   "metadata": {},
   "outputs": [
    {
     "name": "stdout",
     "output_type": "stream",
     "text": [
      "(3196362, 29)\n"
     ]
    },
    {
     "data": {
      "text/html": [
       "<div>\n",
       "<style scoped>\n",
       "    .dataframe tbody tr th:only-of-type {\n",
       "        vertical-align: middle;\n",
       "    }\n",
       "\n",
       "    .dataframe tbody tr th {\n",
       "        vertical-align: top;\n",
       "    }\n",
       "\n",
       "    .dataframe thead th {\n",
       "        text-align: right;\n",
       "    }\n",
       "</style>\n",
       "<table border=\"1\" class=\"dataframe\">\n",
       "  <thead>\n",
       "    <tr style=\"text-align: right;\">\n",
       "      <th></th>\n",
       "      <th>clnt_id</th>\n",
       "      <th>sess_id</th>\n",
       "      <th>trans_id</th>\n",
       "      <th>hit_seq</th>\n",
       "      <th>hit_pss_tm</th>\n",
       "      <th>time_length</th>\n",
       "      <th>holiday_diff</th>\n",
       "      <th>keyword</th>\n",
       "      <th>action_type_1</th>\n",
       "      <th>action_type_2</th>\n",
       "      <th>...</th>\n",
       "      <th>trfc_src_PORTAL_2</th>\n",
       "      <th>trfc_src_PORTAL_3</th>\n",
       "      <th>trfc_src_PUSH</th>\n",
       "      <th>trfc_src_WEBSITE</th>\n",
       "      <th>trfc_src_unknown</th>\n",
       "      <th>dvc_ctg_nm_mobile_app</th>\n",
       "      <th>dvc_ctg_nm_mobile_web</th>\n",
       "      <th>dvc_ctg_nm_unknown</th>\n",
       "      <th>unique_id</th>\n",
       "      <th>buy</th>\n",
       "    </tr>\n",
       "  </thead>\n",
       "  <tbody>\n",
       "    <tr>\n",
       "      <th>0</th>\n",
       "      <td>1</td>\n",
       "      <td>1</td>\n",
       "      <td>NaN</td>\n",
       "      <td>1</td>\n",
       "      <td>12.0</td>\n",
       "      <td>11.0</td>\n",
       "      <td>0</td>\n",
       "      <td>1</td>\n",
       "      <td>0</td>\n",
       "      <td>0</td>\n",
       "      <td>...</td>\n",
       "      <td>0</td>\n",
       "      <td>0</td>\n",
       "      <td>0</td>\n",
       "      <td>0</td>\n",
       "      <td>1</td>\n",
       "      <td>1</td>\n",
       "      <td>0</td>\n",
       "      <td>0</td>\n",
       "      <td>1_1</td>\n",
       "      <td>0</td>\n",
       "    </tr>\n",
       "    <tr>\n",
       "      <th>1</th>\n",
       "      <td>1</td>\n",
       "      <td>1</td>\n",
       "      <td>NaN</td>\n",
       "      <td>2</td>\n",
       "      <td>23.0</td>\n",
       "      <td>14.0</td>\n",
       "      <td>0</td>\n",
       "      <td>2</td>\n",
       "      <td>0</td>\n",
       "      <td>0</td>\n",
       "      <td>...</td>\n",
       "      <td>0</td>\n",
       "      <td>0</td>\n",
       "      <td>0</td>\n",
       "      <td>0</td>\n",
       "      <td>1</td>\n",
       "      <td>1</td>\n",
       "      <td>0</td>\n",
       "      <td>0</td>\n",
       "      <td>1_1</td>\n",
       "      <td>0</td>\n",
       "    </tr>\n",
       "    <tr>\n",
       "      <th>2</th>\n",
       "      <td>1</td>\n",
       "      <td>1</td>\n",
       "      <td>NaN</td>\n",
       "      <td>3</td>\n",
       "      <td>37.0</td>\n",
       "      <td>14.0</td>\n",
       "      <td>0</td>\n",
       "      <td>3</td>\n",
       "      <td>0</td>\n",
       "      <td>0</td>\n",
       "      <td>...</td>\n",
       "      <td>0</td>\n",
       "      <td>0</td>\n",
       "      <td>0</td>\n",
       "      <td>0</td>\n",
       "      <td>1</td>\n",
       "      <td>1</td>\n",
       "      <td>0</td>\n",
       "      <td>0</td>\n",
       "      <td>1_1</td>\n",
       "      <td>0</td>\n",
       "    </tr>\n",
       "    <tr>\n",
       "      <th>3</th>\n",
       "      <td>1</td>\n",
       "      <td>2</td>\n",
       "      <td>NaN</td>\n",
       "      <td>1</td>\n",
       "      <td>42.0</td>\n",
       "      <td>15.0</td>\n",
       "      <td>1</td>\n",
       "      <td>1</td>\n",
       "      <td>0</td>\n",
       "      <td>0</td>\n",
       "      <td>...</td>\n",
       "      <td>0</td>\n",
       "      <td>0</td>\n",
       "      <td>0</td>\n",
       "      <td>0</td>\n",
       "      <td>1</td>\n",
       "      <td>1</td>\n",
       "      <td>0</td>\n",
       "      <td>0</td>\n",
       "      <td>1_2</td>\n",
       "      <td>0</td>\n",
       "    </tr>\n",
       "    <tr>\n",
       "      <th>4</th>\n",
       "      <td>1</td>\n",
       "      <td>2</td>\n",
       "      <td>NaN</td>\n",
       "      <td>2</td>\n",
       "      <td>57.0</td>\n",
       "      <td>14.0</td>\n",
       "      <td>1</td>\n",
       "      <td>2</td>\n",
       "      <td>0</td>\n",
       "      <td>0</td>\n",
       "      <td>...</td>\n",
       "      <td>0</td>\n",
       "      <td>0</td>\n",
       "      <td>0</td>\n",
       "      <td>0</td>\n",
       "      <td>1</td>\n",
       "      <td>1</td>\n",
       "      <td>0</td>\n",
       "      <td>0</td>\n",
       "      <td>1_2</td>\n",
       "      <td>0</td>\n",
       "    </tr>\n",
       "  </tbody>\n",
       "</table>\n",
       "<p>5 rows × 29 columns</p>\n",
       "</div>"
      ],
      "text/plain": [
       "   clnt_id  sess_id  trans_id  hit_seq  hit_pss_tm  time_length  holiday_diff  \\\n",
       "0        1        1       NaN        1        12.0         11.0             0   \n",
       "1        1        1       NaN        2        23.0         14.0             0   \n",
       "2        1        1       NaN        3        37.0         14.0             0   \n",
       "3        1        2       NaN        1        42.0         15.0             1   \n",
       "4        1        2       NaN        2        57.0         14.0             1   \n",
       "\n",
       "   keyword  action_type_1  action_type_2  ...  trfc_src_PORTAL_2  \\\n",
       "0        1              0              0  ...                  0   \n",
       "1        2              0              0  ...                  0   \n",
       "2        3              0              0  ...                  0   \n",
       "3        1              0              0  ...                  0   \n",
       "4        2              0              0  ...                  0   \n",
       "\n",
       "   trfc_src_PORTAL_3  trfc_src_PUSH  trfc_src_WEBSITE  trfc_src_unknown  \\\n",
       "0                  0              0                 0                 1   \n",
       "1                  0              0                 0                 1   \n",
       "2                  0              0                 0                 1   \n",
       "3                  0              0                 0                 1   \n",
       "4                  0              0                 0                 1   \n",
       "\n",
       "   dvc_ctg_nm_mobile_app  dvc_ctg_nm_mobile_web  dvc_ctg_nm_unknown  \\\n",
       "0                      1                      0                   0   \n",
       "1                      1                      0                   0   \n",
       "2                      1                      0                   0   \n",
       "3                      1                      0                   0   \n",
       "4                      1                      0                   0   \n",
       "\n",
       "   unique_id  buy  \n",
       "0        1_1    0  \n",
       "1        1_1    0  \n",
       "2        1_1    0  \n",
       "3        1_2    0  \n",
       "4        1_2    0  \n",
       "\n",
       "[5 rows x 29 columns]"
      ]
     },
     "execution_count": 24,
     "metadata": {},
     "output_type": "execute_result"
    }
   ],
   "source": [
    "# 각 hit_seq 당 action_type이 구매완료=1, 이외=0\n",
    "온라인['buy'] = 온라인['action_type_6']\n",
    "온라인 = 온라인.drop('action_type_6', axis=1)\n",
    "print(온라인.shape)\n",
    "온라인.head()"
   ]
  },
  {
   "cell_type": "code",
   "execution_count": 25,
   "metadata": {},
   "outputs": [
    {
     "data": {
      "text/plain": [
       "0.01759781902049893"
      ]
     },
     "execution_count": 25,
     "metadata": {},
     "output_type": "execute_result"
    }
   ],
   "source": [
    "#구매 세션의 비율\n",
    "온라인['buy'].value_counts()[1]/(온라인['buy'].value_counts()[0]+온라인['buy'].value_counts()[1])"
   ]
  },
  {
   "cell_type": "code",
   "execution_count": 26,
   "metadata": {},
   "outputs": [],
   "source": [
    "#다음 세션의 구매를 예측하기 위한 종속변수 생성\n",
    "구매여부 = 온라인[['clnt_id', 'sess_id', 'buy']].groupby(['clnt_id', 'sess_id']).sum()\n",
    "구매여부.buy = 구매여부.buy.apply(lambda x:0 if x == 0 else 1)\n",
    "구매여부 = 구매여부.sort_index()\n",
    "구매여부 = 구매여부.reset_index()\n",
    "g = 구매여부.groupby('clnt_id')"
   ]
  },
  {
   "cell_type": "code",
   "execution_count": 27,
   "metadata": {},
   "outputs": [
    {
     "data": {
      "text/html": [
       "<div>\n",
       "<style scoped>\n",
       "    .dataframe tbody tr th:only-of-type {\n",
       "        vertical-align: middle;\n",
       "    }\n",
       "\n",
       "    .dataframe tbody tr th {\n",
       "        vertical-align: top;\n",
       "    }\n",
       "\n",
       "    .dataframe thead th {\n",
       "        text-align: right;\n",
       "    }\n",
       "</style>\n",
       "<table border=\"1\" class=\"dataframe\">\n",
       "  <thead>\n",
       "    <tr style=\"text-align: right;\">\n",
       "      <th></th>\n",
       "      <th>clnt_id</th>\n",
       "      <th>sess_id</th>\n",
       "      <th>buy</th>\n",
       "    </tr>\n",
       "  </thead>\n",
       "  <tbody>\n",
       "    <tr>\n",
       "      <th>0</th>\n",
       "      <td>1</td>\n",
       "      <td>1</td>\n",
       "      <td>0</td>\n",
       "    </tr>\n",
       "    <tr>\n",
       "      <th>1</th>\n",
       "      <td>1</td>\n",
       "      <td>2</td>\n",
       "      <td>0</td>\n",
       "    </tr>\n",
       "    <tr>\n",
       "      <th>2</th>\n",
       "      <td>2</td>\n",
       "      <td>1</td>\n",
       "      <td>1</td>\n",
       "    </tr>\n",
       "    <tr>\n",
       "      <th>3</th>\n",
       "      <td>2</td>\n",
       "      <td>2</td>\n",
       "      <td>0</td>\n",
       "    </tr>\n",
       "    <tr>\n",
       "      <th>4</th>\n",
       "      <td>2</td>\n",
       "      <td>3</td>\n",
       "      <td>0</td>\n",
       "    </tr>\n",
       "    <tr>\n",
       "      <th>...</th>\n",
       "      <td>...</td>\n",
       "      <td>...</td>\n",
       "      <td>...</td>\n",
       "    </tr>\n",
       "    <tr>\n",
       "      <th>367144</th>\n",
       "      <td>72428</td>\n",
       "      <td>2</td>\n",
       "      <td>0</td>\n",
       "    </tr>\n",
       "    <tr>\n",
       "      <th>367145</th>\n",
       "      <td>72428</td>\n",
       "      <td>3</td>\n",
       "      <td>0</td>\n",
       "    </tr>\n",
       "    <tr>\n",
       "      <th>367146</th>\n",
       "      <td>72428</td>\n",
       "      <td>4</td>\n",
       "      <td>0</td>\n",
       "    </tr>\n",
       "    <tr>\n",
       "      <th>367147</th>\n",
       "      <td>72428</td>\n",
       "      <td>5</td>\n",
       "      <td>0</td>\n",
       "    </tr>\n",
       "    <tr>\n",
       "      <th>367148</th>\n",
       "      <td>72429</td>\n",
       "      <td>1</td>\n",
       "      <td>0</td>\n",
       "    </tr>\n",
       "  </tbody>\n",
       "</table>\n",
       "<p>367149 rows × 3 columns</p>\n",
       "</div>"
      ],
      "text/plain": [
       "        clnt_id  sess_id  buy\n",
       "0             1        1    0\n",
       "1             1        2    0\n",
       "2             2        1    1\n",
       "3             2        2    0\n",
       "4             2        3    0\n",
       "...         ...      ...  ...\n",
       "367144    72428        2    0\n",
       "367145    72428        3    0\n",
       "367146    72428        4    0\n",
       "367147    72428        5    0\n",
       "367148    72429        1    0\n",
       "\n",
       "[367149 rows x 3 columns]"
      ]
     },
     "execution_count": 27,
     "metadata": {},
     "output_type": "execute_result"
    }
   ],
   "source": [
    "구매여부"
   ]
  },
  {
   "cell_type": "code",
   "execution_count": 28,
   "metadata": {},
   "outputs": [
    {
     "data": {
      "text/plain": [
       "array([    1,     2,     3, ..., 72427, 72428, 72429], dtype=int64)"
      ]
     },
     "execution_count": 28,
     "metadata": {},
     "output_type": "execute_result"
    }
   ],
   "source": [
    "구매여부['clnt_id'].unique()"
   ]
  },
  {
   "cell_type": "code",
   "execution_count": 29,
   "metadata": {},
   "outputs": [
    {
     "name": "stderr",
     "output_type": "stream",
     "text": [
      "C:\\ProgramData\\Anaconda3\\lib\\site-packages\\ipykernel_launcher.py:2: TqdmDeprecationWarning: This function will be removed in tqdm==5.0.0\n",
      "Please use `tqdm.notebook.tqdm` instead of `tqdm.tqdm_notebook`\n",
      "  \n"
     ]
    },
    {
     "data": {
      "application/vnd.jupyter.widget-view+json": {
       "model_id": "13ebf38b3da44be38333a4d24fcafb8f",
       "version_major": 2,
       "version_minor": 0
      },
      "text/plain": [
       "HBox(children=(FloatProgress(value=0.0, max=72399.0), HTML(value='')))"
      ]
     },
     "metadata": {},
     "output_type": "display_data"
    },
    {
     "name": "stderr",
     "output_type": "stream",
     "text": [
      "C:\\Users\\DAG\\AppData\\Roaming\\Python\\Python37\\site-packages\\pandas\\core\\generic.py:5208: SettingWithCopyWarning: \n",
      "A value is trying to be set on a copy of a slice from a DataFrame.\n",
      "Try using .loc[row_indexer,col_indexer] = value instead\n",
      "\n",
      "See the caveats in the documentation: http://pandas.pydata.org/pandas-docs/stable/user_guide/indexing.html#returning-a-view-versus-a-copy\n",
      "  self[name] = value\n"
     ]
    },
    {
     "name": "stdout",
     "output_type": "stream",
     "text": [
      "\n"
     ]
    }
   ],
   "source": [
    "구매여부1 = pd.DataFrame()\n",
    "for id in tqdm_notebook(구매여부['clnt_id'].unique()):\n",
    "    temp = 구매여부[구매여부['clnt_id'] == id]\n",
    "    temp.buy = temp.buy.shift(-1)\n",
    "    temp = temp.dropna(axis = 0)\n",
    "    구매여부1 = pd.concat([구매여부1, temp])"
   ]
  },
  {
   "cell_type": "code",
   "execution_count": 30,
   "metadata": {},
   "outputs": [
    {
     "data": {
      "text/html": [
       "<div>\n",
       "<style scoped>\n",
       "    .dataframe tbody tr th:only-of-type {\n",
       "        vertical-align: middle;\n",
       "    }\n",
       "\n",
       "    .dataframe tbody tr th {\n",
       "        vertical-align: top;\n",
       "    }\n",
       "\n",
       "    .dataframe thead th {\n",
       "        text-align: right;\n",
       "    }\n",
       "</style>\n",
       "<table border=\"1\" class=\"dataframe\">\n",
       "  <thead>\n",
       "    <tr style=\"text-align: right;\">\n",
       "      <th></th>\n",
       "      <th>clnt_id</th>\n",
       "      <th>sess_id</th>\n",
       "      <th>buy</th>\n",
       "    </tr>\n",
       "  </thead>\n",
       "  <tbody>\n",
       "    <tr>\n",
       "      <th>0</th>\n",
       "      <td>1</td>\n",
       "      <td>1</td>\n",
       "      <td>0.0</td>\n",
       "    </tr>\n",
       "    <tr>\n",
       "      <th>2</th>\n",
       "      <td>2</td>\n",
       "      <td>1</td>\n",
       "      <td>0.0</td>\n",
       "    </tr>\n",
       "    <tr>\n",
       "      <th>3</th>\n",
       "      <td>2</td>\n",
       "      <td>2</td>\n",
       "      <td>0.0</td>\n",
       "    </tr>\n",
       "    <tr>\n",
       "      <th>4</th>\n",
       "      <td>2</td>\n",
       "      <td>3</td>\n",
       "      <td>0.0</td>\n",
       "    </tr>\n",
       "    <tr>\n",
       "      <th>5</th>\n",
       "      <td>2</td>\n",
       "      <td>4</td>\n",
       "      <td>0.0</td>\n",
       "    </tr>\n",
       "    <tr>\n",
       "      <th>...</th>\n",
       "      <td>...</td>\n",
       "      <td>...</td>\n",
       "      <td>...</td>\n",
       "    </tr>\n",
       "    <tr>\n",
       "      <th>367141</th>\n",
       "      <td>72427</td>\n",
       "      <td>3</td>\n",
       "      <td>0.0</td>\n",
       "    </tr>\n",
       "    <tr>\n",
       "      <th>367143</th>\n",
       "      <td>72428</td>\n",
       "      <td>1</td>\n",
       "      <td>0.0</td>\n",
       "    </tr>\n",
       "    <tr>\n",
       "      <th>367144</th>\n",
       "      <td>72428</td>\n",
       "      <td>2</td>\n",
       "      <td>0.0</td>\n",
       "    </tr>\n",
       "    <tr>\n",
       "      <th>367145</th>\n",
       "      <td>72428</td>\n",
       "      <td>3</td>\n",
       "      <td>0.0</td>\n",
       "    </tr>\n",
       "    <tr>\n",
       "      <th>367146</th>\n",
       "      <td>72428</td>\n",
       "      <td>4</td>\n",
       "      <td>0.0</td>\n",
       "    </tr>\n",
       "  </tbody>\n",
       "</table>\n",
       "<p>294750 rows × 3 columns</p>\n",
       "</div>"
      ],
      "text/plain": [
       "        clnt_id  sess_id  buy\n",
       "0             1        1  0.0\n",
       "2             2        1  0.0\n",
       "3             2        2  0.0\n",
       "4             2        3  0.0\n",
       "5             2        4  0.0\n",
       "...         ...      ...  ...\n",
       "367141    72427        3  0.0\n",
       "367143    72428        1  0.0\n",
       "367144    72428        2  0.0\n",
       "367145    72428        3  0.0\n",
       "367146    72428        4  0.0\n",
       "\n",
       "[294750 rows x 3 columns]"
      ]
     },
     "execution_count": 30,
     "metadata": {},
     "output_type": "execute_result"
    }
   ],
   "source": [
    "구매여부1"
   ]
  },
  {
   "cell_type": "code",
   "execution_count": 31,
   "metadata": {},
   "outputs": [],
   "source": [
    "온라인.drop(['buy'], axis =1, inplace= True)\n",
    "온라인 = pd.merge(온라인, 구매여부1, left_on = ['clnt_id', 'sess_id'], right_on = ['clnt_id', 'sess_id'])"
   ]
  },
  {
   "cell_type": "code",
   "execution_count": 32,
   "metadata": {},
   "outputs": [
    {
     "data": {
      "text/html": [
       "<div>\n",
       "<style scoped>\n",
       "    .dataframe tbody tr th:only-of-type {\n",
       "        vertical-align: middle;\n",
       "    }\n",
       "\n",
       "    .dataframe tbody tr th {\n",
       "        vertical-align: top;\n",
       "    }\n",
       "\n",
       "    .dataframe thead th {\n",
       "        text-align: right;\n",
       "    }\n",
       "</style>\n",
       "<table border=\"1\" class=\"dataframe\">\n",
       "  <thead>\n",
       "    <tr style=\"text-align: right;\">\n",
       "      <th></th>\n",
       "      <th>clnt_id</th>\n",
       "      <th>sess_id</th>\n",
       "      <th>trans_id</th>\n",
       "      <th>hit_seq</th>\n",
       "      <th>hit_pss_tm</th>\n",
       "      <th>time_length</th>\n",
       "      <th>holiday_diff</th>\n",
       "      <th>keyword</th>\n",
       "      <th>action_type_1</th>\n",
       "      <th>action_type_2</th>\n",
       "      <th>...</th>\n",
       "      <th>trfc_src_PORTAL_2</th>\n",
       "      <th>trfc_src_PORTAL_3</th>\n",
       "      <th>trfc_src_PUSH</th>\n",
       "      <th>trfc_src_WEBSITE</th>\n",
       "      <th>trfc_src_unknown</th>\n",
       "      <th>dvc_ctg_nm_mobile_app</th>\n",
       "      <th>dvc_ctg_nm_mobile_web</th>\n",
       "      <th>dvc_ctg_nm_unknown</th>\n",
       "      <th>unique_id</th>\n",
       "      <th>buy</th>\n",
       "    </tr>\n",
       "  </thead>\n",
       "  <tbody>\n",
       "    <tr>\n",
       "      <th>0</th>\n",
       "      <td>1</td>\n",
       "      <td>1</td>\n",
       "      <td>NaN</td>\n",
       "      <td>1</td>\n",
       "      <td>12.0</td>\n",
       "      <td>11.0</td>\n",
       "      <td>0</td>\n",
       "      <td>1</td>\n",
       "      <td>0</td>\n",
       "      <td>0</td>\n",
       "      <td>...</td>\n",
       "      <td>0</td>\n",
       "      <td>0</td>\n",
       "      <td>0</td>\n",
       "      <td>0</td>\n",
       "      <td>1</td>\n",
       "      <td>1</td>\n",
       "      <td>0</td>\n",
       "      <td>0</td>\n",
       "      <td>1_1</td>\n",
       "      <td>0.0</td>\n",
       "    </tr>\n",
       "    <tr>\n",
       "      <th>1</th>\n",
       "      <td>1</td>\n",
       "      <td>1</td>\n",
       "      <td>NaN</td>\n",
       "      <td>2</td>\n",
       "      <td>23.0</td>\n",
       "      <td>14.0</td>\n",
       "      <td>0</td>\n",
       "      <td>2</td>\n",
       "      <td>0</td>\n",
       "      <td>0</td>\n",
       "      <td>...</td>\n",
       "      <td>0</td>\n",
       "      <td>0</td>\n",
       "      <td>0</td>\n",
       "      <td>0</td>\n",
       "      <td>1</td>\n",
       "      <td>1</td>\n",
       "      <td>0</td>\n",
       "      <td>0</td>\n",
       "      <td>1_1</td>\n",
       "      <td>0.0</td>\n",
       "    </tr>\n",
       "    <tr>\n",
       "      <th>2</th>\n",
       "      <td>1</td>\n",
       "      <td>1</td>\n",
       "      <td>NaN</td>\n",
       "      <td>3</td>\n",
       "      <td>37.0</td>\n",
       "      <td>14.0</td>\n",
       "      <td>0</td>\n",
       "      <td>3</td>\n",
       "      <td>0</td>\n",
       "      <td>0</td>\n",
       "      <td>...</td>\n",
       "      <td>0</td>\n",
       "      <td>0</td>\n",
       "      <td>0</td>\n",
       "      <td>0</td>\n",
       "      <td>1</td>\n",
       "      <td>1</td>\n",
       "      <td>0</td>\n",
       "      <td>0</td>\n",
       "      <td>1_1</td>\n",
       "      <td>0.0</td>\n",
       "    </tr>\n",
       "    <tr>\n",
       "      <th>3</th>\n",
       "      <td>2</td>\n",
       "      <td>1</td>\n",
       "      <td>NaN</td>\n",
       "      <td>1</td>\n",
       "      <td>40.0</td>\n",
       "      <td>8.0</td>\n",
       "      <td>1</td>\n",
       "      <td>1</td>\n",
       "      <td>0</td>\n",
       "      <td>0</td>\n",
       "      <td>...</td>\n",
       "      <td>0</td>\n",
       "      <td>0</td>\n",
       "      <td>0</td>\n",
       "      <td>0</td>\n",
       "      <td>0</td>\n",
       "      <td>0</td>\n",
       "      <td>0</td>\n",
       "      <td>1</td>\n",
       "      <td>2_1</td>\n",
       "      <td>0.0</td>\n",
       "    </tr>\n",
       "    <tr>\n",
       "      <th>4</th>\n",
       "      <td>2</td>\n",
       "      <td>1</td>\n",
       "      <td>NaN</td>\n",
       "      <td>2</td>\n",
       "      <td>48.0</td>\n",
       "      <td>1.0</td>\n",
       "      <td>1</td>\n",
       "      <td>1</td>\n",
       "      <td>1</td>\n",
       "      <td>0</td>\n",
       "      <td>...</td>\n",
       "      <td>0</td>\n",
       "      <td>0</td>\n",
       "      <td>0</td>\n",
       "      <td>0</td>\n",
       "      <td>0</td>\n",
       "      <td>0</td>\n",
       "      <td>0</td>\n",
       "      <td>1</td>\n",
       "      <td>2_1</td>\n",
       "      <td>0.0</td>\n",
       "    </tr>\n",
       "  </tbody>\n",
       "</table>\n",
       "<p>5 rows × 29 columns</p>\n",
       "</div>"
      ],
      "text/plain": [
       "   clnt_id  sess_id  trans_id  hit_seq  hit_pss_tm  time_length  holiday_diff  \\\n",
       "0        1        1       NaN        1        12.0         11.0             0   \n",
       "1        1        1       NaN        2        23.0         14.0             0   \n",
       "2        1        1       NaN        3        37.0         14.0             0   \n",
       "3        2        1       NaN        1        40.0          8.0             1   \n",
       "4        2        1       NaN        2        48.0          1.0             1   \n",
       "\n",
       "   keyword  action_type_1  action_type_2  ...  trfc_src_PORTAL_2  \\\n",
       "0        1              0              0  ...                  0   \n",
       "1        2              0              0  ...                  0   \n",
       "2        3              0              0  ...                  0   \n",
       "3        1              0              0  ...                  0   \n",
       "4        1              1              0  ...                  0   \n",
       "\n",
       "   trfc_src_PORTAL_3  trfc_src_PUSH  trfc_src_WEBSITE  trfc_src_unknown  \\\n",
       "0                  0              0                 0                 1   \n",
       "1                  0              0                 0                 1   \n",
       "2                  0              0                 0                 1   \n",
       "3                  0              0                 0                 0   \n",
       "4                  0              0                 0                 0   \n",
       "\n",
       "   dvc_ctg_nm_mobile_app  dvc_ctg_nm_mobile_web  dvc_ctg_nm_unknown  \\\n",
       "0                      1                      0                   0   \n",
       "1                      1                      0                   0   \n",
       "2                      1                      0                   0   \n",
       "3                      0                      0                   1   \n",
       "4                      0                      0                   1   \n",
       "\n",
       "   unique_id  buy  \n",
       "0        1_1  0.0  \n",
       "1        1_1  0.0  \n",
       "2        1_1  0.0  \n",
       "3        2_1  0.0  \n",
       "4        2_1  0.0  \n",
       "\n",
       "[5 rows x 29 columns]"
      ]
     },
     "execution_count": 32,
     "metadata": {},
     "output_type": "execute_result"
    }
   ],
   "source": [
    "온라인.head()"
   ]
  },
  {
   "cell_type": "markdown",
   "metadata": {},
   "source": [
    "# <br>\n",
    "# 모델링"
   ]
  },
  {
   "cell_type": "code",
   "execution_count": 33,
   "metadata": {},
   "outputs": [],
   "source": [
    "온라인 = pd.read_csv('다음 세션 구매 예측_5개단위.csv')"
   ]
  },
  {
   "cell_type": "code",
   "execution_count": 34,
   "metadata": {},
   "outputs": [
    {
     "data": {
      "text/plain": [
       "7043"
      ]
     },
     "execution_count": 34,
     "metadata": {},
     "output_type": "execute_result"
    }
   ],
   "source": [
    "온라인.clnt_id.nunique()"
   ]
  },
  {
   "cell_type": "code",
   "execution_count": 35,
   "metadata": {},
   "outputs": [],
   "source": [
    "import tensorflow as tf\n",
    "from sklearn.preprocessing import LabelEncoder\n",
    "from keras.models import Sequential\n",
    "from keras.layers import Dense\n",
    "from keras.layers import LSTM\n",
    "from keras.layers import Conv1D, MaxPooling1D\n",
    "from keras.optimizers import RMSprop\n",
    "from sklearn.model_selection import train_test_split\n",
    "from keras.preprocessing import sequence\n",
    "from keras.layers.embeddings import Embedding\n",
    "from keras.layers import Dropout\n",
    "from keras.layers import Masking\n",
    "from imblearn.over_sampling import SMOTE, ADASYN\n",
    "from imblearn.over_sampling import RandomOverSampler\n",
    "from keras.utils import to_categorical"
   ]
  },
  {
   "cell_type": "code",
   "execution_count": 36,
   "metadata": {},
   "outputs": [],
   "source": [
    "import os"
   ]
  },
  {
   "cell_type": "code",
   "execution_count": 37,
   "metadata": {},
   "outputs": [],
   "source": [
    "import keras.backend.tensorflow_backend as KTF\n",
    "\n",
    "os.environ[\"CUDA_VISIBLE_DEVICES\"] = \"0\"\n",
    "config = tf.compat.v1.ConfigProto()\n",
    "config.gpu_options.allow_growth=True\n",
    "session = tf.compat.v1.Session(config=config)\n",
    "\n",
    "KTF.set_session(session)"
   ]
  },
  {
   "cell_type": "code",
   "execution_count": 38,
   "metadata": {},
   "outputs": [],
   "source": [
    "from keras import backend as K\n",
    "\n",
    "def recall_m(y_true, y_pred):\n",
    "        true_positives = K.sum(K.round(K.clip(y_true * y_pred, 0, 1)))\n",
    "        possible_positives = K.sum(K.round(K.clip(y_true, 0, 1)))\n",
    "        recall = true_positives / (possible_positives + K.epsilon())\n",
    "        return recall\n",
    "\n",
    "def precision_m(y_true, y_pred):\n",
    "        true_positives = K.sum(K.round(K.clip(y_true * y_pred, 0, 1)))\n",
    "        predicted_positives = K.sum(K.round(K.clip(y_pred, 0, 1)))\n",
    "        precision = true_positives / (predicted_positives + K.epsilon())\n",
    "        return precision\n",
    "\n",
    "def f1_m(y_true, y_pred):\n",
    "    precision = precision_m(y_true, y_pred)\n",
    "    recall = recall_m(y_true, y_pred)\n",
    "    return 2*((precision*recall)/(precision+recall+K.epsilon()))"
   ]
  },
  {
   "cell_type": "code",
   "execution_count": 39,
   "metadata": {},
   "outputs": [],
   "source": [
    "def make_padding_and_oversample(X, Y, length=350):\n",
    "    max_len = length #np.percentile(pd.Series(idx),99)\n",
    "    X_padding = sequence.pad_sequences(X, maxlen=max_len, padding='pre', truncating='post')\n",
    "    X_padding2 = X_padding.reshape(X.shape[0], max_len* X_padding.shape[2])\n",
    "\n",
    "    smote = SMOTE(random_state=0)\n",
    "    X_resampled, Y_resampled = smote.fit_resample(X_padding2, Y)\n",
    "    X_resampled = X_resampled.reshape(X_resampled.shape[0], max_len, X_padding.shape[2])\n",
    "    return X_padding, X_resampled, Y_resampled"
   ]
  },
  {
   "cell_type": "markdown",
   "metadata": {},
   "source": [
    "## 각 session의 첫번째 구매완료 이전까지 data만 사용"
   ]
  },
  {
   "cell_type": "code",
   "execution_count": 40,
   "metadata": {},
   "outputs": [
    {
     "data": {
      "text/plain": [
       "0.0      111560\n",
       "1.0        7804\n",
       "2.0        5438\n",
       "4.0        3023\n",
       "3.0        3010\n",
       "          ...  \n",
       "235.0         1\n",
       "222.0         1\n",
       "372.0         1\n",
       "260.0         1\n",
       "201.0         1\n",
       "Name: buy, Length: 220, dtype: int64"
      ]
     },
     "execution_count": 40,
     "metadata": {},
     "output_type": "execute_result"
    }
   ],
   "source": [
    "# 고객별 세션당 구매 횟수: 0~25까지 다양함\n",
    "# 우선 첫번째 구매를 기준으로 자름\n",
    "온라인.groupby('unique_id').buy.sum().value_counts()"
   ]
  },
  {
   "cell_type": "code",
   "execution_count": 43,
   "metadata": {},
   "outputs": [
    {
     "name": "stderr",
     "output_type": "stream",
     "text": [
      "C:\\ProgramData\\Anaconda3\\lib\\site-packages\\ipykernel_launcher.py:2: TqdmDeprecationWarning: This function will be removed in tqdm==5.0.0\n",
      "Please use `tqdm.notebook.tqdm` instead of `tqdm.tqdm_notebook`\n",
      "  \n"
     ]
    },
    {
     "data": {
      "application/vnd.jupyter.widget-view+json": {
       "model_id": "13612dec99d5420299ce1a14aa7609a0",
       "version_major": 2,
       "version_minor": 0
      },
      "text/plain": [
       "HBox(children=(FloatProgress(value=0.0, max=367149.0), HTML(value='')))"
      ]
     },
     "metadata": {},
     "output_type": "display_data"
    },
    {
     "name": "stdout",
     "output_type": "stream",
     "text": [
      "\n"
     ]
    }
   ],
   "source": [
    "idx3 = []\n",
    "for i, j in tqdm_notebook(zip(idx1, idx2), total=len(idx1)):\n",
    "    temp = 온라인.buy.iloc[i:j]\n",
    "    try:\n",
    "        idx3.append(temp[temp == 1].index[0])\n",
    "    except:\n",
    "        idx3.append(j)"
   ]
  },
  {
   "cell_type": "code",
   "execution_count": 44,
   "metadata": {},
   "outputs": [
    {
     "name": "stderr",
     "output_type": "stream",
     "text": [
      "C:\\ProgramData\\Anaconda3\\lib\\site-packages\\ipykernel_launcher.py:3: TqdmDeprecationWarning: This function will be removed in tqdm==5.0.0\n",
      "Please use `tqdm.notebook.tqdm` instead of `tqdm.tqdm_notebook`\n",
      "  This is separate from the ipykernel package so we can avoid doing imports until\n"
     ]
    },
    {
     "data": {
      "application/vnd.jupyter.widget-view+json": {
       "model_id": "a4e740d6b1c44d02a6619c586fdf464f",
       "version_major": 2,
       "version_minor": 0
      },
      "text/plain": [
       "HBox(children=(FloatProgress(value=0.0, max=367149.0), HTML(value='')))"
      ]
     },
     "metadata": {},
     "output_type": "display_data"
    },
    {
     "name": "stdout",
     "output_type": "stream",
     "text": [
      "\n"
     ]
    }
   ],
   "source": [
    "# (session, sequence, variables) 3d array 변환\n",
    "온라인_x = []\n",
    "for i, j in tqdm_notebook(zip(idx1, idx3), total=len(idx1)):\n",
    "    온라인_x.append(온라인.iloc[i:j, 3:-2].values)\n",
    "    \n",
    "#scaler = StandardScaler() \n",
    "#scaler = MinMaxScaler(feature_range=(0, 1))\n",
    "#온라인_x = scaler.fit_transform(np.array(온라인_x))\n",
    "온라인_x = np.array(온라인_x)"
   ]
  },
  {
   "cell_type": "code",
   "execution_count": 45,
   "metadata": {},
   "outputs": [
    {
     "name": "stderr",
     "output_type": "stream",
     "text": [
      "C:\\ProgramData\\Anaconda3\\lib\\site-packages\\ipykernel_launcher.py:3: TqdmDeprecationWarning: This function will be removed in tqdm==5.0.0\n",
      "Please use `tqdm.notebook.tqdm` instead of `tqdm.tqdm_notebook`\n",
      "  This is separate from the ipykernel package so we can avoid doing imports until\n"
     ]
    },
    {
     "data": {
      "application/vnd.jupyter.widget-view+json": {
       "model_id": "102e5270661f41ba8a593636436334b6",
       "version_major": 2,
       "version_minor": 0
      },
      "text/plain": [
       "HBox(children=(FloatProgress(value=0.0, max=367149.0), HTML(value='')))"
      ]
     },
     "metadata": {},
     "output_type": "display_data"
    },
    {
     "name": "stdout",
     "output_type": "stream",
     "text": [
      "\n"
     ]
    }
   ],
   "source": [
    "# session 당 구매 여부\n",
    "온라인_y = []\n",
    "for i,j in tqdm_notebook(zip(idx1,idx2), total=len(idx1)):\n",
    "    온라인_y.append([int(온라인.buy.iloc[i:j].sum()>0)])"
   ]
  },
  {
   "cell_type": "code",
   "execution_count": 46,
   "metadata": {},
   "outputs": [
    {
     "data": {
      "text/plain": [
       "367149"
      ]
     },
     "execution_count": 46,
     "metadata": {},
     "output_type": "execute_result"
    }
   ],
   "source": [
    "len(온라인_y)"
   ]
  },
  {
   "cell_type": "code",
   "execution_count": 47,
   "metadata": {},
   "outputs": [],
   "source": [
    "# 구매완료한 session이 전체의 약 13%\n",
    "#pd.Series(온라인_y).value_counts()*100/온라인.unique_id.nunique()"
   ]
  },
  {
   "cell_type": "code",
   "execution_count": 48,
   "metadata": {},
   "outputs": [],
   "source": [
    "# idx = list(pd.Series(idx2) - pd.Series(idx1))\n",
    "# np.percentile(pd.Series(idx),99)"
   ]
  },
  {
   "cell_type": "code",
   "execution_count": null,
   "metadata": {},
   "outputs": [],
   "source": [
    "# idx = list(pd.Series(idx3) - pd.Series(idx1))\n",
    "# np.percentile(pd.Series(idx),99)"
   ]
  },
  {
   "cell_type": "code",
   "execution_count": 49,
   "metadata": {},
   "outputs": [
    {
     "name": "stderr",
     "output_type": "stream",
     "text": [
      "C:\\ProgramData\\Anaconda3\\lib\\site-packages\\sklearn\\utils\\validation.py:760: DataConversionWarning: A column-vector y was passed when a 1d array was expected. Please change the shape of y to (n_samples, ), for example using ravel().\n",
      "  y = column_or_1d(y, warn=True)\n",
      "C:\\ProgramData\\Anaconda3\\lib\\site-packages\\sklearn\\utils\\deprecation.py:87: FutureWarning: Function safe_indexing is deprecated; safe_indexing is deprecated in version 0.22 and will be removed in version 0.24.\n",
      "  warnings.warn(msg, category=FutureWarning)\n"
     ]
    },
    {
     "data": {
      "text/plain": [
       "((430386, 70, 24), (184452, 70, 24), (430386,), (184452,))"
      ]
     },
     "execution_count": 49,
     "metadata": {},
     "output_type": "execute_result"
    }
   ],
   "source": [
    "X_padded, X_resampled, Y_resampled = make_padding_and_oversample(온라인_x, 온라인_y, length=70)\n",
    "X_train, X_test, y_train, y_test = train_test_split(X_resampled, Y_resampled, test_size=0.3, random_state=42)\n",
    "X_train.shape, X_test.shape, y_train.shape, y_test.shape"
   ]
  },
  {
   "cell_type": "code",
   "execution_count": 50,
   "metadata": {},
   "outputs": [],
   "source": [
    "def models(train):\n",
    "    model = Sequential()\n",
    "    model.add(Masking(mask_value=0., input_shape=(train.shape[1], train.shape[2])))\n",
    "    model.add(LSTM(64,input_shape = (train.shape[1], train.shape[2])))\n",
    "    model.add(Dense(32, activation= 'relu'))\n",
    "    model.add(Dropout(0.2))\n",
    "    model.add(Dense(16, activation= 'relu'))\n",
    "    model.add(Dense(1, activation='sigmoid'))\n",
    "    model.compile(loss='binary_crossentropy', optimizer=RMSprop(lr= 0.001, rho = 0.9), metrics=['acc',f1_m,precision_m, recall_m])\n",
    "    return model"
   ]
  },
  {
   "cell_type": "code",
   "execution_count": 51,
   "metadata": {},
   "outputs": [
    {
     "name": "stdout",
     "output_type": "stream",
     "text": [
      "WARNING:tensorflow:From C:\\ProgramData\\Anaconda3\\lib\\site-packages\\tensorflow\\python\\keras\\backend.py:3794: add_dispatch_support.<locals>.wrapper (from tensorflow.python.ops.array_ops) is deprecated and will be removed in a future version.\n",
      "Instructions for updating:\n",
      "Use tf.where in 2.0, which has the same broadcast rule as np.where\n",
      "Model: \"sequential_1\"\n",
      "_________________________________________________________________\n",
      "Layer (type)                 Output Shape              Param #   \n",
      "=================================================================\n",
      "masking_1 (Masking)          (None, 70, 24)            0         \n",
      "_________________________________________________________________\n",
      "lstm_1 (LSTM)                (None, 64)                22784     \n",
      "_________________________________________________________________\n",
      "dense_1 (Dense)              (None, 32)                2080      \n",
      "_________________________________________________________________\n",
      "dropout_1 (Dropout)          (None, 32)                0         \n",
      "_________________________________________________________________\n",
      "dense_2 (Dense)              (None, 16)                528       \n",
      "_________________________________________________________________\n",
      "dense_3 (Dense)              (None, 1)                 17        \n",
      "=================================================================\n",
      "Total params: 25,409\n",
      "Trainable params: 25,409\n",
      "Non-trainable params: 0\n",
      "_________________________________________________________________\n"
     ]
    }
   ],
   "source": [
    "model = models(X_train)\n",
    "model.summary()"
   ]
  },
  {
   "cell_type": "code",
   "execution_count": 52,
   "metadata": {
    "scrolled": true
   },
   "outputs": [
    {
     "name": "stdout",
     "output_type": "stream",
     "text": [
      "WARNING:tensorflow:From C:\\ProgramData\\Anaconda3\\lib\\site-packages\\keras\\backend\\tensorflow_backend.py:422: The name tf.global_variables is deprecated. Please use tf.compat.v1.global_variables instead.\n",
      "\n",
      "Train on 430386 samples, validate on 184452 samples\n",
      "Epoch 1/25\n",
      "430386/430386 [==============================] - 67s 157us/step - loss: 0.2936 - acc: 0.9466 - f1_m: 0.9409 - precision_m: 0.9876 - recall_m: 0.9010 - val_loss: 0.1241 - val_acc: 0.9616 - val_f1_m: 0.9604 - val_precision_m: 0.9913 - val_recall_m: 0.9315\n",
      "Epoch 2/25\n",
      "430386/430386 [==============================] - 49s 114us/step - loss: 0.1216 - acc: 0.9611 - f1_m: 0.9598 - precision_m: 0.9916 - recall_m: 0.9303 - val_loss: 0.1020 - val_acc: 0.9666 - val_f1_m: 0.9656 - val_precision_m: 0.9975 - val_recall_m: 0.9357\n",
      "Epoch 3/25\n",
      "430386/430386 [==============================] - 49s 114us/step - loss: 0.1094 - acc: 0.9650 - f1_m: 0.9639 - precision_m: 0.9925 - recall_m: 0.9371 - val_loss: 0.0914 - val_acc: 0.9707 - val_f1_m: 0.9699 - val_precision_m: 0.9968 - val_recall_m: 0.9445\n",
      "Epoch 4/25\n",
      "430386/430386 [==============================] - 49s 114us/step - loss: 0.1022 - acc: 0.9674 - f1_m: 0.9664 - precision_m: 0.9930 - recall_m: 0.9416 - val_loss: 0.0837 - val_acc: 0.9730 - val_f1_m: 0.9724 - val_precision_m: 0.9969 - val_recall_m: 0.9491\n",
      "Epoch 5/25\n",
      "430386/430386 [==============================] - 49s 114us/step - loss: 0.0974 - acc: 0.9686 - f1_m: 0.9678 - precision_m: 0.9924 - recall_m: 0.9447 - val_loss: 0.0823 - val_acc: 0.9726 - val_f1_m: 0.9720 - val_precision_m: 0.9949 - val_recall_m: 0.9501\n",
      "Epoch 6/25\n",
      "430386/430386 [==============================] - 49s 114us/step - loss: 0.0931 - acc: 0.9698 - f1_m: 0.9690 - precision_m: 0.9927 - recall_m: 0.9468 - val_loss: 0.1177 - val_acc: 0.9647 - val_f1_m: 0.9635 - val_precision_m: 0.9997 - val_recall_m: 0.9300\n",
      "Epoch 7/25\n",
      "430386/430386 [==============================] - 49s 114us/step - loss: 0.0903 - acc: 0.9708 - f1_m: 0.9701 - precision_m: 0.9925 - recall_m: 0.9489 - val_loss: 0.0814 - val_acc: 0.9726 - val_f1_m: 0.9719 - val_precision_m: 0.9988 - val_recall_m: 0.9465\n",
      "Epoch 8/25\n",
      "430386/430386 [==============================] - 49s 114us/step - loss: 0.0886 - acc: 0.9712 - f1_m: 0.9705 - precision_m: 0.9927 - recall_m: 0.9497 - val_loss: 0.0787 - val_acc: 0.9758 - val_f1_m: 0.9754 - val_precision_m: 0.9928 - val_recall_m: 0.9586\n",
      "Epoch 9/25\n",
      "430386/430386 [==============================] - 49s 113us/step - loss: 0.0868 - acc: 0.9715 - f1_m: 0.9709 - precision_m: 0.9925 - recall_m: 0.9505 - val_loss: 0.0768 - val_acc: 0.9751 - val_f1_m: 0.9745 - val_precision_m: 0.9966 - val_recall_m: 0.9534\n",
      "Epoch 10/25\n",
      "430386/430386 [==============================] - 48s 112us/step - loss: 0.0846 - acc: 0.9724 - f1_m: 0.9718 - precision_m: 0.9926 - recall_m: 0.9521 - val_loss: 0.0724 - val_acc: 0.9765 - val_f1_m: 0.9761 - val_precision_m: 0.9958 - val_recall_m: 0.9572\n",
      "Epoch 11/25\n",
      "430386/430386 [==============================] - 49s 114us/step - loss: 0.0832 - acc: 0.9727 - f1_m: 0.9720 - precision_m: 0.9927 - recall_m: 0.9524 - val_loss: 0.0886 - val_acc: 0.9724 - val_f1_m: 0.9717 - val_precision_m: 0.9979 - val_recall_m: 0.9469\n",
      "Epoch 12/25\n",
      "430386/430386 [==============================] - 49s 114us/step - loss: 0.0815 - acc: 0.9728 - f1_m: 0.9723 - precision_m: 0.9927 - recall_m: 0.9529 - val_loss: 0.0748 - val_acc: 0.9755 - val_f1_m: 0.9751 - val_precision_m: 0.9889 - val_recall_m: 0.9617\n",
      "Epoch 13/25\n",
      "430386/430386 [==============================] - 49s 114us/step - loss: 0.0798 - acc: 0.9737 - f1_m: 0.9732 - precision_m: 0.9930 - recall_m: 0.9543 - val_loss: 0.0704 - val_acc: 0.9767 - val_f1_m: 0.9762 - val_precision_m: 0.9970 - val_recall_m: 0.9563\n",
      "Epoch 14/25\n",
      "430386/430386 [==============================] - 49s 114us/step - loss: 0.0794 - acc: 0.9734 - f1_m: 0.9728 - precision_m: 0.9926 - recall_m: 0.9541 - val_loss: 0.0728 - val_acc: 0.9748 - val_f1_m: 0.9742 - val_precision_m: 0.9975 - val_recall_m: 0.9520\n",
      "Epoch 15/25\n",
      "430386/430386 [==============================] - 49s 114us/step - loss: 0.0785 - acc: 0.9736 - f1_m: 0.9731 - precision_m: 0.9927 - recall_m: 0.9544 - val_loss: 0.0711 - val_acc: 0.9754 - val_f1_m: 0.9749 - val_precision_m: 0.9981 - val_recall_m: 0.9527\n",
      "Epoch 16/25\n",
      "430386/430386 [==============================] - 49s 114us/step - loss: 0.0769 - acc: 0.9742 - f1_m: 0.9737 - precision_m: 0.9929 - recall_m: 0.9554 - val_loss: 0.0727 - val_acc: 0.9746 - val_f1_m: 0.9742 - val_precision_m: 0.9915 - val_recall_m: 0.95750.9740 - f1_m: 0.9734 - pr - ETA: 6s - loss: 0.0\n",
      "Epoch 17/25\n",
      "430386/430386 [==============================] - 49s 114us/step - loss: 0.0759 - acc: 0.9745 - f1_m: 0.9740 - precision_m: 0.9929 - recall_m: 0.9560 - val_loss: 0.0779 - val_acc: 0.9736 - val_f1_m: 0.9729 - val_precision_m: 0.9988 - val_recall_m: 0.9484\n",
      "Epoch 18/25\n",
      "430386/430386 [==============================] - 49s 114us/step - loss: 0.0742 - acc: 0.9750 - f1_m: 0.9745 - precision_m: 0.9928 - recall_m: 0.9571 - val_loss: 0.0659 - val_acc: 0.9776 - val_f1_m: 0.9772 - val_precision_m: 0.9954 - val_recall_m: 0.9596\n",
      "Epoch 19/25\n",
      "430386/430386 [==============================] - 49s 114us/step - loss: 0.0745 - acc: 0.9749 - f1_m: 0.9744 - precision_m: 0.9928 - recall_m: 0.9569 - val_loss: 0.0662 - val_acc: 0.9779 - val_f1_m: 0.9775 - val_precision_m: 0.9953 - val_recall_m: 0.9603\n",
      "Epoch 20/25\n",
      "430386/430386 [==============================] - 49s 114us/step - loss: 0.0737 - acc: 0.9749 - f1_m: 0.9744 - precision_m: 0.9925 - recall_m: 0.9571 - val_loss: 0.0805 - val_acc: 0.9723 - val_f1_m: 0.9716 - val_precision_m: 0.9989 - val_recall_m: 0.9457- f1_m: 0.9744 - precision_m:\n",
      "Epoch 21/25\n",
      "430386/430386 [==============================] - 49s 114us/step - loss: 0.0726 - acc: 0.9754 - f1_m: 0.9749 - precision_m: 0.9932 - recall_m: 0.9575 - val_loss: 0.0697 - val_acc: 0.9757 - val_f1_m: 0.9752 - val_precision_m: 0.9966 - val_recall_m: 0.9548\n",
      "Epoch 22/25\n",
      "430386/430386 [==============================] - 49s 114us/step - loss: 0.0719 - acc: 0.9754 - f1_m: 0.9749 - precision_m: 0.9929 - recall_m: 0.9577 - val_loss: 0.0702 - val_acc: 0.9758 - val_f1_m: 0.9753 - val_precision_m: 0.9983 - val_recall_m: 0.9534\n",
      "Epoch 23/25\n",
      "430386/430386 [==============================] - 49s 114us/step - loss: 0.0716 - acc: 0.9755 - f1_m: 0.9751 - precision_m: 0.9933 - recall_m: 0.9577 - val_loss: 0.0666 - val_acc: 0.9782 - val_f1_m: 0.9778 - val_precision_m: 0.9948 - val_recall_m: 0.9614\n",
      "Epoch 24/25\n",
      "430386/430386 [==============================] - 49s 114us/step - loss: 0.0706 - acc: 0.9760 - f1_m: 0.9755 - precision_m: 0.9932 - recall_m: 0.9586 - val_loss: 0.0667 - val_acc: 0.9778 - val_f1_m: 0.9774 - val_precision_m: 0.9957 - val_recall_m: 0.9598\n",
      "Epoch 25/25\n",
      "430386/430386 [==============================] - 49s 114us/step - loss: 0.0705 - acc: 0.9759 - f1_m: 0.9754 - precision_m: 0.9931 - recall_m: 0.9584 - val_loss: 0.0726 - val_acc: 0.9751 - val_f1_m: 0.9745 - val_precision_m: 0.9986 - val_recall_m: 0.9516\n"
     ]
    }
   ],
   "source": [
    "history = model.fit(X_train, y_train, epochs=25, batch_size=1000, validation_data=(X_test, y_test), verbose=1, shuffle=True)"
   ]
  },
  {
   "cell_type": "code",
   "execution_count": 54,
   "metadata": {},
   "outputs": [
    {
     "data": {
      "image/png": "[encoded data removed]",
      "text/plain": [
       "<Figure size 576x288 with 1 Axes>"
      ]
     },
     "metadata": {
      "needs_background": "light"
     },
     "output_type": "display_data"
    }
   ],
   "source": [
    "# plot history\n",
    "plt.figure(figsize=(8,4))\n",
    "plt.plot(history.history['acc'], label='train')\n",
    "plt.plot(history.history['val_acc'], label='test')\n",
    "plt.legend()\n",
    "plt.show()"
   ]
  },
  {
   "cell_type": "code",
   "execution_count": 46,
   "metadata": {},
   "outputs": [
    {
     "name": "stdout",
     "output_type": "stream",
     "text": [
      "184452/184452 [==============================] - 1026s 6ms/step\n"
     ]
    }
   ],
   "source": [
    "loss, accuracy, f1_score, precision, recall = model.evaluate(X_test, y_test, verbose=1)"
   ]
  },
  {
   "cell_type": "code",
   "execution_count": 47,
   "metadata": {},
   "outputs": [
    {
     "name": "stdout",
     "output_type": "stream",
     "text": [
      "0.9770888686180115\n"
     ]
    }
   ],
   "source": [
    "print(accuracy)"
   ]
  },
  {
   "cell_type": "markdown",
   "metadata": {},
   "source": [
    "# <br>\n",
    "# sensitivity analysis"
   ]
  },
  {
   "cell_type": "code",
   "execution_count": 78,
   "metadata": {},
   "outputs": [
    {
     "data": {
      "text/plain": [
       "(24, 24)"
      ]
     },
     "execution_count": 78,
     "metadata": {},
     "output_type": "execute_result"
    }
   ],
   "source": [
    "## Sensitivity Analysis\n",
    "full_X_c = 온라인.iloc[:,3:-2].columns\n",
    "a_features = int(X_train.shape[2])\n",
    "importance_df = pd.DataFrame(np.zeros((a_features, 2)), \n",
    "                             columns=['varible_name', 'perturbation_effect'])\n",
    "a_features, len(full_X_c)"
   ]
  },
  {
   "cell_type": "code",
   "execution_count": 79,
   "metadata": {},
   "outputs": [
    {
     "name": "stderr",
     "output_type": "stream",
     "text": [
      "C:\\ProgramData\\Anaconda3\\lib\\site-packages\\ipykernel_launcher.py:4: TqdmDeprecationWarning: This function will be removed in tqdm==5.0.0\n",
      "Please use `tqdm.notebook.tqdm` instead of `tqdm.tqdm_notebook`\n",
      "  after removing the cwd from sys.path.\n"
     ]
    },
    {
     "data": {
      "application/vnd.jupyter.widget-view+json": {
       "model_id": "96bad28177b5477b86ad8b24578bea90",
       "version_major": 2,
       "version_minor": 0
      },
      "text/plain": [
       "HBox(children=(FloatProgress(value=0.0, max=24.0), HTML(value='')))"
      ]
     },
     "metadata": {},
     "output_type": "display_data"
    },
    {
     "name": "stdout",
     "output_type": "stream",
     "text": [
      "Variable 1, perturbation effect: 0.0104\n",
      "Variable 2, perturbation effect: 0.0031\n",
      "Variable 3, perturbation effect: 0.0031\n",
      "Variable 4, perturbation effect: 0.0141\n",
      "Variable 5, perturbation effect: 0.0400\n",
      "Variable 6, perturbation effect: 0.0527\n",
      "Variable 7, perturbation effect: 0.0720\n",
      "Variable 8, perturbation effect: 0.0802\n",
      "Variable 9, perturbation effect: 0.0447\n",
      "Variable 10, perturbation effect: 0.0736\n",
      "Variable 11, perturbation effect: 0.0068\n",
      "Variable 12, perturbation effect: 0.0168\n",
      "Variable 13, perturbation effect: 0.0501\n",
      "Variable 14, perturbation effect: 0.0212\n",
      "Variable 15, perturbation effect: 0.0204\n",
      "Variable 16, perturbation effect: 0.0080\n",
      "Variable 17, perturbation effect: 0.0060\n",
      "Variable 18, perturbation effect: 0.0023\n",
      "Variable 19, perturbation effect: 0.0101\n",
      "Variable 20, perturbation effect: 0.0102\n",
      "Variable 21, perturbation effect: 0.0299\n",
      "Variable 22, perturbation effect: 0.0253\n",
      "Variable 23, perturbation effect: 0.0247\n",
      "Variable 24, perturbation effect: 0.0479\n",
      "\n",
      "             varible_name  perturbation_effect\n",
      "7           action_type_3             0.080201\n",
      "9           action_type_5             0.073612\n",
      "6           action_type_2             0.072028\n",
      "5           action_type_1             0.052746\n",
      "12           biz_unit_A03             0.050135\n",
      "23     dvc_ctg_nm_unknown             0.047884\n",
      "8           action_type_4             0.044704\n",
      "4                 keyword             0.039988\n",
      "20       trfc_src_unknown             0.029946\n",
      "21  dvc_ctg_nm_mobile_app             0.025260\n",
      "22  dvc_ctg_nm_mobile_web             0.024691\n",
      "13         sess_dt_201908             0.021196\n",
      "14         sess_dt_201909             0.020418\n",
      "11           biz_unit_A02             0.016795\n",
      "3            holiday_diff             0.014053\n",
      "0                 hit_seq             0.010442\n",
      "19       trfc_src_WEBSITE             0.010156\n",
      "18          trfc_src_PUSH             0.010136\n",
      "15      trfc_src_PORTAL_1             0.008005\n",
      "10          action_type_7             0.006765\n",
      "16      trfc_src_PORTAL_2             0.005955\n",
      "2             time_length             0.003106\n",
      "1              hit_pss_tm             0.003057\n",
      "17      trfc_src_PORTAL_3             0.002254\n"
     ]
    }
   ],
   "source": [
    "def var_importance(model):\n",
    "    x = X_test # Get a sample of data\n",
    "    orig_out = model.predict(x)\n",
    "    for i in tqdm_notebook(range(a_features)):  # iterate over the three features\n",
    "        new_x = x.copy()\n",
    "        perturbation = np.random.normal(0.0, 0.2, size= new_x.shape[:2])\n",
    "        new_x[:, :, i] = new_x[:, :, i] + perturbation\n",
    "        perturbed_out = model.predict(new_x)\n",
    "        effect = ((orig_out - perturbed_out) ** 2).mean() ** 0.5 #RMSE\n",
    "        importance_df.iloc[i,0] = full_X_c[i]\n",
    "        importance_df.iloc[i,1] = effect\n",
    "        print(f'Variable {i+1}, perturbation effect: {effect:.4f}')\n",
    "\n",
    "var_importance(model)\n",
    "importance_df = importance_df.sort_values(by='perturbation_effect', ascending=False)\n",
    "print(importance_df)"
   ]
  },
  {
   "cell_type": "code",
   "execution_count": 80,
   "metadata": {
    "scrolled": true
   },
   "outputs": [
    {
     "data": {
      "text/html": [
       "<div>\n",
       "<style scoped>\n",
       "    .dataframe tbody tr th:only-of-type {\n",
       "        vertical-align: middle;\n",
       "    }\n",
       "\n",
       "    .dataframe tbody tr th {\n",
       "        vertical-align: top;\n",
       "    }\n",
       "\n",
       "    .dataframe thead th {\n",
       "        text-align: right;\n",
       "    }\n",
       "</style>\n",
       "<table border=\"1\" class=\"dataframe\">\n",
       "  <thead>\n",
       "    <tr style=\"text-align: right;\">\n",
       "      <th></th>\n",
       "      <th>varible_name</th>\n",
       "      <th>perturbation_effect</th>\n",
       "    </tr>\n",
       "  </thead>\n",
       "  <tbody>\n",
       "    <tr>\n",
       "      <th>7</th>\n",
       "      <td>action_type_3</td>\n",
       "      <td>0.080201</td>\n",
       "    </tr>\n",
       "    <tr>\n",
       "      <th>9</th>\n",
       "      <td>action_type_5</td>\n",
       "      <td>0.073612</td>\n",
       "    </tr>\n",
       "    <tr>\n",
       "      <th>6</th>\n",
       "      <td>action_type_2</td>\n",
       "      <td>0.072028</td>\n",
       "    </tr>\n",
       "    <tr>\n",
       "      <th>5</th>\n",
       "      <td>action_type_1</td>\n",
       "      <td>0.052746</td>\n",
       "    </tr>\n",
       "    <tr>\n",
       "      <th>12</th>\n",
       "      <td>biz_unit_A03</td>\n",
       "      <td>0.050135</td>\n",
       "    </tr>\n",
       "    <tr>\n",
       "      <th>23</th>\n",
       "      <td>dvc_ctg_nm_unknown</td>\n",
       "      <td>0.047884</td>\n",
       "    </tr>\n",
       "    <tr>\n",
       "      <th>8</th>\n",
       "      <td>action_type_4</td>\n",
       "      <td>0.044704</td>\n",
       "    </tr>\n",
       "    <tr>\n",
       "      <th>4</th>\n",
       "      <td>keyword</td>\n",
       "      <td>0.039988</td>\n",
       "    </tr>\n",
       "    <tr>\n",
       "      <th>20</th>\n",
       "      <td>trfc_src_unknown</td>\n",
       "      <td>0.029946</td>\n",
       "    </tr>\n",
       "    <tr>\n",
       "      <th>21</th>\n",
       "      <td>dvc_ctg_nm_mobile_app</td>\n",
       "      <td>0.025260</td>\n",
       "    </tr>\n",
       "    <tr>\n",
       "      <th>22</th>\n",
       "      <td>dvc_ctg_nm_mobile_web</td>\n",
       "      <td>0.024691</td>\n",
       "    </tr>\n",
       "    <tr>\n",
       "      <th>13</th>\n",
       "      <td>sess_dt_201908</td>\n",
       "      <td>0.021196</td>\n",
       "    </tr>\n",
       "    <tr>\n",
       "      <th>14</th>\n",
       "      <td>sess_dt_201909</td>\n",
       "      <td>0.020418</td>\n",
       "    </tr>\n",
       "    <tr>\n",
       "      <th>11</th>\n",
       "      <td>biz_unit_A02</td>\n",
       "      <td>0.016795</td>\n",
       "    </tr>\n",
       "    <tr>\n",
       "      <th>3</th>\n",
       "      <td>holiday_diff</td>\n",
       "      <td>0.014053</td>\n",
       "    </tr>\n",
       "    <tr>\n",
       "      <th>0</th>\n",
       "      <td>hit_seq</td>\n",
       "      <td>0.010442</td>\n",
       "    </tr>\n",
       "    <tr>\n",
       "      <th>19</th>\n",
       "      <td>trfc_src_WEBSITE</td>\n",
       "      <td>0.010156</td>\n",
       "    </tr>\n",
       "    <tr>\n",
       "      <th>18</th>\n",
       "      <td>trfc_src_PUSH</td>\n",
       "      <td>0.010136</td>\n",
       "    </tr>\n",
       "    <tr>\n",
       "      <th>15</th>\n",
       "      <td>trfc_src_PORTAL_1</td>\n",
       "      <td>0.008005</td>\n",
       "    </tr>\n",
       "    <tr>\n",
       "      <th>10</th>\n",
       "      <td>action_type_7</td>\n",
       "      <td>0.006765</td>\n",
       "    </tr>\n",
       "    <tr>\n",
       "      <th>16</th>\n",
       "      <td>trfc_src_PORTAL_2</td>\n",
       "      <td>0.005955</td>\n",
       "    </tr>\n",
       "    <tr>\n",
       "      <th>2</th>\n",
       "      <td>time_length</td>\n",
       "      <td>0.003106</td>\n",
       "    </tr>\n",
       "    <tr>\n",
       "      <th>1</th>\n",
       "      <td>hit_pss_tm</td>\n",
       "      <td>0.003057</td>\n",
       "    </tr>\n",
       "    <tr>\n",
       "      <th>17</th>\n",
       "      <td>trfc_src_PORTAL_3</td>\n",
       "      <td>0.002254</td>\n",
       "    </tr>\n",
       "  </tbody>\n",
       "</table>\n",
       "</div>"
      ],
      "text/plain": [
       "             varible_name  perturbation_effect\n",
       "7           action_type_3             0.080201\n",
       "9           action_type_5             0.073612\n",
       "6           action_type_2             0.072028\n",
       "5           action_type_1             0.052746\n",
       "12           biz_unit_A03             0.050135\n",
       "23     dvc_ctg_nm_unknown             0.047884\n",
       "8           action_type_4             0.044704\n",
       "4                 keyword             0.039988\n",
       "20       trfc_src_unknown             0.029946\n",
       "21  dvc_ctg_nm_mobile_app             0.025260\n",
       "22  dvc_ctg_nm_mobile_web             0.024691\n",
       "13         sess_dt_201908             0.021196\n",
       "14         sess_dt_201909             0.020418\n",
       "11           biz_unit_A02             0.016795\n",
       "3            holiday_diff             0.014053\n",
       "0                 hit_seq             0.010442\n",
       "19       trfc_src_WEBSITE             0.010156\n",
       "18          trfc_src_PUSH             0.010136\n",
       "15      trfc_src_PORTAL_1             0.008005\n",
       "10          action_type_7             0.006765\n",
       "16      trfc_src_PORTAL_2             0.005955\n",
       "2             time_length             0.003106\n",
       "1              hit_pss_tm             0.003057\n",
       "17      trfc_src_PORTAL_3             0.002254"
      ]
     },
     "execution_count": 80,
     "metadata": {},
     "output_type": "execute_result"
    }
   ],
   "source": [
    "importance_df"
   ]
  },
  {
   "cell_type": "code",
   "execution_count": 81,
   "metadata": {
    "scrolled": false
   },
   "outputs": [
    {
     "data": {
      "image/png": "[encoded data removed]",
      "text/plain": [
       "<Figure size 1080x360 with 1 Axes>"
      ]
     },
     "metadata": {
      "needs_background": "light"
     },
     "output_type": "display_data"
    }
   ],
   "source": [
    "## Plot 예시\n",
    "#mpl.rc('font', family='New Gulim')\n",
    "#mpl.rc('axes', unicode_minus=False)\n",
    "plt.subplots(figsize=(15,5))\n",
    "plt.bar(importance_df.iloc[:,0], importance_df.iloc[:,1])\n",
    "plt.title('Sensitivity Analysis', fontsize=18)\n",
    "#plt.xlabel('IV')\n",
    "plt.ylabel('Perturbation Effect')\n",
    "plt.xticks(importance_df.iloc[:,0], rotation=90)\n",
    "plt.show()"
   ]
  },
  {
   "cell_type": "code",
   "execution_count": 82,
   "metadata": {},
   "outputs": [
    {
     "data": {
      "text/plain": [
       "0.028063864674639002"
      ]
     },
     "execution_count": 82,
     "metadata": {},
     "output_type": "execute_result"
    }
   ],
   "source": [
    "importance_df.perturbation_effect.mean()"
   ]
  }
 ],
 "metadata": {
  "kernelspec": {
   "display_name": "Python 3",
   "language": "python",
   "name": "python3"
  },
  "language_info": {
   "codemirror_mode": {
    "name": "ipython",
    "version": 3
   },
   "file_extension": ".py",
   "mimetype": "text/x-python",
   "name": "python",
   "nbconvert_exporter": "python",
   "pygments_lexer": "ipython3",
   "version": "3.7.3"
  }
 },
 "nbformat": 4,
 "nbformat_minor": 2
}
