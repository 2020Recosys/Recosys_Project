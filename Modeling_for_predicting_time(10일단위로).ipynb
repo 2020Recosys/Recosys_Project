{
 "cells": [
  {
   "cell_type": "code",
   "execution_count": 1,
   "metadata": {},
   "outputs": [],
   "source": [
    "import os\n",
    "os.environ['CUDA_VISIBLE_DEVICES'] = '-1'"
   ]
  },
  {
   "cell_type": "code",
   "execution_count": 3,
   "metadata": {
    "scrolled": true
   },
   "outputs": [],
   "source": [
    "import pandas as pd\n",
    "import tensorflow as tf\n",
    "from sklearn.preprocessing import LabelEncoder\n",
    "import datetime\n",
    "import numpy as np\n",
    "from keras.models import Sequential\n",
    "from keras.layers import Dense\n",
    "from keras.layers import LSTM\n",
    "from keras.optimizers import RMSprop\n",
    "from sklearn.model_selection import train_test_split\n",
    "from keras.preprocessing import sequence\n",
    "from matplotlib import pyplot as plt\n",
    "from keras.layers.embeddings import Embedding\n",
    "from keras.layers import Dropout\n",
    "from keras.layers import Masking\n",
    "from keras.layers import Bidirectional, GlobalMaxPool1D\n",
    "from tqdm import tqdm_notebook\n",
    "from imblearn.over_sampling import SMOTE, ADASYN\n",
    "from imblearn.over_sampling import RandomOverSampler\n",
    "from keras.utils import to_categorical\n",
    "from eli5.sklearn import PermutationImportance"
   ]
  },
  {
   "cell_type": "code",
   "execution_count": 4,
   "metadata": {},
   "outputs": [
    {
     "name": "stdout",
     "output_type": "stream",
     "text": [
      "[name: \"/device:CPU:0\"\n",
      "device_type: \"CPU\"\n",
      "memory_limit: 268435456\n",
      "locality {\n",
      "}\n",
      "incarnation: 3772967992060511356\n",
      ", name: \"/device:XLA_GPU:0\"\n",
      "device_type: \"XLA_GPU\"\n",
      "memory_limit: 17179869184\n",
      "locality {\n",
      "}\n",
      "incarnation: 3641012722422981035\n",
      "physical_device_desc: \"device: XLA_GPU device\"\n",
      ", name: \"/device:XLA_CPU:0\"\n",
      "device_type: \"XLA_CPU\"\n",
      "memory_limit: 17179869184\n",
      "locality {\n",
      "}\n",
      "incarnation: 1902627009851827314\n",
      "physical_device_desc: \"device: XLA_CPU device\"\n",
      ", name: \"/device:GPU:0\"\n",
      "device_type: \"GPU\"\n",
      "memory_limit: 5811535872\n",
      "locality {\n",
      "  bus_id: 1\n",
      "  links {\n",
      "  }\n",
      "}\n",
      "incarnation: 1384053580184476157\n",
      "physical_device_desc: \"device: 0, name: GeForce RTX 2060, pci bus id: 0000:65:00.0, compute capability: 7.5\"\n",
      "]\n"
     ]
    }
   ],
   "source": [
    "from tensorflow.python.client import device_lib\n",
    "\n",
    "print(device_lib.list_local_devices())"
   ]
  },
  {
   "cell_type": "code",
   "execution_count": 4,
   "metadata": {},
   "outputs": [
    {
     "name": "stdout",
     "output_type": "stream",
     "text": [
      "Requirement already satisfied: bayesian-optimization in /usr/local/lib/python3.6/dist-packages (1.0.1)\r\n",
      "Requirement already satisfied: scikit-learn>=0.18.0 in /usr/local/lib/python3.6/dist-packages (from bayesian-optimization) (0.22.1)\r\n",
      "Requirement already satisfied: scipy>=0.14.0 in /usr/local/lib/python3.6/dist-packages (from bayesian-optimization) (1.4.1)\r\n",
      "Requirement already satisfied: numpy>=1.9.0 in /usr/local/lib/python3.6/dist-packages (from bayesian-optimization) (1.18.0)\r\n",
      "Requirement already satisfied: joblib>=0.11 in /usr/local/lib/python3.6/dist-packages (from scikit-learn>=0.18.0->bayesian-optimization) (0.13.2)\r\n"
     ]
    }
   ],
   "source": [
    "!pip install bayesian-optimization"
   ]
  },
  {
   "cell_type": "markdown",
   "metadata": {},
   "source": [
    "### data 불러오기"
   ]
  },
  {
   "cell_type": "code",
   "execution_count": 5,
   "metadata": {},
   "outputs": [],
   "source": [
    "Y_초순_패션 = pd.read_csv('RecoSystem/data/Y_초순_패션.csv')\n",
    "Y_중순_패션 = pd.read_csv('RecoSystem/data/Y_중순_패션.csv')\n",
    "Y_하순_패션 = pd.read_csv('RecoSystem/data/Y_하순_패션.csv')\n",
    "\n",
    "Y_초순_화장품 = pd.read_csv('RecoSystem/data/Y_초순_화장품.csv')\n",
    "Y_중순_화장품 = pd.read_csv('RecoSystem/data/Y_중순_화장품.csv')\n",
    "Y_하순_화장품 = pd.read_csv('RecoSystem/data/Y_하순_화장품.csv')\n",
    "\n",
    "Y_초순_가전제품 = pd.read_csv('RecoSystem/data/Y_초순_가전제품.csv')\n",
    "Y_중순_가전제품 = pd.read_csv('RecoSystem/data/Y_중순_가전제품.csv')\n",
    "Y_하순_가전제품 = pd.read_csv('RecoSystem/data/Y_하순_가전제품.csv')"
   ]
  },
  {
   "cell_type": "code",
   "execution_count": 7,
   "metadata": {},
   "outputs": [
    {
     "data": {
      "text/plain": [
       "0    991\n",
       "1     47\n",
       "Name: 가전제품구매, dtype: int64"
      ]
     },
     "execution_count": 7,
     "metadata": {},
     "output_type": "execute_result"
    }
   ],
   "source": [
    "Y_초순_가전제품['가전제품구매'].value_counts()"
   ]
  },
  {
   "cell_type": "code",
   "execution_count": 8,
   "metadata": {},
   "outputs": [],
   "source": [
    "X_초순_패션 = pd.read_csv('RecoSystem/data/초순_패션_3d_array.csv')\n",
    "X_중순_패션 = pd.read_csv('RecoSystem/data/중순_패션_3d_array.csv')\n",
    "X_하순_패션 = pd.read_csv('RecoSystem/data/하순_패션_3d_array.csv')\n",
    "\n",
    "X_초순_화장품 = pd.read_csv('RecoSystem/data/초순_화장품_3d_array.csv')\n",
    "X_중순_화장품 = pd.read_csv('RecoSystem/data/중순_화장품_3d_array.csv')\n",
    "X_하순_화장품 = pd.read_csv('RecoSystem/data/하순_화장품_3d_array.csv')\n",
    "\n",
    "X_초순_가전제품 = pd.read_csv('RecoSystem/data/초순_가전제품_3d_array.csv')\n",
    "X_중순_가전제품 = pd.read_csv('RecoSystem/data/중순_가전제품_3d_array.csv')\n",
    "X_하순_가전제품 = pd.read_csv('RecoSystem/data/하순_가전제품_3d_array.csv')"
   ]
  },
  {
   "cell_type": "code",
   "execution_count": 9,
   "metadata": {},
   "outputs": [
    {
     "data": {
      "text/html": [
       "<div>\n",
       "<style scoped>\n",
       "    .dataframe tbody tr th:only-of-type {\n",
       "        vertical-align: middle;\n",
       "    }\n",
       "\n",
       "    .dataframe tbody tr th {\n",
       "        vertical-align: top;\n",
       "    }\n",
       "\n",
       "    .dataframe thead th {\n",
       "        text-align: right;\n",
       "    }\n",
       "</style>\n",
       "<table border=\"1\" class=\"dataframe\">\n",
       "  <thead>\n",
       "    <tr style=\"text-align: right;\">\n",
       "      <th></th>\n",
       "      <th>0</th>\n",
       "      <th>1</th>\n",
       "      <th>2</th>\n",
       "      <th>3</th>\n",
       "      <th>4</th>\n",
       "      <th>5</th>\n",
       "      <th>6</th>\n",
       "      <th>7</th>\n",
       "      <th>8</th>\n",
       "      <th>9</th>\n",
       "      <th>...</th>\n",
       "      <th>94990</th>\n",
       "      <th>94991</th>\n",
       "      <th>94992</th>\n",
       "      <th>94993</th>\n",
       "      <th>94994</th>\n",
       "      <th>94995</th>\n",
       "      <th>94996</th>\n",
       "      <th>94997</th>\n",
       "      <th>94998</th>\n",
       "      <th>94999</th>\n",
       "    </tr>\n",
       "  </thead>\n",
       "  <tbody>\n",
       "    <tr>\n",
       "      <th>0</th>\n",
       "      <td>0</td>\n",
       "      <td>0</td>\n",
       "      <td>0</td>\n",
       "      <td>0</td>\n",
       "      <td>0</td>\n",
       "      <td>0</td>\n",
       "      <td>0</td>\n",
       "      <td>0</td>\n",
       "      <td>0</td>\n",
       "      <td>0</td>\n",
       "      <td>...</td>\n",
       "      <td>1</td>\n",
       "      <td>0</td>\n",
       "      <td>0</td>\n",
       "      <td>0</td>\n",
       "      <td>0</td>\n",
       "      <td>0</td>\n",
       "      <td>0</td>\n",
       "      <td>0</td>\n",
       "      <td>0</td>\n",
       "      <td>0</td>\n",
       "    </tr>\n",
       "    <tr>\n",
       "      <th>1</th>\n",
       "      <td>0</td>\n",
       "      <td>0</td>\n",
       "      <td>0</td>\n",
       "      <td>0</td>\n",
       "      <td>0</td>\n",
       "      <td>0</td>\n",
       "      <td>0</td>\n",
       "      <td>0</td>\n",
       "      <td>0</td>\n",
       "      <td>0</td>\n",
       "      <td>...</td>\n",
       "      <td>0</td>\n",
       "      <td>0</td>\n",
       "      <td>0</td>\n",
       "      <td>0</td>\n",
       "      <td>0</td>\n",
       "      <td>0</td>\n",
       "      <td>0</td>\n",
       "      <td>0</td>\n",
       "      <td>1</td>\n",
       "      <td>0</td>\n",
       "    </tr>\n",
       "    <tr>\n",
       "      <th>2</th>\n",
       "      <td>0</td>\n",
       "      <td>0</td>\n",
       "      <td>0</td>\n",
       "      <td>0</td>\n",
       "      <td>0</td>\n",
       "      <td>0</td>\n",
       "      <td>0</td>\n",
       "      <td>0</td>\n",
       "      <td>0</td>\n",
       "      <td>0</td>\n",
       "      <td>...</td>\n",
       "      <td>0</td>\n",
       "      <td>0</td>\n",
       "      <td>0</td>\n",
       "      <td>0</td>\n",
       "      <td>0</td>\n",
       "      <td>0</td>\n",
       "      <td>0</td>\n",
       "      <td>0</td>\n",
       "      <td>0</td>\n",
       "      <td>0</td>\n",
       "    </tr>\n",
       "    <tr>\n",
       "      <th>3</th>\n",
       "      <td>0</td>\n",
       "      <td>0</td>\n",
       "      <td>0</td>\n",
       "      <td>0</td>\n",
       "      <td>0</td>\n",
       "      <td>0</td>\n",
       "      <td>0</td>\n",
       "      <td>0</td>\n",
       "      <td>0</td>\n",
       "      <td>0</td>\n",
       "      <td>...</td>\n",
       "      <td>0</td>\n",
       "      <td>0</td>\n",
       "      <td>0</td>\n",
       "      <td>0</td>\n",
       "      <td>0</td>\n",
       "      <td>0</td>\n",
       "      <td>0</td>\n",
       "      <td>0</td>\n",
       "      <td>0</td>\n",
       "      <td>0</td>\n",
       "    </tr>\n",
       "    <tr>\n",
       "      <th>4</th>\n",
       "      <td>0</td>\n",
       "      <td>0</td>\n",
       "      <td>0</td>\n",
       "      <td>0</td>\n",
       "      <td>0</td>\n",
       "      <td>0</td>\n",
       "      <td>0</td>\n",
       "      <td>0</td>\n",
       "      <td>0</td>\n",
       "      <td>0</td>\n",
       "      <td>...</td>\n",
       "      <td>0</td>\n",
       "      <td>0</td>\n",
       "      <td>0</td>\n",
       "      <td>0</td>\n",
       "      <td>0</td>\n",
       "      <td>0</td>\n",
       "      <td>0</td>\n",
       "      <td>0</td>\n",
       "      <td>1</td>\n",
       "      <td>0</td>\n",
       "    </tr>\n",
       "  </tbody>\n",
       "</table>\n",
       "<p>5 rows × 95000 columns</p>\n",
       "</div>"
      ],
      "text/plain": [
       "   0  1  2  3  4  5  6  7  8  9  ...  94990  94991  94992  94993  94994  \\\n",
       "0  0  0  0  0  0  0  0  0  0  0  ...      1      0      0      0      0   \n",
       "1  0  0  0  0  0  0  0  0  0  0  ...      0      0      0      0      0   \n",
       "2  0  0  0  0  0  0  0  0  0  0  ...      0      0      0      0      0   \n",
       "3  0  0  0  0  0  0  0  0  0  0  ...      0      0      0      0      0   \n",
       "4  0  0  0  0  0  0  0  0  0  0  ...      0      0      0      0      0   \n",
       "\n",
       "   94995  94996  94997  94998  94999  \n",
       "0      0      0      0      0      0  \n",
       "1      0      0      0      1      0  \n",
       "2      0      0      0      0      0  \n",
       "3      0      0      0      0      0  \n",
       "4      0      0      0      1      0  \n",
       "\n",
       "[5 rows x 95000 columns]"
      ]
     },
     "execution_count": 9,
     "metadata": {},
     "output_type": "execute_result"
    }
   ],
   "source": [
    "X_초순_가전제품.head()"
   ]
  },
  {
   "cell_type": "code",
   "execution_count": 10,
   "metadata": {},
   "outputs": [],
   "source": [
    "X_초순_가전제품 = np.asarray(X_초순_가전제품)\n",
    "X_중순_가전제품 = np.asarray(X_중순_가전제품)\n",
    "X_하순_가전제품 = np.asarray(X_하순_가전제품)"
   ]
  },
  {
   "cell_type": "code",
   "execution_count": 11,
   "metadata": {},
   "outputs": [],
   "source": [
    "Y_초순_가전제품 = np.asarray(Y_초순_가전제품.iloc[:, 1:])\n",
    "Y_중순_가전제품 = np.asarray(Y_중순_가전제품.iloc[:, 1:])\n",
    "Y_하순_가전제품 = np.asarray(Y_하순_가전제품.iloc[:, 1:])"
   ]
  },
  {
   "cell_type": "code",
   "execution_count": 12,
   "metadata": {},
   "outputs": [],
   "source": [
    "X_초순_가전제품 = X_초순_가전제품.reshape(-1, 5000, 19)\n",
    "X_중순_가전제품 = X_중순_가전제품.reshape(-1, 5000, 19)\n",
    "X_하순_가전제품 = X_하순_가전제품.reshape(-1, 5000, 19)"
   ]
  },
  {
   "cell_type": "markdown",
   "metadata": {},
   "source": [
    "#### oversampling"
   ]
  },
  {
   "cell_type": "code",
   "execution_count": 13,
   "metadata": {},
   "outputs": [],
   "source": [
    "smote = SMOTE()"
   ]
  },
  {
   "cell_type": "code",
   "execution_count": 14,
   "metadata": {},
   "outputs": [],
   "source": [
    "#5000일때 자꾸 커널이 죽음\n",
    "def oversample(X, Y):\n",
    "    max_len = 5000\n",
    "    X_resampled, Y_resampled = smote.fit_resample(X, Y)\n",
    "    X_resampled = X_resampled.reshape(X_resampled.shape[0], max_len, int(X_resampled.shape[1]/max_len))\n",
    "    return X_resampled, Y_resampled"
   ]
  },
  {
   "cell_type": "code",
   "execution_count": 17,
   "metadata": {},
   "outputs": [
    {
     "data": {
      "text/plain": [
       "array([[0],\n",
       "       [0],\n",
       "       [0],\n",
       "       ...,\n",
       "       [0],\n",
       "       [0],\n",
       "       [0]])"
      ]
     },
     "execution_count": 17,
     "metadata": {},
     "output_type": "execute_result"
    }
   ],
   "source": [
    "Y_초순_가전제품"
   ]
  },
  {
   "cell_type": "code",
   "execution_count": 16,
   "metadata": {},
   "outputs": [
    {
     "ename": "ValueError",
     "evalue": "Found array with dim 3. Estimator expected <= 2.",
     "output_type": "error",
     "traceback": [
      "\u001b[0;31m---------------------------------------------------------------------------\u001b[0m",
      "\u001b[0;31mValueError\u001b[0m                                Traceback (most recent call last)",
      "\u001b[0;32m<ipython-input-16-73bdf17f99af>\u001b[0m in \u001b[0;36m<module>\u001b[0;34m()\u001b[0m\n\u001b[0;32m----> 1\u001b[0;31m \u001b[0mX_초순_가전제품_resampled\u001b[0m\u001b[0;34m,\u001b[0m \u001b[0mY_초순_가전제품_resampled\u001b[0m \u001b[0;34m=\u001b[0m\u001b[0moversample\u001b[0m\u001b[0;34m(\u001b[0m\u001b[0mX_초순_가전제품\u001b[0m\u001b[0;34m,\u001b[0m \u001b[0mY_초순_가전제품\u001b[0m\u001b[0;34m)\u001b[0m\u001b[0;34m\u001b[0m\u001b[0;34m\u001b[0m\u001b[0m\n\u001b[0m\u001b[1;32m      2\u001b[0m \u001b[0mX_중순_가전제품_resampled\u001b[0m\u001b[0;34m,\u001b[0m \u001b[0mY_중순_가전제품_resampled\u001b[0m \u001b[0;34m=\u001b[0m\u001b[0moversample\u001b[0m\u001b[0;34m(\u001b[0m\u001b[0mX_중순_가전제품\u001b[0m\u001b[0;34m,\u001b[0m \u001b[0mY_중순_가전제품\u001b[0m\u001b[0;34m)\u001b[0m\u001b[0;34m\u001b[0m\u001b[0;34m\u001b[0m\u001b[0m\n\u001b[1;32m      3\u001b[0m \u001b[0mX_하순_가전제품_resampled\u001b[0m\u001b[0;34m,\u001b[0m \u001b[0mY_하순_가전제품_resampled\u001b[0m \u001b[0;34m=\u001b[0m\u001b[0moversample\u001b[0m\u001b[0;34m(\u001b[0m\u001b[0mX_하순_가전제품\u001b[0m\u001b[0;34m,\u001b[0m \u001b[0mY_하순_가전제품\u001b[0m\u001b[0;34m)\u001b[0m\u001b[0;34m\u001b[0m\u001b[0;34m\u001b[0m\u001b[0m\n",
      "\u001b[0;32m<ipython-input-14-a0dc35e7383c>\u001b[0m in \u001b[0;36moversample\u001b[0;34m(X, Y)\u001b[0m\n\u001b[1;32m      2\u001b[0m \u001b[0;32mdef\u001b[0m \u001b[0moversample\u001b[0m\u001b[0;34m(\u001b[0m\u001b[0mX\u001b[0m\u001b[0;34m,\u001b[0m \u001b[0mY\u001b[0m\u001b[0;34m)\u001b[0m\u001b[0;34m:\u001b[0m\u001b[0;34m\u001b[0m\u001b[0;34m\u001b[0m\u001b[0m\n\u001b[1;32m      3\u001b[0m     \u001b[0mmax_len\u001b[0m \u001b[0;34m=\u001b[0m \u001b[0;36m5000\u001b[0m\u001b[0;34m\u001b[0m\u001b[0;34m\u001b[0m\u001b[0m\n\u001b[0;32m----> 4\u001b[0;31m     \u001b[0mX_resampled\u001b[0m\u001b[0;34m,\u001b[0m \u001b[0mY_resampled\u001b[0m \u001b[0;34m=\u001b[0m \u001b[0msmote\u001b[0m\u001b[0;34m.\u001b[0m\u001b[0mfit_resample\u001b[0m\u001b[0;34m(\u001b[0m\u001b[0mX\u001b[0m\u001b[0;34m,\u001b[0m \u001b[0mY\u001b[0m\u001b[0;34m)\u001b[0m\u001b[0;34m\u001b[0m\u001b[0;34m\u001b[0m\u001b[0m\n\u001b[0m\u001b[1;32m      5\u001b[0m     \u001b[0mX_resampled\u001b[0m \u001b[0;34m=\u001b[0m \u001b[0mX_resampled\u001b[0m\u001b[0;34m.\u001b[0m\u001b[0mreshape\u001b[0m\u001b[0;34m(\u001b[0m\u001b[0mX_resampled\u001b[0m\u001b[0;34m.\u001b[0m\u001b[0mshape\u001b[0m\u001b[0;34m[\u001b[0m\u001b[0;36m0\u001b[0m\u001b[0;34m]\u001b[0m\u001b[0;34m,\u001b[0m \u001b[0mmax_len\u001b[0m\u001b[0;34m,\u001b[0m \u001b[0mint\u001b[0m\u001b[0;34m(\u001b[0m\u001b[0mX_resampled\u001b[0m\u001b[0;34m.\u001b[0m\u001b[0mshape\u001b[0m\u001b[0;34m[\u001b[0m\u001b[0;36m1\u001b[0m\u001b[0;34m]\u001b[0m\u001b[0;34m/\u001b[0m\u001b[0mmax_len\u001b[0m\u001b[0;34m)\u001b[0m\u001b[0;34m)\u001b[0m\u001b[0;34m\u001b[0m\u001b[0;34m\u001b[0m\u001b[0m\n\u001b[1;32m      6\u001b[0m     \u001b[0;32mreturn\u001b[0m \u001b[0mX_resampled\u001b[0m\u001b[0;34m,\u001b[0m \u001b[0mY_resampled\u001b[0m\u001b[0;34m\u001b[0m\u001b[0;34m\u001b[0m\u001b[0m\n",
      "\u001b[0;32m/usr/local/lib/python3.6/dist-packages/imblearn/base.py\u001b[0m in \u001b[0;36mfit_resample\u001b[0;34m(self, X, y)\u001b[0m\n\u001b[1;32m     73\u001b[0m         \"\"\"\n\u001b[1;32m     74\u001b[0m         \u001b[0mcheck_classification_targets\u001b[0m\u001b[0;34m(\u001b[0m\u001b[0my\u001b[0m\u001b[0;34m)\u001b[0m\u001b[0;34m\u001b[0m\u001b[0;34m\u001b[0m\u001b[0m\n\u001b[0;32m---> 75\u001b[0;31m         \u001b[0mX\u001b[0m\u001b[0;34m,\u001b[0m \u001b[0my\u001b[0m\u001b[0;34m,\u001b[0m \u001b[0mbinarize_y\u001b[0m \u001b[0;34m=\u001b[0m \u001b[0mself\u001b[0m\u001b[0;34m.\u001b[0m\u001b[0m_check_X_y\u001b[0m\u001b[0;34m(\u001b[0m\u001b[0mX\u001b[0m\u001b[0;34m,\u001b[0m \u001b[0my\u001b[0m\u001b[0;34m)\u001b[0m\u001b[0;34m\u001b[0m\u001b[0;34m\u001b[0m\u001b[0m\n\u001b[0m\u001b[1;32m     76\u001b[0m \u001b[0;34m\u001b[0m\u001b[0m\n\u001b[1;32m     77\u001b[0m         self.sampling_strategy_ = check_sampling_strategy(\n",
      "\u001b[0;32m/usr/local/lib/python3.6/dist-packages/imblearn/base.py\u001b[0m in \u001b[0;36m_check_X_y\u001b[0;34m(self, X, y, accept_sparse)\u001b[0m\n\u001b[1;32m    157\u001b[0m             \u001b[0maccept_sparse\u001b[0m \u001b[0;34m=\u001b[0m \u001b[0;34m[\u001b[0m\u001b[0;34m\"csr\"\u001b[0m\u001b[0;34m,\u001b[0m \u001b[0;34m\"csc\"\u001b[0m\u001b[0;34m]\u001b[0m\u001b[0;34m\u001b[0m\u001b[0;34m\u001b[0m\u001b[0m\n\u001b[1;32m    158\u001b[0m         \u001b[0my\u001b[0m\u001b[0;34m,\u001b[0m \u001b[0mbinarize_y\u001b[0m \u001b[0;34m=\u001b[0m \u001b[0mcheck_target_type\u001b[0m\u001b[0;34m(\u001b[0m\u001b[0my\u001b[0m\u001b[0;34m,\u001b[0m \u001b[0mindicate_one_vs_all\u001b[0m\u001b[0;34m=\u001b[0m\u001b[0;32mTrue\u001b[0m\u001b[0;34m)\u001b[0m\u001b[0;34m\u001b[0m\u001b[0;34m\u001b[0m\u001b[0m\n\u001b[0;32m--> 159\u001b[0;31m         \u001b[0mX\u001b[0m\u001b[0;34m,\u001b[0m \u001b[0my\u001b[0m \u001b[0;34m=\u001b[0m \u001b[0mcheck_X_y\u001b[0m\u001b[0;34m(\u001b[0m\u001b[0mX\u001b[0m\u001b[0;34m,\u001b[0m \u001b[0my\u001b[0m\u001b[0;34m,\u001b[0m \u001b[0maccept_sparse\u001b[0m\u001b[0;34m=\u001b[0m\u001b[0maccept_sparse\u001b[0m\u001b[0;34m)\u001b[0m\u001b[0;34m\u001b[0m\u001b[0;34m\u001b[0m\u001b[0m\n\u001b[0m\u001b[1;32m    160\u001b[0m         \u001b[0;32mreturn\u001b[0m \u001b[0mX\u001b[0m\u001b[0;34m,\u001b[0m \u001b[0my\u001b[0m\u001b[0;34m,\u001b[0m \u001b[0mbinarize_y\u001b[0m\u001b[0;34m\u001b[0m\u001b[0;34m\u001b[0m\u001b[0m\n\u001b[1;32m    161\u001b[0m \u001b[0;34m\u001b[0m\u001b[0m\n",
      "\u001b[0;32m/usr/local/lib/python3.6/dist-packages/sklearn/utils/validation.py\u001b[0m in \u001b[0;36mcheck_X_y\u001b[0;34m(X, y, accept_sparse, accept_large_sparse, dtype, order, copy, force_all_finite, ensure_2d, allow_nd, multi_output, ensure_min_samples, ensure_min_features, y_numeric, warn_on_dtype, estimator)\u001b[0m\n\u001b[1;32m    753\u001b[0m                     \u001b[0mensure_min_features\u001b[0m\u001b[0;34m=\u001b[0m\u001b[0mensure_min_features\u001b[0m\u001b[0;34m,\u001b[0m\u001b[0;34m\u001b[0m\u001b[0;34m\u001b[0m\u001b[0m\n\u001b[1;32m    754\u001b[0m                     \u001b[0mwarn_on_dtype\u001b[0m\u001b[0;34m=\u001b[0m\u001b[0mwarn_on_dtype\u001b[0m\u001b[0;34m,\u001b[0m\u001b[0;34m\u001b[0m\u001b[0;34m\u001b[0m\u001b[0m\n\u001b[0;32m--> 755\u001b[0;31m                     estimator=estimator)\n\u001b[0m\u001b[1;32m    756\u001b[0m     \u001b[0;32mif\u001b[0m \u001b[0mmulti_output\u001b[0m\u001b[0;34m:\u001b[0m\u001b[0;34m\u001b[0m\u001b[0;34m\u001b[0m\u001b[0m\n\u001b[1;32m    757\u001b[0m         y = check_array(y, 'csr', force_all_finite=True, ensure_2d=False,\n",
      "\u001b[0;32m/usr/local/lib/python3.6/dist-packages/sklearn/utils/validation.py\u001b[0m in \u001b[0;36mcheck_array\u001b[0;34m(array, accept_sparse, accept_large_sparse, dtype, order, copy, force_all_finite, ensure_2d, allow_nd, ensure_min_samples, ensure_min_features, warn_on_dtype, estimator)\u001b[0m\n\u001b[1;32m    572\u001b[0m         \u001b[0;32mif\u001b[0m \u001b[0;32mnot\u001b[0m \u001b[0mallow_nd\u001b[0m \u001b[0;32mand\u001b[0m \u001b[0marray\u001b[0m\u001b[0;34m.\u001b[0m\u001b[0mndim\u001b[0m \u001b[0;34m>=\u001b[0m \u001b[0;36m3\u001b[0m\u001b[0;34m:\u001b[0m\u001b[0;34m\u001b[0m\u001b[0;34m\u001b[0m\u001b[0m\n\u001b[1;32m    573\u001b[0m             raise ValueError(\"Found array with dim %d. %s expected <= 2.\"\n\u001b[0;32m--> 574\u001b[0;31m                              % (array.ndim, estimator_name))\n\u001b[0m\u001b[1;32m    575\u001b[0m \u001b[0;34m\u001b[0m\u001b[0m\n\u001b[1;32m    576\u001b[0m         \u001b[0;32mif\u001b[0m \u001b[0mforce_all_finite\u001b[0m\u001b[0;34m:\u001b[0m\u001b[0;34m\u001b[0m\u001b[0;34m\u001b[0m\u001b[0m\n",
      "\u001b[0;31mValueError\u001b[0m: Found array with dim 3. Estimator expected <= 2."
     ]
    }
   ],
   "source": [
    "X_초순_가전제품_resampled, Y_초순_가전제품_resampled =oversample(X_초순_가전제품, Y_초순_가전제품)\n",
    "X_중순_가전제품_resampled, Y_중순_가전제품_resampled =oversample(X_중순_가전제품, Y_중순_가전제품)\n",
    "X_하순_가전제품_resampled, Y_하순_가전제품_resampled =oversample(X_하순_가전제품, Y_하순_가전제품)"
   ]
  },
  {
   "cell_type": "markdown",
   "metadata": {},
   "source": [
    "### LSTM 가동"
   ]
  },
  {
   "cell_type": "code",
   "execution_count": 31,
   "metadata": {},
   "outputs": [],
   "source": [
    "from keras import backend as K\n",
    "\n",
    "def recall_m(y_true, y_pred):\n",
    "        true_positives = K.sum(K.round(K.clip(y_true * y_pred, 0, 1)))\n",
    "        possible_positives = K.sum(K.round(K.clip(y_true, 0, 1)))\n",
    "        recall = true_positives / (possible_positives + K.epsilon())\n",
    "        return recall\n",
    "\n",
    "def precision_m(y_true, y_pred):\n",
    "        true_positives = K.sum(K.round(K.clip(y_true * y_pred, 0, 1)))\n",
    "        predicted_positives = K.sum(K.round(K.clip(y_pred, 0, 1)))\n",
    "        precision = true_positives / (predicted_positives + K.epsilon())\n",
    "        return precision\n",
    "\n",
    "def f1_m(y_true, y_pred):\n",
    "    precision = precision_m(y_true, y_pred)\n",
    "    recall = recall_m(y_true, y_pred)\n",
    "    return 2*((precision*recall)/(precision+recall+K.epsilon()))"
   ]
  },
  {
   "cell_type": "markdown",
   "metadata": {},
   "source": [
    "#### 초순"
   ]
  },
  {
   "cell_type": "code",
   "execution_count": 18,
   "metadata": {},
   "outputs": [],
   "source": [
    "X_train, X_test, y_train, y_test = train_test_split(\n",
    "X_초순_가전제품, Y_초순_가전제품, test_size=0.3, random_state=42)"
   ]
  },
  {
   "cell_type": "code",
   "execution_count": 19,
   "metadata": {},
   "outputs": [],
   "source": [
    "#y_train = to_categorical(y_train)\n",
    "#y_test = to_categorical(y_test)"
   ]
  },
  {
   "cell_type": "code",
   "execution_count": 20,
   "metadata": {},
   "outputs": [],
   "source": [
    "#masking layer 추가(https://stackoverflow.com/questions/49670832/keras-lstm-with-masking-layer-for-variable-length-inputs)\n",
    "def get_model(input_shape):\n",
    "    model = Sequential()\n",
    "    model.add(Masking(mask_value=0., input_shape=(X_train.shape[1], X_train.shape[2])))\n",
    "    model.add(LSTM(64,input_shape = input_shape))\n",
    "    #model.add(GlobalMaxPool1D())\n",
    "    model.add(Dense(32, activation= 'relu'))\n",
    "    model.add(Dropout(0.2))\n",
    "    model.add(Dense(16, activation= 'relu'))\n",
    "    model.add(Dense(4, activation='sigmoid'))\n",
    "\n",
    "    return model\n"
   ]
  },
  {
   "cell_type": "code",
   "execution_count": null,
   "metadata": {},
   "outputs": [],
   "source": [
    "    model.compile(loss='categorical_crossentropy', optimizer=RMSprop(lr= 0.001, rho = 0.9), metrics=['acc'])\n",
    "    print(model.summary())"
   ]
  },
  {
   "cell_type": "markdown",
   "metadata": {},
   "source": [
    "#### Bayesian Optimization"
   ]
  },
  {
   "cell_type": "code",
   "execution_count": 131,
   "metadata": {},
   "outputs": [],
   "source": [
    "def fit_with(input_shape, verbose, lr):\n",
    "\n",
    "    # Create the model using a specified hyperparameters.\n",
    "    model = get_model(input_shape)\n",
    "\n",
    "    # Train the model for a specified number of epochs.\n",
    "    optimizer = RMSprop(learning_rate=lr)\n",
    "    model.compile(loss=tf.keras.losses.categorical_crossentropy,\n",
    "                  optimizer=optimizer,\n",
    "                  metrics=['accuracy'])\n",
    "\n",
    "    # Train the model with the train dataset.\n",
    "    model.fit(x=X_train,y= y_train ,epochs=1,\n",
    "              batch_size=64, verbose=verbose)\n",
    "\n",
    "    # Evaluate the model with the eval dataset.\n",
    "    score = model.evaluate(X_test,y= y_test ,steps=10, verbose=0)\n",
    "    print('Test loss:', score[0])\n",
    "    print('Test accuracy:', score[1])\n",
    "\n",
    "    # Return the accuracy.\n",
    "\n",
    "    return score[1]\n",
    "from functools import partial\n",
    "input_shape = (X_train.shape[1], X_train.shape[2])\n",
    "verbose = 1\n",
    "fit_with_partial = partial(fit_with, input_shape, verbose)"
   ]
  },
  {
   "cell_type": "code",
   "execution_count": 132,
   "metadata": {},
   "outputs": [
    {
     "name": "stdout",
     "output_type": "stream",
     "text": [
      "|   iter    |  target   |    lr     |\n",
      "-------------------------------------\n",
      "Epoch 1/1\n",
      "1606/1606 [==============================] - 116s 72ms/step - loss: 1.2703 - accuracy: 0.3767\n",
      "Test loss: 0.10801259279251099\n",
      "Test accuracy: 4.716981053352356\n",
      "| \u001b[0m 1       \u001b[0m | \u001b[0m 4.717   \u001b[0m | \u001b[0m 0.004229\u001b[0m |\n",
      "Epoch 1/1\n",
      "1606/1606 [==============================] - 118s 73ms/step - loss: 1.0698 - accuracy: 0.4284\n",
      "Test loss: 0.10224945545196533\n",
      "Test accuracy: 4.296081364154816\n",
      "| \u001b[0m 2       \u001b[0m | \u001b[0m 4.296   \u001b[0m | \u001b[0m 0.007231\u001b[0m |\n",
      "Epoch 1/1\n",
      "1606/1606 [==============================] - 125s 78ms/step - loss: 1.4472 - accuracy: 0.2416\n",
      "Test loss: 0.14132689237594603\n",
      "Test accuracy: 3.294629752635956\n",
      "| \u001b[0m 3       \u001b[0m | \u001b[0m 3.295   \u001b[0m | \u001b[0m 0.000101\u001b[0m |\n",
      "Epoch 1/1\n",
      "1606/1606 [==============================] - 118s 73ms/step - loss: 1.1305 - accuracy: 0.4732\n",
      "Test loss: 0.09361357092857361\n",
      "Test accuracy: 5.703918933868408\n",
      "| \u001b[95m 4       \u001b[0m | \u001b[95m 5.704   \u001b[0m | \u001b[95m 0.003093\u001b[0m |\n",
      "Epoch 1/1\n",
      "1606/1606 [==============================] - 118s 73ms/step - loss: 1.1579 - accuracy: 0.3761\n",
      "Test loss: 0.106751549243927\n",
      "Test accuracy: 5.07982611656189\n",
      "| \u001b[0m 5       \u001b[0m | \u001b[0m 5.08    \u001b[0m | \u001b[0m 0.001553\u001b[0m |\n",
      "Epoch 1/1\n",
      "1606/1606 [==============================] - 127s 79ms/step - loss: 1.1653 - accuracy: 0.3817\n",
      "Test loss: 0.10989166498184204\n",
      "Test accuracy: 3.570391833782196\n",
      "| \u001b[0m 6       \u001b[0m | \u001b[0m 3.57    \u001b[0m | \u001b[0m 0.001014\u001b[0m |\n",
      "Epoch 1/1\n",
      "1606/1606 [==============================] - 120s 75ms/step - loss: 1.1504 - accuracy: 0.3350\n",
      "Test loss: 0.10425639152526855\n",
      "Test accuracy: 3.4397676587104797\n",
      "| \u001b[0m 7       \u001b[0m | \u001b[0m 3.44    \u001b[0m | \u001b[0m 0.001944\u001b[0m |\n",
      "Epoch 1/1\n",
      "1606/1606 [==============================] - 115s 72ms/step - loss: 1.0831 - accuracy: 0.4477\n",
      "Test loss: 0.09328081011772156\n",
      "Test accuracy: 5.3410738706588745\n",
      "| \u001b[0m 8       \u001b[0m | \u001b[0m 5.341   \u001b[0m | \u001b[0m 0.003521\u001b[0m |\n",
      "Epoch 1/1\n",
      "1606/1606 [==============================] - 119s 74ms/step - loss: 1.0481 - accuracy: 0.5093\n",
      "Test loss: 0.09408735036849976\n",
      "Test accuracy: 5.181422233581543\n",
      "| \u001b[0m 9       \u001b[0m | \u001b[0m 5.181   \u001b[0m | \u001b[0m 0.004028\u001b[0m |\n",
      "Epoch 1/1\n",
      "1606/1606 [==============================] - 116s 72ms/step - loss: 1.0610 - accuracy: 0.4259\n",
      "Test loss: 0.09999374747276306\n",
      "Test accuracy: 5.1233673095703125\n",
      "| \u001b[0m 10      \u001b[0m | \u001b[0m 5.123   \u001b[0m | \u001b[0m 0.005434\u001b[0m |\n",
      "Epoch 1/1\n",
      "1606/1606 [==============================] - 118s 74ms/step - loss: 1.0870 - accuracy: 0.4352\n",
      "Test loss: 0.09493661522865296\n",
      "Test accuracy: 5.37010133266449\n",
      "| \u001b[0m 11      \u001b[0m | \u001b[0m 5.37    \u001b[0m | \u001b[0m 0.002761\u001b[0m |\n",
      "Epoch 1/1\n",
      "1606/1606 [==============================] - 113s 70ms/step - loss: 1.0481 - accuracy: 0.4508\n",
      "Test loss: 0.09434975385665893\n",
      "Test accuracy: 5.13788104057312\n",
      "| \u001b[0m 12      \u001b[0m | \u001b[0m 5.138   \u001b[0m | \u001b[0m 0.006024\u001b[0m |\n",
      "Epoch 1/1\n",
      "1606/1606 [==============================] - 123s 76ms/step - loss: 0.9825 - accuracy: 0.4888\n",
      "Test loss: 0.08982491493225098\n",
      "Test accuracy: 5.471698045730591\n",
      "| \u001b[0m 13      \u001b[0m | \u001b[0m 5.472   \u001b[0m | \u001b[0m 0.01    \u001b[0m |\n",
      "Epoch 1/1\n",
      "1606/1606 [==============================] - 117s 73ms/step - loss: 1.0131 - accuracy: 0.4695\n",
      "Test loss: 0.09198938608169556\n",
      "Test accuracy: 5.239477753639221\n",
      "| \u001b[0m 14      \u001b[0m | \u001b[0m 5.239   \u001b[0m | \u001b[0m 0.00948 \u001b[0m |\n",
      "Epoch 1/1\n",
      "1606/1606 [==============================] - 120s 75ms/step - loss: 1.0015 - accuracy: 0.4795\n",
      "Test loss: 0.1206917405128479\n",
      "Test accuracy: 3.526850640773773\n",
      "| \u001b[0m 15      \u001b[0m | \u001b[0m 3.527   \u001b[0m | \u001b[0m 0.008739\u001b[0m |\n",
      "Epoch 1/1\n",
      "1606/1606 [==============================] - 120s 75ms/step - loss: 1.0884 - accuracy: 0.3418\n",
      "Test loss: 0.09792449474334716\n",
      "Test accuracy: 5.500725507736206\n",
      "| \u001b[0m 16      \u001b[0m | \u001b[0m 5.501   \u001b[0m | \u001b[0m 0.006538\u001b[0m |\n",
      "Epoch 1/1\n",
      "1606/1606 [==============================] - 116s 73ms/step - loss: 1.0650 - accuracy: 0.3910\n",
      "Test loss: 0.0906749963760376\n",
      "Test accuracy: 5.326560139656067\n",
      "| \u001b[0m 17      \u001b[0m | \u001b[0m 5.327   \u001b[0m | \u001b[0m 0.004927\u001b[0m |\n",
      "Epoch 1/1\n",
      "1606/1606 [==============================] - 118s 74ms/step - loss: 1.1015 - accuracy: 0.4284\n",
      "Test loss: 0.09757402539253235\n",
      "Test accuracy: 5.195935964584351\n",
      "| \u001b[0m 18      \u001b[0m | \u001b[0m 5.196   \u001b[0m | \u001b[0m 0.007925\u001b[0m |\n",
      "Epoch 1/1\n",
      "1606/1606 [==============================] - 115s 72ms/step - loss: 1.1517 - accuracy: 0.3711\n",
      "Test loss: 0.10731278657913208\n",
      "Test accuracy: 3.889695107936859\n",
      "| \u001b[0m 19      \u001b[0m | \u001b[0m 3.89    \u001b[0m | \u001b[0m 0.003107\u001b[0m |\n",
      "Epoch 1/1\n",
      "1606/1606 [==============================] - 114s 71ms/step - loss: 1.0671 - accuracy: 0.3979\n",
      "Test loss: 0.09564208984375\n",
      "Test accuracy: 5.3410738706588745\n",
      "| \u001b[0m 20      \u001b[0m | \u001b[0m 5.341   \u001b[0m | \u001b[0m 0.003081\u001b[0m |\n",
      "=====================================\n",
      "Iteration 0: \n",
      "\t{'target': 4.716981053352356, 'params': {'lr': 0.004228517846555483}}\n",
      "Iteration 1: \n",
      "\t{'target': 4.296081364154816, 'params': {'lr': 0.007231212485077366}}\n",
      "Iteration 2: \n",
      "\t{'target': 3.294629752635956, 'params': {'lr': 0.00010113231069171439}}\n",
      "Iteration 3: \n",
      "\t{'target': 5.703918933868408, 'params': {'lr': 0.003093092469055214}}\n",
      "Iteration 4: \n",
      "\t{'target': 5.07982611656189, 'params': {'lr': 0.0015528833190894193}}\n",
      "Iteration 5: \n",
      "\t{'target': 3.570391833782196, 'params': {'lr': 0.0010141520882110983}}\n",
      "Iteration 6: \n",
      "\t{'target': 3.4397676587104797, 'params': {'lr': 0.0019439760926389421}}\n",
      "Iteration 7: \n",
      "\t{'target': 5.3410738706588745, 'params': {'lr': 0.003521051197726173}}\n",
      "Iteration 8: \n",
      "\t{'target': 5.181422233581543, 'params': {'lr': 0.004027997994883633}}\n",
      "Iteration 9: \n",
      "\t{'target': 5.1233673095703125, 'params': {'lr': 0.005434285666633234}}\n",
      "Iteration 10: \n",
      "\t{'target': 5.37010133266449, 'params': {'lr': 0.002761237786148106}}\n",
      "Iteration 11: \n",
      "\t{'target': 5.13788104057312, 'params': {'lr': 0.006024380690034502}}\n",
      "Iteration 12: \n",
      "\t{'target': 5.471698045730591, 'params': {'lr': 0.01}}\n",
      "Iteration 13: \n",
      "\t{'target': 5.239477753639221, 'params': {'lr': 0.009480329785707536}}\n",
      "Iteration 14: \n",
      "\t{'target': 3.526850640773773, 'params': {'lr': 0.008738926243592307}}\n",
      "Iteration 15: \n",
      "\t{'target': 5.500725507736206, 'params': {'lr': 0.00653820192570272}}\n",
      "Iteration 16: \n",
      "\t{'target': 5.326560139656067, 'params': {'lr': 0.0049274385191790645}}\n",
      "Iteration 17: \n",
      "\t{'target': 5.195935964584351, 'params': {'lr': 0.007924726935973153}}\n",
      "Iteration 18: \n",
      "\t{'target': 3.889695107936859, 'params': {'lr': 0.0031069541240735595}}\n",
      "Iteration 19: \n",
      "\t{'target': 5.3410738706588745, 'params': {'lr': 0.0030806776442324412}}\n",
      "{'target': 5.703918933868408, 'params': {'lr': 0.003093092469055214}}\n"
     ]
    }
   ],
   "source": [
    "from bayes_opt import BayesianOptimization\n",
    "\n",
    "# Bounded region of parameter space\n",
    "pbounds = {'lr': (1e-4, 1e-2)}\n",
    "\n",
    "optimizer = BayesianOptimization(\n",
    "    f=fit_with_partial,\n",
    "    pbounds=pbounds,\n",
    "    verbose=2,  # verbose = 1 prints only when a maximum is observed, verbose = 0 is silent\n",
    "    random_state=1,\n",
    ")\n",
    "\n",
    "optimizer.maximize(init_points=10, n_iter=10)\n",
    "\n",
    "\n",
    "for i, res in enumerate(optimizer.res):\n",
    "    print(\"Iteration {}: \\n\\t{}\".format(i, res))\n",
    "\n",
    "print(optimizer.max)"
   ]
  },
  {
   "cell_type": "markdown",
   "metadata": {},
   "source": [
    "### Main MOdel"
   ]
  },
  {
   "cell_type": "code",
   "execution_count": 25,
   "metadata": {},
   "outputs": [],
   "source": [
    "y_train = to_categorical(y_train)\n",
    "y_test = to_categorical(y_test)"
   ]
  },
  {
   "cell_type": "code",
   "execution_count": 32,
   "metadata": {},
   "outputs": [
    {
     "name": "stdout",
     "output_type": "stream",
     "text": [
      "Model: \"sequential_6\"\n",
      "_________________________________________________________________\n",
      "Layer (type)                 Output Shape              Param #   \n",
      "=================================================================\n",
      "masking_6 (Masking)          (None, 5000, 19)          0         \n",
      "_________________________________________________________________\n",
      "lstm_6 (LSTM)                (None, 64)                21504     \n",
      "_________________________________________________________________\n",
      "dense_16 (Dense)             (None, 32)                2080      \n",
      "_________________________________________________________________\n",
      "dense_17 (Dense)             (None, 16)                528       \n",
      "_________________________________________________________________\n",
      "dense_18 (Dense)             (None, 2)                 34        \n",
      "=================================================================\n",
      "Total params: 24,146\n",
      "Trainable params: 24,146\n",
      "Non-trainable params: 0\n",
      "_________________________________________________________________\n",
      "None\n"
     ]
    }
   ],
   "source": [
    "#masking layer 추가(https://stackoverflow.com/questions/49670832/keras-lstm-with-masking-layer-for-variable-length-inputs)\n",
    "model = Sequential()\n",
    "model.add(Masking(mask_value=0., input_shape=(X_train.shape[1], X_train.shape[2])))\n",
    "model.add(LSTM(64,input_shape = (X_train.shape[1], X_train.shape[2])))\n",
    "#model.add(Glob)\n",
    "model.add(Dense(32, activation= 'relu'))\n",
    "#model.add(Dropout(0.2))\n",
    "model.add(Dense(16, activation= 'relu'))\n",
    "model.add(Dense(2, activation='sigmoid'))\n",
    "model.compile(loss='categorical_crossentropy', optimizer=RMSprop(lr= 0.003, rho = 0.9), metrics=['acc', recall_m])\n",
    "print(model.summary())"
   ]
  },
  {
   "cell_type": "code",
   "execution_count": 33,
   "metadata": {
    "scrolled": true
   },
   "outputs": [
    {
     "name": "stdout",
     "output_type": "stream",
     "text": [
      "Train on 726 samples, validate on 312 samples\n",
      "Epoch 1/30\n",
      " - 43s - loss: 0.3406 - acc: 0.9477 - recall_m: 0.9575 - val_loss: 0.1674 - val_acc: 0.9615 - val_recall_m: 0.9700\n",
      "Epoch 2/30\n",
      " - 42s - loss: 0.2016 - acc: 0.9518 - recall_m: 0.9563 - val_loss: 0.1643 - val_acc: 0.9615 - val_recall_m: 0.9700\n",
      "Epoch 3/30\n",
      " - 42s - loss: 0.1974 - acc: 0.9518 - recall_m: 0.9563 - val_loss: 0.1633 - val_acc: 0.9615 - val_recall_m: 0.9700\n",
      "Epoch 4/30\n",
      " - 42s - loss: 0.1956 - acc: 0.9518 - recall_m: 0.9563 - val_loss: 0.1633 - val_acc: 0.9615 - val_recall_m: 0.9700\n",
      "Epoch 5/30\n",
      " - 41s - loss: 0.1938 - acc: 0.9518 - recall_m: 0.9563 - val_loss: 0.1626 - val_acc: 0.9615 - val_recall_m: 0.9700\n",
      "Epoch 6/30\n",
      " - 42s - loss: 0.1920 - acc: 0.9518 - recall_m: 0.9563 - val_loss: 0.1629 - val_acc: 0.9615 - val_recall_m: 0.9700\n",
      "Epoch 7/30\n",
      " - 42s - loss: 0.1905 - acc: 0.9518 - recall_m: 0.9563 - val_loss: 0.1642 - val_acc: 0.9615 - val_recall_m: 0.9700\n",
      "Epoch 8/30\n",
      " - 42s - loss: 0.1884 - acc: 0.9518 - recall_m: 0.9563 - val_loss: 0.1650 - val_acc: 0.9615 - val_recall_m: 0.9700\n",
      "Epoch 9/30\n",
      " - 41s - loss: 0.1867 - acc: 0.9532 - recall_m: 0.9575 - val_loss: 0.1666 - val_acc: 0.9583 - val_recall_m: 0.9675\n",
      "Epoch 10/30\n",
      " - 42s - loss: 0.1824 - acc: 0.9532 - recall_m: 0.9575 - val_loss: 0.1691 - val_acc: 0.9583 - val_recall_m: 0.9675\n",
      "Epoch 11/30\n",
      " - 41s - loss: 0.1802 - acc: 0.9532 - recall_m: 0.9575 - val_loss: 0.1688 - val_acc: 0.9583 - val_recall_m: 0.9675\n",
      "Epoch 12/30\n",
      " - 42s - loss: 0.1740 - acc: 0.9532 - recall_m: 0.9575 - val_loss: 0.1826 - val_acc: 0.9583 - val_recall_m: 0.9675\n",
      "Epoch 13/30\n",
      " - 42s - loss: 0.1705 - acc: 0.9532 - recall_m: 0.9575 - val_loss: 0.1894 - val_acc: 0.9583 - val_recall_m: 0.9675\n",
      "Epoch 14/30\n",
      " - 43s - loss: 0.1625 - acc: 0.9545 - recall_m: 0.9575 - val_loss: 0.1902 - val_acc: 0.9583 - val_recall_m: 0.9675\n",
      "Epoch 15/30\n",
      " - 42s - loss: 0.1555 - acc: 0.9545 - recall_m: 0.9588 - val_loss: 0.1980 - val_acc: 0.9583 - val_recall_m: 0.9675\n",
      "Epoch 16/30\n",
      " - 43s - loss: 0.1493 - acc: 0.9573 - recall_m: 0.9613 - val_loss: 0.2143 - val_acc: 0.9583 - val_recall_m: 0.9675\n",
      "Epoch 17/30\n",
      " - 42s - loss: 0.1439 - acc: 0.9601 - recall_m: 0.9481 - val_loss: 0.2242 - val_acc: 0.9583 - val_recall_m: 0.9675\n",
      "Epoch 18/30\n",
      " - 42s - loss: 0.1433 - acc: 0.9601 - recall_m: 0.9588 - val_loss: 0.2088 - val_acc: 0.9583 - val_recall_m: 0.9675\n",
      "Epoch 19/30\n",
      " - 41s - loss: 0.1374 - acc: 0.9601 - recall_m: 0.9625 - val_loss: 0.2023 - val_acc: 0.9615 - val_recall_m: 0.9550\n",
      "Epoch 20/30\n",
      " - 42s - loss: 0.1302 - acc: 0.9614 - recall_m: 0.9625 - val_loss: 0.2129 - val_acc: 0.9583 - val_recall_m: 0.9525\n",
      "Epoch 21/30\n",
      " - 42s - loss: 0.1284 - acc: 0.9642 - recall_m: 0.9613 - val_loss: 0.2127 - val_acc: 0.9583 - val_recall_m: 0.9550\n",
      "Epoch 22/30\n",
      " - 41s - loss: 0.1460 - acc: 0.9587 - recall_m: 0.9504 - val_loss: 0.2172 - val_acc: 0.9583 - val_recall_m: 0.9650\n",
      "Epoch 23/30\n",
      " - 41s - loss: 0.1219 - acc: 0.9642 - recall_m: 0.9613 - val_loss: 0.2217 - val_acc: 0.9583 - val_recall_m: 0.9625\n",
      "Epoch 24/30\n",
      " - 42s - loss: 0.1164 - acc: 0.9642 - recall_m: 0.9650 - val_loss: 0.2374 - val_acc: 0.9551 - val_recall_m: 0.9625\n",
      "Epoch 25/30\n",
      " - 42s - loss: 0.1136 - acc: 0.9628 - recall_m: 0.9637 - val_loss: 0.2434 - val_acc: 0.9519 - val_recall_m: 0.9525\n",
      "Epoch 26/30\n",
      " - 42s - loss: 0.1079 - acc: 0.9656 - recall_m: 0.9613 - val_loss: 0.2614 - val_acc: 0.9583 - val_recall_m: 0.9625\n",
      "Epoch 27/30\n",
      " - 41s - loss: 0.1047 - acc: 0.9683 - recall_m: 0.9600 - val_loss: 0.2527 - val_acc: 0.9583 - val_recall_m: 0.9575\n",
      "Epoch 28/30\n",
      " - 41s - loss: 0.1286 - acc: 0.9628 - recall_m: 0.9404 - val_loss: 0.2453 - val_acc: 0.9519 - val_recall_m: 0.9500\n",
      "Epoch 29/30\n",
      " - 42s - loss: 0.0906 - acc: 0.9669 - recall_m: 0.9588 - val_loss: 0.2449 - val_acc: 0.9583 - val_recall_m: 0.9475\n",
      "Epoch 30/30\n",
      " - 42s - loss: 0.0915 - acc: 0.9711 - recall_m: 0.9450 - val_loss: 0.2654 - val_acc: 0.9551 - val_recall_m: 0.9500\n"
     ]
    }
   ],
   "source": [
    "history = model.fit(X_train, y_train, epochs=30, batch_size=100, validation_data=(X_test, y_test), verbose=2, shuffle=False)"
   ]
  },
  {
   "cell_type": "code",
   "execution_count": null,
   "metadata": {},
   "outputs": [],
   "source": [
    "# plot history\n",
    "plt.plot(history.history['loss'], label='train')\n",
    "plt.plot(history.history['val_loss'], label='test')\n",
    "plt.legend()                                       \n",
    "plt.show()             "
   ]
  },
  {
   "cell_type": "markdown",
   "metadata": {},
   "source": [
    "#### feature importance"
   ]
  },
  {
   "cell_type": "code",
   "execution_count": 137,
   "metadata": {
    "scrolled": true
   },
   "outputs": [
    {
     "name": "stdout",
     "output_type": "stream",
     "text": [
      "   varible_name  perturbation_effect\n",
      "17      컴퓨터/인터넷             0.105500\n",
      "6            기타             0.067070\n",
      "9       비즈니스/쇼핑             0.064833\n",
      "0    세션당 방문사이트수             0.037320\n",
      "7        뉴스/미디어             0.025902\n",
      "1        세션지속시간             0.016763\n",
      "8         문화/예술             0.014035\n",
      "3            게임             0.005174\n",
      "11       스포츠/레저             0.005075\n",
      "15        정치/사회             0.002527\n",
      "10        생활/건강             0.002033\n",
      "2     쇼핑사이트방문여부             0.001977\n",
      "5         교육/학교             0.001861\n",
      "4        경제/재테크             0.001658\n",
      "13        연예/오락             0.000948\n",
      "18        학문/사전             0.000616\n",
      "14           인물             0.000532\n",
      "12      여행/세계정보             0.000301\n",
      "16           종교             0.000023\n"
     ]
    }
   ],
   "source": [
    "train_df = pd.DataFrame(X_train.reshape(1606*5000, 19))\n",
    "train_df.columns = ['세션당 방문사이트수','세션지속시간','쇼핑사이트방문여부' ,\n",
    "                    '게임', '경제/재테크', '교육/학교', '기타', '뉴스/미디어', '문화/예술', '비즈니스/쇼핑', '생활/건강', '스포츠/레저',\n",
    " '여행/세계정보', '연예/오락', '인물', '정치/사회', '종교', '컴퓨터/인터넷', '학문/사전']\n",
    "## Sensitivity Analysis\n",
    "importance_df = pd.DataFrame(np.zeros((19, 2)), columns=['varible_name', 'perturbation_effect'])\n",
    "def var_importance(model):\n",
    "    x = X_test # Get a sample of data\n",
    "    orig_out = model.predict(x)\n",
    "    for i in range(19):  # iterate over the three features\n",
    "        new_x = x.copy()\n",
    "        perturbation = np.random.normal(0.0, 0.2, size=new_x.shape[:2])\n",
    "        new_x[:, :, i] = new_x[:, :, i] + perturbation\n",
    "        perturbed_out = model.predict(new_x)\n",
    "        effect = ((orig_out - perturbed_out) ** 2).mean() ** 0.5 #RMSE\n",
    "        importance_df.iloc[i,0] = train_df.columns[i]\n",
    "        importance_df.iloc[i,1] = effect\n",
    "        #print(f'Variable {i+1}, perturbation effect: {effect:.4f}')\n",
    "var_importance(model)\n",
    "importance_df = importance_df.sort_values(by='perturbation_effect', ascending=False)\n",
    "print(importance_df)"
   ]
  },
  {
   "cell_type": "code",
   "execution_count": 138,
   "metadata": {},
   "outputs": [],
   "source": [
    "#perm = PermutationImportance(model, random_state=1).fit(X_test,y_test)\n",
    "#eli5.show_weights(perm, feature_names = X_test.columns.tolist())"
   ]
  },
  {
   "cell_type": "code",
   "execution_count": 139,
   "metadata": {},
   "outputs": [],
   "source": [
    "loss, accuracy = model.evaluate(X_test, y_test, verbose=0)"
   ]
  },
  {
   "cell_type": "code",
   "execution_count": 140,
   "metadata": {},
   "outputs": [
    {
     "name": "stdout",
     "output_type": "stream",
     "text": [
      "0.6023222208023071\n"
     ]
    }
   ],
   "source": [
    "#가전제품 f1-score: 0.7819220343082984\n",
    "#패션 accuracy: 0.7188029361269287\n",
    "\n",
    "print(accuracy)"
   ]
  },
  {
   "cell_type": "markdown",
   "metadata": {},
   "source": [
    "#### 중순"
   ]
  },
  {
   "cell_type": "code",
   "execution_count": 35,
   "metadata": {},
   "outputs": [],
   "source": [
    "X_train, X_test, y_train, y_test = train_test_split(\n",
    "X_중순_가전제품, Y_중순_가전제품, test_size=0.3, random_state=42)\n",
    "#y_train = to_categorical(y_train)\n",
    "#y_test = to_categorical(y_test)"
   ]
  },
  {
   "cell_type": "code",
   "execution_count": 36,
   "metadata": {},
   "outputs": [],
   "source": [
    "y_train = to_categorical(y_train)\n",
    "y_test = to_categorical(y_test)"
   ]
  },
  {
   "cell_type": "code",
   "execution_count": 39,
   "metadata": {},
   "outputs": [
    {
     "name": "stdout",
     "output_type": "stream",
     "text": [
      "Model: \"sequential_8\"\n",
      "_________________________________________________________________\n",
      "Layer (type)                 Output Shape              Param #   \n",
      "=================================================================\n",
      "masking_8 (Masking)          (None, 5000, 19)          0         \n",
      "_________________________________________________________________\n",
      "lstm_8 (LSTM)                (None, 64)                21504     \n",
      "_________________________________________________________________\n",
      "dense_22 (Dense)             (None, 32)                2080      \n",
      "_________________________________________________________________\n",
      "dense_23 (Dense)             (None, 16)                528       \n",
      "_________________________________________________________________\n",
      "dense_24 (Dense)             (None, 2)                 34        \n",
      "=================================================================\n",
      "Total params: 24,146\n",
      "Trainable params: 24,146\n",
      "Non-trainable params: 0\n",
      "_________________________________________________________________\n",
      "None\n"
     ]
    }
   ],
   "source": [
    "#masking layer 추가(https://stackoverflow.com/questions/49670832/keras-lstm-with-masking-layer-for-variable-length-inputs)\n",
    "model = Sequential()\n",
    "model.add(Masking(mask_value=0., input_shape=(X_train.shape[1], X_train.shape[2])))\n",
    "model.add(LSTM(64,input_shape = (X_train.shape[1], X_train.shape[2])))\n",
    "#model.add(Glob)\n",
    "model.add(Dense(32, activation= 'relu'))\n",
    "#model.add(Dropout(0.2))\n",
    "model.add(Dense(16, activation= 'relu'))\n",
    "model.add(Dense(2, activation='sigmoid'))\n",
    "model.compile(loss='categorical_crossentropy', optimizer=RMSprop(lr= 0.001, rho = 0.9), metrics=['acc', recall_m])\n",
    "print(model.summary())"
   ]
  },
  {
   "cell_type": "code",
   "execution_count": 40,
   "metadata": {
    "scrolled": true
   },
   "outputs": [
    {
     "name": "stdout",
     "output_type": "stream",
     "text": [
      "Train on 732 samples, validate on 315 samples\n",
      "Epoch 1/30\n",
      " - 23s - loss: 0.5931 - acc: 0.9221 - recall_m: 0.9455 - val_loss: 0.5181 - val_acc: 0.8984 - val_recall_m: 0.8985\n",
      "Epoch 2/30\n",
      " - 22s - loss: 0.4780 - acc: 0.9235 - recall_m: 0.9255 - val_loss: 0.4447 - val_acc: 0.8984 - val_recall_m: 0.8985\n",
      "Epoch 3/30\n",
      " - 22s - loss: 0.4091 - acc: 0.9235 - recall_m: 0.9255 - val_loss: 0.3974 - val_acc: 0.8984 - val_recall_m: 0.8941\n",
      "Epoch 4/30\n",
      " - 22s - loss: 0.3634 - acc: 0.9235 - recall_m: 0.9255 - val_loss: 0.3639 - val_acc: 0.8984 - val_recall_m: 0.8941\n",
      "Epoch 5/30\n",
      " - 22s - loss: 0.3250 - acc: 0.9235 - recall_m: 0.9255 - val_loss: 0.3363 - val_acc: 0.8984 - val_recall_m: 0.8941\n",
      "Epoch 6/30\n",
      " - 22s - loss: 0.2953 - acc: 0.9235 - recall_m: 0.9255 - val_loss: 0.3286 - val_acc: 0.8984 - val_recall_m: 0.8941\n",
      "Epoch 7/30\n",
      " - 22s - loss: 0.2849 - acc: 0.9235 - recall_m: 0.9255 - val_loss: 0.3276 - val_acc: 0.8984 - val_recall_m: 0.8941\n",
      "Epoch 8/30\n",
      " - 23s - loss: 0.2795 - acc: 0.9235 - recall_m: 0.9255 - val_loss: 0.3289 - val_acc: 0.8984 - val_recall_m: 0.8941\n",
      "Epoch 9/30\n",
      " - 23s - loss: 0.2759 - acc: 0.9235 - recall_m: 0.9255 - val_loss: 0.3320 - val_acc: 0.8984 - val_recall_m: 0.8941\n",
      "Epoch 10/30\n",
      " - 22s - loss: 0.2735 - acc: 0.9235 - recall_m: 0.9255 - val_loss: 0.3334 - val_acc: 0.8984 - val_recall_m: 0.8941\n",
      "Epoch 11/30\n",
      " - 22s - loss: 0.2721 - acc: 0.9235 - recall_m: 0.9255 - val_loss: 0.3355 - val_acc: 0.8984 - val_recall_m: 0.8941\n",
      "Epoch 12/30\n",
      " - 22s - loss: 0.2711 - acc: 0.9235 - recall_m: 0.9255 - val_loss: 0.3360 - val_acc: 0.8984 - val_recall_m: 0.8941\n",
      "Epoch 13/30\n",
      " - 22s - loss: 0.2699 - acc: 0.9235 - recall_m: 0.9255 - val_loss: 0.3372 - val_acc: 0.8984 - val_recall_m: 0.8941\n",
      "Epoch 14/30\n",
      " - 22s - loss: 0.2695 - acc: 0.9235 - recall_m: 0.9255 - val_loss: 0.3379 - val_acc: 0.8984 - val_recall_m: 0.8941\n",
      "Epoch 15/30\n",
      " - 22s - loss: 0.2682 - acc: 0.9235 - recall_m: 0.9255 - val_loss: 0.3387 - val_acc: 0.8984 - val_recall_m: 0.8941\n",
      "Epoch 16/30\n",
      " - 22s - loss: 0.2673 - acc: 0.9235 - recall_m: 0.9255 - val_loss: 0.3392 - val_acc: 0.8984 - val_recall_m: 0.8941\n",
      "Epoch 17/30\n",
      " - 22s - loss: 0.2660 - acc: 0.9235 - recall_m: 0.9255 - val_loss: 0.3396 - val_acc: 0.8984 - val_recall_m: 0.8941\n",
      "Epoch 18/30\n",
      " - 22s - loss: 0.2650 - acc: 0.9235 - recall_m: 0.9255 - val_loss: 0.3399 - val_acc: 0.8984 - val_recall_m: 0.8941\n",
      "Epoch 19/30\n",
      " - 22s - loss: 0.2640 - acc: 0.9235 - recall_m: 0.9255 - val_loss: 0.3405 - val_acc: 0.8984 - val_recall_m: 0.8941\n",
      "Epoch 20/30\n",
      " - 22s - loss: 0.2629 - acc: 0.9235 - recall_m: 0.9255 - val_loss: 0.3407 - val_acc: 0.8984 - val_recall_m: 0.8941\n",
      "Epoch 21/30\n",
      " - 22s - loss: 0.2616 - acc: 0.9235 - recall_m: 0.9255 - val_loss: 0.3411 - val_acc: 0.8984 - val_recall_m: 0.8941\n",
      "Epoch 22/30\n",
      " - 22s - loss: 0.2612 - acc: 0.9235 - recall_m: 0.9255 - val_loss: 0.3414 - val_acc: 0.8984 - val_recall_m: 0.8941\n",
      "Epoch 23/30\n",
      " - 22s - loss: 0.2597 - acc: 0.9235 - recall_m: 0.9255 - val_loss: 0.3421 - val_acc: 0.8984 - val_recall_m: 0.8941\n",
      "Epoch 24/30\n",
      " - 22s - loss: 0.2585 - acc: 0.9235 - recall_m: 0.9255 - val_loss: 0.3423 - val_acc: 0.8984 - val_recall_m: 0.8941\n",
      "Epoch 25/30\n",
      " - 22s - loss: 0.2579 - acc: 0.9235 - recall_m: 0.9255 - val_loss: 0.3420 - val_acc: 0.8984 - val_recall_m: 0.8941\n",
      "Epoch 26/30\n",
      " - 22s - loss: 0.2564 - acc: 0.9235 - recall_m: 0.9255 - val_loss: 0.3427 - val_acc: 0.8984 - val_recall_m: 0.8941\n",
      "Epoch 27/30\n",
      " - 22s - loss: 0.2554 - acc: 0.9235 - recall_m: 0.9255 - val_loss: 0.3428 - val_acc: 0.8984 - val_recall_m: 0.8941\n",
      "Epoch 28/30\n",
      " - 22s - loss: 0.2536 - acc: 0.9235 - recall_m: 0.9255 - val_loss: 0.3436 - val_acc: 0.8984 - val_recall_m: 0.8941\n",
      "Epoch 29/30\n",
      " - 22s - loss: 0.2524 - acc: 0.9235 - recall_m: 0.9255 - val_loss: 0.3431 - val_acc: 0.8984 - val_recall_m: 0.8941\n",
      "Epoch 30/30\n",
      " - 23s - loss: 0.2508 - acc: 0.9235 - recall_m: 0.9255 - val_loss: 0.3450 - val_acc: 0.8984 - val_recall_m: 0.8941\n"
     ]
    }
   ],
   "source": [
    "history = model.fit(X_train, y_train, epochs=30, batch_size=200, validation_data=(X_test, y_test), verbose=2, shuffle=False)"
   ]
  },
  {
   "cell_type": "markdown",
   "metadata": {},
   "source": [
    "#### feature importance"
   ]
  },
  {
   "cell_type": "code",
   "execution_count": 148,
   "metadata": {},
   "outputs": [
    {
     "name": "stdout",
     "output_type": "stream",
     "text": [
      "   varible_name  perturbation_effect\n",
      "6            기타             0.019017\n",
      "0    세션당 방문사이트수             0.018900\n",
      "9       비즈니스/쇼핑             0.017860\n",
      "17      컴퓨터/인터넷             0.011322\n",
      "1        세션지속시간             0.005882\n",
      "3            게임             0.004853\n",
      "2     쇼핑사이트방문여부             0.002543\n",
      "7        뉴스/미디어             0.002450\n",
      "15        정치/사회             0.002309\n",
      "5         교육/학교             0.001170\n",
      "4        경제/재테크             0.000860\n",
      "16           종교             0.000262\n",
      "11       스포츠/레저             0.000238\n",
      "10        생활/건강             0.000212\n",
      "12      여행/세계정보             0.000210\n",
      "18        학문/사전             0.000137\n",
      "13        연예/오락             0.000118\n",
      "8         문화/예술             0.000115\n",
      "14           인물             0.000049\n"
     ]
    }
   ],
   "source": [
    "train_df = pd.DataFrame(X_train.reshape(X_train.shape[0] * X_train.shape[1], 19))\n",
    "train_df.columns = ['세션당 방문사이트수','세션지속시간','쇼핑사이트방문여부' ,\n",
    "                    '게임', '경제/재테크', '교육/학교', '기타', '뉴스/미디어', '문화/예술', '비즈니스/쇼핑', '생활/건강', '스포츠/레저',\n",
    " '여행/세계정보', '연예/오락', '인물', '정치/사회', '종교', '컴퓨터/인터넷', '학문/사전']\n",
    "\n",
    "## Sensitivity Analysis\n",
    "importance_df = pd.DataFrame(np.zeros((19, 2)), columns=['varible_name', 'perturbation_effect'])\n",
    "def var_importance(model):\n",
    "    x = X_test # Get a sample of data\n",
    "    orig_out = model.predict(x)\n",
    "    for i in range(19):  # iterate over the three features\n",
    "        new_x = x.copy()\n",
    "        perturbation = np.random.normal(0.0, 0.2, size=new_x.shape[:2])\n",
    "        new_x[:, :, i] = new_x[:, :, i] + perturbation\n",
    "        perturbed_out = model.predict(new_x)\n",
    "        effect = ((orig_out - perturbed_out) ** 2).mean() ** 0.5 #RMSE\n",
    "        importance_df.iloc[i,0] = train_df.columns[i]\n",
    "        importance_df.iloc[i,1] = effect\n",
    "        #print(f'Variable {i+1}, perturbation effect: {effect:.4f}')\n",
    "var_importance(model)\n",
    "importance_df = importance_df.sort_values(by='perturbation_effect', ascending=False)\n",
    "print(importance_df)"
   ]
  },
  {
   "cell_type": "code",
   "execution_count": 149,
   "metadata": {},
   "outputs": [
    {
     "data": {
      "image/png": "[encoded data removed]",
      "text/plain": [
       "<Figure size 432x288 with 1 Axes>"
      ]
     },
     "metadata": {},
     "output_type": "display_data"
    }
   ],
   "source": [
    "# plot history\n",
    "plt.plot(history.history['loss'], label='train')\n",
    "plt.plot(history.history['val_loss'], label='test')\n",
    "plt.legend()                                       \n",
    "plt.show()                       "
   ]
  },
  {
   "cell_type": "code",
   "execution_count": 150,
   "metadata": {},
   "outputs": [],
   "source": [
    "loss, accuracy = model.evaluate(X_test, y_test, verbose=0)"
   ]
  },
  {
   "cell_type": "code",
   "execution_count": 151,
   "metadata": {},
   "outputs": [
    {
     "name": "stdout",
     "output_type": "stream",
     "text": [
      "0.632478654384613\n"
     ]
    }
   ],
   "source": [
    "print(accuracy)"
   ]
  },
  {
   "cell_type": "markdown",
   "metadata": {},
   "source": [
    "#### 하순"
   ]
  },
  {
   "cell_type": "code",
   "execution_count": 42,
   "metadata": {},
   "outputs": [],
   "source": [
    "X_train, X_test, y_train, y_test = train_test_split(\n",
    "X_하순_가전제품, Y_하순_가전제품, test_size=0.3, random_state=42)\n",
    "y_train = to_categorical(y_train)\n",
    "y_test = to_categorical(y_test)"
   ]
  },
  {
   "cell_type": "code",
   "execution_count": 44,
   "metadata": {},
   "outputs": [
    {
     "name": "stdout",
     "output_type": "stream",
     "text": [
      "Model: \"sequential_9\"\n",
      "_________________________________________________________________\n",
      "Layer (type)                 Output Shape              Param #   \n",
      "=================================================================\n",
      "masking_9 (Masking)          (None, 5000, 19)          0         \n",
      "_________________________________________________________________\n",
      "lstm_9 (LSTM)                (None, 64)                21504     \n",
      "_________________________________________________________________\n",
      "dense_25 (Dense)             (None, 32)                2080      \n",
      "_________________________________________________________________\n",
      "dropout_1 (Dropout)          (None, 32)                0         \n",
      "_________________________________________________________________\n",
      "dense_26 (Dense)             (None, 16)                528       \n",
      "_________________________________________________________________\n",
      "dense_27 (Dense)             (None, 2)                 34        \n",
      "=================================================================\n",
      "Total params: 24,146\n",
      "Trainable params: 24,146\n",
      "Non-trainable params: 0\n",
      "_________________________________________________________________\n",
      "None\n"
     ]
    }
   ],
   "source": [
    "#masking layer 추가(https://stackoverflow.com/questions/49670832/keras-lstm-with-masking-layer-for-variable-length-inputs)\n",
    "model = Sequential()\n",
    "model.add(Masking(mask_value=0., input_shape=(X_train.shape[1], X_train.shape[2])))\n",
    "model.add(LSTM(64,input_shape = (X_train.shape[1], X_train.shape[2])))\n",
    "model.add(Dense(32, activation= 'relu'))\n",
    "model.add(Dropout(0.2))\n",
    "model.add(Dense(16, activation= 'relu'))\n",
    "model.add(Dense(2, activation='sigmoid'))\n",
    "model.compile(loss='categorical_crossentropy', optimizer=RMSprop(lr= 0.001, rho = 0.9), metrics=['acc', recall_m])\n",
    "print(model.summary())"
   ]
  },
  {
   "cell_type": "code",
   "execution_count": 45,
   "metadata": {},
   "outputs": [
    {
     "name": "stdout",
     "output_type": "stream",
     "text": [
      "Train on 735 samples, validate on 315 samples\n",
      "Epoch 1/60\n",
      " - 14s - loss: 0.4634 - acc: 0.9456 - recall_m: 0.9536 - val_loss: 0.2975 - val_acc: 0.9429 - val_recall_m: 0.9429\n",
      "Epoch 2/60\n",
      " - 13s - loss: 0.2881 - acc: 0.9605 - recall_m: 0.9565 - val_loss: 0.2485 - val_acc: 0.9429 - val_recall_m: 0.9429\n",
      "Epoch 3/60\n",
      " - 13s - loss: 0.2290 - acc: 0.9605 - recall_m: 0.9575 - val_loss: 0.2319 - val_acc: 0.9429 - val_recall_m: 0.9429\n",
      "Epoch 4/60\n",
      " - 13s - loss: 0.1996 - acc: 0.9605 - recall_m: 0.9575 - val_loss: 0.2285 - val_acc: 0.9429 - val_recall_m: 0.9429\n",
      "Epoch 5/60\n",
      " - 13s - loss: 0.1920 - acc: 0.9605 - recall_m: 0.9575 - val_loss: 0.2279 - val_acc: 0.9429 - val_recall_m: 0.9429\n",
      "Epoch 6/60\n",
      " - 12s - loss: 0.1868 - acc: 0.9605 - recall_m: 0.9575 - val_loss: 0.2290 - val_acc: 0.9429 - val_recall_m: 0.9429\n",
      "Epoch 7/60\n",
      " - 13s - loss: 0.1861 - acc: 0.9605 - recall_m: 0.9575 - val_loss: 0.2324 - val_acc: 0.9429 - val_recall_m: 0.9429\n",
      "Epoch 8/60\n",
      " - 12s - loss: 0.1816 - acc: 0.9605 - recall_m: 0.9575 - val_loss: 0.2335 - val_acc: 0.9429 - val_recall_m: 0.9429\n",
      "Epoch 9/60\n",
      " - 13s - loss: 0.1806 - acc: 0.9605 - recall_m: 0.9575 - val_loss: 0.2352 - val_acc: 0.9429 - val_recall_m: 0.9429\n",
      "Epoch 10/60\n",
      " - 13s - loss: 0.1759 - acc: 0.9605 - recall_m: 0.9575 - val_loss: 0.2358 - val_acc: 0.9429 - val_recall_m: 0.9429\n",
      "Epoch 11/60\n",
      " - 13s - loss: 0.1715 - acc: 0.9605 - recall_m: 0.9575 - val_loss: 0.2367 - val_acc: 0.9429 - val_recall_m: 0.9429\n",
      "Epoch 12/60\n",
      " - 13s - loss: 0.1814 - acc: 0.9605 - recall_m: 0.9575 - val_loss: 0.2364 - val_acc: 0.9429 - val_recall_m: 0.9429\n",
      "Epoch 13/60\n",
      " - 13s - loss: 0.1707 - acc: 0.9605 - recall_m: 0.9575 - val_loss: 0.2362 - val_acc: 0.9429 - val_recall_m: 0.9429\n",
      "Epoch 14/60\n",
      " - 13s - loss: 0.1741 - acc: 0.9605 - recall_m: 0.9575 - val_loss: 0.2348 - val_acc: 0.9429 - val_recall_m: 0.9429\n",
      "Epoch 15/60\n",
      " - 13s - loss: 0.1715 - acc: 0.9605 - recall_m: 0.9575 - val_loss: 0.2354 - val_acc: 0.9429 - val_recall_m: 0.9429\n",
      "Epoch 16/60\n",
      " - 12s - loss: 0.1716 - acc: 0.9605 - recall_m: 0.9575 - val_loss: 0.2360 - val_acc: 0.9429 - val_recall_m: 0.9429\n",
      "Epoch 17/60\n",
      " - 12s - loss: 0.1692 - acc: 0.9605 - recall_m: 0.9575 - val_loss: 0.2377 - val_acc: 0.9429 - val_recall_m: 0.9429\n",
      "Epoch 18/60\n",
      " - 12s - loss: 0.1698 - acc: 0.9605 - recall_m: 0.9575 - val_loss: 0.2380 - val_acc: 0.9429 - val_recall_m: 0.9429\n",
      "Epoch 19/60\n",
      " - 13s - loss: 0.1666 - acc: 0.9605 - recall_m: 0.9575 - val_loss: 0.2371 - val_acc: 0.9429 - val_recall_m: 0.9429\n",
      "Epoch 20/60\n",
      " - 12s - loss: 0.1625 - acc: 0.9605 - recall_m: 0.9575 - val_loss: 0.2370 - val_acc: 0.9429 - val_recall_m: 0.9429\n",
      "Epoch 21/60\n",
      " - 12s - loss: 0.1596 - acc: 0.9605 - recall_m: 0.9575 - val_loss: 0.2386 - val_acc: 0.9429 - val_recall_m: 0.9429\n",
      "Epoch 22/60\n",
      " - 13s - loss: 0.1639 - acc: 0.9605 - recall_m: 0.9575 - val_loss: 0.2382 - val_acc: 0.9429 - val_recall_m: 0.9429\n",
      "Epoch 23/60\n",
      " - 13s - loss: 0.1692 - acc: 0.9605 - recall_m: 0.9575 - val_loss: 0.2360 - val_acc: 0.9429 - val_recall_m: 0.9429\n",
      "Epoch 24/60\n",
      " - 13s - loss: 0.1581 - acc: 0.9605 - recall_m: 0.9575 - val_loss: 0.2384 - val_acc: 0.9429 - val_recall_m: 0.9429\n",
      "Epoch 25/60\n",
      " - 13s - loss: 0.1666 - acc: 0.9605 - recall_m: 0.9575 - val_loss: 0.2399 - val_acc: 0.9429 - val_recall_m: 0.9429\n",
      "Epoch 26/60\n",
      " - 13s - loss: 0.1578 - acc: 0.9605 - recall_m: 0.9575 - val_loss: 0.2380 - val_acc: 0.9429 - val_recall_m: 0.9429\n",
      "Epoch 27/60\n",
      " - 13s - loss: 0.1626 - acc: 0.9605 - recall_m: 0.9575 - val_loss: 0.2413 - val_acc: 0.9429 - val_recall_m: 0.9429\n",
      "Epoch 28/60\n",
      " - 13s - loss: 0.1642 - acc: 0.9605 - recall_m: 0.9575 - val_loss: 0.2382 - val_acc: 0.9429 - val_recall_m: 0.9429\n",
      "Epoch 29/60\n",
      " - 13s - loss: 0.1637 - acc: 0.9605 - recall_m: 0.9575 - val_loss: 0.2370 - val_acc: 0.9429 - val_recall_m: 0.9429\n",
      "Epoch 30/60\n",
      " - 13s - loss: 0.1617 - acc: 0.9605 - recall_m: 0.9575 - val_loss: 0.2380 - val_acc: 0.9429 - val_recall_m: 0.9429\n",
      "Epoch 31/60\n",
      " - 13s - loss: 0.1517 - acc: 0.9605 - recall_m: 0.9575 - val_loss: 0.2430 - val_acc: 0.9429 - val_recall_m: 0.9429\n",
      "Epoch 32/60\n",
      " - 13s - loss: 0.1541 - acc: 0.9605 - recall_m: 0.9575 - val_loss: 0.2489 - val_acc: 0.9429 - val_recall_m: 0.9429\n",
      "Epoch 33/60\n",
      " - 12s - loss: 0.1591 - acc: 0.9605 - recall_m: 0.9575 - val_loss: 0.2514 - val_acc: 0.9429 - val_recall_m: 0.9429\n",
      "Epoch 34/60\n",
      " - 13s - loss: 0.1563 - acc: 0.9605 - recall_m: 0.9575 - val_loss: 0.2533 - val_acc: 0.9429 - val_recall_m: 0.9429\n",
      "Epoch 35/60\n",
      " - 13s - loss: 0.1480 - acc: 0.9605 - recall_m: 0.9575 - val_loss: 0.2494 - val_acc: 0.9429 - val_recall_m: 0.9429\n",
      "Epoch 36/60\n",
      " - 13s - loss: 0.1511 - acc: 0.9605 - recall_m: 0.9575 - val_loss: 0.2490 - val_acc: 0.9429 - val_recall_m: 0.9429\n",
      "Epoch 37/60\n",
      " - 12s - loss: 0.1529 - acc: 0.9605 - recall_m: 0.9575 - val_loss: 0.2379 - val_acc: 0.9429 - val_recall_m: 0.9429\n",
      "Epoch 38/60\n",
      " - 13s - loss: 0.1476 - acc: 0.9605 - recall_m: 0.9575 - val_loss: 0.2421 - val_acc: 0.9429 - val_recall_m: 0.9429\n",
      "Epoch 39/60\n",
      " - 13s - loss: 0.1488 - acc: 0.9605 - recall_m: 0.9575 - val_loss: 0.2520 - val_acc: 0.9429 - val_recall_m: 0.9429\n",
      "Epoch 40/60\n",
      " - 13s - loss: 0.1486 - acc: 0.9605 - recall_m: 0.9575 - val_loss: 0.2570 - val_acc: 0.9429 - val_recall_m: 0.9429\n",
      "Epoch 41/60\n",
      " - 13s - loss: 0.1403 - acc: 0.9605 - recall_m: 0.9575 - val_loss: 0.2645 - val_acc: 0.9429 - val_recall_m: 0.9429\n",
      "Epoch 42/60\n",
      " - 13s - loss: 0.1489 - acc: 0.9605 - recall_m: 0.9575 - val_loss: 0.2671 - val_acc: 0.9429 - val_recall_m: 0.9429\n",
      "Epoch 43/60\n",
      " - 13s - loss: 0.1353 - acc: 0.9605 - recall_m: 0.9575 - val_loss: 0.2622 - val_acc: 0.9429 - val_recall_m: 0.9429\n",
      "Epoch 44/60\n",
      " - 12s - loss: 0.1449 - acc: 0.9605 - recall_m: 0.9575 - val_loss: 0.2583 - val_acc: 0.9429 - val_recall_m: 0.9429\n",
      "Epoch 45/60\n",
      " - 13s - loss: 0.1445 - acc: 0.9619 - recall_m: 0.9596 - val_loss: 0.2502 - val_acc: 0.9429 - val_recall_m: 0.9429\n",
      "Epoch 46/60\n",
      " - 13s - loss: 0.1357 - acc: 0.9605 - recall_m: 0.9575 - val_loss: 0.2348 - val_acc: 0.9429 - val_recall_m: 0.9429\n",
      "Epoch 47/60\n",
      " - 13s - loss: 0.1399 - acc: 0.9619 - recall_m: 0.9585 - val_loss: 0.2605 - val_acc: 0.9429 - val_recall_m: 0.9429\n",
      "Epoch 48/60\n",
      " - 13s - loss: 0.1366 - acc: 0.9619 - recall_m: 0.9596 - val_loss: 0.2653 - val_acc: 0.9429 - val_recall_m: 0.9429\n",
      "Epoch 49/60\n",
      " - 12s - loss: 0.1311 - acc: 0.9633 - recall_m: 0.9617 - val_loss: 0.2765 - val_acc: 0.9429 - val_recall_m: 0.9429\n",
      "Epoch 50/60\n",
      " - 13s - loss: 0.1345 - acc: 0.9633 - recall_m: 0.9617 - val_loss: 0.2816 - val_acc: 0.9429 - val_recall_m: 0.9429\n",
      "Epoch 51/60\n",
      " - 12s - loss: 0.1253 - acc: 0.9633 - recall_m: 0.9617 - val_loss: 0.2750 - val_acc: 0.9429 - val_recall_m: 0.9429\n",
      "Epoch 52/60\n",
      " - 13s - loss: 0.1285 - acc: 0.9633 - recall_m: 0.9617 - val_loss: 0.2619 - val_acc: 0.9429 - val_recall_m: 0.9429\n",
      "Epoch 53/60\n",
      " - 13s - loss: 0.1284 - acc: 0.9605 - recall_m: 0.9575 - val_loss: 0.2534 - val_acc: 0.9429 - val_recall_m: 0.9429\n",
      "Epoch 54/60\n",
      " - 13s - loss: 0.1350 - acc: 0.9633 - recall_m: 0.9606 - val_loss: 0.2630 - val_acc: 0.9429 - val_recall_m: 0.9429\n",
      "Epoch 55/60\n",
      " - 13s - loss: 0.1279 - acc: 0.9619 - recall_m: 0.9596 - val_loss: 0.2766 - val_acc: 0.9429 - val_recall_m: 0.9429\n",
      "Epoch 56/60\n",
      " - 12s - loss: 0.1252 - acc: 0.9646 - recall_m: 0.9627 - val_loss: 0.2794 - val_acc: 0.9429 - val_recall_m: 0.9429\n",
      "Epoch 57/60\n",
      " - 13s - loss: 0.1227 - acc: 0.9633 - recall_m: 0.9627 - val_loss: 0.2744 - val_acc: 0.9429 - val_recall_m: 0.9429\n",
      "Epoch 58/60\n",
      " - 13s - loss: 0.1214 - acc: 0.9646 - recall_m: 0.9627 - val_loss: 0.2724 - val_acc: 0.9429 - val_recall_m: 0.9429\n",
      "Epoch 59/60\n",
      " - 13s - loss: 0.1187 - acc: 0.9660 - recall_m: 0.9649 - val_loss: 0.2790 - val_acc: 0.9429 - val_recall_m: 0.9429\n",
      "Epoch 60/60\n",
      " - 12s - loss: 0.1172 - acc: 0.9633 - recall_m: 0.9616 - val_loss: 0.2621 - val_acc: 0.9429 - val_recall_m: 0.9429\n"
     ]
    }
   ],
   "source": [
    "history = model.fit(X_train, y_train, epochs=60, batch_size=500, validation_data=(X_test, y_test), verbose=2, shuffle=False)"
   ]
  },
  {
   "cell_type": "code",
   "execution_count": null,
   "metadata": {},
   "outputs": [],
   "source": [
    "train_df = pd.DataFrame(X_train.reshape(X_train.shape[0] * X_train.shape[1], 19))\n",
    "train_df.columns = ['세션당 방문사이트수','세션지속시간','쇼핑사이트방문여부' ,\n",
    "                    '게임', '경제/재테크', '교육/학교', '기타', '뉴스/미디어', '문화/예술', '비즈니스/쇼핑', '생활/건강', '스포츠/레저',\n",
    " '여행/세계정보', '연예/오락', '인물', '정치/사회', '종교', '컴퓨터/인터넷', '학문/사전']\n",
    "## Sensitivity Analysis\n",
    "importance_df = pd.DataFrame(np.zeros((19, 2)), columns=['varible_name', 'perturbation_effect'])\n",
    "def var_importance(model):\n",
    "    x = X_test # Get a sample of data\n",
    "    orig_out = model.predict(x)\n",
    "    for i in range(19):  # iterate over the three features\n",
    "        new_x = x.copy()\n",
    "        perturbation = np.random.normal(0.0, 0.2, size=new_x.shape[:2])\n",
    "        new_x[:, :, i] = new_x[:, :, i] + perturbation\n",
    "        perturbed_out = model.predict(new_x)\n",
    "        effect = ((orig_out - perturbed_out) ** 2).mean() ** 0.5 #RMSE\n",
    "        importance_df.iloc[i,0] = train_df.columns[i]\n",
    "        importance_df.iloc[i,1] = effect\n",
    "        #print(f'Variable {i+1}, perturbation effect: {effect:.4f}')\n",
    "var_importance(model)\n",
    "importance_df = importance_df.sort_values(by='perturbation_effect', ascending=False)\n",
    "print(importance_df)"
   ]
  },
  {
   "cell_type": "code",
   "execution_count": 46,
   "metadata": {},
   "outputs": [
    {
     "data": {
      "image/png": "[encoded data removed]",
      "text/plain": [
       "<Figure size 432x288 with 1 Axes>"
      ]
     },
     "metadata": {},
     "output_type": "display_data"
    }
   ],
   "source": [
    "# plot history\n",
    "plt.plot(history.history['loss'], label='train')\n",
    "plt.plot(history.history['val_loss'], label='test')\n",
    "plt.legend()                                       \n",
    "plt.show()       "
   ]
  },
  {
   "cell_type": "markdown",
   "metadata": {},
   "source": []
  }
 ],
 "metadata": {
  "kernelspec": {
   "display_name": "Python 3",
   "language": "python",
   "name": "python3"
  },
  "language_info": {
   "codemirror_mode": {
    "name": "ipython",
    "version": 3
   },
   "file_extension": ".py",
   "mimetype": "text/x-python",
   "name": "python",
   "nbconvert_exporter": "python",
   "pygments_lexer": "ipython3",
   "version": "3.6.8"
  }
 },
 "nbformat": 4,
 "nbformat_minor": 2
}
