{
 "cells": [
  {
   "cell_type": "code",
   "execution_count": 1,
   "metadata": {},
   "outputs": [],
   "source": [
    "#import os\n",
    "#os.environ['CUDA_VISIBLE_DEVICES'] = '-1'"
   ]
  },
  {
   "cell_type": "code",
   "execution_count": 2,
   "metadata": {
    "scrolled": true
   },
   "outputs": [
    {
     "name": "stderr",
     "output_type": "stream",
     "text": [
      "/usr/local/lib/python3.6/dist-packages/tensorflow/python/framework/dtypes.py:516: FutureWarning: Passing (type, 1) or '1type' as a synonym of type is deprecated; in a future version of numpy, it will be understood as (type, (1,)) / '(1,)type'.\n",
      "  _np_qint8 = np.dtype([(\"qint8\", np.int8, 1)])\n",
      "/usr/local/lib/python3.6/dist-packages/tensorflow/python/framework/dtypes.py:517: FutureWarning: Passing (type, 1) or '1type' as a synonym of type is deprecated; in a future version of numpy, it will be understood as (type, (1,)) / '(1,)type'.\n",
      "  _np_quint8 = np.dtype([(\"quint8\", np.uint8, 1)])\n",
      "/usr/local/lib/python3.6/dist-packages/tensorflow/python/framework/dtypes.py:518: FutureWarning: Passing (type, 1) or '1type' as a synonym of type is deprecated; in a future version of numpy, it will be understood as (type, (1,)) / '(1,)type'.\n",
      "  _np_qint16 = np.dtype([(\"qint16\", np.int16, 1)])\n",
      "/usr/local/lib/python3.6/dist-packages/tensorflow/python/framework/dtypes.py:519: FutureWarning: Passing (type, 1) or '1type' as a synonym of type is deprecated; in a future version of numpy, it will be understood as (type, (1,)) / '(1,)type'.\n",
      "  _np_quint16 = np.dtype([(\"quint16\", np.uint16, 1)])\n",
      "/usr/local/lib/python3.6/dist-packages/tensorflow/python/framework/dtypes.py:520: FutureWarning: Passing (type, 1) or '1type' as a synonym of type is deprecated; in a future version of numpy, it will be understood as (type, (1,)) / '(1,)type'.\n",
      "  _np_qint32 = np.dtype([(\"qint32\", np.int32, 1)])\n",
      "/usr/local/lib/python3.6/dist-packages/tensorflow/python/framework/dtypes.py:525: FutureWarning: Passing (type, 1) or '1type' as a synonym of type is deprecated; in a future version of numpy, it will be understood as (type, (1,)) / '(1,)type'.\n",
      "  np_resource = np.dtype([(\"resource\", np.ubyte, 1)])\n",
      "/usr/local/lib/python3.6/dist-packages/tensorboard/compat/tensorflow_stub/dtypes.py:541: FutureWarning: Passing (type, 1) or '1type' as a synonym of type is deprecated; in a future version of numpy, it will be understood as (type, (1,)) / '(1,)type'.\n",
      "  _np_qint8 = np.dtype([(\"qint8\", np.int8, 1)])\n",
      "/usr/local/lib/python3.6/dist-packages/tensorboard/compat/tensorflow_stub/dtypes.py:542: FutureWarning: Passing (type, 1) or '1type' as a synonym of type is deprecated; in a future version of numpy, it will be understood as (type, (1,)) / '(1,)type'.\n",
      "  _np_quint8 = np.dtype([(\"quint8\", np.uint8, 1)])\n",
      "/usr/local/lib/python3.6/dist-packages/tensorboard/compat/tensorflow_stub/dtypes.py:543: FutureWarning: Passing (type, 1) or '1type' as a synonym of type is deprecated; in a future version of numpy, it will be understood as (type, (1,)) / '(1,)type'.\n",
      "  _np_qint16 = np.dtype([(\"qint16\", np.int16, 1)])\n",
      "/usr/local/lib/python3.6/dist-packages/tensorboard/compat/tensorflow_stub/dtypes.py:544: FutureWarning: Passing (type, 1) or '1type' as a synonym of type is deprecated; in a future version of numpy, it will be understood as (type, (1,)) / '(1,)type'.\n",
      "  _np_quint16 = np.dtype([(\"quint16\", np.uint16, 1)])\n",
      "/usr/local/lib/python3.6/dist-packages/tensorboard/compat/tensorflow_stub/dtypes.py:545: FutureWarning: Passing (type, 1) or '1type' as a synonym of type is deprecated; in a future version of numpy, it will be understood as (type, (1,)) / '(1,)type'.\n",
      "  _np_qint32 = np.dtype([(\"qint32\", np.int32, 1)])\n",
      "/usr/local/lib/python3.6/dist-packages/tensorboard/compat/tensorflow_stub/dtypes.py:550: FutureWarning: Passing (type, 1) or '1type' as a synonym of type is deprecated; in a future version of numpy, it will be understood as (type, (1,)) / '(1,)type'.\n",
      "  np_resource = np.dtype([(\"resource\", np.ubyte, 1)])\n",
      "Using TensorFlow backend.\n",
      "/usr/local/lib/python3.6/dist-packages/sklearn/utils/deprecation.py:144: FutureWarning: The sklearn.metrics.scorer module is  deprecated in version 0.22 and will be removed in version 0.24. The corresponding classes / functions should instead be imported from sklearn.metrics. Anything that cannot be imported from sklearn.metrics is now part of the private API.\n",
      "  warnings.warn(message, FutureWarning)\n",
      "/usr/local/lib/python3.6/dist-packages/sklearn/utils/deprecation.py:144: FutureWarning: The sklearn.feature_selection.base module is  deprecated in version 0.22 and will be removed in version 0.24. The corresponding classes / functions should instead be imported from sklearn.feature_selection. Anything that cannot be imported from sklearn.feature_selection is now part of the private API.\n",
      "  warnings.warn(message, FutureWarning)\n"
     ]
    }
   ],
   "source": [
    "import pandas as pd\n",
    "import tensorflow as tf\n",
    "from sklearn.preprocessing import LabelEncoder\n",
    "import datetime\n",
    "import numpy as np\n",
    "from keras.models import Sequential\n",
    "from keras.layers import Dense\n",
    "from keras.layers import LSTM\n",
    "from keras.optimizers import RMSprop\n",
    "from sklearn.model_selection import train_test_split\n",
    "from keras.preprocessing import sequence\n",
    "from matplotlib import pyplot as plt\n",
    "from keras.layers.embeddings import Embedding\n",
    "from keras.layers import Dropout\n",
    "from keras.layers import Masking\n",
    "from keras.layers import Bidirectional, GlobalMaxPool1D\n",
    "from tqdm import tqdm_notebook\n",
    "from imblearn.over_sampling import SMOTE, ADASYN\n",
    "from imblearn.over_sampling import RandomOverSampler\n",
    "from keras.utils import to_categorical\n",
    "from eli5.sklearn import PermutationImportance"
   ]
  },
  {
   "cell_type": "code",
   "execution_count": 3,
   "metadata": {},
   "outputs": [
    {
     "name": "stdout",
     "output_type": "stream",
     "text": [
      "[name: \"/device:CPU:0\"\n",
      "device_type: \"CPU\"\n",
      "memory_limit: 268435456\n",
      "locality {\n",
      "}\n",
      "incarnation: 5243418316899603202\n",
      ", name: \"/device:XLA_GPU:0\"\n",
      "device_type: \"XLA_GPU\"\n",
      "memory_limit: 17179869184\n",
      "locality {\n",
      "}\n",
      "incarnation: 480687900724463353\n",
      "physical_device_desc: \"device: XLA_GPU device\"\n",
      ", name: \"/device:XLA_CPU:0\"\n",
      "device_type: \"XLA_CPU\"\n",
      "memory_limit: 17179869184\n",
      "locality {\n",
      "}\n",
      "incarnation: 11342217734406463662\n",
      "physical_device_desc: \"device: XLA_CPU device\"\n",
      ", name: \"/device:GPU:0\"\n",
      "device_type: \"GPU\"\n",
      "memory_limit: 5811535872\n",
      "locality {\n",
      "  bus_id: 1\n",
      "  links {\n",
      "  }\n",
      "}\n",
      "incarnation: 4805602584206424032\n",
      "physical_device_desc: \"device: 0, name: GeForce RTX 2060, pci bus id: 0000:65:00.0, compute capability: 7.5\"\n",
      "]\n"
     ]
    }
   ],
   "source": [
    "from tensorflow.python.client import device_lib\n",
    "\n",
    "print(device_lib.list_local_devices())"
   ]
  },
  {
   "cell_type": "code",
   "execution_count": 4,
   "metadata": {},
   "outputs": [
    {
     "name": "stdout",
     "output_type": "stream",
     "text": [
      "Requirement already satisfied: bayesian-optimization in /usr/local/lib/python3.6/dist-packages (1.0.1)\r\n",
      "Requirement already satisfied: scikit-learn>=0.18.0 in /usr/local/lib/python3.6/dist-packages (from bayesian-optimization) (0.22.1)\r\n",
      "Requirement already satisfied: scipy>=0.14.0 in /usr/local/lib/python3.6/dist-packages (from bayesian-optimization) (1.4.1)\r\n",
      "Requirement already satisfied: numpy>=1.9.0 in /usr/local/lib/python3.6/dist-packages (from bayesian-optimization) (1.18.0)\r\n",
      "Requirement already satisfied: joblib>=0.11 in /usr/local/lib/python3.6/dist-packages (from scikit-learn>=0.18.0->bayesian-optimization) (0.13.2)\r\n"
     ]
    }
   ],
   "source": [
    "!pip install bayesian-optimization"
   ]
  },
  {
   "cell_type": "markdown",
   "metadata": {},
   "source": [
    "### data 불러오기"
   ]
  },
  {
   "cell_type": "code",
   "execution_count": 5,
   "metadata": {},
   "outputs": [],
   "source": [
    "Y_가전제품 = pd.read_csv('Y_가전제품.csv')\n",
    "Y_화장품 = pd.read_csv('Y_화장품.csv')\n",
    "Y_패션 = pd.read_csv('Y_패션.csv')"
   ]
  },
  {
   "cell_type": "code",
   "execution_count": 6,
   "metadata": {},
   "outputs": [],
   "source": [
    "Y_가전제품= Y_가전제품['가전제품구매']\n",
    "Y_화장품= Y_화장품['화장품구매']\n",
    "Y_패션= Y_패션['패션구매']"
   ]
  },
  {
   "cell_type": "code",
   "execution_count": 7,
   "metadata": {},
   "outputs": [],
   "source": [
    "X_가전제품 = pd.read_csv('가전제품_3d_array.csv')\n",
    "X_화장품 = pd.read_csv('화장품_3d_array.csv')\n",
    "X_패션 = pd.read_csv('패션_3d_array.csv')"
   ]
  },
  {
   "cell_type": "code",
   "execution_count": 8,
   "metadata": {},
   "outputs": [
    {
     "data": {
      "text/plain": [
       "0    877\n",
       "2     88\n",
       "1     50\n",
       "3     48\n",
       "Name: 가전제품구매, dtype: int64"
      ]
     },
     "execution_count": 8,
     "metadata": {},
     "output_type": "execute_result"
    }
   ],
   "source": [
    "Y_가전제품.value_counts()"
   ]
  },
  {
   "cell_type": "code",
   "execution_count": 9,
   "metadata": {},
   "outputs": [
    {
     "data": {
      "text/html": [
       "<div>\n",
       "<style scoped>\n",
       "    .dataframe tbody tr th:only-of-type {\n",
       "        vertical-align: middle;\n",
       "    }\n",
       "\n",
       "    .dataframe tbody tr th {\n",
       "        vertical-align: top;\n",
       "    }\n",
       "\n",
       "    .dataframe thead th {\n",
       "        text-align: right;\n",
       "    }\n",
       "</style>\n",
       "<table border=\"1\" class=\"dataframe\">\n",
       "  <thead>\n",
       "    <tr style=\"text-align: right;\">\n",
       "      <th></th>\n",
       "      <th>0</th>\n",
       "      <th>1</th>\n",
       "      <th>2</th>\n",
       "      <th>3</th>\n",
       "      <th>4</th>\n",
       "      <th>5</th>\n",
       "      <th>6</th>\n",
       "      <th>7</th>\n",
       "      <th>8</th>\n",
       "      <th>9</th>\n",
       "      <th>...</th>\n",
       "      <th>94990</th>\n",
       "      <th>94991</th>\n",
       "      <th>94992</th>\n",
       "      <th>94993</th>\n",
       "      <th>94994</th>\n",
       "      <th>94995</th>\n",
       "      <th>94996</th>\n",
       "      <th>94997</th>\n",
       "      <th>94998</th>\n",
       "      <th>94999</th>\n",
       "    </tr>\n",
       "  </thead>\n",
       "  <tbody>\n",
       "    <tr>\n",
       "      <th>0</th>\n",
       "      <td>1754</td>\n",
       "      <td>29010</td>\n",
       "      <td>0</td>\n",
       "      <td>0</td>\n",
       "      <td>0</td>\n",
       "      <td>0</td>\n",
       "      <td>1</td>\n",
       "      <td>0</td>\n",
       "      <td>0</td>\n",
       "      <td>0</td>\n",
       "      <td>...</td>\n",
       "      <td>0</td>\n",
       "      <td>0</td>\n",
       "      <td>0</td>\n",
       "      <td>0</td>\n",
       "      <td>0</td>\n",
       "      <td>0</td>\n",
       "      <td>0</td>\n",
       "      <td>0</td>\n",
       "      <td>1</td>\n",
       "      <td>0</td>\n",
       "    </tr>\n",
       "    <tr>\n",
       "      <th>1</th>\n",
       "      <td>308</td>\n",
       "      <td>10185</td>\n",
       "      <td>0</td>\n",
       "      <td>0</td>\n",
       "      <td>0</td>\n",
       "      <td>0</td>\n",
       "      <td>1</td>\n",
       "      <td>0</td>\n",
       "      <td>0</td>\n",
       "      <td>0</td>\n",
       "      <td>...</td>\n",
       "      <td>0</td>\n",
       "      <td>0</td>\n",
       "      <td>0</td>\n",
       "      <td>0</td>\n",
       "      <td>0</td>\n",
       "      <td>0</td>\n",
       "      <td>0</td>\n",
       "      <td>0</td>\n",
       "      <td>1</td>\n",
       "      <td>0</td>\n",
       "    </tr>\n",
       "    <tr>\n",
       "      <th>2</th>\n",
       "      <td>24</td>\n",
       "      <td>314</td>\n",
       "      <td>0</td>\n",
       "      <td>0</td>\n",
       "      <td>0</td>\n",
       "      <td>0</td>\n",
       "      <td>0</td>\n",
       "      <td>0</td>\n",
       "      <td>0</td>\n",
       "      <td>0</td>\n",
       "      <td>...</td>\n",
       "      <td>0</td>\n",
       "      <td>0</td>\n",
       "      <td>0</td>\n",
       "      <td>0</td>\n",
       "      <td>0</td>\n",
       "      <td>0</td>\n",
       "      <td>0</td>\n",
       "      <td>0</td>\n",
       "      <td>1</td>\n",
       "      <td>0</td>\n",
       "    </tr>\n",
       "    <tr>\n",
       "      <th>3</th>\n",
       "      <td>1302</td>\n",
       "      <td>29956</td>\n",
       "      <td>0</td>\n",
       "      <td>0</td>\n",
       "      <td>0</td>\n",
       "      <td>0</td>\n",
       "      <td>0</td>\n",
       "      <td>0</td>\n",
       "      <td>0</td>\n",
       "      <td>1</td>\n",
       "      <td>...</td>\n",
       "      <td>0</td>\n",
       "      <td>0</td>\n",
       "      <td>0</td>\n",
       "      <td>0</td>\n",
       "      <td>0</td>\n",
       "      <td>0</td>\n",
       "      <td>1</td>\n",
       "      <td>0</td>\n",
       "      <td>0</td>\n",
       "      <td>0</td>\n",
       "    </tr>\n",
       "    <tr>\n",
       "      <th>4</th>\n",
       "      <td>1361</td>\n",
       "      <td>7985</td>\n",
       "      <td>0</td>\n",
       "      <td>0</td>\n",
       "      <td>0</td>\n",
       "      <td>0</td>\n",
       "      <td>0</td>\n",
       "      <td>0</td>\n",
       "      <td>0</td>\n",
       "      <td>1</td>\n",
       "      <td>...</td>\n",
       "      <td>0</td>\n",
       "      <td>0</td>\n",
       "      <td>0</td>\n",
       "      <td>0</td>\n",
       "      <td>0</td>\n",
       "      <td>0</td>\n",
       "      <td>0</td>\n",
       "      <td>0</td>\n",
       "      <td>1</td>\n",
       "      <td>0</td>\n",
       "    </tr>\n",
       "  </tbody>\n",
       "</table>\n",
       "<p>5 rows × 95000 columns</p>\n",
       "</div>"
      ],
      "text/plain": [
       "      0      1  2  3  4  5  6  7  8  9  ...  94990  94991  94992  94993  \\\n",
       "0  1754  29010  0  0  0  0  1  0  0  0  ...      0      0      0      0   \n",
       "1   308  10185  0  0  0  0  1  0  0  0  ...      0      0      0      0   \n",
       "2    24    314  0  0  0  0  0  0  0  0  ...      0      0      0      0   \n",
       "3  1302  29956  0  0  0  0  0  0  0  1  ...      0      0      0      0   \n",
       "4  1361   7985  0  0  0  0  0  0  0  1  ...      0      0      0      0   \n",
       "\n",
       "   94994  94995  94996  94997  94998  94999  \n",
       "0      0      0      0      0      1      0  \n",
       "1      0      0      0      0      1      0  \n",
       "2      0      0      0      0      1      0  \n",
       "3      0      0      1      0      0      0  \n",
       "4      0      0      0      0      1      0  \n",
       "\n",
       "[5 rows x 95000 columns]"
      ]
     },
     "execution_count": 9,
     "metadata": {},
     "output_type": "execute_result"
    }
   ],
   "source": [
    "X_가전제품.head()"
   ]
  },
  {
   "cell_type": "code",
   "execution_count": 10,
   "metadata": {},
   "outputs": [],
   "source": [
    "X_가전제품 = np.asarray(X_가전제품)\n",
    "X_화장품 = np.asarray(X_화장품)\n",
    "X_패션 = np.asarray(X_패션)"
   ]
  },
  {
   "cell_type": "markdown",
   "metadata": {},
   "source": [
    "### Oversampling"
   ]
  },
  {
   "cell_type": "code",
   "execution_count": 11,
   "metadata": {},
   "outputs": [
    {
     "data": {
      "text/plain": [
       "(1063, 95000)"
      ]
     },
     "execution_count": 11,
     "metadata": {},
     "output_type": "execute_result"
    }
   ],
   "source": [
    "X_가전제품.shape"
   ]
  },
  {
   "cell_type": "code",
   "execution_count": 12,
   "metadata": {},
   "outputs": [],
   "source": [
    "smote = SMOTE()"
   ]
  },
  {
   "cell_type": "code",
   "execution_count": 13,
   "metadata": {},
   "outputs": [],
   "source": [
    "#5000일때 자꾸 커널이 죽음\n",
    "def oversample(X, Y):\n",
    "    max_len = 5000\n",
    "    X_resampled, Y_resampled = smote.fit_resample(X, Y)\n",
    "    X_resampled = X_resampled.reshape(X_resampled.shape[0], max_len, int(X_resampled.shape[1]/max_len))\n",
    "    return X_resampled, Y_resampled"
   ]
  },
  {
   "cell_type": "code",
   "execution_count": 14,
   "metadata": {},
   "outputs": [],
   "source": [
    "X_가전제품_resampled, Y_가전제품_resampled =oversample(X_가전제품, Y_가전제품)\n",
    "X_패션_resampled, Y_패션_resampled = oversample(X_패션, Y_패션)\n",
    "X_화장품_resampled, Y_화장품_resampled = oversample(X_화장품, Y_화장품)"
   ]
  },
  {
   "cell_type": "code",
   "execution_count": null,
   "metadata": {},
   "outputs": [],
   "source": []
  },
  {
   "cell_type": "markdown",
   "metadata": {},
   "source": [
    "### LSTM 가동"
   ]
  },
  {
   "cell_type": "code",
   "execution_count": 95,
   "metadata": {},
   "outputs": [],
   "source": [
    "from keras import backend as K\n",
    "\n",
    "def recall_m(y_true, y_pred):\n",
    "        true_positives = K.sum(K.round(K.clip(y_true * y_pred, 0, 1)))\n",
    "        possible_positives = K.sum(K.round(K.clip(y_true, 0, 1)))\n",
    "        recall = true_positives / (possible_positives + K.epsilon())\n",
    "        return recall\n",
    "\n",
    "def precision_m(y_true, y_pred):\n",
    "        true_positives = K.sum(K.round(K.clip(y_true * y_pred, 0, 1)))\n",
    "        predicted_positives = K.sum(K.round(K.clip(y_pred, 0, 1)))\n",
    "        precision = true_positives / (predicted_positives + K.epsilon())\n",
    "        return precision\n",
    "\n",
    "def f1_m(y_true, y_pred):\n",
    "    precision = precision_m(y_true, y_pred)\n",
    "    recall = recall_m(y_true, y_pred)\n",
    "    return 2*((precision*recall)/(precision+recall+K.epsilon()))"
   ]
  },
  {
   "cell_type": "markdown",
   "metadata": {},
   "source": [
    "#### 패션"
   ]
  },
  {
   "cell_type": "code",
   "execution_count": 108,
   "metadata": {},
   "outputs": [
    {
     "data": {
      "text/plain": [
       "(1606, 5000, 19)"
      ]
     },
     "execution_count": 108,
     "metadata": {},
     "output_type": "execute_result"
    }
   ],
   "source": [
    "X_train.shape"
   ]
  },
  {
   "cell_type": "code",
   "execution_count": 105,
   "metadata": {},
   "outputs": [],
   "source": [
    "X_train, X_test, y_train, y_test = train_test_split(\n",
    "X_패션_resampled, Y_패션_resampled, test_size=0.3, random_state=42)"
   ]
  },
  {
   "cell_type": "code",
   "execution_count": 106,
   "metadata": {},
   "outputs": [],
   "source": [
    "y_train = to_categorical(y_train)\n",
    "y_test = to_categorical(y_test)"
   ]
  },
  {
   "cell_type": "code",
   "execution_count": 112,
   "metadata": {},
   "outputs": [],
   "source": [
    "#masking layer 추가(https://stackoverflow.com/questions/49670832/keras-lstm-with-masking-layer-for-variable-length-inputs)\n",
    "def get_model(input_shape):\n",
    "    model = Sequential()\n",
    "    model.add(Masking(mask_value=0., input_shape=(X_train.shape[1], X_train.shape[2])))\n",
    "    model.add(LSTM(64,input_shape = input_shape))\n",
    "    #model.add(GlobalMaxPool1D())\n",
    "    model.add(Dense(32, activation= 'relu'))\n",
    "    model.add(Dropout(0.2))\n",
    "    model.add(Dense(16, activation= 'relu'))\n",
    "    model.add(Dense(4, activation='sigmoid'))\n",
    "\n",
    "    return model\n"
   ]
  },
  {
   "cell_type": "code",
   "execution_count": null,
   "metadata": {},
   "outputs": [],
   "source": [
    "    model.compile(loss='categorical_crossentropy', optimizer=RMSprop(lr= 0.001, rho = 0.9), metrics=['acc'])\n",
    "    print(model.summary())"
   ]
  },
  {
   "cell_type": "markdown",
   "metadata": {},
   "source": [
    "#### Bayesian Optimization"
   ]
  },
  {
   "cell_type": "code",
   "execution_count": 131,
   "metadata": {},
   "outputs": [],
   "source": [
    "def fit_with(input_shape, verbose, lr):\n",
    "\n",
    "    # Create the model using a specified hyperparameters.\n",
    "    model = get_model(input_shape)\n",
    "\n",
    "    # Train the model for a specified number of epochs.\n",
    "    optimizer = RMSprop(learning_rate=lr)\n",
    "    model.compile(loss=tf.keras.losses.categorical_crossentropy,\n",
    "                  optimizer=optimizer,\n",
    "                  metrics=['accuracy'])\n",
    "\n",
    "    # Train the model with the train dataset.\n",
    "    model.fit(x=X_train,y= y_train ,epochs=1,\n",
    "              batch_size=64, verbose=verbose)\n",
    "\n",
    "    # Evaluate the model with the eval dataset.\n",
    "    score = model.evaluate(X_test,y= y_test ,steps=10, verbose=0)\n",
    "    print('Test loss:', score[0])\n",
    "    print('Test accuracy:', score[1])\n",
    "\n",
    "    # Return the accuracy.\n",
    "\n",
    "    return score[1]\n",
    "from functools import partial\n",
    "input_shape = (X_train.shape[1], X_train.shape[2])\n",
    "verbose = 1\n",
    "fit_with_partial = partial(fit_with, input_shape, verbose)"
   ]
  },
  {
   "cell_type": "code",
   "execution_count": 132,
   "metadata": {},
   "outputs": [
    {
     "name": "stdout",
     "output_type": "stream",
     "text": [
      "|   iter    |  target   |    lr     |\n",
      "-------------------------------------\n",
      "Epoch 1/1\n",
      "1606/1606 [==============================] - 116s 72ms/step - loss: 1.2703 - accuracy: 0.3767\n",
      "Test loss: 0.10801259279251099\n",
      "Test accuracy: 4.716981053352356\n",
      "| \u001b[0m 1       \u001b[0m | \u001b[0m 4.717   \u001b[0m | \u001b[0m 0.004229\u001b[0m |\n",
      "Epoch 1/1\n",
      "1606/1606 [==============================] - 118s 73ms/step - loss: 1.0698 - accuracy: 0.4284\n",
      "Test loss: 0.10224945545196533\n",
      "Test accuracy: 4.296081364154816\n",
      "| \u001b[0m 2       \u001b[0m | \u001b[0m 4.296   \u001b[0m | \u001b[0m 0.007231\u001b[0m |\n",
      "Epoch 1/1\n",
      "1606/1606 [==============================] - 125s 78ms/step - loss: 1.4472 - accuracy: 0.2416\n",
      "Test loss: 0.14132689237594603\n",
      "Test accuracy: 3.294629752635956\n",
      "| \u001b[0m 3       \u001b[0m | \u001b[0m 3.295   \u001b[0m | \u001b[0m 0.000101\u001b[0m |\n",
      "Epoch 1/1\n",
      "1606/1606 [==============================] - 118s 73ms/step - loss: 1.1305 - accuracy: 0.4732\n",
      "Test loss: 0.09361357092857361\n",
      "Test accuracy: 5.703918933868408\n",
      "| \u001b[95m 4       \u001b[0m | \u001b[95m 5.704   \u001b[0m | \u001b[95m 0.003093\u001b[0m |\n",
      "Epoch 1/1\n",
      "1606/1606 [==============================] - 118s 73ms/step - loss: 1.1579 - accuracy: 0.3761\n",
      "Test loss: 0.106751549243927\n",
      "Test accuracy: 5.07982611656189\n",
      "| \u001b[0m 5       \u001b[0m | \u001b[0m 5.08    \u001b[0m | \u001b[0m 0.001553\u001b[0m |\n",
      "Epoch 1/1\n",
      "1606/1606 [==============================] - 127s 79ms/step - loss: 1.1653 - accuracy: 0.3817\n",
      "Test loss: 0.10989166498184204\n",
      "Test accuracy: 3.570391833782196\n",
      "| \u001b[0m 6       \u001b[0m | \u001b[0m 3.57    \u001b[0m | \u001b[0m 0.001014\u001b[0m |\n",
      "Epoch 1/1\n",
      "1606/1606 [==============================] - 120s 75ms/step - loss: 1.1504 - accuracy: 0.3350\n",
      "Test loss: 0.10425639152526855\n",
      "Test accuracy: 3.4397676587104797\n",
      "| \u001b[0m 7       \u001b[0m | \u001b[0m 3.44    \u001b[0m | \u001b[0m 0.001944\u001b[0m |\n",
      "Epoch 1/1\n",
      "1606/1606 [==============================] - 115s 72ms/step - loss: 1.0831 - accuracy: 0.4477\n",
      "Test loss: 0.09328081011772156\n",
      "Test accuracy: 5.3410738706588745\n",
      "| \u001b[0m 8       \u001b[0m | \u001b[0m 5.341   \u001b[0m | \u001b[0m 0.003521\u001b[0m |\n",
      "Epoch 1/1\n",
      "1606/1606 [==============================] - 119s 74ms/step - loss: 1.0481 - accuracy: 0.5093\n",
      "Test loss: 0.09408735036849976\n",
      "Test accuracy: 5.181422233581543\n",
      "| \u001b[0m 9       \u001b[0m | \u001b[0m 5.181   \u001b[0m | \u001b[0m 0.004028\u001b[0m |\n",
      "Epoch 1/1\n",
      "1606/1606 [==============================] - 116s 72ms/step - loss: 1.0610 - accuracy: 0.4259\n",
      "Test loss: 0.09999374747276306\n",
      "Test accuracy: 5.1233673095703125\n",
      "| \u001b[0m 10      \u001b[0m | \u001b[0m 5.123   \u001b[0m | \u001b[0m 0.005434\u001b[0m |\n",
      "Epoch 1/1\n",
      "1606/1606 [==============================] - 118s 74ms/step - loss: 1.0870 - accuracy: 0.4352\n",
      "Test loss: 0.09493661522865296\n",
      "Test accuracy: 5.37010133266449\n",
      "| \u001b[0m 11      \u001b[0m | \u001b[0m 5.37    \u001b[0m | \u001b[0m 0.002761\u001b[0m |\n",
      "Epoch 1/1\n",
      "1606/1606 [==============================] - 113s 70ms/step - loss: 1.0481 - accuracy: 0.4508\n",
      "Test loss: 0.09434975385665893\n",
      "Test accuracy: 5.13788104057312\n",
      "| \u001b[0m 12      \u001b[0m | \u001b[0m 5.138   \u001b[0m | \u001b[0m 0.006024\u001b[0m |\n",
      "Epoch 1/1\n",
      "1606/1606 [==============================] - 123s 76ms/step - loss: 0.9825 - accuracy: 0.4888\n",
      "Test loss: 0.08982491493225098\n",
      "Test accuracy: 5.471698045730591\n",
      "| \u001b[0m 13      \u001b[0m | \u001b[0m 5.472   \u001b[0m | \u001b[0m 0.01    \u001b[0m |\n",
      "Epoch 1/1\n",
      "1606/1606 [==============================] - 117s 73ms/step - loss: 1.0131 - accuracy: 0.4695\n",
      "Test loss: 0.09198938608169556\n",
      "Test accuracy: 5.239477753639221\n",
      "| \u001b[0m 14      \u001b[0m | \u001b[0m 5.239   \u001b[0m | \u001b[0m 0.00948 \u001b[0m |\n",
      "Epoch 1/1\n",
      "1606/1606 [==============================] - 120s 75ms/step - loss: 1.0015 - accuracy: 0.4795\n",
      "Test loss: 0.1206917405128479\n",
      "Test accuracy: 3.526850640773773\n",
      "| \u001b[0m 15      \u001b[0m | \u001b[0m 3.527   \u001b[0m | \u001b[0m 0.008739\u001b[0m |\n",
      "Epoch 1/1\n",
      "1606/1606 [==============================] - 120s 75ms/step - loss: 1.0884 - accuracy: 0.3418\n",
      "Test loss: 0.09792449474334716\n",
      "Test accuracy: 5.500725507736206\n",
      "| \u001b[0m 16      \u001b[0m | \u001b[0m 5.501   \u001b[0m | \u001b[0m 0.006538\u001b[0m |\n",
      "Epoch 1/1\n",
      "1606/1606 [==============================] - 116s 73ms/step - loss: 1.0650 - accuracy: 0.3910\n",
      "Test loss: 0.0906749963760376\n",
      "Test accuracy: 5.326560139656067\n",
      "| \u001b[0m 17      \u001b[0m | \u001b[0m 5.327   \u001b[0m | \u001b[0m 0.004927\u001b[0m |\n",
      "Epoch 1/1\n",
      "1606/1606 [==============================] - 118s 74ms/step - loss: 1.1015 - accuracy: 0.4284\n",
      "Test loss: 0.09757402539253235\n",
      "Test accuracy: 5.195935964584351\n",
      "| \u001b[0m 18      \u001b[0m | \u001b[0m 5.196   \u001b[0m | \u001b[0m 0.007925\u001b[0m |\n",
      "Epoch 1/1\n",
      "1606/1606 [==============================] - 115s 72ms/step - loss: 1.1517 - accuracy: 0.3711\n",
      "Test loss: 0.10731278657913208\n",
      "Test accuracy: 3.889695107936859\n",
      "| \u001b[0m 19      \u001b[0m | \u001b[0m 3.89    \u001b[0m | \u001b[0m 0.003107\u001b[0m |\n",
      "Epoch 1/1\n",
      "1606/1606 [==============================] - 114s 71ms/step - loss: 1.0671 - accuracy: 0.3979\n",
      "Test loss: 0.09564208984375\n",
      "Test accuracy: 5.3410738706588745\n",
      "| \u001b[0m 20      \u001b[0m | \u001b[0m 5.341   \u001b[0m | \u001b[0m 0.003081\u001b[0m |\n",
      "=====================================\n",
      "Iteration 0: \n",
      "\t{'target': 4.716981053352356, 'params': {'lr': 0.004228517846555483}}\n",
      "Iteration 1: \n",
      "\t{'target': 4.296081364154816, 'params': {'lr': 0.007231212485077366}}\n",
      "Iteration 2: \n",
      "\t{'target': 3.294629752635956, 'params': {'lr': 0.00010113231069171439}}\n",
      "Iteration 3: \n",
      "\t{'target': 5.703918933868408, 'params': {'lr': 0.003093092469055214}}\n",
      "Iteration 4: \n",
      "\t{'target': 5.07982611656189, 'params': {'lr': 0.0015528833190894193}}\n",
      "Iteration 5: \n",
      "\t{'target': 3.570391833782196, 'params': {'lr': 0.0010141520882110983}}\n",
      "Iteration 6: \n",
      "\t{'target': 3.4397676587104797, 'params': {'lr': 0.0019439760926389421}}\n",
      "Iteration 7: \n",
      "\t{'target': 5.3410738706588745, 'params': {'lr': 0.003521051197726173}}\n",
      "Iteration 8: \n",
      "\t{'target': 5.181422233581543, 'params': {'lr': 0.004027997994883633}}\n",
      "Iteration 9: \n",
      "\t{'target': 5.1233673095703125, 'params': {'lr': 0.005434285666633234}}\n",
      "Iteration 10: \n",
      "\t{'target': 5.37010133266449, 'params': {'lr': 0.002761237786148106}}\n",
      "Iteration 11: \n",
      "\t{'target': 5.13788104057312, 'params': {'lr': 0.006024380690034502}}\n",
      "Iteration 12: \n",
      "\t{'target': 5.471698045730591, 'params': {'lr': 0.01}}\n",
      "Iteration 13: \n",
      "\t{'target': 5.239477753639221, 'params': {'lr': 0.009480329785707536}}\n",
      "Iteration 14: \n",
      "\t{'target': 3.526850640773773, 'params': {'lr': 0.008738926243592307}}\n",
      "Iteration 15: \n",
      "\t{'target': 5.500725507736206, 'params': {'lr': 0.00653820192570272}}\n",
      "Iteration 16: \n",
      "\t{'target': 5.326560139656067, 'params': {'lr': 0.0049274385191790645}}\n",
      "Iteration 17: \n",
      "\t{'target': 5.195935964584351, 'params': {'lr': 0.007924726935973153}}\n",
      "Iteration 18: \n",
      "\t{'target': 3.889695107936859, 'params': {'lr': 0.0031069541240735595}}\n",
      "Iteration 19: \n",
      "\t{'target': 5.3410738706588745, 'params': {'lr': 0.0030806776442324412}}\n",
      "{'target': 5.703918933868408, 'params': {'lr': 0.003093092469055214}}\n"
     ]
    }
   ],
   "source": [
    "from bayes_opt import BayesianOptimization\n",
    "\n",
    "# Bounded region of parameter space\n",
    "pbounds = {'lr': (1e-4, 1e-2)}\n",
    "\n",
    "optimizer = BayesianOptimization(\n",
    "    f=fit_with_partial,\n",
    "    pbounds=pbounds,\n",
    "    verbose=2,  # verbose = 1 prints only when a maximum is observed, verbose = 0 is silent\n",
    "    random_state=1,\n",
    ")\n",
    "\n",
    "optimizer.maximize(init_points=10, n_iter=10)\n",
    "\n",
    "\n",
    "for i, res in enumerate(optimizer.res):\n",
    "    print(\"Iteration {}: \\n\\t{}\".format(i, res))\n",
    "\n",
    "print(optimizer.max)"
   ]
  },
  {
   "cell_type": "code",
   "execution_count": 134,
   "metadata": {},
   "outputs": [
    {
     "name": "stdout",
     "output_type": "stream",
     "text": [
      "Model: \"sequential_39\"\n",
      "_________________________________________________________________\n",
      "Layer (type)                 Output Shape              Param #   \n",
      "=================================================================\n",
      "masking_39 (Masking)         (None, 5000, 19)          0         \n",
      "_________________________________________________________________\n",
      "lstm_39 (LSTM)               (None, 64)                21504     \n",
      "_________________________________________________________________\n",
      "dense_109 (Dense)            (None, 32)                2080      \n",
      "_________________________________________________________________\n",
      "dense_110 (Dense)            (None, 16)                528       \n",
      "_________________________________________________________________\n",
      "dense_111 (Dense)            (None, 4)                 68        \n",
      "=================================================================\n",
      "Total params: 24,180\n",
      "Trainable params: 24,180\n",
      "Non-trainable params: 0\n",
      "_________________________________________________________________\n",
      "None\n"
     ]
    }
   ],
   "source": [
    "#masking layer 추가(https://stackoverflow.com/questions/49670832/keras-lstm-with-masking-layer-for-variable-length-inputs)\n",
    "model = Sequential()\n",
    "model.add(Masking(mask_value=0., input_shape=(X_train.shape[1], X_train.shape[2])))\n",
    "model.add(LSTM(64,input_shape = (X_train.shape[1], X_train.shape[2])))\n",
    "#model.add(Glob)\n",
    "model.add(Dense(32, activation= 'relu'))\n",
    "#model.add(Dropout(0.2))\n",
    "model.add(Dense(16, activation= 'relu'))\n",
    "model.add(Dense(4, activation='sigmoid'))\n",
    "model.compile(loss='categorical_crossentropy', optimizer=RMSprop(lr= 0.003, rho = 0.9), metrics=['acc'])\n",
    "print(model.summary())"
   ]
  },
  {
   "cell_type": "code",
   "execution_count": 135,
   "metadata": {
    "scrolled": true
   },
   "outputs": [
    {
     "name": "stdout",
     "output_type": "stream",
     "text": [
      "Train on 1606 samples, validate on 689 samples\n",
      "Epoch 1/30\n",
      " - 89s - loss: 1.1655 - acc: 0.4776 - val_loss: 0.9793 - val_acc: 0.5544\n",
      "Epoch 2/30\n",
      " - 86s - loss: 0.9319 - acc: 0.5367 - val_loss: 0.9106 - val_acc: 0.5530\n",
      "Epoch 3/30\n",
      " - 84s - loss: 0.8801 - acc: 0.5411 - val_loss: 0.8682 - val_acc: 0.5559\n",
      "Epoch 4/30\n",
      " - 84s - loss: 0.8536 - acc: 0.5641 - val_loss: 0.8536 - val_acc: 0.5820\n",
      "Epoch 5/30\n",
      " - 85s - loss: 0.8376 - acc: 0.5685 - val_loss: 0.8441 - val_acc: 0.6009\n",
      "Epoch 6/30\n",
      " - 84s - loss: 0.8714 - acc: 0.5585 - val_loss: 0.8209 - val_acc: 0.6023\n",
      "Epoch 7/30\n",
      " - 84s - loss: 0.8212 - acc: 0.5722 - val_loss: 0.8203 - val_acc: 0.6038\n",
      "Epoch 8/30\n",
      " - 85s - loss: 0.8188 - acc: 0.5697 - val_loss: 0.8215 - val_acc: 0.6067\n",
      "Epoch 9/30\n",
      " - 85s - loss: 0.8119 - acc: 0.5685 - val_loss: 0.8360 - val_acc: 0.5922\n",
      "Epoch 10/30\n",
      " - 85s - loss: 0.8087 - acc: 0.5716 - val_loss: 0.8292 - val_acc: 0.6009\n",
      "Epoch 11/30\n",
      " - 82s - loss: 0.8017 - acc: 0.5766 - val_loss: 0.8456 - val_acc: 0.5965\n",
      "Epoch 12/30\n",
      " - 84s - loss: 0.8086 - acc: 0.5828 - val_loss: 0.8301 - val_acc: 0.6038\n",
      "Epoch 13/30\n",
      " - 92s - loss: 0.7960 - acc: 0.5685 - val_loss: 0.8344 - val_acc: 0.5994\n",
      "Epoch 14/30\n",
      " - 84s - loss: 0.7975 - acc: 0.5741 - val_loss: 0.8773 - val_acc: 0.5907\n",
      "Epoch 15/30\n",
      " - 87s - loss: 0.7923 - acc: 0.5946 - val_loss: 0.8492 - val_acc: 0.5951\n",
      "Epoch 16/30\n",
      " - 87s - loss: 0.7884 - acc: 0.6083 - val_loss: 0.8231 - val_acc: 0.6096\n",
      "Epoch 17/30\n",
      " - 88s - loss: 0.7803 - acc: 0.6027 - val_loss: 0.9211 - val_acc: 0.5776\n",
      "Epoch 18/30\n",
      " - 86s - loss: 0.7748 - acc: 0.6077 - val_loss: 0.8457 - val_acc: 0.6052\n",
      "Epoch 19/30\n",
      " - 86s - loss: 0.7713 - acc: 0.6127 - val_loss: 0.8557 - val_acc: 0.5864\n",
      "Epoch 20/30\n",
      " - 99s - loss: 0.7606 - acc: 0.6208 - val_loss: 0.8631 - val_acc: 0.5893\n",
      "Epoch 21/30\n",
      " - 110s - loss: 0.7584 - acc: 0.6146 - val_loss: 0.8069 - val_acc: 0.6023\n",
      "Epoch 22/30\n",
      " - 89s - loss: 0.7587 - acc: 0.6214 - val_loss: 0.8132 - val_acc: 0.6038\n",
      "Epoch 23/30\n",
      " - 89s - loss: 0.7556 - acc: 0.6164 - val_loss: 0.8330 - val_acc: 0.5864\n",
      "Epoch 24/30\n",
      " - 88s - loss: 0.7445 - acc: 0.6127 - val_loss: 0.8440 - val_acc: 0.5878\n",
      "Epoch 25/30\n",
      " - 84s - loss: 0.7464 - acc: 0.6239 - val_loss: 0.8955 - val_acc: 0.5922\n",
      "Epoch 26/30\n",
      " - 92s - loss: 0.7434 - acc: 0.6108 - val_loss: 0.8977 - val_acc: 0.5820\n",
      "Epoch 27/30\n",
      " - 83s - loss: 0.7398 - acc: 0.6308 - val_loss: 0.8364 - val_acc: 0.6139\n",
      "Epoch 28/30\n",
      " - 88s - loss: 0.7356 - acc: 0.6320 - val_loss: 0.8809 - val_acc: 0.5907\n",
      "Epoch 29/30\n",
      " - 87s - loss: 0.7250 - acc: 0.6382 - val_loss: 0.8602 - val_acc: 0.6009\n",
      "Epoch 30/30\n",
      " - 87s - loss: 0.7301 - acc: 0.6270 - val_loss: 0.8440 - val_acc: 0.6023\n"
     ]
    }
   ],
   "source": [
    "history = model.fit(X_train, y_train, epochs=30, batch_size=100, validation_data=(X_test, y_test), verbose=2, shuffle=False)"
   ]
  },
  {
   "cell_type": "code",
   "execution_count": 136,
   "metadata": {},
   "outputs": [
    {
     "data": {
      "text/plain": [
       "(1606, 5000, 19)"
      ]
     },
     "execution_count": 136,
     "metadata": {},
     "output_type": "execute_result"
    }
   ],
   "source": [
    "X_train.shape"
   ]
  },
  {
   "cell_type": "markdown",
   "metadata": {},
   "source": [
    "#### feature importance"
   ]
  },
  {
   "cell_type": "code",
   "execution_count": 137,
   "metadata": {
    "scrolled": true
   },
   "outputs": [
    {
     "name": "stdout",
     "output_type": "stream",
     "text": [
      "   varible_name  perturbation_effect\n",
      "17      컴퓨터/인터넷             0.105500\n",
      "6            기타             0.067070\n",
      "9       비즈니스/쇼핑             0.064833\n",
      "0    세션당 방문사이트수             0.037320\n",
      "7        뉴스/미디어             0.025902\n",
      "1        세션지속시간             0.016763\n",
      "8         문화/예술             0.014035\n",
      "3            게임             0.005174\n",
      "11       스포츠/레저             0.005075\n",
      "15        정치/사회             0.002527\n",
      "10        생활/건강             0.002033\n",
      "2     쇼핑사이트방문여부             0.001977\n",
      "5         교육/학교             0.001861\n",
      "4        경제/재테크             0.001658\n",
      "13        연예/오락             0.000948\n",
      "18        학문/사전             0.000616\n",
      "14           인물             0.000532\n",
      "12      여행/세계정보             0.000301\n",
      "16           종교             0.000023\n"
     ]
    }
   ],
   "source": [
    "train_df = pd.DataFrame(X_train.reshape(1606*5000, 19))\n",
    "train_df.columns = ['세션당 방문사이트수','세션지속시간','쇼핑사이트방문여부' ,\n",
    "                    '게임', '경제/재테크', '교육/학교', '기타', '뉴스/미디어', '문화/예술', '비즈니스/쇼핑', '생활/건강', '스포츠/레저',\n",
    " '여행/세계정보', '연예/오락', '인물', '정치/사회', '종교', '컴퓨터/인터넷', '학문/사전']\n",
    "## Sensitivity Analysis\n",
    "importance_df = pd.DataFrame(np.zeros((19, 2)), columns=['varible_name', 'perturbation_effect'])\n",
    "def var_importance(model):\n",
    "    x = X_test # Get a sample of data\n",
    "    orig_out = model.predict(x)\n",
    "    for i in range(19):  # iterate over the three features\n",
    "        new_x = x.copy()\n",
    "        perturbation = np.random.normal(0.0, 0.2, size=new_x.shape[:2])\n",
    "        new_x[:, :, i] = new_x[:, :, i] + perturbation\n",
    "        perturbed_out = model.predict(new_x)\n",
    "        effect = ((orig_out - perturbed_out) ** 2).mean() ** 0.5 #RMSE\n",
    "        importance_df.iloc[i,0] = train_df.columns[i]\n",
    "        importance_df.iloc[i,1] = effect\n",
    "        #print(f'Variable {i+1}, perturbation effect: {effect:.4f}')\n",
    "var_importance(model)\n",
    "importance_df = importance_df.sort_values(by='perturbation_effect', ascending=False)\n",
    "print(importance_df)"
   ]
  },
  {
   "cell_type": "code",
   "execution_count": 138,
   "metadata": {},
   "outputs": [],
   "source": [
    "#perm = PermutationImportance(model, random_state=1).fit(X_test,y_test)\n",
    "#eli5.show_weights(perm, feature_names = X_test.columns.tolist())"
   ]
  },
  {
   "cell_type": "code",
   "execution_count": 139,
   "metadata": {},
   "outputs": [],
   "source": [
    "loss, accuracy = model.evaluate(X_test, y_test, verbose=0)"
   ]
  },
  {
   "cell_type": "code",
   "execution_count": 140,
   "metadata": {},
   "outputs": [
    {
     "name": "stdout",
     "output_type": "stream",
     "text": [
      "0.6023222208023071\n"
     ]
    }
   ],
   "source": [
    "#가전제품 f1-score: 0.7819220343082984\n",
    "#패션 accuracy: 0.7188029361269287\n",
    "\n",
    "print(accuracy)"
   ]
  },
  {
   "cell_type": "markdown",
   "metadata": {},
   "source": [
    "#### 가전제품"
   ]
  },
  {
   "cell_type": "code",
   "execution_count": 141,
   "metadata": {},
   "outputs": [],
   "source": [
    "X_train, X_test, y_train, y_test = train_test_split(\n",
    "X_가전제품_resampled, Y_가전제품_resampled, test_size=0.3, random_state=42)\n",
    "y_train = to_categorical(y_train)\n",
    "y_test = to_categorical(y_test)"
   ]
  },
  {
   "cell_type": "code",
   "execution_count": 144,
   "metadata": {},
   "outputs": [],
   "source": [
    "#쇼핑사이트 방문횟수, 문화/예술, 비즈니스/쇼핑"
   ]
  },
  {
   "cell_type": "code",
   "execution_count": 145,
   "metadata": {},
   "outputs": [
    {
     "name": "stdout",
     "output_type": "stream",
     "text": [
      "Model: \"sequential_41\"\n",
      "_________________________________________________________________\n",
      "Layer (type)                 Output Shape              Param #   \n",
      "=================================================================\n",
      "masking_41 (Masking)         (None, 5000, 19)          0         \n",
      "_________________________________________________________________\n",
      "lstm_41 (LSTM)               (None, 64)                21504     \n",
      "_________________________________________________________________\n",
      "dense_112 (Dense)            (None, 32)                2080      \n",
      "_________________________________________________________________\n",
      "dense_113 (Dense)            (None, 16)                528       \n",
      "_________________________________________________________________\n",
      "dense_114 (Dense)            (None, 4)                 68        \n",
      "=================================================================\n",
      "Total params: 24,180\n",
      "Trainable params: 24,180\n",
      "Non-trainable params: 0\n",
      "_________________________________________________________________\n",
      "None\n"
     ]
    }
   ],
   "source": [
    "#masking layer 추가(https://stackoverflow.com/questions/49670832/keras-lstm-with-masking-layer-for-variable-length-inputs)\n",
    "model = Sequential()\n",
    "model.add(Masking(mask_value=0., input_shape=(X_train.shape[1], X_train.shape[2])))\n",
    "model.add(LSTM(64,input_shape = (X_train.shape[1], X_train.shape[2])))\n",
    "#model.add(Glob)\n",
    "model.add(Dense(32, activation= 'relu'))\n",
    "#model.add(Dropout(0.2))\n",
    "model.add(Dense(16, activation= 'relu'))\n",
    "model.add(Dense(4, activation='sigmoid'))\n",
    "model.compile(loss='categorical_crossentropy', optimizer=RMSprop(lr= 0.001, rho = 0.9), metrics=['acc'])\n",
    "print(model.summary())"
   ]
  },
  {
   "cell_type": "code",
   "execution_count": 146,
   "metadata": {
    "scrolled": true
   },
   "outputs": [
    {
     "name": "stdout",
     "output_type": "stream",
     "text": [
      "Train on 2455 samples, validate on 1053 samples\n",
      "Epoch 1/50\n",
      " - 38s - loss: 1.3801 - acc: 0.2684 - val_loss: 1.3589 - val_acc: 0.3628\n",
      "Epoch 2/50\n",
      " - 37s - loss: 1.3469 - acc: 0.4012 - val_loss: 1.3279 - val_acc: 0.4520\n",
      "Epoch 3/50\n",
      " - 36s - loss: 1.3215 - acc: 0.4224 - val_loss: 1.2981 - val_acc: 0.4587\n",
      "Epoch 4/50\n",
      " - 36s - loss: 1.2964 - acc: 0.4456 - val_loss: 1.2744 - val_acc: 0.4653\n",
      "Epoch 5/50\n",
      " - 36s - loss: 1.2615 - acc: 0.4648 - val_loss: 1.2259 - val_acc: 0.4995\n",
      "Epoch 6/50\n",
      " - 36s - loss: 1.2211 - acc: 0.4900 - val_loss: 1.1845 - val_acc: 0.5043\n",
      "Epoch 7/50\n",
      " - 36s - loss: 1.1796 - acc: 0.4982 - val_loss: 1.1478 - val_acc: 0.4938\n",
      "Epoch 8/50\n",
      " - 36s - loss: 1.1479 - acc: 0.4941 - val_loss: 1.1309 - val_acc: 0.5062\n",
      "Epoch 9/50\n",
      " - 36s - loss: 1.1204 - acc: 0.5173 - val_loss: 1.0910 - val_acc: 0.5347\n",
      "Epoch 10/50\n",
      " - 36s - loss: 1.0916 - acc: 0.5271 - val_loss: 1.0662 - val_acc: 0.5537\n",
      "Epoch 11/50\n",
      " - 36s - loss: 1.0716 - acc: 0.5397 - val_loss: 1.0472 - val_acc: 0.5698\n",
      "Epoch 12/50\n",
      " - 36s - loss: 1.0567 - acc: 0.5552 - val_loss: 1.0437 - val_acc: 0.5423\n",
      "Epoch 13/50\n",
      " - 36s - loss: 1.0410 - acc: 0.5560 - val_loss: 1.0174 - val_acc: 0.5622\n",
      "Epoch 14/50\n",
      " - 36s - loss: 1.0225 - acc: 0.5650 - val_loss: 1.0114 - val_acc: 0.5670\n",
      "Epoch 15/50\n",
      " - 36s - loss: 1.0309 - acc: 0.5532 - val_loss: 1.0438 - val_acc: 0.5489\n",
      "Epoch 16/50\n",
      " - 36s - loss: 1.0171 - acc: 0.5674 - val_loss: 0.9921 - val_acc: 0.5670\n",
      "Epoch 17/50\n",
      " - 36s - loss: 0.9910 - acc: 0.5804 - val_loss: 0.9845 - val_acc: 0.5679\n",
      "Epoch 18/50\n",
      " - 37s - loss: 0.9805 - acc: 0.5866 - val_loss: 0.9925 - val_acc: 0.5708\n",
      "Epoch 19/50\n",
      " - 36s - loss: 0.9819 - acc: 0.5829 - val_loss: 0.9717 - val_acc: 0.5783\n",
      "Epoch 20/50\n",
      " - 36s - loss: 0.9610 - acc: 0.5988 - val_loss: 0.9719 - val_acc: 0.5831\n",
      "Epoch 21/50\n",
      " - 36s - loss: 0.9694 - acc: 0.5849 - val_loss: 0.9643 - val_acc: 0.5954\n",
      "Epoch 22/50\n",
      " - 36s - loss: 0.9758 - acc: 0.5882 - val_loss: 0.9670 - val_acc: 0.5802\n",
      "Epoch 23/50\n",
      " - 36s - loss: 0.9567 - acc: 0.5992 - val_loss: 0.9604 - val_acc: 0.5945\n",
      "Epoch 24/50\n",
      " - 36s - loss: 0.9515 - acc: 0.6020 - val_loss: 0.9618 - val_acc: 0.5793\n",
      "Epoch 25/50\n",
      " - 35s - loss: 0.9432 - acc: 0.6077 - val_loss: 0.9600 - val_acc: 0.5812\n",
      "Epoch 26/50\n",
      " - 36s - loss: 0.9361 - acc: 0.6098 - val_loss: 0.9510 - val_acc: 0.6049\n",
      "Epoch 27/50\n",
      " - 36s - loss: 0.9405 - acc: 0.6065 - val_loss: 0.9656 - val_acc: 0.5850\n",
      "Epoch 28/50\n",
      " - 36s - loss: 0.9286 - acc: 0.6138 - val_loss: 0.9580 - val_acc: 0.5840\n",
      "Epoch 29/50\n",
      " - 36s - loss: 0.9246 - acc: 0.6151 - val_loss: 0.9631 - val_acc: 0.5850\n",
      "Epoch 30/50\n",
      " - 36s - loss: 0.9407 - acc: 0.6029 - val_loss: 0.9349 - val_acc: 0.6116\n",
      "Epoch 31/50\n",
      " - 36s - loss: 0.9106 - acc: 0.6281 - val_loss: 0.9337 - val_acc: 0.6182\n",
      "Epoch 32/50\n",
      " - 36s - loss: 0.9082 - acc: 0.6240 - val_loss: 0.9483 - val_acc: 0.5973\n",
      "Epoch 33/50\n",
      " - 37s - loss: 0.9032 - acc: 0.6289 - val_loss: 0.9581 - val_acc: 0.5935\n",
      "Epoch 34/50\n",
      " - 36s - loss: 0.8947 - acc: 0.6301 - val_loss: 0.9298 - val_acc: 0.6116\n",
      "Epoch 35/50\n",
      " - 36s - loss: 0.8947 - acc: 0.6273 - val_loss: 0.9754 - val_acc: 0.5850\n",
      "Epoch 36/50\n",
      " - 36s - loss: 0.8914 - acc: 0.6273 - val_loss: 0.9211 - val_acc: 0.6211\n",
      "Epoch 37/50\n",
      " - 36s - loss: 0.8863 - acc: 0.6281 - val_loss: 0.9883 - val_acc: 0.5821\n",
      "Epoch 38/50\n",
      " - 36s - loss: 0.8905 - acc: 0.6265 - val_loss: 0.9251 - val_acc: 0.6144\n",
      "Epoch 39/50\n",
      " - 36s - loss: 0.8889 - acc: 0.6253 - val_loss: 0.9502 - val_acc: 0.5954\n",
      "Epoch 40/50\n",
      " - 36s - loss: 0.8797 - acc: 0.6363 - val_loss: 0.9175 - val_acc: 0.6268\n",
      "Epoch 41/50\n",
      " - 36s - loss: 0.8711 - acc: 0.6391 - val_loss: 0.9223 - val_acc: 0.6154\n",
      "Epoch 42/50\n",
      " - 36s - loss: 0.8774 - acc: 0.6281 - val_loss: 0.9786 - val_acc: 0.5945\n",
      "Epoch 43/50\n",
      " - 37s - loss: 0.8783 - acc: 0.6379 - val_loss: 0.9050 - val_acc: 0.6182\n",
      "Epoch 44/50\n",
      " - 36s - loss: 0.8555 - acc: 0.6481 - val_loss: 0.9199 - val_acc: 0.6106\n",
      "Epoch 45/50\n",
      " - 36s - loss: 0.8493 - acc: 0.6517 - val_loss: 0.8942 - val_acc: 0.6439\n",
      "Epoch 46/50\n",
      " - 36s - loss: 0.8505 - acc: 0.6505 - val_loss: 0.9747 - val_acc: 0.6059\n",
      "Epoch 47/50\n",
      " - 37s - loss: 0.8509 - acc: 0.6505 - val_loss: 0.8874 - val_acc: 0.6315\n",
      "Epoch 48/50\n",
      " - 36s - loss: 0.8377 - acc: 0.6591 - val_loss: 0.8904 - val_acc: 0.6401\n",
      "Epoch 49/50\n",
      " - 35s - loss: 0.8338 - acc: 0.6546 - val_loss: 0.9086 - val_acc: 0.6372\n",
      "Epoch 50/50\n",
      " - 35s - loss: 0.8375 - acc: 0.6542 - val_loss: 0.8897 - val_acc: 0.6325\n"
     ]
    }
   ],
   "source": [
    "history = model.fit(X_train, y_train, epochs=30, batch_size=200, validation_data=(X_test, y_test), verbose=2, shuffle=False)"
   ]
  },
  {
   "cell_type": "code",
   "execution_count": 147,
   "metadata": {},
   "outputs": [
    {
     "data": {
      "text/plain": [
       "(2455, 5000, 19)"
      ]
     },
     "execution_count": 147,
     "metadata": {},
     "output_type": "execute_result"
    }
   ],
   "source": [
    "X_train.shape"
   ]
  },
  {
   "cell_type": "markdown",
   "metadata": {},
   "source": [
    "#### feature importance"
   ]
  },
  {
   "cell_type": "code",
   "execution_count": 148,
   "metadata": {},
   "outputs": [
    {
     "name": "stdout",
     "output_type": "stream",
     "text": [
      "   varible_name  perturbation_effect\n",
      "6            기타             0.019017\n",
      "0    세션당 방문사이트수             0.018900\n",
      "9       비즈니스/쇼핑             0.017860\n",
      "17      컴퓨터/인터넷             0.011322\n",
      "1        세션지속시간             0.005882\n",
      "3            게임             0.004853\n",
      "2     쇼핑사이트방문여부             0.002543\n",
      "7        뉴스/미디어             0.002450\n",
      "15        정치/사회             0.002309\n",
      "5         교육/학교             0.001170\n",
      "4        경제/재테크             0.000860\n",
      "16           종교             0.000262\n",
      "11       스포츠/레저             0.000238\n",
      "10        생활/건강             0.000212\n",
      "12      여행/세계정보             0.000210\n",
      "18        학문/사전             0.000137\n",
      "13        연예/오락             0.000118\n",
      "8         문화/예술             0.000115\n",
      "14           인물             0.000049\n"
     ]
    }
   ],
   "source": [
    "train_df = pd.DataFrame(X_train.reshape(X_train.shape[0] * X_train.shape[1], 19))\n",
    "train_df.columns = ['세션당 방문사이트수','세션지속시간','쇼핑사이트방문여부' ,\n",
    "                    '게임', '경제/재테크', '교육/학교', '기타', '뉴스/미디어', '문화/예술', '비즈니스/쇼핑', '생활/건강', '스포츠/레저',\n",
    " '여행/세계정보', '연예/오락', '인물', '정치/사회', '종교', '컴퓨터/인터넷', '학문/사전']\n",
    "\n",
    "## Sensitivity Analysis\n",
    "importance_df = pd.DataFrame(np.zeros((19, 2)), columns=['varible_name', 'perturbation_effect'])\n",
    "def var_importance(model):\n",
    "    x = X_test # Get a sample of data\n",
    "    orig_out = model.predict(x)\n",
    "    for i in range(19):  # iterate over the three features\n",
    "        new_x = x.copy()\n",
    "        perturbation = np.random.normal(0.0, 0.2, size=new_x.shape[:2])\n",
    "        new_x[:, :, i] = new_x[:, :, i] + perturbation\n",
    "        perturbed_out = model.predict(new_x)\n",
    "        effect = ((orig_out - perturbed_out) ** 2).mean() ** 0.5 #RMSE\n",
    "        importance_df.iloc[i,0] = train_df.columns[i]\n",
    "        importance_df.iloc[i,1] = effect\n",
    "        #print(f'Variable {i+1}, perturbation effect: {effect:.4f}')\n",
    "var_importance(model)\n",
    "importance_df = importance_df.sort_values(by='perturbation_effect', ascending=False)\n",
    "print(importance_df)"
   ]
  },
  {
   "cell_type": "code",
   "execution_count": 149,
   "metadata": {},
   "outputs": [
    {
     "data": {
      "image/png": "[encoded data removed]",
      "text/plain": [
       "<Figure size 432x288 with 1 Axes>"
      ]
     },
     "metadata": {},
     "output_type": "display_data"
    }
   ],
   "source": [
    "# plot history\n",
    "plt.plot(history.history['loss'], label='train')\n",
    "plt.plot(history.history['val_loss'], label='test')\n",
    "plt.legend()                                       \n",
    "plt.show()                       "
   ]
  },
  {
   "cell_type": "code",
   "execution_count": 150,
   "metadata": {},
   "outputs": [],
   "source": [
    "loss, accuracy = model.evaluate(X_test, y_test, verbose=0)"
   ]
  },
  {
   "cell_type": "code",
   "execution_count": 151,
   "metadata": {},
   "outputs": [
    {
     "name": "stdout",
     "output_type": "stream",
     "text": [
      "0.632478654384613\n"
     ]
    }
   ],
   "source": [
    "print(accuracy)"
   ]
  },
  {
   "cell_type": "markdown",
   "metadata": {},
   "source": [
    "#### 화장품"
   ]
  },
  {
   "cell_type": "code",
   "execution_count": 152,
   "metadata": {},
   "outputs": [],
   "source": [
    "X_train, X_test, y_train, y_test = train_test_split(\n",
    "X_화장품_resampled, Y_화장품_resampled, test_size=0.3, random_state=42)\n",
    "y_train = to_categorical(y_train)\n",
    "y_test = to_categorical(y_test)"
   ]
  },
  {
   "cell_type": "code",
   "execution_count": 153,
   "metadata": {},
   "outputs": [
    {
     "name": "stdout",
     "output_type": "stream",
     "text": [
      "Model: \"sequential_42\"\n",
      "_________________________________________________________________\n",
      "Layer (type)                 Output Shape              Param #   \n",
      "=================================================================\n",
      "masking_42 (Masking)         (None, 5000, 19)          0         \n",
      "_________________________________________________________________\n",
      "lstm_42 (LSTM)               (None, 64)                21504     \n",
      "_________________________________________________________________\n",
      "dense_115 (Dense)            (None, 32)                2080      \n",
      "_________________________________________________________________\n",
      "dropout_32 (Dropout)         (None, 32)                0         \n",
      "_________________________________________________________________\n",
      "dense_116 (Dense)            (None, 16)                528       \n",
      "_________________________________________________________________\n",
      "dense_117 (Dense)            (None, 4)                 68        \n",
      "=================================================================\n",
      "Total params: 24,180\n",
      "Trainable params: 24,180\n",
      "Non-trainable params: 0\n",
      "_________________________________________________________________\n",
      "None\n"
     ]
    }
   ],
   "source": [
    "#masking layer 추가(https://stackoverflow.com/questions/49670832/keras-lstm-with-masking-layer-for-variable-length-inputs)\n",
    "model = Sequential()\n",
    "model.add(Masking(mask_value=0., input_shape=(X_train.shape[1], X_train.shape[2])))\n",
    "model.add(LSTM(64,input_shape = (X_train.shape[1], X_train.shape[2])))\n",
    "model.add(Dense(32, activation= 'relu'))\n",
    "model.add(Dropout(0.2))\n",
    "model.add(Dense(16, activation= 'relu'))\n",
    "model.add(Dense(4, activation='sigmoid'))\n",
    "model.compile(loss='categorical_crossentropy', optimizer=RMSprop(lr= 0.001, rho = 0.9), metrics=['acc'])\n",
    "print(model.summary())"
   ]
  },
  {
   "cell_type": "code",
   "execution_count": 154,
   "metadata": {},
   "outputs": [
    {
     "name": "stdout",
     "output_type": "stream",
     "text": [
      "Train on 1732 samples, validate on 743 samples\n",
      "Epoch 1/60\n",
      " - 28s - loss: 1.4262 - acc: 0.1940 - val_loss: 1.3567 - val_acc: 0.3782\n",
      "Epoch 2/60\n",
      " - 27s - loss: 1.3487 - acc: 0.3597 - val_loss: 1.3113 - val_acc: 0.3432\n",
      "Epoch 3/60\n",
      " - 27s - loss: 1.3087 - acc: 0.3886 - val_loss: 1.2749 - val_acc: 0.4065\n",
      "Epoch 4/60\n",
      " - 27s - loss: 1.2751 - acc: 0.4203 - val_loss: 1.2483 - val_acc: 0.4509\n",
      "Epoch 5/60\n",
      " - 27s - loss: 1.2504 - acc: 0.4434 - val_loss: 1.2251 - val_acc: 0.4711\n",
      "Epoch 6/60\n",
      " - 27s - loss: 1.2308 - acc: 0.4567 - val_loss: 1.2054 - val_acc: 0.4764\n",
      "Epoch 7/60\n",
      " - 27s - loss: 1.2090 - acc: 0.4521 - val_loss: 1.1852 - val_acc: 0.4778\n",
      "Epoch 8/60\n",
      " - 27s - loss: 1.1909 - acc: 0.4544 - val_loss: 1.1623 - val_acc: 0.4926\n",
      "Epoch 9/60\n",
      " - 27s - loss: 1.1592 - acc: 0.4769 - val_loss: 1.1369 - val_acc: 0.5034\n",
      "Epoch 10/60\n",
      " - 26s - loss: 1.1455 - acc: 0.4630 - val_loss: 1.1173 - val_acc: 0.5128\n",
      "Epoch 11/60\n",
      " - 27s - loss: 1.1214 - acc: 0.4902 - val_loss: 1.0938 - val_acc: 0.5168\n",
      "Epoch 12/60\n",
      " - 27s - loss: 1.1012 - acc: 0.4925 - val_loss: 1.0712 - val_acc: 0.5316\n",
      "Epoch 13/60\n",
      " - 27s - loss: 1.0820 - acc: 0.5000 - val_loss: 1.0432 - val_acc: 0.5437\n",
      "Epoch 14/60\n",
      " - 27s - loss: 1.0520 - acc: 0.5064 - val_loss: 1.0058 - val_acc: 0.5612\n",
      "Epoch 15/60\n",
      " - 27s - loss: 1.0217 - acc: 0.5277 - val_loss: 0.9681 - val_acc: 0.5760\n",
      "Epoch 16/60\n",
      " - 26s - loss: 1.0010 - acc: 0.5196 - val_loss: 0.9400 - val_acc: 0.5814\n",
      "Epoch 17/60\n",
      " - 27s - loss: 0.9698 - acc: 0.5393 - val_loss: 0.9064 - val_acc: 0.5855\n",
      "Epoch 18/60\n",
      " - 27s - loss: 0.9580 - acc: 0.5502 - val_loss: 0.8908 - val_acc: 0.5949\n",
      "Epoch 19/60\n",
      " - 26s - loss: 0.9179 - acc: 0.5722 - val_loss: 0.8631 - val_acc: 0.6110\n",
      "Epoch 20/60\n",
      " - 26s - loss: 0.9048 - acc: 0.5699 - val_loss: 0.8441 - val_acc: 0.6097\n",
      "Epoch 21/60\n",
      " - 27s - loss: 0.8817 - acc: 0.5878 - val_loss: 0.8293 - val_acc: 0.6164\n",
      "Epoch 22/60\n",
      " - 27s - loss: 0.8843 - acc: 0.5826 - val_loss: 0.8268 - val_acc: 0.6030\n",
      "Epoch 23/60\n",
      " - 27s - loss: 0.8568 - acc: 0.6045 - val_loss: 0.8085 - val_acc: 0.6043\n",
      "Epoch 24/60\n",
      " - 26s - loss: 0.8493 - acc: 0.5924 - val_loss: 0.7942 - val_acc: 0.6191\n",
      "Epoch 25/60\n",
      " - 27s - loss: 0.8374 - acc: 0.6016 - val_loss: 0.8085 - val_acc: 0.5962\n",
      "Epoch 26/60\n",
      " - 27s - loss: 0.8453 - acc: 0.6028 - val_loss: 0.7886 - val_acc: 0.6164\n",
      "Epoch 27/60\n",
      " - 26s - loss: 0.8330 - acc: 0.5930 - val_loss: 0.7864 - val_acc: 0.6299\n",
      "Epoch 28/60\n",
      " - 27s - loss: 0.8275 - acc: 0.6016 - val_loss: 0.7867 - val_acc: 0.6231\n",
      "Epoch 29/60\n",
      " - 27s - loss: 0.8200 - acc: 0.5947 - val_loss: 0.7813 - val_acc: 0.6272\n",
      "Epoch 30/60\n",
      " - 27s - loss: 0.8126 - acc: 0.6039 - val_loss: 0.7758 - val_acc: 0.6231\n",
      "Epoch 31/60\n",
      " - 27s - loss: 0.8204 - acc: 0.5941 - val_loss: 0.7795 - val_acc: 0.6083\n",
      "Epoch 32/60\n",
      " - 27s - loss: 0.7887 - acc: 0.6109 - val_loss: 0.7757 - val_acc: 0.6124\n",
      "Epoch 33/60\n",
      " - 27s - loss: 0.7973 - acc: 0.6022 - val_loss: 0.7798 - val_acc: 0.6124\n",
      "Epoch 34/60\n",
      " - 26s - loss: 0.7856 - acc: 0.6062 - val_loss: 0.7726 - val_acc: 0.6191\n",
      "Epoch 35/60\n",
      " - 27s - loss: 0.7978 - acc: 0.6045 - val_loss: 0.7748 - val_acc: 0.6218\n",
      "Epoch 36/60\n",
      " - 27s - loss: 0.7854 - acc: 0.6085 - val_loss: 0.7686 - val_acc: 0.6178\n",
      "Epoch 37/60\n",
      " - 27s - loss: 0.7838 - acc: 0.6120 - val_loss: 0.7715 - val_acc: 0.6312\n",
      "Epoch 38/60\n",
      " - 26s - loss: 0.7985 - acc: 0.5999 - val_loss: 0.7739 - val_acc: 0.6231\n",
      "Epoch 39/60\n",
      " - 27s - loss: 0.7736 - acc: 0.6172 - val_loss: 0.8437 - val_acc: 0.5868\n",
      "Epoch 40/60\n",
      " - 27s - loss: 0.8068 - acc: 0.5958 - val_loss: 0.7673 - val_acc: 0.6218\n",
      "Epoch 41/60\n",
      " - 27s - loss: 0.7718 - acc: 0.6189 - val_loss: 0.7646 - val_acc: 0.6299\n",
      "Epoch 42/60\n",
      " - 27s - loss: 0.7678 - acc: 0.6334 - val_loss: 0.7672 - val_acc: 0.6205\n",
      "Epoch 43/60\n",
      " - 27s - loss: 0.7569 - acc: 0.6357 - val_loss: 0.7712 - val_acc: 0.6218\n",
      "Epoch 44/60\n",
      " - 27s - loss: 0.8019 - acc: 0.6189 - val_loss: 0.7660 - val_acc: 0.6205\n",
      "Epoch 45/60\n",
      " - 27s - loss: 0.7586 - acc: 0.6241 - val_loss: 0.7628 - val_acc: 0.6231\n",
      "Epoch 46/60\n",
      " - 27s - loss: 0.7674 - acc: 0.6264 - val_loss: 0.7687 - val_acc: 0.6218\n",
      "Epoch 47/60\n",
      " - 27s - loss: 0.7554 - acc: 0.6357 - val_loss: 0.7575 - val_acc: 0.6380\n",
      "Epoch 48/60\n",
      " - 27s - loss: 0.7554 - acc: 0.6247 - val_loss: 0.7578 - val_acc: 0.6339\n",
      "Epoch 49/60\n",
      " - 27s - loss: 0.7501 - acc: 0.6345 - val_loss: 0.7562 - val_acc: 0.6366\n",
      "Epoch 50/60\n",
      " - 26s - loss: 0.7687 - acc: 0.6391 - val_loss: 0.7699 - val_acc: 0.6231\n",
      "Epoch 51/60\n",
      " - 27s - loss: 0.7539 - acc: 0.6305 - val_loss: 0.7560 - val_acc: 0.6272\n",
      "Epoch 52/60\n",
      " - 26s - loss: 0.7509 - acc: 0.6357 - val_loss: 0.7658 - val_acc: 0.6285\n",
      "Epoch 53/60\n",
      " - 27s - loss: 0.7573 - acc: 0.6305 - val_loss: 0.7751 - val_acc: 0.6151\n",
      "Epoch 54/60\n",
      " - 27s - loss: 0.7457 - acc: 0.6438 - val_loss: 0.7730 - val_acc: 0.6393\n",
      "Epoch 55/60\n",
      " - 27s - loss: 0.7497 - acc: 0.6415 - val_loss: 0.7673 - val_acc: 0.6299\n",
      "Epoch 56/60\n",
      " - 27s - loss: 0.7435 - acc: 0.6363 - val_loss: 0.7564 - val_acc: 0.6339\n",
      "Epoch 57/60\n",
      " - 26s - loss: 0.8203 - acc: 0.6016 - val_loss: 0.7572 - val_acc: 0.6231\n",
      "Epoch 58/60\n",
      " - 27s - loss: 0.7632 - acc: 0.6334 - val_loss: 0.7468 - val_acc: 0.6339\n",
      "Epoch 59/60\n",
      " - 27s - loss: 0.7345 - acc: 0.6357 - val_loss: 0.7485 - val_acc: 0.6433\n",
      "Epoch 60/60\n",
      " - 27s - loss: 0.7372 - acc: 0.6467 - val_loss: 0.7515 - val_acc: 0.6433\n"
     ]
    }
   ],
   "source": [
    "history = model.fit(X_train, y_train, epochs=60, batch_size=500, validation_data=(X_test, y_test), verbose=2, shuffle=False)"
   ]
  },
  {
   "cell_type": "code",
   "execution_count": 155,
   "metadata": {},
   "outputs": [
    {
     "name": "stdout",
     "output_type": "stream",
     "text": [
      "   varible_name  perturbation_effect\n",
      "17      컴퓨터/인터넷             0.049682\n",
      "9       비즈니스/쇼핑             0.042533\n",
      "6            기타             0.042316\n",
      "0    세션당 방문사이트수             0.039831\n",
      "2     쇼핑사이트방문여부             0.024230\n",
      "8         문화/예술             0.018970\n",
      "3            게임             0.016526\n",
      "14           인물             0.007616\n",
      "7        뉴스/미디어             0.006994\n",
      "1        세션지속시간             0.005104\n",
      "15        정치/사회             0.002732\n",
      "18        학문/사전             0.001604\n",
      "4        경제/재테크             0.000867\n",
      "5         교육/학교             0.000790\n",
      "10        생활/건강             0.000526\n",
      "11       스포츠/레저             0.000358\n",
      "13        연예/오락             0.000333\n",
      "12      여행/세계정보             0.000140\n",
      "16           종교             0.000001\n"
     ]
    }
   ],
   "source": [
    "train_df = pd.DataFrame(X_train.reshape(X_train.shape[0] * X_train.shape[1], 19))\n",
    "train_df.columns = ['세션당 방문사이트수','세션지속시간','쇼핑사이트방문여부' ,\n",
    "                    '게임', '경제/재테크', '교육/학교', '기타', '뉴스/미디어', '문화/예술', '비즈니스/쇼핑', '생활/건강', '스포츠/레저',\n",
    " '여행/세계정보', '연예/오락', '인물', '정치/사회', '종교', '컴퓨터/인터넷', '학문/사전']\n",
    "## Sensitivity Analysis\n",
    "importance_df = pd.DataFrame(np.zeros((19, 2)), columns=['varible_name', 'perturbation_effect'])\n",
    "def var_importance(model):\n",
    "    x = X_test # Get a sample of data\n",
    "    orig_out = model.predict(x)\n",
    "    for i in range(19):  # iterate over the three features\n",
    "        new_x = x.copy()\n",
    "        perturbation = np.random.normal(0.0, 0.2, size=new_x.shape[:2])\n",
    "        new_x[:, :, i] = new_x[:, :, i] + perturbation\n",
    "        perturbed_out = model.predict(new_x)\n",
    "        effect = ((orig_out - perturbed_out) ** 2).mean() ** 0.5 #RMSE\n",
    "        importance_df.iloc[i,0] = train_df.columns[i]\n",
    "        importance_df.iloc[i,1] = effect\n",
    "        #print(f'Variable {i+1}, perturbation effect: {effect:.4f}')\n",
    "var_importance(model)\n",
    "importance_df = importance_df.sort_values(by='perturbation_effect', ascending=False)\n",
    "print(importance_df)"
   ]
  },
  {
   "cell_type": "code",
   "execution_count": 156,
   "metadata": {},
   "outputs": [
    {
     "data": {
      "image/png": "[encoded data removed]",
      "text/plain": [
       "<Figure size 432x288 with 1 Axes>"
      ]
     },
     "metadata": {},
     "output_type": "display_data"
    }
   ],
   "source": [
    "# plot history\n",
    "plt.plot(history.history['loss'], label='train')\n",
    "plt.plot(history.history['val_loss'], label='test')\n",
    "plt.legend()                                       \n",
    "plt.show()       "
   ]
  },
  {
   "cell_type": "markdown",
   "metadata": {},
   "source": []
  }
 ],
 "metadata": {
  "kernelspec": {
   "display_name": "Python 3",
   "language": "python",
   "name": "python3"
  },
  "language_info": {
   "codemirror_mode": {
    "name": "ipython",
    "version": 3
   },
   "file_extension": ".py",
   "mimetype": "text/x-python",
   "name": "python",
   "nbconvert_exporter": "python",
   "pygments_lexer": "ipython3",
   "version": "3.6.8"
  }
 },
 "nbformat": 4,
 "nbformat_minor": 2
}
