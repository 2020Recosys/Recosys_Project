{
 "cells": [
  {
   "cell_type": "code",
   "execution_count": 1,
   "metadata": {},
   "outputs": [],
   "source": [
    "import pandas as pd\n",
    "import numpy as np\n",
    "import matplotlib.pyplot as plt\n",
    "from tqdm import tqdm_notebook"
   ]
  },
  {
   "cell_type": "code",
   "execution_count": 2,
   "metadata": {},
   "outputs": [
    {
     "name": "stdout",
     "output_type": "stream",
     "text": [
      "(3196362, 32)\n"
     ]
    },
    {
     "data": {
      "text/html": [
       "<div>\n",
       "<style scoped>\n",
       "    .dataframe tbody tr th:only-of-type {\n",
       "        vertical-align: middle;\n",
       "    }\n",
       "\n",
       "    .dataframe tbody tr th {\n",
       "        vertical-align: top;\n",
       "    }\n",
       "\n",
       "    .dataframe thead th {\n",
       "        text-align: right;\n",
       "    }\n",
       "</style>\n",
       "<table border=\"1\" class=\"dataframe\">\n",
       "  <thead>\n",
       "    <tr style=\"text-align: right;\">\n",
       "      <th></th>\n",
       "      <th>clnt_id</th>\n",
       "      <th>sess_id</th>\n",
       "      <th>trans_id</th>\n",
       "      <th>hit_seq</th>\n",
       "      <th>hit_pss_tm</th>\n",
       "      <th>time_length</th>\n",
       "      <th>holiday_diff</th>\n",
       "      <th>keyword</th>\n",
       "      <th>action_type_0</th>\n",
       "      <th>action_type_1</th>\n",
       "      <th>...</th>\n",
       "      <th>trfc_src_PORTAL_3</th>\n",
       "      <th>trfc_src_PUSH</th>\n",
       "      <th>trfc_src_WEBSITE</th>\n",
       "      <th>trfc_src_unknown</th>\n",
       "      <th>dvc_ctg_nm_PC</th>\n",
       "      <th>dvc_ctg_nm_mobile_app</th>\n",
       "      <th>dvc_ctg_nm_mobile_web</th>\n",
       "      <th>dvc_ctg_nm_unknown</th>\n",
       "      <th>unique_id</th>\n",
       "      <th>buy</th>\n",
       "    </tr>\n",
       "  </thead>\n",
       "  <tbody>\n",
       "    <tr>\n",
       "      <th>0</th>\n",
       "      <td>1</td>\n",
       "      <td>1</td>\n",
       "      <td>NaN</td>\n",
       "      <td>1</td>\n",
       "      <td>12.0</td>\n",
       "      <td>11.0</td>\n",
       "      <td>0</td>\n",
       "      <td>1</td>\n",
       "      <td>1</td>\n",
       "      <td>0</td>\n",
       "      <td>...</td>\n",
       "      <td>0</td>\n",
       "      <td>0</td>\n",
       "      <td>0</td>\n",
       "      <td>1</td>\n",
       "      <td>0</td>\n",
       "      <td>1</td>\n",
       "      <td>0</td>\n",
       "      <td>0</td>\n",
       "      <td>1_1</td>\n",
       "      <td>0</td>\n",
       "    </tr>\n",
       "    <tr>\n",
       "      <th>1</th>\n",
       "      <td>1</td>\n",
       "      <td>1</td>\n",
       "      <td>NaN</td>\n",
       "      <td>2</td>\n",
       "      <td>23.0</td>\n",
       "      <td>14.0</td>\n",
       "      <td>0</td>\n",
       "      <td>2</td>\n",
       "      <td>1</td>\n",
       "      <td>0</td>\n",
       "      <td>...</td>\n",
       "      <td>0</td>\n",
       "      <td>0</td>\n",
       "      <td>0</td>\n",
       "      <td>1</td>\n",
       "      <td>0</td>\n",
       "      <td>1</td>\n",
       "      <td>0</td>\n",
       "      <td>0</td>\n",
       "      <td>1_1</td>\n",
       "      <td>0</td>\n",
       "    </tr>\n",
       "    <tr>\n",
       "      <th>2</th>\n",
       "      <td>1</td>\n",
       "      <td>1</td>\n",
       "      <td>NaN</td>\n",
       "      <td>3</td>\n",
       "      <td>37.0</td>\n",
       "      <td>14.0</td>\n",
       "      <td>0</td>\n",
       "      <td>3</td>\n",
       "      <td>1</td>\n",
       "      <td>0</td>\n",
       "      <td>...</td>\n",
       "      <td>0</td>\n",
       "      <td>0</td>\n",
       "      <td>0</td>\n",
       "      <td>1</td>\n",
       "      <td>0</td>\n",
       "      <td>1</td>\n",
       "      <td>0</td>\n",
       "      <td>0</td>\n",
       "      <td>1_1</td>\n",
       "      <td>0</td>\n",
       "    </tr>\n",
       "    <tr>\n",
       "      <th>3</th>\n",
       "      <td>1</td>\n",
       "      <td>2</td>\n",
       "      <td>NaN</td>\n",
       "      <td>1</td>\n",
       "      <td>42.0</td>\n",
       "      <td>15.0</td>\n",
       "      <td>1</td>\n",
       "      <td>1</td>\n",
       "      <td>1</td>\n",
       "      <td>0</td>\n",
       "      <td>...</td>\n",
       "      <td>0</td>\n",
       "      <td>0</td>\n",
       "      <td>0</td>\n",
       "      <td>1</td>\n",
       "      <td>0</td>\n",
       "      <td>1</td>\n",
       "      <td>0</td>\n",
       "      <td>0</td>\n",
       "      <td>1_2</td>\n",
       "      <td>0</td>\n",
       "    </tr>\n",
       "    <tr>\n",
       "      <th>4</th>\n",
       "      <td>1</td>\n",
       "      <td>2</td>\n",
       "      <td>NaN</td>\n",
       "      <td>2</td>\n",
       "      <td>57.0</td>\n",
       "      <td>14.0</td>\n",
       "      <td>1</td>\n",
       "      <td>2</td>\n",
       "      <td>1</td>\n",
       "      <td>0</td>\n",
       "      <td>...</td>\n",
       "      <td>0</td>\n",
       "      <td>0</td>\n",
       "      <td>0</td>\n",
       "      <td>1</td>\n",
       "      <td>0</td>\n",
       "      <td>1</td>\n",
       "      <td>0</td>\n",
       "      <td>0</td>\n",
       "      <td>1_2</td>\n",
       "      <td>0</td>\n",
       "    </tr>\n",
       "  </tbody>\n",
       "</table>\n",
       "<p>5 rows × 32 columns</p>\n",
       "</div>"
      ],
      "text/plain": [
       "   clnt_id  sess_id  trans_id  hit_seq  hit_pss_tm  time_length  holiday_diff  \\\n",
       "0        1        1       NaN        1        12.0         11.0             0   \n",
       "1        1        1       NaN        2        23.0         14.0             0   \n",
       "2        1        1       NaN        3        37.0         14.0             0   \n",
       "3        1        2       NaN        1        42.0         15.0             1   \n",
       "4        1        2       NaN        2        57.0         14.0             1   \n",
       "\n",
       "   keyword  action_type_0  action_type_1  ...  trfc_src_PORTAL_3  \\\n",
       "0        1              1              0  ...                  0   \n",
       "1        2              1              0  ...                  0   \n",
       "2        3              1              0  ...                  0   \n",
       "3        1              1              0  ...                  0   \n",
       "4        2              1              0  ...                  0   \n",
       "\n",
       "   trfc_src_PUSH  trfc_src_WEBSITE  trfc_src_unknown  dvc_ctg_nm_PC  \\\n",
       "0              0                 0                 1              0   \n",
       "1              0                 0                 1              0   \n",
       "2              0                 0                 1              0   \n",
       "3              0                 0                 1              0   \n",
       "4              0                 0                 1              0   \n",
       "\n",
       "   dvc_ctg_nm_mobile_app  dvc_ctg_nm_mobile_web  dvc_ctg_nm_unknown  \\\n",
       "0                      1                      0                   0   \n",
       "1                      1                      0                   0   \n",
       "2                      1                      0                   0   \n",
       "3                      1                      0                   0   \n",
       "4                      1                      0                   0   \n",
       "\n",
       "   unique_id  buy  \n",
       "0        1_1    0  \n",
       "1        1_1    0  \n",
       "2        1_1    0  \n",
       "3        1_2    0  \n",
       "4        1_2    0  \n",
       "\n",
       "[5 rows x 32 columns]"
      ]
     },
     "execution_count": 2,
     "metadata": {},
     "output_type": "execute_result"
    }
   ],
   "source": [
    "온라인 = pd.read_csv('온라인_전처리_final_32columns.csv')\n",
    "print(온라인.shape)\n",
    "온라인.head()"
   ]
  },
  {
   "cell_type": "markdown",
   "metadata": {},
   "source": [
    "# <br>\n",
    "## 각 session의 첫번째 구매완료 이전까지 data만 사용"
   ]
  },
  {
   "cell_type": "code",
   "execution_count": 3,
   "metadata": {
    "collapsed": true
   },
   "outputs": [
    {
     "data": {
      "text/plain": [
       "0     319742\n",
       "1      40869\n",
       "2       5104\n",
       "3       1007\n",
       "4        262\n",
       "5         86\n",
       "6         38\n",
       "7         10\n",
       "8          6\n",
       "10         6\n",
       "9          4\n",
       "11         4\n",
       "12         3\n",
       "17         3\n",
       "21         2\n",
       "15         1\n",
       "18         1\n",
       "25         1\n",
       "Name: buy, dtype: int64"
      ]
     },
     "execution_count": 3,
     "metadata": {},
     "output_type": "execute_result"
    }
   ],
   "source": [
    "# 고객별 세션당 구매 횟수: 0~25까지 다양함\n",
    "# 우선 첫번째 구매를 기준으로 자름\n",
    "온라인.groupby('unique_id').buy.sum().value_counts()"
   ]
  },
  {
   "cell_type": "code",
   "execution_count": 4,
   "metadata": {},
   "outputs": [],
   "source": [
    "# 각 clnt_id별 session이 바뀌는 지점 index 저장\n",
    "idx1 = 온라인.unique_id.drop_duplicates().index.tolist()\n",
    "idx2 = idx1[1:] + [len(온라인)]"
   ]
  },
  {
   "cell_type": "code",
   "execution_count": 5,
   "metadata": {},
   "outputs": [
    {
     "name": "stderr",
     "output_type": "stream",
     "text": [
      "C:\\ProgramData\\Anaconda3\\lib\\site-packages\\ipykernel_launcher.py:2: TqdmDeprecationWarning: This function will be removed in tqdm==5.0.0\n",
      "Please use `tqdm.notebook.tqdm` instead of `tqdm.tqdm_notebook`\n",
      "  \n"
     ]
    },
    {
     "data": {
      "application/vnd.jupyter.widget-view+json": {
       "model_id": "aec2b786049f4af390f50de3d812d8da",
       "version_major": 2,
       "version_minor": 0
      },
      "text/plain": [
       "HBox(children=(FloatProgress(value=0.0, max=367149.0), HTML(value='')))"
      ]
     },
     "metadata": {},
     "output_type": "display_data"
    },
    {
     "name": "stdout",
     "output_type": "stream",
     "text": [
      "\n"
     ]
    }
   ],
   "source": [
    "idx3 = []\n",
    "for i, j in tqdm_notebook(zip(idx1, idx2), total=len(idx1)):\n",
    "    temp = 온라인.buy.iloc[i:j]\n",
    "    try:\n",
    "        idx3.append(temp[temp == 1].index[0])\n",
    "    except:\n",
    "        idx3.append(j)"
   ]
  },
  {
   "cell_type": "code",
   "execution_count": 6,
   "metadata": {},
   "outputs": [
    {
     "name": "stderr",
     "output_type": "stream",
     "text": [
      "C:\\ProgramData\\Anaconda3\\lib\\site-packages\\ipykernel_launcher.py:3: TqdmDeprecationWarning: This function will be removed in tqdm==5.0.0\n",
      "Please use `tqdm.notebook.tqdm` instead of `tqdm.tqdm_notebook`\n",
      "  This is separate from the ipykernel package so we can avoid doing imports until\n"
     ]
    },
    {
     "data": {
      "application/vnd.jupyter.widget-view+json": {
       "model_id": "7fabe9ffc93548009a738eb4953dbe3d",
       "version_major": 2,
       "version_minor": 0
      },
      "text/plain": [
       "HBox(children=(FloatProgress(value=0.0, max=367149.0), HTML(value='')))"
      ]
     },
     "metadata": {},
     "output_type": "display_data"
    },
    {
     "name": "stdout",
     "output_type": "stream",
     "text": [
      "\n"
     ]
    }
   ],
   "source": [
    "# (session, sequence, variables) 3d array 변환\n",
    "온라인_x = []\n",
    "for i, j in tqdm_notebook(zip(idx1, idx3), total=len(idx1)):\n",
    "    온라인_x.append(온라인.iloc[i:j, 3:-2].values)\n",
    "온라인_x = np.array(온라인_x)"
   ]
  },
  {
   "cell_type": "code",
   "execution_count": 7,
   "metadata": {},
   "outputs": [
    {
     "name": "stderr",
     "output_type": "stream",
     "text": [
      "C:\\ProgramData\\Anaconda3\\lib\\site-packages\\ipykernel_launcher.py:3: TqdmDeprecationWarning: This function will be removed in tqdm==5.0.0\n",
      "Please use `tqdm.notebook.tqdm` instead of `tqdm.tqdm_notebook`\n",
      "  This is separate from the ipykernel package so we can avoid doing imports until\n"
     ]
    },
    {
     "data": {
      "application/vnd.jupyter.widget-view+json": {
       "model_id": "b49ed8a030e441e7b8ea67a53c05e696",
       "version_major": 2,
       "version_minor": 0
      },
      "text/plain": [
       "HBox(children=(FloatProgress(value=0.0, max=367149.0), HTML(value='')))"
      ]
     },
     "metadata": {},
     "output_type": "display_data"
    },
    {
     "name": "stdout",
     "output_type": "stream",
     "text": [
      "\n"
     ]
    }
   ],
   "source": [
    "# session 당 구매 여부\n",
    "온라인_y = []\n",
    "for i,j in tqdm_notebook(zip(idx1,idx2), total=len(idx1)):\n",
    "    온라인_y.append([int(온라인.buy.iloc[i:j].sum()>0)])"
   ]
  },
  {
   "cell_type": "code",
   "execution_count": 8,
   "metadata": {},
   "outputs": [
    {
     "data": {
      "text/plain": [
       "[0]    87.087804\n",
       "[1]    12.912196\n",
       "dtype: float64"
      ]
     },
     "execution_count": 8,
     "metadata": {},
     "output_type": "execute_result"
    }
   ],
   "source": [
    "# 구매완료한 session이 전체의 약 13%\n",
    "pd.Series(온라인_y).value_counts()*100/온라인.unique_id.nunique()"
   ]
  },
  {
   "cell_type": "code",
   "execution_count": 13,
   "metadata": {},
   "outputs": [
    {
     "data": {
      "text/plain": [
       "(357, 70.0)"
      ]
     },
     "execution_count": 13,
     "metadata": {},
     "output_type": "execute_result"
    }
   ],
   "source": [
    "idx = list(pd.Series(idx3) - pd.Series(idx1))\n",
    "max(idx), np.percentile(pd.Series(idx),99)"
   ]
  },
  {
   "cell_type": "code",
   "execution_count": 10,
   "metadata": {
    "collapsed": true
   },
   "outputs": [
    {
     "name": "stderr",
     "output_type": "stream",
     "text": [
      "Using TensorFlow backend.\n",
      "C:\\ProgramData\\Anaconda3\\lib\\site-packages\\sklearn\\utils\\deprecation.py:144: FutureWarning: The sklearn.neighbors.base module is  deprecated in version 0.22 and will be removed in version 0.24. The corresponding classes / functions should instead be imported from sklearn.neighbors. Anything that cannot be imported from sklearn.neighbors is now part of the private API.\n",
      "  warnings.warn(message, FutureWarning)\n",
      "C:\\ProgramData\\Anaconda3\\lib\\site-packages\\sklearn\\utils\\deprecation.py:144: FutureWarning: The sklearn.ensemble.bagging module is  deprecated in version 0.22 and will be removed in version 0.24. The corresponding classes / functions should instead be imported from sklearn.ensemble. Anything that cannot be imported from sklearn.ensemble is now part of the private API.\n",
      "  warnings.warn(message, FutureWarning)\n",
      "C:\\ProgramData\\Anaconda3\\lib\\site-packages\\sklearn\\utils\\deprecation.py:144: FutureWarning: The sklearn.ensemble.base module is  deprecated in version 0.22 and will be removed in version 0.24. The corresponding classes / functions should instead be imported from sklearn.ensemble. Anything that cannot be imported from sklearn.ensemble is now part of the private API.\n",
      "  warnings.warn(message, FutureWarning)\n",
      "C:\\ProgramData\\Anaconda3\\lib\\site-packages\\sklearn\\utils\\deprecation.py:144: FutureWarning: The sklearn.ensemble.forest module is  deprecated in version 0.22 and will be removed in version 0.24. The corresponding classes / functions should instead be imported from sklearn.ensemble. Anything that cannot be imported from sklearn.ensemble is now part of the private API.\n",
      "  warnings.warn(message, FutureWarning)\n",
      "C:\\ProgramData\\Anaconda3\\lib\\site-packages\\sklearn\\utils\\deprecation.py:144: FutureWarning: The sklearn.utils.testing module is  deprecated in version 0.22 and will be removed in version 0.24. The corresponding classes / functions should instead be imported from sklearn.utils. Anything that cannot be imported from sklearn.utils is now part of the private API.\n",
      "  warnings.warn(message, FutureWarning)\n",
      "C:\\ProgramData\\Anaconda3\\lib\\site-packages\\sklearn\\utils\\deprecation.py:144: FutureWarning: The sklearn.metrics.classification module is  deprecated in version 0.22 and will be removed in version 0.24. The corresponding classes / functions should instead be imported from sklearn.metrics. Anything that cannot be imported from sklearn.metrics is now part of the private API.\n",
      "  warnings.warn(message, FutureWarning)\n"
     ]
    }
   ],
   "source": [
    "import tensorflow as tf\n",
    "from sklearn.preprocessing import LabelEncoder\n",
    "from keras.models import Sequential\n",
    "from keras.layers import Dense\n",
    "from keras.layers import LSTM\n",
    "from keras.layers import Conv1D, MaxPooling1D\n",
    "from keras.optimizers import RMSprop\n",
    "from sklearn.model_selection import train_test_split\n",
    "from keras.preprocessing import sequence\n",
    "from keras.layers.embeddings import Embedding\n",
    "from keras.layers import Dropout\n",
    "from keras.layers import Masking\n",
    "from imblearn.over_sampling import SMOTE, ADASYN\n",
    "from imblearn.over_sampling import RandomOverSampler\n",
    "from keras.utils import to_categorical\n",
    "from keras import backend as K"
   ]
  },
  {
   "cell_type": "code",
   "execution_count": 11,
   "metadata": {},
   "outputs": [],
   "source": [
    "def recall_m(y_true, y_pred):\n",
    "        true_positives = K.sum(K.round(K.clip(y_true * y_pred, 0, 1)))\n",
    "        possible_positives = K.sum(K.round(K.clip(y_true, 0, 1)))\n",
    "        recall = true_positives / (possible_positives + K.epsilon())\n",
    "        return recall\n",
    "\n",
    "def precision_m(y_true, y_pred):\n",
    "        true_positives = K.sum(K.round(K.clip(y_true * y_pred, 0, 1)))\n",
    "        predicted_positives = K.sum(K.round(K.clip(y_pred, 0, 1)))\n",
    "        precision = true_positives / (predicted_positives + K.epsilon())\n",
    "        return precision\n",
    "\n",
    "def f1_m(y_true, y_pred):\n",
    "    precision = precision_m(y_true, y_pred)\n",
    "    recall = recall_m(y_true, y_pred)\n",
    "    return 2*((precision*recall)/(precision+recall+K.epsilon()))"
   ]
  },
  {
   "cell_type": "code",
   "execution_count": 15,
   "metadata": {},
   "outputs": [],
   "source": [
    "def make_padding_and_oversample(X, Y):\n",
    "    max_len = max(idx) #int(np.percentile(pd.Series(idx),99))\n",
    "    X_padding = sequence.pad_sequences(X, maxlen=max_len, padding='pre', truncating='post')\n",
    "    X_padding2 = X_padding.reshape(X.shape[0], max_len* X_padding.shape[2])\n",
    "\n",
    "    smote = SMOTE(random_state=0)\n",
    "    X_resampled, Y_resampled = smote.fit_resample(X_padding2, Y)\n",
    "    X_resampled = X_resampled.reshape(X_resampled.shape[0], max_len, X_padding.shape[2])\n",
    "    return X_padding, X_resampled, Y_resampled"
   ]
  },
  {
   "cell_type": "code",
   "execution_count": 16,
   "metadata": {},
   "outputs": [
    {
     "name": "stderr",
     "output_type": "stream",
     "text": [
      "C:\\ProgramData\\Anaconda3\\lib\\site-packages\\sklearn\\utils\\validation.py:760: DataConversionWarning: A column-vector y was passed when a 1d array was expected. Please change the shape of y to (n_samples, ), for example using ravel().\n",
      "  y = column_or_1d(y, warn=True)\n",
      "C:\\ProgramData\\Anaconda3\\lib\\site-packages\\sklearn\\utils\\deprecation.py:87: FutureWarning: Function safe_indexing is deprecated; safe_indexing is deprecated in version 0.22 and will be removed in version 0.24.\n",
      "  warnings.warn(msg, category=FutureWarning)\n"
     ]
    },
    {
     "data": {
      "text/plain": [
       "((447638, 357, 27), (191846, 357, 27), (447638,), (191846,))"
      ]
     },
     "execution_count": 16,
     "metadata": {},
     "output_type": "execute_result"
    }
   ],
   "source": [
    "X_padded, X_resampled, Y_resampled = make_padding_and_oversample(온라인_x, 온라인_y)\n",
    "X_train, X_test, y_train, y_test = train_test_split(X_resampled, Y_resampled, test_size=0.3, random_state=42)\n",
    "X_train.shape, X_test.shape, y_train.shape, y_test.shape"
   ]
  },
  {
   "cell_type": "markdown",
   "metadata": {},
   "source": [
    "## LSTM(64)->DENSE(32)->Dropout(0.2)->DENSE(16)->DENSE(1)"
   ]
  },
  {
   "cell_type": "code",
   "execution_count": 17,
   "metadata": {},
   "outputs": [],
   "source": [
    "def models(train):\n",
    "    model = Sequential()\n",
    "    model.add(Masking(mask_value=0., input_shape=(train.shape[1], train.shape[2])))\n",
    "    model.add(LSTM(64,input_shape = (train.shape[1], train.shape[2])))\n",
    "    model.add(Dense(32, activation= 'relu'))\n",
    "    model.add(Dropout(0.2))\n",
    "    model.add(Dense(16, activation= 'relu'))\n",
    "    model.add(Dense(1, activation='sigmoid'))\n",
    "    model.compile(loss='binary_crossentropy', optimizer=RMSprop(lr= 0.001, rho = 0.9), metrics=['acc',f1_m,precision_m, recall_m])\n",
    "    return model"
   ]
  },
  {
   "cell_type": "code",
   "execution_count": 18,
   "metadata": {},
   "outputs": [
    {
     "name": "stdout",
     "output_type": "stream",
     "text": [
      "WARNING:tensorflow:From C:\\ProgramData\\Anaconda3\\lib\\site-packages\\tensorflow\\python\\keras\\backend.py:3794: add_dispatch_support.<locals>.wrapper (from tensorflow.python.ops.array_ops) is deprecated and will be removed in a future version.\n",
      "Instructions for updating:\n",
      "Use tf.where in 2.0, which has the same broadcast rule as np.where\n"
     ]
    }
   ],
   "source": [
    "model = models(X_train)\n",
    "# model.summary()"
   ]
  },
  {
   "cell_type": "code",
   "execution_count": 19,
   "metadata": {
    "scrolled": true
   },
   "outputs": [
    {
     "name": "stdout",
     "output_type": "stream",
     "text": [
      "WARNING:tensorflow:From C:\\ProgramData\\Anaconda3\\lib\\site-packages\\keras\\backend\\tensorflow_backend.py:422: The name tf.global_variables is deprecated. Please use tf.compat.v1.global_variables instead.\n",
      "\n",
      "Train on 447638 samples, validate on 191846 samples\n",
      "Epoch 1/25\n",
      "447638/447638 [==============================] - 477s 1ms/step - loss: 0.2110 - acc: 0.9177 - f1_m: 0.9170 - precision_m: 0.9192 - recall_m: 0.9187 - val_loss: 0.1433 - val_acc: 0.9427 - val_f1_m: 0.9392 - val_precision_m: 0.9989 - val_recall_m: 0.8864\n",
      "Epoch 2/25\n",
      "447638/447638 [==============================] - 313s 700us/step - loss: 0.0704 - acc: 0.9743 - f1_m: 0.9741 - precision_m: 0.9802 - recall_m: 0.9690 - val_loss: 0.0472 - val_acc: 0.9825 - val_f1_m: 0.9822 - val_precision_m: 0.9990 - val_recall_m: 0.9660\n",
      "Epoch 3/25\n",
      "447638/447638 [==============================] - 257s 574us/step - loss: 0.0506 - acc: 0.9820 - f1_m: 0.9819 - precision_m: 0.9872 - recall_m: 0.9771 - val_loss: 0.0653 - val_acc: 0.9752 - val_f1_m: 0.9746 - val_precision_m: 0.9995 - val_recall_m: 0.9510\n",
      "Epoch 4/25\n",
      "447638/447638 [==============================] - 350s 782us/step - loss: 0.0413 - acc: 0.9855 - f1_m: 0.9854 - precision_m: 0.9896 - recall_m: 0.9815 - val_loss: 0.0258 - val_acc: 0.9912 - val_f1_m: 0.9912 - val_precision_m: 0.9953 - val_recall_m: 0.9871\n",
      "Epoch 5/25\n",
      "447638/447638 [==============================] - 249s 557us/step - loss: 0.0362 - acc: 0.9875 - f1_m: 0.9875 - precision_m: 0.9912 - recall_m: 0.9840 - val_loss: 0.0352 - val_acc: 0.9871 - val_f1_m: 0.9872 - val_precision_m: 0.9797 - val_recall_m: 0.9948\n",
      "Epoch 6/25\n",
      "447638/447638 [==============================] - 247s 551us/step - loss: 0.0331 - acc: 0.9888 - f1_m: 0.9887 - precision_m: 0.9922 - recall_m: 0.9854 - val_loss: 0.0638 - val_acc: 0.9764 - val_f1_m: 0.9768 - val_precision_m: 0.9604 - val_recall_m: 0.9938\n",
      "Epoch 7/25\n",
      "447638/447638 [==============================] - 247s 551us/step - loss: 0.0315 - acc: 0.9894 - f1_m: 0.9894 - precision_m: 0.9927 - recall_m: 0.9863 - val_loss: 0.0233 - val_acc: 0.9922 - val_f1_m: 0.9922 - val_precision_m: 0.9957 - val_recall_m: 0.9888\n",
      "Epoch 8/25\n",
      "447638/447638 [==============================] - 248s 553us/step - loss: 0.0289 - acc: 0.9903 - f1_m: 0.9903 - precision_m: 0.9931 - recall_m: 0.9876 - val_loss: 0.0202 - val_acc: 0.9928 - val_f1_m: 0.9927 - val_precision_m: 0.9977 - val_recall_m: 0.9878\n",
      "Epoch 9/25\n",
      "447638/447638 [==============================] - 247s 551us/step - loss: 0.0270 - acc: 0.9908 - f1_m: 0.9908 - precision_m: 0.9937 - recall_m: 0.9879 - val_loss: 0.0195 - val_acc: 0.9933 - val_f1_m: 0.9933 - val_precision_m: 0.9979 - val_recall_m: 0.9888\n",
      "Epoch 10/25\n",
      "447638/447638 [==============================] - 247s 552us/step - loss: 0.0256 - acc: 0.9912 - f1_m: 0.9912 - precision_m: 0.9939 - recall_m: 0.9885 - val_loss: 0.0286 - val_acc: 0.9892 - val_f1_m: 0.9893 - val_precision_m: 0.9824 - val_recall_m: 0.9963\n",
      "Epoch 11/25\n",
      "447638/447638 [==============================] - 247s 552us/step - loss: 0.0248 - acc: 0.9917 - f1_m: 0.9917 - precision_m: 0.9941 - recall_m: 0.9893 - val_loss: 0.0214 - val_acc: 0.9926 - val_f1_m: 0.9926 - val_precision_m: 0.9899 - val_recall_m: 0.9953\n",
      "Epoch 12/25\n",
      "447638/447638 [==============================] - 247s 552us/step - loss: 0.0239 - acc: 0.9920 - f1_m: 0.9920 - precision_m: 0.9943 - recall_m: 0.9897 - val_loss: 0.0348 - val_acc: 0.9870 - val_f1_m: 0.9871 - val_precision_m: 0.9792 - val_recall_m: 0.9951\n",
      "Epoch 13/25\n",
      "447638/447638 [==============================] - 250s 558us/step - loss: 0.0237 - acc: 0.9920 - f1_m: 0.9920 - precision_m: 0.9944 - recall_m: 0.9896 - val_loss: 0.0170 - val_acc: 0.9945 - val_f1_m: 0.9944 - val_precision_m: 0.9967 - val_recall_m: 0.9922\n",
      "Epoch 14/25\n",
      "447638/447638 [==============================] - 248s 554us/step - loss: 0.0234 - acc: 0.9922 - f1_m: 0.9922 - precision_m: 0.9948 - recall_m: 0.9897 - val_loss: 0.0163 - val_acc: 0.9943 - val_f1_m: 0.9943 - val_precision_m: 0.9977 - val_recall_m: 0.9909\n",
      "Epoch 15/25\n",
      "447638/447638 [==============================] - 249s 556us/step - loss: 0.0221 - acc: 0.9927 - f1_m: 0.9927 - precision_m: 0.9952 - recall_m: 0.9903 - val_loss: 0.0192 - val_acc: 0.9934 - val_f1_m: 0.9934 - val_precision_m: 0.9924 - val_recall_m: 0.9945\n",
      "Epoch 16/25\n",
      "447638/447638 [==============================] - 249s 557us/step - loss: 0.0216 - acc: 0.9928 - f1_m: 0.9928 - precision_m: 0.9954 - recall_m: 0.9902 - val_loss: 0.0452 - val_acc: 0.9821 - val_f1_m: 0.9823 - val_precision_m: 0.9687 - val_recall_m: 0.9963\n",
      "Epoch 17/25\n",
      "447638/447638 [==============================] - 249s 556us/step - loss: 0.0212 - acc: 0.9929 - f1_m: 0.9929 - precision_m: 0.9952 - recall_m: 0.9907 - val_loss: 0.0172 - val_acc: 0.9941 - val_f1_m: 0.9941 - val_precision_m: 0.9972 - val_recall_m: 0.9910\n",
      "Epoch 18/25\n",
      "447638/447638 [==============================] - 248s 554us/step - loss: 0.0200 - acc: 0.9933 - f1_m: 0.9933 - precision_m: 0.9956 - recall_m: 0.9911 - val_loss: 0.0158 - val_acc: 0.9948 - val_f1_m: 0.9948 - val_precision_m: 0.9976 - val_recall_m: 0.9920\n",
      "Epoch 19/25\n",
      "447638/447638 [==============================] - 249s 555us/step - loss: 0.0203 - acc: 0.9932 - f1_m: 0.9932 - precision_m: 0.9954 - recall_m: 0.9910 - val_loss: 0.0512 - val_acc: 0.9823 - val_f1_m: 0.9826 - val_precision_m: 0.9677 - val_recall_m: 0.9979\n",
      "Epoch 20/25\n",
      "447638/447638 [==============================] - 249s 556us/step - loss: 0.0208 - acc: 0.9932 - f1_m: 0.9932 - precision_m: 0.9953 - recall_m: 0.9911 - val_loss: 0.0205 - val_acc: 0.9930 - val_f1_m: 0.9930 - val_precision_m: 0.9941 - val_recall_m: 0.9919\n",
      "Epoch 21/25\n",
      "447638/447638 [==============================] - 250s 558us/step - loss: 0.0202 - acc: 0.9933 - f1_m: 0.9933 - precision_m: 0.9957 - recall_m: 0.9910 - val_loss: 0.0173 - val_acc: 0.9942 - val_f1_m: 0.9941 - val_precision_m: 0.9980 - val_recall_m: 0.9903\n",
      "Epoch 22/25\n",
      "447638/447638 [==============================] - 248s 555us/step - loss: 0.0196 - acc: 0.9936 - f1_m: 0.9936 - precision_m: 0.9957 - recall_m: 0.9915 - val_loss: 0.0578 - val_acc: 0.9850 - val_f1_m: 0.9851 - val_precision_m: 0.9756 - val_recall_m: 0.9948\n",
      "Epoch 23/25\n",
      "447638/447638 [==============================] - 247s 553us/step - loss: 0.0193 - acc: 0.9935 - f1_m: 0.9935 - precision_m: 0.9957 - recall_m: 0.9914 - val_loss: 0.0151 - val_acc: 0.9950 - val_f1_m: 0.9950 - val_precision_m: 0.9968 - val_recall_m: 0.9932\n",
      "Epoch 24/25\n",
      "447638/447638 [==============================] - 247s 552us/step - loss: 0.0191 - acc: 0.9938 - f1_m: 0.9938 - precision_m: 0.9960 - recall_m: 0.9916 - val_loss: 0.0167 - val_acc: 0.9942 - val_f1_m: 0.9942 - val_precision_m: 0.9985 - val_recall_m: 0.9900\n",
      "Epoch 25/25\n",
      "447638/447638 [==============================] - 247s 552us/step - loss: 0.0182 - acc: 0.9940 - f1_m: 0.9940 - precision_m: 0.9962 - recall_m: 0.9918 - val_loss: 0.0171 - val_acc: 0.9949 - val_f1_m: 0.9949 - val_precision_m: 0.9978 - val_recall_m: 0.9920\n"
     ]
    }
   ],
   "source": [
    "history = model.fit(X_train, y_train, epochs=25, batch_size=1000, validation_data=(X_test, y_test), verbose=1, shuffle=True)"
   ]
  },
  {
   "cell_type": "code",
   "execution_count": 20,
   "metadata": {},
   "outputs": [
    {
     "data": {
      "image/png": "[encoded data removed]",
      "text/plain": [
       "<Figure size 576x288 with 1 Axes>"
      ]
     },
     "metadata": {
      "needs_background": "light"
     },
     "output_type": "display_data"
    }
   ],
   "source": [
    "# plot history\n",
    "plt.figure(figsize=(8,4))\n",
    "plt.plot(history.history['acc'], label='train')\n",
    "plt.plot(history.history['val_acc'], label='test')\n",
    "plt.legend()\n",
    "plt.show()"
   ]
  },
  {
   "cell_type": "code",
   "execution_count": 21,
   "metadata": {},
   "outputs": [
    {
     "name": "stdout",
     "output_type": "stream",
     "text": [
      "191846/191846 [==============================] - 1196s 6ms/step\n"
     ]
    }
   ],
   "source": [
    "loss, accuracy, f1_score, precision, recall = model.evaluate(X_test, y_test, verbose=1)"
   ]
  },
  {
   "cell_type": "code",
   "execution_count": 22,
   "metadata": {},
   "outputs": [
    {
     "data": {
      "text/plain": [
       "(0.9948760867118835,\n",
       " 0.9946596622467041,\n",
       " 0.9978016018867493,\n",
       " 0.9918892979621887)"
      ]
     },
     "execution_count": 22,
     "metadata": {},
     "output_type": "execute_result"
    }
   ],
   "source": [
    "accuracy, f1_score, precision, recall"
   ]
  },
  {
   "cell_type": "markdown",
   "metadata": {},
   "source": [
    "## LSTM(64)->DENSE(1)"
   ]
  },
  {
   "cell_type": "code",
   "execution_count": 23,
   "metadata": {},
   "outputs": [],
   "source": [
    "def models(train):\n",
    "    model = Sequential()\n",
    "    model.add(Masking(mask_value=0., input_shape=(train.shape[1], train.shape[2])))\n",
    "    model.add(LSTM(64,input_shape = (train.shape[1], train.shape[2])))\n",
    "    model.add(Dense(1, activation='sigmoid'))\n",
    "    model.compile(loss='binary_crossentropy', optimizer=RMSprop(lr= 0.001, rho = 0.9), metrics=['acc',f1_m,precision_m, recall_m])\n",
    "    return model"
   ]
  },
  {
   "cell_type": "code",
   "execution_count": 24,
   "metadata": {
    "scrolled": true
   },
   "outputs": [
    {
     "name": "stdout",
     "output_type": "stream",
     "text": [
      "Train on 447638 samples, validate on 191846 samples\n",
      "Epoch 1/25\n",
      "447638/447638 [==============================] - 251s 560us/step - loss: 0.2630 - acc: 0.9074 - f1_m: 0.9073 - precision_m: 0.9151 - recall_m: 0.9034 - val_loss: 0.1281 - val_acc: 0.9683 - val_f1_m: 0.9674 - val_precision_m: 0.9924 - val_recall_m: 0.9437\n",
      "Epoch 2/25\n",
      "447638/447638 [==============================] - 245s 547us/step - loss: 0.1127 - acc: 0.9717 - f1_m: 0.9713 - precision_m: 0.9836 - recall_m: 0.9600 - val_loss: 0.0921 - val_acc: 0.9794 - val_f1_m: 0.9796 - val_precision_m: 0.9721 - val_recall_m: 0.9871\n",
      "Epoch 3/25\n",
      "447638/447638 [==============================] - 244s 545us/step - loss: 0.0798 - acc: 0.9818 - f1_m: 0.9816 - precision_m: 0.9890 - recall_m: 0.9747 - val_loss: 0.0625 - val_acc: 0.9884 - val_f1_m: 0.9884 - val_precision_m: 0.9909 - val_recall_m: 0.9859\n",
      "Epoch 4/25\n",
      "447638/447638 [==============================] - 244s 546us/step - loss: 0.0630 - acc: 0.9853 - f1_m: 0.9852 - precision_m: 0.9907 - recall_m: 0.9800 - val_loss: 0.0529 - val_acc: 0.9895 - val_f1_m: 0.9894 - val_precision_m: 0.9940 - val_recall_m: 0.9849\n",
      "Epoch 5/25\n",
      "447638/447638 [==============================] - 244s 546us/step - loss: 0.0524 - acc: 0.9871 - f1_m: 0.9871 - precision_m: 0.9915 - recall_m: 0.9828 - val_loss: 0.0400 - val_acc: 0.9915 - val_f1_m: 0.9915 - val_precision_m: 0.9967 - val_recall_m: 0.9864\n",
      "Epoch 6/25\n",
      "447638/447638 [==============================] - 245s 546us/step - loss: 0.0448 - acc: 0.9886 - f1_m: 0.9886 - precision_m: 0.9925 - recall_m: 0.9848 - val_loss: 0.0401 - val_acc: 0.9905 - val_f1_m: 0.9905 - val_precision_m: 0.9880 - val_recall_m: 0.9931\n",
      "Epoch 7/25\n",
      "447638/447638 [==============================] - 244s 545us/step - loss: 0.0395 - acc: 0.9894 - f1_m: 0.9894 - precision_m: 0.9930 - recall_m: 0.9860 - val_loss: 0.0329 - val_acc: 0.9917 - val_f1_m: 0.9916 - val_precision_m: 0.9947 - val_recall_m: 0.9886\n",
      "Epoch 8/25\n",
      "447638/447638 [==============================] - 244s 545us/step - loss: 0.0353 - acc: 0.9902 - f1_m: 0.9902 - precision_m: 0.9935 - recall_m: 0.9869 - val_loss: 0.0317 - val_acc: 0.9916 - val_f1_m: 0.9915 - val_precision_m: 0.9985 - val_recall_m: 0.9847\n",
      "Epoch 9/25\n",
      "447638/447638 [==============================] - 244s 546us/step - loss: 0.0336 - acc: 0.9902 - f1_m: 0.9902 - precision_m: 0.9933 - recall_m: 0.9873 - val_loss: 0.0300 - val_acc: 0.9916 - val_f1_m: 0.9915 - val_precision_m: 0.9957 - val_recall_m: 0.9873\n",
      "Epoch 10/25\n",
      "447638/447638 [==============================] - 244s 545us/step - loss: 0.0313 - acc: 0.9907 - f1_m: 0.9906 - precision_m: 0.9936 - recall_m: 0.9878 - val_loss: 0.0244 - val_acc: 0.9939 - val_f1_m: 0.9939 - val_precision_m: 0.9975 - val_recall_m: 0.9903\n",
      "Epoch 11/25\n",
      "447638/447638 [==============================] - 244s 545us/step - loss: 0.0291 - acc: 0.9911 - f1_m: 0.9911 - precision_m: 0.9940 - recall_m: 0.9883 - val_loss: 0.0268 - val_acc: 0.9919 - val_f1_m: 0.9919 - val_precision_m: 0.9915 - val_recall_m: 0.9923\n",
      "Epoch 12/25\n",
      "447638/447638 [==============================] - 244s 545us/step - loss: 0.0275 - acc: 0.9915 - f1_m: 0.9915 - precision_m: 0.9942 - recall_m: 0.9888 - val_loss: 0.0259 - val_acc: 0.9918 - val_f1_m: 0.9917 - val_precision_m: 0.9975 - val_recall_m: 0.9861\n",
      "Epoch 13/25\n",
      "447638/447638 [==============================] - 244s 545us/step - loss: 0.0260 - acc: 0.9919 - f1_m: 0.9919 - precision_m: 0.9945 - recall_m: 0.9893 - val_loss: 0.0223 - val_acc: 0.9933 - val_f1_m: 0.9933 - val_precision_m: 0.9942 - val_recall_m: 0.9924\n",
      "Epoch 14/25\n",
      "447638/447638 [==============================] - 245s 547us/step - loss: 0.0255 - acc: 0.9921 - f1_m: 0.9921 - precision_m: 0.9948 - recall_m: 0.9894 - val_loss: 0.0285 - val_acc: 0.9907 - val_f1_m: 0.9907 - val_precision_m: 0.9905 - val_recall_m: 0.9909\n",
      "Epoch 15/25\n",
      "447638/447638 [==============================] - 244s 544us/step - loss: 0.0236 - acc: 0.9926 - f1_m: 0.9926 - precision_m: 0.9951 - recall_m: 0.9902 - val_loss: 0.0586 - val_acc: 0.9799 - val_f1_m: 0.9802 - val_precision_m: 0.9651 - val_recall_m: 0.9959\n",
      "Epoch 16/25\n",
      "447638/447638 [==============================] - 244s 546us/step - loss: 0.0231 - acc: 0.9928 - f1_m: 0.9928 - precision_m: 0.9951 - recall_m: 0.9906 - val_loss: 0.0204 - val_acc: 0.9939 - val_f1_m: 0.9939 - val_precision_m: 0.9977 - val_recall_m: 0.9901\n",
      "Epoch 17/25\n",
      "447638/447638 [==============================] - 250s 558us/step - loss: 0.0226 - acc: 0.9929 - f1_m: 0.9929 - precision_m: 0.9951 - recall_m: 0.9907 - val_loss: 0.0189 - val_acc: 0.9941 - val_f1_m: 0.9940 - val_precision_m: 0.9963 - val_recall_m: 0.9918\n",
      "Epoch 18/25\n",
      "447638/447638 [==============================] - 265s 593us/step - loss: 0.0223 - acc: 0.9927 - f1_m: 0.9927 - precision_m: 0.9949 - recall_m: 0.9905 - val_loss: 0.0201 - val_acc: 0.9936 - val_f1_m: 0.9935 - val_precision_m: 0.9982 - val_recall_m: 0.9889\n",
      "Epoch 19/25\n",
      "447638/447638 [==============================] - 252s 562us/step - loss: 0.0215 - acc: 0.9931 - f1_m: 0.9931 - precision_m: 0.9952 - recall_m: 0.9909 - val_loss: 0.0203 - val_acc: 0.9938 - val_f1_m: 0.9938 - val_precision_m: 0.9978 - val_recall_m: 0.9899\n",
      "Epoch 20/25\n",
      "447638/447638 [==============================] - 249s 556us/step - loss: 0.0211 - acc: 0.9931 - f1_m: 0.9931 - precision_m: 0.9953 - recall_m: 0.9909 - val_loss: 0.0526 - val_acc: 0.9819 - val_f1_m: 0.9822 - val_precision_m: 0.9688 - val_recall_m: 0.9960\n",
      "Epoch 21/25\n",
      "447638/447638 [==============================] - 248s 553us/step - loss: 0.0214 - acc: 0.9931 - f1_m: 0.9931 - precision_m: 0.9954 - recall_m: 0.9909 - val_loss: 0.0190 - val_acc: 0.9942 - val_f1_m: 0.9942 - val_precision_m: 0.9971 - val_recall_m: 0.9913\n",
      "Epoch 22/25\n",
      "447638/447638 [==============================] - 245s 548us/step - loss: 0.0205 - acc: 0.9934 - f1_m: 0.9934 - precision_m: 0.9955 - recall_m: 0.9913 - val_loss: 0.0193 - val_acc: 0.9940 - val_f1_m: 0.9940 - val_precision_m: 0.9977 - val_recall_m: 0.9903\n",
      "Epoch 23/25\n",
      "447638/447638 [==============================] - 245s 548us/step - loss: 0.0201 - acc: 0.9935 - f1_m: 0.9935 - precision_m: 0.9955 - recall_m: 0.9916 - val_loss: 0.0165 - val_acc: 0.9950 - val_f1_m: 0.9950 - val_precision_m: 0.9968 - val_recall_m: 0.9932\n",
      "Epoch 24/25\n",
      "447638/447638 [==============================] - 245s 547us/step - loss: 0.0200 - acc: 0.9935 - f1_m: 0.9935 - precision_m: 0.9953 - recall_m: 0.9917 - val_loss: 0.0180 - val_acc: 0.9943 - val_f1_m: 0.9943 - val_precision_m: 0.9981 - val_recall_m: 0.9905\n",
      "Epoch 25/25\n",
      "447638/447638 [==============================] - 245s 547us/step - loss: 0.0194 - acc: 0.9937 - f1_m: 0.9937 - precision_m: 0.9956 - recall_m: 0.9918 - val_loss: 0.0229 - val_acc: 0.9922 - val_f1_m: 0.9922 - val_precision_m: 0.9988 - val_recall_m: 0.9857\n"
     ]
    }
   ],
   "source": [
    "model = models(X_train)\n",
    "history = model.fit(X_train, y_train, epochs=25, batch_size=1000, validation_data=(X_test, y_test), verbose=1, shuffle=True)"
   ]
  },
  {
   "cell_type": "code",
   "execution_count": 25,
   "metadata": {},
   "outputs": [
    {
     "data": {
      "image/png": "[encoded data removed]",
      "text/plain": [
       "<Figure size 576x288 with 1 Axes>"
      ]
     },
     "metadata": {
      "needs_background": "light"
     },
     "output_type": "display_data"
    }
   ],
   "source": [
    "# plot history\n",
    "plt.figure(figsize=(8,4))\n",
    "plt.plot(history.history['acc'], label='train')\n",
    "plt.plot(history.history['val_acc'], label='test')\n",
    "plt.legend()\n",
    "plt.show()"
   ]
  },
  {
   "cell_type": "code",
   "execution_count": 26,
   "metadata": {},
   "outputs": [
    {
     "name": "stdout",
     "output_type": "stream",
     "text": [
      "191846/191846 [==============================] - 1180s 6ms/step\n"
     ]
    },
    {
     "data": {
      "text/plain": [
       "(0.9922385811805725, 0.9918496012687683, 0.99876868724823, 0.9855744242668152)"
      ]
     },
     "execution_count": 26,
     "metadata": {},
     "output_type": "execute_result"
    }
   ],
   "source": [
    "loss, accuracy, f1_score, precision, recall = model.evaluate(X_test, y_test, verbose=1)\n",
    "accuracy, f1_score, precision, recall"
   ]
  },
  {
   "cell_type": "markdown",
   "metadata": {},
   "source": [
    "# <br>\n",
    "# Appendix\n",
    "# 참고만하세요"
   ]
  },
  {
   "cell_type": "markdown",
   "metadata": {},
   "source": [
    "### 구매완료 이전의 hit_seq를 버림\n",
    "### 각 sequence length의 0.25-0.75배 random값"
   ]
  },
  {
   "cell_type": "code",
   "execution_count": 85,
   "metadata": {},
   "outputs": [],
   "source": [
    "import random\n",
    "remove_ratio = pd.Series([random.random() for i in range(len(온라인_x))]) + 0.5\n",
    "seq_length = pd.Series(온라인_x).map(lambda x: len(x))\n",
    "remove_seq_length = np.floor(remove_ratio*seq_length)/2 # 각 session에서 버릴 seq 개수"
   ]
  },
  {
   "cell_type": "code",
   "execution_count": 86,
   "metadata": {},
   "outputs": [],
   "source": [
    "온라인_x2 = list(map(lambda x,y: x[:-y] if y !=0 else x, \n",
    "                     pd.Series(온라인_x), \n",
    "                     remove_seq_length.astype(int)))"
   ]
  },
  {
   "cell_type": "code",
   "execution_count": 87,
   "metadata": {},
   "outputs": [
    {
     "data": {
      "text/plain": [
       "38.0"
      ]
     },
     "execution_count": 87,
     "metadata": {},
     "output_type": "execute_result"
    }
   ],
   "source": [
    "seq_length2 = pd.Series(온라인_x2).map(lambda x: len(x))\n",
    "np.percentile(seq_length2, 99)"
   ]
  },
  {
   "cell_type": "code",
   "execution_count": 88,
   "metadata": {},
   "outputs": [
    {
     "name": "stderr",
     "output_type": "stream",
     "text": [
      "C:\\ProgramData\\Anaconda3\\lib\\site-packages\\sklearn\\utils\\validation.py:760: DataConversionWarning: A column-vector y was passed when a 1d array was expected. Please change the shape of y to (n_samples, ), for example using ravel().\n",
      "  y = column_or_1d(y, warn=True)\n",
      "C:\\ProgramData\\Anaconda3\\lib\\site-packages\\sklearn\\utils\\deprecation.py:87: FutureWarning: Function safe_indexing is deprecated; safe_indexing is deprecated in version 0.22 and will be removed in version 0.24.\n",
      "  warnings.warn(msg, category=FutureWarning)\n"
     ]
    },
    {
     "data": {
      "text/plain": [
       "(447638, 38, 20)"
      ]
     },
     "execution_count": 88,
     "metadata": {},
     "output_type": "execute_result"
    }
   ],
   "source": [
    "X_padded, X_resampled, Y_resampled = make_padding_and_oversample(np.array(온라인_x2), 온라인_y, length=38)\n",
    "X_train, X_test, y_train, y_test = train_test_split(X_resampled, Y_resampled, test_size=0.3, random_state=42)\n",
    "X_train.shape"
   ]
  },
  {
   "cell_type": "code",
   "execution_count": 99,
   "metadata": {
    "scrolled": true
   },
   "outputs": [],
   "source": [
    "model = models(X_train)\n",
    "# model.summary()"
   ]
  },
  {
   "cell_type": "code",
   "execution_count": 100,
   "metadata": {
    "collapsed": true
   },
   "outputs": [
    {
     "name": "stdout",
     "output_type": "stream",
     "text": [
      "Train on 447638 samples, validate on 191846 samples\n",
      "Epoch 1/25\n",
      "447638/447638 [==============================] - 28s 63us/step - loss: 0.3614 - acc: 0.8446 - f1_m: 0.8367 - precision_m: 0.8765 - recall_m: 0.8062 - val_loss: 0.2746 - val_acc: 0.8738 - val_f1_m: 0.8644 - val_precision_m: 0.9327 - val_recall_m: 0.8058\n",
      "Epoch 2/25\n",
      "447638/447638 [==============================] - 27s 61us/step - loss: 0.2692 - acc: 0.8800 - f1_m: 0.8760 - precision_m: 0.9059 - recall_m: 0.8512 - val_loss: 0.2492 - val_acc: 0.8866 - val_f1_m: 0.8813 - val_precision_m: 0.9237 - val_recall_m: 0.8429\n",
      "Epoch 3/25\n",
      "447638/447638 [==============================] - 27s 61us/step - loss: 0.2544 - acc: 0.8860 - f1_m: 0.8828 - precision_m: 0.9085 - recall_m: 0.8608 - val_loss: 0.2432 - val_acc: 0.8890 - val_f1_m: 0.8835 - val_precision_m: 0.9281 - val_recall_m: 0.8432\n",
      "Epoch 4/25\n",
      "447638/447638 [==============================] - 27s 61us/step - loss: 0.2472 - acc: 0.8889 - f1_m: 0.8860 - precision_m: 0.9093 - recall_m: 0.8658 - val_loss: 0.2384 - val_acc: 0.8912 - val_f1_m: 0.8865 - val_precision_m: 0.9256 - val_recall_m: 0.8507\n",
      "Epoch 5/25\n",
      "447638/447638 [==============================] - 27s 61us/step - loss: 0.2421 - acc: 0.8913 - f1_m: 0.8887 - precision_m: 0.9105 - recall_m: 0.8693 - val_loss: 0.2316 - val_acc: 0.8967 - val_f1_m: 0.8944 - val_precision_m: 0.9126 - val_recall_m: 0.8771\n",
      "Epoch 6/25\n",
      "447638/447638 [==============================] - 27s 61us/step - loss: 0.2383 - acc: 0.8929 - f1_m: 0.8903 - precision_m: 0.9116 - recall_m: 0.8714 - val_loss: 0.2334 - val_acc: 0.8947 - val_f1_m: 0.8898 - val_precision_m: 0.9317 - val_recall_m: 0.8516\n",
      "Epoch 7/25\n",
      "447638/447638 [==============================] - 27s 61us/step - loss: 0.2350 - acc: 0.8942 - f1_m: 0.8918 - precision_m: 0.9122 - recall_m: 0.8735 - val_loss: 0.2282 - val_acc: 0.8981 - val_f1_m: 0.8969 - val_precision_m: 0.9058 - val_recall_m: 0.8884\n",
      "Epoch 8/25\n",
      "447638/447638 [==============================] - 27s 61us/step - loss: 0.2327 - acc: 0.8954 - f1_m: 0.8930 - precision_m: 0.9128 - recall_m: 0.8751 - val_loss: 0.2284 - val_acc: 0.8983 - val_f1_m: 0.8957 - val_precision_m: 0.9170 - val_recall_m: 0.8756\n",
      "Epoch 9/25\n",
      "447638/447638 [==============================] - 27s 61us/step - loss: 0.2309 - acc: 0.8963 - f1_m: 0.8938 - precision_m: 0.9148 - recall_m: 0.8747 - val_loss: 0.2270 - val_acc: 0.8981 - val_f1_m: 0.8941 - val_precision_m: 0.9288 - val_recall_m: 0.8622\n",
      "Epoch 10/25\n",
      "447638/447638 [==============================] - 27s 61us/step - loss: 0.2294 - acc: 0.8964 - f1_m: 0.8941 - precision_m: 0.9138 - recall_m: 0.8762 - val_loss: 0.2269 - val_acc: 0.8980 - val_f1_m: 0.8949 - val_precision_m: 0.9211 - val_recall_m: 0.8703\n",
      "Epoch 11/25\n",
      "447638/447638 [==============================] - 27s 61us/step - loss: 0.2280 - acc: 0.8972 - f1_m: 0.8950 - precision_m: 0.9141 - recall_m: 0.8775 - val_loss: 0.2245 - val_acc: 0.8998 - val_f1_m: 0.8979 - val_precision_m: 0.9136 - val_recall_m: 0.8830\n",
      "Epoch 12/25\n",
      "447638/447638 [==============================] - 27s 61us/step - loss: 0.2268 - acc: 0.8978 - f1_m: 0.8957 - precision_m: 0.9142 - recall_m: 0.8788 - val_loss: 0.2248 - val_acc: 0.8988 - val_f1_m: 0.8954 - val_precision_m: 0.9253 - val_recall_m: 0.8676\n",
      "Epoch 13/25\n",
      "447638/447638 [==============================] - 27s 61us/step - loss: 0.2258 - acc: 0.8981 - f1_m: 0.8959 - precision_m: 0.9152 - recall_m: 0.8782 - val_loss: 0.2241 - val_acc: 0.8998 - val_f1_m: 0.8987 - val_precision_m: 0.9069 - val_recall_m: 0.8909\n",
      "Epoch 14/25\n",
      "447638/447638 [==============================] - 27s 61us/step - loss: 0.2248 - acc: 0.8984 - f1_m: 0.8961 - precision_m: 0.9156 - recall_m: 0.8781 - val_loss: 0.2238 - val_acc: 0.8992 - val_f1_m: 0.8981 - val_precision_m: 0.9061 - val_recall_m: 0.8905\n",
      "Epoch 15/25\n",
      "447638/447638 [==============================] - 27s 61us/step - loss: 0.2236 - acc: 0.8991 - f1_m: 0.8970 - precision_m: 0.9160 - recall_m: 0.8794 - val_loss: 0.2227 - val_acc: 0.8998 - val_f1_m: 0.8994 - val_precision_m: 0.9022 - val_recall_m: 0.8967\n",
      "Epoch 16/25\n",
      "447638/447638 [==============================] - 27s 61us/step - loss: 0.2227 - acc: 0.8992 - f1_m: 0.8970 - precision_m: 0.9163 - recall_m: 0.8792 - val_loss: 0.2211 - val_acc: 0.9010 - val_f1_m: 0.8979 - val_precision_m: 0.9251 - val_recall_m: 0.8724\n",
      "Epoch 17/25\n",
      "447638/447638 [==============================] - 27s 61us/step - loss: 0.2220 - acc: 0.8996 - f1_m: 0.8975 - precision_m: 0.9164 - recall_m: 0.8799 - val_loss: 0.2207 - val_acc: 0.9009 - val_f1_m: 0.8986 - val_precision_m: 0.9187 - val_recall_m: 0.8794\n",
      "Epoch 18/25\n",
      "447638/447638 [==============================] - 27s 61us/step - loss: 0.2215 - acc: 0.9000 - f1_m: 0.8978 - precision_m: 0.9170 - recall_m: 0.8800 - val_loss: 0.2203 - val_acc: 0.9010 - val_f1_m: 0.8994 - val_precision_m: 0.9134 - val_recall_m: 0.8860\n",
      "Epoch 19/25\n",
      "447638/447638 [==============================] - 27s 61us/step - loss: 0.2208 - acc: 0.9004 - f1_m: 0.8982 - precision_m: 0.9175 - recall_m: 0.8803 - val_loss: 0.2209 - val_acc: 0.9000 - val_f1_m: 0.8993 - val_precision_m: 0.9047 - val_recall_m: 0.8940\n",
      "Epoch 20/25\n",
      "447638/447638 [==============================] - 27s 61us/step - loss: 0.2204 - acc: 0.9005 - f1_m: 0.8984 - precision_m: 0.9174 - recall_m: 0.8808 - val_loss: 0.2185 - val_acc: 0.9015 - val_f1_m: 0.9001 - val_precision_m: 0.9123 - val_recall_m: 0.8884\n",
      "Epoch 21/25\n",
      "447638/447638 [==============================] - 27s 61us/step - loss: 0.2196 - acc: 0.9006 - f1_m: 0.8984 - precision_m: 0.9180 - recall_m: 0.8803 - val_loss: 0.2207 - val_acc: 0.9002 - val_f1_m: 0.9000 - val_precision_m: 0.9003 - val_recall_m: 0.8998\n",
      "Epoch 22/25\n",
      "447638/447638 [==============================] - 27s 61us/step - loss: 0.2192 - acc: 0.9009 - f1_m: 0.8988 - precision_m: 0.9179 - recall_m: 0.8810 - val_loss: 0.2192 - val_acc: 0.9016 - val_f1_m: 0.8994 - val_precision_m: 0.9184 - val_recall_m: 0.8813\n",
      "Epoch 23/25\n",
      "447638/447638 [==============================] - 27s 61us/step - loss: 0.2184 - acc: 0.9015 - f1_m: 0.8994 - precision_m: 0.9179 - recall_m: 0.8821 - val_loss: 0.2180 - val_acc: 0.9022 - val_f1_m: 0.9000 - val_precision_m: 0.9193 - val_recall_m: 0.8817\n",
      "Epoch 24/25\n",
      "447638/447638 [==============================] - 27s 61us/step - loss: 0.2182 - acc: 0.9013 - f1_m: 0.8991 - precision_m: 0.9185 - recall_m: 0.8810 - val_loss: 0.2178 - val_acc: 0.9025 - val_f1_m: 0.9004 - val_precision_m: 0.9184 - val_recall_m: 0.8832\n",
      "Epoch 25/25\n",
      "447638/447638 [==============================] - 27s 61us/step - loss: 0.2179 - acc: 0.9014 - f1_m: 0.8992 - precision_m: 0.9186 - recall_m: 0.8811 - val_loss: 0.2179 - val_acc: 0.9022 - val_f1_m: 0.8994 - val_precision_m: 0.9238 - val_recall_m: 0.8765\n"
     ]
    }
   ],
   "source": [
    "history = model.fit(X_train, y_train, epochs=25, batch_size=1000, validation_data=(X_test, y_test), verbose=1, shuffle=False)"
   ]
  },
  {
   "cell_type": "code",
   "execution_count": 101,
   "metadata": {
    "collapsed": true
   },
   "outputs": [
    {
     "data": {
      "image/png": "[encoded data removed]",
      "text/plain": [
       "<Figure size 576x288 with 1 Axes>"
      ]
     },
     "metadata": {
      "needs_background": "light"
     },
     "output_type": "display_data"
    }
   ],
   "source": [
    "# plot history\n",
    "plt.figure(figsize=(8,4))\n",
    "plt.plot(history.history['acc'], label='train')\n",
    "plt.plot(history.history['val_acc'], label='test')\n",
    "plt.legend()                                       \n",
    "plt.show()"
   ]
  },
  {
   "cell_type": "code",
   "execution_count": 102,
   "metadata": {},
   "outputs": [
    {
     "name": "stdout",
     "output_type": "stream",
     "text": [
      "191846/191846 [==============================] - 137s 716us/step\n"
     ]
    }
   ],
   "source": [
    "loss, accuracy, f1_score, precision, recall = model.evaluate(X_test, y_test, verbose=1)"
   ]
  },
  {
   "cell_type": "code",
   "execution_count": 103,
   "metadata": {},
   "outputs": [
    {
     "name": "stdout",
     "output_type": "stream",
     "text": [
      "0.9021663069725037\n"
     ]
    }
   ],
   "source": [
    "print(accuracy)"
   ]
  },
  {
   "cell_type": "markdown",
   "metadata": {},
   "source": [
    "### 각 sequence length의 0.5-0.75배 random값"
   ]
  },
  {
   "cell_type": "code",
   "execution_count": 104,
   "metadata": {},
   "outputs": [
    {
     "data": {
      "text/plain": [
       "27.0"
      ]
     },
     "execution_count": 104,
     "metadata": {},
     "output_type": "execute_result"
    }
   ],
   "source": [
    "remove_ratio = pd.Series([random.random() for i in range(len(온라인_x))]) + 2\n",
    "remove_seq_length = np.floor(remove_ratio*seq_length)/4\n",
    "\n",
    "온라인_x2 = list(map(lambda x,y: x[:-y] if y !=0 else x, \n",
    "                     pd.Series(온라인_x), \n",
    "                     remove_seq_length.astype(int)))\n",
    "seq_length2 = pd.Series(온라인_x2).map(lambda x: len(x))\n",
    "np.percentile(seq_length2,99)"
   ]
  },
  {
   "cell_type": "code",
   "execution_count": 112,
   "metadata": {
    "collapsed": true
   },
   "outputs": [
    {
     "name": "stderr",
     "output_type": "stream",
     "text": [
      "C:\\ProgramData\\Anaconda3\\lib\\site-packages\\sklearn\\utils\\validation.py:760: DataConversionWarning: A column-vector y was passed when a 1d array was expected. Please change the shape of y to (n_samples, ), for example using ravel().\n",
      "  y = column_or_1d(y, warn=True)\n",
      "C:\\ProgramData\\Anaconda3\\lib\\site-packages\\sklearn\\utils\\deprecation.py:87: FutureWarning: Function safe_indexing is deprecated; safe_indexing is deprecated in version 0.22 and will be removed in version 0.24.\n",
      "  warnings.warn(msg, category=FutureWarning)\n"
     ]
    },
    {
     "ename": "KeyboardInterrupt",
     "evalue": "",
     "output_type": "error",
     "traceback": [
      "\u001b[1;31m---------------------------------------------------------------------------\u001b[0m",
      "\u001b[1;31mKeyboardInterrupt\u001b[0m                         Traceback (most recent call last)",
      "\u001b[1;32m<ipython-input-112-c96a6baa95b4>\u001b[0m in \u001b[0;36m<module>\u001b[1;34m\u001b[0m\n\u001b[1;32m----> 1\u001b[1;33m \u001b[0mX_padded\u001b[0m\u001b[1;33m,\u001b[0m \u001b[0mX_resampled\u001b[0m\u001b[1;33m,\u001b[0m \u001b[0mY_resampled\u001b[0m \u001b[1;33m=\u001b[0m \u001b[0mmake_padding_and_oversample\u001b[0m\u001b[1;33m(\u001b[0m\u001b[0mnp\u001b[0m\u001b[1;33m.\u001b[0m\u001b[0marray\u001b[0m\u001b[1;33m(\u001b[0m\u001b[0m온라인_x2\u001b[0m\u001b[1;33m)\u001b[0m\u001b[1;33m,\u001b[0m \u001b[0m온라인_y\u001b[0m\u001b[1;33m,\u001b[0m \u001b[0mlength\u001b[0m\u001b[1;33m=\u001b[0m\u001b[1;36m27\u001b[0m\u001b[1;33m)\u001b[0m\u001b[1;33m\u001b[0m\u001b[1;33m\u001b[0m\u001b[0m\n\u001b[0m\u001b[0;32m      2\u001b[0m \u001b[0mX_train\u001b[0m\u001b[1;33m,\u001b[0m \u001b[0mX_test\u001b[0m\u001b[1;33m,\u001b[0m \u001b[0my_train\u001b[0m\u001b[1;33m,\u001b[0m \u001b[0my_test\u001b[0m \u001b[1;33m=\u001b[0m \u001b[0mtrain_test_split\u001b[0m\u001b[1;33m(\u001b[0m\u001b[0mX_resampled\u001b[0m\u001b[1;33m,\u001b[0m \u001b[0mY_resampled\u001b[0m\u001b[1;33m,\u001b[0m \u001b[0mtest_size\u001b[0m\u001b[1;33m=\u001b[0m\u001b[1;36m0.3\u001b[0m\u001b[1;33m,\u001b[0m \u001b[0mrandom_state\u001b[0m\u001b[1;33m=\u001b[0m\u001b[1;36m42\u001b[0m\u001b[1;33m)\u001b[0m\u001b[1;33m\u001b[0m\u001b[1;33m\u001b[0m\u001b[0m\n\u001b[0;32m      3\u001b[0m \u001b[0mX_train\u001b[0m\u001b[1;33m.\u001b[0m\u001b[0mshape\u001b[0m\u001b[1;33m\u001b[0m\u001b[1;33m\u001b[0m\u001b[0m\n",
      "\u001b[1;32m<ipython-input-32-97b3b741969a>\u001b[0m in \u001b[0;36mmake_padding_and_oversample\u001b[1;34m(X, Y, length)\u001b[0m\n\u001b[0;32m      5\u001b[0m \u001b[1;33m\u001b[0m\u001b[0m\n\u001b[0;32m      6\u001b[0m     \u001b[0msmote\u001b[0m \u001b[1;33m=\u001b[0m \u001b[0mSMOTE\u001b[0m\u001b[1;33m(\u001b[0m\u001b[0mrandom_state\u001b[0m\u001b[1;33m=\u001b[0m\u001b[1;36m0\u001b[0m\u001b[1;33m)\u001b[0m\u001b[1;33m\u001b[0m\u001b[1;33m\u001b[0m\u001b[0m\n\u001b[1;32m----> 7\u001b[1;33m     \u001b[0mX_resampled\u001b[0m\u001b[1;33m,\u001b[0m \u001b[0mY_resampled\u001b[0m \u001b[1;33m=\u001b[0m \u001b[0msmote\u001b[0m\u001b[1;33m.\u001b[0m\u001b[0mfit_resample\u001b[0m\u001b[1;33m(\u001b[0m\u001b[0mX_padding2\u001b[0m\u001b[1;33m,\u001b[0m \u001b[0mY\u001b[0m\u001b[1;33m)\u001b[0m\u001b[1;33m\u001b[0m\u001b[1;33m\u001b[0m\u001b[0m\n\u001b[0m\u001b[0;32m      8\u001b[0m     \u001b[0mX_resampled\u001b[0m \u001b[1;33m=\u001b[0m \u001b[0mX_resampled\u001b[0m\u001b[1;33m.\u001b[0m\u001b[0mreshape\u001b[0m\u001b[1;33m(\u001b[0m\u001b[0mX_resampled\u001b[0m\u001b[1;33m.\u001b[0m\u001b[0mshape\u001b[0m\u001b[1;33m[\u001b[0m\u001b[1;36m0\u001b[0m\u001b[1;33m]\u001b[0m\u001b[1;33m,\u001b[0m \u001b[0mmax_len\u001b[0m\u001b[1;33m,\u001b[0m \u001b[0mX_padding\u001b[0m\u001b[1;33m.\u001b[0m\u001b[0mshape\u001b[0m\u001b[1;33m[\u001b[0m\u001b[1;36m2\u001b[0m\u001b[1;33m]\u001b[0m\u001b[1;33m)\u001b[0m\u001b[1;33m\u001b[0m\u001b[1;33m\u001b[0m\u001b[0m\n\u001b[0;32m      9\u001b[0m     \u001b[1;32mreturn\u001b[0m \u001b[0mX_padding\u001b[0m\u001b[1;33m,\u001b[0m \u001b[0mX_resampled\u001b[0m\u001b[1;33m,\u001b[0m \u001b[0mY_resampled\u001b[0m\u001b[1;33m\u001b[0m\u001b[1;33m\u001b[0m\u001b[0m\n",
      "\u001b[1;32mC:\\ProgramData\\Anaconda3\\lib\\site-packages\\imblearn\\base.py\u001b[0m in \u001b[0;36mfit_resample\u001b[1;34m(self, X, y)\u001b[0m\n\u001b[0;32m     82\u001b[0m             self.sampling_strategy, y, self._sampling_type)\n\u001b[0;32m     83\u001b[0m \u001b[1;33m\u001b[0m\u001b[0m\n\u001b[1;32m---> 84\u001b[1;33m         \u001b[0moutput\u001b[0m \u001b[1;33m=\u001b[0m \u001b[0mself\u001b[0m\u001b[1;33m.\u001b[0m\u001b[0m_fit_resample\u001b[0m\u001b[1;33m(\u001b[0m\u001b[0mX\u001b[0m\u001b[1;33m,\u001b[0m \u001b[0my\u001b[0m\u001b[1;33m)\u001b[0m\u001b[1;33m\u001b[0m\u001b[1;33m\u001b[0m\u001b[0m\n\u001b[0m\u001b[0;32m     85\u001b[0m \u001b[1;33m\u001b[0m\u001b[0m\n\u001b[0;32m     86\u001b[0m         \u001b[1;32mif\u001b[0m \u001b[0mbinarize_y\u001b[0m\u001b[1;33m:\u001b[0m\u001b[1;33m\u001b[0m\u001b[1;33m\u001b[0m\u001b[0m\n",
      "\u001b[1;32mC:\\ProgramData\\Anaconda3\\lib\\site-packages\\imblearn\\over_sampling\\_smote.py\u001b[0m in \u001b[0;36m_fit_resample\u001b[1;34m(self, X, y)\u001b[0m\n\u001b[0;32m    795\u001b[0m     \u001b[1;32mdef\u001b[0m \u001b[0m_fit_resample\u001b[0m\u001b[1;33m(\u001b[0m\u001b[0mself\u001b[0m\u001b[1;33m,\u001b[0m \u001b[0mX\u001b[0m\u001b[1;33m,\u001b[0m \u001b[0my\u001b[0m\u001b[1;33m)\u001b[0m\u001b[1;33m:\u001b[0m\u001b[1;33m\u001b[0m\u001b[1;33m\u001b[0m\u001b[0m\n\u001b[0;32m    796\u001b[0m         \u001b[0mself\u001b[0m\u001b[1;33m.\u001b[0m\u001b[0m_validate_estimator\u001b[0m\u001b[1;33m(\u001b[0m\u001b[1;33m)\u001b[0m\u001b[1;33m\u001b[0m\u001b[1;33m\u001b[0m\u001b[0m\n\u001b[1;32m--> 797\u001b[1;33m         \u001b[1;32mreturn\u001b[0m \u001b[0mself\u001b[0m\u001b[1;33m.\u001b[0m\u001b[0m_sample\u001b[0m\u001b[1;33m(\u001b[0m\u001b[0mX\u001b[0m\u001b[1;33m,\u001b[0m \u001b[0my\u001b[0m\u001b[1;33m)\u001b[0m\u001b[1;33m\u001b[0m\u001b[1;33m\u001b[0m\u001b[0m\n\u001b[0m\u001b[0;32m    798\u001b[0m \u001b[1;33m\u001b[0m\u001b[0m\n\u001b[0;32m    799\u001b[0m     \u001b[1;32mdef\u001b[0m \u001b[0m_sample\u001b[0m\u001b[1;33m(\u001b[0m\u001b[0mself\u001b[0m\u001b[1;33m,\u001b[0m \u001b[0mX\u001b[0m\u001b[1;33m,\u001b[0m \u001b[0my\u001b[0m\u001b[1;33m)\u001b[0m\u001b[1;33m:\u001b[0m\u001b[1;33m\u001b[0m\u001b[1;33m\u001b[0m\u001b[0m\n",
      "\u001b[1;32mC:\\ProgramData\\Anaconda3\\lib\\site-packages\\imblearn\\over_sampling\\_smote.py\u001b[0m in \u001b[0;36m_sample\u001b[1;34m(self, X, y)\u001b[0m\n\u001b[0;32m    811\u001b[0m \u001b[1;33m\u001b[0m\u001b[0m\n\u001b[0;32m    812\u001b[0m             \u001b[0mself\u001b[0m\u001b[1;33m.\u001b[0m\u001b[0mnn_k_\u001b[0m\u001b[1;33m.\u001b[0m\u001b[0mfit\u001b[0m\u001b[1;33m(\u001b[0m\u001b[0mX_class\u001b[0m\u001b[1;33m)\u001b[0m\u001b[1;33m\u001b[0m\u001b[1;33m\u001b[0m\u001b[0m\n\u001b[1;32m--> 813\u001b[1;33m             \u001b[0mnns\u001b[0m \u001b[1;33m=\u001b[0m \u001b[0mself\u001b[0m\u001b[1;33m.\u001b[0m\u001b[0mnn_k_\u001b[0m\u001b[1;33m.\u001b[0m\u001b[0mkneighbors\u001b[0m\u001b[1;33m(\u001b[0m\u001b[0mX_class\u001b[0m\u001b[1;33m,\u001b[0m \u001b[0mreturn_distance\u001b[0m\u001b[1;33m=\u001b[0m\u001b[1;32mFalse\u001b[0m\u001b[1;33m)\u001b[0m\u001b[1;33m[\u001b[0m\u001b[1;33m:\u001b[0m\u001b[1;33m,\u001b[0m \u001b[1;36m1\u001b[0m\u001b[1;33m:\u001b[0m\u001b[1;33m]\u001b[0m\u001b[1;33m\u001b[0m\u001b[1;33m\u001b[0m\u001b[0m\n\u001b[0m\u001b[0;32m    814\u001b[0m             X_new, y_new = self._make_samples(X_class, y.dtype, class_sample,\n\u001b[0;32m    815\u001b[0m                                               X_class, nns, n_samples, 1.0)\n",
      "\u001b[1;32mC:\\ProgramData\\Anaconda3\\lib\\site-packages\\sklearn\\neighbors\\_base.py\u001b[0m in \u001b[0;36mkneighbors\u001b[1;34m(self, X, n_neighbors, return_distance)\u001b[0m\n\u001b[0;32m    661\u001b[0m                 delayed_query(\n\u001b[0;32m    662\u001b[0m                     self._tree, X[s], n_neighbors, return_distance)\n\u001b[1;32m--> 663\u001b[1;33m                 \u001b[1;32mfor\u001b[0m \u001b[0ms\u001b[0m \u001b[1;32min\u001b[0m \u001b[0mgen_even_slices\u001b[0m\u001b[1;33m(\u001b[0m\u001b[0mX\u001b[0m\u001b[1;33m.\u001b[0m\u001b[0mshape\u001b[0m\u001b[1;33m[\u001b[0m\u001b[1;36m0\u001b[0m\u001b[1;33m]\u001b[0m\u001b[1;33m,\u001b[0m \u001b[0mn_jobs\u001b[0m\u001b[1;33m)\u001b[0m\u001b[1;33m\u001b[0m\u001b[1;33m\u001b[0m\u001b[0m\n\u001b[0m\u001b[0;32m    664\u001b[0m             )\n\u001b[0;32m    665\u001b[0m         \u001b[1;32melse\u001b[0m\u001b[1;33m:\u001b[0m\u001b[1;33m\u001b[0m\u001b[1;33m\u001b[0m\u001b[0m\n",
      "\u001b[1;32mC:\\ProgramData\\Anaconda3\\lib\\site-packages\\joblib\\parallel.py\u001b[0m in \u001b[0;36m__call__\u001b[1;34m(self, iterable)\u001b[0m\n\u001b[0;32m   1002\u001b[0m             \u001b[1;31m# remaining jobs.\u001b[0m\u001b[1;33m\u001b[0m\u001b[1;33m\u001b[0m\u001b[1;33m\u001b[0m\u001b[0m\n\u001b[0;32m   1003\u001b[0m             \u001b[0mself\u001b[0m\u001b[1;33m.\u001b[0m\u001b[0m_iterating\u001b[0m \u001b[1;33m=\u001b[0m \u001b[1;32mFalse\u001b[0m\u001b[1;33m\u001b[0m\u001b[1;33m\u001b[0m\u001b[0m\n\u001b[1;32m-> 1004\u001b[1;33m             \u001b[1;32mif\u001b[0m \u001b[0mself\u001b[0m\u001b[1;33m.\u001b[0m\u001b[0mdispatch_one_batch\u001b[0m\u001b[1;33m(\u001b[0m\u001b[0miterator\u001b[0m\u001b[1;33m)\u001b[0m\u001b[1;33m:\u001b[0m\u001b[1;33m\u001b[0m\u001b[1;33m\u001b[0m\u001b[0m\n\u001b[0m\u001b[0;32m   1005\u001b[0m                 \u001b[0mself\u001b[0m\u001b[1;33m.\u001b[0m\u001b[0m_iterating\u001b[0m \u001b[1;33m=\u001b[0m \u001b[0mself\u001b[0m\u001b[1;33m.\u001b[0m\u001b[0m_original_iterator\u001b[0m \u001b[1;32mis\u001b[0m \u001b[1;32mnot\u001b[0m \u001b[1;32mNone\u001b[0m\u001b[1;33m\u001b[0m\u001b[1;33m\u001b[0m\u001b[0m\n\u001b[0;32m   1006\u001b[0m \u001b[1;33m\u001b[0m\u001b[0m\n",
      "\u001b[1;32mC:\\ProgramData\\Anaconda3\\lib\\site-packages\\joblib\\parallel.py\u001b[0m in \u001b[0;36mdispatch_one_batch\u001b[1;34m(self, iterator)\u001b[0m\n\u001b[0;32m    833\u001b[0m                 \u001b[1;32mreturn\u001b[0m \u001b[1;32mFalse\u001b[0m\u001b[1;33m\u001b[0m\u001b[1;33m\u001b[0m\u001b[0m\n\u001b[0;32m    834\u001b[0m             \u001b[1;32melse\u001b[0m\u001b[1;33m:\u001b[0m\u001b[1;33m\u001b[0m\u001b[1;33m\u001b[0m\u001b[0m\n\u001b[1;32m--> 835\u001b[1;33m                 \u001b[0mself\u001b[0m\u001b[1;33m.\u001b[0m\u001b[0m_dispatch\u001b[0m\u001b[1;33m(\u001b[0m\u001b[0mtasks\u001b[0m\u001b[1;33m)\u001b[0m\u001b[1;33m\u001b[0m\u001b[1;33m\u001b[0m\u001b[0m\n\u001b[0m\u001b[0;32m    836\u001b[0m                 \u001b[1;32mreturn\u001b[0m \u001b[1;32mTrue\u001b[0m\u001b[1;33m\u001b[0m\u001b[1;33m\u001b[0m\u001b[0m\n\u001b[0;32m    837\u001b[0m \u001b[1;33m\u001b[0m\u001b[0m\n",
      "\u001b[1;32mC:\\ProgramData\\Anaconda3\\lib\\site-packages\\joblib\\parallel.py\u001b[0m in \u001b[0;36m_dispatch\u001b[1;34m(self, batch)\u001b[0m\n\u001b[0;32m    752\u001b[0m         \u001b[1;32mwith\u001b[0m \u001b[0mself\u001b[0m\u001b[1;33m.\u001b[0m\u001b[0m_lock\u001b[0m\u001b[1;33m:\u001b[0m\u001b[1;33m\u001b[0m\u001b[1;33m\u001b[0m\u001b[0m\n\u001b[0;32m    753\u001b[0m             \u001b[0mjob_idx\u001b[0m \u001b[1;33m=\u001b[0m \u001b[0mlen\u001b[0m\u001b[1;33m(\u001b[0m\u001b[0mself\u001b[0m\u001b[1;33m.\u001b[0m\u001b[0m_jobs\u001b[0m\u001b[1;33m)\u001b[0m\u001b[1;33m\u001b[0m\u001b[1;33m\u001b[0m\u001b[0m\n\u001b[1;32m--> 754\u001b[1;33m             \u001b[0mjob\u001b[0m \u001b[1;33m=\u001b[0m \u001b[0mself\u001b[0m\u001b[1;33m.\u001b[0m\u001b[0m_backend\u001b[0m\u001b[1;33m.\u001b[0m\u001b[0mapply_async\u001b[0m\u001b[1;33m(\u001b[0m\u001b[0mbatch\u001b[0m\u001b[1;33m,\u001b[0m \u001b[0mcallback\u001b[0m\u001b[1;33m=\u001b[0m\u001b[0mcb\u001b[0m\u001b[1;33m)\u001b[0m\u001b[1;33m\u001b[0m\u001b[1;33m\u001b[0m\u001b[0m\n\u001b[0m\u001b[0;32m    755\u001b[0m             \u001b[1;31m# A job can complete so quickly than its callback is\u001b[0m\u001b[1;33m\u001b[0m\u001b[1;33m\u001b[0m\u001b[1;33m\u001b[0m\u001b[0m\n\u001b[0;32m    756\u001b[0m             \u001b[1;31m# called before we get here, causing self._jobs to\u001b[0m\u001b[1;33m\u001b[0m\u001b[1;33m\u001b[0m\u001b[1;33m\u001b[0m\u001b[0m\n",
      "\u001b[1;32mC:\\ProgramData\\Anaconda3\\lib\\site-packages\\joblib\\_parallel_backends.py\u001b[0m in \u001b[0;36mapply_async\u001b[1;34m(self, func, callback)\u001b[0m\n\u001b[0;32m    207\u001b[0m     \u001b[1;32mdef\u001b[0m \u001b[0mapply_async\u001b[0m\u001b[1;33m(\u001b[0m\u001b[0mself\u001b[0m\u001b[1;33m,\u001b[0m \u001b[0mfunc\u001b[0m\u001b[1;33m,\u001b[0m \u001b[0mcallback\u001b[0m\u001b[1;33m=\u001b[0m\u001b[1;32mNone\u001b[0m\u001b[1;33m)\u001b[0m\u001b[1;33m:\u001b[0m\u001b[1;33m\u001b[0m\u001b[1;33m\u001b[0m\u001b[0m\n\u001b[0;32m    208\u001b[0m         \u001b[1;34m\"\"\"Schedule a func to be run\"\"\"\u001b[0m\u001b[1;33m\u001b[0m\u001b[1;33m\u001b[0m\u001b[0m\n\u001b[1;32m--> 209\u001b[1;33m         \u001b[0mresult\u001b[0m \u001b[1;33m=\u001b[0m \u001b[0mImmediateResult\u001b[0m\u001b[1;33m(\u001b[0m\u001b[0mfunc\u001b[0m\u001b[1;33m)\u001b[0m\u001b[1;33m\u001b[0m\u001b[1;33m\u001b[0m\u001b[0m\n\u001b[0m\u001b[0;32m    210\u001b[0m         \u001b[1;32mif\u001b[0m \u001b[0mcallback\u001b[0m\u001b[1;33m:\u001b[0m\u001b[1;33m\u001b[0m\u001b[1;33m\u001b[0m\u001b[0m\n\u001b[0;32m    211\u001b[0m             \u001b[0mcallback\u001b[0m\u001b[1;33m(\u001b[0m\u001b[0mresult\u001b[0m\u001b[1;33m)\u001b[0m\u001b[1;33m\u001b[0m\u001b[1;33m\u001b[0m\u001b[0m\n",
      "\u001b[1;32mC:\\ProgramData\\Anaconda3\\lib\\site-packages\\joblib\\_parallel_backends.py\u001b[0m in \u001b[0;36m__init__\u001b[1;34m(self, batch)\u001b[0m\n\u001b[0;32m    588\u001b[0m         \u001b[1;31m# Don't delay the application, to avoid keeping the input\u001b[0m\u001b[1;33m\u001b[0m\u001b[1;33m\u001b[0m\u001b[1;33m\u001b[0m\u001b[0m\n\u001b[0;32m    589\u001b[0m         \u001b[1;31m# arguments in memory\u001b[0m\u001b[1;33m\u001b[0m\u001b[1;33m\u001b[0m\u001b[1;33m\u001b[0m\u001b[0m\n\u001b[1;32m--> 590\u001b[1;33m         \u001b[0mself\u001b[0m\u001b[1;33m.\u001b[0m\u001b[0mresults\u001b[0m \u001b[1;33m=\u001b[0m \u001b[0mbatch\u001b[0m\u001b[1;33m(\u001b[0m\u001b[1;33m)\u001b[0m\u001b[1;33m\u001b[0m\u001b[1;33m\u001b[0m\u001b[0m\n\u001b[0m\u001b[0;32m    591\u001b[0m \u001b[1;33m\u001b[0m\u001b[0m\n\u001b[0;32m    592\u001b[0m     \u001b[1;32mdef\u001b[0m \u001b[0mget\u001b[0m\u001b[1;33m(\u001b[0m\u001b[0mself\u001b[0m\u001b[1;33m)\u001b[0m\u001b[1;33m:\u001b[0m\u001b[1;33m\u001b[0m\u001b[1;33m\u001b[0m\u001b[0m\n",
      "\u001b[1;32mC:\\ProgramData\\Anaconda3\\lib\\site-packages\\joblib\\parallel.py\u001b[0m in \u001b[0;36m__call__\u001b[1;34m(self)\u001b[0m\n\u001b[0;32m    254\u001b[0m         \u001b[1;32mwith\u001b[0m \u001b[0mparallel_backend\u001b[0m\u001b[1;33m(\u001b[0m\u001b[0mself\u001b[0m\u001b[1;33m.\u001b[0m\u001b[0m_backend\u001b[0m\u001b[1;33m,\u001b[0m \u001b[0mn_jobs\u001b[0m\u001b[1;33m=\u001b[0m\u001b[0mself\u001b[0m\u001b[1;33m.\u001b[0m\u001b[0m_n_jobs\u001b[0m\u001b[1;33m)\u001b[0m\u001b[1;33m:\u001b[0m\u001b[1;33m\u001b[0m\u001b[1;33m\u001b[0m\u001b[0m\n\u001b[0;32m    255\u001b[0m             return [func(*args, **kwargs)\n\u001b[1;32m--> 256\u001b[1;33m                     for func, args, kwargs in self.items]\n\u001b[0m\u001b[0;32m    257\u001b[0m \u001b[1;33m\u001b[0m\u001b[0m\n\u001b[0;32m    258\u001b[0m     \u001b[1;32mdef\u001b[0m \u001b[0m__len__\u001b[0m\u001b[1;33m(\u001b[0m\u001b[0mself\u001b[0m\u001b[1;33m)\u001b[0m\u001b[1;33m:\u001b[0m\u001b[1;33m\u001b[0m\u001b[1;33m\u001b[0m\u001b[0m\n",
      "\u001b[1;32mC:\\ProgramData\\Anaconda3\\lib\\site-packages\\joblib\\parallel.py\u001b[0m in \u001b[0;36m<listcomp>\u001b[1;34m(.0)\u001b[0m\n\u001b[0;32m    254\u001b[0m         \u001b[1;32mwith\u001b[0m \u001b[0mparallel_backend\u001b[0m\u001b[1;33m(\u001b[0m\u001b[0mself\u001b[0m\u001b[1;33m.\u001b[0m\u001b[0m_backend\u001b[0m\u001b[1;33m,\u001b[0m \u001b[0mn_jobs\u001b[0m\u001b[1;33m=\u001b[0m\u001b[0mself\u001b[0m\u001b[1;33m.\u001b[0m\u001b[0m_n_jobs\u001b[0m\u001b[1;33m)\u001b[0m\u001b[1;33m:\u001b[0m\u001b[1;33m\u001b[0m\u001b[1;33m\u001b[0m\u001b[0m\n\u001b[0;32m    255\u001b[0m             return [func(*args, **kwargs)\n\u001b[1;32m--> 256\u001b[1;33m                     for func, args, kwargs in self.items]\n\u001b[0m\u001b[0;32m    257\u001b[0m \u001b[1;33m\u001b[0m\u001b[0m\n\u001b[0;32m    258\u001b[0m     \u001b[1;32mdef\u001b[0m \u001b[0m__len__\u001b[0m\u001b[1;33m(\u001b[0m\u001b[0mself\u001b[0m\u001b[1;33m)\u001b[0m\u001b[1;33m:\u001b[0m\u001b[1;33m\u001b[0m\u001b[1;33m\u001b[0m\u001b[0m\n",
      "\u001b[1;32mC:\\ProgramData\\Anaconda3\\lib\\site-packages\\sklearn\\neighbors\\_base.py\u001b[0m in \u001b[0;36m_tree_query_parallel_helper\u001b[1;34m(tree, *args, **kwargs)\u001b[0m\n\u001b[0;32m    488\u001b[0m     \u001b[0munder\u001b[0m \u001b[0mPyPy\u001b[0m\u001b[1;33m.\u001b[0m\u001b[1;33m\u001b[0m\u001b[1;33m\u001b[0m\u001b[0m\n\u001b[0;32m    489\u001b[0m     \"\"\"\n\u001b[1;32m--> 490\u001b[1;33m     \u001b[1;32mreturn\u001b[0m \u001b[0mtree\u001b[0m\u001b[1;33m.\u001b[0m\u001b[0mquery\u001b[0m\u001b[1;33m(\u001b[0m\u001b[1;33m*\u001b[0m\u001b[0margs\u001b[0m\u001b[1;33m,\u001b[0m \u001b[1;33m**\u001b[0m\u001b[0mkwargs\u001b[0m\u001b[1;33m)\u001b[0m\u001b[1;33m\u001b[0m\u001b[1;33m\u001b[0m\u001b[0m\n\u001b[0m\u001b[0;32m    491\u001b[0m \u001b[1;33m\u001b[0m\u001b[0m\n\u001b[0;32m    492\u001b[0m \u001b[1;33m\u001b[0m\u001b[0m\n",
      "\u001b[1;31mKeyboardInterrupt\u001b[0m: "
     ]
    }
   ],
   "source": [
    "X_padded, X_resampled, Y_resampled = make_padding_and_oversample(np.array(온라인_x2), 온라인_y, length=27)\n",
    "X_train, X_test, y_train, y_test = train_test_split(X_resampled, Y_resampled, test_size=0.3, random_state=42)\n",
    "X_train.shape"
   ]
  },
  {
   "cell_type": "code",
   "execution_count": 106,
   "metadata": {
    "collapsed": true
   },
   "outputs": [
    {
     "name": "stdout",
     "output_type": "stream",
     "text": [
      "Train on 447638 samples, validate on 191846 samples\n",
      "Epoch 1/25\n",
      "447638/447638 [==============================] - 21s 46us/step - loss: 0.3714 - acc: 0.8374 - f1_m: 0.8298 - precision_m: 0.8703 - recall_m: 0.7997 - val_loss: 0.2945 - val_acc: 0.8665 - val_f1_m: 0.8565 - val_precision_m: 0.9244 - val_recall_m: 0.7982\n",
      "Epoch 2/25\n",
      "447638/447638 [==============================] - 20s 45us/step - loss: 0.2897 - acc: 0.8670 - f1_m: 0.8632 - precision_m: 0.8900 - recall_m: 0.8415 - val_loss: 0.2683 - val_acc: 0.8772 - val_f1_m: 0.8720 - val_precision_m: 0.9094 - val_recall_m: 0.8379\n",
      "Epoch 3/25\n",
      "447638/447638 [==============================] - 20s 45us/step - loss: 0.2761 - acc: 0.8730 - f1_m: 0.8697 - precision_m: 0.8935 - recall_m: 0.8498 - val_loss: 0.2933 - val_acc: 0.8687 - val_f1_m: 0.8583 - val_precision_m: 0.9306 - val_recall_m: 0.7967\n",
      "Epoch 4/25\n",
      "447638/447638 [==============================] - 20s 45us/step - loss: 0.2693 - acc: 0.8762 - f1_m: 0.8731 - precision_m: 0.8964 - recall_m: 0.8529 - val_loss: 0.2631 - val_acc: 0.8789 - val_f1_m: 0.8720 - val_precision_m: 0.9232 - val_recall_m: 0.8264\n",
      "Epoch 5/25\n",
      "447638/447638 [==============================] - 20s 45us/step - loss: 0.2650 - acc: 0.8784 - f1_m: 0.8752 - precision_m: 0.8983 - recall_m: 0.8549 - val_loss: 0.2582 - val_acc: 0.8815 - val_f1_m: 0.8803 - val_precision_m: 0.8878 - val_recall_m: 0.8731\n",
      "Epoch 6/25\n",
      "447638/447638 [==============================] - 20s 45us/step - loss: 0.2616 - acc: 0.8796 - f1_m: 0.8766 - precision_m: 0.8987 - recall_m: 0.8571 - val_loss: 0.2540 - val_acc: 0.8836 - val_f1_m: 0.8809 - val_precision_m: 0.9005 - val_recall_m: 0.8624\n",
      "Epoch 7/25\n",
      "447638/447638 [==============================] - 20s 45us/step - loss: 0.2594 - acc: 0.8813 - f1_m: 0.8783 - precision_m: 0.9008 - recall_m: 0.8583 - val_loss: 0.2521 - val_acc: 0.8835 - val_f1_m: 0.8790 - val_precision_m: 0.9135 - val_recall_m: 0.8471\n",
      "Epoch 8/25\n",
      "447638/447638 [==============================] - 20s 45us/step - loss: 0.2571 - acc: 0.8821 - f1_m: 0.8791 - precision_m: 0.9017 - recall_m: 0.8588 - val_loss: 0.2590 - val_acc: 0.8797 - val_f1_m: 0.8794 - val_precision_m: 0.8802 - val_recall_m: 0.8789\n",
      "Epoch 9/25\n",
      "447638/447638 [==============================] - 20s 45us/step - loss: 0.2557 - acc: 0.8831 - f1_m: 0.8801 - precision_m: 0.9028 - recall_m: 0.8595 - val_loss: 0.2509 - val_acc: 0.8851 - val_f1_m: 0.8806 - val_precision_m: 0.9155 - val_recall_m: 0.8484\n",
      "Epoch 10/25\n",
      "447638/447638 [==============================] - 20s 45us/step - loss: 0.2541 - acc: 0.8835 - f1_m: 0.8805 - precision_m: 0.9032 - recall_m: 0.8600 - val_loss: 0.2504 - val_acc: 0.8847 - val_f1_m: 0.8810 - val_precision_m: 0.9094 - val_recall_m: 0.8545\n",
      "Epoch 11/25\n",
      "447638/447638 [==============================] - 20s 45us/step - loss: 0.2526 - acc: 0.8840 - f1_m: 0.8811 - precision_m: 0.9036 - recall_m: 0.8608 - val_loss: 0.2490 - val_acc: 0.8858 - val_f1_m: 0.8816 - val_precision_m: 0.9138 - val_recall_m: 0.8517\n",
      "Epoch 12/25\n",
      "447638/447638 [==============================] - 20s 45us/step - loss: 0.2516 - acc: 0.8845 - f1_m: 0.8816 - precision_m: 0.9043 - recall_m: 0.8609 - val_loss: 0.2497 - val_acc: 0.8853 - val_f1_m: 0.8809 - val_precision_m: 0.9144 - val_recall_m: 0.8500\n",
      "Epoch 13/25\n",
      "447638/447638 [==============================] - 20s 45us/step - loss: 0.2512 - acc: 0.8848 - f1_m: 0.8819 - precision_m: 0.9044 - recall_m: 0.8614 - val_loss: 0.2467 - val_acc: 0.8874 - val_f1_m: 0.8838 - val_precision_m: 0.9117 - val_recall_m: 0.8576\n",
      "Epoch 14/25\n",
      "447638/447638 [==============================] - 20s 45us/step - loss: 0.2501 - acc: 0.8854 - f1_m: 0.8825 - precision_m: 0.9046 - recall_m: 0.8623 - val_loss: 0.2480 - val_acc: 0.8868 - val_f1_m: 0.8829 - val_precision_m: 0.9137 - val_recall_m: 0.8542\n",
      "Epoch 15/25\n",
      "447638/447638 [==============================] - 20s 45us/step - loss: 0.2493 - acc: 0.8854 - f1_m: 0.8825 - precision_m: 0.9047 - recall_m: 0.8622 - val_loss: 0.2482 - val_acc: 0.8858 - val_f1_m: 0.8806 - val_precision_m: 0.9213 - val_recall_m: 0.8435\n",
      "Epoch 16/25\n",
      "447638/447638 [==============================] - 20s 45us/step - loss: 0.2485 - acc: 0.8860 - f1_m: 0.8831 - precision_m: 0.9053 - recall_m: 0.8628 - val_loss: 0.2469 - val_acc: 0.8862 - val_f1_m: 0.8834 - val_precision_m: 0.9042 - val_recall_m: 0.8637\n",
      "Epoch 17/25\n",
      "447638/447638 [==============================] - 20s 45us/step - loss: 0.2482 - acc: 0.8860 - f1_m: 0.8832 - precision_m: 0.9048 - recall_m: 0.8634 - val_loss: 0.2468 - val_acc: 0.8864 - val_f1_m: 0.8823 - val_precision_m: 0.9142 - val_recall_m: 0.8528\n",
      "Epoch 18/25\n",
      "447638/447638 [==============================] - 20s 45us/step - loss: 0.2472 - acc: 0.8865 - f1_m: 0.8838 - precision_m: 0.9049 - recall_m: 0.8644 - val_loss: 0.2480 - val_acc: 0.8869 - val_f1_m: 0.8835 - val_precision_m: 0.9094 - val_recall_m: 0.8593\n",
      "Epoch 19/25\n",
      "447638/447638 [==============================] - 20s 45us/step - loss: 0.2468 - acc: 0.8866 - f1_m: 0.8840 - precision_m: 0.9044 - recall_m: 0.8652 - val_loss: 0.2457 - val_acc: 0.8870 - val_f1_m: 0.8852 - val_precision_m: 0.8979 - val_recall_m: 0.8731\n",
      "Epoch 20/25\n",
      "447638/447638 [==============================] - 20s 45us/step - loss: 0.2462 - acc: 0.8870 - f1_m: 0.8843 - precision_m: 0.9054 - recall_m: 0.8649 - val_loss: 0.2462 - val_acc: 0.8875 - val_f1_m: 0.8837 - val_precision_m: 0.9138 - val_recall_m: 0.8557\n",
      "Epoch 21/25\n",
      "447638/447638 [==============================] - 20s 45us/step - loss: 0.2459 - acc: 0.8869 - f1_m: 0.8843 - precision_m: 0.9050 - recall_m: 0.8651 - val_loss: 0.2442 - val_acc: 0.8881 - val_f1_m: 0.8841 - val_precision_m: 0.9163 - val_recall_m: 0.8543\n",
      "Epoch 22/25\n",
      "447638/447638 [==============================] - 20s 45us/step - loss: 0.2455 - acc: 0.8872 - f1_m: 0.8846 - precision_m: 0.9047 - recall_m: 0.8660 - val_loss: 0.2465 - val_acc: 0.8874 - val_f1_m: 0.8834 - val_precision_m: 0.9149 - val_recall_m: 0.8542\n",
      "Epoch 23/25\n",
      "447638/447638 [==============================] - 20s 45us/step - loss: 0.2449 - acc: 0.8877 - f1_m: 0.8851 - precision_m: 0.9057 - recall_m: 0.8661 - val_loss: 0.2450 - val_acc: 0.8882 - val_f1_m: 0.8837 - val_precision_m: 0.9201 - val_recall_m: 0.8501\n",
      "Epoch 24/25\n",
      "447638/447638 [==============================] - 20s 45us/step - loss: 0.2444 - acc: 0.8878 - f1_m: 0.8851 - precision_m: 0.9062 - recall_m: 0.8656 - val_loss: 0.2439 - val_acc: 0.8883 - val_f1_m: 0.8844 - val_precision_m: 0.9153 - val_recall_m: 0.8558\n",
      "Epoch 25/25\n",
      "447638/447638 [==============================] - 20s 45us/step - loss: 0.2441 - acc: 0.8883 - f1_m: 0.8856 - precision_m: 0.9071 - recall_m: 0.8657 - val_loss: 0.2455 - val_acc: 0.8876 - val_f1_m: 0.8831 - val_precision_m: 0.9193 - val_recall_m: 0.8498\n"
     ]
    }
   ],
   "source": [
    "model = models(X_train)\n",
    "# model.summary()\n",
    "history = model.fit(X_train, y_train, epochs=25, batch_size=1000, validation_data=(X_test, y_test), verbose=1, shuffle=False)"
   ]
  },
  {
   "cell_type": "code",
   "execution_count": 107,
   "metadata": {
    "collapsed": true
   },
   "outputs": [
    {
     "data": {
      "image/png": "[encoded data removed]",
      "text/plain": [
       "<Figure size 576x288 with 1 Axes>"
      ]
     },
     "metadata": {
      "needs_background": "light"
     },
     "output_type": "display_data"
    }
   ],
   "source": [
    "# plot history\n",
    "plt.figure(figsize=(8,4))\n",
    "plt.plot(history.history['acc'], label='train')\n",
    "plt.plot(history.history['val_acc'], label='test')\n",
    "plt.legend()                                       \n",
    "plt.show()"
   ]
  },
  {
   "cell_type": "code",
   "execution_count": 109,
   "metadata": {},
   "outputs": [
    {
     "name": "stdout",
     "output_type": "stream",
     "text": [
      "191846/191846 [==============================] - 103s 534us/step\n"
     ]
    }
   ],
   "source": [
    "loss, accuracy, f1_score, precision, recall = model.evaluate(X_test, y_test, verbose=1)"
   ]
  },
  {
   "cell_type": "code",
   "execution_count": 110,
   "metadata": {},
   "outputs": [
    {
     "name": "stdout",
     "output_type": "stream",
     "text": [
      "0.8876338601112366\n"
     ]
    }
   ],
   "source": [
    "print(accuracy)"
   ]
  },
  {
   "cell_type": "markdown",
   "metadata": {},
   "source": [
    "### 각 sequence length의 0.5배 값"
   ]
  },
  {
   "cell_type": "code",
   "execution_count": 111,
   "metadata": {},
   "outputs": [
    {
     "data": {
      "text/plain": [
       "35.0"
      ]
     },
     "execution_count": 111,
     "metadata": {},
     "output_type": "execute_result"
    }
   ],
   "source": [
    "remove_seq_length = np.floor(0.5*seq_length)\n",
    "온라인_x2 = list(map(lambda x,y: x[:-y] if y !=0 else x, \n",
    "                     pd.Series(온라인_x), \n",
    "                     remove_seq_length.astype(int)))\n",
    "seq_length2 = pd.Series(온라인_x2).map(lambda x: len(x))\n",
    "np.percentile(seq_length2,99)"
   ]
  },
  {
   "cell_type": "code",
   "execution_count": 113,
   "metadata": {},
   "outputs": [
    {
     "name": "stderr",
     "output_type": "stream",
     "text": [
      "C:\\ProgramData\\Anaconda3\\lib\\site-packages\\sklearn\\utils\\validation.py:760: DataConversionWarning: A column-vector y was passed when a 1d array was expected. Please change the shape of y to (n_samples, ), for example using ravel().\n",
      "  y = column_or_1d(y, warn=True)\n",
      "C:\\ProgramData\\Anaconda3\\lib\\site-packages\\sklearn\\utils\\deprecation.py:87: FutureWarning: Function safe_indexing is deprecated; safe_indexing is deprecated in version 0.22 and will be removed in version 0.24.\n",
      "  warnings.warn(msg, category=FutureWarning)\n"
     ]
    },
    {
     "data": {
      "text/plain": [
       "(447638, 35, 20)"
      ]
     },
     "execution_count": 113,
     "metadata": {},
     "output_type": "execute_result"
    }
   ],
   "source": [
    "X_padded, X_resampled, Y_resampled = make_padding_and_oversample(np.array(온라인_x2), 온라인_y, length=35)\n",
    "X_train, X_test, y_train, y_test = train_test_split(X_resampled, Y_resampled, test_size=0.3, random_state=42)\n",
    "X_train.shape"
   ]
  },
  {
   "cell_type": "code",
   "execution_count": 114,
   "metadata": {
    "collapsed": true
   },
   "outputs": [
    {
     "name": "stdout",
     "output_type": "stream",
     "text": [
      "Train on 447638 samples, validate on 191846 samples\n",
      "Epoch 1/25\n",
      "447638/447638 [==============================] - 26s 58us/step - loss: 0.3562 - acc: 0.8479 - f1_m: 0.8409 - precision_m: 0.8770 - recall_m: 0.8136 - val_loss: 0.2657 - val_acc: 0.8838 - val_f1_m: 0.8815 - val_precision_m: 0.8979 - val_recall_m: 0.8659\n",
      "Epoch 2/25\n",
      "447638/447638 [==============================] - 25s 57us/step - loss: 0.2646 - acc: 0.8807 - f1_m: 0.8780 - precision_m: 0.8993 - recall_m: 0.8607 - val_loss: 0.2513 - val_acc: 0.8841 - val_f1_m: 0.8793 - val_precision_m: 0.9160 - val_recall_m: 0.8456\n",
      "Epoch 3/25\n",
      "447638/447638 [==============================] - 25s 56us/step - loss: 0.2518 - acc: 0.8855 - f1_m: 0.8832 - precision_m: 0.9020 - recall_m: 0.8672 - val_loss: 0.2419 - val_acc: 0.8892 - val_f1_m: 0.8867 - val_precision_m: 0.9065 - val_recall_m: 0.8679\n",
      "Epoch 4/25\n",
      "447638/447638 [==============================] - 25s 56us/step - loss: 0.2451 - acc: 0.8883 - f1_m: 0.8862 - precision_m: 0.9029 - recall_m: 0.8717 - val_loss: 0.2365 - val_acc: 0.8918 - val_f1_m: 0.8890 - val_precision_m: 0.9116 - val_recall_m: 0.8676\n",
      "Epoch 5/25\n",
      "447638/447638 [==============================] - 25s 56us/step - loss: 0.2400 - acc: 0.8904 - f1_m: 0.8883 - precision_m: 0.9053 - recall_m: 0.8735 - val_loss: 0.2359 - val_acc: 0.8908 - val_f1_m: 0.8862 - val_precision_m: 0.9239 - val_recall_m: 0.8517\n",
      "Epoch 6/25\n",
      "447638/447638 [==============================] - 25s 56us/step - loss: 0.2364 - acc: 0.8920 - f1_m: 0.8901 - precision_m: 0.9064 - recall_m: 0.8757 - val_loss: 0.2341 - val_acc: 0.8923 - val_f1_m: 0.8876 - val_precision_m: 0.9263 - val_recall_m: 0.8523\n",
      "Epoch 7/25\n",
      "447638/447638 [==============================] - 25s 56us/step - loss: 0.2336 - acc: 0.8931 - f1_m: 0.8911 - precision_m: 0.9080 - recall_m: 0.8760 - val_loss: 0.2294 - val_acc: 0.8964 - val_f1_m: 0.8936 - val_precision_m: 0.9164 - val_recall_m: 0.8722\n",
      "Epoch 8/25\n",
      "447638/447638 [==============================] - 25s 56us/step - loss: 0.2316 - acc: 0.8939 - f1_m: 0.8919 - precision_m: 0.9086 - recall_m: 0.8769 - val_loss: 0.2275 - val_acc: 0.8968 - val_f1_m: 0.8942 - val_precision_m: 0.9162 - val_recall_m: 0.8734\n",
      "Epoch 9/25\n",
      "447638/447638 [==============================] - 25s 56us/step - loss: 0.2296 - acc: 0.8946 - f1_m: 0.8927 - precision_m: 0.9095 - recall_m: 0.8775 - val_loss: 0.2250 - val_acc: 0.8977 - val_f1_m: 0.8941 - val_precision_m: 0.9254 - val_recall_m: 0.8651\n",
      "Epoch 10/25\n",
      "447638/447638 [==============================] - 25s 56us/step - loss: 0.2278 - acc: 0.8958 - f1_m: 0.8938 - precision_m: 0.9113 - recall_m: 0.8779 - val_loss: 0.2243 - val_acc: 0.8972 - val_f1_m: 0.8944 - val_precision_m: 0.9184 - val_recall_m: 0.8717\n",
      "Epoch 11/25\n",
      "447638/447638 [==============================] - 25s 57us/step - loss: 0.2264 - acc: 0.8961 - f1_m: 0.8941 - precision_m: 0.9113 - recall_m: 0.8785 - val_loss: 0.2232 - val_acc: 0.8982 - val_f1_m: 0.8971 - val_precision_m: 0.9057 - val_recall_m: 0.8888\n",
      "Epoch 12/25\n",
      "447638/447638 [==============================] - 25s 56us/step - loss: 0.2252 - acc: 0.8968 - f1_m: 0.8947 - precision_m: 0.9124 - recall_m: 0.8786 - val_loss: 0.2237 - val_acc: 0.8984 - val_f1_m: 0.8978 - val_precision_m: 0.9015 - val_recall_m: 0.8944\n",
      "Epoch 13/25\n",
      "447638/447638 [==============================] - 25s 56us/step - loss: 0.2242 - acc: 0.8969 - f1_m: 0.8949 - precision_m: 0.9120 - recall_m: 0.8793 - val_loss: 0.2211 - val_acc: 0.8991 - val_f1_m: 0.8969 - val_precision_m: 0.9157 - val_recall_m: 0.8791\n",
      "Epoch 14/25\n",
      "447638/447638 [==============================] - 25s 56us/step - loss: 0.2233 - acc: 0.8974 - f1_m: 0.8955 - precision_m: 0.9120 - recall_m: 0.8805 - val_loss: 0.2213 - val_acc: 0.8995 - val_f1_m: 0.8976 - val_precision_m: 0.9133 - val_recall_m: 0.8826\n",
      "Epoch 15/25\n",
      "447638/447638 [==============================] - 25s 56us/step - loss: 0.2225 - acc: 0.8977 - f1_m: 0.8959 - precision_m: 0.9119 - recall_m: 0.8812 - val_loss: 0.2205 - val_acc: 0.8994 - val_f1_m: 0.8988 - val_precision_m: 0.9033 - val_recall_m: 0.8945\n",
      "Epoch 16/25\n",
      "447638/447638 [==============================] - 25s 56us/step - loss: 0.2214 - acc: 0.8983 - f1_m: 0.8966 - precision_m: 0.9117 - recall_m: 0.8826 - val_loss: 0.2195 - val_acc: 0.8993 - val_f1_m: 0.8985 - val_precision_m: 0.9046 - val_recall_m: 0.8927\n",
      "Epoch 17/25\n",
      "447638/447638 [==============================] - 25s 56us/step - loss: 0.2211 - acc: 0.8987 - f1_m: 0.8969 - precision_m: 0.9125 - recall_m: 0.8825 - val_loss: 0.2195 - val_acc: 0.8998 - val_f1_m: 0.8985 - val_precision_m: 0.9095 - val_recall_m: 0.8879\n",
      "Epoch 18/25\n",
      "447638/447638 [==============================] - 25s 56us/step - loss: 0.2205 - acc: 0.8990 - f1_m: 0.8972 - precision_m: 0.9129 - recall_m: 0.8827 - val_loss: 0.2188 - val_acc: 0.9006 - val_f1_m: 0.8988 - val_precision_m: 0.9144 - val_recall_m: 0.8838\n",
      "Epoch 19/25\n",
      "447638/447638 [==============================] - 25s 56us/step - loss: 0.2195 - acc: 0.8991 - f1_m: 0.8974 - precision_m: 0.9126 - recall_m: 0.8834 - val_loss: 0.2183 - val_acc: 0.9007 - val_f1_m: 0.8989 - val_precision_m: 0.9142 - val_recall_m: 0.8843\n",
      "Epoch 20/25\n",
      "447638/447638 [==============================] - 25s 56us/step - loss: 0.2189 - acc: 0.8995 - f1_m: 0.8977 - precision_m: 0.9135 - recall_m: 0.8832 - val_loss: 0.2187 - val_acc: 0.9005 - val_f1_m: 0.8987 - val_precision_m: 0.9139 - val_recall_m: 0.8842\n",
      "Epoch 21/25\n",
      "447638/447638 [==============================] - 25s 56us/step - loss: 0.2185 - acc: 0.8997 - f1_m: 0.8980 - precision_m: 0.9131 - recall_m: 0.8840 - val_loss: 0.2185 - val_acc: 0.9003 - val_f1_m: 0.8983 - val_precision_m: 0.9152 - val_recall_m: 0.8822\n",
      "Epoch 22/25\n",
      "447638/447638 [==============================] - 25s 56us/step - loss: 0.2179 - acc: 0.8999 - f1_m: 0.8981 - precision_m: 0.9139 - recall_m: 0.8834 - val_loss: 0.2182 - val_acc: 0.9000 - val_f1_m: 0.8977 - val_precision_m: 0.9175 - val_recall_m: 0.8788\n",
      "Epoch 23/25\n",
      "447638/447638 [==============================] - 25s 56us/step - loss: 0.2176 - acc: 0.9003 - f1_m: 0.8985 - precision_m: 0.9137 - recall_m: 0.8845 - val_loss: 0.2172 - val_acc: 0.9012 - val_f1_m: 0.8994 - val_precision_m: 0.9141 - val_recall_m: 0.8854\n",
      "Epoch 24/25\n",
      "447638/447638 [==============================] - 25s 56us/step - loss: 0.2172 - acc: 0.9003 - f1_m: 0.8986 - precision_m: 0.9141 - recall_m: 0.8841 - val_loss: 0.2172 - val_acc: 0.9009 - val_f1_m: 0.8994 - val_precision_m: 0.9120 - val_recall_m: 0.8873\n",
      "Epoch 25/25\n",
      "447638/447638 [==============================] - 25s 57us/step - loss: 0.2166 - acc: 0.9007 - f1_m: 0.8991 - precision_m: 0.9139 - recall_m: 0.8852 - val_loss: 0.2166 - val_acc: 0.9012 - val_f1_m: 0.9005 - val_precision_m: 0.9060 - val_recall_m: 0.8952\n"
     ]
    }
   ],
   "source": [
    "model = models(X_train)\n",
    "# model.summary()\n",
    "history = model.fit(X_train, y_train, epochs=25, batch_size=1000, validation_data=(X_test, y_test), verbose=1, shuffle=False)"
   ]
  },
  {
   "cell_type": "code",
   "execution_count": 115,
   "metadata": {
    "collapsed": true
   },
   "outputs": [
    {
     "data": {
      "image/png": "[encoded data removed]",
      "text/plain": [
       "<Figure size 576x288 with 1 Axes>"
      ]
     },
     "metadata": {
      "needs_background": "light"
     },
     "output_type": "display_data"
    }
   ],
   "source": [
    "# plot history\n",
    "plt.figure(figsize=(8,4))\n",
    "plt.plot(history.history['acc'], label='train')\n",
    "plt.plot(history.history['val_acc'], label='test')\n",
    "plt.legend()                                       \n",
    "plt.show()"
   ]
  },
  {
   "cell_type": "code",
   "execution_count": 116,
   "metadata": {},
   "outputs": [
    {
     "name": "stdout",
     "output_type": "stream",
     "text": [
      "191846/191846 [==============================] - 129s 673us/step\n"
     ]
    }
   ],
   "source": [
    "loss, accuracy, f1_score, precision, recall = model.evaluate(X_test, y_test, verbose=1)"
   ]
  },
  {
   "cell_type": "code",
   "execution_count": 117,
   "metadata": {},
   "outputs": [
    {
     "name": "stdout",
     "output_type": "stream",
     "text": [
      "0.9012280702590942\n"
     ]
    }
   ],
   "source": [
    "print(accuracy)"
   ]
  },
  {
   "cell_type": "code",
   "execution_count": 122,
   "metadata": {},
   "outputs": [
    {
     "data": {
      "text/plain": [
       "35"
      ]
     },
     "execution_count": 122,
     "metadata": {},
     "output_type": "execute_result"
    }
   ],
   "source": [
    "a_features"
   ]
  },
  {
   "cell_type": "code",
   "execution_count": 123,
   "metadata": {},
   "outputs": [
    {
     "data": {
      "text/plain": [
       "20"
      ]
     },
     "execution_count": 123,
     "metadata": {},
     "output_type": "execute_result"
    }
   ],
   "source": [
    "len(full_X_c)"
   ]
  },
  {
   "cell_type": "code",
   "execution_count": 121,
   "metadata": {
    "collapsed": true
   },
   "outputs": [
    {
     "name": "stdout",
     "output_type": "stream",
     "text": [
      "Variable 1, perturbation effect: 0.0254\n",
      "Variable 2, perturbation effect: 0.0938\n",
      "Variable 3, perturbation effect: 0.0795\n",
      "Variable 4, perturbation effect: 0.0574\n",
      "Variable 5, perturbation effect: 0.0626\n",
      "Variable 6, perturbation effect: 0.0730\n",
      "Variable 7, perturbation effect: 0.0102\n",
      "Variable 8, perturbation effect: 0.0371\n",
      "Variable 9, perturbation effect: 0.1393\n",
      "Variable 10, perturbation effect: 0.0383\n",
      "Variable 11, perturbation effect: 0.0397\n",
      "Variable 12, perturbation effect: 0.0227\n",
      "Variable 13, perturbation effect: 0.0090\n",
      "Variable 14, perturbation effect: 0.0082\n",
      "Variable 15, perturbation effect: 0.0140\n",
      "Variable 16, perturbation effect: 0.0129\n",
      "Variable 17, perturbation effect: 0.0762\n",
      "Variable 18, perturbation effect: 0.0508\n",
      "Variable 19, perturbation effect: 0.0500\n",
      "Variable 20, perturbation effect: 0.0671\n"
     ]
    },
    {
     "ename": "IndexError",
     "evalue": "index 20 is out of bounds for axis 2 with size 20",
     "output_type": "error",
     "traceback": [
      "\u001b[1;31m---------------------------------------------------------------------------\u001b[0m",
      "\u001b[1;31mIndexError\u001b[0m                                Traceback (most recent call last)",
      "\u001b[1;32m<ipython-input-121-d556cd2fd6f2>\u001b[0m in \u001b[0;36m<module>\u001b[1;34m\u001b[0m\n\u001b[0;32m     17\u001b[0m         \u001b[0mprint\u001b[0m\u001b[1;33m(\u001b[0m\u001b[1;34mf'Variable {i+1}, perturbation effect: {effect:.4f}'\u001b[0m\u001b[1;33m)\u001b[0m\u001b[1;33m\u001b[0m\u001b[1;33m\u001b[0m\u001b[0m\n\u001b[0;32m     18\u001b[0m \u001b[1;33m\u001b[0m\u001b[0m\n\u001b[1;32m---> 19\u001b[1;33m \u001b[0mvar_importance\u001b[0m\u001b[1;33m(\u001b[0m\u001b[0mmodel\u001b[0m\u001b[1;33m)\u001b[0m\u001b[1;33m\u001b[0m\u001b[1;33m\u001b[0m\u001b[0m\n\u001b[0m\u001b[0;32m     20\u001b[0m \u001b[0mimportance_df\u001b[0m \u001b[1;33m=\u001b[0m \u001b[0mimportance_df\u001b[0m\u001b[1;33m.\u001b[0m\u001b[0msort_values\u001b[0m\u001b[1;33m(\u001b[0m\u001b[0mby\u001b[0m\u001b[1;33m=\u001b[0m\u001b[1;34m'perturbation_effect'\u001b[0m\u001b[1;33m,\u001b[0m \u001b[0mascending\u001b[0m\u001b[1;33m=\u001b[0m\u001b[1;32mFalse\u001b[0m\u001b[1;33m)\u001b[0m\u001b[1;33m\u001b[0m\u001b[1;33m\u001b[0m\u001b[0m\n\u001b[0;32m     21\u001b[0m \u001b[0mprint\u001b[0m\u001b[1;33m(\u001b[0m\u001b[0mimportance_df\u001b[0m\u001b[1;33m)\u001b[0m\u001b[1;33m\u001b[0m\u001b[1;33m\u001b[0m\u001b[0m\n",
      "\u001b[1;32m<ipython-input-121-d556cd2fd6f2>\u001b[0m in \u001b[0;36mvar_importance\u001b[1;34m(model)\u001b[0m\n\u001b[0;32m     10\u001b[0m         \u001b[0mnew_x\u001b[0m \u001b[1;33m=\u001b[0m \u001b[0mx\u001b[0m\u001b[1;33m.\u001b[0m\u001b[0mcopy\u001b[0m\u001b[1;33m(\u001b[0m\u001b[1;33m)\u001b[0m\u001b[1;33m\u001b[0m\u001b[1;33m\u001b[0m\u001b[0m\n\u001b[0;32m     11\u001b[0m         \u001b[0mperturbation\u001b[0m \u001b[1;33m=\u001b[0m \u001b[0mnp\u001b[0m\u001b[1;33m.\u001b[0m\u001b[0mrandom\u001b[0m\u001b[1;33m.\u001b[0m\u001b[0mnormal\u001b[0m\u001b[1;33m(\u001b[0m\u001b[1;36m0.0\u001b[0m\u001b[1;33m,\u001b[0m \u001b[1;36m0.2\u001b[0m\u001b[1;33m,\u001b[0m \u001b[0msize\u001b[0m\u001b[1;33m=\u001b[0m \u001b[0mnew_x\u001b[0m\u001b[1;33m.\u001b[0m\u001b[0mshape\u001b[0m\u001b[1;33m[\u001b[0m\u001b[1;33m:\u001b[0m\u001b[1;36m2\u001b[0m\u001b[1;33m]\u001b[0m\u001b[1;33m)\u001b[0m\u001b[1;33m\u001b[0m\u001b[1;33m\u001b[0m\u001b[0m\n\u001b[1;32m---> 12\u001b[1;33m         \u001b[0mnew_x\u001b[0m\u001b[1;33m[\u001b[0m\u001b[1;33m:\u001b[0m\u001b[1;33m,\u001b[0m \u001b[1;33m:\u001b[0m\u001b[1;33m,\u001b[0m \u001b[0mi\u001b[0m\u001b[1;33m]\u001b[0m \u001b[1;33m=\u001b[0m \u001b[0mnew_x\u001b[0m\u001b[1;33m[\u001b[0m\u001b[1;33m:\u001b[0m\u001b[1;33m,\u001b[0m \u001b[1;33m:\u001b[0m\u001b[1;33m,\u001b[0m \u001b[0mi\u001b[0m\u001b[1;33m]\u001b[0m \u001b[1;33m+\u001b[0m \u001b[0mperturbation\u001b[0m\u001b[1;33m\u001b[0m\u001b[1;33m\u001b[0m\u001b[0m\n\u001b[0m\u001b[0;32m     13\u001b[0m         \u001b[0mperturbed_out\u001b[0m \u001b[1;33m=\u001b[0m \u001b[0mmodel\u001b[0m\u001b[1;33m.\u001b[0m\u001b[0mpredict\u001b[0m\u001b[1;33m(\u001b[0m\u001b[0mnew_x\u001b[0m\u001b[1;33m)\u001b[0m\u001b[1;33m\u001b[0m\u001b[1;33m\u001b[0m\u001b[0m\n\u001b[0;32m     14\u001b[0m         \u001b[0meffect\u001b[0m \u001b[1;33m=\u001b[0m \u001b[1;33m(\u001b[0m\u001b[1;33m(\u001b[0m\u001b[0morig_out\u001b[0m \u001b[1;33m-\u001b[0m \u001b[0mperturbed_out\u001b[0m\u001b[1;33m)\u001b[0m \u001b[1;33m**\u001b[0m \u001b[1;36m2\u001b[0m\u001b[1;33m)\u001b[0m\u001b[1;33m.\u001b[0m\u001b[0mmean\u001b[0m\u001b[1;33m(\u001b[0m\u001b[1;33m)\u001b[0m \u001b[1;33m**\u001b[0m \u001b[1;36m0.5\u001b[0m \u001b[1;31m#RMSE\u001b[0m\u001b[1;33m\u001b[0m\u001b[1;33m\u001b[0m\u001b[0m\n",
      "\u001b[1;31mIndexError\u001b[0m: index 20 is out of bounds for axis 2 with size 20"
     ]
    }
   ],
   "source": [
    "## Sensitivity Analysis\n",
    "full_X_c = 온라인.iloc[:,5:-2].columns\n",
    "a_features = int(X_train.shape[1])\n",
    "importance_df = pd.DataFrame(np.zeros((a_features, 2)), \n",
    "                             columns=['varible_name', 'perturbation_effect'])\n",
    "def var_importance(model):\n",
    "    x = X_test # Get a sample of data\n",
    "    orig_out = model.predict(x)\n",
    "    for i in range(a_features):  # iterate over the three features\n",
    "        new_x = x.copy()\n",
    "        perturbation = np.random.normal(0.0, 0.2, size= new_x.shape[:2])\n",
    "        new_x[:, :, i] = new_x[:, :, i] + perturbation\n",
    "        perturbed_out = model.predict(new_x)\n",
    "        effect = ((orig_out - perturbed_out) ** 2).mean() ** 0.5 #RMSE\n",
    "        importance_df.iloc[i,0] = full_X_c[i]\n",
    "        importance_df.iloc[i,1] = effect\n",
    "        print(f'Variable {i+1}, perturbation effect: {effect:.4f}')\n",
    "\n",
    "var_importance(model)\n",
    "importance_df = importance_df.sort_values(by='perturbation_effect', ascending=False)\n",
    "print(importance_df)"
   ]
  },
  {
   "cell_type": "code",
   "execution_count": 124,
   "metadata": {
    "collapsed": true
   },
   "outputs": [
    {
     "data": {
      "text/html": [
       "<div>\n",
       "<style scoped>\n",
       "    .dataframe tbody tr th:only-of-type {\n",
       "        vertical-align: middle;\n",
       "    }\n",
       "\n",
       "    .dataframe tbody tr th {\n",
       "        vertical-align: top;\n",
       "    }\n",
       "\n",
       "    .dataframe thead th {\n",
       "        text-align: right;\n",
       "    }\n",
       "</style>\n",
       "<table border=\"1\" class=\"dataframe\">\n",
       "  <thead>\n",
       "    <tr style=\"text-align: right;\">\n",
       "      <th></th>\n",
       "      <th>varible_name</th>\n",
       "      <th>perturbation_effect</th>\n",
       "    </tr>\n",
       "  </thead>\n",
       "  <tbody>\n",
       "    <tr>\n",
       "      <th>0</th>\n",
       "      <td>hit_stay_tm</td>\n",
       "      <td>0.025381</td>\n",
       "    </tr>\n",
       "    <tr>\n",
       "      <th>1</th>\n",
       "      <td>action_type_1</td>\n",
       "      <td>0.093816</td>\n",
       "    </tr>\n",
       "    <tr>\n",
       "      <th>2</th>\n",
       "      <td>action_type_2</td>\n",
       "      <td>0.079513</td>\n",
       "    </tr>\n",
       "    <tr>\n",
       "      <th>3</th>\n",
       "      <td>action_type_3</td>\n",
       "      <td>0.057379</td>\n",
       "    </tr>\n",
       "    <tr>\n",
       "      <th>4</th>\n",
       "      <td>action_type_4</td>\n",
       "      <td>0.062568</td>\n",
       "    </tr>\n",
       "    <tr>\n",
       "      <th>5</th>\n",
       "      <td>action_type_5</td>\n",
       "      <td>0.073003</td>\n",
       "    </tr>\n",
       "    <tr>\n",
       "      <th>6</th>\n",
       "      <td>action_type_7</td>\n",
       "      <td>0.010199</td>\n",
       "    </tr>\n",
       "    <tr>\n",
       "      <th>7</th>\n",
       "      <td>biz_unit_A02</td>\n",
       "      <td>0.037097</td>\n",
       "    </tr>\n",
       "    <tr>\n",
       "      <th>8</th>\n",
       "      <td>biz_unit_A03</td>\n",
       "      <td>0.139290</td>\n",
       "    </tr>\n",
       "    <tr>\n",
       "      <th>9</th>\n",
       "      <td>sess_dt_201908</td>\n",
       "      <td>0.038270</td>\n",
       "    </tr>\n",
       "    <tr>\n",
       "      <th>10</th>\n",
       "      <td>sess_dt_201909</td>\n",
       "      <td>0.039732</td>\n",
       "    </tr>\n",
       "    <tr>\n",
       "      <th>11</th>\n",
       "      <td>trfc_src_PORTAL_1</td>\n",
       "      <td>0.022723</td>\n",
       "    </tr>\n",
       "    <tr>\n",
       "      <th>12</th>\n",
       "      <td>trfc_src_PORTAL_2</td>\n",
       "      <td>0.009013</td>\n",
       "    </tr>\n",
       "    <tr>\n",
       "      <th>13</th>\n",
       "      <td>trfc_src_PORTAL_3</td>\n",
       "      <td>0.008193</td>\n",
       "    </tr>\n",
       "    <tr>\n",
       "      <th>14</th>\n",
       "      <td>trfc_src_PUSH</td>\n",
       "      <td>0.013982</td>\n",
       "    </tr>\n",
       "    <tr>\n",
       "      <th>15</th>\n",
       "      <td>trfc_src_WEBSITE</td>\n",
       "      <td>0.012893</td>\n",
       "    </tr>\n",
       "    <tr>\n",
       "      <th>16</th>\n",
       "      <td>trfc_src_unknown</td>\n",
       "      <td>0.076213</td>\n",
       "    </tr>\n",
       "    <tr>\n",
       "      <th>17</th>\n",
       "      <td>dvc_ctg_nm_mobile_app</td>\n",
       "      <td>0.050786</td>\n",
       "    </tr>\n",
       "    <tr>\n",
       "      <th>18</th>\n",
       "      <td>dvc_ctg_nm_mobile_web</td>\n",
       "      <td>0.050024</td>\n",
       "    </tr>\n",
       "    <tr>\n",
       "      <th>19</th>\n",
       "      <td>dvc_ctg_nm_unknown</td>\n",
       "      <td>0.067136</td>\n",
       "    </tr>\n",
       "    <tr>\n",
       "      <th>20</th>\n",
       "      <td>0</td>\n",
       "      <td>0.000000</td>\n",
       "    </tr>\n",
       "    <tr>\n",
       "      <th>21</th>\n",
       "      <td>0</td>\n",
       "      <td>0.000000</td>\n",
       "    </tr>\n",
       "    <tr>\n",
       "      <th>22</th>\n",
       "      <td>0</td>\n",
       "      <td>0.000000</td>\n",
       "    </tr>\n",
       "    <tr>\n",
       "      <th>23</th>\n",
       "      <td>0</td>\n",
       "      <td>0.000000</td>\n",
       "    </tr>\n",
       "    <tr>\n",
       "      <th>24</th>\n",
       "      <td>0</td>\n",
       "      <td>0.000000</td>\n",
       "    </tr>\n",
       "    <tr>\n",
       "      <th>25</th>\n",
       "      <td>0</td>\n",
       "      <td>0.000000</td>\n",
       "    </tr>\n",
       "    <tr>\n",
       "      <th>26</th>\n",
       "      <td>0</td>\n",
       "      <td>0.000000</td>\n",
       "    </tr>\n",
       "    <tr>\n",
       "      <th>27</th>\n",
       "      <td>0</td>\n",
       "      <td>0.000000</td>\n",
       "    </tr>\n",
       "    <tr>\n",
       "      <th>28</th>\n",
       "      <td>0</td>\n",
       "      <td>0.000000</td>\n",
       "    </tr>\n",
       "    <tr>\n",
       "      <th>29</th>\n",
       "      <td>0</td>\n",
       "      <td>0.000000</td>\n",
       "    </tr>\n",
       "    <tr>\n",
       "      <th>30</th>\n",
       "      <td>0</td>\n",
       "      <td>0.000000</td>\n",
       "    </tr>\n",
       "    <tr>\n",
       "      <th>31</th>\n",
       "      <td>0</td>\n",
       "      <td>0.000000</td>\n",
       "    </tr>\n",
       "    <tr>\n",
       "      <th>32</th>\n",
       "      <td>0</td>\n",
       "      <td>0.000000</td>\n",
       "    </tr>\n",
       "    <tr>\n",
       "      <th>33</th>\n",
       "      <td>0</td>\n",
       "      <td>0.000000</td>\n",
       "    </tr>\n",
       "    <tr>\n",
       "      <th>34</th>\n",
       "      <td>0</td>\n",
       "      <td>0.000000</td>\n",
       "    </tr>\n",
       "  </tbody>\n",
       "</table>\n",
       "</div>"
      ],
      "text/plain": [
       "             varible_name  perturbation_effect\n",
       "0             hit_stay_tm             0.025381\n",
       "1           action_type_1             0.093816\n",
       "2           action_type_2             0.079513\n",
       "3           action_type_3             0.057379\n",
       "4           action_type_4             0.062568\n",
       "5           action_type_5             0.073003\n",
       "6           action_type_7             0.010199\n",
       "7            biz_unit_A02             0.037097\n",
       "8            biz_unit_A03             0.139290\n",
       "9          sess_dt_201908             0.038270\n",
       "10         sess_dt_201909             0.039732\n",
       "11      trfc_src_PORTAL_1             0.022723\n",
       "12      trfc_src_PORTAL_2             0.009013\n",
       "13      trfc_src_PORTAL_3             0.008193\n",
       "14          trfc_src_PUSH             0.013982\n",
       "15       trfc_src_WEBSITE             0.012893\n",
       "16       trfc_src_unknown             0.076213\n",
       "17  dvc_ctg_nm_mobile_app             0.050786\n",
       "18  dvc_ctg_nm_mobile_web             0.050024\n",
       "19     dvc_ctg_nm_unknown             0.067136\n",
       "20                      0             0.000000\n",
       "21                      0             0.000000\n",
       "22                      0             0.000000\n",
       "23                      0             0.000000\n",
       "24                      0             0.000000\n",
       "25                      0             0.000000\n",
       "26                      0             0.000000\n",
       "27                      0             0.000000\n",
       "28                      0             0.000000\n",
       "29                      0             0.000000\n",
       "30                      0             0.000000\n",
       "31                      0             0.000000\n",
       "32                      0             0.000000\n",
       "33                      0             0.000000\n",
       "34                      0             0.000000"
      ]
     },
     "execution_count": 124,
     "metadata": {},
     "output_type": "execute_result"
    }
   ],
   "source": [
    "importance_df"
   ]
  },
  {
   "cell_type": "code",
   "execution_count": null,
   "metadata": {},
   "outputs": [],
   "source": [
    "## Plot 예시\n",
    "mpl.rc('font', family='New Gulim')\n",
    "mpl.rc('axes', unicode_minus=False)\n",
    "plt.subplots(figsize=(18,5))\n",
    "plt.bar(importance_df.iloc[:,0], importance_df.iloc[:,1])\n",
    "plt.title('Sensitivity Analysis')\n",
    "plt.xlabel('IV')\n",
    "plt.ylabel('Perturbation Effect')\n",
    "plt.xticks(importance_df.iloc[:,0], rotation=90)\n",
    "plt.show()"
   ]
  },
  {
   "cell_type": "markdown",
   "metadata": {},
   "source": [
    "## Conv1D + LSTM"
   ]
  },
  {
   "cell_type": "code",
   "execution_count": 163,
   "metadata": {
    "collapsed": true
   },
   "outputs": [
    {
     "name": "stdout",
     "output_type": "stream",
     "text": [
      "WARNING:tensorflow:From C:\\ProgramData\\Anaconda3\\lib\\site-packages\\keras\\backend\\tensorflow_backend.py:4070: The name tf.nn.max_pool is deprecated. Please use tf.nn.max_pool2d instead.\n",
      "\n",
      "Model: \"sequential_11\"\n",
      "_________________________________________________________________\n",
      "Layer (type)                 Output Shape              Param #   \n",
      "=================================================================\n",
      "conv1d_3 (Conv1D)            (None, 31, 64)            5184      \n",
      "_________________________________________________________________\n",
      "max_pooling1d_1 (MaxPooling1 (None, 10, 64)            0         \n",
      "_________________________________________________________________\n",
      "conv1d_4 (Conv1D)            (None, 6, 64)             20544     \n",
      "_________________________________________________________________\n",
      "lstm_8 (LSTM)                (None, 32)                12416     \n",
      "_________________________________________________________________\n",
      "dense_22 (Dense)             (None, 16)                528       \n",
      "_________________________________________________________________\n",
      "dense_23 (Dense)             (None, 1)                 17        \n",
      "=================================================================\n",
      "Total params: 38,689\n",
      "Trainable params: 38,689\n",
      "Non-trainable params: 0\n",
      "_________________________________________________________________\n",
      "None\n"
     ]
    }
   ],
   "source": [
    "model = Sequential()\n",
    "#model.add(Masking(mask_value=0., input_shape=(X_train.shape[1], X_train.shape[2])))\n",
    "model.add(Conv1D(64, 5, activation='relu', input_shape=(X_train.shape[1], X_train.shape[2])))\n",
    "model.add(MaxPooling1D(3))\n",
    "model.add(Conv1D(64, 5, activation='relu'))\n",
    "model.add(LSTM(32, dropout=0.2, recurrent_dropout=0.5))\n",
    "model.add(Dense(16, activation= 'relu'))\n",
    "model.add(Dense(1, activation='sigmoid'))\n",
    "model.compile(loss='binary_crossentropy', optimizer=RMSprop(lr= 0.001, rho = 0.9), metrics=['acc'])\n",
    "print(model.summary())\n"
   ]
  },
  {
   "cell_type": "code",
   "execution_count": 164,
   "metadata": {
    "collapsed": true
   },
   "outputs": [
    {
     "name": "stdout",
     "output_type": "stream",
     "text": [
      "Train on 447638 samples, validate on 191846 samples\n",
      "Epoch 1/25\n",
      "447638/447638 [==============================] - 11s 25us/step - loss: 0.5746 - acc: 0.7051 - val_loss: 0.5174 - val_acc: 0.7453\n",
      "Epoch 2/25\n",
      "447638/447638 [==============================] - 8s 19us/step - loss: 0.5042 - acc: 0.7525 - val_loss: 0.4900 - val_acc: 0.7592\n",
      "Epoch 3/25\n",
      "447638/447638 [==============================] - 8s 19us/step - loss: 0.4832 - acc: 0.7633 - val_loss: 0.4798 - val_acc: 0.7631\n",
      "Epoch 4/25\n",
      "447638/447638 [==============================] - 8s 19us/step - loss: 0.4719 - acc: 0.7693 - val_loss: 0.4981 - val_acc: 0.7510\n",
      "Epoch 5/25\n",
      "447638/447638 [==============================] - 8s 19us/step - loss: 0.4638 - acc: 0.7728 - val_loss: 0.4628 - val_acc: 0.7717\n",
      "Epoch 6/25\n",
      "447638/447638 [==============================] - 8s 19us/step - loss: 0.4583 - acc: 0.7751 - val_loss: 0.4578 - val_acc: 0.7754\n",
      "Epoch 7/25\n",
      "447638/447638 [==============================] - 8s 19us/step - loss: 0.4545 - acc: 0.7769 - val_loss: 0.4475 - val_acc: 0.7814\n",
      "Epoch 8/25\n",
      "447638/447638 [==============================] - 8s 19us/step - loss: 0.4511 - acc: 0.7787 - val_loss: 0.4726 - val_acc: 0.7631\n",
      "Epoch 9/25\n",
      "447638/447638 [==============================] - 8s 19us/step - loss: 0.4489 - acc: 0.7800 - val_loss: 0.4646 - val_acc: 0.7694\n",
      "Epoch 10/25\n",
      "447638/447638 [==============================] - 8s 19us/step - loss: 0.4465 - acc: 0.7807 - val_loss: 0.4466 - val_acc: 0.7797\n",
      "Epoch 11/25\n",
      "447638/447638 [==============================] - 8s 19us/step - loss: 0.4454 - acc: 0.7813 - val_loss: 0.4536 - val_acc: 0.7758\n",
      "Epoch 12/25\n",
      "447638/447638 [==============================] - 8s 19us/step - loss: 0.4433 - acc: 0.7823 - val_loss: 0.4602 - val_acc: 0.7714\n",
      "Epoch 13/25\n",
      "447638/447638 [==============================] - 8s 19us/step - loss: 0.4428 - acc: 0.7826 - val_loss: 0.4605 - val_acc: 0.7779\n",
      "Epoch 14/25\n",
      "447638/447638 [==============================] - 8s 19us/step - loss: 0.4419 - acc: 0.7830 - val_loss: 0.4388 - val_acc: 0.7857\n",
      "Epoch 15/25\n",
      "447638/447638 [==============================] - 8s 19us/step - loss: 0.4410 - acc: 0.7832 - val_loss: 0.4357 - val_acc: 0.7872\n",
      "Epoch 16/25\n",
      "447638/447638 [==============================] - 8s 19us/step - loss: 0.4408 - acc: 0.7837 - val_loss: 0.4455 - val_acc: 0.7795\n",
      "Epoch 17/25\n",
      "447638/447638 [==============================] - 8s 19us/step - loss: 0.4400 - acc: 0.7843 - val_loss: 0.4435 - val_acc: 0.7809\n",
      "Epoch 18/25\n",
      "447638/447638 [==============================] - 8s 19us/step - loss: 0.4392 - acc: 0.7850 - val_loss: 0.4330 - val_acc: 0.7878\n",
      "Epoch 19/25\n",
      "447638/447638 [==============================] - 8s 19us/step - loss: 0.4388 - acc: 0.7852 - val_loss: 0.4382 - val_acc: 0.7880\n",
      "Epoch 20/25\n",
      "447638/447638 [==============================] - 9s 19us/step - loss: 0.4385 - acc: 0.7852 - val_loss: 0.4441 - val_acc: 0.7865\n",
      "Epoch 21/25\n",
      "447638/447638 [==============================] - 8s 19us/step - loss: 0.4389 - acc: 0.7858 - val_loss: 0.4416 - val_acc: 0.7847\n",
      "Epoch 22/25\n",
      "447638/447638 [==============================] - 8s 19us/step - loss: 0.4390 - acc: 0.7855 - val_loss: 0.4342 - val_acc: 0.7866\n",
      "Epoch 23/25\n",
      "447638/447638 [==============================] - 8s 19us/step - loss: 0.4379 - acc: 0.7858 - val_loss: 0.4330 - val_acc: 0.7880\n",
      "Epoch 24/25\n",
      "447638/447638 [==============================] - 8s 19us/step - loss: 0.4380 - acc: 0.7857 - val_loss: 0.4457 - val_acc: 0.7790\n",
      "Epoch 25/25\n",
      "447638/447638 [==============================] - 9s 19us/step - loss: 0.4382 - acc: 0.7859 - val_loss: 0.4445 - val_acc: 0.7851\n"
     ]
    }
   ],
   "source": [
    "history = model.fit(X_train, y_train, epochs=25, batch_size=1000, validation_data=(X_test, y_test), verbose=1, shuffle=False)"
   ]
  },
  {
   "cell_type": "code",
   "execution_count": 165,
   "metadata": {
    "collapsed": true
   },
   "outputs": [
    {
     "data": {
      "image/png": "[encoded data removed]",
      "text/plain": [
       "<Figure size 576x288 with 1 Axes>"
      ]
     },
     "metadata": {
      "needs_background": "light"
     },
     "output_type": "display_data"
    }
   ],
   "source": [
    "# plot history\n",
    "plt.figure(figsize=(8,4))\n",
    "plt.plot(history.history['acc'], label='train')\n",
    "plt.plot(history.history['val_acc'], label='test')\n",
    "plt.legend()                                       \n",
    "plt.show()"
   ]
  },
  {
   "cell_type": "code",
   "execution_count": 166,
   "metadata": {},
   "outputs": [
    {
     "name": "stdout",
     "output_type": "stream",
     "text": [
      "191846/191846 [==============================] - 30s 155us/step\n"
     ]
    }
   ],
   "source": [
    "loss, accuracy = model.evaluate(X_test, y_test, verbose=1)"
   ]
  },
  {
   "cell_type": "code",
   "execution_count": 167,
   "metadata": {},
   "outputs": [
    {
     "name": "stdout",
     "output_type": "stream",
     "text": [
      "0.7851036787033081\n"
     ]
    }
   ],
   "source": [
    "print(accuracy)"
   ]
  },
  {
   "cell_type": "code",
   "execution_count": 168,
   "metadata": {
    "collapsed": true
   },
   "outputs": [
    {
     "name": "stdout",
     "output_type": "stream",
     "text": [
      "Model: \"sequential_12\"\n",
      "_________________________________________________________________\n",
      "Layer (type)                 Output Shape              Param #   \n",
      "=================================================================\n",
      "conv1d_5 (Conv1D)            (None, 31, 128)           10368     \n",
      "_________________________________________________________________\n",
      "max_pooling1d_2 (MaxPooling1 (None, 10, 128)           0         \n",
      "_________________________________________________________________\n",
      "conv1d_6 (Conv1D)            (None, 6, 64)             41024     \n",
      "_________________________________________________________________\n",
      "lstm_9 (LSTM)                (None, 32)                12416     \n",
      "_________________________________________________________________\n",
      "dense_24 (Dense)             (None, 32)                1056      \n",
      "_________________________________________________________________\n",
      "dropout_8 (Dropout)          (None, 32)                0         \n",
      "_________________________________________________________________\n",
      "dense_25 (Dense)             (None, 16)                528       \n",
      "_________________________________________________________________\n",
      "dense_26 (Dense)             (None, 1)                 17        \n",
      "=================================================================\n",
      "Total params: 65,409\n",
      "Trainable params: 65,409\n",
      "Non-trainable params: 0\n",
      "_________________________________________________________________\n",
      "None\n"
     ]
    }
   ],
   "source": [
    "model = Sequential()\n",
    "#model.add(Masking(mask_value=0., input_shape=(X_train.shape[1], X_train.shape[2])))\n",
    "model.add(Conv1D(128, 5, activation='relu', input_shape=(X_train.shape[1], X_train.shape[2])))\n",
    "model.add(MaxPooling1D(3))\n",
    "model.add(Conv1D(64, 5, activation='relu'))\n",
    "model.add(LSTM(32))\n",
    "model.add(Dense(32, activation= 'relu'))\n",
    "model.add(Dropout(0.2))\n",
    "model.add(Dense(16, activation= 'relu'))\n",
    "model.add(Dense(1, activation='sigmoid'))\n",
    "model.compile(loss='binary_crossentropy', optimizer=RMSprop(lr= 0.001, rho = 0.9), metrics=['acc'])\n",
    "print(model.summary())\n"
   ]
  },
  {
   "cell_type": "code",
   "execution_count": 169,
   "metadata": {
    "collapsed": true
   },
   "outputs": [
    {
     "name": "stdout",
     "output_type": "stream",
     "text": [
      "Train on 447638 samples, validate on 191846 samples\n",
      "Epoch 1/25\n",
      "447638/447638 [==============================] - 10s 22us/step - loss: 0.5590 - acc: 0.7162 - val_loss: 0.5211 - val_acc: 0.7448\n",
      "Epoch 2/25\n",
      "447638/447638 [==============================] - 9s 20us/step - loss: 0.4948 - acc: 0.7562 - val_loss: 0.4795 - val_acc: 0.7612\n",
      "Epoch 3/25\n",
      "447638/447638 [==============================] - 9s 20us/step - loss: 0.4752 - acc: 0.7674 - val_loss: 0.5094 - val_acc: 0.7365\n",
      "Epoch 4/25\n",
      "447638/447638 [==============================] - 9s 20us/step - loss: 0.4630 - acc: 0.7730 - val_loss: 0.4793 - val_acc: 0.7585\n",
      "Epoch 5/25\n",
      "447638/447638 [==============================] - 9s 20us/step - loss: 0.4565 - acc: 0.7766 - val_loss: 0.4527 - val_acc: 0.7780\n",
      "Epoch 6/25\n",
      "447638/447638 [==============================] - 9s 20us/step - loss: 0.4511 - acc: 0.7789 - val_loss: 0.4800 - val_acc: 0.7564\n",
      "Epoch 7/25\n",
      "447638/447638 [==============================] - 9s 20us/step - loss: 0.4471 - acc: 0.7804 - val_loss: 0.4516 - val_acc: 0.7798\n",
      "Epoch 8/25\n",
      "447638/447638 [==============================] - 9s 20us/step - loss: 0.4450 - acc: 0.7821 - val_loss: 0.4435 - val_acc: 0.7829\n",
      "Epoch 9/25\n",
      "447638/447638 [==============================] - 9s 20us/step - loss: 0.4427 - acc: 0.7831 - val_loss: 0.4766 - val_acc: 0.7602\n",
      "Epoch 10/25\n",
      "447638/447638 [==============================] - 9s 20us/step - loss: 0.4415 - acc: 0.7837 - val_loss: 0.4427 - val_acc: 0.7848\n",
      "Epoch 11/25\n",
      "447638/447638 [==============================] - 9s 20us/step - loss: 0.4399 - acc: 0.7844 - val_loss: 0.4633 - val_acc: 0.7701\n",
      "Epoch 12/25\n",
      "447638/447638 [==============================] - 9s 20us/step - loss: 0.4387 - acc: 0.7850 - val_loss: 0.4445 - val_acc: 0.7832\n",
      "Epoch 13/25\n",
      "447638/447638 [==============================] - 9s 20us/step - loss: 0.4376 - acc: 0.7859 - val_loss: 0.4567 - val_acc: 0.7740\n",
      "Epoch 14/25\n",
      "447638/447638 [==============================] - 9s 20us/step - loss: 0.4365 - acc: 0.7863 - val_loss: 0.4498 - val_acc: 0.7785\n",
      "Epoch 15/25\n",
      "447638/447638 [==============================] - 9s 20us/step - loss: 0.4365 - acc: 0.7869 - val_loss: 0.4375 - val_acc: 0.7847\n",
      "Epoch 16/25\n",
      "447638/447638 [==============================] - 9s 20us/step - loss: 0.4356 - acc: 0.7871 - val_loss: 0.4456 - val_acc: 0.7799\n",
      "Epoch 17/25\n",
      "447638/447638 [==============================] - 9s 20us/step - loss: 0.4354 - acc: 0.7871 - val_loss: 0.4343 - val_acc: 0.7871\n",
      "Epoch 18/25\n",
      "447638/447638 [==============================] - 9s 20us/step - loss: 0.4346 - acc: 0.7874 - val_loss: 0.4428 - val_acc: 0.7825\n",
      "Epoch 19/25\n",
      "447638/447638 [==============================] - 9s 20us/step - loss: 0.4340 - acc: 0.7873 - val_loss: 0.4398 - val_acc: 0.7837\n",
      "Epoch 20/25\n",
      "447638/447638 [==============================] - 9s 20us/step - loss: 0.4331 - acc: 0.7882 - val_loss: 0.4335 - val_acc: 0.7875\n",
      "Epoch 21/25\n",
      "447638/447638 [==============================] - 9s 20us/step - loss: 0.4333 - acc: 0.7883 - val_loss: 0.4404 - val_acc: 0.7847\n",
      "Epoch 22/25\n",
      "447638/447638 [==============================] - 9s 20us/step - loss: 0.4341 - acc: 0.7881 - val_loss: 0.4396 - val_acc: 0.7843\n",
      "Epoch 23/25\n",
      "447638/447638 [==============================] - 9s 20us/step - loss: 0.4342 - acc: 0.7884 - val_loss: 0.4380 - val_acc: 0.7875\n",
      "Epoch 24/25\n",
      "447638/447638 [==============================] - 9s 20us/step - loss: 0.4340 - acc: 0.7883 - val_loss: 0.4438 - val_acc: 0.7865\n",
      "Epoch 25/25\n",
      "447638/447638 [==============================] - 9s 20us/step - loss: 0.4336 - acc: 0.7883 - val_loss: 0.4362 - val_acc: 0.7882\n"
     ]
    }
   ],
   "source": [
    "history = model.fit(X_train, y_train, epochs=25, batch_size=1000, validation_data=(X_test, y_test), verbose=1, shuffle=False)"
   ]
  },
  {
   "cell_type": "code",
   "execution_count": 171,
   "metadata": {},
   "outputs": [
    {
     "name": "stdout",
     "output_type": "stream",
     "text": [
      "191846/191846 [==============================] - 29s 153us/step\n"
     ]
    }
   ],
   "source": [
    "loss, accuracy = model.evaluate(X_test, y_test, verbose=1)"
   ]
  },
  {
   "cell_type": "code",
   "execution_count": 172,
   "metadata": {},
   "outputs": [
    {
     "name": "stdout",
     "output_type": "stream",
     "text": [
      "0.7881842851638794\n"
     ]
    }
   ],
   "source": [
    "print(accuracy)"
   ]
  },
  {
   "cell_type": "code",
   "execution_count": null,
   "metadata": {},
   "outputs": [],
   "source": []
  }
 ],
 "metadata": {
  "kernelspec": {
   "display_name": "Python 3",
   "language": "python",
   "name": "python3"
  },
  "language_info": {
   "codemirror_mode": {
    "name": "ipython",
    "version": 3
   },
   "file_extension": ".py",
   "mimetype": "text/x-python",
   "name": "python",
   "nbconvert_exporter": "python",
   "pygments_lexer": "ipython3",
   "version": "3.7.3"
  }
 },
 "nbformat": 4,
 "nbformat_minor": 2
}
