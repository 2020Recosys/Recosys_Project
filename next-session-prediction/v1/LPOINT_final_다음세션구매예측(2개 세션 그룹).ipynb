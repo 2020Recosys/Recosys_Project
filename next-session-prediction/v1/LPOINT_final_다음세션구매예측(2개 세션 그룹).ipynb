{
 "cells": [
  {
   "cell_type": "code",
   "execution_count": 1,
   "metadata": {},
   "outputs": [],
   "source": [
    "import pandas as pd\n",
    "import numpy as np\n",
    "import matplotlib.pyplot as plt\n",
    "from tqdm import tqdm_notebook\n",
    "import itertools\n",
    "from sklearn.preprocessing import StandardScaler, MinMaxScaler"
   ]
  },
  {
   "cell_type": "markdown",
   "metadata": {},
   "source": [
    "# <br>\n",
    "# 전처리"
   ]
  },
  {
   "cell_type": "code",
   "execution_count": 2,
   "metadata": {},
   "outputs": [
    {
     "name": "stderr",
     "output_type": "stream",
     "text": [
      "C:\\ProgramData\\Anaconda3\\lib\\site-packages\\IPython\\core\\interactiveshell.py:3051: DtypeWarning: Columns (9) have mixed types. Specify dtype option on import or set low_memory=False.\n",
      "  interactivity=interactivity, compiler=compiler, result=result)\n"
     ]
    },
    {
     "data": {
      "text/plain": [
       "(3196362, 14)"
      ]
     },
     "execution_count": 2,
     "metadata": {},
     "output_type": "execute_result"
    }
   ],
   "source": [
    "온라인 = pd.read_csv('제6회 L.POINT Big Data Competition-분석용데이터-01.온라인 행동 정보.csv', encoding='utf-8')\n",
    "온라인 = 온라인.sort_values(['clnt_id','sess_id','hit_seq']).reset_index(drop=True)\n",
    "온라인.shape"
   ]
  },
  {
   "cell_type": "code",
   "execution_count": 3,
   "metadata": {},
   "outputs": [
    {
     "data": {
      "text/html": [
       "<div>\n",
       "<style scoped>\n",
       "    .dataframe tbody tr th:only-of-type {\n",
       "        vertical-align: middle;\n",
       "    }\n",
       "\n",
       "    .dataframe tbody tr th {\n",
       "        vertical-align: top;\n",
       "    }\n",
       "\n",
       "    .dataframe thead th {\n",
       "        text-align: right;\n",
       "    }\n",
       "</style>\n",
       "<table border=\"1\" class=\"dataframe\">\n",
       "  <thead>\n",
       "    <tr style=\"text-align: right;\">\n",
       "      <th></th>\n",
       "      <th>clnt_id</th>\n",
       "      <th>sess_id</th>\n",
       "      <th>hit_seq</th>\n",
       "      <th>action_type</th>\n",
       "      <th>biz_unit</th>\n",
       "      <th>sess_dt</th>\n",
       "      <th>hit_tm</th>\n",
       "      <th>hit_pss_tm</th>\n",
       "      <th>trans_id</th>\n",
       "      <th>sech_kwd</th>\n",
       "      <th>tot_pag_view_ct</th>\n",
       "      <th>tot_sess_hr_v</th>\n",
       "      <th>trfc_src</th>\n",
       "      <th>dvc_ctg_nm</th>\n",
       "      <th>unique_id</th>\n",
       "    </tr>\n",
       "  </thead>\n",
       "  <tbody>\n",
       "    <tr>\n",
       "      <th>0</th>\n",
       "      <td>1</td>\n",
       "      <td>1</td>\n",
       "      <td>1</td>\n",
       "      <td>0</td>\n",
       "      <td>A01</td>\n",
       "      <td>20190911</td>\n",
       "      <td>16:14</td>\n",
       "      <td>11880</td>\n",
       "      <td>NaN</td>\n",
       "      <td>과일선물세트</td>\n",
       "      <td>14.0</td>\n",
       "      <td>124.0</td>\n",
       "      <td>unknown</td>\n",
       "      <td>mobile_app</td>\n",
       "      <td>1_1</td>\n",
       "    </tr>\n",
       "    <tr>\n",
       "      <th>1</th>\n",
       "      <td>1</td>\n",
       "      <td>1</td>\n",
       "      <td>2</td>\n",
       "      <td>0</td>\n",
       "      <td>A01</td>\n",
       "      <td>20190911</td>\n",
       "      <td>16:15</td>\n",
       "      <td>22432</td>\n",
       "      <td>NaN</td>\n",
       "      <td>과일선물세트 백화점</td>\n",
       "      <td>14.0</td>\n",
       "      <td>124.0</td>\n",
       "      <td>unknown</td>\n",
       "      <td>mobile_app</td>\n",
       "      <td>1_1</td>\n",
       "    </tr>\n",
       "    <tr>\n",
       "      <th>2</th>\n",
       "      <td>1</td>\n",
       "      <td>1</td>\n",
       "      <td>3</td>\n",
       "      <td>0</td>\n",
       "      <td>A01</td>\n",
       "      <td>20190911</td>\n",
       "      <td>16:15</td>\n",
       "      <td>36140</td>\n",
       "      <td>NaN</td>\n",
       "      <td>과일바구니</td>\n",
       "      <td>14.0</td>\n",
       "      <td>124.0</td>\n",
       "      <td>unknown</td>\n",
       "      <td>mobile_app</td>\n",
       "      <td>1_1</td>\n",
       "    </tr>\n",
       "    <tr>\n",
       "      <th>3</th>\n",
       "      <td>1</td>\n",
       "      <td>2</td>\n",
       "      <td>1</td>\n",
       "      <td>0</td>\n",
       "      <td>A01</td>\n",
       "      <td>20190922</td>\n",
       "      <td>14:09</td>\n",
       "      <td>41584</td>\n",
       "      <td>NaN</td>\n",
       "      <td>초등가을잠바</td>\n",
       "      <td>45.0</td>\n",
       "      <td>424.0</td>\n",
       "      <td>unknown</td>\n",
       "      <td>mobile_app</td>\n",
       "      <td>1_2</td>\n",
       "    </tr>\n",
       "    <tr>\n",
       "      <th>4</th>\n",
       "      <td>1</td>\n",
       "      <td>2</td>\n",
       "      <td>2</td>\n",
       "      <td>0</td>\n",
       "      <td>A01</td>\n",
       "      <td>20190922</td>\n",
       "      <td>14:10</td>\n",
       "      <td>56113</td>\n",
       "      <td>NaN</td>\n",
       "      <td>초등가을점퍼</td>\n",
       "      <td>45.0</td>\n",
       "      <td>424.0</td>\n",
       "      <td>unknown</td>\n",
       "      <td>mobile_app</td>\n",
       "      <td>1_2</td>\n",
       "    </tr>\n",
       "  </tbody>\n",
       "</table>\n",
       "</div>"
      ],
      "text/plain": [
       "   clnt_id  sess_id  hit_seq  action_type biz_unit   sess_dt hit_tm  \\\n",
       "0        1        1        1            0      A01  20190911  16:14   \n",
       "1        1        1        2            0      A01  20190911  16:15   \n",
       "2        1        1        3            0      A01  20190911  16:15   \n",
       "3        1        2        1            0      A01  20190922  14:09   \n",
       "4        1        2        2            0      A01  20190922  14:10   \n",
       "\n",
       "   hit_pss_tm  trans_id    sech_kwd  tot_pag_view_ct  tot_sess_hr_v trfc_src  \\\n",
       "0       11880       NaN      과일선물세트             14.0          124.0  unknown   \n",
       "1       22432       NaN  과일선물세트 백화점             14.0          124.0  unknown   \n",
       "2       36140       NaN       과일바구니             14.0          124.0  unknown   \n",
       "3       41584       NaN      초등가을잠바             45.0          424.0  unknown   \n",
       "4       56113       NaN      초등가을점퍼             45.0          424.0  unknown   \n",
       "\n",
       "   dvc_ctg_nm unique_id  \n",
       "0  mobile_app       1_1  \n",
       "1  mobile_app       1_1  \n",
       "2  mobile_app       1_1  \n",
       "3  mobile_app       1_2  \n",
       "4  mobile_app       1_2  "
      ]
     },
     "execution_count": 3,
     "metadata": {},
     "output_type": "execute_result"
    }
   ],
   "source": [
    "온라인['unique_id'] = list(map(lambda x,y: str(x)+'_'+str(y), 온라인.clnt_id, 온라인.sess_id))\n",
    "온라인.head()"
   ]
  },
  {
   "cell_type": "code",
   "execution_count": 4,
   "metadata": {},
   "outputs": [
    {
     "data": {
      "text/plain": [
       "(72399, 367149)"
      ]
     },
     "execution_count": 4,
     "metadata": {},
     "output_type": "execute_result"
    }
   ],
   "source": [
    "# 온라인 고객: 72,399명, 고객 및 세션: 367,149개\n",
    "온라인.clnt_id.nunique(), 온라인.unique_id.nunique()"
   ]
  },
  {
   "cell_type": "code",
   "execution_count": 5,
   "metadata": {},
   "outputs": [],
   "source": [
    "# 각 clnt_id별 session이 바뀌는 지점 index 저장\n",
    "idx1 = 온라인.unique_id.drop_duplicates().index.tolist()\n",
    "idx2 = idx1[1:] + [len(온라인)]"
   ]
  },
  {
   "cell_type": "code",
   "execution_count": 6,
   "metadata": {},
   "outputs": [
    {
     "name": "stderr",
     "output_type": "stream",
     "text": [
      "C:\\ProgramData\\Anaconda3\\lib\\site-packages\\ipykernel_launcher.py:3: TqdmDeprecationWarning: This function will be removed in tqdm==5.0.0\n",
      "Please use `tqdm.notebook.tqdm` instead of `tqdm.tqdm_notebook`\n",
      "  This is separate from the ipykernel package so we can avoid doing imports until\n"
     ]
    },
    {
     "data": {
      "application/vnd.jupyter.widget-view+json": {
       "model_id": "2cb0ae45f96d4c18ba07b3b11b54b125",
       "version_major": 2,
       "version_minor": 0
      },
      "text/plain": [
       "HBox(children=(FloatProgress(value=0.0, max=367149.0), HTML(value='')))"
      ]
     },
     "metadata": {},
     "output_type": "display_data"
    },
    {
     "name": "stdout",
     "output_type": "stream",
     "text": [
      "\n"
     ]
    }
   ],
   "source": [
    "# session별 체류시간 = 다음 hit_pss_tm - 이전 hit_pss_tm\n",
    "stay_tm = []\n",
    "for i, j in tqdm_notebook(zip(idx1, idx2), total=len(idx1)):\n",
    "    temp = 온라인.iloc[i:j].hit_pss_tm\n",
    "    if len(temp) == 1:\n",
    "        stay_tm.append(temp.tolist())\n",
    "    else:\n",
    "        temp = temp.diff().tolist()[1:]\n",
    "        temp.append(temp[-1]) # 마지막은 해당 hit_pss_tm 값 사용\n",
    "        stay_tm.append(temp)\n",
    "    #stay_tm = stay_tm + 온라인.iloc[i:j].hit_pss_tm.diff().fillna(0).tolist()"
   ]
  },
  {
   "cell_type": "code",
   "execution_count": 7,
   "metadata": {},
   "outputs": [],
   "source": [
    "#stay_tm = sum(stay_tm, []) # 시간 매우 오래걸림\n",
    "온라인['time_length'] = list(itertools.chain.from_iterable(stay_tm))"
   ]
  },
  {
   "cell_type": "code",
   "execution_count": 8,
   "metadata": {},
   "outputs": [],
   "source": [
    "# 밀리초->초 변환\n",
    "온라인['hit_pss_tm'] = np.ceil(온라인['hit_pss_tm']/1000)\n",
    "온라인['time_length'] = np.ceil(온라인['time_length']/1000)"
   ]
  },
  {
   "cell_type": "code",
   "execution_count": 9,
   "metadata": {},
   "outputs": [],
   "source": [
    "# 주말 및 공휴일 여부\n",
    "holiday_diff = []\n",
    "for i in 온라인.sess_dt.map(lambda x: str(x)[-3:]).tolist():\n",
    "    if i in (['706','707','713','714','717','720','721','727','728',\n",
    "               '803','804','810','811','815','817','818','824','825',\n",
    "               '907','908','912','913','914','915','921','922','928','929']):\n",
    "        holiday_diff.append(1)\n",
    "    else:\n",
    "        holiday_diff.append(0)\n",
    "온라인['holiday_diff'] = holiday_diff"
   ]
  },
  {
   "cell_type": "code",
   "execution_count": 10,
   "metadata": {},
   "outputs": [
    {
     "name": "stderr",
     "output_type": "stream",
     "text": [
      "C:\\ProgramData\\Anaconda3\\lib\\site-packages\\ipykernel_launcher.py:4: TqdmDeprecationWarning: This function will be removed in tqdm==5.0.0\n",
      "Please use `tqdm.notebook.tqdm` instead of `tqdm.tqdm_notebook`\n",
      "  after removing the cwd from sys.path.\n"
     ]
    },
    {
     "data": {
      "application/vnd.jupyter.widget-view+json": {
       "model_id": "6f554d65e0b843c1abc1e99b8b5c8d92",
       "version_major": 2,
       "version_minor": 0
      },
      "text/plain": [
       "HBox(children=(FloatProgress(value=0.0, max=367149.0), HTML(value='')))"
      ]
     },
     "metadata": {},
     "output_type": "display_data"
    },
    {
     "name": "stdout",
     "output_type": "stream",
     "text": [
      "\n"
     ]
    }
   ],
   "source": [
    "# keyword: session별 sech_kwd의 cumulative sum\n",
    "온라인['sech_kwd'] = 온라인.sech_kwd.map(lambda x: 0 if str(x) == 'nan' else 1)\n",
    "keyword = []\n",
    "for i, j in tqdm_notebook(zip(idx1, idx2), total=len(idx1)):\n",
    "    temp = 온라인.iloc[i:j].sech_kwd\n",
    "    keyword.append(np.cumsum(temp.tolist()))\n",
    "온라인['keyword'] = list(itertools.chain.from_iterable(keyword))"
   ]
  },
  {
   "cell_type": "code",
   "execution_count": 11,
   "metadata": {},
   "outputs": [],
   "source": [
    "온라인['sess_dt'] = 온라인['sess_dt'].map(lambda x: str(x)[:-2]) # day제거하고 month(7,8,9월)만 남김\n",
    "온라인['dvc_ctg_nm'].fillna('unknown',inplace=True) # device null값을 unknown으로 대체\n",
    "\n",
    "# dummy variable 생성 - action_type, biz_unit, sess_dt, trfc_src, dvc_ctg_nm\n",
    "온라인 = pd.concat([온라인, pd.get_dummies(온라인[['biz_unit','sess_dt','trfc_src','dvc_ctg_nm']], drop_first=True)], axis=1)\n",
    "온라인 = pd.concat([온라인, pd.get_dummies(온라인.action_type, drop_first=True, prefix='action_type')], axis=1)\n",
    "온라인 = 온라인.drop(['action_type','biz_unit','sess_dt','hit_tm','sech_kwd','tot_pag_view_ct', 'tot_sess_hr_v','trfc_src','dvc_ctg_nm'], axis=1)"
   ]
  },
  {
   "cell_type": "code",
   "execution_count": 12,
   "metadata": {},
   "outputs": [
    {
     "name": "stdout",
     "output_type": "stream",
     "text": [
      "(3196362, 29)\n"
     ]
    },
    {
     "data": {
      "text/html": [
       "<div>\n",
       "<style scoped>\n",
       "    .dataframe tbody tr th:only-of-type {\n",
       "        vertical-align: middle;\n",
       "    }\n",
       "\n",
       "    .dataframe tbody tr th {\n",
       "        vertical-align: top;\n",
       "    }\n",
       "\n",
       "    .dataframe thead th {\n",
       "        text-align: right;\n",
       "    }\n",
       "</style>\n",
       "<table border=\"1\" class=\"dataframe\">\n",
       "  <thead>\n",
       "    <tr style=\"text-align: right;\">\n",
       "      <th></th>\n",
       "      <th>clnt_id</th>\n",
       "      <th>sess_id</th>\n",
       "      <th>trans_id</th>\n",
       "      <th>hit_seq</th>\n",
       "      <th>hit_pss_tm</th>\n",
       "      <th>time_length</th>\n",
       "      <th>holiday_diff</th>\n",
       "      <th>keyword</th>\n",
       "      <th>action_type_1</th>\n",
       "      <th>action_type_2</th>\n",
       "      <th>...</th>\n",
       "      <th>trfc_src_PORTAL_1</th>\n",
       "      <th>trfc_src_PORTAL_2</th>\n",
       "      <th>trfc_src_PORTAL_3</th>\n",
       "      <th>trfc_src_PUSH</th>\n",
       "      <th>trfc_src_WEBSITE</th>\n",
       "      <th>trfc_src_unknown</th>\n",
       "      <th>dvc_ctg_nm_mobile_app</th>\n",
       "      <th>dvc_ctg_nm_mobile_web</th>\n",
       "      <th>dvc_ctg_nm_unknown</th>\n",
       "      <th>unique_id</th>\n",
       "    </tr>\n",
       "  </thead>\n",
       "  <tbody>\n",
       "    <tr>\n",
       "      <th>0</th>\n",
       "      <td>1</td>\n",
       "      <td>1</td>\n",
       "      <td>NaN</td>\n",
       "      <td>1</td>\n",
       "      <td>12.0</td>\n",
       "      <td>11.0</td>\n",
       "      <td>0</td>\n",
       "      <td>1</td>\n",
       "      <td>0</td>\n",
       "      <td>0</td>\n",
       "      <td>...</td>\n",
       "      <td>0</td>\n",
       "      <td>0</td>\n",
       "      <td>0</td>\n",
       "      <td>0</td>\n",
       "      <td>0</td>\n",
       "      <td>1</td>\n",
       "      <td>1</td>\n",
       "      <td>0</td>\n",
       "      <td>0</td>\n",
       "      <td>1_1</td>\n",
       "    </tr>\n",
       "    <tr>\n",
       "      <th>1</th>\n",
       "      <td>1</td>\n",
       "      <td>1</td>\n",
       "      <td>NaN</td>\n",
       "      <td>2</td>\n",
       "      <td>23.0</td>\n",
       "      <td>14.0</td>\n",
       "      <td>0</td>\n",
       "      <td>2</td>\n",
       "      <td>0</td>\n",
       "      <td>0</td>\n",
       "      <td>...</td>\n",
       "      <td>0</td>\n",
       "      <td>0</td>\n",
       "      <td>0</td>\n",
       "      <td>0</td>\n",
       "      <td>0</td>\n",
       "      <td>1</td>\n",
       "      <td>1</td>\n",
       "      <td>0</td>\n",
       "      <td>0</td>\n",
       "      <td>1_1</td>\n",
       "    </tr>\n",
       "    <tr>\n",
       "      <th>2</th>\n",
       "      <td>1</td>\n",
       "      <td>1</td>\n",
       "      <td>NaN</td>\n",
       "      <td>3</td>\n",
       "      <td>37.0</td>\n",
       "      <td>14.0</td>\n",
       "      <td>0</td>\n",
       "      <td>3</td>\n",
       "      <td>0</td>\n",
       "      <td>0</td>\n",
       "      <td>...</td>\n",
       "      <td>0</td>\n",
       "      <td>0</td>\n",
       "      <td>0</td>\n",
       "      <td>0</td>\n",
       "      <td>0</td>\n",
       "      <td>1</td>\n",
       "      <td>1</td>\n",
       "      <td>0</td>\n",
       "      <td>0</td>\n",
       "      <td>1_1</td>\n",
       "    </tr>\n",
       "    <tr>\n",
       "      <th>3</th>\n",
       "      <td>1</td>\n",
       "      <td>2</td>\n",
       "      <td>NaN</td>\n",
       "      <td>1</td>\n",
       "      <td>42.0</td>\n",
       "      <td>15.0</td>\n",
       "      <td>1</td>\n",
       "      <td>1</td>\n",
       "      <td>0</td>\n",
       "      <td>0</td>\n",
       "      <td>...</td>\n",
       "      <td>0</td>\n",
       "      <td>0</td>\n",
       "      <td>0</td>\n",
       "      <td>0</td>\n",
       "      <td>0</td>\n",
       "      <td>1</td>\n",
       "      <td>1</td>\n",
       "      <td>0</td>\n",
       "      <td>0</td>\n",
       "      <td>1_2</td>\n",
       "    </tr>\n",
       "    <tr>\n",
       "      <th>4</th>\n",
       "      <td>1</td>\n",
       "      <td>2</td>\n",
       "      <td>NaN</td>\n",
       "      <td>2</td>\n",
       "      <td>57.0</td>\n",
       "      <td>14.0</td>\n",
       "      <td>1</td>\n",
       "      <td>2</td>\n",
       "      <td>0</td>\n",
       "      <td>0</td>\n",
       "      <td>...</td>\n",
       "      <td>0</td>\n",
       "      <td>0</td>\n",
       "      <td>0</td>\n",
       "      <td>0</td>\n",
       "      <td>0</td>\n",
       "      <td>1</td>\n",
       "      <td>1</td>\n",
       "      <td>0</td>\n",
       "      <td>0</td>\n",
       "      <td>1_2</td>\n",
       "    </tr>\n",
       "  </tbody>\n",
       "</table>\n",
       "<p>5 rows × 29 columns</p>\n",
       "</div>"
      ],
      "text/plain": [
       "   clnt_id  sess_id  trans_id  hit_seq  hit_pss_tm  time_length  holiday_diff  \\\n",
       "0        1        1       NaN        1        12.0         11.0             0   \n",
       "1        1        1       NaN        2        23.0         14.0             0   \n",
       "2        1        1       NaN        3        37.0         14.0             0   \n",
       "3        1        2       NaN        1        42.0         15.0             1   \n",
       "4        1        2       NaN        2        57.0         14.0             1   \n",
       "\n",
       "   keyword  action_type_1  action_type_2  ...  trfc_src_PORTAL_1  \\\n",
       "0        1              0              0  ...                  0   \n",
       "1        2              0              0  ...                  0   \n",
       "2        3              0              0  ...                  0   \n",
       "3        1              0              0  ...                  0   \n",
       "4        2              0              0  ...                  0   \n",
       "\n",
       "   trfc_src_PORTAL_2  trfc_src_PORTAL_3  trfc_src_PUSH  trfc_src_WEBSITE  \\\n",
       "0                  0                  0              0                 0   \n",
       "1                  0                  0              0                 0   \n",
       "2                  0                  0              0                 0   \n",
       "3                  0                  0              0                 0   \n",
       "4                  0                  0              0                 0   \n",
       "\n",
       "   trfc_src_unknown  dvc_ctg_nm_mobile_app  dvc_ctg_nm_mobile_web  \\\n",
       "0                 1                      1                      0   \n",
       "1                 1                      1                      0   \n",
       "2                 1                      1                      0   \n",
       "3                 1                      1                      0   \n",
       "4                 1                      1                      0   \n",
       "\n",
       "   dvc_ctg_nm_unknown  unique_id  \n",
       "0                   0        1_1  \n",
       "1                   0        1_1  \n",
       "2                   0        1_1  \n",
       "3                   0        1_2  \n",
       "4                   0        1_2  \n",
       "\n",
       "[5 rows x 29 columns]"
      ]
     },
     "execution_count": 12,
     "metadata": {},
     "output_type": "execute_result"
    }
   ],
   "source": [
    "온라인 = 온라인[['clnt_id', 'sess_id', 'trans_id', 'hit_seq', 'hit_pss_tm', 'time_length', 'holiday_diff', 'keyword',\n",
    "                'action_type_1', 'action_type_2', 'action_type_3','action_type_4', 'action_type_5', 'action_type_6', 'action_type_7',\n",
    "                'biz_unit_A02', 'biz_unit_A03', 'sess_dt_201908', 'sess_dt_201909', \n",
    "                'trfc_src_PORTAL_1', 'trfc_src_PORTAL_2', 'trfc_src_PORTAL_3', 'trfc_src_PUSH', 'trfc_src_WEBSITE', 'trfc_src_unknown', \n",
    "                'dvc_ctg_nm_mobile_app','dvc_ctg_nm_mobile_web', 'dvc_ctg_nm_unknown', 'unique_id']]\n",
    "print(온라인.shape)\n",
    "온라인.head()"
   ]
  },
  {
   "cell_type": "code",
   "execution_count": null,
   "metadata": {},
   "outputs": [],
   "source": [
    "# 저장하고 가자\n",
    "온라인.to_csv('온라인_전처리_final.csv', index=False)"
   ]
  },
  {
   "cell_type": "code",
   "execution_count": null,
   "metadata": {},
   "outputs": [],
   "source": [
    "# 각 hit_seq 당 action_type이 구매완료=1, 이외=0\n",
    "온라인['buy'] = 온라인['action_type_6']\n",
    "온라인 = 온라인.drop('action_type_6', axis=1)\n",
    "print(온라인.shape)\n",
    "온라인.head()"
   ]
  },
  {
   "cell_type": "code",
   "execution_count": null,
   "metadata": {},
   "outputs": [],
   "source": [
    "#구매 세션의 비율\n",
    "온라인['buy'].value_counts()[1]/(온라인['buy'].value_counts()[0]+온라인['buy'].value_counts()[1])"
   ]
  },
  {
   "cell_type": "code",
   "execution_count": null,
   "metadata": {},
   "outputs": [],
   "source": [
    "#다음 세션의 구매를 예측하기 위한 종속변수 생성\n",
    "구매여부 = 온라인[['clnt_id', 'sess_id', 'buy']].groupby(['clnt_id', 'sess_id']).sum()\n",
    "구매여부.buy = 구매여부.buy.apply(lambda x:0 if x == 0 else 1)\n",
    "구매여부 = 구매여부.sort_index()\n",
    "구매여부 = 구매여부.reset_index()\n",
    "#각 clnt_id별로 shift로 1행씩 올림\n",
    "#구매여부.buy = 구매여부.buy.shift(-1)\n",
    "g = 구매여부.groupby('clnt_id')\n",
    "#1행씩 올리면 각 clnt_id별로 마지막 값은 다음 id의 값, 따라서 마지막 행 제거\n",
    "#구매여부.drop(g.tail(1).index,axis = 0, inplace = True)"
   ]
  },
  {
   "cell_type": "code",
   "execution_count": null,
   "metadata": {},
   "outputs": [],
   "source": [
    "구매여부"
   ]
  },
  {
   "cell_type": "code",
   "execution_count": null,
   "metadata": {},
   "outputs": [],
   "source": [
    "구매여부1 = pd.DataFrame()\n",
    "for id in tqdm_notebook(구매여부['clnt_id'].unique()):\n",
    "    temp = 구매여부[구매여부['clnt_id'] == id]\n",
    "    temp.buy = temp.buy.shift(-5)\n",
    "    temp = temp.dropna(axis = 0)\n",
    "    구매여부1 = pd.concat([구매여부1, temp])"
   ]
  },
  {
   "cell_type": "code",
   "execution_count": null,
   "metadata": {},
   "outputs": [],
   "source": [
    "온라인.drop(['buy'], axis =1, inplace= True)\n",
    "온라인 = pd.merge(온라인, 구매여부1, left_on = ['clnt_id', 'sess_id'], right_on = ['clnt_id', 'sess_id'])"
   ]
  },
  {
   "cell_type": "code",
   "execution_count": null,
   "metadata": {},
   "outputs": [],
   "source": [
    "온라인.shape"
   ]
  },
  {
   "cell_type": "code",
   "execution_count": null,
   "metadata": {},
   "outputs": [],
   "source": [
    "#windowing을 위해 세션 3개씩 하나로 묶음\n",
    "온라인1 = pd.DataFrame()\n",
    "for id in tqdm_notebook(온라인['clnt_id'].unique()):\n",
    "    temp = 온라인[온라인['clnt_id'] == id]\n",
    "    for i in range(1, temp['sess_id'].nunique()-1):\n",
    "        new_temp = temp[(temp['sess_id'] >= i) & (temp['sess_id'] <= i+1)]\n",
    "        new_temp.sess_id = i\n",
    "        new_temp.buy = list(new_temp.buy)[0]\n",
    "        온라인1= pd.concat([온라인1,new_temp])\n",
    "        "
   ]
  },
  {
   "cell_type": "code",
   "execution_count": null,
   "metadata": {},
   "outputs": [],
   "source": [
    "온라인1.shape"
   ]
  },
  {
   "cell_type": "code",
   "execution_count": null,
   "metadata": {},
   "outputs": [],
   "source": [
    "온라인1.head()"
   ]
  },
  {
   "cell_type": "code",
   "execution_count": null,
   "metadata": {},
   "outputs": [],
   "source": [
    "온라인1.to_csv('다음 세션 구매 예측_5개단위.csv', index= False)"
   ]
  },
  {
   "cell_type": "markdown",
   "metadata": {},
   "source": [
    "# <br>\n",
    "# 모델링"
   ]
  },
  {
   "cell_type": "code",
   "execution_count": null,
   "metadata": {},
   "outputs": [],
   "source": [
    "온라인 = pd.read_csv('다음 세션 구매 예측_5개단위.csv')"
   ]
  },
  {
   "cell_type": "code",
   "execution_count": null,
   "metadata": {},
   "outputs": [],
   "source": [
    "온라인.clnt_id.nunique()"
   ]
  },
  {
   "cell_type": "code",
   "execution_count": null,
   "metadata": {},
   "outputs": [],
   "source": [
    "import tensorflow as tf\n",
    "from sklearn.preprocessing import LabelEncoder\n",
    "from keras.models import Sequential\n",
    "from keras.layers import Dense\n",
    "from keras.layers import LSTM\n",
    "from keras.layers import Conv1D, MaxPooling1D\n",
    "from keras.optimizers import RMSprop\n",
    "from sklearn.model_selection import train_test_split\n",
    "from keras.preprocessing import sequence\n",
    "from keras.layers.embeddings import Embedding\n",
    "from keras.layers import Dropout\n",
    "from keras.layers import Masking\n",
    "from imblearn.over_sampling import SMOTE, ADASYN\n",
    "from imblearn.over_sampling import RandomOverSampler\n",
    "from keras.utils import to_categorical"
   ]
  },
  {
   "cell_type": "code",
   "execution_count": null,
   "metadata": {},
   "outputs": [],
   "source": [
    "import os"
   ]
  },
  {
   "cell_type": "code",
   "execution_count": null,
   "metadata": {},
   "outputs": [],
   "source": [
    "import keras.backend.tensorflow_backend as KTF\n",
    "\n",
    "os.environ[\"CUDA_VISIBLE_DEVICES\"] = \"0\"\n",
    "config = tf.compat.v1.ConfigProto()\n",
    "config.gpu_options.allow_growth=True\n",
    "session = tf.compat.v1.Session(config=config)\n",
    "\n",
    "KTF.set_session(session)"
   ]
  },
  {
   "cell_type": "code",
   "execution_count": null,
   "metadata": {},
   "outputs": [],
   "source": [
    "from keras import backend as K\n",
    "\n",
    "def recall_m(y_true, y_pred):\n",
    "        true_positives = K.sum(K.round(K.clip(y_true * y_pred, 0, 1)))\n",
    "        possible_positives = K.sum(K.round(K.clip(y_true, 0, 1)))\n",
    "        recall = true_positives / (possible_positives + K.epsilon())\n",
    "        return recall\n",
    "\n",
    "def precision_m(y_true, y_pred):\n",
    "        true_positives = K.sum(K.round(K.clip(y_true * y_pred, 0, 1)))\n",
    "        predicted_positives = K.sum(K.round(K.clip(y_pred, 0, 1)))\n",
    "        precision = true_positives / (predicted_positives + K.epsilon())\n",
    "        return precision\n",
    "\n",
    "def f1_m(y_true, y_pred):\n",
    "    precision = precision_m(y_true, y_pred)\n",
    "    recall = recall_m(y_true, y_pred)\n",
    "    return 2*((precision*recall)/(precision+recall+K.epsilon()))"
   ]
  },
  {
   "cell_type": "code",
   "execution_count": null,
   "metadata": {},
   "outputs": [],
   "source": [
    "def make_padding_and_oversample(X, Y, length=350):\n",
    "    max_len = length #np.percentile(pd.Series(idx),99)\n",
    "    X_padding = sequence.pad_sequences(X, maxlen=max_len, padding='pre', truncating='post')\n",
    "    X_padding2 = X_padding.reshape(X.shape[0], max_len* X_padding.shape[2])\n",
    "\n",
    "    smote = SMOTE(random_state=0)\n",
    "    X_resampled, Y_resampled = smote.fit_resample(X_padding2, Y)\n",
    "    X_resampled = X_resampled.reshape(X_resampled.shape[0], max_len, X_padding.shape[2])\n",
    "    return X_padding, X_resampled, Y_resampled"
   ]
  },
  {
   "cell_type": "markdown",
   "metadata": {},
   "source": [
    "## 각 session의 첫번째 구매완료 이전까지 data만 사용"
   ]
  },
  {
   "cell_type": "code",
   "execution_count": null,
   "metadata": {},
   "outputs": [],
   "source": [
    "# 고객별 세션당 구매 횟수: 0~25까지 다양함\n",
    "# 우선 첫번째 구매를 기준으로 자름\n",
    "온라인.groupby('unique_id').buy.sum().value_counts()"
   ]
  },
  {
   "cell_type": "code",
   "execution_count": null,
   "metadata": {},
   "outputs": [],
   "source": [
    "idx3 = []\n",
    "for i, j in tqdm_notebook(zip(idx1, idx2), total=len(idx1)):\n",
    "    temp = 온라인.buy.iloc[i:j]\n",
    "    try:\n",
    "        idx3.append(temp[temp == 1].index[0])\n",
    "    except:\n",
    "        idx3.append(j)"
   ]
  },
  {
   "cell_type": "code",
   "execution_count": null,
   "metadata": {},
   "outputs": [],
   "source": [
    "# (session, sequence, variables) 3d array 변환\n",
    "온라인_x = []\n",
    "for i, j in tqdm_notebook(zip(idx1, idx3), total=len(idx1)):\n",
    "    온라인_x.append(온라인.iloc[i:j, 3:-2].values)\n",
    "    \n",
    "#scaler = StandardScaler() \n",
    "#scaler = MinMaxScaler(feature_range=(0, 1))\n",
    "#온라인_x = scaler.fit_transform(np.array(온라인_x))\n",
    "온라인_x = np.array(온라인_x)"
   ]
  },
  {
   "cell_type": "code",
   "execution_count": null,
   "metadata": {},
   "outputs": [],
   "source": [
    "# session 당 구매 여부\n",
    "온라인_y = []\n",
    "for i,j in tqdm_notebook(zip(idx1,idx2), total=len(idx1)):\n",
    "    온라인_y.append([int(온라인.buy.iloc[i:j].sum()>0)])"
   ]
  },
  {
   "cell_type": "code",
   "execution_count": null,
   "metadata": {},
   "outputs": [],
   "source": [
    "len(온라인_y)"
   ]
  },
  {
   "cell_type": "code",
   "execution_count": null,
   "metadata": {},
   "outputs": [],
   "source": [
    "# 구매완료한 session이 전체의 약 13%\n",
    "#pd.Series(온라인_y).value_counts()*100/온라인.unique_id.nunique()"
   ]
  },
  {
   "cell_type": "code",
   "execution_count": null,
   "metadata": {},
   "outputs": [],
   "source": [
    "idx = list(pd.Series(idx2) - pd.Series(idx1))\n",
    "np.percentile(pd.Series(idx),99)"
   ]
  },
  {
   "cell_type": "code",
   "execution_count": null,
   "metadata": {},
   "outputs": [],
   "source": [
    "idx = list(pd.Series(idx3) - pd.Series(idx1))\n",
    "np.percentile(pd.Series(idx),99)"
   ]
  },
  {
   "cell_type": "code",
   "execution_count": null,
   "metadata": {},
   "outputs": [],
   "source": [
    "X_padded, X_resampled, Y_resampled = make_padding_and_oversample(온라인_x, 온라인_y, length=140)\n",
    "X_train, X_test, y_train, y_test = train_test_split(X_resampled, Y_resampled, test_size=0.3, random_state=42)\n",
    "X_train.shape, X_test.shape, y_train.shape, y_test.shape"
   ]
  },
  {
   "cell_type": "code",
   "execution_count": 42,
   "metadata": {},
   "outputs": [],
   "source": [
    "def models(train):\n",
    "    model = Sequential()\n",
    "    model.add(Masking(mask_value=0., input_shape=(train.shape[1], train.shape[2])))\n",
    "    model.add(LSTM(64,input_shape = (train.shape[1], train.shape[2])))\n",
    "    model.add(Dense(32, activation= 'relu'))\n",
    "    model.add(Dropout(0.2))\n",
    "    model.add(Dense(16, activation= 'relu'))\n",
    "    model.add(Dense(1, activation='sigmoid'))\n",
    "    model.compile(loss='binary_crossentropy', optimizer=RMSprop(lr= 0.001, rho = 0.9), metrics=['acc',f1_m,precision_m, recall_m])\n",
    "    return model"
   ]
  },
  {
   "cell_type": "code",
   "execution_count": 43,
   "metadata": {},
   "outputs": [
    {
     "name": "stdout",
     "output_type": "stream",
     "text": [
      "WARNING:tensorflow:From C:\\ProgramData\\Anaconda3\\lib\\site-packages\\tensorflow\\python\\keras\\backend.py:3794: add_dispatch_support.<locals>.wrapper (from tensorflow.python.ops.array_ops) is deprecated and will be removed in a future version.\n",
      "Instructions for updating:\n",
      "Use tf.where in 2.0, which has the same broadcast rule as np.where\n",
      "Model: \"sequential_1\"\n",
      "_________________________________________________________________\n",
      "Layer (type)                 Output Shape              Param #   \n",
      "=================================================================\n",
      "masking_1 (Masking)          (None, 350, 24)           0         \n",
      "_________________________________________________________________\n",
      "lstm_1 (LSTM)                (None, 64)                22784     \n",
      "_________________________________________________________________\n",
      "dense_1 (Dense)              (None, 32)                2080      \n",
      "_________________________________________________________________\n",
      "dropout_1 (Dropout)          (None, 32)                0         \n",
      "_________________________________________________________________\n",
      "dense_2 (Dense)              (None, 16)                528       \n",
      "_________________________________________________________________\n",
      "dense_3 (Dense)              (None, 1)                 17        \n",
      "=================================================================\n",
      "Total params: 25,409\n",
      "Trainable params: 25,409\n",
      "Non-trainable params: 0\n",
      "_________________________________________________________________\n"
     ]
    }
   ],
   "source": [
    "model = models(X_train)\n",
    "model.summary()"
   ]
  },
  {
   "cell_type": "code",
   "execution_count": 44,
   "metadata": {
    "scrolled": true
   },
   "outputs": [
    {
     "name": "stdout",
     "output_type": "stream",
     "text": [
      "WARNING:tensorflow:From C:\\ProgramData\\Anaconda3\\lib\\site-packages\\keras\\backend\\tensorflow_backend.py:422: The name tf.global_variables is deprecated. Please use tf.compat.v1.global_variables instead.\n",
      "\n",
      "Train on 430386 samples, validate on 184452 samples\n",
      "Epoch 1/25\n",
      " - 335s - loss: 0.3067 - acc: 0.9444 - f1_m: 0.9389 - precision_m: 0.9834 - recall_m: 0.8993 - val_loss: 0.1229 - val_acc: 0.9614 - val_f1_m: 0.9601 - val_precision_m: 0.9945 - val_recall_m: 0.9281\n",
      "Epoch 2/25\n",
      " - 244s - loss: 0.1254 - acc: 0.9604 - f1_m: 0.9592 - precision_m: 0.9902 - recall_m: 0.9304 - val_loss: 0.1058 - val_acc: 0.9647 - val_f1_m: 0.9636 - val_precision_m: 0.9977 - val_recall_m: 0.9318\n",
      "Epoch 3/25\n",
      " - 222s - loss: 0.1116 - acc: 0.9645 - f1_m: 0.9634 - precision_m: 0.9913 - recall_m: 0.9373 - val_loss: 0.1157 - val_acc: 0.9642 - val_f1_m: 0.9638 - val_precision_m: 0.9753 - val_recall_m: 0.9527\n",
      "Epoch 4/25\n",
      " - 221s - loss: 0.1038 - acc: 0.9668 - f1_m: 0.9659 - precision_m: 0.9918 - recall_m: 0.9417 - val_loss: 0.1012 - val_acc: 0.9713 - val_f1_m: 0.9710 - val_precision_m: 0.9832 - val_recall_m: 0.9592\n",
      "Epoch 5/25\n",
      " - 221s - loss: 0.1001 - acc: 0.9679 - f1_m: 0.9671 - precision_m: 0.9908 - recall_m: 0.9447 - val_loss: 0.0959 - val_acc: 0.9682 - val_f1_m: 0.9678 - val_precision_m: 0.9807 - val_recall_m: 0.9553\n",
      "Epoch 6/25\n",
      " - 221s - loss: 0.0961 - acc: 0.9690 - f1_m: 0.9682 - precision_m: 0.9917 - recall_m: 0.9462 - val_loss: 0.0851 - val_acc: 0.9719 - val_f1_m: 0.9712 - val_precision_m: 0.9966 - val_recall_m: 0.9472\n",
      "Epoch 7/25\n",
      " - 221s - loss: 0.0925 - acc: 0.9698 - f1_m: 0.9691 - precision_m: 0.9919 - recall_m: 0.9476 - val_loss: 0.0823 - val_acc: 0.9732 - val_f1_m: 0.9725 - val_precision_m: 0.9973 - val_recall_m: 0.9489\n",
      "Epoch 8/25\n",
      " - 221s - loss: 0.0899 - acc: 0.9707 - f1_m: 0.9700 - precision_m: 0.9922 - recall_m: 0.9491 - val_loss: 0.0810 - val_acc: 0.9743 - val_f1_m: 0.9737 - val_precision_m: 0.9963 - val_recall_m: 0.9521\n",
      "Epoch 9/25\n",
      " - 221s - loss: 0.0866 - acc: 0.9718 - f1_m: 0.9712 - precision_m: 0.9926 - recall_m: 0.9509 - val_loss: 0.0772 - val_acc: 0.9743 - val_f1_m: 0.9737 - val_precision_m: 0.9965 - val_recall_m: 0.9520\n",
      "Epoch 10/25\n",
      " - 222s - loss: 0.0848 - acc: 0.9721 - f1_m: 0.9715 - precision_m: 0.9924 - recall_m: 0.9518 - val_loss: 0.0885 - val_acc: 0.9708 - val_f1_m: 0.9700 - val_precision_m: 0.9994 - val_recall_m: 0.9423\n",
      "Epoch 11/25\n",
      " - 221s - loss: 0.0821 - acc: 0.9728 - f1_m: 0.9723 - precision_m: 0.9927 - recall_m: 0.9530 - val_loss: 0.0710 - val_acc: 0.9754 - val_f1_m: 0.9749 - val_precision_m: 0.9980 - val_recall_m: 0.9528\n",
      "Epoch 12/25\n",
      " - 221s - loss: 0.0805 - acc: 0.9729 - f1_m: 0.9723 - precision_m: 0.9927 - recall_m: 0.9531 - val_loss: 0.0917 - val_acc: 0.9669 - val_f1_m: 0.9667 - val_precision_m: 0.9730 - val_recall_m: 0.9606\n",
      "Epoch 13/25\n",
      " - 221s - loss: 0.0785 - acc: 0.9736 - f1_m: 0.9730 - precision_m: 0.9932 - recall_m: 0.9538 - val_loss: 0.0683 - val_acc: 0.9759 - val_f1_m: 0.9754 - val_precision_m: 0.9974 - val_recall_m: 0.9544\n",
      "Epoch 14/25\n",
      " - 221s - loss: 0.0778 - acc: 0.9735 - f1_m: 0.9730 - precision_m: 0.9927 - recall_m: 0.9544 - val_loss: 0.0829 - val_acc: 0.9713 - val_f1_m: 0.9711 - val_precision_m: 0.9784 - val_recall_m: 0.9641\n",
      "Epoch 15/25\n",
      " - 222s - loss: 0.0760 - acc: 0.9741 - f1_m: 0.9735 - precision_m: 0.9932 - recall_m: 0.9548 - val_loss: 0.0987 - val_acc: 0.9600 - val_f1_m: 0.9604 - val_precision_m: 0.9525 - val_recall_m: 0.9685\n",
      "Epoch 16/25\n",
      " - 220s - loss: 0.0748 - acc: 0.9746 - f1_m: 0.9741 - precision_m: 0.9936 - recall_m: 0.9556 - val_loss: 0.0642 - val_acc: 0.9780 - val_f1_m: 0.9776 - val_precision_m: 0.9958 - val_recall_m: 0.9601\n",
      "Epoch 17/25\n",
      " - 224s - loss: 0.0735 - acc: 0.9748 - f1_m: 0.9742 - precision_m: 0.9934 - recall_m: 0.9560 - val_loss: 0.0684 - val_acc: 0.9762 - val_f1_m: 0.9757 - val_precision_m: 0.9973 - val_recall_m: 0.9550\n",
      "Epoch 18/25\n",
      " - 225s - loss: 0.0734 - acc: 0.9746 - f1_m: 0.9741 - precision_m: 0.9929 - recall_m: 0.9562 - val_loss: 0.0699 - val_acc: 0.9757 - val_f1_m: 0.9752 - val_precision_m: 0.9970 - val_recall_m: 0.9544\n",
      "Epoch 19/25\n",
      " - 220s - loss: 0.0719 - acc: 0.9750 - f1_m: 0.9745 - precision_m: 0.9931 - recall_m: 0.9568 - val_loss: 0.0653 - val_acc: 0.9767 - val_f1_m: 0.9763 - val_precision_m: 0.9959 - val_recall_m: 0.9575\n",
      "Epoch 20/25\n",
      " - 221s - loss: 0.0721 - acc: 0.9750 - f1_m: 0.9745 - precision_m: 0.9931 - recall_m: 0.9568 - val_loss: 0.0700 - val_acc: 0.9748 - val_f1_m: 0.9742 - val_precision_m: 0.9970 - val_recall_m: 0.9525\n",
      "Epoch 21/25\n",
      " - 221s - loss: 0.0694 - acc: 0.9759 - f1_m: 0.9754 - precision_m: 0.9935 - recall_m: 0.9581 - val_loss: 0.0689 - val_acc: 0.9740 - val_f1_m: 0.9733 - val_precision_m: 0.9989 - val_recall_m: 0.9491\n",
      "Epoch 22/25\n",
      " - 221s - loss: 0.0699 - acc: 0.9754 - f1_m: 0.9749 - precision_m: 0.9933 - recall_m: 0.9574 - val_loss: 0.0720 - val_acc: 0.9759 - val_f1_m: 0.9755 - val_precision_m: 0.9962 - val_recall_m: 0.9556\n",
      "Epoch 23/25\n",
      " - 221s - loss: 0.0701 - acc: 0.9754 - f1_m: 0.9749 - precision_m: 0.9932 - recall_m: 0.9575 - val_loss: 0.0667 - val_acc: 0.9770 - val_f1_m: 0.9768 - val_precision_m: 0.9862 - val_recall_m: 0.9676\n",
      "Epoch 24/25\n",
      " - 220s - loss: 0.0693 - acc: 0.9756 - f1_m: 0.9752 - precision_m: 0.9934 - recall_m: 0.9577 - val_loss: 0.0664 - val_acc: 0.9768 - val_f1_m: 0.9764 - val_precision_m: 0.9958 - val_recall_m: 0.9577\n",
      "Epoch 25/25\n",
      " - 221s - loss: 0.0685 - acc: 0.9758 - f1_m: 0.9753 - precision_m: 0.9933 - recall_m: 0.9582 - val_loss: 0.0658 - val_acc: 0.9771 - val_f1_m: 0.9766 - val_precision_m: 0.9964 - val_recall_m: 0.9577\n"
     ]
    }
   ],
   "source": [
    "history = model.fit(X_train, y_train, epochs=25, batch_size=1000, validation_data=(X_test, y_test), verbose=2, shuffle=True)"
   ]
  },
  {
   "cell_type": "code",
   "execution_count": 45,
   "metadata": {},
   "outputs": [
    {
     "data": {
      "image/png": "[encoded data removed]",
      "text/plain": [
       "<Figure size 576x288 with 1 Axes>"
      ]
     },
     "metadata": {
      "needs_background": "light"
     },
     "output_type": "display_data"
    }
   ],
   "source": [
    "# plot history\n",
    "plt.figure(figsize=(8,4))\n",
    "plt.plot(history.history['acc'], label='train')\n",
    "plt.plot(history.history['val_acc'], label='test')\n",
    "plt.legend()\n",
    "plt.show()"
   ]
  },
  {
   "cell_type": "code",
   "execution_count": 46,
   "metadata": {},
   "outputs": [
    {
     "name": "stdout",
     "output_type": "stream",
     "text": [
      "184452/184452 [==============================] - 1026s 6ms/step\n"
     ]
    }
   ],
   "source": [
    "loss, accuracy, f1_score, precision, recall = model.evaluate(X_test, y_test, verbose=1)"
   ]
  },
  {
   "cell_type": "code",
   "execution_count": 47,
   "metadata": {},
   "outputs": [
    {
     "name": "stdout",
     "output_type": "stream",
     "text": [
      "0.9770888686180115\n"
     ]
    }
   ],
   "source": [
    "print(accuracy)"
   ]
  },
  {
   "cell_type": "markdown",
   "metadata": {},
   "source": [
    "## 구매완료 이전의 hit_seq를 버림\n",
    "### 각 sequence length의 0.25-0.75배 random값"
   ]
  },
  {
   "cell_type": "code",
   "execution_count": 40,
   "metadata": {},
   "outputs": [],
   "source": [
    "import random\n",
    "remove_ratio = pd.Series([random.random() for i in range(len(온라인_x))]) + 0.5\n",
    "seq_length = pd.Series(온라인_x).map(lambda x: len(x))\n",
    "remove_seq_length = np.floor(remove_ratio*seq_length)/2 # 각 session에서 버릴 seq 개수"
   ]
  },
  {
   "cell_type": "code",
   "execution_count": 41,
   "metadata": {},
   "outputs": [],
   "source": [
    "온라인_x2 = list(map(lambda x,y: x[:-y] if y !=0 else x, \n",
    "                     pd.Series(온라인_x), \n",
    "                     remove_seq_length.astype(int)))"
   ]
  },
  {
   "cell_type": "code",
   "execution_count": 42,
   "metadata": {},
   "outputs": [
    {
     "data": {
      "text/plain": [
       "28.0"
      ]
     },
     "execution_count": 42,
     "metadata": {},
     "output_type": "execute_result"
    }
   ],
   "source": [
    "seq_length2 = pd.Series(온라인_x2).map(lambda x: len(x))\n",
    "max_len = np.percentile(seq_length2, 99)\n",
    "max_len"
   ]
  },
  {
   "cell_type": "code",
   "execution_count": 51,
   "metadata": {},
   "outputs": [
    {
     "name": "stderr",
     "output_type": "stream",
     "text": [
      "C:\\ProgramData\\Anaconda3\\lib\\site-packages\\sklearn\\utils\\validation.py:760: DataConversionWarning: A column-vector y was passed when a 1d array was expected. Please change the shape of y to (n_samples, ), for example using ravel().\n",
      "  y = column_or_1d(y, warn=True)\n",
      "C:\\ProgramData\\Anaconda3\\lib\\site-packages\\sklearn\\utils\\deprecation.py:87: FutureWarning: Function safe_indexing is deprecated; safe_indexing is deprecated in version 0.22 and will be removed in version 0.24.\n",
      "  warnings.warn(msg, category=FutureWarning)\n"
     ]
    },
    {
     "data": {
      "text/plain": [
       "(410033, 28, 24)"
      ]
     },
     "execution_count": 51,
     "metadata": {},
     "output_type": "execute_result"
    }
   ],
   "source": [
    "X_padded, X_resampled, Y_resampled = make_padding_and_oversample(np.array(온라인_x2), 온라인_y, length=int(max_len))\n",
    "X_train, X_test, y_train, y_test = train_test_split(X_resampled, Y_resampled, test_size=0.3, random_state=42)\n",
    "X_train.shape"
   ]
  },
  {
   "cell_type": "code",
   "execution_count": 52,
   "metadata": {
    "scrolled": true
   },
   "outputs": [],
   "source": [
    "model = models(X_train)\n",
    "# model.summary()"
   ]
  },
  {
   "cell_type": "code",
   "execution_count": 53,
   "metadata": {
    "scrolled": true
   },
   "outputs": [
    {
     "name": "stdout",
     "output_type": "stream",
     "text": [
      "Train on 410033 samples, validate on 175729 samples\n",
      "Epoch 1/25\n",
      "410033/410033 [==============================] - 22s 53us/step - loss: 0.4995 - acc: 0.7966 - f1_m: 0.7955 - precision_m: 0.7957 - recall_m: 0.7978 - val_loss: 0.4457 - val_acc: 0.8159 - val_f1_m: 0.8171 - val_precision_m: 0.8130 - val_recall_m: 0.8216\n",
      "Epoch 2/25\n",
      "410033/410033 [==============================] - 21s 51us/step - loss: 0.4397 - acc: 0.8236 - f1_m: 0.8277 - precision_m: 0.8096 - recall_m: 0.8488 - val_loss: 0.4180 - val_acc: 0.8307 - val_f1_m: 0.8317 - val_precision_m: 0.8280 - val_recall_m: 0.8358\n",
      "Epoch 3/25\n",
      "410033/410033 [==============================] - 21s 51us/step - loss: 0.4266 - acc: 0.8315 - f1_m: 0.8362 - precision_m: 0.8142 - recall_m: 0.8615 - val_loss: 0.4098 - val_acc: 0.8401 - val_f1_m: 0.8483 - val_precision_m: 0.8080 - val_recall_m: 0.8932\n",
      "Epoch 4/25\n",
      "410033/410033 [==============================] - 21s 52us/step - loss: 0.4171 - acc: 0.8361 - f1_m: 0.8408 - precision_m: 0.8172 - recall_m: 0.8674 - val_loss: 0.9066 - val_acc: 0.6759 - val_f1_m: 0.7474 - val_precision_m: 0.6130 - val_recall_m: 0.9578\n",
      "Epoch 5/25\n",
      "410033/410033 [==============================] - 21s 51us/step - loss: 0.4123 - acc: 0.8387 - f1_m: 0.8439 - precision_m: 0.8187 - recall_m: 0.8721 - val_loss: 0.4182 - val_acc: 0.8351 - val_f1_m: 0.8364 - val_precision_m: 0.8312 - val_recall_m: 0.8419\n",
      "Epoch 6/25\n",
      "410033/410033 [==============================] - 21s 51us/step - loss: 0.4066 - acc: 0.8410 - f1_m: 0.8460 - precision_m: 0.8203 - recall_m: 0.8749 - val_loss: 0.4136 - val_acc: 0.8373 - val_f1_m: 0.8389 - val_precision_m: 0.8317 - val_recall_m: 0.8466\n",
      "Epoch 7/25\n",
      "410033/410033 [==============================] - 21s 51us/step - loss: 0.4032 - acc: 0.8429 - f1_m: 0.8480 - precision_m: 0.8212 - recall_m: 0.8777 - val_loss: 0.4259 - val_acc: 0.8310 - val_f1_m: 0.8317 - val_precision_m: 0.8295 - val_recall_m: 0.8341\n",
      "Epoch 8/25\n",
      "410033/410033 [==============================] - 21s 51us/step - loss: 0.4004 - acc: 0.8446 - f1_m: 0.8495 - precision_m: 0.8217 - recall_m: 0.8804 - val_loss: 0.4632 - val_acc: 0.8191 - val_f1_m: 0.8370 - val_precision_m: 0.7624 - val_recall_m: 0.9282\n",
      "Epoch 9/25\n",
      "410033/410033 [==============================] - 21s 51us/step - loss: 0.3987 - acc: 0.8450 - f1_m: 0.8501 - precision_m: 0.8219 - recall_m: 0.8816 - val_loss: 0.4033 - val_acc: 0.8441 - val_f1_m: 0.8472 - val_precision_m: 0.8319 - val_recall_m: 0.8633\n",
      "Epoch 10/25\n",
      "410033/410033 [==============================] - 21s 51us/step - loss: 0.3947 - acc: 0.8467 - f1_m: 0.8518 - precision_m: 0.8228 - recall_m: 0.8840 - val_loss: 0.4376 - val_acc: 0.8107 - val_f1_m: 0.8306 - val_precision_m: 0.7524 - val_recall_m: 0.9273\n",
      "Epoch 11/25\n",
      "410033/410033 [==============================] - 21s 51us/step - loss: 0.3937 - acc: 0.8472 - f1_m: 0.8527 - precision_m: 0.8232 - recall_m: 0.8855 - val_loss: 0.3888 - val_acc: 0.8488 - val_f1_m: 0.8534 - val_precision_m: 0.8292 - val_recall_m: 0.8792\n",
      "Epoch 12/25\n",
      "410033/410033 [==============================] - 21s 51us/step - loss: 0.3932 - acc: 0.8477 - f1_m: 0.8530 - precision_m: 0.8230 - recall_m: 0.8865 - val_loss: 0.3829 - val_acc: 0.8571 - val_f1_m: 0.8622 - val_precision_m: 0.8336 - val_recall_m: 0.8932\n",
      "Epoch 13/25\n",
      "410033/410033 [==============================] - 21s 51us/step - loss: 0.3909 - acc: 0.8489 - f1_m: 0.8543 - precision_m: 0.8243 - recall_m: 0.8875 - val_loss: 0.5407 - val_acc: 0.7765 - val_f1_m: 0.8075 - val_precision_m: 0.7099 - val_recall_m: 0.9365\n",
      "Epoch 14/25\n",
      "410033/410033 [==============================] - 21s 51us/step - loss: 0.3913 - acc: 0.8486 - f1_m: 0.8540 - precision_m: 0.8235 - recall_m: 0.8878 - val_loss: 0.3735 - val_acc: 0.8575 - val_f1_m: 0.8635 - val_precision_m: 0.8298 - val_recall_m: 0.9004\n",
      "Epoch 15/25\n",
      "410033/410033 [==============================] - 21s 51us/step - loss: 0.3890 - acc: 0.8496 - f1_m: 0.8551 - precision_m: 0.8235 - recall_m: 0.8902 - val_loss: 0.4149 - val_acc: 0.8382 - val_f1_m: 0.8400 - val_precision_m: 0.8318 - val_recall_m: 0.8488\n",
      "Epoch 16/25\n",
      "410033/410033 [==============================] - 21s 51us/step - loss: 0.3870 - acc: 0.8509 - f1_m: 0.8563 - precision_m: 0.8256 - recall_m: 0.8902 - val_loss: 0.3848 - val_acc: 0.8515 - val_f1_m: 0.8554 - val_precision_m: 0.8344 - val_recall_m: 0.8778\n",
      "Epoch 17/25\n",
      "410033/410033 [==============================] - 21s 52us/step - loss: 0.3864 - acc: 0.8509 - f1_m: 0.8566 - precision_m: 0.8246 - recall_m: 0.8921 - val_loss: 0.3925 - val_acc: 0.8468 - val_f1_m: 0.8504 - val_precision_m: 0.8322 - val_recall_m: 0.8697\n",
      "Epoch 18/25\n",
      "410033/410033 [==============================] - 21s 51us/step - loss: 0.3848 - acc: 0.8516 - f1_m: 0.8570 - precision_m: 0.8263 - recall_m: 0.8910 - val_loss: 0.3797 - val_acc: 0.8552 - val_f1_m: 0.8618 - val_precision_m: 0.8255 - val_recall_m: 0.9016\n",
      "Epoch 19/25\n",
      "410033/410033 [==============================] - 21s 51us/step - loss: 0.3854 - acc: 0.8513 - f1_m: 0.8570 - precision_m: 0.8251 - recall_m: 0.8922 - val_loss: 0.3917 - val_acc: 0.8459 - val_f1_m: 0.8562 - val_precision_m: 0.8034 - val_recall_m: 0.9166\n",
      "Epoch 20/25\n",
      "410033/410033 [==============================] - 21s 52us/step - loss: 0.3836 - acc: 0.8523 - f1_m: 0.8580 - precision_m: 0.8260 - recall_m: 0.8931 - val_loss: 0.4187 - val_acc: 0.8375 - val_f1_m: 0.8499 - val_precision_m: 0.7905 - val_recall_m: 0.9192\n",
      "Epoch 21/25\n",
      "410033/410033 [==============================] - 21s 51us/step - loss: 0.3837 - acc: 0.8520 - f1_m: 0.8578 - precision_m: 0.8252 - recall_m: 0.8939 - val_loss: 0.4226 - val_acc: 0.8335 - val_f1_m: 0.8346 - val_precision_m: 0.8303 - val_recall_m: 0.8392\n",
      "Epoch 22/25\n",
      "410033/410033 [==============================] - 21s 51us/step - loss: 0.3831 - acc: 0.8526 - f1_m: 0.8583 - precision_m: 0.8256 - recall_m: 0.8945 - val_loss: 0.4346 - val_acc: 0.8266 - val_f1_m: 0.8425 - val_precision_m: 0.7725 - val_recall_m: 0.9269\n",
      "Epoch 23/25\n",
      "410033/410033 [==============================] - 21s 52us/step - loss: 0.3811 - acc: 0.8535 - f1_m: 0.8592 - precision_m: 0.8261 - recall_m: 0.8956 - val_loss: 0.3819 - val_acc: 0.8555 - val_f1_m: 0.8636 - val_precision_m: 0.8187 - val_recall_m: 0.9139\n",
      "Epoch 24/25\n",
      "410033/410033 [==============================] - 21s 51us/step - loss: 0.3804 - acc: 0.8537 - f1_m: 0.8593 - precision_m: 0.8264 - recall_m: 0.8957 - val_loss: 0.3822 - val_acc: 0.8544 - val_f1_m: 0.8592 - val_precision_m: 0.8326 - val_recall_m: 0.8879\n",
      "Epoch 25/25\n",
      "410033/410033 [==============================] - 21s 51us/step - loss: 0.3802 - acc: 0.8535 - f1_m: 0.8590 - precision_m: 0.8261 - recall_m: 0.8952 - val_loss: 0.4012 - val_acc: 0.8398 - val_f1_m: 0.8418 - val_precision_m: 0.8322 - val_recall_m: 0.8519\n"
     ]
    }
   ],
   "source": [
    "history = model.fit(X_train, y_train, epochs=25, batch_size=1000, validation_data=(X_test, y_test), verbose=1, shuffle=True)"
   ]
  },
  {
   "cell_type": "code",
   "execution_count": 54,
   "metadata": {},
   "outputs": [
    {
     "data": {
      "image/png": "[encoded data removed]",
      "text/plain": [
       "<Figure size 576x288 with 1 Axes>"
      ]
     },
     "metadata": {
      "needs_background": "light"
     },
     "output_type": "display_data"
    }
   ],
   "source": [
    "# plot history\n",
    "plt.figure(figsize=(8,4))\n",
    "plt.plot(history.history['acc'], label='train')\n",
    "plt.plot(history.history['val_acc'], label='test')\n",
    "plt.legend()                                       \n",
    "plt.show()"
   ]
  },
  {
   "cell_type": "code",
   "execution_count": 55,
   "metadata": {},
   "outputs": [
    {
     "name": "stdout",
     "output_type": "stream",
     "text": [
      "175729/175729 [==============================] - 107s 607us/step\n"
     ]
    }
   ],
   "source": [
    "loss, accuracy, f1_score, precision, recall = model.evaluate(X_test, y_test, verbose=1)"
   ]
  },
  {
   "cell_type": "code",
   "execution_count": 56,
   "metadata": {},
   "outputs": [
    {
     "name": "stdout",
     "output_type": "stream",
     "text": [
      "0.8397646546363831\n"
     ]
    }
   ],
   "source": [
    "print(accuracy)"
   ]
  },
  {
   "cell_type": "markdown",
   "metadata": {},
   "source": [
    "### 각 sequence length의 0.5-0.75배 random값"
   ]
  },
  {
   "cell_type": "code",
   "execution_count": 57,
   "metadata": {},
   "outputs": [
    {
     "data": {
      "text/plain": [
       "20.0"
      ]
     },
     "execution_count": 57,
     "metadata": {},
     "output_type": "execute_result"
    }
   ],
   "source": [
    "remove_ratio = pd.Series([random.random() for i in range(len(온라인_x))]) + 2\n",
    "remove_seq_length = np.floor(remove_ratio*seq_length)/4\n",
    "\n",
    "온라인_x2 = list(map(lambda x,y: x[:-y] if y !=0 else x, \n",
    "                     pd.Series(온라인_x), \n",
    "                     remove_seq_length.astype(int)))\n",
    "\n",
    "seq_length2 = pd.Series(온라인_x2).map(lambda x: len(x))\n",
    "max_len = np.percentile(seq_length2,99)\n",
    "max_len"
   ]
  },
  {
   "cell_type": "code",
   "execution_count": 58,
   "metadata": {},
   "outputs": [
    {
     "name": "stderr",
     "output_type": "stream",
     "text": [
      "C:\\ProgramData\\Anaconda3\\lib\\site-packages\\sklearn\\utils\\validation.py:760: DataConversionWarning: A column-vector y was passed when a 1d array was expected. Please change the shape of y to (n_samples, ), for example using ravel().\n",
      "  y = column_or_1d(y, warn=True)\n",
      "C:\\ProgramData\\Anaconda3\\lib\\site-packages\\sklearn\\utils\\deprecation.py:87: FutureWarning: Function safe_indexing is deprecated; safe_indexing is deprecated in version 0.22 and will be removed in version 0.24.\n",
      "  warnings.warn(msg, category=FutureWarning)\n"
     ]
    },
    {
     "data": {
      "text/plain": [
       "(410033, 20, 24)"
      ]
     },
     "execution_count": 58,
     "metadata": {},
     "output_type": "execute_result"
    }
   ],
   "source": [
    "X_padded, X_resampled, Y_resampled = make_padding_and_oversample(np.array(온라인_x2), 온라인_y,length = int(max_len))\n",
    "X_train, X_test, y_train, y_test = train_test_split(X_resampled, Y_resampled, test_size=0.3, random_state=42)\n",
    "X_train.shape"
   ]
  },
  {
   "cell_type": "code",
   "execution_count": 59,
   "metadata": {
    "scrolled": true
   },
   "outputs": [
    {
     "name": "stdout",
     "output_type": "stream",
     "text": [
      "Train on 410033 samples, validate on 175729 samples\n",
      "Epoch 1/25\n",
      "410033/410033 [==============================] - 16s 40us/step - loss: 0.5124 - acc: 0.7935 - f1_m: 0.7914 - precision_m: 0.7907 - recall_m: 0.7954 - val_loss: 0.4535 - val_acc: 0.8192 - val_f1_m: 0.8254 - val_precision_m: 0.7988 - val_recall_m: 0.8541\n",
      "Epoch 2/25\n",
      "410033/410033 [==============================] - 16s 38us/step - loss: 0.4457 - acc: 0.8204 - f1_m: 0.8244 - precision_m: 0.8055 - recall_m: 0.8467 - val_loss: 0.4198 - val_acc: 0.8343 - val_f1_m: 0.8381 - val_precision_m: 0.8204 - val_recall_m: 0.8569\n",
      "Epoch 3/25\n",
      "410033/410033 [==============================] - 16s 38us/step - loss: 0.4312 - acc: 0.8282 - f1_m: 0.8325 - precision_m: 0.8112 - recall_m: 0.8570 - val_loss: 0.4195 - val_acc: 0.8278 - val_f1_m: 0.8282 - val_precision_m: 0.8272 - val_recall_m: 0.8295\n",
      "Epoch 4/25\n",
      "410033/410033 [==============================] - 16s 38us/step - loss: 0.4236 - acc: 0.8323 - f1_m: 0.8367 - precision_m: 0.8143 - recall_m: 0.8622 - val_loss: 0.4555 - val_acc: 0.8153 - val_f1_m: 0.8130 - val_precision_m: 0.8246 - val_recall_m: 0.8020\n",
      "Epoch 5/25\n",
      "410033/410033 [==============================] - 16s 38us/step - loss: 0.4180 - acc: 0.8354 - f1_m: 0.8400 - precision_m: 0.8167 - recall_m: 0.8663 - val_loss: 1.1021 - val_acc: 0.6655 - val_f1_m: 0.7423 - val_precision_m: 0.6043 - val_recall_m: 0.9625\n",
      "Epoch 6/25\n",
      "410033/410033 [==============================] - 16s 38us/step - loss: 0.4142 - acc: 0.8375 - f1_m: 0.8421 - precision_m: 0.8158 - recall_m: 0.8721 - val_loss: 0.5085 - val_acc: 0.7861 - val_f1_m: 0.8145 - val_precision_m: 0.7197 - val_recall_m: 0.9383\n",
      "Epoch 7/25\n",
      "410033/410033 [==============================] - 16s 38us/step - loss: 0.4103 - acc: 0.8391 - f1_m: 0.8441 - precision_m: 0.8178 - recall_m: 0.8736 - val_loss: 0.4141 - val_acc: 0.8352 - val_f1_m: 0.8442 - val_precision_m: 0.8014 - val_recall_m: 0.8920\n",
      "Epoch 8/25\n",
      "410033/410033 [==============================] - 16s 38us/step - loss: 0.4067 - acc: 0.8409 - f1_m: 0.8463 - precision_m: 0.8186 - recall_m: 0.8772 - val_loss: 0.8175 - val_acc: 0.7411 - val_f1_m: 0.7843 - val_precision_m: 0.6730 - val_recall_m: 0.9400\n",
      "Epoch 9/25\n",
      "410033/410033 [==============================] - 16s 38us/step - loss: 0.4046 - acc: 0.8418 - f1_m: 0.8473 - precision_m: 0.8187 - recall_m: 0.8793 - val_loss: 0.4155 - val_acc: 0.8361 - val_f1_m: 0.8403 - val_precision_m: 0.8204 - val_recall_m: 0.8614\n",
      "Epoch 10/25\n",
      "410033/410033 [==============================] - 16s 38us/step - loss: 0.4015 - acc: 0.8436 - f1_m: 0.8487 - precision_m: 0.8200 - recall_m: 0.8807 - val_loss: 0.4168 - val_acc: 0.8355 - val_f1_m: 0.8466 - val_precision_m: 0.7940 - val_recall_m: 0.9069\n",
      "Epoch 11/25\n",
      "410033/410033 [==============================] - 16s 38us/step - loss: 0.3994 - acc: 0.8445 - f1_m: 0.8500 - precision_m: 0.8209 - recall_m: 0.8824 - val_loss: 0.4051 - val_acc: 0.8418 - val_f1_m: 0.8449 - val_precision_m: 0.8296 - val_recall_m: 0.8612\n",
      "Epoch 12/25\n",
      "410033/410033 [==============================] - 16s 38us/step - loss: 0.3972 - acc: 0.8454 - f1_m: 0.8510 - precision_m: 0.8213 - recall_m: 0.8840 - val_loss: 0.3928 - val_acc: 0.8457 - val_f1_m: 0.8504 - val_precision_m: 0.8266 - val_recall_m: 0.8758\n",
      "Epoch 13/25\n",
      "410033/410033 [==============================] - 16s 38us/step - loss: 0.3980 - acc: 0.8453 - f1_m: 0.8508 - precision_m: 0.8212 - recall_m: 0.8837 - val_loss: 1.0175 - val_acc: 0.7039 - val_f1_m: 0.7639 - val_precision_m: 0.6358 - val_recall_m: 0.9570\n",
      "Epoch 14/25\n",
      "410033/410033 [==============================] - 16s 38us/step - loss: 0.3962 - acc: 0.8463 - f1_m: 0.8519 - precision_m: 0.8219 - recall_m: 0.8853 - val_loss: 0.4078 - val_acc: 0.8429 - val_f1_m: 0.8459 - val_precision_m: 0.8313 - val_recall_m: 0.8612\n",
      "Epoch 15/25\n",
      "410033/410033 [==============================] - 16s 38us/step - loss: 0.3941 - acc: 0.8468 - f1_m: 0.8525 - precision_m: 0.8221 - recall_m: 0.8861 - val_loss: 0.4122 - val_acc: 0.8394 - val_f1_m: 0.8417 - val_precision_m: 0.8308 - val_recall_m: 0.8532\n",
      "Epoch 16/25\n",
      "410033/410033 [==============================] - 16s 38us/step - loss: 0.3926 - acc: 0.8477 - f1_m: 0.8532 - precision_m: 0.8226 - recall_m: 0.8870 - val_loss: 0.3862 - val_acc: 0.8486 - val_f1_m: 0.8525 - val_precision_m: 0.8324 - val_recall_m: 0.8738\n",
      "Epoch 17/25\n",
      "410033/410033 [==============================] - 16s 38us/step - loss: 0.3920 - acc: 0.8480 - f1_m: 0.8539 - precision_m: 0.8228 - recall_m: 0.8883 - val_loss: 0.3815 - val_acc: 0.8523 - val_f1_m: 0.8600 - val_precision_m: 0.8187 - val_recall_m: 0.9060\n",
      "Epoch 18/25\n",
      "410033/410033 [==============================] - 16s 38us/step - loss: 0.3910 - acc: 0.8485 - f1_m: 0.8540 - precision_m: 0.8229 - recall_m: 0.8884 - val_loss: 0.3881 - val_acc: 0.8518 - val_f1_m: 0.8579 - val_precision_m: 0.8249 - val_recall_m: 0.8939\n",
      "Epoch 19/25\n",
      "410033/410033 [==============================] - 16s 38us/step - loss: 0.3897 - acc: 0.8489 - f1_m: 0.8546 - precision_m: 0.8236 - recall_m: 0.8889 - val_loss: 0.3947 - val_acc: 0.8489 - val_f1_m: 0.8530 - val_precision_m: 0.8313 - val_recall_m: 0.8761\n",
      "Epoch 20/25\n",
      "410033/410033 [==============================] - 16s 38us/step - loss: 0.3884 - acc: 0.8495 - f1_m: 0.8549 - precision_m: 0.8232 - recall_m: 0.8899 - val_loss: 0.3962 - val_acc: 0.8448 - val_f1_m: 0.8479 - val_precision_m: 0.8325 - val_recall_m: 0.8641\n",
      "Epoch 21/25\n",
      "410033/410033 [==============================] - 16s 38us/step - loss: 0.3881 - acc: 0.8500 - f1_m: 0.8556 - precision_m: 0.8239 - recall_m: 0.8906 - val_loss: 0.3925 - val_acc: 0.8448 - val_f1_m: 0.8477 - val_precision_m: 0.8334 - val_recall_m: 0.8627\n",
      "Epoch 22/25\n",
      "410033/410033 [==============================] - 16s 38us/step - loss: 0.3879 - acc: 0.8500 - f1_m: 0.8555 - precision_m: 0.8235 - recall_m: 0.8908 - val_loss: 0.5854 - val_acc: 0.7591 - val_f1_m: 0.7965 - val_precision_m: 0.6904 - val_recall_m: 0.9414\n",
      "Epoch 23/25\n",
      "410033/410033 [==============================] - 16s 38us/step - loss: 0.3872 - acc: 0.8501 - f1_m: 0.8560 - precision_m: 0.8233 - recall_m: 0.8920 - val_loss: 0.4365 - val_acc: 0.8268 - val_f1_m: 0.8424 - val_precision_m: 0.7736 - val_recall_m: 0.9249\n",
      "Epoch 24/25\n",
      "410033/410033 [==============================] - 16s 38us/step - loss: 0.3861 - acc: 0.8512 - f1_m: 0.8565 - precision_m: 0.8241 - recall_m: 0.8922 - val_loss: 0.3958 - val_acc: 0.8419 - val_f1_m: 0.8531 - val_precision_m: 0.7977 - val_recall_m: 0.9169\n",
      "Epoch 25/25\n",
      "410033/410033 [==============================] - 16s 38us/step - loss: 0.3867 - acc: 0.8507 - f1_m: 0.8562 - precision_m: 0.8242 - recall_m: 0.8916 - val_loss: 0.3902 - val_acc: 0.8509 - val_f1_m: 0.8556 - val_precision_m: 0.8306 - val_recall_m: 0.8824\n"
     ]
    }
   ],
   "source": [
    "model = models(X_train)\n",
    "# model.summary()\n",
    "history = model.fit(X_train, y_train, epochs=25, batch_size=1000, validation_data=(X_test, y_test), verbose=1, shuffle=True)"
   ]
  },
  {
   "cell_type": "code",
   "execution_count": 60,
   "metadata": {},
   "outputs": [
    {
     "data": {
      "image/png": "[encoded data removed]",
      "text/plain": [
       "<Figure size 576x288 with 1 Axes>"
      ]
     },
     "metadata": {
      "needs_background": "light"
     },
     "output_type": "display_data"
    }
   ],
   "source": [
    "# plot history\n",
    "plt.figure(figsize=(8,4))\n",
    "plt.plot(history.history['acc'], label='train')\n",
    "plt.plot(history.history['val_acc'], label='test')\n",
    "plt.legend()                                       \n",
    "plt.show()"
   ]
  },
  {
   "cell_type": "code",
   "execution_count": 61,
   "metadata": {},
   "outputs": [
    {
     "name": "stdout",
     "output_type": "stream",
     "text": [
      "175729/175729 [==============================] - 81s 460us/step\n"
     ]
    }
   ],
   "source": [
    "loss, accuracy, f1_score, precision, recall = model.evaluate(X_test, y_test, verbose=1)"
   ]
  },
  {
   "cell_type": "code",
   "execution_count": 62,
   "metadata": {},
   "outputs": [
    {
     "name": "stdout",
     "output_type": "stream",
     "text": [
      "0.8509352207183838\n"
     ]
    }
   ],
   "source": [
    "print(accuracy)"
   ]
  },
  {
   "cell_type": "markdown",
   "metadata": {},
   "source": [
    "### 각 sequence length의 0.5배 값"
   ]
  },
  {
   "cell_type": "code",
   "execution_count": 63,
   "metadata": {},
   "outputs": [
    {
     "data": {
      "text/plain": [
       "26.0"
      ]
     },
     "execution_count": 63,
     "metadata": {},
     "output_type": "execute_result"
    }
   ],
   "source": [
    "remove_seq_length = np.floor(0.5*seq_length)\n",
    "온라인_x2 = list(map(lambda x,y: x[:-y] if y !=0 else x, \n",
    "                     pd.Series(온라인_x), \n",
    "                     remove_seq_length.astype(int)))\n",
    "seq_length2 = pd.Series(온라인_x2).map(lambda x: len(x))\n",
    "max_len = np.percentile(seq_length2,99)\n",
    "max_len"
   ]
  },
  {
   "cell_type": "code",
   "execution_count": 64,
   "metadata": {},
   "outputs": [
    {
     "name": "stderr",
     "output_type": "stream",
     "text": [
      "C:\\ProgramData\\Anaconda3\\lib\\site-packages\\sklearn\\utils\\validation.py:760: DataConversionWarning: A column-vector y was passed when a 1d array was expected. Please change the shape of y to (n_samples, ), for example using ravel().\n",
      "  y = column_or_1d(y, warn=True)\n",
      "C:\\ProgramData\\Anaconda3\\lib\\site-packages\\sklearn\\utils\\deprecation.py:87: FutureWarning: Function safe_indexing is deprecated; safe_indexing is deprecated in version 0.22 and will be removed in version 0.24.\n",
      "  warnings.warn(msg, category=FutureWarning)\n"
     ]
    },
    {
     "data": {
      "text/plain": [
       "(410033, 26, 24)"
      ]
     },
     "execution_count": 64,
     "metadata": {},
     "output_type": "execute_result"
    }
   ],
   "source": [
    "X_padded, X_resampled, Y_resampled = make_padding_and_oversample(np.array(온라인_x2), 온라인_y, length= int(max_len))\n",
    "X_train, X_test, y_train, y_test = train_test_split(X_resampled, Y_resampled, test_size=0.3, random_state=42)\n",
    "X_train.shape"
   ]
  },
  {
   "cell_type": "code",
   "execution_count": 65,
   "metadata": {
    "scrolled": true
   },
   "outputs": [
    {
     "name": "stdout",
     "output_type": "stream",
     "text": [
      "Train on 410033 samples, validate on 175729 samples\n",
      "Epoch 1/25\n",
      "410033/410033 [==============================] - 20s 49us/step - loss: 0.5006 - acc: 0.7987 - f1_m: 0.7974 - precision_m: 0.7954 - recall_m: 0.8027 - val_loss: 0.4393 - val_acc: 0.8217 - val_f1_m: 0.8225 - val_precision_m: 0.8198 - val_recall_m: 0.8257\n",
      "Epoch 2/25\n",
      "410033/410033 [==============================] - 20s 48us/step - loss: 0.4366 - acc: 0.8250 - f1_m: 0.8294 - precision_m: 0.8085 - recall_m: 0.8533 - val_loss: 0.4817 - val_acc: 0.8018 - val_f1_m: 0.8232 - val_precision_m: 0.7439 - val_recall_m: 0.9217\n",
      "Epoch 3/25\n",
      "410033/410033 [==============================] - 20s 48us/step - loss: 0.4234 - acc: 0.8317 - f1_m: 0.8365 - precision_m: 0.8134 - recall_m: 0.8629 - val_loss: 0.4353 - val_acc: 0.8274 - val_f1_m: 0.8322 - val_precision_m: 0.8108 - val_recall_m: 0.8551\n",
      "Epoch 4/25\n",
      "410033/410033 [==============================] - 20s 49us/step - loss: 0.4166 - acc: 0.8357 - f1_m: 0.8400 - precision_m: 0.8163 - recall_m: 0.8668 - val_loss: 0.4675 - val_acc: 0.8182 - val_f1_m: 0.8164 - val_precision_m: 0.8256 - val_recall_m: 0.8077\n",
      "Epoch 5/25\n",
      "410033/410033 [==============================] - 20s 48us/step - loss: 0.4127 - acc: 0.8382 - f1_m: 0.8433 - precision_m: 0.8176 - recall_m: 0.8722 - val_loss: 0.4516 - val_acc: 0.8243 - val_f1_m: 0.8237 - val_precision_m: 0.8274 - val_recall_m: 0.8203\n",
      "Epoch 6/25\n",
      "410033/410033 [==============================] - 20s 48us/step - loss: 0.4072 - acc: 0.8405 - f1_m: 0.8452 - precision_m: 0.8196 - recall_m: 0.8738 - val_loss: 0.4366 - val_acc: 0.8286 - val_f1_m: 0.8441 - val_precision_m: 0.7748 - val_recall_m: 0.9274\n",
      "Epoch 7/25\n",
      "410033/410033 [==============================] - 20s 49us/step - loss: 0.4049 - acc: 0.8422 - f1_m: 0.8472 - precision_m: 0.8211 - recall_m: 0.8763 - val_loss: 0.4022 - val_acc: 0.8424 - val_f1_m: 0.8528 - val_precision_m: 0.8010 - val_recall_m: 0.9121\n",
      "Epoch 8/25\n",
      "410033/410033 [==============================] - 20s 48us/step - loss: 0.4034 - acc: 0.8425 - f1_m: 0.8476 - precision_m: 0.8210 - recall_m: 0.8772 - val_loss: 0.4091 - val_acc: 0.8359 - val_f1_m: 0.8373 - val_precision_m: 0.8310 - val_recall_m: 0.8441\n",
      "Epoch 9/25\n",
      "410033/410033 [==============================] - 20s 48us/step - loss: 0.4008 - acc: 0.8435 - f1_m: 0.8487 - precision_m: 0.8211 - recall_m: 0.8795 - val_loss: 0.7946 - val_acc: 0.7347 - val_f1_m: 0.7820 - val_precision_m: 0.6644 - val_recall_m: 0.9506\n",
      "Epoch 10/25\n",
      "410033/410033 [==============================] - 20s 48us/step - loss: 0.3999 - acc: 0.8442 - f1_m: 0.8495 - precision_m: 0.8208 - recall_m: 0.8817 - val_loss: 0.3828 - val_acc: 0.8513 - val_f1_m: 0.8560 - val_precision_m: 0.8312 - val_recall_m: 0.8825\n",
      "Epoch 11/25\n",
      "410033/410033 [==============================] - 20s 48us/step - loss: 0.3967 - acc: 0.8456 - f1_m: 0.8508 - precision_m: 0.8216 - recall_m: 0.8833 - val_loss: 0.4075 - val_acc: 0.8375 - val_f1_m: 0.8393 - val_precision_m: 0.8312 - val_recall_m: 0.8478\n",
      "Epoch 12/25\n",
      "410033/410033 [==============================] - 20s 48us/step - loss: 0.3943 - acc: 0.8463 - f1_m: 0.8517 - precision_m: 0.8220 - recall_m: 0.8848 - val_loss: 0.4042 - val_acc: 0.8359 - val_f1_m: 0.8374 - val_precision_m: 0.8310 - val_recall_m: 0.8442\n",
      "Epoch 13/25\n",
      "410033/410033 [==============================] - 20s 48us/step - loss: 0.3927 - acc: 0.8472 - f1_m: 0.8524 - precision_m: 0.8224 - recall_m: 0.8856 - val_loss: 0.3993 - val_acc: 0.8486 - val_f1_m: 0.8564 - val_precision_m: 0.8156 - val_recall_m: 0.9017\n",
      "Epoch 14/25\n",
      "410033/410033 [==============================] - 20s 49us/step - loss: 0.3922 - acc: 0.8477 - f1_m: 0.8530 - precision_m: 0.8224 - recall_m: 0.8869 - val_loss: 0.4441 - val_acc: 0.8289 - val_f1_m: 0.8292 - val_precision_m: 0.8290 - val_recall_m: 0.8297\n",
      "Epoch 15/25\n",
      "410033/410033 [==============================] - 20s 48us/step - loss: 0.3908 - acc: 0.8488 - f1_m: 0.8544 - precision_m: 0.8234 - recall_m: 0.8888 - val_loss: 0.3751 - val_acc: 0.8571 - val_f1_m: 0.8625 - val_precision_m: 0.8321 - val_recall_m: 0.8953\n",
      "Epoch 16/25\n",
      "410033/410033 [==============================] - 20s 48us/step - loss: 0.3896 - acc: 0.8490 - f1_m: 0.8542 - precision_m: 0.8233 - recall_m: 0.8886 - val_loss: 0.4302 - val_acc: 0.8261 - val_f1_m: 0.8420 - val_precision_m: 0.7724 - val_recall_m: 0.9256\n",
      "Epoch 17/25\n",
      "410033/410033 [==============================] - 20s 48us/step - loss: 0.3889 - acc: 0.8496 - f1_m: 0.8551 - precision_m: 0.8241 - recall_m: 0.8895 - val_loss: 0.4228 - val_acc: 0.8298 - val_f1_m: 0.8303 - val_precision_m: 0.8287 - val_recall_m: 0.8323\n",
      "Epoch 18/25\n",
      "410033/410033 [==============================] - 20s 48us/step - loss: 0.3874 - acc: 0.8499 - f1_m: 0.8554 - precision_m: 0.8242 - recall_m: 0.8899 - val_loss: 0.3900 - val_acc: 0.8457 - val_f1_m: 0.8491 - val_precision_m: 0.8322 - val_recall_m: 0.8669\n",
      "Epoch 19/25\n",
      "410033/410033 [==============================] - 20s 48us/step - loss: 0.3867 - acc: 0.8502 - f1_m: 0.8559 - precision_m: 0.8243 - recall_m: 0.8910 - val_loss: 0.4211 - val_acc: 0.8354 - val_f1_m: 0.8489 - val_precision_m: 0.7856 - val_recall_m: 0.9235\n",
      "Epoch 20/25\n",
      "410033/410033 [==============================] - 20s 48us/step - loss: 0.3857 - acc: 0.8509 - f1_m: 0.8565 - precision_m: 0.8250 - recall_m: 0.8914 - val_loss: 0.3786 - val_acc: 0.8539 - val_f1_m: 0.8581 - val_precision_m: 0.8351 - val_recall_m: 0.8827\n",
      "Epoch 21/25\n",
      "410033/410033 [==============================] - 20s 48us/step - loss: 0.3850 - acc: 0.8513 - f1_m: 0.8569 - precision_m: 0.8251 - recall_m: 0.8920 - val_loss: 0.4335 - val_acc: 0.8322 - val_f1_m: 0.8462 - val_precision_m: 0.7818 - val_recall_m: 0.9225\n",
      "Epoch 22/25\n",
      "410033/410033 [==============================] - 20s 48us/step - loss: 0.3848 - acc: 0.8512 - f1_m: 0.8570 - precision_m: 0.8249 - recall_m: 0.8925 - val_loss: 0.4435 - val_acc: 0.8225 - val_f1_m: 0.8400 - val_precision_m: 0.7658 - val_recall_m: 0.9302\n",
      "Epoch 23/25\n",
      "410033/410033 [==============================] - 20s 48us/step - loss: 0.3835 - acc: 0.8521 - f1_m: 0.8579 - precision_m: 0.8253 - recall_m: 0.8939 - val_loss: 0.3854 - val_acc: 0.8524 - val_f1_m: 0.8608 - val_precision_m: 0.8156 - val_recall_m: 0.9115\n",
      "Epoch 24/25\n",
      "410033/410033 [==============================] - 20s 48us/step - loss: 0.3829 - acc: 0.8525 - f1_m: 0.8585 - precision_m: 0.8255 - recall_m: 0.8950 - val_loss: 0.3732 - val_acc: 0.8573 - val_f1_m: 0.8641 - val_precision_m: 0.8259 - val_recall_m: 0.9063\n",
      "Epoch 25/25\n",
      "410033/410033 [==============================] - 20s 48us/step - loss: 0.3822 - acc: 0.8525 - f1_m: 0.8581 - precision_m: 0.8255 - recall_m: 0.8942 - val_loss: 0.4319 - val_acc: 0.8255 - val_f1_m: 0.8417 - val_precision_m: 0.7711 - val_recall_m: 0.9269\n"
     ]
    }
   ],
   "source": [
    "model = models(X_train)\n",
    "# model.summary()\n",
    "history = model.fit(X_train, y_train, epochs=25, batch_size=1000, validation_data=(X_test, y_test), verbose=1, shuffle=True)"
   ]
  },
  {
   "cell_type": "code",
   "execution_count": 66,
   "metadata": {},
   "outputs": [
    {
     "data": {
      "image/png": "[encoded data removed]",
      "text/plain": [
       "<Figure size 576x288 with 1 Axes>"
      ]
     },
     "metadata": {
      "needs_background": "light"
     },
     "output_type": "display_data"
    }
   ],
   "source": [
    "# plot history\n",
    "plt.figure(figsize=(8,4))\n",
    "plt.plot(history.history['acc'], label='train')\n",
    "plt.plot(history.history['val_acc'], label='test')\n",
    "plt.legend()                                       \n",
    "plt.show()"
   ]
  },
  {
   "cell_type": "code",
   "execution_count": 67,
   "metadata": {},
   "outputs": [
    {
     "name": "stdout",
     "output_type": "stream",
     "text": [
      "175729/175729 [==============================] - 101s 574us/step\n"
     ]
    }
   ],
   "source": [
    "loss, accuracy, f1_score, precision, recall = model.evaluate(X_test, y_test, verbose=1)"
   ]
  },
  {
   "cell_type": "code",
   "execution_count": 68,
   "metadata": {},
   "outputs": [
    {
     "name": "stdout",
     "output_type": "stream",
     "text": [
      "0.8254926800727844 0.8378955125808716 0.7711088061332703 0.9269371628761292\n"
     ]
    }
   ],
   "source": [
    "print(accuracy, f1_score, precision, recall)"
   ]
  },
  {
   "cell_type": "markdown",
   "metadata": {},
   "source": [
    "# Conv1D + LSTM"
   ]
  },
  {
   "cell_type": "code",
   "execution_count": 69,
   "metadata": {},
   "outputs": [
    {
     "name": "stdout",
     "output_type": "stream",
     "text": [
      "WARNING:tensorflow:From C:\\ProgramData\\Anaconda3\\lib\\site-packages\\keras\\backend\\tensorflow_backend.py:4070: The name tf.nn.max_pool is deprecated. Please use tf.nn.max_pool2d instead.\n",
      "\n"
     ]
    }
   ],
   "source": [
    "model = Sequential()\n",
    "#model.add(Masking(mask_value=0., input_shape=(X_train.shape[1], X_train.shape[2])))\n",
    "model.add(Conv1D(64, 5, activation='relu', input_shape=(X_train.shape[1], X_train.shape[2])))\n",
    "model.add(MaxPooling1D(3))\n",
    "model.add(Conv1D(64, 5, activation='relu'))\n",
    "model.add(LSTM(32, dropout=0.2, recurrent_dropout=0.5))\n",
    "model.add(Dense(16, activation= 'relu'))\n",
    "model.add(Dense(1, activation='sigmoid'))\n",
    "model.compile(loss='binary_crossentropy', optimizer=RMSprop(lr= 0.001, rho = 0.9), metrics=['acc',f1_m,precision_m, recall_m])\n",
    "#print(model.summary())"
   ]
  },
  {
   "cell_type": "code",
   "execution_count": 70,
   "metadata": {
    "scrolled": true
   },
   "outputs": [
    {
     "name": "stdout",
     "output_type": "stream",
     "text": [
      "Train on 410033 samples, validate on 175729 samples\n",
      "Epoch 1/25\n",
      "410033/410033 [==============================] - 8s 21us/step - loss: 0.6648 - acc: 0.5930 - f1_m: 0.6640 - precision_m: 0.5636 - recall_m: 0.8112 - val_loss: 0.6569 - val_acc: 0.6010 - val_f1_m: 0.6768 - val_precision_m: 0.5695 - val_recall_m: 0.8347\n",
      "Epoch 2/25\n",
      "410033/410033 [==============================] - 6s 16us/step - loss: 0.6510 - acc: 0.6067 - f1_m: 0.6844 - precision_m: 0.5714 - recall_m: 0.8541 - val_loss: 0.6537 - val_acc: 0.6026 - val_f1_m: 0.7037 - val_precision_m: 0.5617 - val_recall_m: 0.9424\n",
      "Epoch 3/25\n",
      "410033/410033 [==============================] - 6s 16us/step - loss: 0.6380 - acc: 0.6185 - f1_m: 0.6978 - precision_m: 0.5772 - recall_m: 0.8833 - val_loss: 0.6279 - val_acc: 0.6296 - val_f1_m: 0.7068 - val_precision_m: 0.5856 - val_recall_m: 0.8919\n",
      "Epoch 4/25\n",
      "410033/410033 [==============================] - 6s 16us/step - loss: 0.6286 - acc: 0.6276 - f1_m: 0.7044 - precision_m: 0.5837 - recall_m: 0.8893 - val_loss: 0.6357 - val_acc: 0.6265 - val_f1_m: 0.6927 - val_precision_m: 0.5891 - val_recall_m: 0.8410\n",
      "Epoch 5/25\n",
      "410033/410033 [==============================] - 6s 16us/step - loss: 0.6197 - acc: 0.6360 - f1_m: 0.7101 - precision_m: 0.5896 - recall_m: 0.8936 - val_loss: 0.6296 - val_acc: 0.6307 - val_f1_m: 0.6969 - val_precision_m: 0.5917 - val_recall_m: 0.8482\n",
      "Epoch 6/25\n",
      "410033/410033 [==============================] - 7s 16us/step - loss: 0.6136 - acc: 0.6406 - f1_m: 0.7132 - precision_m: 0.5927 - recall_m: 0.8966 - val_loss: 0.6025 - val_acc: 0.6490 - val_f1_m: 0.7197 - val_precision_m: 0.5998 - val_recall_m: 0.9002\n",
      "Epoch 7/25\n",
      "410033/410033 [==============================] - 6s 16us/step - loss: 0.6085 - acc: 0.6442 - f1_m: 0.7162 - precision_m: 0.5952 - recall_m: 0.9001 - val_loss: 0.6094 - val_acc: 0.6465 - val_f1_m: 0.7264 - val_precision_m: 0.5932 - val_recall_m: 0.9374\n",
      "Epoch 8/25\n",
      "410033/410033 [==============================] - 6s 16us/step - loss: 0.6052 - acc: 0.6463 - f1_m: 0.7174 - precision_m: 0.5964 - recall_m: 0.9013 - val_loss: 0.6396 - val_acc: 0.6293 - val_f1_m: 0.6944 - val_precision_m: 0.5914 - val_recall_m: 0.8413\n",
      "Epoch 9/25\n",
      "410033/410033 [==============================] - 7s 16us/step - loss: 0.6021 - acc: 0.6482 - f1_m: 0.7194 - precision_m: 0.5977 - recall_m: 0.9043 - val_loss: 0.6018 - val_acc: 0.6476 - val_f1_m: 0.7148 - val_precision_m: 0.6011 - val_recall_m: 0.8820\n",
      "Epoch 10/25\n",
      "410033/410033 [==============================] - 6s 16us/step - loss: 0.5994 - acc: 0.6502 - f1_m: 0.7210 - precision_m: 0.5988 - recall_m: 0.9070 - val_loss: 0.6071 - val_acc: 0.6447 - val_f1_m: 0.7110 - val_precision_m: 0.5999 - val_recall_m: 0.8731\n",
      "Epoch 11/25\n",
      "410033/410033 [==============================] - 7s 16us/step - loss: 0.5974 - acc: 0.6512 - f1_m: 0.7219 - precision_m: 0.5994 - recall_m: 0.9084 - val_loss: 0.6309 - val_acc: 0.6327 - val_f1_m: 0.6980 - val_precision_m: 0.5934 - val_recall_m: 0.8479\n",
      "Epoch 12/25\n",
      "410033/410033 [==============================] - 7s 16us/step - loss: 0.5953 - acc: 0.6524 - f1_m: 0.7232 - precision_m: 0.6007 - recall_m: 0.9093 - val_loss: 0.7555 - val_acc: 0.6033 - val_f1_m: 0.7085 - val_precision_m: 0.5606 - val_recall_m: 0.9628\n",
      "Epoch 13/25\n",
      "410033/410033 [==============================] - 6s 16us/step - loss: 0.5940 - acc: 0.6534 - f1_m: 0.7241 - precision_m: 0.6010 - recall_m: 0.9115 - val_loss: 0.5903 - val_acc: 0.6548 - val_f1_m: 0.7222 - val_precision_m: 0.6050 - val_recall_m: 0.8962\n",
      "Epoch 14/25\n",
      "410033/410033 [==============================] - 7s 16us/step - loss: 0.5925 - acc: 0.6539 - f1_m: 0.7247 - precision_m: 0.6014 - recall_m: 0.9123 - val_loss: 0.6047 - val_acc: 0.6480 - val_f1_m: 0.7146 - val_precision_m: 0.6017 - val_recall_m: 0.8802\n",
      "Epoch 15/25\n",
      "410033/410033 [==============================] - 6s 16us/step - loss: 0.5916 - acc: 0.6548 - f1_m: 0.7253 - precision_m: 0.6020 - recall_m: 0.9129 - val_loss: 0.6323 - val_acc: 0.6331 - val_f1_m: 0.6985 - val_precision_m: 0.5935 - val_recall_m: 0.8493\n",
      "Epoch 16/25\n",
      "410033/410033 [==============================] - 6s 16us/step - loss: 0.5909 - acc: 0.6553 - f1_m: 0.7254 - precision_m: 0.6020 - recall_m: 0.9132 - val_loss: 0.5860 - val_acc: 0.6585 - val_f1_m: 0.7263 - val_precision_m: 0.6067 - val_recall_m: 0.9051\n",
      "Epoch 17/25\n",
      "410033/410033 [==============================] - 7s 16us/step - loss: 0.5896 - acc: 0.6561 - f1_m: 0.7262 - precision_m: 0.6029 - recall_m: 0.9137 - val_loss: 0.5894 - val_acc: 0.6596 - val_f1_m: 0.7342 - val_precision_m: 0.6030 - val_recall_m: 0.9388\n",
      "Epoch 18/25\n",
      "410033/410033 [==============================] - 6s 16us/step - loss: 0.5888 - acc: 0.6565 - f1_m: 0.7267 - precision_m: 0.6027 - recall_m: 0.9156 - val_loss: 0.6087 - val_acc: 0.6446 - val_f1_m: 0.7110 - val_precision_m: 0.5998 - val_recall_m: 0.8734\n",
      "Epoch 19/25\n",
      "410033/410033 [==============================] - 7s 16us/step - loss: 0.5883 - acc: 0.6568 - f1_m: 0.7269 - precision_m: 0.6032 - recall_m: 0.9153 - val_loss: 0.5878 - val_acc: 0.6590 - val_f1_m: 0.7274 - val_precision_m: 0.6066 - val_recall_m: 0.9087\n",
      "Epoch 20/25\n",
      "410033/410033 [==============================] - 6s 16us/step - loss: 0.5873 - acc: 0.6573 - f1_m: 0.7273 - precision_m: 0.6034 - recall_m: 0.9161 - val_loss: 0.5928 - val_acc: 0.6571 - val_f1_m: 0.7262 - val_precision_m: 0.6050 - val_recall_m: 0.9087\n",
      "Epoch 21/25\n",
      "410033/410033 [==============================] - 7s 16us/step - loss: 0.5866 - acc: 0.6576 - f1_m: 0.7274 - precision_m: 0.6033 - recall_m: 0.9164 - val_loss: 0.6100 - val_acc: 0.6465 - val_f1_m: 0.7128 - val_precision_m: 0.6010 - val_recall_m: 0.8761\n",
      "Epoch 22/25\n",
      "410033/410033 [==============================] - 7s 16us/step - loss: 0.5862 - acc: 0.6580 - f1_m: 0.7276 - precision_m: 0.6033 - recall_m: 0.9174 - val_loss: 0.5787 - val_acc: 0.6638 - val_f1_m: 0.7342 - val_precision_m: 0.6078 - val_recall_m: 0.9275\n",
      "Epoch 23/25\n",
      "410033/410033 [==============================] - 7s 16us/step - loss: 0.5860 - acc: 0.6584 - f1_m: 0.7286 - precision_m: 0.6040 - recall_m: 0.9186 - val_loss: 0.5924 - val_acc: 0.6538 - val_f1_m: 0.7312 - val_precision_m: 0.5983 - val_recall_m: 0.9407\n",
      "Epoch 24/25\n",
      "410033/410033 [==============================] - 7s 16us/step - loss: 0.5847 - acc: 0.6591 - f1_m: 0.7291 - precision_m: 0.6045 - recall_m: 0.9192 - val_loss: 0.5852 - val_acc: 0.6592 - val_f1_m: 0.7286 - val_precision_m: 0.6061 - val_recall_m: 0.9135\n",
      "Epoch 25/25\n",
      "410033/410033 [==============================] - 6s 16us/step - loss: 0.5852 - acc: 0.6588 - f1_m: 0.7283 - precision_m: 0.6039 - recall_m: 0.9182 - val_loss: 0.5800 - val_acc: 0.6629 - val_f1_m: 0.7318 - val_precision_m: 0.6083 - val_recall_m: 0.9186\n"
     ]
    }
   ],
   "source": [
    "history = model.fit(X_train, y_train, epochs=25, batch_size=1000, validation_data=(X_test, y_test), verbose=1, shuffle=True)"
   ]
  },
  {
   "cell_type": "code",
   "execution_count": 71,
   "metadata": {},
   "outputs": [
    {
     "data": {
      "image/png": "[encoded data removed]",
      "text/plain": [
       "<Figure size 576x288 with 1 Axes>"
      ]
     },
     "metadata": {
      "needs_background": "light"
     },
     "output_type": "display_data"
    }
   ],
   "source": [
    "# plot history\n",
    "plt.figure(figsize=(8,4))\n",
    "plt.plot(history.history['acc'], label='train')\n",
    "plt.plot(history.history['val_acc'], label='test')\n",
    "plt.legend()                                       \n",
    "plt.show()"
   ]
  },
  {
   "cell_type": "code",
   "execution_count": 72,
   "metadata": {},
   "outputs": [
    {
     "name": "stdout",
     "output_type": "stream",
     "text": [
      "175729/175729 [==============================] - 22s 126us/step\n"
     ]
    }
   ],
   "source": [
    "loss, accuracy, f1_score, precision, recall = model.evaluate(X_test, y_test, verbose=1)"
   ]
  },
  {
   "cell_type": "code",
   "execution_count": 73,
   "metadata": {},
   "outputs": [
    {
     "name": "stdout",
     "output_type": "stream",
     "text": [
      "0.662855863571167\n"
     ]
    }
   ],
   "source": [
    "print(accuracy)"
   ]
  },
  {
   "cell_type": "code",
   "execution_count": 74,
   "metadata": {
    "scrolled": true
   },
   "outputs": [],
   "source": [
    "model = Sequential()\n",
    "#model.add(Masking(mask_value=0., input_shape=(X_train.shape[1], X_train.shape[2])))\n",
    "model.add(Conv1D(128, 5, activation='relu', input_shape=(X_train.shape[1], X_train.shape[2])))\n",
    "model.add(MaxPooling1D(3))\n",
    "model.add(Conv1D(64, 5, activation='relu'))\n",
    "model.add(LSTM(32))\n",
    "model.add(Dense(32, activation= 'relu'))\n",
    "model.add(Dropout(0.2))\n",
    "model.add(Dense(16, activation= 'relu'))\n",
    "model.add(Dense(1, activation='sigmoid'))\n",
    "model.compile(loss='binary_crossentropy', optimizer=RMSprop(lr= 0.001, rho = 0.9), metrics=['acc',f1_m,precision_m, recall_m])\n",
    "#print(model.summary())"
   ]
  },
  {
   "cell_type": "code",
   "execution_count": 75,
   "metadata": {
    "scrolled": true
   },
   "outputs": [
    {
     "name": "stdout",
     "output_type": "stream",
     "text": [
      "Train on 410033 samples, validate on 175729 samples\n",
      "Epoch 1/25\n",
      "410033/410033 [==============================] - 8s 19us/step - loss: 0.6633 - acc: 0.5942 - f1_m: 0.6640 - precision_m: 0.5642 - recall_m: 0.8119 - val_loss: 0.6591 - val_acc: 0.6019 - val_f1_m: 0.6698 - val_precision_m: 0.5729 - val_recall_m: 0.8066\n",
      "Epoch 2/25\n",
      "410033/410033 [==============================] - 7s 17us/step - loss: 0.6510 - acc: 0.6071 - f1_m: 0.6865 - precision_m: 0.5713 - recall_m: 0.8612 - val_loss: 0.6426 - val_acc: 0.6173 - val_f1_m: 0.6962 - val_precision_m: 0.5779 - val_recall_m: 0.8759\n",
      "Epoch 3/25\n",
      "410033/410033 [==============================] - 7s 17us/step - loss: 0.6384 - acc: 0.6194 - f1_m: 0.6954 - precision_m: 0.5793 - recall_m: 0.8709 - val_loss: 0.6698 - val_acc: 0.5962 - val_f1_m: 0.7010 - val_precision_m: 0.5572 - val_recall_m: 0.9453\n",
      "Epoch 4/25\n",
      "410033/410033 [==============================] - 7s 17us/step - loss: 0.6285 - acc: 0.6275 - f1_m: 0.7015 - precision_m: 0.5851 - recall_m: 0.8771 - val_loss: 0.6211 - val_acc: 0.6312 - val_f1_m: 0.6976 - val_precision_m: 0.5919 - val_recall_m: 0.8498\n",
      "Epoch 5/25\n",
      "410033/410033 [==============================] - 7s 17us/step - loss: 0.6208 - acc: 0.6345 - f1_m: 0.7068 - precision_m: 0.5894 - recall_m: 0.8839 - val_loss: 0.6443 - val_acc: 0.6257 - val_f1_m: 0.6920 - val_precision_m: 0.5886 - val_recall_m: 0.8401\n",
      "Epoch 6/25\n",
      "410033/410033 [==============================] - 7s 17us/step - loss: 0.6151 - acc: 0.6394 - f1_m: 0.7114 - precision_m: 0.5921 - recall_m: 0.8922 - val_loss: 0.6552 - val_acc: 0.6191 - val_f1_m: 0.6834 - val_precision_m: 0.5855 - val_recall_m: 0.8211\n",
      "Epoch 7/25\n",
      "410033/410033 [==============================] - 7s 17us/step - loss: 0.6098 - acc: 0.6428 - f1_m: 0.7149 - precision_m: 0.5947 - recall_m: 0.8973 - val_loss: 0.6060 - val_acc: 0.6431 - val_f1_m: 0.7114 - val_precision_m: 0.5979 - val_recall_m: 0.8787\n",
      "Epoch 8/25\n",
      "410033/410033 [==============================] - 7s 17us/step - loss: 0.6070 - acc: 0.6443 - f1_m: 0.7161 - precision_m: 0.5958 - recall_m: 0.8985 - val_loss: 0.6237 - val_acc: 0.6442 - val_f1_m: 0.7215 - val_precision_m: 0.5934 - val_recall_m: 0.9205\n",
      "Epoch 9/25\n",
      "410033/410033 [==============================] - 7s 17us/step - loss: 0.6034 - acc: 0.6470 - f1_m: 0.7189 - precision_m: 0.5974 - recall_m: 0.9036 - val_loss: 0.5947 - val_acc: 0.6575 - val_f1_m: 0.7300 - val_precision_m: 0.6032 - val_recall_m: 0.9246\n",
      "Epoch 10/25\n",
      "410033/410033 [==============================] - 7s 17us/step - loss: 0.6008 - acc: 0.6488 - f1_m: 0.7202 - precision_m: 0.5984 - recall_m: 0.9052 - val_loss: 0.6066 - val_acc: 0.6462 - val_f1_m: 0.7213 - val_precision_m: 0.5957 - val_recall_m: 0.9146\n",
      "Epoch 11/25\n",
      "410033/410033 [==============================] - 7s 17us/step - loss: 0.5989 - acc: 0.6498 - f1_m: 0.7211 - precision_m: 0.5986 - recall_m: 0.9076 - val_loss: 0.5916 - val_acc: 0.6580 - val_f1_m: 0.7264 - val_precision_m: 0.6061 - val_recall_m: 0.9068\n",
      "Epoch 12/25\n",
      "410033/410033 [==============================] - 7s 17us/step - loss: 0.5972 - acc: 0.6508 - f1_m: 0.7220 - precision_m: 0.5991 - recall_m: 0.9092 - val_loss: 0.5942 - val_acc: 0.6553 - val_f1_m: 0.7280 - val_precision_m: 0.6020 - val_recall_m: 0.9212\n",
      "Epoch 13/25\n",
      "410033/410033 [==============================] - 7s 17us/step - loss: 0.5960 - acc: 0.6519 - f1_m: 0.7223 - precision_m: 0.6000 - recall_m: 0.9094 - val_loss: 0.6042 - val_acc: 0.6501 - val_f1_m: 0.7253 - val_precision_m: 0.5977 - val_recall_m: 0.9225\n",
      "Epoch 14/25\n",
      "410033/410033 [==============================] - 7s 17us/step - loss: 0.5943 - acc: 0.6531 - f1_m: 0.7238 - precision_m: 0.6004 - recall_m: 0.9120 - val_loss: 0.6035 - val_acc: 0.6472 - val_f1_m: 0.7155 - val_precision_m: 0.6001 - val_recall_m: 0.8863\n",
      "Epoch 15/25\n",
      "410033/410033 [==============================] - 7s 17us/step - loss: 0.5939 - acc: 0.6529 - f1_m: 0.7235 - precision_m: 0.6007 - recall_m: 0.9101 - val_loss: 0.5874 - val_acc: 0.6597 - val_f1_m: 0.7284 - val_precision_m: 0.6068 - val_recall_m: 0.9116\n",
      "Epoch 16/25\n",
      "410033/410033 [==============================] - 7s 17us/step - loss: 0.5937 - acc: 0.6538 - f1_m: 0.7246 - precision_m: 0.6012 - recall_m: 0.9127 - val_loss: 0.5967 - val_acc: 0.6548 - val_f1_m: 0.7307 - val_precision_m: 0.5996 - val_recall_m: 0.9356\n",
      "Epoch 17/25\n",
      "410033/410033 [==============================] - 7s 17us/step - loss: 0.5917 - acc: 0.6546 - f1_m: 0.7252 - precision_m: 0.6014 - recall_m: 0.9141 - val_loss: 0.7267 - val_acc: 0.6128 - val_f1_m: 0.7123 - val_precision_m: 0.5673 - val_recall_m: 0.9574\n",
      "Epoch 18/25\n",
      "410033/410033 [==============================] - 7s 17us/step - loss: 0.5922 - acc: 0.6543 - f1_m: 0.7254 - precision_m: 0.6014 - recall_m: 0.9147 - val_loss: 0.5919 - val_acc: 0.6557 - val_f1_m: 0.7260 - val_precision_m: 0.6037 - val_recall_m: 0.9110\n",
      "Epoch 19/25\n",
      "410033/410033 [==============================] - 7s 17us/step - loss: 0.5903 - acc: 0.6549 - f1_m: 0.7256 - precision_m: 0.6022 - recall_m: 0.9147 - val_loss: 0.6037 - val_acc: 0.6499 - val_f1_m: 0.7169 - val_precision_m: 0.6025 - val_recall_m: 0.8854\n",
      "Epoch 20/25\n",
      "410033/410033 [==============================] - 7s 17us/step - loss: 0.5904 - acc: 0.6554 - f1_m: 0.7259 - precision_m: 0.6022 - recall_m: 0.9145 - val_loss: 0.5951 - val_acc: 0.6525 - val_f1_m: 0.7197 - val_precision_m: 0.6038 - val_recall_m: 0.8913\n",
      "Epoch 21/25\n",
      "410033/410033 [==============================] - 7s 17us/step - loss: 0.5898 - acc: 0.6556 - f1_m: 0.7263 - precision_m: 0.6023 - recall_m: 0.9151 - val_loss: 0.5936 - val_acc: 0.6536 - val_f1_m: 0.7206 - val_precision_m: 0.6045 - val_recall_m: 0.8925\n",
      "Epoch 22/25\n",
      "410033/410033 [==============================] - 7s 17us/step - loss: 0.5903 - acc: 0.6552 - f1_m: 0.7256 - precision_m: 0.6026 - recall_m: 0.9142 - val_loss: 0.6996 - val_acc: 0.6164 - val_f1_m: 0.7147 - val_precision_m: 0.5696 - val_recall_m: 0.9597\n",
      "Epoch 23/25\n",
      "410033/410033 [==============================] - 7s 17us/step - loss: 0.5895 - acc: 0.6559 - f1_m: 0.7259 - precision_m: 0.6023 - recall_m: 0.9153 - val_loss: 0.5974 - val_acc: 0.6511 - val_f1_m: 0.7180 - val_precision_m: 0.6032 - val_recall_m: 0.8871\n",
      "Epoch 24/25\n",
      "410033/410033 [==============================] - 7s 17us/step - loss: 0.5901 - acc: 0.6561 - f1_m: 0.7270 - precision_m: 0.6025 - recall_m: 0.9173 - val_loss: 0.6879 - val_acc: 0.6098 - val_f1_m: 0.7114 - val_precision_m: 0.5651 - val_recall_m: 0.9604\n",
      "Epoch 25/25\n",
      "410033/410033 [==============================] - 7s 17us/step - loss: 0.5888 - acc: 0.6563 - f1_m: 0.7272 - precision_m: 0.6029 - recall_m: 0.9171 - val_loss: 1.0830 - val_acc: 0.6610 - val_f1_m: 0.7306 - val_precision_m: 0.6069 - val_recall_m: 0.9181\n"
     ]
    }
   ],
   "source": [
    "history = model.fit(X_train, y_train, epochs=25, batch_size=1000, validation_data=(X_test, y_test), verbose=1, shuffle=True)"
   ]
  },
  {
   "cell_type": "code",
   "execution_count": 76,
   "metadata": {},
   "outputs": [
    {
     "name": "stdout",
     "output_type": "stream",
     "text": [
      "175729/175729 [==============================] - 23s 128us/step\n"
     ]
    }
   ],
   "source": [
    "loss, accuracy, f1_score, precision, recall = model.evaluate(X_test, y_test, verbose=1)"
   ]
  },
  {
   "cell_type": "code",
   "execution_count": 77,
   "metadata": {},
   "outputs": [
    {
     "data": {
      "text/plain": [
       "(0.660983681678772, 0.7257249355316162, 0.6068738698959351, 0.9180732369422913)"
      ]
     },
     "execution_count": 77,
     "metadata": {},
     "output_type": "execute_result"
    }
   ],
   "source": [
    "accuracy, f1_score, precision, recall"
   ]
  },
  {
   "cell_type": "markdown",
   "metadata": {},
   "source": [
    "# <br>\n",
    "# sensitivity analysis"
   ]
  },
  {
   "cell_type": "code",
   "execution_count": 78,
   "metadata": {},
   "outputs": [
    {
     "data": {
      "text/plain": [
       "(24, 24)"
      ]
     },
     "execution_count": 78,
     "metadata": {},
     "output_type": "execute_result"
    }
   ],
   "source": [
    "## Sensitivity Analysis\n",
    "full_X_c = 온라인.iloc[:,3:-2].columns\n",
    "a_features = int(X_train.shape[2])\n",
    "importance_df = pd.DataFrame(np.zeros((a_features, 2)), \n",
    "                             columns=['varible_name', 'perturbation_effect'])\n",
    "a_features, len(full_X_c)"
   ]
  },
  {
   "cell_type": "code",
   "execution_count": 79,
   "metadata": {},
   "outputs": [
    {
     "name": "stderr",
     "output_type": "stream",
     "text": [
      "C:\\ProgramData\\Anaconda3\\lib\\site-packages\\ipykernel_launcher.py:4: TqdmDeprecationWarning: This function will be removed in tqdm==5.0.0\n",
      "Please use `tqdm.notebook.tqdm` instead of `tqdm.tqdm_notebook`\n",
      "  after removing the cwd from sys.path.\n"
     ]
    },
    {
     "data": {
      "application/vnd.jupyter.widget-view+json": {
       "model_id": "96bad28177b5477b86ad8b24578bea90",
       "version_major": 2,
       "version_minor": 0
      },
      "text/plain": [
       "HBox(children=(FloatProgress(value=0.0, max=24.0), HTML(value='')))"
      ]
     },
     "metadata": {},
     "output_type": "display_data"
    },
    {
     "name": "stdout",
     "output_type": "stream",
     "text": [
      "Variable 1, perturbation effect: 0.0104\n",
      "Variable 2, perturbation effect: 0.0031\n",
      "Variable 3, perturbation effect: 0.0031\n",
      "Variable 4, perturbation effect: 0.0141\n",
      "Variable 5, perturbation effect: 0.0400\n",
      "Variable 6, perturbation effect: 0.0527\n",
      "Variable 7, perturbation effect: 0.0720\n",
      "Variable 8, perturbation effect: 0.0802\n",
      "Variable 9, perturbation effect: 0.0447\n",
      "Variable 10, perturbation effect: 0.0736\n",
      "Variable 11, perturbation effect: 0.0068\n",
      "Variable 12, perturbation effect: 0.0168\n",
      "Variable 13, perturbation effect: 0.0501\n",
      "Variable 14, perturbation effect: 0.0212\n",
      "Variable 15, perturbation effect: 0.0204\n",
      "Variable 16, perturbation effect: 0.0080\n",
      "Variable 17, perturbation effect: 0.0060\n",
      "Variable 18, perturbation effect: 0.0023\n",
      "Variable 19, perturbation effect: 0.0101\n",
      "Variable 20, perturbation effect: 0.0102\n",
      "Variable 21, perturbation effect: 0.0299\n",
      "Variable 22, perturbation effect: 0.0253\n",
      "Variable 23, perturbation effect: 0.0247\n",
      "Variable 24, perturbation effect: 0.0479\n",
      "\n",
      "             varible_name  perturbation_effect\n",
      "7           action_type_3             0.080201\n",
      "9           action_type_5             0.073612\n",
      "6           action_type_2             0.072028\n",
      "5           action_type_1             0.052746\n",
      "12           biz_unit_A03             0.050135\n",
      "23     dvc_ctg_nm_unknown             0.047884\n",
      "8           action_type_4             0.044704\n",
      "4                 keyword             0.039988\n",
      "20       trfc_src_unknown             0.029946\n",
      "21  dvc_ctg_nm_mobile_app             0.025260\n",
      "22  dvc_ctg_nm_mobile_web             0.024691\n",
      "13         sess_dt_201908             0.021196\n",
      "14         sess_dt_201909             0.020418\n",
      "11           biz_unit_A02             0.016795\n",
      "3            holiday_diff             0.014053\n",
      "0                 hit_seq             0.010442\n",
      "19       trfc_src_WEBSITE             0.010156\n",
      "18          trfc_src_PUSH             0.010136\n",
      "15      trfc_src_PORTAL_1             0.008005\n",
      "10          action_type_7             0.006765\n",
      "16      trfc_src_PORTAL_2             0.005955\n",
      "2             time_length             0.003106\n",
      "1              hit_pss_tm             0.003057\n",
      "17      trfc_src_PORTAL_3             0.002254\n"
     ]
    }
   ],
   "source": [
    "def var_importance(model):\n",
    "    x = X_test # Get a sample of data\n",
    "    orig_out = model.predict(x)\n",
    "    for i in tqdm_notebook(range(a_features)):  # iterate over the three features\n",
    "        new_x = x.copy()\n",
    "        perturbation = np.random.normal(0.0, 0.2, size= new_x.shape[:2])\n",
    "        new_x[:, :, i] = new_x[:, :, i] + perturbation\n",
    "        perturbed_out = model.predict(new_x)\n",
    "        effect = ((orig_out - perturbed_out) ** 2).mean() ** 0.5 #RMSE\n",
    "        importance_df.iloc[i,0] = full_X_c[i]\n",
    "        importance_df.iloc[i,1] = effect\n",
    "        print(f'Variable {i+1}, perturbation effect: {effect:.4f}')\n",
    "\n",
    "var_importance(model)\n",
    "importance_df = importance_df.sort_values(by='perturbation_effect', ascending=False)\n",
    "print(importance_df)"
   ]
  },
  {
   "cell_type": "code",
   "execution_count": 80,
   "metadata": {
    "scrolled": true
   },
   "outputs": [
    {
     "data": {
      "text/html": [
       "<div>\n",
       "<style scoped>\n",
       "    .dataframe tbody tr th:only-of-type {\n",
       "        vertical-align: middle;\n",
       "    }\n",
       "\n",
       "    .dataframe tbody tr th {\n",
       "        vertical-align: top;\n",
       "    }\n",
       "\n",
       "    .dataframe thead th {\n",
       "        text-align: right;\n",
       "    }\n",
       "</style>\n",
       "<table border=\"1\" class=\"dataframe\">\n",
       "  <thead>\n",
       "    <tr style=\"text-align: right;\">\n",
       "      <th></th>\n",
       "      <th>varible_name</th>\n",
       "      <th>perturbation_effect</th>\n",
       "    </tr>\n",
       "  </thead>\n",
       "  <tbody>\n",
       "    <tr>\n",
       "      <th>7</th>\n",
       "      <td>action_type_3</td>\n",
       "      <td>0.080201</td>\n",
       "    </tr>\n",
       "    <tr>\n",
       "      <th>9</th>\n",
       "      <td>action_type_5</td>\n",
       "      <td>0.073612</td>\n",
       "    </tr>\n",
       "    <tr>\n",
       "      <th>6</th>\n",
       "      <td>action_type_2</td>\n",
       "      <td>0.072028</td>\n",
       "    </tr>\n",
       "    <tr>\n",
       "      <th>5</th>\n",
       "      <td>action_type_1</td>\n",
       "      <td>0.052746</td>\n",
       "    </tr>\n",
       "    <tr>\n",
       "      <th>12</th>\n",
       "      <td>biz_unit_A03</td>\n",
       "      <td>0.050135</td>\n",
       "    </tr>\n",
       "    <tr>\n",
       "      <th>23</th>\n",
       "      <td>dvc_ctg_nm_unknown</td>\n",
       "      <td>0.047884</td>\n",
       "    </tr>\n",
       "    <tr>\n",
       "      <th>8</th>\n",
       "      <td>action_type_4</td>\n",
       "      <td>0.044704</td>\n",
       "    </tr>\n",
       "    <tr>\n",
       "      <th>4</th>\n",
       "      <td>keyword</td>\n",
       "      <td>0.039988</td>\n",
       "    </tr>\n",
       "    <tr>\n",
       "      <th>20</th>\n",
       "      <td>trfc_src_unknown</td>\n",
       "      <td>0.029946</td>\n",
       "    </tr>\n",
       "    <tr>\n",
       "      <th>21</th>\n",
       "      <td>dvc_ctg_nm_mobile_app</td>\n",
       "      <td>0.025260</td>\n",
       "    </tr>\n",
       "    <tr>\n",
       "      <th>22</th>\n",
       "      <td>dvc_ctg_nm_mobile_web</td>\n",
       "      <td>0.024691</td>\n",
       "    </tr>\n",
       "    <tr>\n",
       "      <th>13</th>\n",
       "      <td>sess_dt_201908</td>\n",
       "      <td>0.021196</td>\n",
       "    </tr>\n",
       "    <tr>\n",
       "      <th>14</th>\n",
       "      <td>sess_dt_201909</td>\n",
       "      <td>0.020418</td>\n",
       "    </tr>\n",
       "    <tr>\n",
       "      <th>11</th>\n",
       "      <td>biz_unit_A02</td>\n",
       "      <td>0.016795</td>\n",
       "    </tr>\n",
       "    <tr>\n",
       "      <th>3</th>\n",
       "      <td>holiday_diff</td>\n",
       "      <td>0.014053</td>\n",
       "    </tr>\n",
       "    <tr>\n",
       "      <th>0</th>\n",
       "      <td>hit_seq</td>\n",
       "      <td>0.010442</td>\n",
       "    </tr>\n",
       "    <tr>\n",
       "      <th>19</th>\n",
       "      <td>trfc_src_WEBSITE</td>\n",
       "      <td>0.010156</td>\n",
       "    </tr>\n",
       "    <tr>\n",
       "      <th>18</th>\n",
       "      <td>trfc_src_PUSH</td>\n",
       "      <td>0.010136</td>\n",
       "    </tr>\n",
       "    <tr>\n",
       "      <th>15</th>\n",
       "      <td>trfc_src_PORTAL_1</td>\n",
       "      <td>0.008005</td>\n",
       "    </tr>\n",
       "    <tr>\n",
       "      <th>10</th>\n",
       "      <td>action_type_7</td>\n",
       "      <td>0.006765</td>\n",
       "    </tr>\n",
       "    <tr>\n",
       "      <th>16</th>\n",
       "      <td>trfc_src_PORTAL_2</td>\n",
       "      <td>0.005955</td>\n",
       "    </tr>\n",
       "    <tr>\n",
       "      <th>2</th>\n",
       "      <td>time_length</td>\n",
       "      <td>0.003106</td>\n",
       "    </tr>\n",
       "    <tr>\n",
       "      <th>1</th>\n",
       "      <td>hit_pss_tm</td>\n",
       "      <td>0.003057</td>\n",
       "    </tr>\n",
       "    <tr>\n",
       "      <th>17</th>\n",
       "      <td>trfc_src_PORTAL_3</td>\n",
       "      <td>0.002254</td>\n",
       "    </tr>\n",
       "  </tbody>\n",
       "</table>\n",
       "</div>"
      ],
      "text/plain": [
       "             varible_name  perturbation_effect\n",
       "7           action_type_3             0.080201\n",
       "9           action_type_5             0.073612\n",
       "6           action_type_2             0.072028\n",
       "5           action_type_1             0.052746\n",
       "12           biz_unit_A03             0.050135\n",
       "23     dvc_ctg_nm_unknown             0.047884\n",
       "8           action_type_4             0.044704\n",
       "4                 keyword             0.039988\n",
       "20       trfc_src_unknown             0.029946\n",
       "21  dvc_ctg_nm_mobile_app             0.025260\n",
       "22  dvc_ctg_nm_mobile_web             0.024691\n",
       "13         sess_dt_201908             0.021196\n",
       "14         sess_dt_201909             0.020418\n",
       "11           biz_unit_A02             0.016795\n",
       "3            holiday_diff             0.014053\n",
       "0                 hit_seq             0.010442\n",
       "19       trfc_src_WEBSITE             0.010156\n",
       "18          trfc_src_PUSH             0.010136\n",
       "15      trfc_src_PORTAL_1             0.008005\n",
       "10          action_type_7             0.006765\n",
       "16      trfc_src_PORTAL_2             0.005955\n",
       "2             time_length             0.003106\n",
       "1              hit_pss_tm             0.003057\n",
       "17      trfc_src_PORTAL_3             0.002254"
      ]
     },
     "execution_count": 80,
     "metadata": {},
     "output_type": "execute_result"
    }
   ],
   "source": [
    "importance_df"
   ]
  },
  {
   "cell_type": "code",
   "execution_count": 81,
   "metadata": {
    "scrolled": false
   },
   "outputs": [
    {
     "data": {
      "image/png": "[encoded data removed]",
      "text/plain": [
       "<Figure size 1080x360 with 1 Axes>"
      ]
     },
     "metadata": {
      "needs_background": "light"
     },
     "output_type": "display_data"
    }
   ],
   "source": [
    "## Plot 예시\n",
    "#mpl.rc('font', family='New Gulim')\n",
    "#mpl.rc('axes', unicode_minus=False)\n",
    "plt.subplots(figsize=(15,5))\n",
    "plt.bar(importance_df.iloc[:,0], importance_df.iloc[:,1])\n",
    "plt.title('Sensitivity Analysis', fontsize=18)\n",
    "#plt.xlabel('IV')\n",
    "plt.ylabel('Perturbation Effect')\n",
    "plt.xticks(importance_df.iloc[:,0], rotation=90)\n",
    "plt.show()"
   ]
  },
  {
   "cell_type": "code",
   "execution_count": 82,
   "metadata": {},
   "outputs": [
    {
     "data": {
      "text/plain": [
       "0.028063864674639002"
      ]
     },
     "execution_count": 82,
     "metadata": {},
     "output_type": "execute_result"
    }
   ],
   "source": [
    "importance_df.perturbation_effect.mean()"
   ]
  }
 ],
 "metadata": {
  "kernelspec": {
   "display_name": "Python 3",
   "language": "python",
   "name": "python3"
  },
  "language_info": {
   "codemirror_mode": {
    "name": "ipython",
    "version": 3
   },
   "file_extension": ".py",
   "mimetype": "text/x-python",
   "name": "python",
   "nbconvert_exporter": "python",
   "pygments_lexer": "ipython3",
   "version": "3.7.3"
  }
 },
 "nbformat": 4,
 "nbformat_minor": 2
}
