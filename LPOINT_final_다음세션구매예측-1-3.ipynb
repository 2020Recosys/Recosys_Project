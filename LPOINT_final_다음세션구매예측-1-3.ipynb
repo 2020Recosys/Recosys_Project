{
 "cells": [
  {
   "cell_type": "markdown",
   "metadata": {},
   "source": [
    "**현재 세션(1개)의 앞 부분의 10개 클릭 **를 대상으로 MLP, Gaussian Naive Bayes, Decision Tree, XGBoost, Logistic Regression, Linear SVM을 사용해서 구매 예측"
   ]
  },
  {
   "cell_type": "code",
   "execution_count": 1,
   "metadata": {},
   "outputs": [],
   "source": [
    "import pandas as pd\n",
    "import numpy as np\n",
    "import matplotlib.pyplot as plt\n",
    "from tqdm import tqdm_notebook\n",
    "import itertools\n",
    "from sklearn.preprocessing import StandardScaler, MinMaxScaler"
   ]
  },
  {
   "cell_type": "code",
   "execution_count": 2,
   "metadata": {},
   "outputs": [],
   "source": [
    "# 불러오기\n",
    "import pandas as pd\n",
    "\n",
    "온라인 = pd.read_csv('온라인_전처리_final_32columns.csv')\n",
    "\n",
    "# 각 clnt_id별 session이 바뀌는 지점 index 저장\n",
    "idx1 = 온라인.unique_id.drop_duplicates().index.tolist()\n",
    "idx2 = idx1[1:] + [len(온라인)]"
   ]
  },
  {
   "cell_type": "code",
   "execution_count": 3,
   "metadata": {},
   "outputs": [
    {
     "data": {
      "text/html": [
       "<div>\n",
       "<style scoped>\n",
       "    .dataframe tbody tr th:only-of-type {\n",
       "        vertical-align: middle;\n",
       "    }\n",
       "\n",
       "    .dataframe tbody tr th {\n",
       "        vertical-align: top;\n",
       "    }\n",
       "\n",
       "    .dataframe thead th {\n",
       "        text-align: right;\n",
       "    }\n",
       "</style>\n",
       "<table border=\"1\" class=\"dataframe\">\n",
       "  <thead>\n",
       "    <tr style=\"text-align: right;\">\n",
       "      <th></th>\n",
       "      <th>clnt_id</th>\n",
       "      <th>sess_id</th>\n",
       "      <th>trans_id</th>\n",
       "      <th>hit_seq</th>\n",
       "      <th>hit_pss_tm</th>\n",
       "      <th>time_length</th>\n",
       "      <th>holiday_diff</th>\n",
       "      <th>keyword</th>\n",
       "      <th>action_type_0</th>\n",
       "      <th>action_type_1</th>\n",
       "      <th>...</th>\n",
       "      <th>trfc_src_PORTAL_3</th>\n",
       "      <th>trfc_src_PUSH</th>\n",
       "      <th>trfc_src_WEBSITE</th>\n",
       "      <th>trfc_src_unknown</th>\n",
       "      <th>dvc_ctg_nm_PC</th>\n",
       "      <th>dvc_ctg_nm_mobile_app</th>\n",
       "      <th>dvc_ctg_nm_mobile_web</th>\n",
       "      <th>dvc_ctg_nm_unknown</th>\n",
       "      <th>unique_id</th>\n",
       "      <th>buy</th>\n",
       "    </tr>\n",
       "  </thead>\n",
       "  <tbody>\n",
       "    <tr>\n",
       "      <th>0</th>\n",
       "      <td>1</td>\n",
       "      <td>1</td>\n",
       "      <td>NaN</td>\n",
       "      <td>1</td>\n",
       "      <td>12.0</td>\n",
       "      <td>11.0</td>\n",
       "      <td>0</td>\n",
       "      <td>1</td>\n",
       "      <td>1</td>\n",
       "      <td>0</td>\n",
       "      <td>...</td>\n",
       "      <td>0</td>\n",
       "      <td>0</td>\n",
       "      <td>0</td>\n",
       "      <td>1</td>\n",
       "      <td>0</td>\n",
       "      <td>1</td>\n",
       "      <td>0</td>\n",
       "      <td>0</td>\n",
       "      <td>1_1</td>\n",
       "      <td>0</td>\n",
       "    </tr>\n",
       "    <tr>\n",
       "      <th>1</th>\n",
       "      <td>1</td>\n",
       "      <td>1</td>\n",
       "      <td>NaN</td>\n",
       "      <td>2</td>\n",
       "      <td>23.0</td>\n",
       "      <td>14.0</td>\n",
       "      <td>0</td>\n",
       "      <td>2</td>\n",
       "      <td>1</td>\n",
       "      <td>0</td>\n",
       "      <td>...</td>\n",
       "      <td>0</td>\n",
       "      <td>0</td>\n",
       "      <td>0</td>\n",
       "      <td>1</td>\n",
       "      <td>0</td>\n",
       "      <td>1</td>\n",
       "      <td>0</td>\n",
       "      <td>0</td>\n",
       "      <td>1_1</td>\n",
       "      <td>0</td>\n",
       "    </tr>\n",
       "    <tr>\n",
       "      <th>2</th>\n",
       "      <td>1</td>\n",
       "      <td>1</td>\n",
       "      <td>NaN</td>\n",
       "      <td>3</td>\n",
       "      <td>37.0</td>\n",
       "      <td>14.0</td>\n",
       "      <td>0</td>\n",
       "      <td>3</td>\n",
       "      <td>1</td>\n",
       "      <td>0</td>\n",
       "      <td>...</td>\n",
       "      <td>0</td>\n",
       "      <td>0</td>\n",
       "      <td>0</td>\n",
       "      <td>1</td>\n",
       "      <td>0</td>\n",
       "      <td>1</td>\n",
       "      <td>0</td>\n",
       "      <td>0</td>\n",
       "      <td>1_1</td>\n",
       "      <td>0</td>\n",
       "    </tr>\n",
       "    <tr>\n",
       "      <th>3</th>\n",
       "      <td>1</td>\n",
       "      <td>2</td>\n",
       "      <td>NaN</td>\n",
       "      <td>1</td>\n",
       "      <td>42.0</td>\n",
       "      <td>15.0</td>\n",
       "      <td>1</td>\n",
       "      <td>1</td>\n",
       "      <td>1</td>\n",
       "      <td>0</td>\n",
       "      <td>...</td>\n",
       "      <td>0</td>\n",
       "      <td>0</td>\n",
       "      <td>0</td>\n",
       "      <td>1</td>\n",
       "      <td>0</td>\n",
       "      <td>1</td>\n",
       "      <td>0</td>\n",
       "      <td>0</td>\n",
       "      <td>1_2</td>\n",
       "      <td>0</td>\n",
       "    </tr>\n",
       "    <tr>\n",
       "      <th>4</th>\n",
       "      <td>1</td>\n",
       "      <td>2</td>\n",
       "      <td>NaN</td>\n",
       "      <td>2</td>\n",
       "      <td>57.0</td>\n",
       "      <td>14.0</td>\n",
       "      <td>1</td>\n",
       "      <td>2</td>\n",
       "      <td>1</td>\n",
       "      <td>0</td>\n",
       "      <td>...</td>\n",
       "      <td>0</td>\n",
       "      <td>0</td>\n",
       "      <td>0</td>\n",
       "      <td>1</td>\n",
       "      <td>0</td>\n",
       "      <td>1</td>\n",
       "      <td>0</td>\n",
       "      <td>0</td>\n",
       "      <td>1_2</td>\n",
       "      <td>0</td>\n",
       "    </tr>\n",
       "  </tbody>\n",
       "</table>\n",
       "<p>5 rows × 32 columns</p>\n",
       "</div>"
      ],
      "text/plain": [
       "   clnt_id  sess_id  trans_id  hit_seq  hit_pss_tm  time_length  holiday_diff  \\\n",
       "0        1        1       NaN        1        12.0         11.0             0   \n",
       "1        1        1       NaN        2        23.0         14.0             0   \n",
       "2        1        1       NaN        3        37.0         14.0             0   \n",
       "3        1        2       NaN        1        42.0         15.0             1   \n",
       "4        1        2       NaN        2        57.0         14.0             1   \n",
       "\n",
       "   keyword  action_type_0  action_type_1  ...  trfc_src_PORTAL_3  \\\n",
       "0        1              1              0  ...                  0   \n",
       "1        2              1              0  ...                  0   \n",
       "2        3              1              0  ...                  0   \n",
       "3        1              1              0  ...                  0   \n",
       "4        2              1              0  ...                  0   \n",
       "\n",
       "   trfc_src_PUSH  trfc_src_WEBSITE  trfc_src_unknown  dvc_ctg_nm_PC  \\\n",
       "0              0                 0                 1              0   \n",
       "1              0                 0                 1              0   \n",
       "2              0                 0                 1              0   \n",
       "3              0                 0                 1              0   \n",
       "4              0                 0                 1              0   \n",
       "\n",
       "   dvc_ctg_nm_mobile_app  dvc_ctg_nm_mobile_web  dvc_ctg_nm_unknown  \\\n",
       "0                      1                      0                   0   \n",
       "1                      1                      0                   0   \n",
       "2                      1                      0                   0   \n",
       "3                      1                      0                   0   \n",
       "4                      1                      0                   0   \n",
       "\n",
       "   unique_id  buy  \n",
       "0        1_1    0  \n",
       "1        1_1    0  \n",
       "2        1_1    0  \n",
       "3        1_2    0  \n",
       "4        1_2    0  \n",
       "\n",
       "[5 rows x 32 columns]"
      ]
     },
     "execution_count": 3,
     "metadata": {},
     "output_type": "execute_result"
    }
   ],
   "source": [
    "온라인.head()"
   ]
  },
  {
   "cell_type": "code",
   "execution_count": 4,
   "metadata": {},
   "outputs": [
    {
     "data": {
      "text/plain": [
       "Index(['hit_seq', 'hit_pss_tm', 'time_length', 'holiday_diff', 'keyword',\n",
       "       'action_type_0', 'action_type_1', 'action_type_2', 'action_type_3',\n",
       "       'action_type_4', 'biz_unit_A01', 'biz_unit_A02', 'biz_unit_A03',\n",
       "       'sess_dt_201907', 'sess_dt_201908', 'sess_dt_201909', 'trfc_src_DIRECT',\n",
       "       'trfc_src_PORTAL_1', 'trfc_src_PORTAL_2', 'trfc_src_PORTAL_3',\n",
       "       'trfc_src_PUSH', 'trfc_src_WEBSITE', 'trfc_src_unknown',\n",
       "       'dvc_ctg_nm_PC', 'dvc_ctg_nm_mobile_app', 'dvc_ctg_nm_mobile_web',\n",
       "       'dvc_ctg_nm_unknown'],\n",
       "      dtype='object')"
      ]
     },
     "execution_count": 4,
     "metadata": {},
     "output_type": "execute_result"
    }
   ],
   "source": [
    "온라인.columns[3:-2]"
   ]
  },
  {
   "cell_type": "code",
   "execution_count": 5,
   "metadata": {},
   "outputs": [
    {
     "data": {
      "text/plain": [
       "27"
      ]
     },
     "execution_count": 5,
     "metadata": {},
     "output_type": "execute_result"
    }
   ],
   "source": [
    "len(온라인.columns[3:-2])"
   ]
  },
  {
   "cell_type": "markdown",
   "metadata": {},
   "source": [
    "# <br>\n",
    "# 종속변수 생성\n",
    "다음 세션의 구매 여부"
   ]
  },
  {
   "cell_type": "code",
   "execution_count": 7,
   "metadata": {},
   "outputs": [],
   "source": [
    "# 다음 세션의 구매를 예측하기 위한 종속변수 생성\n",
    "구매여부 = 온라인[['clnt_id', 'sess_id', 'buy']].groupby(['clnt_id', 'sess_id']).sum()\n",
    "구매여부.buy = 구매여부.buy.apply(lambda x:0 if x == 0 else 1)\n",
    "구매여부 = 구매여부.sort_index()\n",
    "구매여부 = 구매여부.reset_index()\n",
    "# 각 clnt_id별로 shift로 1행씩 올림\n",
    "구매여부.buy = 구매여부.buy.shift(-1)\n",
    "g = 구매여부.groupby('clnt_id')\n",
    "# 1행씩 올리면 각 clnt_id별로 마지막 값은 다음 id의 값, 따라서 마지막 행 제거\n",
    "구매여부.drop(g.tail(1).index, axis=0, inplace = True)"
   ]
  },
  {
   "cell_type": "code",
   "execution_count": 8,
   "metadata": {},
   "outputs": [],
   "source": [
    "구매여부['unique_id'] = list(map(lambda x,y: str(x)+'_'+str(y), 구매여부.clnt_id, 구매여부.sess_id))"
   ]
  },
  {
   "cell_type": "code",
   "execution_count": 9,
   "metadata": {},
   "outputs": [
    {
     "data": {
      "text/html": [
       "<div>\n",
       "<style scoped>\n",
       "    .dataframe tbody tr th:only-of-type {\n",
       "        vertical-align: middle;\n",
       "    }\n",
       "\n",
       "    .dataframe tbody tr th {\n",
       "        vertical-align: top;\n",
       "    }\n",
       "\n",
       "    .dataframe thead th {\n",
       "        text-align: right;\n",
       "    }\n",
       "</style>\n",
       "<table border=\"1\" class=\"dataframe\">\n",
       "  <thead>\n",
       "    <tr style=\"text-align: right;\">\n",
       "      <th></th>\n",
       "      <th>clnt_id</th>\n",
       "      <th>sess_id</th>\n",
       "      <th>buy</th>\n",
       "      <th>unique_id</th>\n",
       "    </tr>\n",
       "  </thead>\n",
       "  <tbody>\n",
       "    <tr>\n",
       "      <th>0</th>\n",
       "      <td>1</td>\n",
       "      <td>1</td>\n",
       "      <td>0.0</td>\n",
       "      <td>1_1</td>\n",
       "    </tr>\n",
       "    <tr>\n",
       "      <th>2</th>\n",
       "      <td>2</td>\n",
       "      <td>1</td>\n",
       "      <td>0.0</td>\n",
       "      <td>2_1</td>\n",
       "    </tr>\n",
       "    <tr>\n",
       "      <th>3</th>\n",
       "      <td>2</td>\n",
       "      <td>2</td>\n",
       "      <td>0.0</td>\n",
       "      <td>2_2</td>\n",
       "    </tr>\n",
       "    <tr>\n",
       "      <th>4</th>\n",
       "      <td>2</td>\n",
       "      <td>3</td>\n",
       "      <td>0.0</td>\n",
       "      <td>2_3</td>\n",
       "    </tr>\n",
       "    <tr>\n",
       "      <th>5</th>\n",
       "      <td>2</td>\n",
       "      <td>4</td>\n",
       "      <td>0.0</td>\n",
       "      <td>2_4</td>\n",
       "    </tr>\n",
       "    <tr>\n",
       "      <th>...</th>\n",
       "      <td>...</td>\n",
       "      <td>...</td>\n",
       "      <td>...</td>\n",
       "      <td>...</td>\n",
       "    </tr>\n",
       "    <tr>\n",
       "      <th>367141</th>\n",
       "      <td>72427</td>\n",
       "      <td>3</td>\n",
       "      <td>0.0</td>\n",
       "      <td>72427_3</td>\n",
       "    </tr>\n",
       "    <tr>\n",
       "      <th>367143</th>\n",
       "      <td>72428</td>\n",
       "      <td>1</td>\n",
       "      <td>0.0</td>\n",
       "      <td>72428_1</td>\n",
       "    </tr>\n",
       "    <tr>\n",
       "      <th>367144</th>\n",
       "      <td>72428</td>\n",
       "      <td>2</td>\n",
       "      <td>0.0</td>\n",
       "      <td>72428_2</td>\n",
       "    </tr>\n",
       "    <tr>\n",
       "      <th>367145</th>\n",
       "      <td>72428</td>\n",
       "      <td>3</td>\n",
       "      <td>0.0</td>\n",
       "      <td>72428_3</td>\n",
       "    </tr>\n",
       "    <tr>\n",
       "      <th>367146</th>\n",
       "      <td>72428</td>\n",
       "      <td>4</td>\n",
       "      <td>0.0</td>\n",
       "      <td>72428_4</td>\n",
       "    </tr>\n",
       "  </tbody>\n",
       "</table>\n",
       "<p>294750 rows × 4 columns</p>\n",
       "</div>"
      ],
      "text/plain": [
       "        clnt_id  sess_id  buy unique_id\n",
       "0             1        1  0.0       1_1\n",
       "2             2        1  0.0       2_1\n",
       "3             2        2  0.0       2_2\n",
       "4             2        3  0.0       2_3\n",
       "5             2        4  0.0       2_4\n",
       "...         ...      ...  ...       ...\n",
       "367141    72427        3  0.0   72427_3\n",
       "367143    72428        1  0.0   72428_1\n",
       "367144    72428        2  0.0   72428_2\n",
       "367145    72428        3  0.0   72428_3\n",
       "367146    72428        4  0.0   72428_4\n",
       "\n",
       "[294750 rows x 4 columns]"
      ]
     },
     "execution_count": 9,
     "metadata": {},
     "output_type": "execute_result"
    }
   ],
   "source": [
    "구매여부"
   ]
  },
  {
   "cell_type": "markdown",
   "metadata": {},
   "source": [
    "# <br>\n",
    "# 클릭 10개  로그 대상\n",
    "클릭 10개 미만 세션들 삭제, 10개 이상 클릭 로그들 삭제"
   ]
  },
  {
   "cell_type": "code",
   "execution_count": 33,
   "metadata": {},
   "outputs": [
    {
     "data": {
      "text/plain": [
       "Index(['10000_1', '10000_2', '10001_1', '10003_1', '10004_1', '10004_2',\n",
       "       '10005_1', '10005_2', '10005_3', '10005_4',\n",
       "       ...\n",
       "       '9_24', '9_28', '9_29', '9_3', '9_30', '9_31', '9_4', '9_7', '9_8',\n",
       "       '9_9'],\n",
       "      dtype='object', name='unique_id', length=280908)"
      ]
     },
     "execution_count": 33,
     "metadata": {},
     "output_type": "execute_result"
    }
   ],
   "source": [
    "# 클릭 10개 미만 세션들은 삭제\n",
    "temp = pd.DataFrame(온라인.groupby('unique_id')['hit_seq'].count())\n",
    "클릭10개미만 = temp[temp.hit_seq < 10].index\n",
    "클릭10개미만"
   ]
  },
  {
   "cell_type": "code",
   "execution_count": 34,
   "metadata": {},
   "outputs": [],
   "source": [
    "온라인2 = 온라인[~온라인.unique_id.isin(클릭10개미만)].copy()"
   ]
  },
  {
   "cell_type": "code",
   "execution_count": 35,
   "metadata": {},
   "outputs": [],
   "source": [
    "# 10개 그 뒤의 hit_seq 삭제\n",
    "온라인2 = 온라인2[온라인2.hit_seq < 11].copy()"
   ]
  },
  {
   "cell_type": "code",
   "execution_count": 36,
   "metadata": {},
   "outputs": [
    {
     "data": {
      "text/plain": [
       "array([ 1,  2,  3,  4,  5,  6,  7,  8,  9, 10], dtype=int64)"
      ]
     },
     "execution_count": 36,
     "metadata": {},
     "output_type": "execute_result"
    }
   ],
   "source": [
    "# 10개까지의 hit_seq만 들어갔는지 확인\n",
    "온라인2.hit_seq.unique()"
   ]
  },
  {
   "cell_type": "code",
   "execution_count": 37,
   "metadata": {},
   "outputs": [],
   "source": [
    "온라인2.drop(['clnt_id', 'sess_id', 'trans_id', 'buy'], axis=1, inplace=True)"
   ]
  },
  {
   "cell_type": "code",
   "execution_count": 38,
   "metadata": {},
   "outputs": [],
   "source": [
    "def to_flat(df):\n",
    "    cc = df.groupby(['unique_id']).cumcount() + 1\n",
    "    flat_df = df.set_index(['unique_id', cc]).unstack().sort_index(1, level=1)\n",
    "    flat_df.columns = ['_'.join(map(str,i)) for i in flat_df.columns]\n",
    "    flat_df.reset_index(inplace=True)\n",
    "    return flat_df"
   ]
  },
  {
   "cell_type": "code",
   "execution_count": 39,
   "metadata": {},
   "outputs": [],
   "source": [
    "온라인2 = to_flat(온라인2)\n",
    "온라인2 = 온라인2.merge(구매여부, left_on='unique_id', right_on='unique_id')\n",
    "온라인2.sort_values(by=['clnt_id','sess_id'], inplace=True)\n",
    "온라인2.reset_index(drop=True, inplace=True)"
   ]
  },
  {
   "cell_type": "code",
   "execution_count": 40,
   "metadata": {},
   "outputs": [
    {
     "data": {
      "text/html": [
       "<div>\n",
       "<style scoped>\n",
       "    .dataframe tbody tr th:only-of-type {\n",
       "        vertical-align: middle;\n",
       "    }\n",
       "\n",
       "    .dataframe tbody tr th {\n",
       "        vertical-align: top;\n",
       "    }\n",
       "\n",
       "    .dataframe thead th {\n",
       "        text-align: right;\n",
       "    }\n",
       "</style>\n",
       "<table border=\"1\" class=\"dataframe\">\n",
       "  <thead>\n",
       "    <tr style=\"text-align: right;\">\n",
       "      <th></th>\n",
       "      <th>unique_id</th>\n",
       "      <th>action_type_0_1</th>\n",
       "      <th>action_type_1_1</th>\n",
       "      <th>action_type_2_1</th>\n",
       "      <th>action_type_3_1</th>\n",
       "      <th>action_type_4_1</th>\n",
       "      <th>biz_unit_A01_1</th>\n",
       "      <th>biz_unit_A02_1</th>\n",
       "      <th>biz_unit_A03_1</th>\n",
       "      <th>dvc_ctg_nm_PC_1</th>\n",
       "      <th>...</th>\n",
       "      <th>trfc_src_DIRECT_10</th>\n",
       "      <th>trfc_src_PORTAL_1_10</th>\n",
       "      <th>trfc_src_PORTAL_2_10</th>\n",
       "      <th>trfc_src_PORTAL_3_10</th>\n",
       "      <th>trfc_src_PUSH_10</th>\n",
       "      <th>trfc_src_WEBSITE_10</th>\n",
       "      <th>trfc_src_unknown_10</th>\n",
       "      <th>clnt_id</th>\n",
       "      <th>sess_id</th>\n",
       "      <th>buy</th>\n",
       "    </tr>\n",
       "  </thead>\n",
       "  <tbody>\n",
       "    <tr>\n",
       "      <th>0</th>\n",
       "      <td>2_1</td>\n",
       "      <td>1</td>\n",
       "      <td>0</td>\n",
       "      <td>0</td>\n",
       "      <td>0</td>\n",
       "      <td>0</td>\n",
       "      <td>0</td>\n",
       "      <td>0</td>\n",
       "      <td>1</td>\n",
       "      <td>0</td>\n",
       "      <td>...</td>\n",
       "      <td>1</td>\n",
       "      <td>0</td>\n",
       "      <td>0</td>\n",
       "      <td>0</td>\n",
       "      <td>0</td>\n",
       "      <td>0</td>\n",
       "      <td>0</td>\n",
       "      <td>2</td>\n",
       "      <td>1</td>\n",
       "      <td>0.0</td>\n",
       "    </tr>\n",
       "    <tr>\n",
       "      <th>1</th>\n",
       "      <td>2_8</td>\n",
       "      <td>0</td>\n",
       "      <td>0</td>\n",
       "      <td>0</td>\n",
       "      <td>0</td>\n",
       "      <td>0</td>\n",
       "      <td>0</td>\n",
       "      <td>0</td>\n",
       "      <td>1</td>\n",
       "      <td>0</td>\n",
       "      <td>...</td>\n",
       "      <td>1</td>\n",
       "      <td>0</td>\n",
       "      <td>0</td>\n",
       "      <td>0</td>\n",
       "      <td>0</td>\n",
       "      <td>0</td>\n",
       "      <td>0</td>\n",
       "      <td>2</td>\n",
       "      <td>8</td>\n",
       "      <td>0.0</td>\n",
       "    </tr>\n",
       "    <tr>\n",
       "      <th>2</th>\n",
       "      <td>2_10</td>\n",
       "      <td>1</td>\n",
       "      <td>0</td>\n",
       "      <td>0</td>\n",
       "      <td>0</td>\n",
       "      <td>0</td>\n",
       "      <td>0</td>\n",
       "      <td>0</td>\n",
       "      <td>1</td>\n",
       "      <td>0</td>\n",
       "      <td>...</td>\n",
       "      <td>1</td>\n",
       "      <td>0</td>\n",
       "      <td>0</td>\n",
       "      <td>0</td>\n",
       "      <td>0</td>\n",
       "      <td>0</td>\n",
       "      <td>0</td>\n",
       "      <td>2</td>\n",
       "      <td>10</td>\n",
       "      <td>0.0</td>\n",
       "    </tr>\n",
       "    <tr>\n",
       "      <th>3</th>\n",
       "      <td>2_15</td>\n",
       "      <td>0</td>\n",
       "      <td>0</td>\n",
       "      <td>1</td>\n",
       "      <td>0</td>\n",
       "      <td>0</td>\n",
       "      <td>0</td>\n",
       "      <td>0</td>\n",
       "      <td>1</td>\n",
       "      <td>0</td>\n",
       "      <td>...</td>\n",
       "      <td>1</td>\n",
       "      <td>0</td>\n",
       "      <td>0</td>\n",
       "      <td>0</td>\n",
       "      <td>0</td>\n",
       "      <td>0</td>\n",
       "      <td>0</td>\n",
       "      <td>2</td>\n",
       "      <td>15</td>\n",
       "      <td>0.0</td>\n",
       "    </tr>\n",
       "    <tr>\n",
       "      <th>4</th>\n",
       "      <td>2_16</td>\n",
       "      <td>0</td>\n",
       "      <td>1</td>\n",
       "      <td>0</td>\n",
       "      <td>0</td>\n",
       "      <td>0</td>\n",
       "      <td>0</td>\n",
       "      <td>0</td>\n",
       "      <td>1</td>\n",
       "      <td>0</td>\n",
       "      <td>...</td>\n",
       "      <td>1</td>\n",
       "      <td>0</td>\n",
       "      <td>0</td>\n",
       "      <td>0</td>\n",
       "      <td>0</td>\n",
       "      <td>0</td>\n",
       "      <td>0</td>\n",
       "      <td>2</td>\n",
       "      <td>16</td>\n",
       "      <td>0.0</td>\n",
       "    </tr>\n",
       "  </tbody>\n",
       "</table>\n",
       "<p>5 rows × 274 columns</p>\n",
       "</div>"
      ],
      "text/plain": [
       "  unique_id  action_type_0_1  action_type_1_1  action_type_2_1  \\\n",
       "0       2_1                1                0                0   \n",
       "1       2_8                0                0                0   \n",
       "2      2_10                1                0                0   \n",
       "3      2_15                0                0                1   \n",
       "4      2_16                0                1                0   \n",
       "\n",
       "   action_type_3_1  action_type_4_1  biz_unit_A01_1  biz_unit_A02_1  \\\n",
       "0                0                0               0               0   \n",
       "1                0                0               0               0   \n",
       "2                0                0               0               0   \n",
       "3                0                0               0               0   \n",
       "4                0                0               0               0   \n",
       "\n",
       "   biz_unit_A03_1  dvc_ctg_nm_PC_1  ...  trfc_src_DIRECT_10  \\\n",
       "0               1                0  ...                   1   \n",
       "1               1                0  ...                   1   \n",
       "2               1                0  ...                   1   \n",
       "3               1                0  ...                   1   \n",
       "4               1                0  ...                   1   \n",
       "\n",
       "   trfc_src_PORTAL_1_10  trfc_src_PORTAL_2_10  trfc_src_PORTAL_3_10  \\\n",
       "0                     0                     0                     0   \n",
       "1                     0                     0                     0   \n",
       "2                     0                     0                     0   \n",
       "3                     0                     0                     0   \n",
       "4                     0                     0                     0   \n",
       "\n",
       "   trfc_src_PUSH_10  trfc_src_WEBSITE_10  trfc_src_unknown_10  clnt_id  \\\n",
       "0                 0                    0                    0        2   \n",
       "1                 0                    0                    0        2   \n",
       "2                 0                    0                    0        2   \n",
       "3                 0                    0                    0        2   \n",
       "4                 0                    0                    0        2   \n",
       "\n",
       "   sess_id  buy  \n",
       "0        1  0.0  \n",
       "1        8  0.0  \n",
       "2       10  0.0  \n",
       "3       15  0.0  \n",
       "4       16  0.0  \n",
       "\n",
       "[5 rows x 274 columns]"
      ]
     },
     "execution_count": 40,
     "metadata": {},
     "output_type": "execute_result"
    }
   ],
   "source": [
    "온라인2.head()"
   ]
  },
  {
   "cell_type": "code",
   "execution_count": 46,
   "metadata": {},
   "outputs": [
    {
     "data": {
      "text/plain": [
       "(75233, 274)"
      ]
     },
     "execution_count": 46,
     "metadata": {},
     "output_type": "execute_result"
    }
   ],
   "source": [
    "# 10일동안 * feature 27 + clnt_id&sess_id&unique_id&buy = 274 columns\n",
    "온라인2.shape"
   ]
  },
  {
   "cell_type": "markdown",
   "metadata": {},
   "source": [
    "# <br>\n",
    "# [1-3]현재 세션(1개)의 앞 부분의 10개 클릭 로그 사용\n"
   ]
  },
  {
   "cell_type": "code",
   "execution_count": 47,
   "metadata": {
    "collapsed": true
   },
   "outputs": [
    {
     "name": "stderr",
     "output_type": "stream",
     "text": [
      "Using TensorFlow backend.\n",
      "C:\\ProgramData\\Anaconda3\\lib\\site-packages\\sklearn\\utils\\deprecation.py:144: FutureWarning: The sklearn.neighbors.base module is  deprecated in version 0.22 and will be removed in version 0.24. The corresponding classes / functions should instead be imported from sklearn.neighbors. Anything that cannot be imported from sklearn.neighbors is now part of the private API.\n",
      "  warnings.warn(message, FutureWarning)\n",
      "C:\\ProgramData\\Anaconda3\\lib\\site-packages\\sklearn\\utils\\deprecation.py:144: FutureWarning: The sklearn.ensemble.bagging module is  deprecated in version 0.22 and will be removed in version 0.24. The corresponding classes / functions should instead be imported from sklearn.ensemble. Anything that cannot be imported from sklearn.ensemble is now part of the private API.\n",
      "  warnings.warn(message, FutureWarning)\n",
      "C:\\ProgramData\\Anaconda3\\lib\\site-packages\\sklearn\\utils\\deprecation.py:144: FutureWarning: The sklearn.ensemble.base module is  deprecated in version 0.22 and will be removed in version 0.24. The corresponding classes / functions should instead be imported from sklearn.ensemble. Anything that cannot be imported from sklearn.ensemble is now part of the private API.\n",
      "  warnings.warn(message, FutureWarning)\n",
      "C:\\ProgramData\\Anaconda3\\lib\\site-packages\\sklearn\\utils\\deprecation.py:144: FutureWarning: The sklearn.ensemble.forest module is  deprecated in version 0.22 and will be removed in version 0.24. The corresponding classes / functions should instead be imported from sklearn.ensemble. Anything that cannot be imported from sklearn.ensemble is now part of the private API.\n",
      "  warnings.warn(message, FutureWarning)\n",
      "C:\\ProgramData\\Anaconda3\\lib\\site-packages\\sklearn\\utils\\deprecation.py:144: FutureWarning: The sklearn.utils.testing module is  deprecated in version 0.22 and will be removed in version 0.24. The corresponding classes / functions should instead be imported from sklearn.utils. Anything that cannot be imported from sklearn.utils is now part of the private API.\n",
      "  warnings.warn(message, FutureWarning)\n",
      "C:\\ProgramData\\Anaconda3\\lib\\site-packages\\sklearn\\utils\\deprecation.py:144: FutureWarning: The sklearn.metrics.classification module is  deprecated in version 0.22 and will be removed in version 0.24. The corresponding classes / functions should instead be imported from sklearn.metrics. Anything that cannot be imported from sklearn.metrics is now part of the private API.\n",
      "  warnings.warn(message, FutureWarning)\n"
     ]
    }
   ],
   "source": [
    "from keras.preprocessing import sequence\n",
    "from imblearn.over_sampling import SMOTE, ADASYN\n",
    "from sklearn.model_selection import train_test_split"
   ]
  },
  {
   "cell_type": "code",
   "execution_count": 50,
   "metadata": {},
   "outputs": [],
   "source": [
    "features = 온라인2.columns[1:-3]"
   ]
  },
  {
   "cell_type": "code",
   "execution_count": 51,
   "metadata": {},
   "outputs": [],
   "source": [
    "온라인_x = 온라인2.iloc[:, 1:-3]\n",
    "온라인_x = np.array(온라인_x)"
   ]
  },
  {
   "cell_type": "code",
   "execution_count": 52,
   "metadata": {},
   "outputs": [],
   "source": [
    "# session 당 구매 여부\n",
    "온라인_y = 온라인2.buy"
   ]
  },
  {
   "cell_type": "code",
   "execution_count": 53,
   "metadata": {},
   "outputs": [],
   "source": [
    "# 기존 function에서 필요한 부분만 가져옴\n",
    "def make_padding_and_oversample(X, Y, length=10):\n",
    "    smote = SMOTE(random_state=0)\n",
    "    X_resampled, Y_resampled = smote.fit_resample(X, Y)\n",
    "    return X_resampled, Y_resampled"
   ]
  },
  {
   "cell_type": "code",
   "execution_count": 54,
   "metadata": {},
   "outputs": [
    {
     "name": "stderr",
     "output_type": "stream",
     "text": [
      "C:\\ProgramData\\Anaconda3\\lib\\site-packages\\sklearn\\utils\\deprecation.py:87: FutureWarning: Function safe_indexing is deprecated; safe_indexing is deprecated in version 0.22 and will be removed in version 0.24.\n",
      "  warnings.warn(msg, category=FutureWarning)\n"
     ]
    }
   ],
   "source": [
    "X_resampled, Y_resampled = make_padding_and_oversample(온라인_x, 온라인_y, length=10)"
   ]
  },
  {
   "cell_type": "code",
   "execution_count": 55,
   "metadata": {},
   "outputs": [
    {
     "name": "stdout",
     "output_type": "stream",
     "text": [
      "(86375, 270)\n",
      "(37019, 270)\n"
     ]
    }
   ],
   "source": [
    "X_train, X_test, y_train, y_test = train_test_split(X_resampled, Y_resampled, test_size=0.3, random_state=42)\n",
    "print(X_train.shape)\n",
    "print(X_test.shape)"
   ]
  },
  {
   "cell_type": "markdown",
   "metadata": {},
   "source": [
    "# <br>\n",
    "# 모델링"
   ]
  },
  {
   "cell_type": "code",
   "execution_count": 56,
   "metadata": {},
   "outputs": [],
   "source": [
    "from sklearn.metrics import accuracy_score, f1_score, precision_score, recall_score\n",
    "from sklearn.naive_bayes import GaussianNB\n",
    "from sklearn.tree import DecisionTreeClassifier\n",
    "from sklearn.linear_model import LogisticRegression\n",
    "from sklearn.svm import LinearSVC\n",
    "import xgboost as xgb\n",
    "\n",
    "import tensorflow as tf\n",
    "from keras.models import Sequential\n",
    "from keras.layers import Dense\n",
    "from keras.optimizers import RMSprop\n",
    "from keras.layers import Dropout\n",
    "\n",
    "import pickle\n",
    "from joblib import dump, load"
   ]
  },
  {
   "cell_type": "code",
   "execution_count": 57,
   "metadata": {},
   "outputs": [],
   "source": [
    "from keras import backend as K\n",
    "\n",
    "def recall_m(y_true, y_pred):\n",
    "        true_positives = K.sum(K.round(K.clip(y_true * y_pred, 0, 1)))\n",
    "        possible_positives = K.sum(K.round(K.clip(y_true, 0, 1)))\n",
    "        recall = true_positives / (possible_positives + K.epsilon())\n",
    "        return recall\n",
    "\n",
    "def precision_m(y_true, y_pred):\n",
    "        true_positives = K.sum(K.round(K.clip(y_true * y_pred, 0, 1)))\n",
    "        predicted_positives = K.sum(K.round(K.clip(y_pred, 0, 1)))\n",
    "        precision = true_positives / (predicted_positives + K.epsilon())\n",
    "        return precision\n",
    "\n",
    "def f1_m(y_true, y_pred):\n",
    "    precision = precision_m(y_true, y_pred)\n",
    "    recall = recall_m(y_true, y_pred)\n",
    "    return 2*((precision*recall)/(precision+recall+K.epsilon()))"
   ]
  },
  {
   "cell_type": "code",
   "execution_count": 58,
   "metadata": {},
   "outputs": [],
   "source": [
    "scores = dict()"
   ]
  },
  {
   "cell_type": "markdown",
   "metadata": {},
   "source": [
    "### Gaussian Naive Bayes"
   ]
  },
  {
   "cell_type": "code",
   "execution_count": 59,
   "metadata": {},
   "outputs": [
    {
     "name": "stdout",
     "output_type": "stream",
     "text": [
      "Accuracy: 0.57\n",
      "F1 score: 0.65\n",
      "Precision: 0.54\n",
      "Recall: 0.81\n"
     ]
    }
   ],
   "source": [
    "clf = GaussianNB()\n",
    "clf.fit(X_train, y_train)\n",
    "y_pred = clf.predict(X_test)\n",
    "\n",
    "print('Accuracy: %.2f' % accuracy_score(y_test, y_pred))\n",
    "print('F1 score: %.2f' % f1_score(y_test, y_pred))\n",
    "print('Precision: %.2f' % precision_score(y_test, y_pred))\n",
    "print('Recall: %.2f' % recall_score(y_test, y_pred))"
   ]
  },
  {
   "cell_type": "code",
   "execution_count": 60,
   "metadata": {},
   "outputs": [],
   "source": [
    "scores['Gaussian Naive Bayes'] = [accuracy_score(y_test, y_pred), f1_score(y_test, y_pred),\n",
    "                                  precision_score(y_test, y_pred), recall_score(y_test, y_pred)]"
   ]
  },
  {
   "cell_type": "code",
   "execution_count": 61,
   "metadata": {},
   "outputs": [],
   "source": [
    "# dump(clf, '1-3-Gaussian.joblib')"
   ]
  },
  {
   "cell_type": "markdown",
   "metadata": {},
   "source": [
    "### Decision Tree"
   ]
  },
  {
   "cell_type": "code",
   "execution_count": 62,
   "metadata": {},
   "outputs": [
    {
     "name": "stdout",
     "output_type": "stream",
     "text": [
      "Accuracy: 0.81\n",
      "F1 score: 0.81\n",
      "Precision: 0.79\n",
      "Recall: 0.82\n"
     ]
    }
   ],
   "source": [
    "clf2 = DecisionTreeClassifier(random_state=0).fit(X_train, y_train)\n",
    "y_pred = clf2.predict(X_test)\n",
    "\n",
    "print('Accuracy: %.2f' % accuracy_score(y_test, y_pred))\n",
    "print('F1 score: %.2f' % f1_score(y_test, y_pred))\n",
    "print('Precision: %.2f' % precision_score(y_test, y_pred))\n",
    "print('Recall: %.2f' % recall_score(y_test, y_pred))"
   ]
  },
  {
   "cell_type": "code",
   "execution_count": 63,
   "metadata": {},
   "outputs": [],
   "source": [
    "scores['Decision Tree'] = [accuracy_score(y_test, y_pred), f1_score(y_test, y_pred),\n",
    "                           precision_score(y_test, y_pred), recall_score(y_test, y_pred)]"
   ]
  },
  {
   "cell_type": "code",
   "execution_count": 64,
   "metadata": {
    "scrolled": false
   },
   "outputs": [],
   "source": [
    "feature_check = {}\n",
    "for name, importance in zip(features, clf2.feature_importances_):\n",
    "    feature_check[name] = importance"
   ]
  },
  {
   "cell_type": "code",
   "execution_count": 65,
   "metadata": {},
   "outputs": [
    {
     "data": {
      "text/html": [
       "<div>\n",
       "<style scoped>\n",
       "    .dataframe tbody tr th:only-of-type {\n",
       "        vertical-align: middle;\n",
       "    }\n",
       "\n",
       "    .dataframe tbody tr th {\n",
       "        vertical-align: top;\n",
       "    }\n",
       "\n",
       "    .dataframe thead th {\n",
       "        text-align: right;\n",
       "    }\n",
       "</style>\n",
       "<table border=\"1\" class=\"dataframe\">\n",
       "  <thead>\n",
       "    <tr style=\"text-align: right;\">\n",
       "      <th></th>\n",
       "      <th>feature_importance</th>\n",
       "    </tr>\n",
       "  </thead>\n",
       "  <tbody>\n",
       "    <tr>\n",
       "      <th>trfc_src_DIRECT_9</th>\n",
       "      <td>0.149946</td>\n",
       "    </tr>\n",
       "    <tr>\n",
       "      <th>action_type_3_2</th>\n",
       "      <td>0.102040</td>\n",
       "    </tr>\n",
       "    <tr>\n",
       "      <th>trfc_src_DIRECT_4</th>\n",
       "      <td>0.081251</td>\n",
       "    </tr>\n",
       "    <tr>\n",
       "      <th>trfc_src_PUSH_3</th>\n",
       "      <td>0.042576</td>\n",
       "    </tr>\n",
       "    <tr>\n",
       "      <th>sess_dt_201908_10</th>\n",
       "      <td>0.034527</td>\n",
       "    </tr>\n",
       "    <tr>\n",
       "      <th>...</th>\n",
       "      <td>...</td>\n",
       "    </tr>\n",
       "    <tr>\n",
       "      <th>hit_seq_7</th>\n",
       "      <td>0.000000</td>\n",
       "    </tr>\n",
       "    <tr>\n",
       "      <th>biz_unit_A01_3</th>\n",
       "      <td>0.000000</td>\n",
       "    </tr>\n",
       "    <tr>\n",
       "      <th>biz_unit_A03_7</th>\n",
       "      <td>0.000000</td>\n",
       "    </tr>\n",
       "    <tr>\n",
       "      <th>biz_unit_A02_7</th>\n",
       "      <td>0.000000</td>\n",
       "    </tr>\n",
       "    <tr>\n",
       "      <th>trfc_src_unknown_10</th>\n",
       "      <td>0.000000</td>\n",
       "    </tr>\n",
       "  </tbody>\n",
       "</table>\n",
       "<p>270 rows × 1 columns</p>\n",
       "</div>"
      ],
      "text/plain": [
       "                     feature_importance\n",
       "trfc_src_DIRECT_9              0.149946\n",
       "action_type_3_2                0.102040\n",
       "trfc_src_DIRECT_4              0.081251\n",
       "trfc_src_PUSH_3                0.042576\n",
       "sess_dt_201908_10              0.034527\n",
       "...                                 ...\n",
       "hit_seq_7                      0.000000\n",
       "biz_unit_A01_3                 0.000000\n",
       "biz_unit_A03_7                 0.000000\n",
       "biz_unit_A02_7                 0.000000\n",
       "trfc_src_unknown_10            0.000000\n",
       "\n",
       "[270 rows x 1 columns]"
      ]
     },
     "execution_count": 65,
     "metadata": {},
     "output_type": "execute_result"
    }
   ],
   "source": [
    "pd.DataFrame.from_dict(feature_check, orient='index', columns=['feature_importance']).sort_values(by='feature_importance', ascending=False)"
   ]
  },
  {
   "cell_type": "code",
   "execution_count": 66,
   "metadata": {},
   "outputs": [],
   "source": [
    "# dump(clf2, '1-3-DecisionTree.joblib')"
   ]
  },
  {
   "cell_type": "markdown",
   "metadata": {},
   "source": [
    "### XGBOOST"
   ]
  },
  {
   "cell_type": "code",
   "execution_count": 67,
   "metadata": {
    "scrolled": true
   },
   "outputs": [
    {
     "name": "stdout",
     "output_type": "stream",
     "text": [
      "[15:13:15] INFO: C:\\Jenkins\\workspace\\xgboost-win64_release_0.90\\src\\tree\\updater_prune.cc:74: tree pruning end, 1 roots, 12 extra nodes, 0 pruned nodes, max_depth=3\n",
      "[15:13:16] INFO: C:\\Jenkins\\workspace\\xgboost-win64_release_0.90\\src\\tree\\updater_prune.cc:74: tree pruning end, 1 roots, 12 extra nodes, 0 pruned nodes, max_depth=3\n",
      "[15:13:17] INFO: C:\\Jenkins\\workspace\\xgboost-win64_release_0.90\\src\\tree\\updater_prune.cc:74: tree pruning end, 1 roots, 12 extra nodes, 0 pruned nodes, max_depth=3\n",
      "[15:13:17] INFO: C:\\Jenkins\\workspace\\xgboost-win64_release_0.90\\src\\tree\\updater_prune.cc:74: tree pruning end, 1 roots, 12 extra nodes, 0 pruned nodes, max_depth=3\n",
      "[15:13:18] INFO: C:\\Jenkins\\workspace\\xgboost-win64_release_0.90\\src\\tree\\updater_prune.cc:74: tree pruning end, 1 roots, 14 extra nodes, 0 pruned nodes, max_depth=3\n",
      "[15:13:18] INFO: C:\\Jenkins\\workspace\\xgboost-win64_release_0.90\\src\\tree\\updater_prune.cc:74: tree pruning end, 1 roots, 14 extra nodes, 0 pruned nodes, max_depth=3\n",
      "[15:13:19] INFO: C:\\Jenkins\\workspace\\xgboost-win64_release_0.90\\src\\tree\\updater_prune.cc:74: tree pruning end, 1 roots, 12 extra nodes, 0 pruned nodes, max_depth=3\n",
      "[15:13:20] INFO: C:\\Jenkins\\workspace\\xgboost-win64_release_0.90\\src\\tree\\updater_prune.cc:74: tree pruning end, 1 roots, 14 extra nodes, 0 pruned nodes, max_depth=3\n",
      "[15:13:20] INFO: C:\\Jenkins\\workspace\\xgboost-win64_release_0.90\\src\\tree\\updater_prune.cc:74: tree pruning end, 1 roots, 14 extra nodes, 0 pruned nodes, max_depth=3\n",
      "[15:13:21] INFO: C:\\Jenkins\\workspace\\xgboost-win64_release_0.90\\src\\tree\\updater_prune.cc:74: tree pruning end, 1 roots, 14 extra nodes, 0 pruned nodes, max_depth=3\n",
      "[15:13:22] INFO: C:\\Jenkins\\workspace\\xgboost-win64_release_0.90\\src\\tree\\updater_prune.cc:74: tree pruning end, 1 roots, 14 extra nodes, 0 pruned nodes, max_depth=3\n",
      "[15:13:23] INFO: C:\\Jenkins\\workspace\\xgboost-win64_release_0.90\\src\\tree\\updater_prune.cc:74: tree pruning end, 1 roots, 14 extra nodes, 0 pruned nodes, max_depth=3\n",
      "[15:13:23] INFO: C:\\Jenkins\\workspace\\xgboost-win64_release_0.90\\src\\tree\\updater_prune.cc:74: tree pruning end, 1 roots, 14 extra nodes, 0 pruned nodes, max_depth=3\n",
      "[15:13:24] INFO: C:\\Jenkins\\workspace\\xgboost-win64_release_0.90\\src\\tree\\updater_prune.cc:74: tree pruning end, 1 roots, 14 extra nodes, 0 pruned nodes, max_depth=3\n",
      "[15:13:25] INFO: C:\\Jenkins\\workspace\\xgboost-win64_release_0.90\\src\\tree\\updater_prune.cc:74: tree pruning end, 1 roots, 14 extra nodes, 0 pruned nodes, max_depth=3\n",
      "[15:13:26] INFO: C:\\Jenkins\\workspace\\xgboost-win64_release_0.90\\src\\tree\\updater_prune.cc:74: tree pruning end, 1 roots, 14 extra nodes, 0 pruned nodes, max_depth=3\n",
      "[15:13:26] INFO: C:\\Jenkins\\workspace\\xgboost-win64_release_0.90\\src\\tree\\updater_prune.cc:74: tree pruning end, 1 roots, 14 extra nodes, 0 pruned nodes, max_depth=3\n",
      "[15:13:27] INFO: C:\\Jenkins\\workspace\\xgboost-win64_release_0.90\\src\\tree\\updater_prune.cc:74: tree pruning end, 1 roots, 14 extra nodes, 0 pruned nodes, max_depth=3\n",
      "[15:13:28] INFO: C:\\Jenkins\\workspace\\xgboost-win64_release_0.90\\src\\tree\\updater_prune.cc:74: tree pruning end, 1 roots, 14 extra nodes, 0 pruned nodes, max_depth=3\n",
      "[15:13:29] INFO: C:\\Jenkins\\workspace\\xgboost-win64_release_0.90\\src\\tree\\updater_prune.cc:74: tree pruning end, 1 roots, 14 extra nodes, 0 pruned nodes, max_depth=3\n",
      "[15:13:30] INFO: C:\\Jenkins\\workspace\\xgboost-win64_release_0.90\\src\\tree\\updater_prune.cc:74: tree pruning end, 1 roots, 14 extra nodes, 0 pruned nodes, max_depth=3\n",
      "[15:13:30] INFO: C:\\Jenkins\\workspace\\xgboost-win64_release_0.90\\src\\tree\\updater_prune.cc:74: tree pruning end, 1 roots, 14 extra nodes, 0 pruned nodes, max_depth=3\n",
      "[15:13:31] INFO: C:\\Jenkins\\workspace\\xgboost-win64_release_0.90\\src\\tree\\updater_prune.cc:74: tree pruning end, 1 roots, 14 extra nodes, 0 pruned nodes, max_depth=3\n",
      "[15:13:32] INFO: C:\\Jenkins\\workspace\\xgboost-win64_release_0.90\\src\\tree\\updater_prune.cc:74: tree pruning end, 1 roots, 14 extra nodes, 0 pruned nodes, max_depth=3\n",
      "[15:13:33] INFO: C:\\Jenkins\\workspace\\xgboost-win64_release_0.90\\src\\tree\\updater_prune.cc:74: tree pruning end, 1 roots, 14 extra nodes, 0 pruned nodes, max_depth=3\n",
      "[15:13:33] INFO: C:\\Jenkins\\workspace\\xgboost-win64_release_0.90\\src\\tree\\updater_prune.cc:74: tree pruning end, 1 roots, 14 extra nodes, 0 pruned nodes, max_depth=3\n",
      "[15:13:34] INFO: C:\\Jenkins\\workspace\\xgboost-win64_release_0.90\\src\\tree\\updater_prune.cc:74: tree pruning end, 1 roots, 14 extra nodes, 0 pruned nodes, max_depth=3\n",
      "[15:13:35] INFO: C:\\Jenkins\\workspace\\xgboost-win64_release_0.90\\src\\tree\\updater_prune.cc:74: tree pruning end, 1 roots, 14 extra nodes, 0 pruned nodes, max_depth=3\n",
      "[15:13:36] INFO: C:\\Jenkins\\workspace\\xgboost-win64_release_0.90\\src\\tree\\updater_prune.cc:74: tree pruning end, 1 roots, 14 extra nodes, 0 pruned nodes, max_depth=3\n",
      "[15:13:37] INFO: C:\\Jenkins\\workspace\\xgboost-win64_release_0.90\\src\\tree\\updater_prune.cc:74: tree pruning end, 1 roots, 14 extra nodes, 0 pruned nodes, max_depth=3\n",
      "[15:13:37] INFO: C:\\Jenkins\\workspace\\xgboost-win64_release_0.90\\src\\tree\\updater_prune.cc:74: tree pruning end, 1 roots, 14 extra nodes, 0 pruned nodes, max_depth=3\n",
      "[15:13:38] INFO: C:\\Jenkins\\workspace\\xgboost-win64_release_0.90\\src\\tree\\updater_prune.cc:74: tree pruning end, 1 roots, 14 extra nodes, 0 pruned nodes, max_depth=3\n",
      "[15:13:39] INFO: C:\\Jenkins\\workspace\\xgboost-win64_release_0.90\\src\\tree\\updater_prune.cc:74: tree pruning end, 1 roots, 14 extra nodes, 0 pruned nodes, max_depth=3\n",
      "[15:13:39] INFO: C:\\Jenkins\\workspace\\xgboost-win64_release_0.90\\src\\tree\\updater_prune.cc:74: tree pruning end, 1 roots, 14 extra nodes, 0 pruned nodes, max_depth=3\n",
      "[15:13:40] INFO: C:\\Jenkins\\workspace\\xgboost-win64_release_0.90\\src\\tree\\updater_prune.cc:74: tree pruning end, 1 roots, 14 extra nodes, 0 pruned nodes, max_depth=3\n",
      "[15:13:41] INFO: C:\\Jenkins\\workspace\\xgboost-win64_release_0.90\\src\\tree\\updater_prune.cc:74: tree pruning end, 1 roots, 14 extra nodes, 0 pruned nodes, max_depth=3\n",
      "[15:13:41] INFO: C:\\Jenkins\\workspace\\xgboost-win64_release_0.90\\src\\tree\\updater_prune.cc:74: tree pruning end, 1 roots, 14 extra nodes, 0 pruned nodes, max_depth=3\n",
      "[15:13:42] INFO: C:\\Jenkins\\workspace\\xgboost-win64_release_0.90\\src\\tree\\updater_prune.cc:74: tree pruning end, 1 roots, 14 extra nodes, 0 pruned nodes, max_depth=3\n",
      "[15:13:42] INFO: C:\\Jenkins\\workspace\\xgboost-win64_release_0.90\\src\\tree\\updater_prune.cc:74: tree pruning end, 1 roots, 14 extra nodes, 0 pruned nodes, max_depth=3\n",
      "[15:13:43] INFO: C:\\Jenkins\\workspace\\xgboost-win64_release_0.90\\src\\tree\\updater_prune.cc:74: tree pruning end, 1 roots, 14 extra nodes, 0 pruned nodes, max_depth=3\n",
      "[15:13:44] INFO: C:\\Jenkins\\workspace\\xgboost-win64_release_0.90\\src\\tree\\updater_prune.cc:74: tree pruning end, 1 roots, 14 extra nodes, 0 pruned nodes, max_depth=3\n",
      "[15:13:44] INFO: C:\\Jenkins\\workspace\\xgboost-win64_release_0.90\\src\\tree\\updater_prune.cc:74: tree pruning end, 1 roots, 14 extra nodes, 0 pruned nodes, max_depth=3\n",
      "[15:13:45] INFO: C:\\Jenkins\\workspace\\xgboost-win64_release_0.90\\src\\tree\\updater_prune.cc:74: tree pruning end, 1 roots, 14 extra nodes, 0 pruned nodes, max_depth=3\n",
      "[15:13:46] INFO: C:\\Jenkins\\workspace\\xgboost-win64_release_0.90\\src\\tree\\updater_prune.cc:74: tree pruning end, 1 roots, 14 extra nodes, 0 pruned nodes, max_depth=3\n",
      "[15:13:46] INFO: C:\\Jenkins\\workspace\\xgboost-win64_release_0.90\\src\\tree\\updater_prune.cc:74: tree pruning end, 1 roots, 14 extra nodes, 0 pruned nodes, max_depth=3\n",
      "[15:13:47] INFO: C:\\Jenkins\\workspace\\xgboost-win64_release_0.90\\src\\tree\\updater_prune.cc:74: tree pruning end, 1 roots, 14 extra nodes, 0 pruned nodes, max_depth=3\n",
      "[15:13:48] INFO: C:\\Jenkins\\workspace\\xgboost-win64_release_0.90\\src\\tree\\updater_prune.cc:74: tree pruning end, 1 roots, 14 extra nodes, 0 pruned nodes, max_depth=3\n",
      "[15:13:48] INFO: C:\\Jenkins\\workspace\\xgboost-win64_release_0.90\\src\\tree\\updater_prune.cc:74: tree pruning end, 1 roots, 14 extra nodes, 0 pruned nodes, max_depth=3\n",
      "[15:13:49] INFO: C:\\Jenkins\\workspace\\xgboost-win64_release_0.90\\src\\tree\\updater_prune.cc:74: tree pruning end, 1 roots, 14 extra nodes, 0 pruned nodes, max_depth=3\n",
      "[15:13:50] INFO: C:\\Jenkins\\workspace\\xgboost-win64_release_0.90\\src\\tree\\updater_prune.cc:74: tree pruning end, 1 roots, 14 extra nodes, 0 pruned nodes, max_depth=3\n",
      "[15:13:50] INFO: C:\\Jenkins\\workspace\\xgboost-win64_release_0.90\\src\\tree\\updater_prune.cc:74: tree pruning end, 1 roots, 14 extra nodes, 0 pruned nodes, max_depth=3\n",
      "[15:13:51] INFO: C:\\Jenkins\\workspace\\xgboost-win64_release_0.90\\src\\tree\\updater_prune.cc:74: tree pruning end, 1 roots, 14 extra nodes, 0 pruned nodes, max_depth=3\n",
      "[15:13:51] INFO: C:\\Jenkins\\workspace\\xgboost-win64_release_0.90\\src\\tree\\updater_prune.cc:74: tree pruning end, 1 roots, 14 extra nodes, 0 pruned nodes, max_depth=3\n",
      "[15:13:52] INFO: C:\\Jenkins\\workspace\\xgboost-win64_release_0.90\\src\\tree\\updater_prune.cc:74: tree pruning end, 1 roots, 14 extra nodes, 0 pruned nodes, max_depth=3\n",
      "[15:13:52] INFO: C:\\Jenkins\\workspace\\xgboost-win64_release_0.90\\src\\tree\\updater_prune.cc:74: tree pruning end, 1 roots, 14 extra nodes, 0 pruned nodes, max_depth=3\n",
      "[15:13:53] INFO: C:\\Jenkins\\workspace\\xgboost-win64_release_0.90\\src\\tree\\updater_prune.cc:74: tree pruning end, 1 roots, 14 extra nodes, 0 pruned nodes, max_depth=3\n",
      "[15:13:54] INFO: C:\\Jenkins\\workspace\\xgboost-win64_release_0.90\\src\\tree\\updater_prune.cc:74: tree pruning end, 1 roots, 14 extra nodes, 0 pruned nodes, max_depth=3\n",
      "[15:13:54] INFO: C:\\Jenkins\\workspace\\xgboost-win64_release_0.90\\src\\tree\\updater_prune.cc:74: tree pruning end, 1 roots, 14 extra nodes, 0 pruned nodes, max_depth=3\n",
      "[15:13:55] INFO: C:\\Jenkins\\workspace\\xgboost-win64_release_0.90\\src\\tree\\updater_prune.cc:74: tree pruning end, 1 roots, 14 extra nodes, 0 pruned nodes, max_depth=3\n",
      "[15:13:55] INFO: C:\\Jenkins\\workspace\\xgboost-win64_release_0.90\\src\\tree\\updater_prune.cc:74: tree pruning end, 1 roots, 14 extra nodes, 0 pruned nodes, max_depth=3\n",
      "[15:13:56] INFO: C:\\Jenkins\\workspace\\xgboost-win64_release_0.90\\src\\tree\\updater_prune.cc:74: tree pruning end, 1 roots, 14 extra nodes, 0 pruned nodes, max_depth=3\n",
      "[15:13:57] INFO: C:\\Jenkins\\workspace\\xgboost-win64_release_0.90\\src\\tree\\updater_prune.cc:74: tree pruning end, 1 roots, 14 extra nodes, 0 pruned nodes, max_depth=3\n",
      "[15:13:57] INFO: C:\\Jenkins\\workspace\\xgboost-win64_release_0.90\\src\\tree\\updater_prune.cc:74: tree pruning end, 1 roots, 14 extra nodes, 0 pruned nodes, max_depth=3\n",
      "[15:13:58] INFO: C:\\Jenkins\\workspace\\xgboost-win64_release_0.90\\src\\tree\\updater_prune.cc:74: tree pruning end, 1 roots, 14 extra nodes, 0 pruned nodes, max_depth=3\n",
      "[15:13:59] INFO: C:\\Jenkins\\workspace\\xgboost-win64_release_0.90\\src\\tree\\updater_prune.cc:74: tree pruning end, 1 roots, 14 extra nodes, 0 pruned nodes, max_depth=3\n",
      "[15:13:59] INFO: C:\\Jenkins\\workspace\\xgboost-win64_release_0.90\\src\\tree\\updater_prune.cc:74: tree pruning end, 1 roots, 14 extra nodes, 0 pruned nodes, max_depth=3\n",
      "[15:14:00] INFO: C:\\Jenkins\\workspace\\xgboost-win64_release_0.90\\src\\tree\\updater_prune.cc:74: tree pruning end, 1 roots, 14 extra nodes, 0 pruned nodes, max_depth=3\n",
      "[15:14:00] INFO: C:\\Jenkins\\workspace\\xgboost-win64_release_0.90\\src\\tree\\updater_prune.cc:74: tree pruning end, 1 roots, 14 extra nodes, 0 pruned nodes, max_depth=3\n",
      "[15:14:01] INFO: C:\\Jenkins\\workspace\\xgboost-win64_release_0.90\\src\\tree\\updater_prune.cc:74: tree pruning end, 1 roots, 14 extra nodes, 0 pruned nodes, max_depth=3\n",
      "[15:14:02] INFO: C:\\Jenkins\\workspace\\xgboost-win64_release_0.90\\src\\tree\\updater_prune.cc:74: tree pruning end, 1 roots, 14 extra nodes, 0 pruned nodes, max_depth=3\n",
      "[15:14:03] INFO: C:\\Jenkins\\workspace\\xgboost-win64_release_0.90\\src\\tree\\updater_prune.cc:74: tree pruning end, 1 roots, 14 extra nodes, 0 pruned nodes, max_depth=3\n",
      "[15:14:03] INFO: C:\\Jenkins\\workspace\\xgboost-win64_release_0.90\\src\\tree\\updater_prune.cc:74: tree pruning end, 1 roots, 14 extra nodes, 0 pruned nodes, max_depth=3\n",
      "[15:14:04] INFO: C:\\Jenkins\\workspace\\xgboost-win64_release_0.90\\src\\tree\\updater_prune.cc:74: tree pruning end, 1 roots, 14 extra nodes, 0 pruned nodes, max_depth=3\n",
      "[15:14:05] INFO: C:\\Jenkins\\workspace\\xgboost-win64_release_0.90\\src\\tree\\updater_prune.cc:74: tree pruning end, 1 roots, 14 extra nodes, 0 pruned nodes, max_depth=3\n",
      "[15:14:06] INFO: C:\\Jenkins\\workspace\\xgboost-win64_release_0.90\\src\\tree\\updater_prune.cc:74: tree pruning end, 1 roots, 14 extra nodes, 0 pruned nodes, max_depth=3\n",
      "[15:14:07] INFO: C:\\Jenkins\\workspace\\xgboost-win64_release_0.90\\src\\tree\\updater_prune.cc:74: tree pruning end, 1 roots, 14 extra nodes, 0 pruned nodes, max_depth=3\n",
      "[15:14:07] INFO: C:\\Jenkins\\workspace\\xgboost-win64_release_0.90\\src\\tree\\updater_prune.cc:74: tree pruning end, 1 roots, 14 extra nodes, 0 pruned nodes, max_depth=3\n",
      "[15:14:08] INFO: C:\\Jenkins\\workspace\\xgboost-win64_release_0.90\\src\\tree\\updater_prune.cc:74: tree pruning end, 1 roots, 14 extra nodes, 0 pruned nodes, max_depth=3\n",
      "[15:14:09] INFO: C:\\Jenkins\\workspace\\xgboost-win64_release_0.90\\src\\tree\\updater_prune.cc:74: tree pruning end, 1 roots, 14 extra nodes, 0 pruned nodes, max_depth=3\n",
      "[15:14:10] INFO: C:\\Jenkins\\workspace\\xgboost-win64_release_0.90\\src\\tree\\updater_prune.cc:74: tree pruning end, 1 roots, 14 extra nodes, 0 pruned nodes, max_depth=3\n",
      "[15:14:10] INFO: C:\\Jenkins\\workspace\\xgboost-win64_release_0.90\\src\\tree\\updater_prune.cc:74: tree pruning end, 1 roots, 14 extra nodes, 0 pruned nodes, max_depth=3\n",
      "[15:14:11] INFO: C:\\Jenkins\\workspace\\xgboost-win64_release_0.90\\src\\tree\\updater_prune.cc:74: tree pruning end, 1 roots, 14 extra nodes, 0 pruned nodes, max_depth=3\n",
      "[15:14:12] INFO: C:\\Jenkins\\workspace\\xgboost-win64_release_0.90\\src\\tree\\updater_prune.cc:74: tree pruning end, 1 roots, 14 extra nodes, 0 pruned nodes, max_depth=3\n",
      "[15:14:13] INFO: C:\\Jenkins\\workspace\\xgboost-win64_release_0.90\\src\\tree\\updater_prune.cc:74: tree pruning end, 1 roots, 14 extra nodes, 0 pruned nodes, max_depth=3\n",
      "[15:14:13] INFO: C:\\Jenkins\\workspace\\xgboost-win64_release_0.90\\src\\tree\\updater_prune.cc:74: tree pruning end, 1 roots, 12 extra nodes, 0 pruned nodes, max_depth=3\n",
      "[15:14:14] INFO: C:\\Jenkins\\workspace\\xgboost-win64_release_0.90\\src\\tree\\updater_prune.cc:74: tree pruning end, 1 roots, 14 extra nodes, 0 pruned nodes, max_depth=3\n",
      "[15:14:15] INFO: C:\\Jenkins\\workspace\\xgboost-win64_release_0.90\\src\\tree\\updater_prune.cc:74: tree pruning end, 1 roots, 14 extra nodes, 0 pruned nodes, max_depth=3\n",
      "[15:14:15] INFO: C:\\Jenkins\\workspace\\xgboost-win64_release_0.90\\src\\tree\\updater_prune.cc:74: tree pruning end, 1 roots, 14 extra nodes, 0 pruned nodes, max_depth=3\n",
      "[15:14:16] INFO: C:\\Jenkins\\workspace\\xgboost-win64_release_0.90\\src\\tree\\updater_prune.cc:74: tree pruning end, 1 roots, 14 extra nodes, 0 pruned nodes, max_depth=3\n",
      "[15:14:17] INFO: C:\\Jenkins\\workspace\\xgboost-win64_release_0.90\\src\\tree\\updater_prune.cc:74: tree pruning end, 1 roots, 14 extra nodes, 0 pruned nodes, max_depth=3\n",
      "[15:14:18] INFO: C:\\Jenkins\\workspace\\xgboost-win64_release_0.90\\src\\tree\\updater_prune.cc:74: tree pruning end, 1 roots, 14 extra nodes, 0 pruned nodes, max_depth=3\n",
      "[15:14:19] INFO: C:\\Jenkins\\workspace\\xgboost-win64_release_0.90\\src\\tree\\updater_prune.cc:74: tree pruning end, 1 roots, 14 extra nodes, 0 pruned nodes, max_depth=3\n",
      "[15:14:19] INFO: C:\\Jenkins\\workspace\\xgboost-win64_release_0.90\\src\\tree\\updater_prune.cc:74: tree pruning end, 1 roots, 14 extra nodes, 0 pruned nodes, max_depth=3\n",
      "[15:14:20] INFO: C:\\Jenkins\\workspace\\xgboost-win64_release_0.90\\src\\tree\\updater_prune.cc:74: tree pruning end, 1 roots, 14 extra nodes, 0 pruned nodes, max_depth=3\n",
      "[15:14:20] INFO: C:\\Jenkins\\workspace\\xgboost-win64_release_0.90\\src\\tree\\updater_prune.cc:74: tree pruning end, 1 roots, 12 extra nodes, 0 pruned nodes, max_depth=3\n",
      "[15:14:21] INFO: C:\\Jenkins\\workspace\\xgboost-win64_release_0.90\\src\\tree\\updater_prune.cc:74: tree pruning end, 1 roots, 14 extra nodes, 0 pruned nodes, max_depth=3\n",
      "[15:14:22] INFO: C:\\Jenkins\\workspace\\xgboost-win64_release_0.90\\src\\tree\\updater_prune.cc:74: tree pruning end, 1 roots, 14 extra nodes, 0 pruned nodes, max_depth=3\n",
      "[15:14:22] INFO: C:\\Jenkins\\workspace\\xgboost-win64_release_0.90\\src\\tree\\updater_prune.cc:74: tree pruning end, 1 roots, 12 extra nodes, 0 pruned nodes, max_depth=3\n",
      "[15:14:23] INFO: C:\\Jenkins\\workspace\\xgboost-win64_release_0.90\\src\\tree\\updater_prune.cc:74: tree pruning end, 1 roots, 12 extra nodes, 0 pruned nodes, max_depth=3\n",
      "[15:14:23] INFO: C:\\Jenkins\\workspace\\xgboost-win64_release_0.90\\src\\tree\\updater_prune.cc:74: tree pruning end, 1 roots, 14 extra nodes, 0 pruned nodes, max_depth=3\n",
      "[15:14:24] INFO: C:\\Jenkins\\workspace\\xgboost-win64_release_0.90\\src\\tree\\updater_prune.cc:74: tree pruning end, 1 roots, 14 extra nodes, 0 pruned nodes, max_depth=3\n",
      "[15:14:25] INFO: C:\\Jenkins\\workspace\\xgboost-win64_release_0.90\\src\\tree\\updater_prune.cc:74: tree pruning end, 1 roots, 12 extra nodes, 0 pruned nodes, max_depth=3\n",
      "[15:14:25] INFO: C:\\Jenkins\\workspace\\xgboost-win64_release_0.90\\src\\tree\\updater_prune.cc:74: tree pruning end, 1 roots, 12 extra nodes, 0 pruned nodes, max_depth=3\n",
      "[15:14:26] INFO: C:\\Jenkins\\workspace\\xgboost-win64_release_0.90\\src\\tree\\updater_prune.cc:74: tree pruning end, 1 roots, 12 extra nodes, 0 pruned nodes, max_depth=3\n",
      "[15:14:26] INFO: C:\\Jenkins\\workspace\\xgboost-win64_release_0.90\\src\\tree\\updater_prune.cc:74: tree pruning end, 1 roots, 14 extra nodes, 0 pruned nodes, max_depth=3\n",
      "[15:14:27] INFO: C:\\Jenkins\\workspace\\xgboost-win64_release_0.90\\src\\tree\\updater_prune.cc:74: tree pruning end, 1 roots, 14 extra nodes, 0 pruned nodes, max_depth=3\n",
      "[15:14:28] INFO: C:\\Jenkins\\workspace\\xgboost-win64_release_0.90\\src\\tree\\updater_prune.cc:74: tree pruning end, 1 roots, 12 extra nodes, 0 pruned nodes, max_depth=3\n",
      "[15:14:28] INFO: C:\\Jenkins\\workspace\\xgboost-win64_release_0.90\\src\\tree\\updater_prune.cc:74: tree pruning end, 1 roots, 12 extra nodes, 0 pruned nodes, max_depth=3\n",
      "[15:14:29] INFO: C:\\Jenkins\\workspace\\xgboost-win64_release_0.90\\src\\tree\\updater_prune.cc:74: tree pruning end, 1 roots, 12 extra nodes, 0 pruned nodes, max_depth=3\n",
      "[15:14:29] INFO: C:\\Jenkins\\workspace\\xgboost-win64_release_0.90\\src\\tree\\updater_prune.cc:74: tree pruning end, 1 roots, 14 extra nodes, 0 pruned nodes, max_depth=3\n",
      "[15:14:30] INFO: C:\\Jenkins\\workspace\\xgboost-win64_release_0.90\\src\\tree\\updater_prune.cc:74: tree pruning end, 1 roots, 14 extra nodes, 0 pruned nodes, max_depth=3\n",
      "[15:14:30] INFO: C:\\Jenkins\\workspace\\xgboost-win64_release_0.90\\src\\tree\\updater_prune.cc:74: tree pruning end, 1 roots, 14 extra nodes, 0 pruned nodes, max_depth=3\n",
      "[15:14:31] INFO: C:\\Jenkins\\workspace\\xgboost-win64_release_0.90\\src\\tree\\updater_prune.cc:74: tree pruning end, 1 roots, 12 extra nodes, 0 pruned nodes, max_depth=3\n",
      "[15:14:32] INFO: C:\\Jenkins\\workspace\\xgboost-win64_release_0.90\\src\\tree\\updater_prune.cc:74: tree pruning end, 1 roots, 12 extra nodes, 0 pruned nodes, max_depth=3\n",
      "[15:14:32] INFO: C:\\Jenkins\\workspace\\xgboost-win64_release_0.90\\src\\tree\\updater_prune.cc:74: tree pruning end, 1 roots, 12 extra nodes, 0 pruned nodes, max_depth=3\n",
      "[15:14:33] INFO: C:\\Jenkins\\workspace\\xgboost-win64_release_0.90\\src\\tree\\updater_prune.cc:74: tree pruning end, 1 roots, 12 extra nodes, 0 pruned nodes, max_depth=3\n",
      "[15:14:33] INFO: C:\\Jenkins\\workspace\\xgboost-win64_release_0.90\\src\\tree\\updater_prune.cc:74: tree pruning end, 1 roots, 12 extra nodes, 0 pruned nodes, max_depth=3\n",
      "[15:14:34] INFO: C:\\Jenkins\\workspace\\xgboost-win64_release_0.90\\src\\tree\\updater_prune.cc:74: tree pruning end, 1 roots, 14 extra nodes, 0 pruned nodes, max_depth=3\n",
      "[15:14:35] INFO: C:\\Jenkins\\workspace\\xgboost-win64_release_0.90\\src\\tree\\updater_prune.cc:74: tree pruning end, 1 roots, 12 extra nodes, 0 pruned nodes, max_depth=3\n",
      "[15:14:35] INFO: C:\\Jenkins\\workspace\\xgboost-win64_release_0.90\\src\\tree\\updater_prune.cc:74: tree pruning end, 1 roots, 12 extra nodes, 0 pruned nodes, max_depth=3\n",
      "[15:14:36] INFO: C:\\Jenkins\\workspace\\xgboost-win64_release_0.90\\src\\tree\\updater_prune.cc:74: tree pruning end, 1 roots, 14 extra nodes, 0 pruned nodes, max_depth=3\n",
      "[15:14:37] INFO: C:\\Jenkins\\workspace\\xgboost-win64_release_0.90\\src\\tree\\updater_prune.cc:74: tree pruning end, 1 roots, 14 extra nodes, 0 pruned nodes, max_depth=3\n",
      "[15:14:37] INFO: C:\\Jenkins\\workspace\\xgboost-win64_release_0.90\\src\\tree\\updater_prune.cc:74: tree pruning end, 1 roots, 12 extra nodes, 0 pruned nodes, max_depth=3\n",
      "[15:14:38] INFO: C:\\Jenkins\\workspace\\xgboost-win64_release_0.90\\src\\tree\\updater_prune.cc:74: tree pruning end, 1 roots, 12 extra nodes, 0 pruned nodes, max_depth=3\n",
      "[15:14:38] INFO: C:\\Jenkins\\workspace\\xgboost-win64_release_0.90\\src\\tree\\updater_prune.cc:74: tree pruning end, 1 roots, 12 extra nodes, 0 pruned nodes, max_depth=3\n",
      "[15:14:39] INFO: C:\\Jenkins\\workspace\\xgboost-win64_release_0.90\\src\\tree\\updater_prune.cc:74: tree pruning end, 1 roots, 12 extra nodes, 0 pruned nodes, max_depth=3\n",
      "[15:14:40] INFO: C:\\Jenkins\\workspace\\xgboost-win64_release_0.90\\src\\tree\\updater_prune.cc:74: tree pruning end, 1 roots, 12 extra nodes, 0 pruned nodes, max_depth=3\n",
      "[15:14:40] INFO: C:\\Jenkins\\workspace\\xgboost-win64_release_0.90\\src\\tree\\updater_prune.cc:74: tree pruning end, 1 roots, 14 extra nodes, 0 pruned nodes, max_depth=3\n",
      "[15:14:41] INFO: C:\\Jenkins\\workspace\\xgboost-win64_release_0.90\\src\\tree\\updater_prune.cc:74: tree pruning end, 1 roots, 12 extra nodes, 0 pruned nodes, max_depth=3\n",
      "[15:14:42] INFO: C:\\Jenkins\\workspace\\xgboost-win64_release_0.90\\src\\tree\\updater_prune.cc:74: tree pruning end, 1 roots, 12 extra nodes, 0 pruned nodes, max_depth=3\n",
      "[15:14:43] INFO: C:\\Jenkins\\workspace\\xgboost-win64_release_0.90\\src\\tree\\updater_prune.cc:74: tree pruning end, 1 roots, 14 extra nodes, 0 pruned nodes, max_depth=3\n",
      "[15:14:43] INFO: C:\\Jenkins\\workspace\\xgboost-win64_release_0.90\\src\\tree\\updater_prune.cc:74: tree pruning end, 1 roots, 12 extra nodes, 0 pruned nodes, max_depth=3\n",
      "[15:14:44] INFO: C:\\Jenkins\\workspace\\xgboost-win64_release_0.90\\src\\tree\\updater_prune.cc:74: tree pruning end, 1 roots, 12 extra nodes, 0 pruned nodes, max_depth=3\n",
      "[15:14:45] INFO: C:\\Jenkins\\workspace\\xgboost-win64_release_0.90\\src\\tree\\updater_prune.cc:74: tree pruning end, 1 roots, 14 extra nodes, 0 pruned nodes, max_depth=3\n",
      "[15:14:46] INFO: C:\\Jenkins\\workspace\\xgboost-win64_release_0.90\\src\\tree\\updater_prune.cc:74: tree pruning end, 1 roots, 12 extra nodes, 0 pruned nodes, max_depth=3\n",
      "[15:14:47] INFO: C:\\Jenkins\\workspace\\xgboost-win64_release_0.90\\src\\tree\\updater_prune.cc:74: tree pruning end, 1 roots, 12 extra nodes, 0 pruned nodes, max_depth=3\n",
      "[15:14:47] INFO: C:\\Jenkins\\workspace\\xgboost-win64_release_0.90\\src\\tree\\updater_prune.cc:74: tree pruning end, 1 roots, 14 extra nodes, 0 pruned nodes, max_depth=3\n",
      "[15:14:48] INFO: C:\\Jenkins\\workspace\\xgboost-win64_release_0.90\\src\\tree\\updater_prune.cc:74: tree pruning end, 1 roots, 14 extra nodes, 0 pruned nodes, max_depth=3\n",
      "[15:14:49] INFO: C:\\Jenkins\\workspace\\xgboost-win64_release_0.90\\src\\tree\\updater_prune.cc:74: tree pruning end, 1 roots, 12 extra nodes, 0 pruned nodes, max_depth=3\n",
      "[15:14:50] INFO: C:\\Jenkins\\workspace\\xgboost-win64_release_0.90\\src\\tree\\updater_prune.cc:74: tree pruning end, 1 roots, 12 extra nodes, 0 pruned nodes, max_depth=3\n",
      "[15:14:50] INFO: C:\\Jenkins\\workspace\\xgboost-win64_release_0.90\\src\\tree\\updater_prune.cc:74: tree pruning end, 1 roots, 12 extra nodes, 0 pruned nodes, max_depth=3\n",
      "[15:14:51] INFO: C:\\Jenkins\\workspace\\xgboost-win64_release_0.90\\src\\tree\\updater_prune.cc:74: tree pruning end, 1 roots, 12 extra nodes, 0 pruned nodes, max_depth=3\n",
      "[15:14:52] INFO: C:\\Jenkins\\workspace\\xgboost-win64_release_0.90\\src\\tree\\updater_prune.cc:74: tree pruning end, 1 roots, 12 extra nodes, 0 pruned nodes, max_depth=3\n",
      "[15:14:52] INFO: C:\\Jenkins\\workspace\\xgboost-win64_release_0.90\\src\\tree\\updater_prune.cc:74: tree pruning end, 1 roots, 12 extra nodes, 0 pruned nodes, max_depth=3\n",
      "[15:14:53] INFO: C:\\Jenkins\\workspace\\xgboost-win64_release_0.90\\src\\tree\\updater_prune.cc:74: tree pruning end, 1 roots, 12 extra nodes, 0 pruned nodes, max_depth=3\n",
      "[15:14:54] INFO: C:\\Jenkins\\workspace\\xgboost-win64_release_0.90\\src\\tree\\updater_prune.cc:74: tree pruning end, 1 roots, 12 extra nodes, 0 pruned nodes, max_depth=3\n",
      "[15:14:55] INFO: C:\\Jenkins\\workspace\\xgboost-win64_release_0.90\\src\\tree\\updater_prune.cc:74: tree pruning end, 1 roots, 12 extra nodes, 0 pruned nodes, max_depth=3\n",
      "[15:14:55] INFO: C:\\Jenkins\\workspace\\xgboost-win64_release_0.90\\src\\tree\\updater_prune.cc:74: tree pruning end, 1 roots, 12 extra nodes, 0 pruned nodes, max_depth=3\n",
      "[15:14:56] INFO: C:\\Jenkins\\workspace\\xgboost-win64_release_0.90\\src\\tree\\updater_prune.cc:74: tree pruning end, 1 roots, 12 extra nodes, 0 pruned nodes, max_depth=3\n",
      "[15:14:57] INFO: C:\\Jenkins\\workspace\\xgboost-win64_release_0.90\\src\\tree\\updater_prune.cc:74: tree pruning end, 1 roots, 14 extra nodes, 0 pruned nodes, max_depth=3\n",
      "[15:14:58] INFO: C:\\Jenkins\\workspace\\xgboost-win64_release_0.90\\src\\tree\\updater_prune.cc:74: tree pruning end, 1 roots, 12 extra nodes, 0 pruned nodes, max_depth=3\n",
      "[15:14:58] INFO: C:\\Jenkins\\workspace\\xgboost-win64_release_0.90\\src\\tree\\updater_prune.cc:74: tree pruning end, 1 roots, 12 extra nodes, 0 pruned nodes, max_depth=3\n",
      "[15:14:59] INFO: C:\\Jenkins\\workspace\\xgboost-win64_release_0.90\\src\\tree\\updater_prune.cc:74: tree pruning end, 1 roots, 12 extra nodes, 0 pruned nodes, max_depth=3\n",
      "[15:15:00] INFO: C:\\Jenkins\\workspace\\xgboost-win64_release_0.90\\src\\tree\\updater_prune.cc:74: tree pruning end, 1 roots, 14 extra nodes, 0 pruned nodes, max_depth=3\n",
      "[15:15:00] INFO: C:\\Jenkins\\workspace\\xgboost-win64_release_0.90\\src\\tree\\updater_prune.cc:74: tree pruning end, 1 roots, 14 extra nodes, 0 pruned nodes, max_depth=3\n",
      "[15:15:01] INFO: C:\\Jenkins\\workspace\\xgboost-win64_release_0.90\\src\\tree\\updater_prune.cc:74: tree pruning end, 1 roots, 14 extra nodes, 0 pruned nodes, max_depth=3\n",
      "[15:15:02] INFO: C:\\Jenkins\\workspace\\xgboost-win64_release_0.90\\src\\tree\\updater_prune.cc:74: tree pruning end, 1 roots, 12 extra nodes, 0 pruned nodes, max_depth=3\n",
      "[15:15:02] INFO: C:\\Jenkins\\workspace\\xgboost-win64_release_0.90\\src\\tree\\updater_prune.cc:74: tree pruning end, 1 roots, 14 extra nodes, 0 pruned nodes, max_depth=3\n",
      "[15:15:03] INFO: C:\\Jenkins\\workspace\\xgboost-win64_release_0.90\\src\\tree\\updater_prune.cc:74: tree pruning end, 1 roots, 12 extra nodes, 0 pruned nodes, max_depth=3\n",
      "[15:15:03] INFO: C:\\Jenkins\\workspace\\xgboost-win64_release_0.90\\src\\tree\\updater_prune.cc:74: tree pruning end, 1 roots, 14 extra nodes, 0 pruned nodes, max_depth=3\n",
      "[15:15:04] INFO: C:\\Jenkins\\workspace\\xgboost-win64_release_0.90\\src\\tree\\updater_prune.cc:74: tree pruning end, 1 roots, 12 extra nodes, 0 pruned nodes, max_depth=3\n",
      "[15:15:04] INFO: C:\\Jenkins\\workspace\\xgboost-win64_release_0.90\\src\\tree\\updater_prune.cc:74: tree pruning end, 1 roots, 12 extra nodes, 0 pruned nodes, max_depth=3\n",
      "[15:15:05] INFO: C:\\Jenkins\\workspace\\xgboost-win64_release_0.90\\src\\tree\\updater_prune.cc:74: tree pruning end, 1 roots, 12 extra nodes, 0 pruned nodes, max_depth=3\n",
      "[15:15:06] INFO: C:\\Jenkins\\workspace\\xgboost-win64_release_0.90\\src\\tree\\updater_prune.cc:74: tree pruning end, 1 roots, 14 extra nodes, 0 pruned nodes, max_depth=3\n",
      "[15:15:06] INFO: C:\\Jenkins\\workspace\\xgboost-win64_release_0.90\\src\\tree\\updater_prune.cc:74: tree pruning end, 1 roots, 12 extra nodes, 0 pruned nodes, max_depth=3\n",
      "[15:15:07] INFO: C:\\Jenkins\\workspace\\xgboost-win64_release_0.90\\src\\tree\\updater_prune.cc:74: tree pruning end, 1 roots, 12 extra nodes, 0 pruned nodes, max_depth=3\n",
      "[15:15:07] INFO: C:\\Jenkins\\workspace\\xgboost-win64_release_0.90\\src\\tree\\updater_prune.cc:74: tree pruning end, 1 roots, 12 extra nodes, 0 pruned nodes, max_depth=3\n",
      "[15:15:08] INFO: C:\\Jenkins\\workspace\\xgboost-win64_release_0.90\\src\\tree\\updater_prune.cc:74: tree pruning end, 1 roots, 12 extra nodes, 0 pruned nodes, max_depth=3\n",
      "[15:15:09] INFO: C:\\Jenkins\\workspace\\xgboost-win64_release_0.90\\src\\tree\\updater_prune.cc:74: tree pruning end, 1 roots, 12 extra nodes, 0 pruned nodes, max_depth=3\n",
      "[15:15:09] INFO: C:\\Jenkins\\workspace\\xgboost-win64_release_0.90\\src\\tree\\updater_prune.cc:74: tree pruning end, 1 roots, 12 extra nodes, 0 pruned nodes, max_depth=3\n",
      "[15:15:10] INFO: C:\\Jenkins\\workspace\\xgboost-win64_release_0.90\\src\\tree\\updater_prune.cc:74: tree pruning end, 1 roots, 12 extra nodes, 0 pruned nodes, max_depth=3\n",
      "[15:15:10] INFO: C:\\Jenkins\\workspace\\xgboost-win64_release_0.90\\src\\tree\\updater_prune.cc:74: tree pruning end, 1 roots, 12 extra nodes, 0 pruned nodes, max_depth=3\n",
      "[15:15:11] INFO: C:\\Jenkins\\workspace\\xgboost-win64_release_0.90\\src\\tree\\updater_prune.cc:74: tree pruning end, 1 roots, 12 extra nodes, 0 pruned nodes, max_depth=3\n",
      "[15:15:11] INFO: C:\\Jenkins\\workspace\\xgboost-win64_release_0.90\\src\\tree\\updater_prune.cc:74: tree pruning end, 1 roots, 12 extra nodes, 0 pruned nodes, max_depth=3\n",
      "[15:15:12] INFO: C:\\Jenkins\\workspace\\xgboost-win64_release_0.90\\src\\tree\\updater_prune.cc:74: tree pruning end, 1 roots, 12 extra nodes, 0 pruned nodes, max_depth=3\n",
      "[15:15:13] INFO: C:\\Jenkins\\workspace\\xgboost-win64_release_0.90\\src\\tree\\updater_prune.cc:74: tree pruning end, 1 roots, 14 extra nodes, 0 pruned nodes, max_depth=3\n",
      "[15:15:13] INFO: C:\\Jenkins\\workspace\\xgboost-win64_release_0.90\\src\\tree\\updater_prune.cc:74: tree pruning end, 1 roots, 12 extra nodes, 0 pruned nodes, max_depth=3\n",
      "[15:15:14] INFO: C:\\Jenkins\\workspace\\xgboost-win64_release_0.90\\src\\tree\\updater_prune.cc:74: tree pruning end, 1 roots, 12 extra nodes, 0 pruned nodes, max_depth=3\n",
      "[15:15:14] INFO: C:\\Jenkins\\workspace\\xgboost-win64_release_0.90\\src\\tree\\updater_prune.cc:74: tree pruning end, 1 roots, 14 extra nodes, 0 pruned nodes, max_depth=3\n",
      "[15:15:15] INFO: C:\\Jenkins\\workspace\\xgboost-win64_release_0.90\\src\\tree\\updater_prune.cc:74: tree pruning end, 1 roots, 12 extra nodes, 0 pruned nodes, max_depth=3\n",
      "[15:15:16] INFO: C:\\Jenkins\\workspace\\xgboost-win64_release_0.90\\src\\tree\\updater_prune.cc:74: tree pruning end, 1 roots, 12 extra nodes, 0 pruned nodes, max_depth=3\n",
      "[15:15:16] INFO: C:\\Jenkins\\workspace\\xgboost-win64_release_0.90\\src\\tree\\updater_prune.cc:74: tree pruning end, 1 roots, 12 extra nodes, 0 pruned nodes, max_depth=3\n",
      "[15:15:17] INFO: C:\\Jenkins\\workspace\\xgboost-win64_release_0.90\\src\\tree\\updater_prune.cc:74: tree pruning end, 1 roots, 12 extra nodes, 0 pruned nodes, max_depth=3\n",
      "[15:15:17] INFO: C:\\Jenkins\\workspace\\xgboost-win64_release_0.90\\src\\tree\\updater_prune.cc:74: tree pruning end, 1 roots, 14 extra nodes, 0 pruned nodes, max_depth=3\n",
      "[15:15:18] INFO: C:\\Jenkins\\workspace\\xgboost-win64_release_0.90\\src\\tree\\updater_prune.cc:74: tree pruning end, 1 roots, 12 extra nodes, 0 pruned nodes, max_depth=3\n",
      "[15:15:18] INFO: C:\\Jenkins\\workspace\\xgboost-win64_release_0.90\\src\\tree\\updater_prune.cc:74: tree pruning end, 1 roots, 14 extra nodes, 0 pruned nodes, max_depth=3\n",
      "[15:15:19] INFO: C:\\Jenkins\\workspace\\xgboost-win64_release_0.90\\src\\tree\\updater_prune.cc:74: tree pruning end, 1 roots, 12 extra nodes, 0 pruned nodes, max_depth=3\n",
      "[15:15:20] INFO: C:\\Jenkins\\workspace\\xgboost-win64_release_0.90\\src\\tree\\updater_prune.cc:74: tree pruning end, 1 roots, 12 extra nodes, 0 pruned nodes, max_depth=3\n",
      "[15:15:20] INFO: C:\\Jenkins\\workspace\\xgboost-win64_release_0.90\\src\\tree\\updater_prune.cc:74: tree pruning end, 1 roots, 14 extra nodes, 0 pruned nodes, max_depth=3\n",
      "[15:15:21] INFO: C:\\Jenkins\\workspace\\xgboost-win64_release_0.90\\src\\tree\\updater_prune.cc:74: tree pruning end, 1 roots, 12 extra nodes, 0 pruned nodes, max_depth=3\n",
      "[15:15:22] INFO: C:\\Jenkins\\workspace\\xgboost-win64_release_0.90\\src\\tree\\updater_prune.cc:74: tree pruning end, 1 roots, 12 extra nodes, 0 pruned nodes, max_depth=3\n",
      "[15:15:23] INFO: C:\\Jenkins\\workspace\\xgboost-win64_release_0.90\\src\\tree\\updater_prune.cc:74: tree pruning end, 1 roots, 14 extra nodes, 0 pruned nodes, max_depth=3\n",
      "[15:15:23] INFO: C:\\Jenkins\\workspace\\xgboost-win64_release_0.90\\src\\tree\\updater_prune.cc:74: tree pruning end, 1 roots, 14 extra nodes, 0 pruned nodes, max_depth=3\n",
      "[15:15:24] INFO: C:\\Jenkins\\workspace\\xgboost-win64_release_0.90\\src\\tree\\updater_prune.cc:74: tree pruning end, 1 roots, 12 extra nodes, 0 pruned nodes, max_depth=3\n",
      "[15:15:25] INFO: C:\\Jenkins\\workspace\\xgboost-win64_release_0.90\\src\\tree\\updater_prune.cc:74: tree pruning end, 1 roots, 12 extra nodes, 0 pruned nodes, max_depth=3\n",
      "[15:15:26] INFO: C:\\Jenkins\\workspace\\xgboost-win64_release_0.90\\src\\tree\\updater_prune.cc:74: tree pruning end, 1 roots, 12 extra nodes, 0 pruned nodes, max_depth=3\n",
      "[15:15:26] INFO: C:\\Jenkins\\workspace\\xgboost-win64_release_0.90\\src\\tree\\updater_prune.cc:74: tree pruning end, 1 roots, 12 extra nodes, 0 pruned nodes, max_depth=3\n",
      "[15:15:27] INFO: C:\\Jenkins\\workspace\\xgboost-win64_release_0.90\\src\\tree\\updater_prune.cc:74: tree pruning end, 1 roots, 12 extra nodes, 0 pruned nodes, max_depth=3\n",
      "[15:15:28] INFO: C:\\Jenkins\\workspace\\xgboost-win64_release_0.90\\src\\tree\\updater_prune.cc:74: tree pruning end, 1 roots, 14 extra nodes, 0 pruned nodes, max_depth=3\n",
      "[15:15:29] INFO: C:\\Jenkins\\workspace\\xgboost-win64_release_0.90\\src\\tree\\updater_prune.cc:74: tree pruning end, 1 roots, 14 extra nodes, 0 pruned nodes, max_depth=3\n",
      "[15:15:29] INFO: C:\\Jenkins\\workspace\\xgboost-win64_release_0.90\\src\\tree\\updater_prune.cc:74: tree pruning end, 1 roots, 12 extra nodes, 0 pruned nodes, max_depth=3\n",
      "[15:15:30] INFO: C:\\Jenkins\\workspace\\xgboost-win64_release_0.90\\src\\tree\\updater_prune.cc:74: tree pruning end, 1 roots, 12 extra nodes, 0 pruned nodes, max_depth=3\n",
      "[15:15:31] INFO: C:\\Jenkins\\workspace\\xgboost-win64_release_0.90\\src\\tree\\updater_prune.cc:74: tree pruning end, 1 roots, 12 extra nodes, 0 pruned nodes, max_depth=3\n",
      "[15:15:32] INFO: C:\\Jenkins\\workspace\\xgboost-win64_release_0.90\\src\\tree\\updater_prune.cc:74: tree pruning end, 1 roots, 12 extra nodes, 0 pruned nodes, max_depth=3\n",
      "[15:15:32] INFO: C:\\Jenkins\\workspace\\xgboost-win64_release_0.90\\src\\tree\\updater_prune.cc:74: tree pruning end, 1 roots, 14 extra nodes, 0 pruned nodes, max_depth=3\n",
      "[15:15:33] INFO: C:\\Jenkins\\workspace\\xgboost-win64_release_0.90\\src\\tree\\updater_prune.cc:74: tree pruning end, 1 roots, 12 extra nodes, 0 pruned nodes, max_depth=3\n",
      "[15:15:34] INFO: C:\\Jenkins\\workspace\\xgboost-win64_release_0.90\\src\\tree\\updater_prune.cc:74: tree pruning end, 1 roots, 12 extra nodes, 0 pruned nodes, max_depth=3\n",
      "[15:15:35] INFO: C:\\Jenkins\\workspace\\xgboost-win64_release_0.90\\src\\tree\\updater_prune.cc:74: tree pruning end, 1 roots, 12 extra nodes, 0 pruned nodes, max_depth=3\n",
      "[15:15:35] INFO: C:\\Jenkins\\workspace\\xgboost-win64_release_0.90\\src\\tree\\updater_prune.cc:74: tree pruning end, 1 roots, 12 extra nodes, 0 pruned nodes, max_depth=3\n",
      "[15:15:36] INFO: C:\\Jenkins\\workspace\\xgboost-win64_release_0.90\\src\\tree\\updater_prune.cc:74: tree pruning end, 1 roots, 14 extra nodes, 0 pruned nodes, max_depth=3\n",
      "[15:15:37] INFO: C:\\Jenkins\\workspace\\xgboost-win64_release_0.90\\src\\tree\\updater_prune.cc:74: tree pruning end, 1 roots, 14 extra nodes, 0 pruned nodes, max_depth=3\n",
      "[15:15:38] INFO: C:\\Jenkins\\workspace\\xgboost-win64_release_0.90\\src\\tree\\updater_prune.cc:74: tree pruning end, 1 roots, 12 extra nodes, 0 pruned nodes, max_depth=3\n",
      "[15:15:39] INFO: C:\\Jenkins\\workspace\\xgboost-win64_release_0.90\\src\\tree\\updater_prune.cc:74: tree pruning end, 1 roots, 12 extra nodes, 0 pruned nodes, max_depth=3\n",
      "[15:15:39] INFO: C:\\Jenkins\\workspace\\xgboost-win64_release_0.90\\src\\tree\\updater_prune.cc:74: tree pruning end, 1 roots, 12 extra nodes, 0 pruned nodes, max_depth=3\n",
      "[15:15:40] INFO: C:\\Jenkins\\workspace\\xgboost-win64_release_0.90\\src\\tree\\updater_prune.cc:74: tree pruning end, 1 roots, 12 extra nodes, 0 pruned nodes, max_depth=3\n",
      "[15:15:41] INFO: C:\\Jenkins\\workspace\\xgboost-win64_release_0.90\\src\\tree\\updater_prune.cc:74: tree pruning end, 1 roots, 12 extra nodes, 0 pruned nodes, max_depth=3\n",
      "[15:15:41] INFO: C:\\Jenkins\\workspace\\xgboost-win64_release_0.90\\src\\tree\\updater_prune.cc:74: tree pruning end, 1 roots, 14 extra nodes, 0 pruned nodes, max_depth=3\n",
      "[15:15:42] INFO: C:\\Jenkins\\workspace\\xgboost-win64_release_0.90\\src\\tree\\updater_prune.cc:74: tree pruning end, 1 roots, 14 extra nodes, 0 pruned nodes, max_depth=3\n",
      "[15:15:42] INFO: C:\\Jenkins\\workspace\\xgboost-win64_release_0.90\\src\\tree\\updater_prune.cc:74: tree pruning end, 1 roots, 12 extra nodes, 0 pruned nodes, max_depth=3\n",
      "[15:15:43] INFO: C:\\Jenkins\\workspace\\xgboost-win64_release_0.90\\src\\tree\\updater_prune.cc:74: tree pruning end, 1 roots, 12 extra nodes, 0 pruned nodes, max_depth=3\n",
      "[15:15:43] INFO: C:\\Jenkins\\workspace\\xgboost-win64_release_0.90\\src\\tree\\updater_prune.cc:74: tree pruning end, 1 roots, 12 extra nodes, 0 pruned nodes, max_depth=3\n",
      "[15:15:44] INFO: C:\\Jenkins\\workspace\\xgboost-win64_release_0.90\\src\\tree\\updater_prune.cc:74: tree pruning end, 1 roots, 12 extra nodes, 0 pruned nodes, max_depth=3\n",
      "[15:15:45] INFO: C:\\Jenkins\\workspace\\xgboost-win64_release_0.90\\src\\tree\\updater_prune.cc:74: tree pruning end, 1 roots, 12 extra nodes, 0 pruned nodes, max_depth=3\n",
      "[15:15:45] INFO: C:\\Jenkins\\workspace\\xgboost-win64_release_0.90\\src\\tree\\updater_prune.cc:74: tree pruning end, 1 roots, 12 extra nodes, 0 pruned nodes, max_depth=3\n",
      "[15:15:46] INFO: C:\\Jenkins\\workspace\\xgboost-win64_release_0.90\\src\\tree\\updater_prune.cc:74: tree pruning end, 1 roots, 14 extra nodes, 0 pruned nodes, max_depth=3\n",
      "[15:15:46] INFO: C:\\Jenkins\\workspace\\xgboost-win64_release_0.90\\src\\tree\\updater_prune.cc:74: tree pruning end, 1 roots, 12 extra nodes, 0 pruned nodes, max_depth=3\n",
      "[15:15:47] INFO: C:\\Jenkins\\workspace\\xgboost-win64_release_0.90\\src\\tree\\updater_prune.cc:74: tree pruning end, 1 roots, 12 extra nodes, 0 pruned nodes, max_depth=3\n",
      "[15:15:48] INFO: C:\\Jenkins\\workspace\\xgboost-win64_release_0.90\\src\\tree\\updater_prune.cc:74: tree pruning end, 1 roots, 12 extra nodes, 0 pruned nodes, max_depth=3\n",
      "[15:15:48] INFO: C:\\Jenkins\\workspace\\xgboost-win64_release_0.90\\src\\tree\\updater_prune.cc:74: tree pruning end, 1 roots, 12 extra nodes, 0 pruned nodes, max_depth=3\n",
      "[15:15:49] INFO: C:\\Jenkins\\workspace\\xgboost-win64_release_0.90\\src\\tree\\updater_prune.cc:74: tree pruning end, 1 roots, 12 extra nodes, 0 pruned nodes, max_depth=3\n",
      "[15:15:49] INFO: C:\\Jenkins\\workspace\\xgboost-win64_release_0.90\\src\\tree\\updater_prune.cc:74: tree pruning end, 1 roots, 12 extra nodes, 0 pruned nodes, max_depth=3\n",
      "[15:15:50] INFO: C:\\Jenkins\\workspace\\xgboost-win64_release_0.90\\src\\tree\\updater_prune.cc:74: tree pruning end, 1 roots, 14 extra nodes, 0 pruned nodes, max_depth=3\n",
      "[15:15:51] INFO: C:\\Jenkins\\workspace\\xgboost-win64_release_0.90\\src\\tree\\updater_prune.cc:74: tree pruning end, 1 roots, 12 extra nodes, 0 pruned nodes, max_depth=3\n",
      "[15:15:51] INFO: C:\\Jenkins\\workspace\\xgboost-win64_release_0.90\\src\\tree\\updater_prune.cc:74: tree pruning end, 1 roots, 14 extra nodes, 0 pruned nodes, max_depth=3\n",
      "[15:15:52] INFO: C:\\Jenkins\\workspace\\xgboost-win64_release_0.90\\src\\tree\\updater_prune.cc:74: tree pruning end, 1 roots, 12 extra nodes, 0 pruned nodes, max_depth=3\n",
      "[15:15:52] INFO: C:\\Jenkins\\workspace\\xgboost-win64_release_0.90\\src\\tree\\updater_prune.cc:74: tree pruning end, 1 roots, 12 extra nodes, 0 pruned nodes, max_depth=3\n",
      "[15:15:53] INFO: C:\\Jenkins\\workspace\\xgboost-win64_release_0.90\\src\\tree\\updater_prune.cc:74: tree pruning end, 1 roots, 12 extra nodes, 0 pruned nodes, max_depth=3\n",
      "[15:15:53] INFO: C:\\Jenkins\\workspace\\xgboost-win64_release_0.90\\src\\tree\\updater_prune.cc:74: tree pruning end, 1 roots, 12 extra nodes, 0 pruned nodes, max_depth=3\n",
      "[15:15:54] INFO: C:\\Jenkins\\workspace\\xgboost-win64_release_0.90\\src\\tree\\updater_prune.cc:74: tree pruning end, 1 roots, 14 extra nodes, 0 pruned nodes, max_depth=3\n",
      "[15:15:55] INFO: C:\\Jenkins\\workspace\\xgboost-win64_release_0.90\\src\\tree\\updater_prune.cc:74: tree pruning end, 1 roots, 12 extra nodes, 0 pruned nodes, max_depth=3\n",
      "[15:15:55] INFO: C:\\Jenkins\\workspace\\xgboost-win64_release_0.90\\src\\tree\\updater_prune.cc:74: tree pruning end, 1 roots, 12 extra nodes, 0 pruned nodes, max_depth=3\n",
      "[15:15:56] INFO: C:\\Jenkins\\workspace\\xgboost-win64_release_0.90\\src\\tree\\updater_prune.cc:74: tree pruning end, 1 roots, 14 extra nodes, 0 pruned nodes, max_depth=3\n",
      "[15:15:56] INFO: C:\\Jenkins\\workspace\\xgboost-win64_release_0.90\\src\\tree\\updater_prune.cc:74: tree pruning end, 1 roots, 12 extra nodes, 0 pruned nodes, max_depth=3\n",
      "[15:15:57] INFO: C:\\Jenkins\\workspace\\xgboost-win64_release_0.90\\src\\tree\\updater_prune.cc:74: tree pruning end, 1 roots, 12 extra nodes, 0 pruned nodes, max_depth=3\n",
      "[15:15:58] INFO: C:\\Jenkins\\workspace\\xgboost-win64_release_0.90\\src\\tree\\updater_prune.cc:74: tree pruning end, 1 roots, 12 extra nodes, 0 pruned nodes, max_depth=3\n",
      "[15:15:58] INFO: C:\\Jenkins\\workspace\\xgboost-win64_release_0.90\\src\\tree\\updater_prune.cc:74: tree pruning end, 1 roots, 14 extra nodes, 0 pruned nodes, max_depth=3\n",
      "[15:15:59] INFO: C:\\Jenkins\\workspace\\xgboost-win64_release_0.90\\src\\tree\\updater_prune.cc:74: tree pruning end, 1 roots, 12 extra nodes, 0 pruned nodes, max_depth=3\n",
      "[15:16:00] INFO: C:\\Jenkins\\workspace\\xgboost-win64_release_0.90\\src\\tree\\updater_prune.cc:74: tree pruning end, 1 roots, 12 extra nodes, 0 pruned nodes, max_depth=3\n",
      "[15:16:00] INFO: C:\\Jenkins\\workspace\\xgboost-win64_release_0.90\\src\\tree\\updater_prune.cc:74: tree pruning end, 1 roots, 12 extra nodes, 0 pruned nodes, max_depth=3\n",
      "[15:16:01] INFO: C:\\Jenkins\\workspace\\xgboost-win64_release_0.90\\src\\tree\\updater_prune.cc:74: tree pruning end, 1 roots, 14 extra nodes, 0 pruned nodes, max_depth=3\n",
      "[15:16:02] INFO: C:\\Jenkins\\workspace\\xgboost-win64_release_0.90\\src\\tree\\updater_prune.cc:74: tree pruning end, 1 roots, 12 extra nodes, 0 pruned nodes, max_depth=3\n",
      "[15:16:03] INFO: C:\\Jenkins\\workspace\\xgboost-win64_release_0.90\\src\\tree\\updater_prune.cc:74: tree pruning end, 1 roots, 14 extra nodes, 0 pruned nodes, max_depth=3\n",
      "[15:16:03] INFO: C:\\Jenkins\\workspace\\xgboost-win64_release_0.90\\src\\tree\\updater_prune.cc:74: tree pruning end, 1 roots, 12 extra nodes, 0 pruned nodes, max_depth=3\n",
      "[15:16:04] INFO: C:\\Jenkins\\workspace\\xgboost-win64_release_0.90\\src\\tree\\updater_prune.cc:74: tree pruning end, 1 roots, 14 extra nodes, 0 pruned nodes, max_depth=3\n",
      "[15:16:05] INFO: C:\\Jenkins\\workspace\\xgboost-win64_release_0.90\\src\\tree\\updater_prune.cc:74: tree pruning end, 1 roots, 12 extra nodes, 0 pruned nodes, max_depth=3\n",
      "[15:16:06] INFO: C:\\Jenkins\\workspace\\xgboost-win64_release_0.90\\src\\tree\\updater_prune.cc:74: tree pruning end, 1 roots, 14 extra nodes, 0 pruned nodes, max_depth=3\n",
      "[15:16:06] INFO: C:\\Jenkins\\workspace\\xgboost-win64_release_0.90\\src\\tree\\updater_prune.cc:74: tree pruning end, 1 roots, 12 extra nodes, 0 pruned nodes, max_depth=3\n",
      "[15:16:07] INFO: C:\\Jenkins\\workspace\\xgboost-win64_release_0.90\\src\\tree\\updater_prune.cc:74: tree pruning end, 1 roots, 14 extra nodes, 0 pruned nodes, max_depth=3\n",
      "[15:16:08] INFO: C:\\Jenkins\\workspace\\xgboost-win64_release_0.90\\src\\tree\\updater_prune.cc:74: tree pruning end, 1 roots, 12 extra nodes, 0 pruned nodes, max_depth=3\n",
      "[15:16:09] INFO: C:\\Jenkins\\workspace\\xgboost-win64_release_0.90\\src\\tree\\updater_prune.cc:74: tree pruning end, 1 roots, 12 extra nodes, 0 pruned nodes, max_depth=3\n",
      "[15:16:09] INFO: C:\\Jenkins\\workspace\\xgboost-win64_release_0.90\\src\\tree\\updater_prune.cc:74: tree pruning end, 1 roots, 12 extra nodes, 0 pruned nodes, max_depth=3\n",
      "[15:16:10] INFO: C:\\Jenkins\\workspace\\xgboost-win64_release_0.90\\src\\tree\\updater_prune.cc:74: tree pruning end, 1 roots, 12 extra nodes, 0 pruned nodes, max_depth=3\n",
      "[15:16:11] INFO: C:\\Jenkins\\workspace\\xgboost-win64_release_0.90\\src\\tree\\updater_prune.cc:74: tree pruning end, 1 roots, 14 extra nodes, 0 pruned nodes, max_depth=3\n",
      "[15:16:12] INFO: C:\\Jenkins\\workspace\\xgboost-win64_release_0.90\\src\\tree\\updater_prune.cc:74: tree pruning end, 1 roots, 14 extra nodes, 0 pruned nodes, max_depth=3\n",
      "[15:16:13] INFO: C:\\Jenkins\\workspace\\xgboost-win64_release_0.90\\src\\tree\\updater_prune.cc:74: tree pruning end, 1 roots, 12 extra nodes, 0 pruned nodes, max_depth=3\n",
      "[15:16:13] INFO: C:\\Jenkins\\workspace\\xgboost-win64_release_0.90\\src\\tree\\updater_prune.cc:74: tree pruning end, 1 roots, 12 extra nodes, 0 pruned nodes, max_depth=3\n",
      "[15:16:14] INFO: C:\\Jenkins\\workspace\\xgboost-win64_release_0.90\\src\\tree\\updater_prune.cc:74: tree pruning end, 1 roots, 14 extra nodes, 0 pruned nodes, max_depth=3\n",
      "[15:16:15] INFO: C:\\Jenkins\\workspace\\xgboost-win64_release_0.90\\src\\tree\\updater_prune.cc:74: tree pruning end, 1 roots, 14 extra nodes, 0 pruned nodes, max_depth=3\n",
      "[15:16:16] INFO: C:\\Jenkins\\workspace\\xgboost-win64_release_0.90\\src\\tree\\updater_prune.cc:74: tree pruning end, 1 roots, 12 extra nodes, 0 pruned nodes, max_depth=3\n",
      "[15:16:16] INFO: C:\\Jenkins\\workspace\\xgboost-win64_release_0.90\\src\\tree\\updater_prune.cc:74: tree pruning end, 1 roots, 12 extra nodes, 0 pruned nodes, max_depth=3\n",
      "[15:16:17] INFO: C:\\Jenkins\\workspace\\xgboost-win64_release_0.90\\src\\tree\\updater_prune.cc:74: tree pruning end, 1 roots, 12 extra nodes, 0 pruned nodes, max_depth=3\n",
      "[15:16:18] INFO: C:\\Jenkins\\workspace\\xgboost-win64_release_0.90\\src\\tree\\updater_prune.cc:74: tree pruning end, 1 roots, 14 extra nodes, 0 pruned nodes, max_depth=3\n",
      "[15:16:19] INFO: C:\\Jenkins\\workspace\\xgboost-win64_release_0.90\\src\\tree\\updater_prune.cc:74: tree pruning end, 1 roots, 14 extra nodes, 0 pruned nodes, max_depth=3\n",
      "[15:16:19] INFO: C:\\Jenkins\\workspace\\xgboost-win64_release_0.90\\src\\tree\\updater_prune.cc:74: tree pruning end, 1 roots, 12 extra nodes, 0 pruned nodes, max_depth=3\n",
      "[15:16:20] INFO: C:\\Jenkins\\workspace\\xgboost-win64_release_0.90\\src\\tree\\updater_prune.cc:74: tree pruning end, 1 roots, 12 extra nodes, 0 pruned nodes, max_depth=3\n",
      "[15:16:20] INFO: C:\\Jenkins\\workspace\\xgboost-win64_release_0.90\\src\\tree\\updater_prune.cc:74: tree pruning end, 1 roots, 12 extra nodes, 0 pruned nodes, max_depth=3\n",
      "[15:16:21] INFO: C:\\Jenkins\\workspace\\xgboost-win64_release_0.90\\src\\tree\\updater_prune.cc:74: tree pruning end, 1 roots, 14 extra nodes, 0 pruned nodes, max_depth=3\n",
      "[15:16:22] INFO: C:\\Jenkins\\workspace\\xgboost-win64_release_0.90\\src\\tree\\updater_prune.cc:74: tree pruning end, 1 roots, 8 extra nodes, 0 pruned nodes, max_depth=3\n",
      "[15:16:22] INFO: C:\\Jenkins\\workspace\\xgboost-win64_release_0.90\\src\\tree\\updater_prune.cc:74: tree pruning end, 1 roots, 12 extra nodes, 0 pruned nodes, max_depth=3\n",
      "[15:16:23] INFO: C:\\Jenkins\\workspace\\xgboost-win64_release_0.90\\src\\tree\\updater_prune.cc:74: tree pruning end, 1 roots, 14 extra nodes, 0 pruned nodes, max_depth=3\n",
      "[15:16:23] INFO: C:\\Jenkins\\workspace\\xgboost-win64_release_0.90\\src\\tree\\updater_prune.cc:74: tree pruning end, 1 roots, 12 extra nodes, 0 pruned nodes, max_depth=3\n",
      "[15:16:24] INFO: C:\\Jenkins\\workspace\\xgboost-win64_release_0.90\\src\\tree\\updater_prune.cc:74: tree pruning end, 1 roots, 12 extra nodes, 0 pruned nodes, max_depth=3\n",
      "[15:16:25] INFO: C:\\Jenkins\\workspace\\xgboost-win64_release_0.90\\src\\tree\\updater_prune.cc:74: tree pruning end, 1 roots, 12 extra nodes, 0 pruned nodes, max_depth=3\n",
      "[15:16:25] INFO: C:\\Jenkins\\workspace\\xgboost-win64_release_0.90\\src\\tree\\updater_prune.cc:74: tree pruning end, 1 roots, 8 extra nodes, 0 pruned nodes, max_depth=3\n",
      "[15:16:26] INFO: C:\\Jenkins\\workspace\\xgboost-win64_release_0.90\\src\\tree\\updater_prune.cc:74: tree pruning end, 1 roots, 14 extra nodes, 0 pruned nodes, max_depth=3\n",
      "[15:16:26] INFO: C:\\Jenkins\\workspace\\xgboost-win64_release_0.90\\src\\tree\\updater_prune.cc:74: tree pruning end, 1 roots, 12 extra nodes, 0 pruned nodes, max_depth=3\n",
      "[15:16:27] INFO: C:\\Jenkins\\workspace\\xgboost-win64_release_0.90\\src\\tree\\updater_prune.cc:74: tree pruning end, 1 roots, 12 extra nodes, 0 pruned nodes, max_depth=3\n",
      "[15:16:28] INFO: C:\\Jenkins\\workspace\\xgboost-win64_release_0.90\\src\\tree\\updater_prune.cc:74: tree pruning end, 1 roots, 12 extra nodes, 0 pruned nodes, max_depth=3\n",
      "[15:16:28] INFO: C:\\Jenkins\\workspace\\xgboost-win64_release_0.90\\src\\tree\\updater_prune.cc:74: tree pruning end, 1 roots, 12 extra nodes, 0 pruned nodes, max_depth=3\n",
      "[15:16:29] INFO: C:\\Jenkins\\workspace\\xgboost-win64_release_0.90\\src\\tree\\updater_prune.cc:74: tree pruning end, 1 roots, 12 extra nodes, 0 pruned nodes, max_depth=3\n",
      "[15:16:29] INFO: C:\\Jenkins\\workspace\\xgboost-win64_release_0.90\\src\\tree\\updater_prune.cc:74: tree pruning end, 1 roots, 8 extra nodes, 0 pruned nodes, max_depth=3\n",
      "[15:16:30] INFO: C:\\Jenkins\\workspace\\xgboost-win64_release_0.90\\src\\tree\\updater_prune.cc:74: tree pruning end, 1 roots, 12 extra nodes, 0 pruned nodes, max_depth=3\n",
      "[15:16:30] INFO: C:\\Jenkins\\workspace\\xgboost-win64_release_0.90\\src\\tree\\updater_prune.cc:74: tree pruning end, 1 roots, 12 extra nodes, 0 pruned nodes, max_depth=3\n",
      "[15:16:31] INFO: C:\\Jenkins\\workspace\\xgboost-win64_release_0.90\\src\\tree\\updater_prune.cc:74: tree pruning end, 1 roots, 14 extra nodes, 0 pruned nodes, max_depth=3\n",
      "[15:16:32] INFO: C:\\Jenkins\\workspace\\xgboost-win64_release_0.90\\src\\tree\\updater_prune.cc:74: tree pruning end, 1 roots, 14 extra nodes, 0 pruned nodes, max_depth=3\n",
      "[15:16:32] INFO: C:\\Jenkins\\workspace\\xgboost-win64_release_0.90\\src\\tree\\updater_prune.cc:74: tree pruning end, 1 roots, 14 extra nodes, 0 pruned nodes, max_depth=3\n",
      "[15:16:33] INFO: C:\\Jenkins\\workspace\\xgboost-win64_release_0.90\\src\\tree\\updater_prune.cc:74: tree pruning end, 1 roots, 12 extra nodes, 0 pruned nodes, max_depth=3\n",
      "[15:16:34] INFO: C:\\Jenkins\\workspace\\xgboost-win64_release_0.90\\src\\tree\\updater_prune.cc:74: tree pruning end, 1 roots, 12 extra nodes, 0 pruned nodes, max_depth=3\n",
      "[15:16:34] INFO: C:\\Jenkins\\workspace\\xgboost-win64_release_0.90\\src\\tree\\updater_prune.cc:74: tree pruning end, 1 roots, 8 extra nodes, 0 pruned nodes, max_depth=3\n",
      "[15:16:35] INFO: C:\\Jenkins\\workspace\\xgboost-win64_release_0.90\\src\\tree\\updater_prune.cc:74: tree pruning end, 1 roots, 12 extra nodes, 0 pruned nodes, max_depth=3\n",
      "Accuracy: 0.89\n",
      "F1 score: 0.87\n",
      "Precision: 1.00\n",
      "Recall: 0.78\n"
     ]
    }
   ],
   "source": [
    "clf3 = xgb.XGBClassifier(learning_rate = 0.05, n_estimators=300, max_depth=3, verbosity=2, random_state=0).fit(X_train, y_train)\n",
    "y_pred = clf3.predict(X_test)\n",
    "\n",
    "print('Accuracy: %.2f' % accuracy_score(y_test, y_pred))\n",
    "print('F1 score: %.2f' % f1_score(y_test, y_pred))\n",
    "print('Precision: %.2f' % precision_score(y_test, y_pred))\n",
    "print('Recall: %.2f' % recall_score(y_test, y_pred))"
   ]
  },
  {
   "cell_type": "code",
   "execution_count": 68,
   "metadata": {},
   "outputs": [],
   "source": [
    "scores['XGboost'] = [accuracy_score(y_test, y_pred), f1_score(y_test, y_pred), precision_score(y_test, y_pred), recall_score(y_test, y_pred)]"
   ]
  },
  {
   "cell_type": "code",
   "execution_count": 69,
   "metadata": {},
   "outputs": [],
   "source": [
    "feature_check = {}\n",
    "for name, importance in zip(features, clf3.feature_importances_):\n",
    "    feature_check[name] = importance"
   ]
  },
  {
   "cell_type": "code",
   "execution_count": 70,
   "metadata": {},
   "outputs": [
    {
     "data": {
      "text/html": [
       "<div>\n",
       "<style scoped>\n",
       "    .dataframe tbody tr th:only-of-type {\n",
       "        vertical-align: middle;\n",
       "    }\n",
       "\n",
       "    .dataframe tbody tr th {\n",
       "        vertical-align: top;\n",
       "    }\n",
       "\n",
       "    .dataframe thead th {\n",
       "        text-align: right;\n",
       "    }\n",
       "</style>\n",
       "<table border=\"1\" class=\"dataframe\">\n",
       "  <thead>\n",
       "    <tr style=\"text-align: right;\">\n",
       "      <th></th>\n",
       "      <th>feature_importance</th>\n",
       "    </tr>\n",
       "  </thead>\n",
       "  <tbody>\n",
       "    <tr>\n",
       "      <th>sess_dt_201908_2</th>\n",
       "      <td>0.059765</td>\n",
       "    </tr>\n",
       "    <tr>\n",
       "      <th>action_type_3_4</th>\n",
       "      <td>0.048704</td>\n",
       "    </tr>\n",
       "    <tr>\n",
       "      <th>sess_dt_201907_1</th>\n",
       "      <td>0.045531</td>\n",
       "    </tr>\n",
       "    <tr>\n",
       "      <th>dvc_ctg_nm_unknown_2</th>\n",
       "      <td>0.044836</td>\n",
       "    </tr>\n",
       "    <tr>\n",
       "      <th>action_type_3_3</th>\n",
       "      <td>0.044706</td>\n",
       "    </tr>\n",
       "    <tr>\n",
       "      <th>...</th>\n",
       "      <td>...</td>\n",
       "    </tr>\n",
       "    <tr>\n",
       "      <th>trfc_src_PORTAL_2_5</th>\n",
       "      <td>0.000000</td>\n",
       "    </tr>\n",
       "    <tr>\n",
       "      <th>trfc_src_PORTAL_3_5</th>\n",
       "      <td>0.000000</td>\n",
       "    </tr>\n",
       "    <tr>\n",
       "      <th>trfc_src_PUSH_5</th>\n",
       "      <td>0.000000</td>\n",
       "    </tr>\n",
       "    <tr>\n",
       "      <th>trfc_src_WEBSITE_5</th>\n",
       "      <td>0.000000</td>\n",
       "    </tr>\n",
       "    <tr>\n",
       "      <th>trfc_src_unknown_10</th>\n",
       "      <td>0.000000</td>\n",
       "    </tr>\n",
       "  </tbody>\n",
       "</table>\n",
       "<p>270 rows × 1 columns</p>\n",
       "</div>"
      ],
      "text/plain": [
       "                      feature_importance\n",
       "sess_dt_201908_2                0.059765\n",
       "action_type_3_4                 0.048704\n",
       "sess_dt_201907_1                0.045531\n",
       "dvc_ctg_nm_unknown_2            0.044836\n",
       "action_type_3_3                 0.044706\n",
       "...                                  ...\n",
       "trfc_src_PORTAL_2_5             0.000000\n",
       "trfc_src_PORTAL_3_5             0.000000\n",
       "trfc_src_PUSH_5                 0.000000\n",
       "trfc_src_WEBSITE_5              0.000000\n",
       "trfc_src_unknown_10             0.000000\n",
       "\n",
       "[270 rows x 1 columns]"
      ]
     },
     "execution_count": 70,
     "metadata": {},
     "output_type": "execute_result"
    }
   ],
   "source": [
    "pd.DataFrame.from_dict(feature_check, orient='index', columns=['feature_importance']).sort_values(by='feature_importance', ascending=False)"
   ]
  },
  {
   "cell_type": "code",
   "execution_count": 71,
   "metadata": {},
   "outputs": [],
   "source": [
    "# dump(clf3, '1-3-xgb.joblib')"
   ]
  },
  {
   "cell_type": "markdown",
   "metadata": {},
   "source": [
    "### Logistic Regression"
   ]
  },
  {
   "cell_type": "code",
   "execution_count": 72,
   "metadata": {},
   "outputs": [
    {
     "name": "stdout",
     "output_type": "stream",
     "text": [
      "Accuracy: 0.58\n",
      "F1 score: 0.60\n",
      "Precision: 0.57\n",
      "Recall: 0.63\n"
     ]
    },
    {
     "name": "stderr",
     "output_type": "stream",
     "text": [
      "C:\\ProgramData\\Anaconda3\\lib\\site-packages\\sklearn\\linear_model\\_logistic.py:940: ConvergenceWarning: lbfgs failed to converge (status=1):\n",
      "STOP: TOTAL NO. of ITERATIONS REACHED LIMIT.\n",
      "\n",
      "Increase the number of iterations (max_iter) or scale the data as shown in:\n",
      "    https://scikit-learn.org/stable/modules/preprocessing.html\n",
      "Please also refer to the documentation for alternative solver options:\n",
      "    https://scikit-learn.org/stable/modules/linear_model.html#logistic-regression\n",
      "  extra_warning_msg=_LOGISTIC_SOLVER_CONVERGENCE_MSG)\n"
     ]
    }
   ],
   "source": [
    "clf4 = LogisticRegression(max_iter=1000, random_state=0).fit(X_train, y_train)\n",
    "y_pred = clf4.predict(X_test)\n",
    "\n",
    "print('Accuracy: %.2f' % accuracy_score(y_test, y_pred))\n",
    "print('F1 score: %.2f' % f1_score(y_test, y_pred))\n",
    "print('Precision: %.2f' % precision_score(y_test, y_pred))\n",
    "print('Recall: %.2f' % recall_score(y_test, y_pred))"
   ]
  },
  {
   "cell_type": "code",
   "execution_count": 73,
   "metadata": {},
   "outputs": [],
   "source": [
    "scores['Logistic Regression'] = [accuracy_score(y_test, y_pred), f1_score(y_test, y_pred), precision_score(y_test, y_pred), recall_score(y_test, y_pred)]"
   ]
  },
  {
   "cell_type": "code",
   "execution_count": 74,
   "metadata": {},
   "outputs": [],
   "source": [
    "# dump(clf4, '1-3-LogisticRegression.joblib')"
   ]
  },
  {
   "cell_type": "markdown",
   "metadata": {},
   "source": [
    "### Linear SVM"
   ]
  },
  {
   "cell_type": "code",
   "execution_count": 75,
   "metadata": {},
   "outputs": [
    {
     "name": "stdout",
     "output_type": "stream",
     "text": [
      "Accuracy: 0.51\n",
      "F1 score: 0.66\n",
      "Precision: 0.50\n",
      "Recall: 0.98\n"
     ]
    },
    {
     "name": "stderr",
     "output_type": "stream",
     "text": [
      "C:\\ProgramData\\Anaconda3\\lib\\site-packages\\sklearn\\svm\\_base.py:947: ConvergenceWarning: Liblinear failed to converge, increase the number of iterations.\n",
      "  \"the number of iterations.\", ConvergenceWarning)\n"
     ]
    }
   ],
   "source": [
    "clf5 = LinearSVC(random_state=0).fit(X_train, y_train)\n",
    "y_pred = clf5.predict(X_test)\n",
    "\n",
    "print('Accuracy: %.2f' % accuracy_score(y_test, y_pred))\n",
    "print('F1 score: %.2f' % f1_score(y_test, y_pred))\n",
    "print('Precision: %.2f' % precision_score(y_test, y_pred))\n",
    "print('Recall: %.2f' % recall_score(y_test, y_pred))"
   ]
  },
  {
   "cell_type": "code",
   "execution_count": 76,
   "metadata": {},
   "outputs": [],
   "source": [
    "scores['Linear SVM'] = [accuracy_score(y_test, y_pred), f1_score(y_test, y_pred), precision_score(y_test, y_pred), recall_score(y_test, y_pred)]"
   ]
  },
  {
   "cell_type": "code",
   "execution_count": 77,
   "metadata": {},
   "outputs": [],
   "source": [
    "# dump(clf4, '1-3-LinearSVM.joblib')"
   ]
  },
  {
   "cell_type": "markdown",
   "metadata": {},
   "source": [
    "### MLP(DNN)"
   ]
  },
  {
   "cell_type": "code",
   "execution_count": 78,
   "metadata": {},
   "outputs": [],
   "source": [
    "def models(train):\n",
    "    model = Sequential()\n",
    "    model.add(Dense(32, activation='relu', input_shape=(train.shape[1],)))\n",
    "    model.add(Dense(16, activation='relu'))\n",
    "    model.add(Dense(1, activation='sigmoid'))\n",
    "    model.compile(loss='binary_crossentropy', optimizer=RMSprop(lr= 0.001, rho = 0.9), metrics=['acc', f1_m, precision_m, recall_m])\n",
    "    return model"
   ]
  },
  {
   "cell_type": "code",
   "execution_count": 79,
   "metadata": {},
   "outputs": [
    {
     "name": "stdout",
     "output_type": "stream",
     "text": [
      "WARNING:tensorflow:From C:\\ProgramData\\Anaconda3\\lib\\site-packages\\tensorflow\\python\\ops\\nn_impl.py:180: add_dispatch_support.<locals>.wrapper (from tensorflow.python.ops.array_ops) is deprecated and will be removed in a future version.\n",
      "Instructions for updating:\n",
      "Use tf.where in 2.0, which has the same broadcast rule as np.where\n",
      "Model: \"sequential_1\"\n",
      "_________________________________________________________________\n",
      "Layer (type)                 Output Shape              Param #   \n",
      "=================================================================\n",
      "dense_1 (Dense)              (None, 32)                8672      \n",
      "_________________________________________________________________\n",
      "dense_2 (Dense)              (None, 16)                528       \n",
      "_________________________________________________________________\n",
      "dense_3 (Dense)              (None, 1)                 17        \n",
      "=================================================================\n",
      "Total params: 9,217\n",
      "Trainable params: 9,217\n",
      "Non-trainable params: 0\n",
      "_________________________________________________________________\n"
     ]
    }
   ],
   "source": [
    "model = models(X_train)\n",
    "model.summary()"
   ]
  },
  {
   "cell_type": "code",
   "execution_count": 80,
   "metadata": {},
   "outputs": [
    {
     "name": "stdout",
     "output_type": "stream",
     "text": [
      "WARNING:tensorflow:From C:\\ProgramData\\Anaconda3\\lib\\site-packages\\keras\\backend\\tensorflow_backend.py:422: The name tf.global_variables is deprecated. Please use tf.compat.v1.global_variables instead.\n",
      "\n",
      "Train on 86375 samples, validate on 37019 samples\n",
      "Epoch 1/25\n",
      " - 1s - loss: 1.6380 - acc: 0.5063 - f1_m: 0.4436 - precision_m: 0.5024 - recall_m: 0.5201 - val_loss: 1.4200 - val_acc: 0.5161 - val_f1_m: 0.6509 - val_precision_m: 0.5083 - val_recall_m: 0.9057\n",
      "Epoch 2/25\n",
      " - 1s - loss: 1.2571 - acc: 0.5096 - f1_m: 0.4204 - precision_m: 0.5038 - recall_m: 0.5152 - val_loss: 1.1796 - val_acc: 0.5032 - val_f1_m: 0.1678 - val_precision_m: 0.4976 - val_recall_m: 0.1012\n",
      "Epoch 3/25\n",
      " - 1s - loss: 1.1512 - acc: 0.5113 - f1_m: 0.4141 - precision_m: 0.5175 - recall_m: 0.5103 - val_loss: 1.2136 - val_acc: 0.5200 - val_f1_m: 0.6556 - val_precision_m: 0.5097 - val_recall_m: 0.9193\n",
      "Epoch 4/25\n",
      " - 1s - loss: 1.0826 - acc: 0.5136 - f1_m: 0.4232 - precision_m: 0.5080 - recall_m: 0.5245 - val_loss: 1.2340 - val_acc: 0.5063 - val_f1_m: 0.1079 - val_precision_m: 0.5354 - val_recall_m: 0.0601\n",
      "Epoch 5/25\n",
      " - 1s - loss: 1.0413 - acc: 0.5162 - f1_m: 0.4242 - precision_m: 0.5217 - recall_m: 0.5174 - val_loss: 0.9045 - val_acc: 0.5338 - val_f1_m: 0.6423 - val_precision_m: 0.5199 - val_recall_m: 0.8409\n",
      "Epoch 6/25\n",
      " - 1s - loss: 0.9809 - acc: 0.5191 - f1_m: 0.4395 - precision_m: 0.5318 - recall_m: 0.5329 - val_loss: 1.0281 - val_acc: 0.5079 - val_f1_m: 0.1498 - val_precision_m: 0.5374 - val_recall_m: 0.0873\n",
      "Epoch 7/25\n",
      " - 1s - loss: 0.9282 - acc: 0.5220 - f1_m: 0.4402 - precision_m: 0.5325 - recall_m: 0.5253 - val_loss: 0.8296 - val_acc: 0.5447 - val_f1_m: 0.6556 - val_precision_m: 0.5251 - val_recall_m: 0.8732\n",
      "Epoch 8/25\n",
      " - 1s - loss: 0.8868 - acc: 0.5229 - f1_m: 0.4467 - precision_m: 0.5338 - recall_m: 0.5422 - val_loss: 0.9264 - val_acc: 0.5125 - val_f1_m: 0.2287 - val_precision_m: 0.5295 - val_recall_m: 0.1464\n",
      "Epoch 9/25\n",
      " - 1s - loss: 0.8627 - acc: 0.5253 - f1_m: 0.4471 - precision_m: 0.5387 - recall_m: 0.5356 - val_loss: 0.8359 - val_acc: 0.5401 - val_f1_m: 0.6639 - val_precision_m: 0.5211 - val_recall_m: 0.9152\n",
      "Epoch 10/25\n",
      " - 1s - loss: 0.8362 - acc: 0.5302 - f1_m: 0.4555 - precision_m: 0.5443 - recall_m: 0.5422 - val_loss: 0.8225 - val_acc: 0.5177 - val_f1_m: 0.2200 - val_precision_m: 0.5407 - val_recall_m: 0.1384\n",
      "Epoch 11/25\n",
      " - 1s - loss: 0.8234 - acc: 0.5305 - f1_m: 0.4581 - precision_m: 0.5462 - recall_m: 0.5403 - val_loss: 0.8945 - val_acc: 0.5342 - val_f1_m: 0.6698 - val_precision_m: 0.5178 - val_recall_m: 0.9487\n",
      "Epoch 12/25\n",
      " - 1s - loss: 0.8070 - acc: 0.5342 - f1_m: 0.4693 - precision_m: 0.5468 - recall_m: 0.5498 - val_loss: 0.8611 - val_acc: 0.5188 - val_f1_m: 0.2126 - val_precision_m: 0.5664 - val_recall_m: 0.1314\n",
      "Epoch 13/25\n",
      " - 1s - loss: 0.7952 - acc: 0.5344 - f1_m: 0.4733 - precision_m: 0.5532 - recall_m: 0.5461 - val_loss: 0.7876 - val_acc: 0.5448 - val_f1_m: 0.6642 - val_precision_m: 0.5249 - val_recall_m: 0.9050\n",
      "Epoch 14/25\n",
      " - 1s - loss: 0.7824 - acc: 0.5403 - f1_m: 0.4851 - precision_m: 0.5534 - recall_m: 0.5543 - val_loss: 0.7217 - val_acc: 0.5461 - val_f1_m: 0.4529 - val_precision_m: 0.5637 - val_recall_m: 0.3789\n",
      "Epoch 15/25\n",
      " - 1s - loss: 0.7700 - acc: 0.5412 - f1_m: 0.4901 - precision_m: 0.5540 - recall_m: 0.5551 - val_loss: 0.8290 - val_acc: 0.5405 - val_f1_m: 0.6660 - val_precision_m: 0.5220 - val_recall_m: 0.9204\n",
      "Epoch 16/25\n",
      " - 1s - loss: 0.7552 - acc: 0.5422 - f1_m: 0.4956 - precision_m: 0.5529 - recall_m: 0.5598 - val_loss: 0.7461 - val_acc: 0.5329 - val_f1_m: 0.3375 - val_precision_m: 0.5714 - val_recall_m: 0.2398\n",
      "Epoch 17/25\n",
      " - 1s - loss: 0.7484 - acc: 0.5461 - f1_m: 0.5072 - precision_m: 0.5598 - recall_m: 0.5645 - val_loss: 0.7320 - val_acc: 0.5578 - val_f1_m: 0.6503 - val_precision_m: 0.5361 - val_recall_m: 0.8270\n",
      "Epoch 18/25\n",
      " - 1s - loss: 0.7401 - acc: 0.5469 - f1_m: 0.5128 - precision_m: 0.5589 - recall_m: 0.5715 - val_loss: 0.7583 - val_acc: 0.5511 - val_f1_m: 0.6633 - val_precision_m: 0.5292 - val_recall_m: 0.8894\n",
      "Epoch 19/25\n",
      " - 1s - loss: 0.7327 - acc: 0.5492 - f1_m: 0.5203 - precision_m: 0.5606 - recall_m: 0.5757 - val_loss: 0.7282 - val_acc: 0.5427 - val_f1_m: 0.3871 - val_precision_m: 0.5826 - val_recall_m: 0.2904\n",
      "Epoch 20/25\n",
      " - 1s - loss: 0.7241 - acc: 0.5518 - f1_m: 0.5255 - precision_m: 0.5618 - recall_m: 0.5762 - val_loss: 0.7575 - val_acc: 0.5316 - val_f1_m: 0.3083 - val_precision_m: 0.5829 - val_recall_m: 0.2099\n",
      "Epoch 21/25\n",
      " - 1s - loss: 0.7207 - acc: 0.5545 - f1_m: 0.5285 - precision_m: 0.5665 - recall_m: 0.5760 - val_loss: 0.7100 - val_acc: 0.5685 - val_f1_m: 0.6456 - val_precision_m: 0.5457 - val_recall_m: 0.7911\n",
      "Epoch 22/25\n",
      " - 1s - loss: 0.7105 - acc: 0.5573 - f1_m: 0.5444 - precision_m: 0.5636 - recall_m: 0.5916 - val_loss: 0.6876 - val_acc: 0.5734 - val_f1_m: 0.5537 - val_precision_m: 0.5796 - val_recall_m: 0.5312\n",
      "Epoch 23/25\n",
      " - 1s - loss: 0.6995 - acc: 0.5608 - f1_m: 0.5502 - precision_m: 0.5671 - recall_m: 0.5998 - val_loss: 0.7455 - val_acc: 0.5532 - val_f1_m: 0.6646 - val_precision_m: 0.5304 - val_recall_m: 0.8904\n",
      "Epoch 24/25\n",
      " - 1s - loss: 0.6964 - acc: 0.5613 - f1_m: 0.5582 - precision_m: 0.5657 - recall_m: 0.6154 - val_loss: 0.7126 - val_acc: 0.5478 - val_f1_m: 0.4137 - val_precision_m: 0.5853 - val_recall_m: 0.3206\n",
      "Epoch 25/25\n",
      " - 1s - loss: 0.6919 - acc: 0.5638 - f1_m: 0.5721 - precision_m: 0.5641 - recall_m: 0.6316 - val_loss: 0.7111 - val_acc: 0.5463 - val_f1_m: 0.3749 - val_precision_m: 0.6029 - val_recall_m: 0.2739\n"
     ]
    }
   ],
   "source": [
    "history = model.fit(X_train, y_train, epochs=25, batch_size=1000, validation_data=(X_test, y_test), verbose=2, shuffle=True)"
   ]
  },
  {
   "cell_type": "code",
   "execution_count": 81,
   "metadata": {},
   "outputs": [
    {
     "name": "stdout",
     "output_type": "stream",
     "text": [
      "37019/37019 [==============================] - 2s 41us/step\n"
     ]
    }
   ],
   "source": [
    "loss, accuracy, f1_score, precision, recall = model.evaluate(X_test, y_test, verbose=1)"
   ]
  },
  {
   "cell_type": "code",
   "execution_count": 82,
   "metadata": {},
   "outputs": [],
   "source": [
    "scores['DNN'] = [accuracy, f1_score, precision, recall]"
   ]
  },
  {
   "cell_type": "code",
   "execution_count": 83,
   "metadata": {},
   "outputs": [
    {
     "name": "stdout",
     "output_type": "stream",
     "text": [
      "0.7110973841647648\n",
      "0.5462599992752075\n",
      "0.3664796054363251\n",
      "0.5919910669326782\n",
      "0.27579590678215027\n"
     ]
    }
   ],
   "source": [
    "print(loss)\n",
    "print(accuracy)\n",
    "print(f1_score)\n",
    "print(precision)\n",
    "print(recall)"
   ]
  },
  {
   "cell_type": "code",
   "execution_count": 84,
   "metadata": {},
   "outputs": [],
   "source": [
    "# model.save('1-3-DNN.h5')"
   ]
  },
  {
   "cell_type": "code",
   "execution_count": 85,
   "metadata": {},
   "outputs": [
    {
     "data": {
      "text/html": [
       "<div>\n",
       "<style scoped>\n",
       "    .dataframe tbody tr th:only-of-type {\n",
       "        vertical-align: middle;\n",
       "    }\n",
       "\n",
       "    .dataframe tbody tr th {\n",
       "        vertical-align: top;\n",
       "    }\n",
       "\n",
       "    .dataframe thead th {\n",
       "        text-align: right;\n",
       "    }\n",
       "</style>\n",
       "<table border=\"1\" class=\"dataframe\">\n",
       "  <thead>\n",
       "    <tr style=\"text-align: right;\">\n",
       "      <th></th>\n",
       "      <th>Accuracy</th>\n",
       "      <th>F1-Score</th>\n",
       "      <th>Precision</th>\n",
       "      <th>Recall</th>\n",
       "    </tr>\n",
       "  </thead>\n",
       "  <tbody>\n",
       "    <tr>\n",
       "      <th>Gaussian Naive Bayes</th>\n",
       "      <td>0.566898</td>\n",
       "      <td>0.651115</td>\n",
       "      <td>0.542419</td>\n",
       "      <td>0.814293</td>\n",
       "    </tr>\n",
       "    <tr>\n",
       "      <th>Decision Tree</th>\n",
       "      <td>0.805262</td>\n",
       "      <td>0.807550</td>\n",
       "      <td>0.792466</td>\n",
       "      <td>0.823219</td>\n",
       "    </tr>\n",
       "    <tr>\n",
       "      <th>XGboost</th>\n",
       "      <td>0.889543</td>\n",
       "      <td>0.874789</td>\n",
       "      <td>1.000000</td>\n",
       "      <td>0.777445</td>\n",
       "    </tr>\n",
       "    <tr>\n",
       "      <th>Logistic Regression</th>\n",
       "      <td>0.578811</td>\n",
       "      <td>0.597750</td>\n",
       "      <td>0.568199</td>\n",
       "      <td>0.630545</td>\n",
       "    </tr>\n",
       "    <tr>\n",
       "      <th>Linear SVM</th>\n",
       "      <td>0.506416</td>\n",
       "      <td>0.662280</td>\n",
       "      <td>0.501413</td>\n",
       "      <td>0.975127</td>\n",
       "    </tr>\n",
       "    <tr>\n",
       "      <th>DNN</th>\n",
       "      <td>0.546260</td>\n",
       "      <td>0.366480</td>\n",
       "      <td>0.591991</td>\n",
       "      <td>0.275796</td>\n",
       "    </tr>\n",
       "  </tbody>\n",
       "</table>\n",
       "</div>"
      ],
      "text/plain": [
       "                      Accuracy  F1-Score  Precision    Recall\n",
       "Gaussian Naive Bayes  0.566898  0.651115   0.542419  0.814293\n",
       "Decision Tree         0.805262  0.807550   0.792466  0.823219\n",
       "XGboost               0.889543  0.874789   1.000000  0.777445\n",
       "Logistic Regression   0.578811  0.597750   0.568199  0.630545\n",
       "Linear SVM            0.506416  0.662280   0.501413  0.975127\n",
       "DNN                   0.546260  0.366480   0.591991  0.275796"
      ]
     },
     "execution_count": 85,
     "metadata": {},
     "output_type": "execute_result"
    }
   ],
   "source": [
    "pd.DataFrame.from_dict(scores, orient='index', columns=['Accuracy', 'F1-Score', 'Precision', 'Recall'])"
   ]
  },
  {
   "cell_type": "code",
   "execution_count": null,
   "metadata": {},
   "outputs": [],
   "source": []
  }
 ],
 "metadata": {
  "kernelspec": {
   "display_name": "Python 3",
   "language": "python",
   "name": "python3"
  },
  "language_info": {
   "codemirror_mode": {
    "name": "ipython",
    "version": 3
   },
   "file_extension": ".py",
   "mimetype": "text/x-python",
   "name": "python",
   "nbconvert_exporter": "python",
   "pygments_lexer": "ipython3",
   "version": "3.7.3"
  }
 },
 "nbformat": 4,
 "nbformat_minor": 2
}
