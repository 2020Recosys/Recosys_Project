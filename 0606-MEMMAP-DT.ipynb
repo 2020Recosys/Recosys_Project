{
 "cells": [
  {
   "cell_type": "markdown",
   "metadata": {},
   "source": [
    "# Data Load "
   ]
  },
  {
   "cell_type": "code",
   "execution_count": 1,
   "metadata": {},
   "outputs": [],
   "source": [
    "import numpy as np\n",
    "from tempfile import mkdtemp\n",
    "import os\n",
    "import json\n",
    "from tqdm.notebook import tqdm"
   ]
  },
  {
   "cell_type": "code",
   "execution_count": null,
   "metadata": {},
   "outputs": [],
   "source": [
    "from sklearn.metrics import accuracy_score, f1_score, precision_score, recall_score\n",
    "from sklearn.tree import DecisionTreeClassifier\n",
    "from imblearn.over_sampling import SMOTE\n",
    "from imblearn.pipeline import make_pipeline"
   ]
  },
  {
   "cell_type": "code",
   "execution_count": 2,
   "metadata": {},
   "outputs": [],
   "source": [
    "def make_path(file_name, directory='', is_make_temp_dir=False):\n",
    "    \"\"\"디렉토리와 파일명을 더해 경로를 만든다\"\"\"\n",
    "    if is_make_temp_dir is True:\n",
    "        directory = mkdtemp()\n",
    "    if len(directory) >= 2 and not os.path.exists(directory):\n",
    "        os.makedirs(directory)    \n",
    "    return os.path.join(directory, file_name)\n",
    "\n",
    "def read_memmap(mem_file_name):\n",
    "    \"\"\"디스크에 저장된 numpy.memmap객체를 읽는다\"\"\"\n",
    "    # r+ mode: Open existing file for reading and writing\n",
    "    with open(mem_file_name+'.conf', 'r') as file:\n",
    "        memmap_configs = json.load(file)\n",
    "        return np.memmap(mem_file_name, mode='r+', \\\n",
    "                         shape=tuple(memmap_configs['shape']), \\\n",
    "                         dtype=memmap_configs['dtype'])"
   ]
  },
  {
   "cell_type": "markdown",
   "metadata": {},
   "source": [
    "# Modeling"
   ]
  },
  {
   "cell_type": "code",
   "execution_count": 5,
   "metadata": {},
   "outputs": [],
   "source": [
    "def one_cv_for_one_algo(algorithm, X_train, y_train):\n",
    "    clf = make_pipeline(SMOTE(random_state=0), algorithm)\n",
    "    clf.fit(X_train, y_train)\n",
    "    del X_train, y_train\n",
    "    \n",
    "    # For Testing\n",
    "    # X_test\n",
    "    fn = 'mem_file_X_test_' + str(cv_idx) + '.dat'\n",
    "    mem_file_name = make_path(fn, directory='')\n",
    "    X_test = read_memmap(mem_file_name)\n",
    "    print('X_test loaded')\n",
    "\n",
    "    # y_test\n",
    "    fn = 'mem_file_y_test_' + str(cv_idx) + '.dat'\n",
    "    mem_file_name = make_path(fn, directory='')\n",
    "    y_test = read_memmap(mem_file_name)\n",
    "    print('y_test loaded')\n",
    "    \n",
    "    y_pred = clf.predict(X_test)\n",
    "    del X_test\n",
    "    \n",
    "    s1 = accuracy_score(y_true=y_test, y_pred=y_pred)\n",
    "    s2 = precision_score(y_true=y_test, y_pred=y_pred)\n",
    "    s3 = recall_score(y_true=y_test, y_pred=y_pred)\n",
    "    s4 = f1_score(y_true=y_test, y_pred=y_pred)\n",
    "    del y_test\n",
    "    \n",
    "    print('accuracy:', s1)\n",
    "    print('precision:', s2)\n",
    "    print('recall:', s3)\n",
    "    print('f1:', s4)\n",
    "    return [s1, s2, s3, s4]"
   ]
  },
  {
   "cell_type": "code",
   "execution_count": null,
   "metadata": {},
   "outputs": [],
   "source": [
    "all_scores = []\n",
    "for cv_idx in tqdm(range(0, 10)):\n",
    "    print(cv_idx)\n",
    "    \n",
    "    ## For Training\n",
    "    # X_train\n",
    "    fn = 'mem_file_X_train_' + str(cv_idx) + '.dat'\n",
    "    mem_file_name = make_path(fn, directory='')\n",
    "    X_train = read_memmap(mem_file_name)\n",
    "    print('X_train loaded')\n",
    "\n",
    "    # y_train\n",
    "    fn = 'mem_file_y_train_' + str(cv_idx) + '.dat'\n",
    "    mem_file_name = make_path(fn, directory='')\n",
    "    y_train = read_memmap(mem_file_name)\n",
    "    print('y_train loaded')\n",
    "    \n",
    "    algorithm = DecisionTreeClassifier(random_state=0)\n",
    "    scores = one_cv_for_one_algo(algorithm, X_train, y_train)\n",
    "\n",
    "    print(str(cv_idx),'번 cv: ',scores)\n",
    "    all_scores.append(scores)    "
   ]
  },
  {
   "cell_type": "code",
   "execution_count": null,
   "metadata": {},
   "outputs": [],
   "source": [
    "import pickle\n",
    "with open('DT_1-2-1-3_scores.pkl','w') as f:\n",
    "    pickle.dump(all_scores, f)"
   ]
  }
 ],
 "metadata": {
  "kernelspec": {
   "display_name": "Python 3",
   "language": "python",
   "name": "python3"
  },
  "language_info": {
   "codemirror_mode": {
    "name": "ipython",
    "version": 3
   },
   "file_extension": ".py",
   "mimetype": "text/x-python",
   "name": "python",
   "nbconvert_exporter": "python",
   "pygments_lexer": "ipython3",
   "version": "3.7.4"
  }
 },
 "nbformat": 4,
 "nbformat_minor": 2
}
