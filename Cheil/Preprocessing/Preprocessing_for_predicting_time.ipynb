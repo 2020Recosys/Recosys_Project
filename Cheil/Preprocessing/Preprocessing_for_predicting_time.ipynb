{
 "cells": [
  {
   "cell_type": "code",
   "execution_count": 34,
   "metadata": {},
   "outputs": [],
   "source": [
    "import pandas as pd\n",
    "import tensorflow as tf\n",
    "from sklearn.preprocessing import LabelEncoder\n",
    "import datetime\n",
    "import numpy as np\n",
    "from keras.models import Sequential\n",
    "from keras.layers import Dense\n",
    "from keras.layers import LSTM\n",
    "from keras.optimizers import RMSprop\n",
    "from sklearn.model_selection import train_test_split\n",
    "from keras.preprocessing import sequence\n",
    "from matplotlib import pyplot as plt\n",
    "from keras.layers.embeddings import Embedding\n",
    "from keras.layers import Dropout\n",
    "from keras.layers import Masking\n",
    "from tqdm import tqdm_notebook\n",
    "from imblearn.over_sampling import SMOTE, ADASYN\n",
    "from imblearn.over_sampling import RandomOverSampler\n",
    "from keras.utils import to_categorical"
   ]
  },
  {
   "cell_type": "code",
   "execution_count": 35,
   "metadata": {},
   "outputs": [],
   "source": [
    "data= pd.read_csv('preprocessed_data.csv', low_memory=False)"
   ]
  },
  {
   "cell_type": "code",
   "execution_count": 36,
   "metadata": {},
   "outputs": [],
   "source": [
    "## 하루 최대 세션 길이 설정 (Padding)\n",
    "check_max_session = 55"
   ]
  },
  {
   "cell_type": "code",
   "execution_count": 37,
   "metadata": {},
   "outputs": [],
   "source": [
    "data['Time'] = pd.to_datetime(data['Time'])"
   ]
  },
  {
   "cell_type": "code",
   "execution_count": 38,
   "metadata": {},
   "outputs": [
    {
     "data": {
      "text/html": [
       "<div>\n",
       "<style scoped>\n",
       "    .dataframe tbody tr th:only-of-type {\n",
       "        vertical-align: middle;\n",
       "    }\n",
       "\n",
       "    .dataframe tbody tr th {\n",
       "        vertical-align: top;\n",
       "    }\n",
       "\n",
       "    .dataframe thead th {\n",
       "        text-align: right;\n",
       "    }\n",
       "</style>\n",
       "<table border=\"1\" class=\"dataframe\">\n",
       "  <thead>\n",
       "    <tr style=\"text-align: right;\">\n",
       "      <th></th>\n",
       "      <th>Unnamed: 0</th>\n",
       "      <th>UID</th>\n",
       "      <th>URL</th>\n",
       "      <th>Site</th>\n",
       "      <th>Domain</th>\n",
       "      <th>Time</th>\n",
       "      <th>Title</th>\n",
       "      <th>keyword_p</th>\n",
       "      <th>keyword_t</th>\n",
       "      <th>category_1</th>\n",
       "      <th>category_2</th>\n",
       "      <th>category_3</th>\n",
       "      <th>category_4</th>\n",
       "      <th>category_5</th>\n",
       "      <th>category_6</th>\n",
       "      <th>ownership_1</th>\n",
       "      <th>ownership_2</th>\n",
       "      <th>PC</th>\n",
       "      <th>session_id</th>\n",
       "    </tr>\n",
       "  </thead>\n",
       "  <tbody>\n",
       "    <tr>\n",
       "      <th>0</th>\n",
       "      <td>0</td>\n",
       "      <td>20120712210FAAE99B43</td>\n",
       "      <td>http://mw.cjmall.com/cjupload/cjmall/planshop/...</td>\n",
       "      <td>오트랜드</td>\n",
       "      <td>cjmall.com/</td>\n",
       "      <td>2014-06-01 14:07:26</td>\n",
       "      <td>CJmall</td>\n",
       "      <td>NaN</td>\n",
       "      <td>NaN</td>\n",
       "      <td>비즈니스/쇼핑</td>\n",
       "      <td>종합쇼핑몰</td>\n",
       "      <td>홈쇼핑</td>\n",
       "      <td>CJ오쇼핑</td>\n",
       "      <td>NaN</td>\n",
       "      <td>NaN</td>\n",
       "      <td>Retailer</td>\n",
       "      <td>홈쇼핑</td>\n",
       "      <td>0</td>\n",
       "      <td>0</td>\n",
       "    </tr>\n",
       "    <tr>\n",
       "      <th>1</th>\n",
       "      <td>1</td>\n",
       "      <td>20120712210FAAE99B43</td>\n",
       "      <td>http://page.uplus.co.kr/index.html?v=MjAxMzEwM...</td>\n",
       "      <td>LG유플러스</td>\n",
       "      <td>uplus.co.kr/</td>\n",
       "      <td>2014-06-01 14:25:31</td>\n",
       "      <td>U+Page</td>\n",
       "      <td>NaN</td>\n",
       "      <td>NaN</td>\n",
       "      <td>비즈니스/쇼핑</td>\n",
       "      <td>통신/네트워크</td>\n",
       "      <td>무선/이동통신</td>\n",
       "      <td>LG유플러스</td>\n",
       "      <td>NaN</td>\n",
       "      <td>NaN</td>\n",
       "      <td>Maker</td>\n",
       "      <td>무선/이동통신</td>\n",
       "      <td>0</td>\n",
       "      <td>1</td>\n",
       "    </tr>\n",
       "    <tr>\n",
       "      <th>2</th>\n",
       "      <td>2</td>\n",
       "      <td>20120712210FAAE99B43</td>\n",
       "      <td>http://page.uplus.co.kr/</td>\n",
       "      <td>U+Page 모바일</td>\n",
       "      <td>uplus.co.kr/</td>\n",
       "      <td>2014-06-01 14:25:34</td>\n",
       "      <td>http://page.uplus.co.kr/</td>\n",
       "      <td>NaN</td>\n",
       "      <td>NaN</td>\n",
       "      <td>비즈니스/쇼핑</td>\n",
       "      <td>통신/네트워크</td>\n",
       "      <td>무선/이동통신</td>\n",
       "      <td>LG유플러스</td>\n",
       "      <td>NaN</td>\n",
       "      <td>NaN</td>\n",
       "      <td>Maker</td>\n",
       "      <td>무선/이동통신</td>\n",
       "      <td>0</td>\n",
       "      <td>1</td>\n",
       "    </tr>\n",
       "    <tr>\n",
       "      <th>3</th>\n",
       "      <td>3</td>\n",
       "      <td>20120712210FAAE99B43</td>\n",
       "      <td>http://page.uplus.co.kr/index.html?v=MjAxMzEwM...</td>\n",
       "      <td>LG유플러스</td>\n",
       "      <td>uplus.co.kr/</td>\n",
       "      <td>2014-06-01 14:25:40</td>\n",
       "      <td>U+Page</td>\n",
       "      <td>NaN</td>\n",
       "      <td>NaN</td>\n",
       "      <td>비즈니스/쇼핑</td>\n",
       "      <td>통신/네트워크</td>\n",
       "      <td>무선/이동통신</td>\n",
       "      <td>LG유플러스</td>\n",
       "      <td>NaN</td>\n",
       "      <td>NaN</td>\n",
       "      <td>Maker</td>\n",
       "      <td>무선/이동통신</td>\n",
       "      <td>0</td>\n",
       "      <td>1</td>\n",
       "    </tr>\n",
       "    <tr>\n",
       "      <th>4</th>\n",
       "      <td>4</td>\n",
       "      <td>20120712210FAAE99B43</td>\n",
       "      <td>http://m.naver.com/</td>\n",
       "      <td>네이버 모바일</td>\n",
       "      <td>naver.com/</td>\n",
       "      <td>2014-06-01 14:25:46</td>\n",
       "      <td>NAVER</td>\n",
       "      <td>NaN</td>\n",
       "      <td>NaN</td>\n",
       "      <td>컴퓨터/인터넷</td>\n",
       "      <td>인터넷</td>\n",
       "      <td>포털</td>\n",
       "      <td>네이버</td>\n",
       "      <td>NaN</td>\n",
       "      <td>NaN</td>\n",
       "      <td>Portal</td>\n",
       "      <td>네이버</td>\n",
       "      <td>0</td>\n",
       "      <td>1</td>\n",
       "    </tr>\n",
       "  </tbody>\n",
       "</table>\n",
       "</div>"
      ],
      "text/plain": [
       "   Unnamed: 0                   UID  \\\n",
       "0           0  20120712210FAAE99B43   \n",
       "1           1  20120712210FAAE99B43   \n",
       "2           2  20120712210FAAE99B43   \n",
       "3           3  20120712210FAAE99B43   \n",
       "4           4  20120712210FAAE99B43   \n",
       "\n",
       "                                                 URL        Site  \\\n",
       "0  http://mw.cjmall.com/cjupload/cjmall/planshop/...        오트랜드   \n",
       "1  http://page.uplus.co.kr/index.html?v=MjAxMzEwM...      LG유플러스   \n",
       "2                           http://page.uplus.co.kr/  U+Page 모바일   \n",
       "3  http://page.uplus.co.kr/index.html?v=MjAxMzEwM...      LG유플러스   \n",
       "4                                http://m.naver.com/     네이버 모바일   \n",
       "\n",
       "         Domain                Time                     Title keyword_p  \\\n",
       "0   cjmall.com/ 2014-06-01 14:07:26                    CJmall       NaN   \n",
       "1  uplus.co.kr/ 2014-06-01 14:25:31                    U+Page       NaN   \n",
       "2  uplus.co.kr/ 2014-06-01 14:25:34  http://page.uplus.co.kr/       NaN   \n",
       "3  uplus.co.kr/ 2014-06-01 14:25:40                    U+Page       NaN   \n",
       "4    naver.com/ 2014-06-01 14:25:46                     NAVER       NaN   \n",
       "\n",
       "  keyword_t category_1 category_2 category_3 category_4 category_5 category_6  \\\n",
       "0       NaN    비즈니스/쇼핑      종합쇼핑몰        홈쇼핑      CJ오쇼핑        NaN        NaN   \n",
       "1       NaN    비즈니스/쇼핑    통신/네트워크    무선/이동통신     LG유플러스        NaN        NaN   \n",
       "2       NaN    비즈니스/쇼핑    통신/네트워크    무선/이동통신     LG유플러스        NaN        NaN   \n",
       "3       NaN    비즈니스/쇼핑    통신/네트워크    무선/이동통신     LG유플러스        NaN        NaN   \n",
       "4       NaN    컴퓨터/인터넷        인터넷         포털        네이버        NaN        NaN   \n",
       "\n",
       "  ownership_1 ownership_2  PC  session_id  \n",
       "0    Retailer         홈쇼핑   0           0  \n",
       "1       Maker     무선/이동통신   0           1  \n",
       "2       Maker     무선/이동통신   0           1  \n",
       "3       Maker     무선/이동통신   0           1  \n",
       "4      Portal         네이버   0           1  "
      ]
     },
     "execution_count": 38,
     "metadata": {},
     "output_type": "execute_result"
    }
   ],
   "source": [
    "data.head()"
   ]
  },
  {
   "cell_type": "code",
   "execution_count": 39,
   "metadata": {},
   "outputs": [],
   "source": [
    "data.drop(['Unnamed: 0', 'Site', 'Title', 'keyword_t', 'keyword_p', 'category_3', 'category_4', 'category_5', 'category_6', \n",
    "           'ownership_1'], axis = 1, inplace = True)"
   ]
  },
  {
   "cell_type": "code",
   "execution_count": 40,
   "metadata": {},
   "outputs": [
    {
     "data": {
      "text/html": [
       "<div>\n",
       "<style scoped>\n",
       "    .dataframe tbody tr th:only-of-type {\n",
       "        vertical-align: middle;\n",
       "    }\n",
       "\n",
       "    .dataframe tbody tr th {\n",
       "        vertical-align: top;\n",
       "    }\n",
       "\n",
       "    .dataframe thead th {\n",
       "        text-align: right;\n",
       "    }\n",
       "</style>\n",
       "<table border=\"1\" class=\"dataframe\">\n",
       "  <thead>\n",
       "    <tr style=\"text-align: right;\">\n",
       "      <th></th>\n",
       "      <th>UID</th>\n",
       "      <th>URL</th>\n",
       "      <th>Domain</th>\n",
       "      <th>Time</th>\n",
       "      <th>category_1</th>\n",
       "      <th>category_2</th>\n",
       "      <th>ownership_2</th>\n",
       "      <th>PC</th>\n",
       "      <th>session_id</th>\n",
       "    </tr>\n",
       "  </thead>\n",
       "  <tbody>\n",
       "    <tr>\n",
       "      <th>0</th>\n",
       "      <td>20120712210FAAE99B43</td>\n",
       "      <td>http://mw.cjmall.com/cjupload/cjmall/planshop/...</td>\n",
       "      <td>cjmall.com/</td>\n",
       "      <td>2014-06-01 14:07:26</td>\n",
       "      <td>비즈니스/쇼핑</td>\n",
       "      <td>종합쇼핑몰</td>\n",
       "      <td>홈쇼핑</td>\n",
       "      <td>0</td>\n",
       "      <td>0</td>\n",
       "    </tr>\n",
       "    <tr>\n",
       "      <th>1</th>\n",
       "      <td>20120712210FAAE99B43</td>\n",
       "      <td>http://page.uplus.co.kr/index.html?v=MjAxMzEwM...</td>\n",
       "      <td>uplus.co.kr/</td>\n",
       "      <td>2014-06-01 14:25:31</td>\n",
       "      <td>비즈니스/쇼핑</td>\n",
       "      <td>통신/네트워크</td>\n",
       "      <td>무선/이동통신</td>\n",
       "      <td>0</td>\n",
       "      <td>1</td>\n",
       "    </tr>\n",
       "    <tr>\n",
       "      <th>2</th>\n",
       "      <td>20120712210FAAE99B43</td>\n",
       "      <td>http://page.uplus.co.kr/</td>\n",
       "      <td>uplus.co.kr/</td>\n",
       "      <td>2014-06-01 14:25:34</td>\n",
       "      <td>비즈니스/쇼핑</td>\n",
       "      <td>통신/네트워크</td>\n",
       "      <td>무선/이동통신</td>\n",
       "      <td>0</td>\n",
       "      <td>1</td>\n",
       "    </tr>\n",
       "    <tr>\n",
       "      <th>3</th>\n",
       "      <td>20120712210FAAE99B43</td>\n",
       "      <td>http://page.uplus.co.kr/index.html?v=MjAxMzEwM...</td>\n",
       "      <td>uplus.co.kr/</td>\n",
       "      <td>2014-06-01 14:25:40</td>\n",
       "      <td>비즈니스/쇼핑</td>\n",
       "      <td>통신/네트워크</td>\n",
       "      <td>무선/이동통신</td>\n",
       "      <td>0</td>\n",
       "      <td>1</td>\n",
       "    </tr>\n",
       "    <tr>\n",
       "      <th>4</th>\n",
       "      <td>20120712210FAAE99B43</td>\n",
       "      <td>http://m.naver.com/</td>\n",
       "      <td>naver.com/</td>\n",
       "      <td>2014-06-01 14:25:46</td>\n",
       "      <td>컴퓨터/인터넷</td>\n",
       "      <td>인터넷</td>\n",
       "      <td>네이버</td>\n",
       "      <td>0</td>\n",
       "      <td>1</td>\n",
       "    </tr>\n",
       "  </tbody>\n",
       "</table>\n",
       "</div>"
      ],
      "text/plain": [
       "                    UID                                                URL  \\\n",
       "0  20120712210FAAE99B43  http://mw.cjmall.com/cjupload/cjmall/planshop/...   \n",
       "1  20120712210FAAE99B43  http://page.uplus.co.kr/index.html?v=MjAxMzEwM...   \n",
       "2  20120712210FAAE99B43                           http://page.uplus.co.kr/   \n",
       "3  20120712210FAAE99B43  http://page.uplus.co.kr/index.html?v=MjAxMzEwM...   \n",
       "4  20120712210FAAE99B43                                http://m.naver.com/   \n",
       "\n",
       "         Domain                Time category_1 category_2 ownership_2  PC  \\\n",
       "0   cjmall.com/ 2014-06-01 14:07:26    비즈니스/쇼핑      종합쇼핑몰         홈쇼핑   0   \n",
       "1  uplus.co.kr/ 2014-06-01 14:25:31    비즈니스/쇼핑    통신/네트워크     무선/이동통신   0   \n",
       "2  uplus.co.kr/ 2014-06-01 14:25:34    비즈니스/쇼핑    통신/네트워크     무선/이동통신   0   \n",
       "3  uplus.co.kr/ 2014-06-01 14:25:40    비즈니스/쇼핑    통신/네트워크     무선/이동통신   0   \n",
       "4    naver.com/ 2014-06-01 14:25:46    컴퓨터/인터넷        인터넷         네이버   0   \n",
       "\n",
       "   session_id  \n",
       "0           0  \n",
       "1           1  \n",
       "2           1  \n",
       "3           1  \n",
       "4           1  "
      ]
     },
     "execution_count": 40,
     "metadata": {},
     "output_type": "execute_result"
    }
   ],
   "source": [
    "data.head()"
   ]
  },
  {
   "cell_type": "markdown",
   "metadata": {},
   "source": [
    "### 파생변수 생성"
   ]
  },
  {
   "cell_type": "code",
   "execution_count": 41,
   "metadata": {},
   "outputs": [],
   "source": [
    "#세션 시작시간과 끝시간 구하기\n",
    "se_time_min = data.groupby(['UID', 'session_id'])['Time'].min()\n",
    "se_time_max = data.groupby(['UID', 'session_id'])['Time'].max()"
   ]
  },
  {
   "cell_type": "code",
   "execution_count": 42,
   "metadata": {},
   "outputs": [],
   "source": [
    "data = pd.merge(data,pd.DataFrame(se_time_max-se_time_min),\n",
    "                        left_on = ['UID', 'session_id'], right_on = ['UID', 'session_id'])"
   ]
  },
  {
   "cell_type": "code",
   "execution_count": 43,
   "metadata": {},
   "outputs": [],
   "source": [
    "#세션당 방문사이트 수\n",
    "data = pd.merge(data,pd.DataFrame(data.groupby(['UID', 'session_id']).count()['Domain']),\n",
    "                        left_on = ['UID', 'session_id'], right_on = ['UID', 'session_id'])"
   ]
  },
  {
   "cell_type": "code",
   "execution_count": 44,
   "metadata": {},
   "outputs": [],
   "source": [
    "# 세션별 쇼핑 사이트 방문 빈도 (Ownership2 : 종합쇼핑몰, 소셜커머스, 지불/결제)\n",
    "data['쇼핑사이트'] = data['ownership_2']"
   ]
  },
  {
   "cell_type": "code",
   "execution_count": 45,
   "metadata": {},
   "outputs": [],
   "source": [
    "data['쇼핑사이트'] = data['쇼핑사이트'].apply(lambda x:1 if x in(['종합쇼핑몰', '소셜커머스', '지불/결제']) else 0)"
   ]
  },
  {
   "cell_type": "markdown",
   "metadata": {},
   "source": [
    "### 구매 데이터 분석"
   ]
  },
  {
   "cell_type": "code",
   "execution_count": 46,
   "metadata": {},
   "outputs": [],
   "source": [
    "purchase = pd.read_excel('140716_SSK 구매행태 조사 Raw Data_F.xlsx')"
   ]
  },
  {
   "cell_type": "code",
   "execution_count": null,
   "metadata": {},
   "outputs": [],
   "source": []
  },
  {
   "cell_type": "code",
   "execution_count": 47,
   "metadata": {},
   "outputs": [],
   "source": [
    "#가전제품 구입자(인터넷에서 정보를 얻은 사람들)\n",
    "purchase_가전제품 = purchase[(purchase['A4_2_1'] == 3) & ((purchase['A4_5'] == 3) | (purchase['A4_5'] == 4))]\n",
    "#패션의류/잡화 구입자(인터넷에서 정보를 얻은 사람들)\n",
    "purchase_패션 = purchase[(purchase['A5_2_1'] == 3) & ((purchase['A5_5'] == 3) | (purchase['A5_5'] == 4))]\n",
    "#화장품 구입자(인터넷에서 정보를 얻은 사람들)\n",
    "purchase_화장품 = purchase[(purchase['A6_2_1'] == 3) & ((purchase['A6_5'] == 3) | (purchase['A6_5'] == 4))]\n",
    "#186명이라 중순과 하순만 고려해야 할듯"
   ]
  },
  {
   "cell_type": "code",
   "execution_count": 48,
   "metadata": {},
   "outputs": [
    {
     "name": "stdout",
     "output_type": "stream",
     "text": [
      "(98, 151)\n",
      "(190, 151)\n",
      "(155, 151)\n"
     ]
    }
   ],
   "source": [
    "print(purchase_가전제품.shape)\n",
    "print(purchase_패션.shape)\n",
    "print(purchase_화장품.shape)"
   ]
  },
  {
   "cell_type": "code",
   "execution_count": 49,
   "metadata": {},
   "outputs": [],
   "source": [
    "data = pd.merge(data,purchase[['UID','A4_2_1','A4_2_2', 'A5_2_1','A5_2_2' ,'A6_2_1','A6_2_2' ,'A4_5', 'A5_5', 'A6_5']],\n",
    "                how = 'inner',left_on = 'UID', right_on= 'UID')"
   ]
  },
  {
   "cell_type": "code",
   "execution_count": 50,
   "metadata": {},
   "outputs": [
    {
     "data": {
      "text/html": [
       "<div>\n",
       "<style scoped>\n",
       "    .dataframe tbody tr th:only-of-type {\n",
       "        vertical-align: middle;\n",
       "    }\n",
       "\n",
       "    .dataframe tbody tr th {\n",
       "        vertical-align: top;\n",
       "    }\n",
       "\n",
       "    .dataframe thead th {\n",
       "        text-align: right;\n",
       "    }\n",
       "</style>\n",
       "<table border=\"1\" class=\"dataframe\">\n",
       "  <thead>\n",
       "    <tr style=\"text-align: right;\">\n",
       "      <th></th>\n",
       "      <th>UID</th>\n",
       "      <th>URL</th>\n",
       "      <th>Domain_x</th>\n",
       "      <th>Time_x</th>\n",
       "      <th>category_1</th>\n",
       "      <th>category_2</th>\n",
       "      <th>ownership_2</th>\n",
       "      <th>PC</th>\n",
       "      <th>session_id</th>\n",
       "      <th>Time_y</th>\n",
       "      <th>...</th>\n",
       "      <th>쇼핑사이트</th>\n",
       "      <th>A4_2_1</th>\n",
       "      <th>A4_2_2</th>\n",
       "      <th>A5_2_1</th>\n",
       "      <th>A5_2_2</th>\n",
       "      <th>A6_2_1</th>\n",
       "      <th>A6_2_2</th>\n",
       "      <th>A4_5</th>\n",
       "      <th>A5_5</th>\n",
       "      <th>A6_5</th>\n",
       "    </tr>\n",
       "  </thead>\n",
       "  <tbody>\n",
       "    <tr>\n",
       "      <th>0</th>\n",
       "      <td>20120712210FAAE99B43</td>\n",
       "      <td>http://mw.cjmall.com/cjupload/cjmall/planshop/...</td>\n",
       "      <td>cjmall.com/</td>\n",
       "      <td>2014-06-01 14:07:26</td>\n",
       "      <td>비즈니스/쇼핑</td>\n",
       "      <td>종합쇼핑몰</td>\n",
       "      <td>홈쇼핑</td>\n",
       "      <td>0</td>\n",
       "      <td>0</td>\n",
       "      <td>00:00:00</td>\n",
       "      <td>...</td>\n",
       "      <td>0</td>\n",
       "      <td>1.0</td>\n",
       "      <td>2.0</td>\n",
       "      <td>3.0</td>\n",
       "      <td>2.0</td>\n",
       "      <td>4.0</td>\n",
       "      <td>1.0</td>\n",
       "      <td>5.0</td>\n",
       "      <td>2.0</td>\n",
       "      <td>1.0</td>\n",
       "    </tr>\n",
       "    <tr>\n",
       "      <th>1</th>\n",
       "      <td>20120712210FAAE99B43</td>\n",
       "      <td>http://page.uplus.co.kr/index.html?v=MjAxMzEwM...</td>\n",
       "      <td>uplus.co.kr/</td>\n",
       "      <td>2014-06-01 14:25:31</td>\n",
       "      <td>비즈니스/쇼핑</td>\n",
       "      <td>통신/네트워크</td>\n",
       "      <td>무선/이동통신</td>\n",
       "      <td>0</td>\n",
       "      <td>1</td>\n",
       "      <td>00:06:53</td>\n",
       "      <td>...</td>\n",
       "      <td>0</td>\n",
       "      <td>1.0</td>\n",
       "      <td>2.0</td>\n",
       "      <td>3.0</td>\n",
       "      <td>2.0</td>\n",
       "      <td>4.0</td>\n",
       "      <td>1.0</td>\n",
       "      <td>5.0</td>\n",
       "      <td>2.0</td>\n",
       "      <td>1.0</td>\n",
       "    </tr>\n",
       "    <tr>\n",
       "      <th>2</th>\n",
       "      <td>20120712210FAAE99B43</td>\n",
       "      <td>http://page.uplus.co.kr/</td>\n",
       "      <td>uplus.co.kr/</td>\n",
       "      <td>2014-06-01 14:25:34</td>\n",
       "      <td>비즈니스/쇼핑</td>\n",
       "      <td>통신/네트워크</td>\n",
       "      <td>무선/이동통신</td>\n",
       "      <td>0</td>\n",
       "      <td>1</td>\n",
       "      <td>00:06:53</td>\n",
       "      <td>...</td>\n",
       "      <td>0</td>\n",
       "      <td>1.0</td>\n",
       "      <td>2.0</td>\n",
       "      <td>3.0</td>\n",
       "      <td>2.0</td>\n",
       "      <td>4.0</td>\n",
       "      <td>1.0</td>\n",
       "      <td>5.0</td>\n",
       "      <td>2.0</td>\n",
       "      <td>1.0</td>\n",
       "    </tr>\n",
       "    <tr>\n",
       "      <th>3</th>\n",
       "      <td>20120712210FAAE99B43</td>\n",
       "      <td>http://page.uplus.co.kr/index.html?v=MjAxMzEwM...</td>\n",
       "      <td>uplus.co.kr/</td>\n",
       "      <td>2014-06-01 14:25:40</td>\n",
       "      <td>비즈니스/쇼핑</td>\n",
       "      <td>통신/네트워크</td>\n",
       "      <td>무선/이동통신</td>\n",
       "      <td>0</td>\n",
       "      <td>1</td>\n",
       "      <td>00:06:53</td>\n",
       "      <td>...</td>\n",
       "      <td>0</td>\n",
       "      <td>1.0</td>\n",
       "      <td>2.0</td>\n",
       "      <td>3.0</td>\n",
       "      <td>2.0</td>\n",
       "      <td>4.0</td>\n",
       "      <td>1.0</td>\n",
       "      <td>5.0</td>\n",
       "      <td>2.0</td>\n",
       "      <td>1.0</td>\n",
       "    </tr>\n",
       "    <tr>\n",
       "      <th>4</th>\n",
       "      <td>20120712210FAAE99B43</td>\n",
       "      <td>http://m.naver.com/</td>\n",
       "      <td>naver.com/</td>\n",
       "      <td>2014-06-01 14:25:46</td>\n",
       "      <td>컴퓨터/인터넷</td>\n",
       "      <td>인터넷</td>\n",
       "      <td>네이버</td>\n",
       "      <td>0</td>\n",
       "      <td>1</td>\n",
       "      <td>00:06:53</td>\n",
       "      <td>...</td>\n",
       "      <td>0</td>\n",
       "      <td>1.0</td>\n",
       "      <td>2.0</td>\n",
       "      <td>3.0</td>\n",
       "      <td>2.0</td>\n",
       "      <td>4.0</td>\n",
       "      <td>1.0</td>\n",
       "      <td>5.0</td>\n",
       "      <td>2.0</td>\n",
       "      <td>1.0</td>\n",
       "    </tr>\n",
       "  </tbody>\n",
       "</table>\n",
       "<p>5 rows × 21 columns</p>\n",
       "</div>"
      ],
      "text/plain": [
       "                    UID                                                URL  \\\n",
       "0  20120712210FAAE99B43  http://mw.cjmall.com/cjupload/cjmall/planshop/...   \n",
       "1  20120712210FAAE99B43  http://page.uplus.co.kr/index.html?v=MjAxMzEwM...   \n",
       "2  20120712210FAAE99B43                           http://page.uplus.co.kr/   \n",
       "3  20120712210FAAE99B43  http://page.uplus.co.kr/index.html?v=MjAxMzEwM...   \n",
       "4  20120712210FAAE99B43                                http://m.naver.com/   \n",
       "\n",
       "       Domain_x              Time_x category_1 category_2 ownership_2  PC  \\\n",
       "0   cjmall.com/ 2014-06-01 14:07:26    비즈니스/쇼핑      종합쇼핑몰         홈쇼핑   0   \n",
       "1  uplus.co.kr/ 2014-06-01 14:25:31    비즈니스/쇼핑    통신/네트워크     무선/이동통신   0   \n",
       "2  uplus.co.kr/ 2014-06-01 14:25:34    비즈니스/쇼핑    통신/네트워크     무선/이동통신   0   \n",
       "3  uplus.co.kr/ 2014-06-01 14:25:40    비즈니스/쇼핑    통신/네트워크     무선/이동통신   0   \n",
       "4    naver.com/ 2014-06-01 14:25:46    컴퓨터/인터넷        인터넷         네이버   0   \n",
       "\n",
       "   session_id   Time_y  ...  쇼핑사이트  A4_2_1  A4_2_2  A5_2_1  A5_2_2  A6_2_1  \\\n",
       "0           0 00:00:00  ...      0     1.0     2.0     3.0     2.0     4.0   \n",
       "1           1 00:06:53  ...      0     1.0     2.0     3.0     2.0     4.0   \n",
       "2           1 00:06:53  ...      0     1.0     2.0     3.0     2.0     4.0   \n",
       "3           1 00:06:53  ...      0     1.0     2.0     3.0     2.0     4.0   \n",
       "4           1 00:06:53  ...      0     1.0     2.0     3.0     2.0     4.0   \n",
       "\n",
       "   A6_2_2  A4_5  A5_5  A6_5  \n",
       "0     1.0   5.0   2.0   1.0  \n",
       "1     1.0   5.0   2.0   1.0  \n",
       "2     1.0   5.0   2.0   1.0  \n",
       "3     1.0   5.0   2.0   1.0  \n",
       "4     1.0   5.0   2.0   1.0  \n",
       "\n",
       "[5 rows x 21 columns]"
      ]
     },
     "execution_count": 50,
     "metadata": {},
     "output_type": "execute_result"
    }
   ],
   "source": [
    "data.head()"
   ]
  },
  {
   "cell_type": "code",
   "execution_count": 51,
   "metadata": {},
   "outputs": [],
   "source": [
    "data.drop(['URL',  'category_2'], axis = 1, inplace = True)"
   ]
  },
  {
   "cell_type": "code",
   "execution_count": 52,
   "metadata": {},
   "outputs": [
    {
     "name": "stderr",
     "output_type": "stream",
     "text": [
      "/usr/lib/python3/dist-packages/ipykernel_launcher.py:1: FutureWarning: Passing integers to fillna is deprecated, will raise a TypeError in a future version.  To retain the old behavior, pass pd.Timedelta(seconds=n) instead.\n",
      "  \"\"\"Entry point for launching an IPython kernel.\n"
     ]
    }
   ],
   "source": [
    "data = data.fillna(0)"
   ]
  },
  {
   "cell_type": "code",
   "execution_count": 53,
   "metadata": {},
   "outputs": [],
   "source": [
    "data['category_1'] = data['category_1'].apply(lambda x:'기타' if x == 0 else x)"
   ]
  },
  {
   "cell_type": "code",
   "execution_count": 54,
   "metadata": {},
   "outputs": [],
   "source": [
    "#category_1 label encoding\n",
    "encoder = LabelEncoder()\n",
    "data['category_1'] = encoder.fit_transform(data['category_1'])"
   ]
  },
  {
   "cell_type": "code",
   "execution_count": 55,
   "metadata": {},
   "outputs": [
    {
     "name": "stdout",
     "output_type": "stream",
     "text": [
      "['게임' '경제/재테크' '교육/학교' '기타' '뉴스/미디어' '문화/예술' '비즈니스/쇼핑' '생활/건강' '스포츠/레저'\n",
      " '여행/세계정보' '연예/오락' '인물' '정치/사회' '종교' '컴퓨터/인터넷' '학문/사전']\n"
     ]
    }
   ],
   "source": [
    "print(encoder.classes_)"
   ]
  },
  {
   "cell_type": "markdown",
   "metadata": {},
   "source": [
    "## 가전제품 구입자 분류(0: 미구입, 1:6월 중순 구입, 2: 6월 하순 구입)"
   ]
  },
  {
   "cell_type": "code",
   "execution_count": 56,
   "metadata": {},
   "outputs": [
    {
     "data": {
      "text/plain": [
       "(34217873, 19)"
      ]
     },
     "execution_count": 56,
     "metadata": {},
     "output_type": "execute_result"
    }
   ],
   "source": [
    "data.shape"
   ]
  },
  {
   "cell_type": "code",
   "execution_count": 57,
   "metadata": {},
   "outputs": [
    {
     "data": {
      "text/plain": [
       "UID            0\n",
       "Domain_x       0\n",
       "Time_x         0\n",
       "category_1     0\n",
       "ownership_2    0\n",
       "PC             0\n",
       "session_id     0\n",
       "Time_y         0\n",
       "Domain_y       0\n",
       "쇼핑사이트          0\n",
       "A4_2_1         0\n",
       "A4_2_2         0\n",
       "A5_2_1         0\n",
       "A5_2_2         0\n",
       "A6_2_1         0\n",
       "A6_2_2         0\n",
       "A4_5           0\n",
       "A5_5           0\n",
       "A6_5           0\n",
       "dtype: int64"
      ]
     },
     "execution_count": 57,
     "metadata": {},
     "output_type": "execute_result"
    }
   ],
   "source": [
    "data.isna().sum()"
   ]
  },
  {
   "cell_type": "code",
   "execution_count": 58,
   "metadata": {},
   "outputs": [],
   "source": [
    "data['가전제품구매'] = 0 "
   ]
  },
  {
   "cell_type": "code",
   "execution_count": 59,
   "metadata": {},
   "outputs": [],
   "source": [
    "#6월 초순 구입자\n",
    "data.loc[((data.A4_2_1==3) & (data.A4_2_2==1)), '가전제품구매'] = 1\n",
    "\n",
    "#6월 중순 구입자\n",
    "data.loc[((data.A4_2_1==3) & (data.A4_2_2==2)), '가전제품구매'] = 2\n",
    "\n",
    "#6월 하순 구입자\n",
    "data.loc[((data.A4_2_1==3) & (data.A4_2_2==3)), '가전제품구매'] = 3"
   ]
  },
  {
   "cell_type": "code",
   "execution_count": 60,
   "metadata": {},
   "outputs": [],
   "source": [
    "data.rename(columns ={'Domain_y': '세션당_방문사이트수'}, inplace= True)"
   ]
  },
  {
   "cell_type": "code",
   "execution_count": 61,
   "metadata": {},
   "outputs": [],
   "source": [
    "data.drop(['Domain_x', 'ownership_2'], axis =1, inplace = True)"
   ]
  },
  {
   "cell_type": "markdown",
   "metadata": {},
   "source": [
    "## 패션, 화장품 구입자들"
   ]
  },
  {
   "cell_type": "code",
   "execution_count": 62,
   "metadata": {},
   "outputs": [],
   "source": [
    "data['패션구매'] = 0\n",
    "data['화장품구매'] = 0"
   ]
  },
  {
   "cell_type": "code",
   "execution_count": 63,
   "metadata": {},
   "outputs": [],
   "source": [
    "#6월 초순 구입자\n",
    "data.loc[((data.A5_2_1==3) & (data.A5_2_2==2)), '패션구매'] = 1\n",
    "\n",
    "#6월 중순 구입자\n",
    "data.loc[((data.A5_2_1==3) & (data.A5_2_2==2)), '패션구매'] = 2\n",
    "\n",
    "#6월 하순 구입자\n",
    "data.loc[((data.A5_2_1==3) & (data.A5_2_2==3)), '패션구매'] = 3\n",
    "\n",
    "#6월 초순 구입자\n",
    "data.loc[((data.A6_2_1==3) & (data.A6_2_2==2)), '화장품구매'] = 1\n",
    "\n",
    "#6월 중순 구입자\n",
    "data.loc[((data.A6_2_1==3) & (data.A6_2_2==2)), '화장품구매'] = 2\n",
    "\n",
    "#6월 하순 구입자\n",
    "data.loc[((data.A6_2_1==3) & (data.A6_2_2==3)), '화장품구매'] = 3"
   ]
  },
  {
   "cell_type": "code",
   "execution_count": 64,
   "metadata": {},
   "outputs": [
    {
     "data": {
      "text/html": [
       "<div>\n",
       "<style scoped>\n",
       "    .dataframe tbody tr th:only-of-type {\n",
       "        vertical-align: middle;\n",
       "    }\n",
       "\n",
       "    .dataframe tbody tr th {\n",
       "        vertical-align: top;\n",
       "    }\n",
       "\n",
       "    .dataframe thead th {\n",
       "        text-align: right;\n",
       "    }\n",
       "</style>\n",
       "<table border=\"1\" class=\"dataframe\">\n",
       "  <thead>\n",
       "    <tr style=\"text-align: right;\">\n",
       "      <th></th>\n",
       "      <th>UID</th>\n",
       "      <th>Time_x</th>\n",
       "      <th>category_1</th>\n",
       "      <th>PC</th>\n",
       "      <th>session_id</th>\n",
       "      <th>Time_y</th>\n",
       "      <th>세션당_방문사이트수</th>\n",
       "      <th>쇼핑사이트</th>\n",
       "      <th>A4_2_1</th>\n",
       "      <th>A4_2_2</th>\n",
       "      <th>A5_2_1</th>\n",
       "      <th>A5_2_2</th>\n",
       "      <th>A6_2_1</th>\n",
       "      <th>A6_2_2</th>\n",
       "      <th>A4_5</th>\n",
       "      <th>A5_5</th>\n",
       "      <th>A6_5</th>\n",
       "      <th>가전제품구매</th>\n",
       "      <th>패션구매</th>\n",
       "      <th>화장품구매</th>\n",
       "    </tr>\n",
       "  </thead>\n",
       "  <tbody>\n",
       "    <tr>\n",
       "      <th>0</th>\n",
       "      <td>20120712210FAAE99B43</td>\n",
       "      <td>2014-06-01 14:07:26</td>\n",
       "      <td>6</td>\n",
       "      <td>0</td>\n",
       "      <td>0</td>\n",
       "      <td>00:00:00</td>\n",
       "      <td>1</td>\n",
       "      <td>0</td>\n",
       "      <td>1.0</td>\n",
       "      <td>2.0</td>\n",
       "      <td>3.0</td>\n",
       "      <td>2.0</td>\n",
       "      <td>4.0</td>\n",
       "      <td>1.0</td>\n",
       "      <td>5.0</td>\n",
       "      <td>2.0</td>\n",
       "      <td>1.0</td>\n",
       "      <td>0</td>\n",
       "      <td>2</td>\n",
       "      <td>0</td>\n",
       "    </tr>\n",
       "    <tr>\n",
       "      <th>1</th>\n",
       "      <td>20120712210FAAE99B43</td>\n",
       "      <td>2014-06-01 14:25:31</td>\n",
       "      <td>6</td>\n",
       "      <td>0</td>\n",
       "      <td>1</td>\n",
       "      <td>00:06:53</td>\n",
       "      <td>6</td>\n",
       "      <td>0</td>\n",
       "      <td>1.0</td>\n",
       "      <td>2.0</td>\n",
       "      <td>3.0</td>\n",
       "      <td>2.0</td>\n",
       "      <td>4.0</td>\n",
       "      <td>1.0</td>\n",
       "      <td>5.0</td>\n",
       "      <td>2.0</td>\n",
       "      <td>1.0</td>\n",
       "      <td>0</td>\n",
       "      <td>2</td>\n",
       "      <td>0</td>\n",
       "    </tr>\n",
       "    <tr>\n",
       "      <th>2</th>\n",
       "      <td>20120712210FAAE99B43</td>\n",
       "      <td>2014-06-01 14:25:34</td>\n",
       "      <td>6</td>\n",
       "      <td>0</td>\n",
       "      <td>1</td>\n",
       "      <td>00:06:53</td>\n",
       "      <td>6</td>\n",
       "      <td>0</td>\n",
       "      <td>1.0</td>\n",
       "      <td>2.0</td>\n",
       "      <td>3.0</td>\n",
       "      <td>2.0</td>\n",
       "      <td>4.0</td>\n",
       "      <td>1.0</td>\n",
       "      <td>5.0</td>\n",
       "      <td>2.0</td>\n",
       "      <td>1.0</td>\n",
       "      <td>0</td>\n",
       "      <td>2</td>\n",
       "      <td>0</td>\n",
       "    </tr>\n",
       "    <tr>\n",
       "      <th>3</th>\n",
       "      <td>20120712210FAAE99B43</td>\n",
       "      <td>2014-06-01 14:25:40</td>\n",
       "      <td>6</td>\n",
       "      <td>0</td>\n",
       "      <td>1</td>\n",
       "      <td>00:06:53</td>\n",
       "      <td>6</td>\n",
       "      <td>0</td>\n",
       "      <td>1.0</td>\n",
       "      <td>2.0</td>\n",
       "      <td>3.0</td>\n",
       "      <td>2.0</td>\n",
       "      <td>4.0</td>\n",
       "      <td>1.0</td>\n",
       "      <td>5.0</td>\n",
       "      <td>2.0</td>\n",
       "      <td>1.0</td>\n",
       "      <td>0</td>\n",
       "      <td>2</td>\n",
       "      <td>0</td>\n",
       "    </tr>\n",
       "    <tr>\n",
       "      <th>4</th>\n",
       "      <td>20120712210FAAE99B43</td>\n",
       "      <td>2014-06-01 14:25:46</td>\n",
       "      <td>14</td>\n",
       "      <td>0</td>\n",
       "      <td>1</td>\n",
       "      <td>00:06:53</td>\n",
       "      <td>6</td>\n",
       "      <td>0</td>\n",
       "      <td>1.0</td>\n",
       "      <td>2.0</td>\n",
       "      <td>3.0</td>\n",
       "      <td>2.0</td>\n",
       "      <td>4.0</td>\n",
       "      <td>1.0</td>\n",
       "      <td>5.0</td>\n",
       "      <td>2.0</td>\n",
       "      <td>1.0</td>\n",
       "      <td>0</td>\n",
       "      <td>2</td>\n",
       "      <td>0</td>\n",
       "    </tr>\n",
       "  </tbody>\n",
       "</table>\n",
       "</div>"
      ],
      "text/plain": [
       "                    UID              Time_x  category_1  PC  session_id  \\\n",
       "0  20120712210FAAE99B43 2014-06-01 14:07:26           6   0           0   \n",
       "1  20120712210FAAE99B43 2014-06-01 14:25:31           6   0           1   \n",
       "2  20120712210FAAE99B43 2014-06-01 14:25:34           6   0           1   \n",
       "3  20120712210FAAE99B43 2014-06-01 14:25:40           6   0           1   \n",
       "4  20120712210FAAE99B43 2014-06-01 14:25:46          14   0           1   \n",
       "\n",
       "    Time_y  세션당_방문사이트수  쇼핑사이트  A4_2_1  A4_2_2  A5_2_1  A5_2_2  A6_2_1  A6_2_2  \\\n",
       "0 00:00:00           1      0     1.0     2.0     3.0     2.0     4.0     1.0   \n",
       "1 00:06:53           6      0     1.0     2.0     3.0     2.0     4.0     1.0   \n",
       "2 00:06:53           6      0     1.0     2.0     3.0     2.0     4.0     1.0   \n",
       "3 00:06:53           6      0     1.0     2.0     3.0     2.0     4.0     1.0   \n",
       "4 00:06:53           6      0     1.0     2.0     3.0     2.0     4.0     1.0   \n",
       "\n",
       "   A4_5  A5_5  A6_5  가전제품구매  패션구매  화장품구매  \n",
       "0   5.0   2.0   1.0       0     2      0  \n",
       "1   5.0   2.0   1.0       0     2      0  \n",
       "2   5.0   2.0   1.0       0     2      0  \n",
       "3   5.0   2.0   1.0       0     2      0  \n",
       "4   5.0   2.0   1.0       0     2      0  "
      ]
     },
     "execution_count": 64,
     "metadata": {},
     "output_type": "execute_result"
    }
   ],
   "source": [
    "data.head()"
   ]
  },
  {
   "cell_type": "code",
   "execution_count": 65,
   "metadata": {},
   "outputs": [],
   "source": [
    "data['Time_y'] = data['Time_y'].dt.total_seconds()"
   ]
  },
  {
   "cell_type": "code",
   "execution_count": 66,
   "metadata": {},
   "outputs": [
    {
     "data": {
      "text/html": [
       "<div>\n",
       "<style scoped>\n",
       "    .dataframe tbody tr th:only-of-type {\n",
       "        vertical-align: middle;\n",
       "    }\n",
       "\n",
       "    .dataframe tbody tr th {\n",
       "        vertical-align: top;\n",
       "    }\n",
       "\n",
       "    .dataframe thead th {\n",
       "        text-align: right;\n",
       "    }\n",
       "</style>\n",
       "<table border=\"1\" class=\"dataframe\">\n",
       "  <thead>\n",
       "    <tr style=\"text-align: right;\">\n",
       "      <th></th>\n",
       "      <th>UID</th>\n",
       "      <th>Time_x</th>\n",
       "      <th>category_1</th>\n",
       "      <th>PC</th>\n",
       "      <th>session_id</th>\n",
       "      <th>Time_y</th>\n",
       "      <th>세션당_방문사이트수</th>\n",
       "      <th>쇼핑사이트</th>\n",
       "      <th>A4_2_1</th>\n",
       "      <th>A4_2_2</th>\n",
       "      <th>A5_2_1</th>\n",
       "      <th>A5_2_2</th>\n",
       "      <th>A6_2_1</th>\n",
       "      <th>A6_2_2</th>\n",
       "      <th>A4_5</th>\n",
       "      <th>A5_5</th>\n",
       "      <th>A6_5</th>\n",
       "      <th>가전제품구매</th>\n",
       "      <th>패션구매</th>\n",
       "      <th>화장품구매</th>\n",
       "    </tr>\n",
       "  </thead>\n",
       "  <tbody>\n",
       "    <tr>\n",
       "      <th>0</th>\n",
       "      <td>20120712210FAAE99B43</td>\n",
       "      <td>2014-06-01 14:07:26</td>\n",
       "      <td>6</td>\n",
       "      <td>0</td>\n",
       "      <td>0</td>\n",
       "      <td>0.0</td>\n",
       "      <td>1</td>\n",
       "      <td>0</td>\n",
       "      <td>1.0</td>\n",
       "      <td>2.0</td>\n",
       "      <td>3.0</td>\n",
       "      <td>2.0</td>\n",
       "      <td>4.0</td>\n",
       "      <td>1.0</td>\n",
       "      <td>5.0</td>\n",
       "      <td>2.0</td>\n",
       "      <td>1.0</td>\n",
       "      <td>0</td>\n",
       "      <td>2</td>\n",
       "      <td>0</td>\n",
       "    </tr>\n",
       "    <tr>\n",
       "      <th>1</th>\n",
       "      <td>20120712210FAAE99B43</td>\n",
       "      <td>2014-06-01 14:25:31</td>\n",
       "      <td>6</td>\n",
       "      <td>0</td>\n",
       "      <td>1</td>\n",
       "      <td>413.0</td>\n",
       "      <td>6</td>\n",
       "      <td>0</td>\n",
       "      <td>1.0</td>\n",
       "      <td>2.0</td>\n",
       "      <td>3.0</td>\n",
       "      <td>2.0</td>\n",
       "      <td>4.0</td>\n",
       "      <td>1.0</td>\n",
       "      <td>5.0</td>\n",
       "      <td>2.0</td>\n",
       "      <td>1.0</td>\n",
       "      <td>0</td>\n",
       "      <td>2</td>\n",
       "      <td>0</td>\n",
       "    </tr>\n",
       "    <tr>\n",
       "      <th>2</th>\n",
       "      <td>20120712210FAAE99B43</td>\n",
       "      <td>2014-06-01 14:25:34</td>\n",
       "      <td>6</td>\n",
       "      <td>0</td>\n",
       "      <td>1</td>\n",
       "      <td>413.0</td>\n",
       "      <td>6</td>\n",
       "      <td>0</td>\n",
       "      <td>1.0</td>\n",
       "      <td>2.0</td>\n",
       "      <td>3.0</td>\n",
       "      <td>2.0</td>\n",
       "      <td>4.0</td>\n",
       "      <td>1.0</td>\n",
       "      <td>5.0</td>\n",
       "      <td>2.0</td>\n",
       "      <td>1.0</td>\n",
       "      <td>0</td>\n",
       "      <td>2</td>\n",
       "      <td>0</td>\n",
       "    </tr>\n",
       "    <tr>\n",
       "      <th>3</th>\n",
       "      <td>20120712210FAAE99B43</td>\n",
       "      <td>2014-06-01 14:25:40</td>\n",
       "      <td>6</td>\n",
       "      <td>0</td>\n",
       "      <td>1</td>\n",
       "      <td>413.0</td>\n",
       "      <td>6</td>\n",
       "      <td>0</td>\n",
       "      <td>1.0</td>\n",
       "      <td>2.0</td>\n",
       "      <td>3.0</td>\n",
       "      <td>2.0</td>\n",
       "      <td>4.0</td>\n",
       "      <td>1.0</td>\n",
       "      <td>5.0</td>\n",
       "      <td>2.0</td>\n",
       "      <td>1.0</td>\n",
       "      <td>0</td>\n",
       "      <td>2</td>\n",
       "      <td>0</td>\n",
       "    </tr>\n",
       "    <tr>\n",
       "      <th>4</th>\n",
       "      <td>20120712210FAAE99B43</td>\n",
       "      <td>2014-06-01 14:25:46</td>\n",
       "      <td>14</td>\n",
       "      <td>0</td>\n",
       "      <td>1</td>\n",
       "      <td>413.0</td>\n",
       "      <td>6</td>\n",
       "      <td>0</td>\n",
       "      <td>1.0</td>\n",
       "      <td>2.0</td>\n",
       "      <td>3.0</td>\n",
       "      <td>2.0</td>\n",
       "      <td>4.0</td>\n",
       "      <td>1.0</td>\n",
       "      <td>5.0</td>\n",
       "      <td>2.0</td>\n",
       "      <td>1.0</td>\n",
       "      <td>0</td>\n",
       "      <td>2</td>\n",
       "      <td>0</td>\n",
       "    </tr>\n",
       "  </tbody>\n",
       "</table>\n",
       "</div>"
      ],
      "text/plain": [
       "                    UID              Time_x  category_1  PC  session_id  \\\n",
       "0  20120712210FAAE99B43 2014-06-01 14:07:26           6   0           0   \n",
       "1  20120712210FAAE99B43 2014-06-01 14:25:31           6   0           1   \n",
       "2  20120712210FAAE99B43 2014-06-01 14:25:34           6   0           1   \n",
       "3  20120712210FAAE99B43 2014-06-01 14:25:40           6   0           1   \n",
       "4  20120712210FAAE99B43 2014-06-01 14:25:46          14   0           1   \n",
       "\n",
       "   Time_y  세션당_방문사이트수  쇼핑사이트  A4_2_1  A4_2_2  A5_2_1  A5_2_2  A6_2_1  A6_2_2  \\\n",
       "0     0.0           1      0     1.0     2.0     3.0     2.0     4.0     1.0   \n",
       "1   413.0           6      0     1.0     2.0     3.0     2.0     4.0     1.0   \n",
       "2   413.0           6      0     1.0     2.0     3.0     2.0     4.0     1.0   \n",
       "3   413.0           6      0     1.0     2.0     3.0     2.0     4.0     1.0   \n",
       "4   413.0           6      0     1.0     2.0     3.0     2.0     4.0     1.0   \n",
       "\n",
       "   A4_5  A5_5  A6_5  가전제품구매  패션구매  화장품구매  \n",
       "0   5.0   2.0   1.0       0     2      0  \n",
       "1   5.0   2.0   1.0       0     2      0  \n",
       "2   5.0   2.0   1.0       0     2      0  \n",
       "3   5.0   2.0   1.0       0     2      0  \n",
       "4   5.0   2.0   1.0       0     2      0  "
      ]
     },
     "execution_count": 66,
     "metadata": {},
     "output_type": "execute_result"
    }
   ],
   "source": [
    "data.head()"
   ]
  },
  {
   "cell_type": "code",
   "execution_count": 69,
   "metadata": {},
   "outputs": [],
   "source": [
    "data_초순 = data[data['Time_x']<= '2014-06-10']\n",
    "data_중순 = data[(data['Time_x']<= '2014-06-20') & (data['Time_x'] > '2014-06-10')]\n",
    "data_하순 = data[(data['Time_x']<= '2014-06-30') & (data['Time_x'] > '2014-06-20')]"
   ]
  },
  {
   "cell_type": "code",
   "execution_count": 104,
   "metadata": {},
   "outputs": [
    {
     "data": {
      "text/plain": [
       "0           0\n",
       "1           0\n",
       "2           0\n",
       "3           0\n",
       "4           0\n",
       "           ..\n",
       "34202827    0\n",
       "34202828    0\n",
       "34202829    0\n",
       "34202830    0\n",
       "34202831    0\n",
       "Name: 가전제품구매, Length: 11969188, dtype: int64"
      ]
     },
     "execution_count": 104,
     "metadata": {},
     "output_type": "execute_result"
    }
   ],
   "source": [
    "data_초순['가전제품구매'].apply(lambda x:1 if x == 1 else 0)"
   ]
  },
  {
   "cell_type": "code",
   "execution_count": 105,
   "metadata": {},
   "outputs": [
    {
     "name": "stderr",
     "output_type": "stream",
     "text": [
      "/usr/lib/python3/dist-packages/ipykernel_launcher.py:3: SettingWithCopyWarning: \n",
      "A value is trying to be set on a copy of a slice from a DataFrame.\n",
      "Try using .loc[row_indexer,col_indexer] = value instead\n",
      "\n",
      "See the caveats in the documentation: http://pandas.pydata.org/pandas-docs/stable/user_guide/indexing.html#returning-a-view-versus-a-copy\n",
      "  This is separate from the ipykernel package so we can avoid doing imports until\n",
      "/usr/lib/python3/dist-packages/ipykernel_launcher.py:5: SettingWithCopyWarning: \n",
      "A value is trying to be set on a copy of a slice from a DataFrame.\n",
      "Try using .loc[row_indexer,col_indexer] = value instead\n",
      "\n",
      "See the caveats in the documentation: http://pandas.pydata.org/pandas-docs/stable/user_guide/indexing.html#returning-a-view-versus-a-copy\n",
      "  \"\"\"\n",
      "/usr/lib/python3/dist-packages/ipykernel_launcher.py:7: SettingWithCopyWarning: \n",
      "A value is trying to be set on a copy of a slice from a DataFrame.\n",
      "Try using .loc[row_indexer,col_indexer] = value instead\n",
      "\n",
      "See the caveats in the documentation: http://pandas.pydata.org/pandas-docs/stable/user_guide/indexing.html#returning-a-view-versus-a-copy\n",
      "  import sys\n"
     ]
    }
   ],
   "source": [
    "구매_list = ['가전제품구매', '패션구매', '화장품구매']\n",
    "for i in 구매_list:\n",
    "    data_초순[i] = data_초순[i].apply(lambda x:1 if x== 1 else 0)\n",
    "for i in 구매_list:\n",
    "    data_중순[i] = data_중순[i].apply(lambda x:1 if x== 2 else 0)\n",
    "for i in 구매_list:\n",
    "    data_하순[i] = data_하순[i].apply(lambda x:1 if x== 3 else 0)"
   ]
  },
  {
   "cell_type": "code",
   "execution_count": 106,
   "metadata": {},
   "outputs": [
    {
     "name": "stdout",
     "output_type": "stream",
     "text": [
      "(34217873, 20)\n",
      "(11969188, 20)\n"
     ]
    }
   ],
   "source": [
    "print(data.shape)\n",
    "print(data_초순.shape)"
   ]
  },
  {
   "cell_type": "markdown",
   "metadata": {},
   "source": [
    "### RNN을 위한 전처리"
   ]
  },
  {
   "cell_type": "code",
   "execution_count": 107,
   "metadata": {},
   "outputs": [],
   "source": [
    "def make_XY(df, category):\n",
    "    df = df.set_index('UID')\n",
    "    X = df[['category_1','세션당_방문사이트수', 'Time_y', '쇼핑사이트']]\n",
    "    Y = df[[category + '구매']]\n",
    "    X = X.reset_index()\n",
    "    X = pd.concat([X,pd.get_dummies(X['category_1'])], axis = 1)\n",
    "    Y = Y.groupby(Y.index).first()\n",
    "    new_Y = Y[category + '구매']\n",
    "    return X,new_Y"
   ]
  },
  {
   "cell_type": "code",
   "execution_count": 108,
   "metadata": {},
   "outputs": [],
   "source": [
    "X_초순_가전제품,Y_초순_가전제품 = make_XY(data_초순,'가전제품')\n",
    "X_중순_가전제품,Y_중순_가전제품 = make_XY(data_중순,'가전제품')\n",
    "X_하순_가전제품,Y_하순_가전제품 = make_XY(data_하순,'가전제품')\n",
    "\n",
    "X_초순_패션,Y_초순_패션 = make_XY(data_초순,'패션')\n",
    "X_중순_패션,Y_중순_패션 = make_XY(data_중순,'패션')\n",
    "X_하순_패션,Y_하순_패션 = make_XY(data_하순,'패션')\n",
    "\n",
    "X_초순_화장품,Y_초순_화장품 = make_XY(data_초순,'화장품')\n",
    "X_중순_화장품,Y_중순_화장품 = make_XY(data_중순,'화장품')\n",
    "X_하순_화장품,Y_하순_화장품 = make_XY(data_하순,'화장품')"
   ]
  },
  {
   "cell_type": "code",
   "execution_count": 109,
   "metadata": {
    "scrolled": true
   },
   "outputs": [
    {
     "data": {
      "text/html": [
       "<div>\n",
       "<style scoped>\n",
       "    .dataframe tbody tr th:only-of-type {\n",
       "        vertical-align: middle;\n",
       "    }\n",
       "\n",
       "    .dataframe tbody tr th {\n",
       "        vertical-align: top;\n",
       "    }\n",
       "\n",
       "    .dataframe thead th {\n",
       "        text-align: right;\n",
       "    }\n",
       "</style>\n",
       "<table border=\"1\" class=\"dataframe\">\n",
       "  <thead>\n",
       "    <tr style=\"text-align: right;\">\n",
       "      <th></th>\n",
       "      <th>UID</th>\n",
       "      <th>category_1</th>\n",
       "      <th>세션당_방문사이트수</th>\n",
       "      <th>Time_y</th>\n",
       "      <th>쇼핑사이트</th>\n",
       "      <th>0</th>\n",
       "      <th>1</th>\n",
       "      <th>2</th>\n",
       "      <th>3</th>\n",
       "      <th>4</th>\n",
       "      <th>...</th>\n",
       "      <th>6</th>\n",
       "      <th>7</th>\n",
       "      <th>8</th>\n",
       "      <th>9</th>\n",
       "      <th>10</th>\n",
       "      <th>11</th>\n",
       "      <th>12</th>\n",
       "      <th>13</th>\n",
       "      <th>14</th>\n",
       "      <th>15</th>\n",
       "    </tr>\n",
       "  </thead>\n",
       "  <tbody>\n",
       "    <tr>\n",
       "      <th>0</th>\n",
       "      <td>20120712210FAAE99B43</td>\n",
       "      <td>6</td>\n",
       "      <td>1</td>\n",
       "      <td>0.0</td>\n",
       "      <td>0</td>\n",
       "      <td>0</td>\n",
       "      <td>0</td>\n",
       "      <td>0</td>\n",
       "      <td>0</td>\n",
       "      <td>0</td>\n",
       "      <td>...</td>\n",
       "      <td>1</td>\n",
       "      <td>0</td>\n",
       "      <td>0</td>\n",
       "      <td>0</td>\n",
       "      <td>0</td>\n",
       "      <td>0</td>\n",
       "      <td>0</td>\n",
       "      <td>0</td>\n",
       "      <td>0</td>\n",
       "      <td>0</td>\n",
       "    </tr>\n",
       "    <tr>\n",
       "      <th>1</th>\n",
       "      <td>20120712210FAAE99B43</td>\n",
       "      <td>6</td>\n",
       "      <td>6</td>\n",
       "      <td>413.0</td>\n",
       "      <td>0</td>\n",
       "      <td>0</td>\n",
       "      <td>0</td>\n",
       "      <td>0</td>\n",
       "      <td>0</td>\n",
       "      <td>0</td>\n",
       "      <td>...</td>\n",
       "      <td>1</td>\n",
       "      <td>0</td>\n",
       "      <td>0</td>\n",
       "      <td>0</td>\n",
       "      <td>0</td>\n",
       "      <td>0</td>\n",
       "      <td>0</td>\n",
       "      <td>0</td>\n",
       "      <td>0</td>\n",
       "      <td>0</td>\n",
       "    </tr>\n",
       "    <tr>\n",
       "      <th>2</th>\n",
       "      <td>20120712210FAAE99B43</td>\n",
       "      <td>6</td>\n",
       "      <td>6</td>\n",
       "      <td>413.0</td>\n",
       "      <td>0</td>\n",
       "      <td>0</td>\n",
       "      <td>0</td>\n",
       "      <td>0</td>\n",
       "      <td>0</td>\n",
       "      <td>0</td>\n",
       "      <td>...</td>\n",
       "      <td>1</td>\n",
       "      <td>0</td>\n",
       "      <td>0</td>\n",
       "      <td>0</td>\n",
       "      <td>0</td>\n",
       "      <td>0</td>\n",
       "      <td>0</td>\n",
       "      <td>0</td>\n",
       "      <td>0</td>\n",
       "      <td>0</td>\n",
       "    </tr>\n",
       "    <tr>\n",
       "      <th>3</th>\n",
       "      <td>20120712210FAAE99B43</td>\n",
       "      <td>6</td>\n",
       "      <td>6</td>\n",
       "      <td>413.0</td>\n",
       "      <td>0</td>\n",
       "      <td>0</td>\n",
       "      <td>0</td>\n",
       "      <td>0</td>\n",
       "      <td>0</td>\n",
       "      <td>0</td>\n",
       "      <td>...</td>\n",
       "      <td>1</td>\n",
       "      <td>0</td>\n",
       "      <td>0</td>\n",
       "      <td>0</td>\n",
       "      <td>0</td>\n",
       "      <td>0</td>\n",
       "      <td>0</td>\n",
       "      <td>0</td>\n",
       "      <td>0</td>\n",
       "      <td>0</td>\n",
       "    </tr>\n",
       "    <tr>\n",
       "      <th>4</th>\n",
       "      <td>20120712210FAAE99B43</td>\n",
       "      <td>14</td>\n",
       "      <td>6</td>\n",
       "      <td>413.0</td>\n",
       "      <td>0</td>\n",
       "      <td>0</td>\n",
       "      <td>0</td>\n",
       "      <td>0</td>\n",
       "      <td>0</td>\n",
       "      <td>0</td>\n",
       "      <td>...</td>\n",
       "      <td>0</td>\n",
       "      <td>0</td>\n",
       "      <td>0</td>\n",
       "      <td>0</td>\n",
       "      <td>0</td>\n",
       "      <td>0</td>\n",
       "      <td>0</td>\n",
       "      <td>0</td>\n",
       "      <td>1</td>\n",
       "      <td>0</td>\n",
       "    </tr>\n",
       "  </tbody>\n",
       "</table>\n",
       "<p>5 rows × 21 columns</p>\n",
       "</div>"
      ],
      "text/plain": [
       "                    UID  category_1  세션당_방문사이트수  Time_y  쇼핑사이트  0  1  2  3  4  \\\n",
       "0  20120712210FAAE99B43           6           1     0.0      0  0  0  0  0  0   \n",
       "1  20120712210FAAE99B43           6           6   413.0      0  0  0  0  0  0   \n",
       "2  20120712210FAAE99B43           6           6   413.0      0  0  0  0  0  0   \n",
       "3  20120712210FAAE99B43           6           6   413.0      0  0  0  0  0  0   \n",
       "4  20120712210FAAE99B43          14           6   413.0      0  0  0  0  0  0   \n",
       "\n",
       "   ...  6  7  8  9  10  11  12  13  14  15  \n",
       "0  ...  1  0  0  0   0   0   0   0   0   0  \n",
       "1  ...  1  0  0  0   0   0   0   0   0   0  \n",
       "2  ...  1  0  0  0   0   0   0   0   0   0  \n",
       "3  ...  1  0  0  0   0   0   0   0   0   0  \n",
       "4  ...  0  0  0  0   0   0   0   0   1   0  \n",
       "\n",
       "[5 rows x 21 columns]"
      ]
     },
     "execution_count": 109,
     "metadata": {},
     "output_type": "execute_result"
    }
   ],
   "source": [
    "X_초순_패션.head()"
   ]
  },
  {
   "cell_type": "markdown",
   "metadata": {},
   "source": [
    "#### 3차원 array로 만드는 과정"
   ]
  },
  {
   "cell_type": "code",
   "execution_count": 110,
   "metadata": {},
   "outputs": [],
   "source": [
    "def make_3D_array(X):\n",
    "    new_X = []\n",
    "    for UID in tqdm_notebook(X['UID'].unique()):\n",
    "        temp = X[X['UID'] == UID]\n",
    "        new_X.append(temp.iloc[:,2:].values)\n",
    "    new_X = np.asarray(new_X)\n",
    "    return new_X"
   ]
  },
  {
   "cell_type": "code",
   "execution_count": 111,
   "metadata": {},
   "outputs": [
    {
     "data": {
      "application/vnd.jupyter.widget-view+json": {
       "model_id": "9ab7ec61b49d41748db0df293364b7df"
      }
     },
     "metadata": {},
     "output_type": "display_data"
    },
    {
     "data": {
      "application/vnd.jupyter.widget-view+json": {
       "model_id": "b2f5ad39b69f4b74a2ec79c817d9c8aa"
      }
     },
     "metadata": {},
     "output_type": "display_data"
    },
    {
     "data": {
      "application/vnd.jupyter.widget-view+json": {
       "model_id": "abb8cbcd6f2d4b25a50eef9835441e15"
      }
     },
     "metadata": {},
     "output_type": "display_data"
    }
   ],
   "source": [
    "new_X_초순_화장품 = make_3D_array(X_초순_화장품)\n",
    "new_X_중순_화장품 = make_3D_array(X_중순_화장품)\n",
    "new_X_하순_화장품 = make_3D_array(X_하순_화장품)"
   ]
  },
  {
   "cell_type": "code",
   "execution_count": 112,
   "metadata": {},
   "outputs": [
    {
     "data": {
      "application/vnd.jupyter.widget-view+json": {
       "model_id": "070e27be035f4f0e97c623c8d3cb72cf"
      }
     },
     "metadata": {},
     "output_type": "display_data"
    },
    {
     "data": {
      "application/vnd.jupyter.widget-view+json": {
       "model_id": "f5239c6557b8400487c43309000006e3"
      }
     },
     "metadata": {},
     "output_type": "display_data"
    },
    {
     "data": {
      "application/vnd.jupyter.widget-view+json": {
       "model_id": "85162dcbadb041fd9f196f2591c86fd4"
      }
     },
     "metadata": {},
     "output_type": "display_data"
    }
   ],
   "source": [
    "new_X_초순_패션 = make_3D_array(X_초순_패션)\n",
    "new_X_중순_패션 = make_3D_array(X_중순_패션)\n",
    "new_X_하순_패션 = make_3D_array(X_하순_패션)"
   ]
  },
  {
   "cell_type": "code",
   "execution_count": 113,
   "metadata": {},
   "outputs": [
    {
     "data": {
      "application/vnd.jupyter.widget-view+json": {
       "model_id": "6800f86f233d4f5fae64240858d1996d"
      }
     },
     "metadata": {},
     "output_type": "display_data"
    },
    {
     "data": {
      "application/vnd.jupyter.widget-view+json": {
       "model_id": "d1d4ba55225c4903ab835d4924565825"
      }
     },
     "metadata": {},
     "output_type": "display_data"
    },
    {
     "data": {
      "application/vnd.jupyter.widget-view+json": {
       "model_id": "ccd051eec3834225848e916b1568547a"
      }
     },
     "metadata": {},
     "output_type": "display_data"
    }
   ],
   "source": [
    "new_X_초순_가전제품 = make_3D_array(X_초순_가전제품)\n",
    "new_X_중순_가전제품 = make_3D_array(X_중순_가전제품)\n",
    "new_X_하순_가전제품 = make_3D_array(X_하순_가전제품)"
   ]
  },
  {
   "cell_type": "markdown",
   "metadata": {},
   "source": [
    "### 3d화 과정이 오래걸리니 csv파일로 저장"
   ]
  },
  {
   "cell_type": "code",
   "execution_count": 114,
   "metadata": {},
   "outputs": [],
   "source": [
    "pd.DataFrame(Y_초순_가전제품).to_csv('RecoSystem/data/Y_초순_가전제품.csv')\n",
    "pd.DataFrame(Y_초순_패션).to_csv('RecoSystem/data/Y_초순_패션.csv')\n",
    "pd.DataFrame(Y_초순_화장품).to_csv('RecoSystem/data/Y_초순_화장품.csv')\n",
    "\n",
    "pd.DataFrame(Y_중순_가전제품).to_csv('RecoSystem/data/Y_중순_가전제품.csv')\n",
    "pd.DataFrame(Y_중순_패션).to_csv('RecoSystem/data/Y_중순_패션.csv')\n",
    "pd.DataFrame(Y_중순_화장품).to_csv('RecoSystem/data/Y_중순_화장품.csv')\n",
    "\n",
    "pd.DataFrame(Y_하순_가전제품).to_csv('RecoSystem/data/Y_하순_가전제품.csv')\n",
    "pd.DataFrame(Y_하순_패션).to_csv('RecoSystem/data/Y_하순_패션.csv')\n",
    "pd.DataFrame(Y_하순_화장품).to_csv('RecoSystem/data/Y_하순_화장품.csv')"
   ]
  },
  {
   "cell_type": "markdown",
   "metadata": {},
   "source": [
    "### Oversampling"
   ]
  },
  {
   "cell_type": "code",
   "execution_count": 125,
   "metadata": {},
   "outputs": [
    {
     "data": {
      "text/plain": [
       "(1047, 5000, 19)"
      ]
     },
     "execution_count": 125,
     "metadata": {},
     "output_type": "execute_result"
    }
   ],
   "source": [
    "X_중순_패션_padded.shape"
   ]
  },
  {
   "cell_type": "code",
   "execution_count": 124,
   "metadata": {},
   "outputs": [
    {
     "data": {
      "text/plain": [
       "(1038, 5000, 19)"
      ]
     },
     "execution_count": 124,
     "metadata": {},
     "output_type": "execute_result"
    }
   ],
   "source": [
    "X_초순_화장품_padded.shape"
   ]
  },
  {
   "cell_type": "code",
   "execution_count": 119,
   "metadata": {},
   "outputs": [],
   "source": [
    "def make_padding_and_oversample(X, Y):\n",
    "    max_len = 5000\n",
    "    X_padding = sequence.pad_sequences(X, maxlen = max_len)\n",
    "    X_padding2 = X_padding.reshape(X.shape[0], max_len* X_padding.shape[2])\n",
    "    #smote = SMOTE(random_state=0)\n",
    "    #X_resampled, Y_resampled = smote.fit_resample(X_padding2, Y)\n",
    "    #X_resampled = X_resampled.reshape(X_resampled.shape[0], max_len, X_padding.shape[2])\n",
    "    return X_padding#, X_resampled, Y_resampled"
   ]
  },
  {
   "cell_type": "code",
   "execution_count": 121,
   "metadata": {},
   "outputs": [],
   "source": [
    "X_초순_가전제품_padded =make_padding_and_oversample(new_X_초순_가전제품, Y_초순_가전제품)\n",
    "X_초순_패션_padded =make_padding_and_oversample(new_X_초순_패션, Y_초순_패션)\n",
    "X_초순_화장품_padded =make_padding_and_oversample(new_X_초순_화장품, Y_초순_화장품)\n",
    "\n",
    "X_중순_가전제품_padded =make_padding_and_oversample(new_X_중순_가전제품, Y_중순_가전제품)\n",
    "X_중순_패션_padded =make_padding_and_oversample(new_X_중순_패션, Y_중순_패션)\n",
    "X_중순_화장품_padded =make_padding_and_oversample(new_X_중순_화장품, Y_중순_화장품)\n",
    "\n",
    "X_하순_가전제품_padded =make_padding_and_oversample(new_X_하순_가전제품, Y_하순_가전제품)\n",
    "X_하순_패션_padded =make_padding_and_oversample(new_X_하순_패션, Y_하순_패션)\n",
    "X_하순_화장품_padded =make_padding_and_oversample(new_X_하순_화장품, Y_하순_화장품)"
   ]
  },
  {
   "cell_type": "code",
   "execution_count": 127,
   "metadata": {},
   "outputs": [],
   "source": [
    "df1 = pd.DataFrame(X_초순_패션_padded.reshape(-1, 5000*19))\n",
    "df1.to_csv('RecoSystem/data/초순_패션_3d_array.csv', index=False)\n",
    "df2 = pd.DataFrame(X_초순_가전제품_padded.reshape(-1, 5000*19))\n",
    "df2.to_csv('RecoSystem/data/초순_가전제품_3d_array.csv', index=False)\n",
    "df3 = pd.DataFrame(X_초순_화장품_padded.reshape(-1, 5000*19))\n",
    "df3.to_csv('RecoSystem/data/초순_화장품_3d_array.csv', index=False)\n",
    "\n",
    "df1 = pd.DataFrame(X_중순_패션_padded.reshape(-1, 5000*19))\n",
    "df1.to_csv('RecoSystem/data/중순_패션_3d_array.csv', index=False)\n",
    "df2 = pd.DataFrame(X_중순_가전제품_padded.reshape(-1, 5000*19))\n",
    "df2.to_csv('RecoSystem/data/중순_가전제품_3d_array.csv', index=False)\n",
    "df3 = pd.DataFrame(X_중순_화장품_padded.reshape(-1, 5000*19))\n",
    "df3.to_csv('RecoSystem/data/중순_화장품_3d_array.csv', index=False)\n",
    "\n",
    "df1 = pd.DataFrame(X_하순_패션_padded.reshape(-1, 5000*19))\n",
    "df1.to_csv('RecoSystem/data/하순_패션_3d_array.csv', index=False)\n",
    "df2 = pd.DataFrame(X_하순_가전제품_padded.reshape(-1, 5000*19))\n",
    "df2.to_csv('RecoSystem/data/하순_가전제품_3d_array.csv', index=False)\n",
    "df3 = pd.DataFrame(X_하순_화장품_padded.reshape(-1, 5000*19))\n",
    "df3.to_csv('RecoSystem/data/하순_화장품_3d_array.csv', index=False)"
   ]
  },
  {
   "cell_type": "markdown",
   "metadata": {},
   "source": [
    "## 여기까지 전처리 과정"
   ]
  },
  {
   "cell_type": "markdown",
   "metadata": {},
   "source": []
  }
 ],
 "metadata": {
  "kernelspec": {
   "display_name": "Python 3",
   "language": "python",
   "name": "python3"
  },
  "language_info": {
   "codemirror_mode": {
    "name": "ipython",
    "version": 3
   },
   "file_extension": ".py",
   "mimetype": "text/x-python",
   "name": "python",
   "nbconvert_exporter": "python",
   "pygments_lexer": "ipython3",
   "version": "3.6.8"
  }
 },
 "nbformat": 4,
 "nbformat_minor": 2
}
