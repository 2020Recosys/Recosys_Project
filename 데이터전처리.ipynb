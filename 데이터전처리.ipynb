{
 "cells": [
  {
   "cell_type": "code",
   "execution_count": 1,
   "metadata": {},
   "outputs": [],
   "source": [
    "import pandas as pd\n",
    "import numpy as np\n",
    "import os\n",
    "from tqdm import tqdm_notebook"
   ]
  },
  {
   "cell_type": "markdown",
   "metadata": {},
   "source": [
    "## Data Sampling"
   ]
  },
  {
   "cell_type": "markdown",
   "metadata": {},
   "source": [
    "#### Mobile Log data"
   ]
  },
  {
   "cell_type": "code",
   "execution_count": 2,
   "metadata": {},
   "outputs": [],
   "source": [
    "# Mobile\n",
    "mobile = pd.read_csv(\"./data(다운로드금지)/PCMB공통수집패널로그_MB_201406.csv\", low_memory=False, header=None)"
   ]
  },
  {
   "cell_type": "code",
   "execution_count": 3,
   "metadata": {},
   "outputs": [],
   "source": [
    "mobile.columns = [\"UID\",\"Full_URL\",\"Site\",\"Domain\",\"Time\", \"Title\",\n",
    "              \"keyword_p\",\"keyword_t\",\n",
    "              \"category_1\",\"category_2\",\"category_3\",\"category_4\",\"category_5\",\"category_6\",\n",
    "              \"ownership_1\",\"ownership_2\"]"
   ]
  },
  {
   "cell_type": "code",
   "execution_count": 4,
   "metadata": {},
   "outputs": [],
   "source": [
    "mobile.UID = mobile.UID.map(lambda x: x.replace(\" \",\"\"))"
   ]
  },
  {
   "cell_type": "markdown",
   "metadata": {},
   "source": [
    "#### PC Log data"
   ]
  },
  {
   "cell_type": "code",
   "execution_count": 5,
   "metadata": {},
   "outputs": [],
   "source": [
    "# PC\n",
    "pc1 = pd.read_csv(\"/home/da/jupyter/김현준/PCMB공통수집패널로그_PC_20140601_10.csv\", header=None, low_memory=False)\n",
    "pc2 = pd.read_csv(\"/home/da/jupyter/김현준/PCMB공통수집패널로그_PC_20140611_20.csv\", header=None, low_memory=False)\n",
    "pc3 = pd.read_csv(\"/home/da/jupyter/김현준/PCMB공통수집패널로그_PC_20140621_30.csv\", header=None, low_memory=False)"
   ]
  },
  {
   "cell_type": "code",
   "execution_count": 6,
   "metadata": {},
   "outputs": [],
   "source": [
    "pc1.columns = [\"UID\",\"Full_URL\",\"Site\",\"Domain\",\"Time\", \"Title\",\n",
    "              \"keyword_p\",\"keyword_t\",\n",
    "              \"category_1\",\"category_2\",\"category_3\",\"category_4\",\"category_5\",\"category_6\",\n",
    "              \"ownership_1\",\"ownership_2\"]\n",
    "pc2.columns = [\"UID\",\"Full_URL\",\"Site\",\"Domain\",\"Time\", \"Title\",\n",
    "              \"keyword_p\",\"keyword_t\",\n",
    "              \"category_1\",\"category_2\",\"category_3\",\"category_4\",\"category_5\",\"category_6\",\n",
    "              \"ownership_1\",\"ownership_2\"]\n",
    "pc3.columns = [\"UID\",\"Full_URL\",\"Site\",\"Domain\",\"Time\", \"Title\",\n",
    "              \"keyword_p\",\"keyword_t\",\n",
    "              \"category_1\",\"category_2\",\"category_3\",\"category_4\",\"category_5\",\"category_6\",\n",
    "              \"ownership_1\",\"ownership_2\"]"
   ]
  },
  {
   "cell_type": "code",
   "execution_count": 7,
   "metadata": {},
   "outputs": [],
   "source": [
    "pc1.UID = pc1.UID.map(lambda x: x.replace(\" \",\"\"))\n",
    "pc2.UID = pc2.UID.map(lambda x: x.replace(\" \",\"\"))\n",
    "pc3.UID = pc3.UID.map(lambda x: x.replace(\" \",\"\"))"
   ]
  },
  {
   "cell_type": "code",
   "execution_count": 8,
   "metadata": {},
   "outputs": [],
   "source": [
    "pc = pd.concat([pc1, pc2, pc3], axis=0)"
   ]
  },
  {
   "cell_type": "markdown",
   "metadata": {},
   "source": [
    "#### Survey data"
   ]
  },
  {
   "cell_type": "code",
   "execution_count": 9,
   "metadata": {},
   "outputs": [
    {
     "name": "stdout",
     "output_type": "stream",
     "text": [
      "서베이의 총 UID 개수: 1066\n"
     ]
    }
   ],
   "source": [
    "# 패널 서베이\n",
    "survey = pd.read_excel(\"./data(다운로드금지)/140716_SSK 구매행태 조사 Raw Data_F.xlsx\")\n",
    "survey.UID = survey.UID.map(lambda x: x.replace(\" \",\"\"))\n",
    "print(\"서베이의 총 UID 개수:\", survey.UID.nunique())"
   ]
  },
  {
   "cell_type": "code",
   "execution_count": 10,
   "metadata": {},
   "outputs": [],
   "source": [
    "uid_list = survey.UID.unique().tolist()"
   ]
  },
  {
   "cell_type": "code",
   "execution_count": 12,
   "metadata": {},
   "outputs": [],
   "source": [
    "# Mobile/PC 여부 컬럼 추가\n",
    "# 1 = PC\n",
    "# 0 = Mobile\n",
    "mobile[\"PC\"] = 0\n",
    "pc[\"PC\"] = 1"
   ]
  },
  {
   "cell_type": "markdown",
   "metadata": {},
   "source": [
    "### Mobile/PC to one dataframe"
   ]
  },
  {
   "cell_type": "code",
   "execution_count": 13,
   "metadata": {},
   "outputs": [],
   "source": [
    "data = pd.concat([mobile, pc], axis=0)"
   ]
  },
  {
   "cell_type": "code",
   "execution_count": 14,
   "metadata": {},
   "outputs": [],
   "source": [
    "data.reset_index(drop=True, inplace=True)"
   ]
  },
  {
   "cell_type": "code",
   "execution_count": 16,
   "metadata": {},
   "outputs": [],
   "source": [
    "# Time 데이터 속성 변경\n",
    "data[\"Time\"] = pd.to_datetime(data[\"Time\"])"
   ]
  },
  {
   "cell_type": "code",
   "execution_count": 17,
   "metadata": {},
   "outputs": [],
   "source": [
    "# 안쓰는 컬럼 삭제\n",
    "data.drop([\"Site\",\"Title\", \"keyword_t\",\n",
    "           \"category_3\", \"category_4\", \"category_5\", \"category_6\"],\n",
    "           axis=1, inplace=True)"
   ]
  },
  {
   "cell_type": "code",
   "execution_count": 18,
   "metadata": {},
   "outputs": [
    {
     "name": "stdout",
     "output_type": "stream",
     "text": [
      "# of rows: 50999038\n"
     ]
    }
   ],
   "source": [
    "print(\"# of rows:\", len(data))"
   ]
  },
  {
   "cell_type": "code",
   "execution_count": 19,
   "metadata": {
    "scrolled": true
   },
   "outputs": [
    {
     "name": "stdout",
     "output_type": "stream",
     "text": [
      "# of unique UIDs: 2103\n"
     ]
    }
   ],
   "source": [
    "print(\"# of unique UIDs:\", data.UID.nunique())"
   ]
  },
  {
   "cell_type": "markdown",
   "metadata": {},
   "source": [
    "### 서베이에 참여한 패널들만 sample"
   ]
  },
  {
   "cell_type": "code",
   "execution_count": 20,
   "metadata": {},
   "outputs": [],
   "source": [
    "sample = data[data[\"UID\"].isin(uid_list)].copy()"
   ]
  },
  {
   "cell_type": "code",
   "execution_count": 21,
   "metadata": {},
   "outputs": [],
   "source": [
    "sample.reset_index(drop=True, inplace=True)"
   ]
  },
  {
   "cell_type": "code",
   "execution_count": 22,
   "metadata": {
    "scrolled": true
   },
   "outputs": [
    {
     "data": {
      "text/html": [
       "<div>\n",
       "<style scoped>\n",
       "    .dataframe tbody tr th:only-of-type {\n",
       "        vertical-align: middle;\n",
       "    }\n",
       "\n",
       "    .dataframe tbody tr th {\n",
       "        vertical-align: top;\n",
       "    }\n",
       "\n",
       "    .dataframe thead th {\n",
       "        text-align: right;\n",
       "    }\n",
       "</style>\n",
       "<table border=\"1\" class=\"dataframe\">\n",
       "  <thead>\n",
       "    <tr style=\"text-align: right;\">\n",
       "      <th></th>\n",
       "      <th>UID</th>\n",
       "      <th>Full_URL</th>\n",
       "      <th>Domain</th>\n",
       "      <th>Time</th>\n",
       "      <th>category_1</th>\n",
       "      <th>category_2</th>\n",
       "      <th>ownership_1</th>\n",
       "      <th>ownership_2</th>\n",
       "      <th>PC</th>\n",
       "    </tr>\n",
       "  </thead>\n",
       "  <tbody>\n",
       "    <tr>\n",
       "      <th>0</th>\n",
       "      <td>20130820A574A4005D61</td>\n",
       "      <td>http://www.koreapas.com/m/view.php?id=pashion&amp;...</td>\n",
       "      <td>koreapas.com/</td>\n",
       "      <td>2014-06-01 22:26:59</td>\n",
       "      <td>NaN</td>\n",
       "      <td>NaN</td>\n",
       "      <td>NaN</td>\n",
       "      <td>NaN</td>\n",
       "      <td>0</td>\n",
       "    </tr>\n",
       "    <tr>\n",
       "      <th>1</th>\n",
       "      <td>20130923D5653FF28FD9</td>\n",
       "      <td>http://www.swimdoctormall.co.kr/?mode=PC</td>\n",
       "      <td>swimdoctormall.co.kr/</td>\n",
       "      <td>2014-06-05 21:59:00</td>\n",
       "      <td>NaN</td>\n",
       "      <td>NaN</td>\n",
       "      <td>NaN</td>\n",
       "      <td>NaN</td>\n",
       "      <td>0</td>\n",
       "    </tr>\n",
       "    <tr>\n",
       "      <th>2</th>\n",
       "      <td>20130820A574A4005D61</td>\n",
       "      <td>http://www.koreapas.com/m/view.php?id=pashion&amp;...</td>\n",
       "      <td>koreapas.com/</td>\n",
       "      <td>2014-06-01 22:27:28</td>\n",
       "      <td>NaN</td>\n",
       "      <td>NaN</td>\n",
       "      <td>NaN</td>\n",
       "      <td>NaN</td>\n",
       "      <td>0</td>\n",
       "    </tr>\n",
       "    <tr>\n",
       "      <th>3</th>\n",
       "      <td>20130923D5653FF28FD9</td>\n",
       "      <td>http://www.swimdoctormall.co.kr/mall/index.php</td>\n",
       "      <td>swimdoctormall.co.kr/</td>\n",
       "      <td>2014-06-05 21:59:09</td>\n",
       "      <td>NaN</td>\n",
       "      <td>NaN</td>\n",
       "      <td>NaN</td>\n",
       "      <td>NaN</td>\n",
       "      <td>0</td>\n",
       "    </tr>\n",
       "    <tr>\n",
       "      <th>4</th>\n",
       "      <td>20130923D5653FF28FD9</td>\n",
       "      <td>http://www.swimdoctor.com/bbs/bbs_view.php?cod...</td>\n",
       "      <td>swimdoctor.com/</td>\n",
       "      <td>2014-06-06 02:40:15</td>\n",
       "      <td>NaN</td>\n",
       "      <td>NaN</td>\n",
       "      <td>NaN</td>\n",
       "      <td>NaN</td>\n",
       "      <td>0</td>\n",
       "    </tr>\n",
       "  </tbody>\n",
       "</table>\n",
       "</div>"
      ],
      "text/plain": [
       "                    UID                                           Full_URL  \\\n",
       "0  20130820A574A4005D61  http://www.koreapas.com/m/view.php?id=pashion&...   \n",
       "1  20130923D5653FF28FD9           http://www.swimdoctormall.co.kr/?mode=PC   \n",
       "2  20130820A574A4005D61  http://www.koreapas.com/m/view.php?id=pashion&...   \n",
       "3  20130923D5653FF28FD9     http://www.swimdoctormall.co.kr/mall/index.php   \n",
       "4  20130923D5653FF28FD9  http://www.swimdoctor.com/bbs/bbs_view.php?cod...   \n",
       "\n",
       "                  Domain                Time category_1 category_2  \\\n",
       "0          koreapas.com/ 2014-06-01 22:26:59        NaN        NaN   \n",
       "1  swimdoctormall.co.kr/ 2014-06-05 21:59:00        NaN        NaN   \n",
       "2          koreapas.com/ 2014-06-01 22:27:28        NaN        NaN   \n",
       "3  swimdoctormall.co.kr/ 2014-06-05 21:59:09        NaN        NaN   \n",
       "4        swimdoctor.com/ 2014-06-06 02:40:15        NaN        NaN   \n",
       "\n",
       "  ownership_1 ownership_2  PC  \n",
       "0         NaN         NaN   0  \n",
       "1         NaN         NaN   0  \n",
       "2         NaN         NaN   0  \n",
       "3         NaN         NaN   0  \n",
       "4         NaN         NaN   0  "
      ]
     },
     "execution_count": 22,
     "metadata": {},
     "output_type": "execute_result"
    }
   ],
   "source": [
    "sample.head()"
   ]
  },
  {
   "cell_type": "code",
   "execution_count": 23,
   "metadata": {},
   "outputs": [],
   "source": [
    "# 데이터프레임 저장\n",
    "sample.to_csv(\"./data(다운로드금지)/0222_PC&Mob_06.csv\", index=False)"
   ]
  },
  {
   "cell_type": "code",
   "execution_count": null,
   "metadata": {},
   "outputs": [],
   "source": [
    "# 저장한 데이터프레임 불러오기\n",
    "original = pd.read_csv(\"./data(다운로드금지)/0222_PC&Mob_06.csv\")"
   ]
  },
  {
   "cell_type": "code",
   "execution_count": 45,
   "metadata": {},
   "outputs": [],
   "source": [
    "original[\"Time\"] = pd.to_datetime(original[\"Time\"])"
   ]
  },
  {
   "cell_type": "code",
   "execution_count": 155,
   "metadata": {},
   "outputs": [],
   "source": [
    "data = original.copy()"
   ]
  },
  {
   "cell_type": "markdown",
   "metadata": {},
   "source": [
    "## Domain"
   ]
  },
  {
   "cell_type": "markdown",
   "metadata": {},
   "source": [
    "Ex: http://m.enews24.interest.me/news/article.asp?...   \n",
    "URL이 그대로 Domain에 들어온 경우가 있음 -> http://, https://, m., www. 으로 시작됨   \n",
    "위의 부분들을 잘라내고, slash 기준 앞쪽 url만 Domain으로 사용\n",
    "기존 Domain들에 있던 마지막 slash 삭제   \n",
    "To check, data2[data2[\"Domain\"].str.startswith(\"https://\")]   "
   ]
  },
  {
   "cell_type": "code",
   "execution_count": 156,
   "metadata": {},
   "outputs": [],
   "source": [
    "def prep_domain(domain):\n",
    "    \n",
    "    prep_domain = domain.replace(\"http://m.\",\"\")\n",
    "    prep_domain = prep_domain.replace(\"http://www.\",\"\")\n",
    "    prep_domain = prep_domain.replace(\"https://m.\",\"\")\n",
    "    prep_domain = prep_domain.replace(\"https://www.\",\"\")\n",
    "    prep_domain = prep_domain.replace(\"http://\",\"\")\n",
    "    prep_domain = prep_domain.replace(\"https://\",\"\")\n",
    "    prep_domain = prep_domain.split(\"/\")[0]\n",
    "    prep_domain = prep_domain.split(\":\")[0]\n",
    "    prep_domain = prep_domain.split(\"ref=\")[-1]\n",
    "    \n",
    "    return prep_domain"
   ]
  },
  {
   "cell_type": "code",
   "execution_count": 157,
   "metadata": {},
   "outputs": [],
   "source": [
    "data[\"Domain\"] = data[\"Domain\"].apply(lambda x: prep_domain(x))"
   ]
  },
  {
   "cell_type": "markdown",
   "metadata": {},
   "source": [
    "전처리 이후, Domain이 공백인 row를 찾으면 Full_URL이 http:/// 인 row가 4개 있음   \n",
    "4개 row 삭제"
   ]
  },
  {
   "cell_type": "code",
   "execution_count": 158,
   "metadata": {},
   "outputs": [],
   "source": [
    "data.drop(data[data[\"Domain\"]==\"\"].index, axis=0, inplace=True)"
   ]
  },
  {
   "cell_type": "markdown",
   "metadata": {},
   "source": [
    "## ownership_1, ownership_2"
   ]
  },
  {
   "cell_type": "markdown",
   "metadata": {},
   "source": [
    "### 결측행 최대한 채워넣기"
   ]
  },
  {
   "cell_type": "code",
   "execution_count": 164,
   "metadata": {},
   "outputs": [],
   "source": [
    "# zum.com\n",
    "# 47039 rows\n",
    "# Portal, 줌\n",
    "# print(data[data.Domain.str.startswith(\"zum.com\")])\n",
    "data[\"ownership_1\"] = np.where(data[\"Domain\"]==\"zum.com\", \"Portal\", data[\"ownership_1\"])\n",
    "data[\"ownership_2\"] = np.where(data[\"Domain\"]==\"zum.com\", \"줌\", data[\"ownership_2\"])\n",
    "data[\"category_1\"] = np.where(data[\"Domain\"]==\"zum.com\", \"컴퓨터/인터넷\", data[\"category_1\"])\n",
    "data[\"category_2\"] = np.where(data[\"Domain\"]==\"zum.com\", \"인터넷\", data[\"category_2\"])"
   ]
  },
  {
   "cell_type": "code",
   "execution_count": 165,
   "metadata": {},
   "outputs": [],
   "source": [
    "# daum.net\n",
    "# 4562\n",
    "# Portal, Daum\n",
    "data[\"ownership_1\"] = np.where(data[\"Domain\"]==\"daum.net\", \"Portal\", data[\"ownership_1\"])\n",
    "data[\"ownership_2\"] = np.where(data[\"Domain\"]==\"daum.net\", \"Daum\", data[\"ownership_2\"])\n",
    "data[\"category_1\"] = np.where(data[\"Domain\"]==\"daum.net\", \"컴퓨터/인터넷\", data[\"category_1\"])\n",
    "data[\"category_2\"] = np.where(data[\"Domain\"]==\"daum.net\", \"인터넷\", data[\"category_2\"])"
   ]
  },
  {
   "cell_type": "code",
   "execution_count": 166,
   "metadata": {},
   "outputs": [],
   "source": [
    "# swimdoctormall.co.kr\n",
    "# swimdoctor.com\n",
    "# Retailer, 스포츠/레저\n",
    "data[\"ownership_1\"] = np.where(data[\"Domain\"]==\"swimdoctormall.co.kr\", \"Retailer\", data[\"ownership_1\"])\n",
    "data[\"ownership_2\"] = np.where(data[\"Domain\"]==\"swimdoctormall.co.kr\", \"스포츠/레저\", data[\"ownership_2\"])\n",
    "data[\"ownership_1\"] = np.where(data[\"Domain\"]==\"swimdoctormall.com\", \"Retailer\", data[\"ownership_1\"])\n",
    "data[\"ownership_2\"] = np.where(data[\"Domain\"]==\"swimdoctormall.com\", \"스포츠/레저\", data[\"ownership_2\"])\n",
    "data[\"ownership_1\"] = np.where(data[\"Domain\"]==\"swimdoctor.com\", \"Retailer\", data[\"ownership_1\"])\n",
    "data[\"ownership_2\"] = np.where(data[\"Domain\"]==\"swimdoctor.com\", \"스포츠/레저\", data[\"ownership_2\"])\n",
    "\n",
    "data[\"category_1\"] = np.where(data[\"Domain\"]==\"swimdoctormall.co.kr\", \"비즈니스/쇼핑\", data[\"category_1\"])\n",
    "data[\"category_2\"] = np.where(data[\"Domain\"]==\"swimdoctormall.co.kr\", \"스포츠/레저\", data[\"category_2\"])\n",
    "data[\"category_1\"] = np.where(data[\"Domain\"]==\"swimdoctormall.com\", \"비즈니스/쇼핑\", data[\"category_1\"])\n",
    "data[\"category_2\"] = np.where(data[\"Domain\"]==\"swimdoctormall.com\", \"스포츠/레저\", data[\"category_2\"])\n",
    "data[\"category_1\"] = np.where(data[\"Domain\"]==\"swimdoctor.com\", \"비즈니스/쇼핑\", data[\"category_1\"])\n",
    "data[\"category_2\"] = np.where(data[\"Domain\"]==\"swimdoctor.com\", \"스포츠/레저\", data[\"category_2\"])"
   ]
  },
  {
   "cell_type": "code",
   "execution_count": 167,
   "metadata": {},
   "outputs": [],
   "source": [
    "# mazia.kr\n",
    "# Brand, 의류/잡화\n",
    "data[\"ownership_1\"] = np.where(data[\"Domain\"]==\"mazia.kr\", \"Brand\", data[\"ownership_1\"])\n",
    "data[\"ownership_2\"] = np.where(data[\"Domain\"]==\"mazia.kr\", \"의류/잡화\", data[\"ownership_2\"])\n",
    "data[\"category_1\"] = np.where(data[\"Domain\"]==\"mazia.kr\", \"비즈니스/쇼핑\", data[\"category_1\"])\n",
    "data[\"category_2\"] = np.where(data[\"Domain\"]==\"mazia.kr\", \"의류/잡화\", data[\"category_2\"])"
   ]
  },
  {
   "cell_type": "code",
   "execution_count": 168,
   "metadata": {},
   "outputs": [],
   "source": [
    "# gundamart.co.kr\n",
    "# Retailer, 취미\n",
    "data[\"ownership_1\"] = np.where(data[\"Domain\"]==\"gundamart.co.kr\", \"Retailer\", data[\"ownership_1\"])\n",
    "data[\"ownership_2\"] = np.where(data[\"Domain\"]==\"gundamart.co.kr\", \"취미\", data[\"ownership_2\"])\n",
    "data[\"category_1\"] = np.where(data[\"Domain\"]==\"gundamart.co.kr\", \"비즈니스/쇼핑\", data[\"category_1\"])\n",
    "data[\"category_2\"] = np.where(data[\"Domain\"]==\"gundamart.co.kr\", \"취미\", data[\"category_2\"])"
   ]
  },
  {
   "cell_type": "code",
   "execution_count": 169,
   "metadata": {},
   "outputs": [],
   "source": [
    "# ssteamboy.com\n",
    "# Maker, 전자제품\n",
    "data[\"ownership_1\"] = np.where(data[\"Domain\"]==\"ssteamboy.com\", \"Maker\", data[\"ownership_1\"])\n",
    "data[\"ownership_2\"] = np.where(data[\"Domain\"]==\"ssteamboy.com\", \"전자제품\", data[\"ownership_2\"])\n",
    "data[\"category_1\"] = np.where(data[\"Domain\"]==\"ssteamboy.com\", \"비즈니스/쇼핑\", data[\"category_1\"])\n",
    "data[\"category_2\"] = np.where(data[\"Domain\"]==\"ssteamboy.com\", \"전기/전자\", data[\"category_2\"])"
   ]
  },
  {
   "cell_type": "code",
   "execution_count": 170,
   "metadata": {},
   "outputs": [],
   "source": [
    "# caromshop.co.kr\n",
    "# Retailer, 스포츠/레저\n",
    "data[\"ownership_1\"] = np.where(data[\"Domain\"]==\"caromshop.co.kr\", \"Retailer\", data[\"ownership_1\"])\n",
    "data[\"ownership_2\"] = np.where(data[\"Domain\"]==\"caromshop.co.kr\", \"스포츠/레저\", data[\"ownership_2\"])\n",
    "data[\"category_1\"] = np.where(data[\"Domain\"]==\"caromshop.co.kr\", \"비즈니스/쇼핑\", data[\"category_1\"])\n",
    "data[\"category_2\"] = np.where(data[\"Domain\"]==\"caromshop.co.kr\", \"스포츠/레저\", data[\"category_2\"])"
   ]
  },
  {
   "cell_type": "code",
   "execution_count": 171,
   "metadata": {},
   "outputs": [],
   "source": [
    "# gseshop.co.kr\n",
    "# Retailer, 종합쇼핑몰\n",
    "data[\"ownership_1\"] = np.where(data[\"Domain\"]==\"gseshop.co.kr\", \"Retailer\", data[\"ownership_1\"])\n",
    "data[\"ownership_2\"] = np.where(data[\"Domain\"]==\"gseshop.co.kr\", \"종합쇼핑몰\", data[\"ownership_2\"])\n",
    "data[\"category_1\"] = np.where(data[\"Domain\"]==\"gseshop.co.kr\", \"비즈니스/쇼핑\", data[\"category_1\"])\n",
    "data[\"category_2\"] = np.where(data[\"Domain\"]==\"gseshop.co.kr\", \"종합쇼핑몰\", data[\"category_2\"])"
   ]
  },
  {
   "cell_type": "code",
   "execution_count": 172,
   "metadata": {},
   "outputs": [],
   "source": [
    "# angel-dshop.com\n",
    "# Maker, 선물\n",
    "data[\"ownership_1\"] = np.where(data[\"Domain\"]==\"angel-dshop.com\", \"Maker\", data[\"ownership_1\"])\n",
    "data[\"ownership_2\"] = np.where(data[\"Domain\"]==\"angel-dshop.com\", \"선물\", data[\"ownership_2\"])\n",
    "data[\"category_1\"] = np.where(data[\"Domain\"]==\"angel-dshop.com\", \"비즈니스/쇼핑\", data[\"category_1\"])\n",
    "data[\"category_2\"] = np.where(data[\"Domain\"]==\"angel-dshop.com\", \"선물\", data[\"category_2\"])"
   ]
  },
  {
   "cell_type": "code",
   "execution_count": 173,
   "metadata": {},
   "outputs": [],
   "source": [
    "# enshop.kr\n",
    "# Retailer, 스포츠/레저\n",
    "data[\"ownership_1\"] = np.where(data[\"Domain\"]==\"enshop.kr\", \"Retailer\", data[\"ownership_1\"])\n",
    "data[\"ownership_2\"] = np.where(data[\"Domain\"]==\"enshop.kr\", \"스포츠/레저\", data[\"ownership_2\"])\n",
    "data[\"category_1\"] = np.where(data[\"Domain\"]==\"enshop.kr\", \"비즈니스/쇼핑\", data[\"category_1\"])\n",
    "data[\"category_2\"] = np.where(data[\"Domain\"]==\"enshop.kr\", \"스포츠/레저\", data[\"category_2\"])"
   ]
  },
  {
   "cell_type": "code",
   "execution_count": 174,
   "metadata": {},
   "outputs": [],
   "source": [
    "# billiardshop.kr\n",
    "# Retailer, 스포츠/레저\n",
    "data[\"ownership_1\"] = np.where(data[\"Domain\"]==\"billiardshop.kr\", \"Retailer\", data[\"ownership_1\"])\n",
    "data[\"ownership_2\"] = np.where(data[\"Domain\"]==\"billiardshop.kr\", \"스포츠/레저\", data[\"ownership_2\"])\n",
    "data[\"category_1\"] = np.where(data[\"Domain\"]==\"billiardshop.kr\", \"비즈니스/쇼핑\", data[\"category_1\"])\n",
    "data[\"category_2\"] = np.where(data[\"Domain\"]==\"billiardshop.kr\", \"스포츠/레저\", data[\"category_2\"])"
   ]
  },
  {
   "cell_type": "code",
   "execution_count": 175,
   "metadata": {},
   "outputs": [],
   "source": [
    "# jungoneshop.com\n",
    "# Maker, 식품/음료\n",
    "data[\"ownership_1\"] = np.where(data[\"Domain\"]==\"jungoneshop.com\", \"Maker\", data[\"ownership_1\"])\n",
    "data[\"ownership_2\"] = np.where(data[\"Domain\"]==\"jungoneshop.com\", \"식품/음료\", data[\"ownership_2\"])\n",
    "data[\"category_1\"] = np.where(data[\"Domain\"]==\"jungoneshop.com\", \"비즈니스/쇼핑\", data[\"category_1\"])\n",
    "data[\"category_2\"] = np.where(data[\"Domain\"]==\"jungoneshop.com\", \"식품/음료\", data[\"category_2\"])"
   ]
  },
  {
   "cell_type": "code",
   "execution_count": 176,
   "metadata": {},
   "outputs": [],
   "source": [
    "# nseshop.com \n",
    "# Retailer, 홈쇼핑\n",
    "data[\"ownership_1\"] = np.where(data[\"Domain\"]==\"nseshop.com\", \"Retailer\", data[\"ownership_1\"])\n",
    "data[\"ownership_2\"] = np.where(data[\"Domain\"]==\"nseshop.com\", \"홈쇼핑\", data[\"ownership_2\"])\n",
    "data[\"category_1\"] = np.where(data[\"Domain\"]==\"nseshop.com\", \"비즈니스/쇼핑\", data[\"category_1\"])\n",
    "data[\"category_2\"] = np.where(data[\"Domain\"]==\"nseshop.com\", \"종합쇼핑몰\", data[\"category_2\"])"
   ]
  },
  {
   "cell_type": "code",
   "execution_count": 177,
   "metadata": {},
   "outputs": [],
   "source": [
    "# shop.olleh.com\n",
    "data[\"ownership_1\"] = np.where(data[\"Domain\"]==\"shop.olleh.com\", \"Maker\", data[\"ownership_1\"])\n",
    "data[\"ownership_2\"] = np.where(data[\"Domain\"]==\"shop.olleh.com\", \"무선/이동통신\", data[\"ownership_2\"])\n",
    "data[\"category_1\"] = np.where(data[\"Domain\"]==\"shop.olleh.com\", \"비즈니스/쇼핑\", data[\"category_1\"])\n",
    "data[\"category_2\"] = np.where(data[\"Domain\"]==\"shop.olleh.com\", \"통신/네트워크\", data[\"category_2\"])"
   ]
  },
  {
   "cell_type": "code",
   "execution_count": 178,
   "metadata": {},
   "outputs": [],
   "source": [
    "# shop7989.com\n",
    "data[\"ownership_1\"] = np.where(data[\"Domain\"]==\"shop7989.com\", \"Brand\", data[\"ownership_1\"])\n",
    "data[\"ownership_2\"] = np.where(data[\"Domain\"]==\"shop7989.com\", \"의류/잡화\", data[\"ownership_2\"])\n",
    "data[\"category_1\"] = np.where(data[\"Domain\"]==\"shop7989.com\", \"비즈니스/쇼핑\", data[\"category_1\"])\n",
    "data[\"category_2\"] = np.where(data[\"Domain\"]==\"shop7989.com\", \"의류/잡화\", data[\"category_2\"])"
   ]
  },
  {
   "cell_type": "code",
   "execution_count": 179,
   "metadata": {},
   "outputs": [],
   "source": [
    "# jstyleshop.net\n",
    "data[\"ownership_1\"] = np.where(data[\"Domain\"]==\"jstyleshop.net\", \"Brand\", data[\"ownership_1\"])\n",
    "data[\"ownership_2\"] = np.where(data[\"Domain\"]==\"jstyleshop.net\", \"의류/잡화\", data[\"ownership_2\"])\n",
    "data[\"category_1\"] = np.where(data[\"Domain\"]==\"jstyleshop.net\", \"비즈니스/쇼핑\", data[\"category_1\"])\n",
    "data[\"category_2\"] = np.where(data[\"Domain\"]==\"jstyleshop.net\", \"의류/잡화\", data[\"category_2\"])"
   ]
  },
  {
   "cell_type": "code",
   "execution_count": 180,
   "metadata": {},
   "outputs": [],
   "source": [
    "# bearpawshop.com\n",
    "data[\"ownership_1\"] = np.where(data[\"Domain\"]==\"bearpawshop.com\", \"Brand\", data[\"ownership_1\"])\n",
    "data[\"ownership_2\"] = np.where(data[\"Domain\"]==\"bearpawshop.com\", \"의류/잡화\", data[\"ownership_2\"])\n",
    "data[\"category_1\"] = np.where(data[\"Domain\"]==\"bearpawshop.com\", \"비즈니스/쇼핑\", data[\"category_1\"])\n",
    "data[\"category_2\"] = np.where(data[\"Domain\"]==\"bearpawshop.com\", \"의류/잡화\", data[\"category_2\"])"
   ]
  },
  {
   "cell_type": "code",
   "execution_count": 181,
   "metadata": {},
   "outputs": [],
   "source": [
    "# bongjashop.com\n",
    "data[\"ownership_1\"] = np.where(data[\"Domain\"]==\"bongjashop.com\", \"Brand\", data[\"ownership_1\"])\n",
    "data[\"ownership_2\"] = np.where(data[\"Domain\"]==\"bongjashop.com\", \"의류/잡화\", data[\"ownership_2\"])\n",
    "data[\"category_1\"] = np.where(data[\"Domain\"]==\"bongjashop.com\", \"비즈니스/쇼핑\", data[\"category_1\"])\n",
    "data[\"category_2\"] = np.where(data[\"Domain\"]==\"bongjashop.com\", \"의류/잡화\", data[\"category_2\"])"
   ]
  },
  {
   "cell_type": "code",
   "execution_count": 182,
   "metadata": {},
   "outputs": [],
   "source": [
    "# inurishop.com\n",
    "data[\"ownership_1\"] = np.where(data[\"Domain\"]==\"inurishop.com\", \"Maker\", data[\"ownership_1\"])\n",
    "data[\"ownership_2\"] = np.where(data[\"Domain\"]==\"inurishop.com\", \"식품/음료\", data[\"ownership_2\"])\n",
    "data[\"category_1\"] = np.where(data[\"Domain\"]==\"inurishop.com\", \"비즈니스/쇼핑\", data[\"category_1\"])\n",
    "data[\"category_2\"] = np.where(data[\"Domain\"]==\"inurishop.com\", \"식품/음료\", data[\"category_2\"])"
   ]
  },
  {
   "cell_type": "code",
   "execution_count": 183,
   "metadata": {},
   "outputs": [],
   "source": [
    "# jogunshop.com\n",
    "data[\"ownership_1\"] = np.where(data[\"Domain\"]==\"jogunshop.com\", \"Brand\", data[\"ownership_1\"])\n",
    "data[\"ownership_2\"] = np.where(data[\"Domain\"]==\"jogunshop.com\", \"의류/잡화\", data[\"ownership_2\"])\n",
    "data[\"category_1\"] = np.where(data[\"Domain\"]==\"jogunshop.com\", \"비즈니스/쇼핑\", data[\"category_1\"])\n",
    "data[\"category_2\"] = np.where(data[\"Domain\"]==\"jogunshop.com\", \"의류/잡화\", data[\"category_2\"])"
   ]
  },
  {
   "cell_type": "code",
   "execution_count": 184,
   "metadata": {},
   "outputs": [],
   "source": [
    "# hanashop.com\n",
    "data[\"ownership_1\"] = np.where(data[\"Domain\"]==\"hanashop.com\", \"Retailer\", data[\"ownership_1\"])\n",
    "data[\"ownership_2\"] = np.where(data[\"Domain\"]==\"hanashop.com\", \"여행사\", data[\"ownership_2\"])\n",
    "data[\"category_1\"] = np.where(data[\"Domain\"]==\"hanashop.com\", \"비즈니스/쇼핑\", data[\"category_1\"])\n",
    "data[\"category_2\"] = np.where(data[\"Domain\"]==\"hanashop.com\", \"종합쇼핑몰\", data[\"category_2\"])"
   ]
  },
  {
   "cell_type": "code",
   "execution_count": 185,
   "metadata": {},
   "outputs": [],
   "source": [
    "# nubizio.co.kr\n",
    "data[\"ownership_1\"] = np.where(data[\"Domain\"]==\"nubizio.co.kr\", \"Retailer\", data[\"ownership_1\"])\n",
    "data[\"ownership_2\"] = np.where(data[\"Domain\"]==\"nubizio.co.kr\", \"홈인테리어\", data[\"ownership_2\"])\n",
    "data[\"category_1\"] = np.where(data[\"Domain\"]==\"nubizio.co.kr\", \"비즈니스/쇼핑\", data[\"category_1\"])\n",
    "data[\"category_2\"] = np.where(data[\"Domain\"]==\"nubizio.co.kr\", \"가정/생활용품\", data[\"category_2\"])"
   ]
  },
  {
   "cell_type": "code",
   "execution_count": 186,
   "metadata": {},
   "outputs": [],
   "source": [
    "# jomashop.com\n",
    "data[\"ownership_1\"] = np.where(data[\"Domain\"]==\"jomashop.com\", \"Retailer\", data[\"ownership_1\"])\n",
    "data[\"ownership_2\"] = np.where(data[\"Domain\"]==\"jomashop.com\", \"의류/잡화\", data[\"ownership_2\"])\n",
    "data[\"category_1\"] = np.where(data[\"Domain\"]==\"jomashop.com\", \"비즈니스/쇼핑\", data[\"category_1\"])\n",
    "data[\"category_2\"] = np.where(data[\"Domain\"]==\"jomashop.com\", \"의류/잡화\", data[\"category_2\"])"
   ]
  },
  {
   "cell_type": "code",
   "execution_count": 187,
   "metadata": {},
   "outputs": [],
   "source": [
    "# gsshop.com\n",
    "data[\"ownership_1\"] = np.where(data[\"Domain\"]==\"gsshop.com\", \"Retailer\", data[\"ownership_1\"])\n",
    "data[\"ownership_2\"] = np.where(data[\"Domain\"]==\"gsshop.com\", \"홈쇼핑\", data[\"ownership_2\"])\n",
    "data[\"category_1\"] = np.where(data[\"Domain\"]==\"gsshop.com\", \"비즈니스/쇼핑\", data[\"category_1\"])\n",
    "data[\"category_2\"] = np.where(data[\"Domain\"]==\"gsshop.com\", \"종합쇼핑몰\", data[\"category_2\"])"
   ]
  },
  {
   "cell_type": "code",
   "execution_count": 188,
   "metadata": {},
   "outputs": [],
   "source": [
    "# janeshopping.co.kr\n",
    "data[\"ownership_1\"] = np.where(data[\"Domain\"]==\"janeshopping.co.kr\", \"Retailer\", data[\"ownership_1\"])\n",
    "data[\"ownership_2\"] = np.where(data[\"Domain\"]==\"janeshopping.co.kr\", \"의류/잡화\", data[\"ownership_2\"])\n",
    "data[\"category_1\"] = np.where(data[\"Domain\"]==\"janeshopping.co.kr\", \"비즈니스/쇼핑\", data[\"category_1\"])\n",
    "data[\"category_2\"] = np.where(data[\"Domain\"]==\"janeshopping.co.kr\", \"의류/잡화\", data[\"category_2\"])"
   ]
  },
  {
   "cell_type": "markdown",
   "metadata": {},
   "source": [
    "### 나머지 결측행 값, '기타'로 넣기(혹은 결측행 제거)"
   ]
  },
  {
   "cell_type": "code",
   "execution_count": 189,
   "metadata": {
    "scrolled": true
   },
   "outputs": [
    {
     "data": {
      "text/plain": [
       "8765433"
      ]
     },
     "execution_count": 189,
     "metadata": {},
     "output_type": "execute_result"
    }
   ],
   "source": [
    "len(data[data[\"ownership_1\"].isnull()])"
   ]
  },
  {
   "cell_type": "code",
   "execution_count": 190,
   "metadata": {},
   "outputs": [
    {
     "data": {
      "text/plain": [
       "8765433"
      ]
     },
     "execution_count": 190,
     "metadata": {},
     "output_type": "execute_result"
    }
   ],
   "source": [
    "len(data[data[\"ownership_2\"].isnull()])"
   ]
  },
  {
   "cell_type": "code",
   "execution_count": 191,
   "metadata": {},
   "outputs": [
    {
     "data": {
      "text/plain": [
       "8765433"
      ]
     },
     "execution_count": 191,
     "metadata": {},
     "output_type": "execute_result"
    }
   ],
   "source": [
    "len(data[data[\"category_1\"].isnull()])"
   ]
  },
  {
   "cell_type": "code",
   "execution_count": 192,
   "metadata": {},
   "outputs": [
    {
     "data": {
      "text/plain": [
       "8765433"
      ]
     },
     "execution_count": 192,
     "metadata": {},
     "output_type": "execute_result"
    }
   ],
   "source": [
    "len(data[data[\"category_2\"].isnull()])"
   ]
  },
  {
   "cell_type": "code",
   "execution_count": 193,
   "metadata": {},
   "outputs": [],
   "source": [
    "# data[\"ownership_1\"].fillna(\"기타\", inplace=True)\n",
    "# data[\"ownership_2\"].fillna(\"기타\", inplace=True)\n",
    "\n",
    "# data[\"ownership_1\"].fillna(\"기타\", inplace=True)\n",
    "# data[\"ownership_2\"].fillna(\"기타\", inplace=True)\n",
    "\n",
    "# data[\"category_1\"].fillna(\"기타\", inplace=True)\n",
    "# data[\"category_2\"].fillna(\"기타\", inplace=True)"
   ]
  },
  {
   "cell_type": "code",
   "execution_count": 19,
   "metadata": {},
   "outputs": [],
   "source": [
    "# 그 외 결측치있는 row 제거\n",
    "# data.dropna(subset=[\"ownership_1\"], axis=0, inplace=True)"
   ]
  },
  {
   "cell_type": "markdown",
   "metadata": {},
   "source": [
    "## Session_ID 추가"
   ]
  },
  {
   "cell_type": "code",
   "execution_count": 194,
   "metadata": {},
   "outputs": [],
   "source": [
    "data.sort_values(by=[\"UID\",\"Time\"], inplace=True)"
   ]
  },
  {
   "cell_type": "code",
   "execution_count": 195,
   "metadata": {},
   "outputs": [],
   "source": [
    "cond1 = data.Time - data.Time.shift(1) > pd.Timedelta(11, 'm')\n",
    "cond2 = data.UID != data.UID.shift(1)\n",
    "data['Session_ID'] = (cond1|cond2).cumsum()"
   ]
  },
  {
   "cell_type": "markdown",
   "metadata": {},
   "source": [
    "## 사이트의 메인페이지 로그기록 제거"
   ]
  },
  {
   "cell_type": "code",
   "execution_count": 199,
   "metadata": {},
   "outputs": [],
   "source": [
    "def remove_portal_site(data):\n",
    "    portal = ['naver.com', 'google.co.kr', 'daum.net', 'nate.com', 'naver.com', 'zum.com']\n",
    "    portal_index= []\n",
    "    for UID in tqdm_notebook(data.UID.unique()):\n",
    "        temp = data[data.UID == UID]\n",
    "        for session in temp.Session_ID.unique():\n",
    "            temp1 = temp[temp['Session_ID'] == session]\n",
    "            temp1 = temp1.reset_index()\n",
    "            if temp1['Domain'][0] not in portal:\n",
    "                continue\n",
    "            else:\n",
    "                for i in range(len(temp1['Domain'])-1):\n",
    "                    if temp1['Domain'][i] != temp1['Domain'][i+1]:\n",
    "                        break\n",
    "                    else:\n",
    "                        portal_index.append(int(temp1['index'][i]))\n",
    "    data.drop(portal_index, inplace=True)\n",
    "    return data"
   ]
  },
  {
   "cell_type": "code",
   "execution_count": 200,
   "metadata": {},
   "outputs": [
    {
     "data": {
      "application/vnd.jupyter.widget-view+json": {
       "model_id": "96e14968781d4782a788632e4d2b308f"
      }
     },
     "metadata": {},
     "output_type": "display_data"
    },
    {
     "name": "stdout",
     "output_type": "stream",
     "text": [
      "\n"
     ]
    }
   ],
   "source": [
    "data2 = remove_portal_site(data)"
   ]
  },
  {
   "cell_type": "code",
   "execution_count": null,
   "metadata": {},
   "outputs": [],
   "source": []
  },
  {
   "cell_type": "markdown",
   "metadata": {},
   "source": [
    "# **아래는 이외 변수 추가를 위한 내용**"
   ]
  },
  {
   "cell_type": "markdown",
   "metadata": {},
   "source": [
    "## 파생 변수 추가"
   ]
  },
  {
   "cell_type": "markdown",
   "metadata": {},
   "source": [
    "### 세션 당 소요시간"
   ]
  },
  {
   "cell_type": "code",
   "execution_count": 201,
   "metadata": {},
   "outputs": [],
   "source": [
    "se_time_min = data2.groupby(['UID', 'Session_ID'])['Time'].min()\n",
    "se_time_max = data2.groupby(['UID', 'Session_ID'])['Time'].max()"
   ]
  },
  {
   "cell_type": "code",
   "execution_count": null,
   "metadata": {},
   "outputs": [],
   "source": [
    "pd.DataFrame(se_time_max-se_time_min)"
   ]
  },
  {
   "cell_type": "markdown",
   "metadata": {},
   "source": [
    "### 세션 당 방문한 사이트 수"
   ]
  },
  {
   "cell_type": "markdown",
   "metadata": {},
   "source": [
    "### 세션 별 쇼핑 관련 사이트 방문 수"
   ]
  },
  {
   "cell_type": "code",
   "execution_count": null,
   "metadata": {},
   "outputs": [],
   "source": []
  }
 ],
 "metadata": {
  "kernelspec": {
   "display_name": "Python 3",
   "language": "python",
   "name": "python3"
  },
  "language_info": {
   "codemirror_mode": {
    "name": "ipython",
    "version": 3
   },
   "file_extension": ".py",
   "mimetype": "text/x-python",
   "name": "python",
   "nbconvert_exporter": "python",
   "pygments_lexer": "ipython3",
   "version": "3.6.8"
  }
 },
 "nbformat": 4,
 "nbformat_minor": 2
}
