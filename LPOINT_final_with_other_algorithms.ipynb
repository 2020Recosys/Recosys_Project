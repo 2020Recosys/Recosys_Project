{
 "cells": [
  {
   "cell_type": "code",
   "execution_count": 1,
   "metadata": {},
   "outputs": [],
   "source": [
    "import pandas as pd\n",
    "import numpy as np\n",
    "import matplotlib.pyplot as plt\n",
    "from tqdm import tqdm_notebook\n",
    "import itertools\n",
    "from sklearn.preprocessing import StandardScaler, MinMaxScaler"
   ]
  },
  {
   "cell_type": "markdown",
   "metadata": {},
   "source": [
    "# <br>\n",
    "# 전처리"
   ]
  },
  {
   "cell_type": "code",
   "execution_count": 2,
   "metadata": {},
   "outputs": [
    {
     "name": "stderr",
     "output_type": "stream",
     "text": [
      "/Users/yaelinjo/opt/anaconda3/lib/python3.7/site-packages/IPython/core/interactiveshell.py:3058: DtypeWarning: Columns (9) have mixed types. Specify dtype option on import or set low_memory=False.\n",
      "  interactivity=interactivity, compiler=compiler, result=result)\n"
     ]
    },
    {
     "data": {
      "text/plain": [
       "(3196362, 14)"
      ]
     },
     "execution_count": 2,
     "metadata": {},
     "output_type": "execute_result"
    }
   ],
   "source": [
    "온라인 = pd.read_csv('/Users/yaelinjo/Desktop/RecoSys/제6회 L.POINT Big Data Competition/제6회 L.POINT Big Data Competition-분석용데이터-01.온라인 행동 정보.csv', encoding='utf-8')\n",
    "온라인 = 온라인.sort_values(['clnt_id','sess_id','hit_seq']).reset_index(drop=True)\n",
    "온라인.shape"
   ]
  },
  {
   "cell_type": "code",
   "execution_count": 3,
   "metadata": {},
   "outputs": [
    {
     "data": {
      "text/html": [
       "<div>\n",
       "<style scoped>\n",
       "    .dataframe tbody tr th:only-of-type {\n",
       "        vertical-align: middle;\n",
       "    }\n",
       "\n",
       "    .dataframe tbody tr th {\n",
       "        vertical-align: top;\n",
       "    }\n",
       "\n",
       "    .dataframe thead th {\n",
       "        text-align: right;\n",
       "    }\n",
       "</style>\n",
       "<table border=\"1\" class=\"dataframe\">\n",
       "  <thead>\n",
       "    <tr style=\"text-align: right;\">\n",
       "      <th></th>\n",
       "      <th>clnt_id</th>\n",
       "      <th>sess_id</th>\n",
       "      <th>hit_seq</th>\n",
       "      <th>action_type</th>\n",
       "      <th>biz_unit</th>\n",
       "      <th>sess_dt</th>\n",
       "      <th>hit_tm</th>\n",
       "      <th>hit_pss_tm</th>\n",
       "      <th>trans_id</th>\n",
       "      <th>sech_kwd</th>\n",
       "      <th>tot_pag_view_ct</th>\n",
       "      <th>tot_sess_hr_v</th>\n",
       "      <th>trfc_src</th>\n",
       "      <th>dvc_ctg_nm</th>\n",
       "      <th>unique_id</th>\n",
       "    </tr>\n",
       "  </thead>\n",
       "  <tbody>\n",
       "    <tr>\n",
       "      <td>0</td>\n",
       "      <td>1</td>\n",
       "      <td>1</td>\n",
       "      <td>1</td>\n",
       "      <td>0</td>\n",
       "      <td>A01</td>\n",
       "      <td>20190911</td>\n",
       "      <td>16:14</td>\n",
       "      <td>11880</td>\n",
       "      <td>NaN</td>\n",
       "      <td>과일선물세트</td>\n",
       "      <td>14.0</td>\n",
       "      <td>124.0</td>\n",
       "      <td>unknown</td>\n",
       "      <td>mobile_app</td>\n",
       "      <td>1_1</td>\n",
       "    </tr>\n",
       "    <tr>\n",
       "      <td>1</td>\n",
       "      <td>1</td>\n",
       "      <td>1</td>\n",
       "      <td>2</td>\n",
       "      <td>0</td>\n",
       "      <td>A01</td>\n",
       "      <td>20190911</td>\n",
       "      <td>16:15</td>\n",
       "      <td>22432</td>\n",
       "      <td>NaN</td>\n",
       "      <td>과일선물세트 백화점</td>\n",
       "      <td>14.0</td>\n",
       "      <td>124.0</td>\n",
       "      <td>unknown</td>\n",
       "      <td>mobile_app</td>\n",
       "      <td>1_1</td>\n",
       "    </tr>\n",
       "    <tr>\n",
       "      <td>2</td>\n",
       "      <td>1</td>\n",
       "      <td>1</td>\n",
       "      <td>3</td>\n",
       "      <td>0</td>\n",
       "      <td>A01</td>\n",
       "      <td>20190911</td>\n",
       "      <td>16:15</td>\n",
       "      <td>36140</td>\n",
       "      <td>NaN</td>\n",
       "      <td>과일바구니</td>\n",
       "      <td>14.0</td>\n",
       "      <td>124.0</td>\n",
       "      <td>unknown</td>\n",
       "      <td>mobile_app</td>\n",
       "      <td>1_1</td>\n",
       "    </tr>\n",
       "    <tr>\n",
       "      <td>3</td>\n",
       "      <td>1</td>\n",
       "      <td>2</td>\n",
       "      <td>1</td>\n",
       "      <td>0</td>\n",
       "      <td>A01</td>\n",
       "      <td>20190922</td>\n",
       "      <td>14:09</td>\n",
       "      <td>41584</td>\n",
       "      <td>NaN</td>\n",
       "      <td>초등가을잠바</td>\n",
       "      <td>45.0</td>\n",
       "      <td>424.0</td>\n",
       "      <td>unknown</td>\n",
       "      <td>mobile_app</td>\n",
       "      <td>1_2</td>\n",
       "    </tr>\n",
       "    <tr>\n",
       "      <td>4</td>\n",
       "      <td>1</td>\n",
       "      <td>2</td>\n",
       "      <td>2</td>\n",
       "      <td>0</td>\n",
       "      <td>A01</td>\n",
       "      <td>20190922</td>\n",
       "      <td>14:10</td>\n",
       "      <td>56113</td>\n",
       "      <td>NaN</td>\n",
       "      <td>초등가을점퍼</td>\n",
       "      <td>45.0</td>\n",
       "      <td>424.0</td>\n",
       "      <td>unknown</td>\n",
       "      <td>mobile_app</td>\n",
       "      <td>1_2</td>\n",
       "    </tr>\n",
       "  </tbody>\n",
       "</table>\n",
       "</div>"
      ],
      "text/plain": [
       "   clnt_id  sess_id  hit_seq  action_type biz_unit   sess_dt hit_tm  \\\n",
       "0        1        1        1            0      A01  20190911  16:14   \n",
       "1        1        1        2            0      A01  20190911  16:15   \n",
       "2        1        1        3            0      A01  20190911  16:15   \n",
       "3        1        2        1            0      A01  20190922  14:09   \n",
       "4        1        2        2            0      A01  20190922  14:10   \n",
       "\n",
       "   hit_pss_tm  trans_id    sech_kwd  tot_pag_view_ct  tot_sess_hr_v trfc_src  \\\n",
       "0       11880       NaN      과일선물세트             14.0          124.0  unknown   \n",
       "1       22432       NaN  과일선물세트 백화점             14.0          124.0  unknown   \n",
       "2       36140       NaN       과일바구니             14.0          124.0  unknown   \n",
       "3       41584       NaN      초등가을잠바             45.0          424.0  unknown   \n",
       "4       56113       NaN      초등가을점퍼             45.0          424.0  unknown   \n",
       "\n",
       "   dvc_ctg_nm unique_id  \n",
       "0  mobile_app       1_1  \n",
       "1  mobile_app       1_1  \n",
       "2  mobile_app       1_1  \n",
       "3  mobile_app       1_2  \n",
       "4  mobile_app       1_2  "
      ]
     },
     "execution_count": 3,
     "metadata": {},
     "output_type": "execute_result"
    }
   ],
   "source": [
    "온라인['unique_id'] = list(map(lambda x,y: str(x)+'_'+str(y), 온라인.clnt_id, 온라인.sess_id))\n",
    "온라인.head()"
   ]
  },
  {
   "cell_type": "code",
   "execution_count": 5,
   "metadata": {},
   "outputs": [
    {
     "data": {
      "text/plain": [
       "(72399, 367149)"
      ]
     },
     "execution_count": 5,
     "metadata": {},
     "output_type": "execute_result"
    }
   ],
   "source": [
    "# 온라인 고객: 72,399명, 고객 및 세션: 367,149개\n",
    "온라인.clnt_id.nunique(), 온라인.unique_id.nunique()"
   ]
  },
  {
   "cell_type": "code",
   "execution_count": 9,
   "metadata": {},
   "outputs": [],
   "source": [
    "# 각 clnt_id별 session이 바뀌는 지점 index 저장\n",
    "idx1 = 온라인.unique_id.drop_duplicates().index.tolist()\n",
    "idx2 = idx1[1:] + [len(온라인)]"
   ]
  },
  {
   "cell_type": "code",
   "execution_count": 8,
   "metadata": {},
   "outputs": [
    {
     "data": {
      "application/vnd.jupyter.widget-view+json": {
       "model_id": "8b19e499787b489198ec56dde05fc917",
       "version_major": 2,
       "version_minor": 0
      },
      "text/plain": [
       "HBox(children=(IntProgress(value=0, max=367149), HTML(value='')))"
      ]
     },
     "metadata": {},
     "output_type": "display_data"
    },
    {
     "name": "stdout",
     "output_type": "stream",
     "text": [
      "\n"
     ]
    }
   ],
   "source": [
    "# session별 체류시간 = 다음 hit_pss_tm - 이전 hit_pss_tm\n",
    "stay_tm = []\n",
    "for i, j in tqdm_notebook(zip(idx1, idx2), total=len(idx1)):\n",
    "    temp = 온라인.iloc[i:j].hit_pss_tm\n",
    "    if len(temp) == 1:\n",
    "        stay_tm.append(temp.tolist())\n",
    "    else:\n",
    "        temp = temp.diff().tolist()[1:]\n",
    "        temp.append(temp[-1]) # 마지막은 해당 hit_pss_tm 값 사용\n",
    "        stay_tm.append(temp)\n",
    "    #stay_tm = stay_tm + 온라인.iloc[i:j].hit_pss_tm.diff().fillna(0).tolist()"
   ]
  },
  {
   "cell_type": "code",
   "execution_count": 9,
   "metadata": {},
   "outputs": [],
   "source": [
    "#stay_tm = sum(stay_tm, []) # 시간 매우 오래걸림\n",
    "온라인['time_length'] = list(itertools.chain.from_iterable(stay_tm))"
   ]
  },
  {
   "cell_type": "code",
   "execution_count": 10,
   "metadata": {},
   "outputs": [],
   "source": [
    "# 밀리초->초 변환\n",
    "온라인['hit_pss_tm'] = np.ceil(온라인['hit_pss_tm']/1000)\n",
    "온라인['time_length'] = np.ceil(온라인['time_length']/1000)"
   ]
  },
  {
   "cell_type": "code",
   "execution_count": 11,
   "metadata": {},
   "outputs": [],
   "source": [
    "# 주말 및 공휴일 여부\n",
    "holiday_diff = []\n",
    "for i in 온라인.sess_dt.map(lambda x: str(x)[-3:]).tolist():\n",
    "    if i in (['706','707','713','714','717','720','721','727','728',\n",
    "               '803','804','810','811','815','817','818','824','825',\n",
    "               '907','908','912','913','914','915','921','922','928','929']):\n",
    "        holiday_diff.append(1)\n",
    "    else:\n",
    "        holiday_diff.append(0)\n",
    "온라인['holiday_diff'] = holiday_diff"
   ]
  },
  {
   "cell_type": "code",
   "execution_count": 12,
   "metadata": {},
   "outputs": [
    {
     "data": {
      "application/vnd.jupyter.widget-view+json": {
       "model_id": "892f8af7df694f6b9f9cc2f7c27d32f2",
       "version_major": 2,
       "version_minor": 0
      },
      "text/plain": [
       "HBox(children=(IntProgress(value=0, max=367149), HTML(value='')))"
      ]
     },
     "metadata": {},
     "output_type": "display_data"
    },
    {
     "name": "stdout",
     "output_type": "stream",
     "text": [
      "\n"
     ]
    }
   ],
   "source": [
    "# keyword: session별 sech_kwd의 cumulative sum\n",
    "온라인['sech_kwd'] = 온라인.sech_kwd.map(lambda x: 0 if str(x) == 'nan' else 1)\n",
    "keyword = []\n",
    "for i, j in tqdm_notebook(zip(idx1, idx2), total=len(idx1)):\n",
    "    temp = 온라인.iloc[i:j].sech_kwd\n",
    "    keyword.append(np.cumsum(temp.tolist()))\n",
    "온라인['keyword'] = list(itertools.chain.from_iterable(keyword))"
   ]
  },
  {
   "cell_type": "code",
   "execution_count": 13,
   "metadata": {},
   "outputs": [],
   "source": [
    "온라인['sess_dt'] = 온라인['sess_dt'].map(lambda x: str(x)[:-2]) # day제거하고 month(7,8,9월)만 남김\n",
    "온라인['dvc_ctg_nm'].fillna('unknown',inplace=True) # device null값을 unknown으로 대체\n",
    "\n",
    "# dummy variable 생성 - action_type, biz_unit, sess_dt, trfc_src, dvc_ctg_nm\n",
    "온라인 = pd.concat([온라인, pd.get_dummies(온라인[['biz_unit','sess_dt','trfc_src','dvc_ctg_nm']], drop_first=True)], axis=1)\n",
    "온라인 = pd.concat([온라인, pd.get_dummies(온라인.action_type, drop_first=True, prefix='action_type')], axis=1)\n",
    "온라인 = 온라인.drop(['action_type','biz_unit','sess_dt','hit_tm','sech_kwd','tot_pag_view_ct', 'tot_sess_hr_v','trfc_src','dvc_ctg_nm'], axis=1)"
   ]
  },
  {
   "cell_type": "code",
   "execution_count": 14,
   "metadata": {},
   "outputs": [
    {
     "name": "stdout",
     "output_type": "stream",
     "text": [
      "(3196362, 29)\n"
     ]
    },
    {
     "data": {
      "text/html": [
       "<div>\n",
       "<style scoped>\n",
       "    .dataframe tbody tr th:only-of-type {\n",
       "        vertical-align: middle;\n",
       "    }\n",
       "\n",
       "    .dataframe tbody tr th {\n",
       "        vertical-align: top;\n",
       "    }\n",
       "\n",
       "    .dataframe thead th {\n",
       "        text-align: right;\n",
       "    }\n",
       "</style>\n",
       "<table border=\"1\" class=\"dataframe\">\n",
       "  <thead>\n",
       "    <tr style=\"text-align: right;\">\n",
       "      <th></th>\n",
       "      <th>clnt_id</th>\n",
       "      <th>sess_id</th>\n",
       "      <th>trans_id</th>\n",
       "      <th>hit_seq</th>\n",
       "      <th>hit_pss_tm</th>\n",
       "      <th>time_length</th>\n",
       "      <th>holiday_diff</th>\n",
       "      <th>keyword</th>\n",
       "      <th>action_type_1</th>\n",
       "      <th>action_type_2</th>\n",
       "      <th>...</th>\n",
       "      <th>trfc_src_PORTAL_1</th>\n",
       "      <th>trfc_src_PORTAL_2</th>\n",
       "      <th>trfc_src_PORTAL_3</th>\n",
       "      <th>trfc_src_PUSH</th>\n",
       "      <th>trfc_src_WEBSITE</th>\n",
       "      <th>trfc_src_unknown</th>\n",
       "      <th>dvc_ctg_nm_mobile_app</th>\n",
       "      <th>dvc_ctg_nm_mobile_web</th>\n",
       "      <th>dvc_ctg_nm_unknown</th>\n",
       "      <th>unique_id</th>\n",
       "    </tr>\n",
       "  </thead>\n",
       "  <tbody>\n",
       "    <tr>\n",
       "      <td>0</td>\n",
       "      <td>1</td>\n",
       "      <td>1</td>\n",
       "      <td>NaN</td>\n",
       "      <td>1</td>\n",
       "      <td>12.0</td>\n",
       "      <td>11.0</td>\n",
       "      <td>0</td>\n",
       "      <td>1</td>\n",
       "      <td>0</td>\n",
       "      <td>0</td>\n",
       "      <td>...</td>\n",
       "      <td>0</td>\n",
       "      <td>0</td>\n",
       "      <td>0</td>\n",
       "      <td>0</td>\n",
       "      <td>0</td>\n",
       "      <td>1</td>\n",
       "      <td>1</td>\n",
       "      <td>0</td>\n",
       "      <td>0</td>\n",
       "      <td>1_1</td>\n",
       "    </tr>\n",
       "    <tr>\n",
       "      <td>1</td>\n",
       "      <td>1</td>\n",
       "      <td>1</td>\n",
       "      <td>NaN</td>\n",
       "      <td>2</td>\n",
       "      <td>23.0</td>\n",
       "      <td>14.0</td>\n",
       "      <td>0</td>\n",
       "      <td>2</td>\n",
       "      <td>0</td>\n",
       "      <td>0</td>\n",
       "      <td>...</td>\n",
       "      <td>0</td>\n",
       "      <td>0</td>\n",
       "      <td>0</td>\n",
       "      <td>0</td>\n",
       "      <td>0</td>\n",
       "      <td>1</td>\n",
       "      <td>1</td>\n",
       "      <td>0</td>\n",
       "      <td>0</td>\n",
       "      <td>1_1</td>\n",
       "    </tr>\n",
       "    <tr>\n",
       "      <td>2</td>\n",
       "      <td>1</td>\n",
       "      <td>1</td>\n",
       "      <td>NaN</td>\n",
       "      <td>3</td>\n",
       "      <td>37.0</td>\n",
       "      <td>14.0</td>\n",
       "      <td>0</td>\n",
       "      <td>3</td>\n",
       "      <td>0</td>\n",
       "      <td>0</td>\n",
       "      <td>...</td>\n",
       "      <td>0</td>\n",
       "      <td>0</td>\n",
       "      <td>0</td>\n",
       "      <td>0</td>\n",
       "      <td>0</td>\n",
       "      <td>1</td>\n",
       "      <td>1</td>\n",
       "      <td>0</td>\n",
       "      <td>0</td>\n",
       "      <td>1_1</td>\n",
       "    </tr>\n",
       "    <tr>\n",
       "      <td>3</td>\n",
       "      <td>1</td>\n",
       "      <td>2</td>\n",
       "      <td>NaN</td>\n",
       "      <td>1</td>\n",
       "      <td>42.0</td>\n",
       "      <td>15.0</td>\n",
       "      <td>1</td>\n",
       "      <td>1</td>\n",
       "      <td>0</td>\n",
       "      <td>0</td>\n",
       "      <td>...</td>\n",
       "      <td>0</td>\n",
       "      <td>0</td>\n",
       "      <td>0</td>\n",
       "      <td>0</td>\n",
       "      <td>0</td>\n",
       "      <td>1</td>\n",
       "      <td>1</td>\n",
       "      <td>0</td>\n",
       "      <td>0</td>\n",
       "      <td>1_2</td>\n",
       "    </tr>\n",
       "    <tr>\n",
       "      <td>4</td>\n",
       "      <td>1</td>\n",
       "      <td>2</td>\n",
       "      <td>NaN</td>\n",
       "      <td>2</td>\n",
       "      <td>57.0</td>\n",
       "      <td>14.0</td>\n",
       "      <td>1</td>\n",
       "      <td>2</td>\n",
       "      <td>0</td>\n",
       "      <td>0</td>\n",
       "      <td>...</td>\n",
       "      <td>0</td>\n",
       "      <td>0</td>\n",
       "      <td>0</td>\n",
       "      <td>0</td>\n",
       "      <td>0</td>\n",
       "      <td>1</td>\n",
       "      <td>1</td>\n",
       "      <td>0</td>\n",
       "      <td>0</td>\n",
       "      <td>1_2</td>\n",
       "    </tr>\n",
       "  </tbody>\n",
       "</table>\n",
       "<p>5 rows × 29 columns</p>\n",
       "</div>"
      ],
      "text/plain": [
       "   clnt_id  sess_id  trans_id  hit_seq  hit_pss_tm  time_length  holiday_diff  \\\n",
       "0        1        1       NaN        1        12.0         11.0             0   \n",
       "1        1        1       NaN        2        23.0         14.0             0   \n",
       "2        1        1       NaN        3        37.0         14.0             0   \n",
       "3        1        2       NaN        1        42.0         15.0             1   \n",
       "4        1        2       NaN        2        57.0         14.0             1   \n",
       "\n",
       "   keyword  action_type_1  action_type_2  ...  trfc_src_PORTAL_1  \\\n",
       "0        1              0              0  ...                  0   \n",
       "1        2              0              0  ...                  0   \n",
       "2        3              0              0  ...                  0   \n",
       "3        1              0              0  ...                  0   \n",
       "4        2              0              0  ...                  0   \n",
       "\n",
       "   trfc_src_PORTAL_2  trfc_src_PORTAL_3  trfc_src_PUSH  trfc_src_WEBSITE  \\\n",
       "0                  0                  0              0                 0   \n",
       "1                  0                  0              0                 0   \n",
       "2                  0                  0              0                 0   \n",
       "3                  0                  0              0                 0   \n",
       "4                  0                  0              0                 0   \n",
       "\n",
       "   trfc_src_unknown  dvc_ctg_nm_mobile_app  dvc_ctg_nm_mobile_web  \\\n",
       "0                 1                      1                      0   \n",
       "1                 1                      1                      0   \n",
       "2                 1                      1                      0   \n",
       "3                 1                      1                      0   \n",
       "4                 1                      1                      0   \n",
       "\n",
       "   dvc_ctg_nm_unknown  unique_id  \n",
       "0                   0        1_1  \n",
       "1                   0        1_1  \n",
       "2                   0        1_1  \n",
       "3                   0        1_2  \n",
       "4                   0        1_2  \n",
       "\n",
       "[5 rows x 29 columns]"
      ]
     },
     "execution_count": 14,
     "metadata": {},
     "output_type": "execute_result"
    }
   ],
   "source": [
    "온라인 = 온라인[['clnt_id', 'sess_id', 'trans_id', 'hit_seq', 'hit_pss_tm', 'time_length', 'holiday_diff', 'keyword',\n",
    "                'action_type_1', 'action_type_2', 'action_type_3','action_type_4', 'action_type_5', 'action_type_6', 'action_type_7',\n",
    "                'biz_unit_A02', 'biz_unit_A03', 'sess_dt_201908', 'sess_dt_201909', \n",
    "                'trfc_src_PORTAL_1', 'trfc_src_PORTAL_2', 'trfc_src_PORTAL_3', 'trfc_src_PUSH', 'trfc_src_WEBSITE', 'trfc_src_unknown', \n",
    "                'dvc_ctg_nm_mobile_app','dvc_ctg_nm_mobile_web', 'dvc_ctg_nm_unknown', 'unique_id']]\n",
    "print(온라인.shape)\n",
    "온라인.head()"
   ]
  },
  {
   "cell_type": "code",
   "execution_count": 15,
   "metadata": {},
   "outputs": [],
   "source": [
    "# 저장하고 가자\n",
    "온라인.to_csv('온라인_전처리_final.csv', index=False)"
   ]
  },
  {
   "cell_type": "code",
   "execution_count": 2,
   "metadata": {},
   "outputs": [],
   "source": [
    "# 저장한 것 불러와\n",
    "import pandas as pd\n",
    "\n",
    "온라인 = pd.read_csv('온라인_전처리_final.csv')"
   ]
  },
  {
   "cell_type": "code",
   "execution_count": 3,
   "metadata": {},
   "outputs": [
    {
     "name": "stdout",
     "output_type": "stream",
     "text": [
      "(3196362, 29)\n"
     ]
    },
    {
     "data": {
      "text/html": [
       "<div>\n",
       "<style scoped>\n",
       "    .dataframe tbody tr th:only-of-type {\n",
       "        vertical-align: middle;\n",
       "    }\n",
       "\n",
       "    .dataframe tbody tr th {\n",
       "        vertical-align: top;\n",
       "    }\n",
       "\n",
       "    .dataframe thead th {\n",
       "        text-align: right;\n",
       "    }\n",
       "</style>\n",
       "<table border=\"1\" class=\"dataframe\">\n",
       "  <thead>\n",
       "    <tr style=\"text-align: right;\">\n",
       "      <th></th>\n",
       "      <th>clnt_id</th>\n",
       "      <th>sess_id</th>\n",
       "      <th>trans_id</th>\n",
       "      <th>hit_seq</th>\n",
       "      <th>hit_pss_tm</th>\n",
       "      <th>time_length</th>\n",
       "      <th>holiday_diff</th>\n",
       "      <th>keyword</th>\n",
       "      <th>action_type_1</th>\n",
       "      <th>action_type_2</th>\n",
       "      <th>...</th>\n",
       "      <th>trfc_src_PORTAL_2</th>\n",
       "      <th>trfc_src_PORTAL_3</th>\n",
       "      <th>trfc_src_PUSH</th>\n",
       "      <th>trfc_src_WEBSITE</th>\n",
       "      <th>trfc_src_unknown</th>\n",
       "      <th>dvc_ctg_nm_mobile_app</th>\n",
       "      <th>dvc_ctg_nm_mobile_web</th>\n",
       "      <th>dvc_ctg_nm_unknown</th>\n",
       "      <th>unique_id</th>\n",
       "      <th>buy</th>\n",
       "    </tr>\n",
       "  </thead>\n",
       "  <tbody>\n",
       "    <tr>\n",
       "      <td>0</td>\n",
       "      <td>1</td>\n",
       "      <td>1</td>\n",
       "      <td>NaN</td>\n",
       "      <td>1</td>\n",
       "      <td>12.0</td>\n",
       "      <td>11.0</td>\n",
       "      <td>0</td>\n",
       "      <td>1</td>\n",
       "      <td>0</td>\n",
       "      <td>0</td>\n",
       "      <td>...</td>\n",
       "      <td>0</td>\n",
       "      <td>0</td>\n",
       "      <td>0</td>\n",
       "      <td>0</td>\n",
       "      <td>1</td>\n",
       "      <td>1</td>\n",
       "      <td>0</td>\n",
       "      <td>0</td>\n",
       "      <td>1_1</td>\n",
       "      <td>0</td>\n",
       "    </tr>\n",
       "    <tr>\n",
       "      <td>1</td>\n",
       "      <td>1</td>\n",
       "      <td>1</td>\n",
       "      <td>NaN</td>\n",
       "      <td>2</td>\n",
       "      <td>23.0</td>\n",
       "      <td>14.0</td>\n",
       "      <td>0</td>\n",
       "      <td>2</td>\n",
       "      <td>0</td>\n",
       "      <td>0</td>\n",
       "      <td>...</td>\n",
       "      <td>0</td>\n",
       "      <td>0</td>\n",
       "      <td>0</td>\n",
       "      <td>0</td>\n",
       "      <td>1</td>\n",
       "      <td>1</td>\n",
       "      <td>0</td>\n",
       "      <td>0</td>\n",
       "      <td>1_1</td>\n",
       "      <td>0</td>\n",
       "    </tr>\n",
       "    <tr>\n",
       "      <td>2</td>\n",
       "      <td>1</td>\n",
       "      <td>1</td>\n",
       "      <td>NaN</td>\n",
       "      <td>3</td>\n",
       "      <td>37.0</td>\n",
       "      <td>14.0</td>\n",
       "      <td>0</td>\n",
       "      <td>3</td>\n",
       "      <td>0</td>\n",
       "      <td>0</td>\n",
       "      <td>...</td>\n",
       "      <td>0</td>\n",
       "      <td>0</td>\n",
       "      <td>0</td>\n",
       "      <td>0</td>\n",
       "      <td>1</td>\n",
       "      <td>1</td>\n",
       "      <td>0</td>\n",
       "      <td>0</td>\n",
       "      <td>1_1</td>\n",
       "      <td>0</td>\n",
       "    </tr>\n",
       "    <tr>\n",
       "      <td>3</td>\n",
       "      <td>1</td>\n",
       "      <td>2</td>\n",
       "      <td>NaN</td>\n",
       "      <td>1</td>\n",
       "      <td>42.0</td>\n",
       "      <td>15.0</td>\n",
       "      <td>1</td>\n",
       "      <td>1</td>\n",
       "      <td>0</td>\n",
       "      <td>0</td>\n",
       "      <td>...</td>\n",
       "      <td>0</td>\n",
       "      <td>0</td>\n",
       "      <td>0</td>\n",
       "      <td>0</td>\n",
       "      <td>1</td>\n",
       "      <td>1</td>\n",
       "      <td>0</td>\n",
       "      <td>0</td>\n",
       "      <td>1_2</td>\n",
       "      <td>0</td>\n",
       "    </tr>\n",
       "    <tr>\n",
       "      <td>4</td>\n",
       "      <td>1</td>\n",
       "      <td>2</td>\n",
       "      <td>NaN</td>\n",
       "      <td>2</td>\n",
       "      <td>57.0</td>\n",
       "      <td>14.0</td>\n",
       "      <td>1</td>\n",
       "      <td>2</td>\n",
       "      <td>0</td>\n",
       "      <td>0</td>\n",
       "      <td>...</td>\n",
       "      <td>0</td>\n",
       "      <td>0</td>\n",
       "      <td>0</td>\n",
       "      <td>0</td>\n",
       "      <td>1</td>\n",
       "      <td>1</td>\n",
       "      <td>0</td>\n",
       "      <td>0</td>\n",
       "      <td>1_2</td>\n",
       "      <td>0</td>\n",
       "    </tr>\n",
       "  </tbody>\n",
       "</table>\n",
       "<p>5 rows × 29 columns</p>\n",
       "</div>"
      ],
      "text/plain": [
       "   clnt_id  sess_id  trans_id  hit_seq  hit_pss_tm  time_length  holiday_diff  \\\n",
       "0        1        1       NaN        1        12.0         11.0             0   \n",
       "1        1        1       NaN        2        23.0         14.0             0   \n",
       "2        1        1       NaN        3        37.0         14.0             0   \n",
       "3        1        2       NaN        1        42.0         15.0             1   \n",
       "4        1        2       NaN        2        57.0         14.0             1   \n",
       "\n",
       "   keyword  action_type_1  action_type_2  ...  trfc_src_PORTAL_2  \\\n",
       "0        1              0              0  ...                  0   \n",
       "1        2              0              0  ...                  0   \n",
       "2        3              0              0  ...                  0   \n",
       "3        1              0              0  ...                  0   \n",
       "4        2              0              0  ...                  0   \n",
       "\n",
       "   trfc_src_PORTAL_3  trfc_src_PUSH  trfc_src_WEBSITE  trfc_src_unknown  \\\n",
       "0                  0              0                 0                 1   \n",
       "1                  0              0                 0                 1   \n",
       "2                  0              0                 0                 1   \n",
       "3                  0              0                 0                 1   \n",
       "4                  0              0                 0                 1   \n",
       "\n",
       "   dvc_ctg_nm_mobile_app  dvc_ctg_nm_mobile_web  dvc_ctg_nm_unknown  \\\n",
       "0                      1                      0                   0   \n",
       "1                      1                      0                   0   \n",
       "2                      1                      0                   0   \n",
       "3                      1                      0                   0   \n",
       "4                      1                      0                   0   \n",
       "\n",
       "   unique_id  buy  \n",
       "0        1_1    0  \n",
       "1        1_1    0  \n",
       "2        1_1    0  \n",
       "3        1_2    0  \n",
       "4        1_2    0  \n",
       "\n",
       "[5 rows x 29 columns]"
      ]
     },
     "execution_count": 3,
     "metadata": {},
     "output_type": "execute_result"
    }
   ],
   "source": [
    "# 각 hit_seq 당 action_type이 구매완료=1, 이외=0\n",
    "온라인['buy'] = 온라인['action_type_6']\n",
    "온라인 = 온라인.drop('action_type_6', axis=1)\n",
    "print(온라인.shape)\n",
    "온라인.head()"
   ]
  },
  {
   "cell_type": "markdown",
   "metadata": {},
   "source": [
    "# <br>\n",
    "# 모델링"
   ]
  },
  {
   "cell_type": "code",
   "execution_count": 4,
   "metadata": {},
   "outputs": [
    {
     "name": "stderr",
     "output_type": "stream",
     "text": [
      "Using TensorFlow backend.\n"
     ]
    }
   ],
   "source": [
    "import tensorflow as tf\n",
    "from sklearn.preprocessing import LabelEncoder\n",
    "from keras.models import Sequential\n",
    "from keras.layers import Dense\n",
    "from keras.layers import LSTM\n",
    "from keras.layers import Conv1D, MaxPooling1D\n",
    "from keras.optimizers import RMSprop\n",
    "from sklearn.model_selection import train_test_split\n",
    "from keras.preprocessing import sequence\n",
    "from keras.layers.embeddings import Embedding\n",
    "from keras.layers import Dropout\n",
    "from keras.layers import Masking\n",
    "from imblearn.over_sampling import SMOTE, ADASYN\n",
    "from imblearn.over_sampling import RandomOverSampler\n",
    "from keras.utils import to_categorical"
   ]
  },
  {
   "cell_type": "code",
   "execution_count": 5,
   "metadata": {},
   "outputs": [],
   "source": [
    "from keras import backend as K\n",
    "\n",
    "def recall_m(y_true, y_pred):\n",
    "        true_positives = K.sum(K.round(K.clip(y_true * y_pred, 0, 1)))\n",
    "        possible_positives = K.sum(K.round(K.clip(y_true, 0, 1)))\n",
    "        recall = true_positives / (possible_positives + K.epsilon())\n",
    "        return recall\n",
    "\n",
    "def precision_m(y_true, y_pred):\n",
    "        true_positives = K.sum(K.round(K.clip(y_true * y_pred, 0, 1)))\n",
    "        predicted_positives = K.sum(K.round(K.clip(y_pred, 0, 1)))\n",
    "        precision = true_positives / (predicted_positives + K.epsilon())\n",
    "        return precision\n",
    "\n",
    "def f1_m(y_true, y_pred):\n",
    "    precision = precision_m(y_true, y_pred)\n",
    "    recall = recall_m(y_true, y_pred)\n",
    "    return 2*((precision*recall)/(precision+recall+K.epsilon()))"
   ]
  },
  {
   "cell_type": "code",
   "execution_count": 6,
   "metadata": {},
   "outputs": [],
   "source": [
    "def make_padding_and_oversample(X, Y, length=70):\n",
    "    max_len = length #np.percentile(pd.Series(idx),99)\n",
    "    X_padding = sequence.pad_sequences(X, maxlen=max_len, padding='pre', truncating='post')\n",
    "    X_padding2 = X_padding.reshape(X.shape[0], max_len* X_padding.shape[2])\n",
    "\n",
    "    smote = SMOTE(random_state=0)\n",
    "    X_resampled, Y_resampled = smote.fit_resample(X_padding2, Y)\n",
    "    X_resampled = X_resampled.reshape(X_resampled.shape[0], max_len, X_padding.shape[2])\n",
    "    return X_padding, X_resampled, Y_resampled"
   ]
  },
  {
   "cell_type": "markdown",
   "metadata": {},
   "source": [
    "## 각 session의 첫번째 구매완료 이전까지 data만 사용"
   ]
  },
  {
   "cell_type": "code",
   "execution_count": 7,
   "metadata": {},
   "outputs": [
    {
     "data": {
      "text/plain": [
       "0     319742\n",
       "1      40869\n",
       "2       5104\n",
       "3       1007\n",
       "4        262\n",
       "5         86\n",
       "6         38\n",
       "7         10\n",
       "8          6\n",
       "10         6\n",
       "9          4\n",
       "11         4\n",
       "12         3\n",
       "17         3\n",
       "21         2\n",
       "15         1\n",
       "18         1\n",
       "25         1\n",
       "Name: buy, dtype: int64"
      ]
     },
     "execution_count": 7,
     "metadata": {},
     "output_type": "execute_result"
    }
   ],
   "source": [
    "# 고객별 세션당 구매 횟수: 0~25까지 다양함\n",
    "# 우선 첫번째 구매를 기준으로 자름\n",
    "온라인.groupby('unique_id').buy.sum().value_counts()"
   ]
  },
  {
   "cell_type": "code",
   "execution_count": 10,
   "metadata": {},
   "outputs": [
    {
     "data": {
      "application/vnd.jupyter.widget-view+json": {
       "model_id": "c51d5f0f5cf64af6a7f08932c3f9f12b",
       "version_major": 2,
       "version_minor": 0
      },
      "text/plain": [
       "HBox(children=(IntProgress(value=0, max=367149), HTML(value='')))"
      ]
     },
     "metadata": {},
     "output_type": "display_data"
    },
    {
     "name": "stdout",
     "output_type": "stream",
     "text": [
      "\n"
     ]
    }
   ],
   "source": [
    "idx3 = []\n",
    "for i, j in tqdm_notebook(zip(idx1, idx2), total=len(idx1)):\n",
    "    temp = 온라인.buy.iloc[i:j]\n",
    "    try:\n",
    "        idx3.append(temp[temp == 1].index[0])\n",
    "    except:\n",
    "        idx3.append(j)"
   ]
  },
  {
   "cell_type": "code",
   "execution_count": 11,
   "metadata": {},
   "outputs": [
    {
     "data": {
      "application/vnd.jupyter.widget-view+json": {
       "model_id": "59a7eafd2e0c43e4aa9cc6cf62add1c6",
       "version_major": 2,
       "version_minor": 0
      },
      "text/plain": [
       "HBox(children=(IntProgress(value=0, max=367149), HTML(value='')))"
      ]
     },
     "metadata": {},
     "output_type": "display_data"
    },
    {
     "name": "stdout",
     "output_type": "stream",
     "text": [
      "\n"
     ]
    }
   ],
   "source": [
    "# (session, sequence, variables) 3d array 변환\n",
    "# 3d array는 머신 러닝 모델에 적합하지 않음으로, 추후 1d array로 다시 변환할 것\n",
    "# 1d array에서는 sequence number('hit_seq')가 의미 없으므로, 이름 제외하고 hit_pss_time부터 input으로 사용\n",
    "온라인_x = []\n",
    "for i, j in tqdm_notebook(zip(idx1, idx3), total=len(idx1)):\n",
    "    온라인_x.append(온라인.iloc[i:j, 4:-2].values)\n",
    "    \n",
    "#scaler = StandardScaler() \n",
    "#scaler = MinMaxScaler(feature_range=(0, 1))\n",
    "#온라인_x = scaler.fit_transform(np.array(온라인_x))\n",
    "온라인_x = np.array(온라인_x)"
   ]
  },
  {
   "cell_type": "code",
   "execution_count": 12,
   "metadata": {},
   "outputs": [
    {
     "data": {
      "application/vnd.jupyter.widget-view+json": {
       "model_id": "93b2d7886ad14981bb2dc472a81e08d6",
       "version_major": 2,
       "version_minor": 0
      },
      "text/plain": [
       "HBox(children=(IntProgress(value=0, max=367149), HTML(value='')))"
      ]
     },
     "metadata": {},
     "output_type": "display_data"
    },
    {
     "name": "stdout",
     "output_type": "stream",
     "text": [
      "\n"
     ]
    }
   ],
   "source": [
    "# session 당 구매 여부\n",
    "온라인_y = []\n",
    "for i,j in tqdm_notebook(zip(idx1,idx2), total=len(idx1)):\n",
    "    온라인_y.append([int(온라인.buy.iloc[i:j].sum()>0)])"
   ]
  },
  {
   "cell_type": "code",
   "execution_count": 39,
   "metadata": {},
   "outputs": [
    {
     "data": {
      "text/plain": [
       "[0]    87.087804\n",
       "[1]    12.912196\n",
       "dtype: float64"
      ]
     },
     "execution_count": 39,
     "metadata": {},
     "output_type": "execute_result"
    }
   ],
   "source": [
    "# 구매완료한 session이 전체의 약 13%\n",
    "pd.Series(온라인_y).value_counts()*100/온라인.unique_id.nunique()"
   ]
  },
  {
   "cell_type": "code",
   "execution_count": 40,
   "metadata": {},
   "outputs": [
    {
     "data": {
      "text/plain": [
       "75.0"
      ]
     },
     "execution_count": 40,
     "metadata": {},
     "output_type": "execute_result"
    }
   ],
   "source": [
    "idx = list(pd.Series(idx2) - pd.Series(idx1))\n",
    "np.percentile(pd.Series(idx),99)"
   ]
  },
  {
   "cell_type": "code",
   "execution_count": 41,
   "metadata": {},
   "outputs": [
    {
     "data": {
      "text/plain": [
       "70.0"
      ]
     },
     "execution_count": 41,
     "metadata": {},
     "output_type": "execute_result"
    }
   ],
   "source": [
    "idx = list(pd.Series(idx3) - pd.Series(idx1))\n",
    "np.percentile(pd.Series(idx),99)"
   ]
  },
  {
   "cell_type": "code",
   "execution_count": 42,
   "metadata": {},
   "outputs": [],
   "source": [
    "X_padded, X_resampled, Y_resampled = make_padding_and_oversample(온라인_x, 온라인_y, length=70)\n",
    "X_train, X_test, y_train, y_test = train_test_split(X_resampled, Y_resampled, test_size=0.3, random_state=42)"
   ]
  },
  {
   "cell_type": "code",
   "execution_count": 44,
   "metadata": {},
   "outputs": [
    {
     "data": {
      "text/plain": [
       "((447638, 70, 23), (191846, 70, 23))"
      ]
     },
     "execution_count": 44,
     "metadata": {},
     "output_type": "execute_result"
    }
   ],
   "source": [
    "X_train.shape, X_test.shape"
   ]
  },
  {
   "cell_type": "code",
   "execution_count": 62,
   "metadata": {},
   "outputs": [],
   "source": [
    "X_train_1d = X_train.reshape((447638,-1))\n",
    "X_test_1d = X_test.reshape((191846,-1))"
   ]
  },
  {
   "cell_type": "markdown",
   "metadata": {},
   "source": [
    "### Gaussian Naive Bayes"
   ]
  },
  {
   "cell_type": "code",
   "execution_count": 64,
   "metadata": {},
   "outputs": [],
   "source": [
    "from sklearn.naive_bayes import GaussianNB\n",
    "\n",
    "clf = GaussianNB()\n",
    "clf.fit(X_train_1d, y_train)\n",
    "y_pred = clf.predict(X_test_1d)"
   ]
  },
  {
   "cell_type": "code",
   "execution_count": 67,
   "metadata": {},
   "outputs": [
    {
     "name": "stdout",
     "output_type": "stream",
     "text": [
      "Accuracy: 0.63\n",
      "F1 score: 0.45\n",
      "Precision: 0.87\n",
      "Recall: 0.30\n"
     ]
    }
   ],
   "source": [
    "from sklearn.metrics import accuracy_score, f1_score, precision_score, recall_score\n",
    "\n",
    "print('Accuracy: %.2f' % accuracy_score(y_test, y_pred))\n",
    "print('F1 score: %.2f' % f1_score(y_test, y_pred))\n",
    "print('Precision: %.2f' % precision_score(y_test, y_pred))\n",
    "print('Recall: %.2f' % recall_score(y_test, y_pred))"
   ]
  },
  {
   "cell_type": "markdown",
   "metadata": {},
   "source": [
    "### KNN Classification"
   ]
  },
  {
   "cell_type": "code",
   "execution_count": 68,
   "metadata": {},
   "outputs": [],
   "source": [
    "from sklearn.neighbors import KNeighborsClassifier\n",
    "\n",
    "clf = KNeighborsClassifier()\n",
    "clf.fit(X_train_1d, y_train)\n",
    "y_pred = clf.predict(X_test_1d)"
   ]
  },
  {
   "cell_type": "code",
   "execution_count": 69,
   "metadata": {},
   "outputs": [
    {
     "name": "stdout",
     "output_type": "stream",
     "text": [
      "Accuracy: 0.93\n",
      "F1 score: 0.93\n",
      "Precision: 0.89\n",
      "Recall: 0.99\n"
     ]
    }
   ],
   "source": [
    "from sklearn.metrics import accuracy_score, f1_score, precision_score, recall_score\n",
    "\n",
    "print('Accuracy: %.2f' % accuracy_score(y_test, y_pred))\n",
    "print('F1 score: %.2f' % f1_score(y_test, y_pred))\n",
    "print('Precision: %.2f' % precision_score(y_test, y_pred))\n",
    "print('Recall: %.2f' % recall_score(y_test, y_pred))"
   ]
  },
  {
   "cell_type": "markdown",
   "metadata": {},
   "source": [
    "### Decision Tree Classification"
   ]
  },
  {
   "cell_type": "code",
   "execution_count": 70,
   "metadata": {},
   "outputs": [],
   "source": [
    "from sklearn.tree import DecisionTreeClassifier\n",
    "\n",
    "clf = DecisionTreeClassifier()\n",
    "clf.fit(X_train_1d, y_train)\n",
    "y_pred = clf.predict(X_test_1d)"
   ]
  },
  {
   "cell_type": "code",
   "execution_count": 71,
   "metadata": {},
   "outputs": [
    {
     "name": "stdout",
     "output_type": "stream",
     "text": [
      "Accuracy: 0.98\n",
      "F1 score: 0.98\n",
      "Precision: 0.98\n",
      "Recall: 0.98\n"
     ]
    }
   ],
   "source": [
    "from sklearn.metrics import accuracy_score, f1_score, precision_score, recall_score\n",
    "\n",
    "print('Accuracy: %.2f' % accuracy_score(y_test, y_pred))\n",
    "print('F1 score: %.2f' % f1_score(y_test, y_pred))\n",
    "print('Precision: %.2f' % precision_score(y_test, y_pred))\n",
    "print('Recall: %.2f' % recall_score(y_test, y_pred))"
   ]
  },
  {
   "cell_type": "markdown",
   "metadata": {},
   "source": [
    "## 구매완료 이전의 hit_seq를 버림\n",
    "### 각 sequence length의 0.25-0.75배 random값"
   ]
  },
  {
   "cell_type": "code",
   "execution_count": 13,
   "metadata": {},
   "outputs": [],
   "source": [
    "import random\n",
    "remove_ratio = pd.Series([random.random() for i in range(len(온라인_x))]) + 0.5\n",
    "seq_length = pd.Series(온라인_x).map(lambda x: len(x))\n",
    "remove_seq_length = np.floor(remove_ratio*seq_length)/2 # 각 session에서 버릴 seq 개수"
   ]
  },
  {
   "cell_type": "code",
   "execution_count": 14,
   "metadata": {},
   "outputs": [],
   "source": [
    "온라인_x2 = list(map(lambda x,y: x[:-y] if y !=0 else x, \n",
    "                     pd.Series(온라인_x), \n",
    "                     remove_seq_length.astype(int)))"
   ]
  },
  {
   "cell_type": "code",
   "execution_count": 15,
   "metadata": {},
   "outputs": [
    {
     "data": {
      "text/plain": [
       "38.0"
      ]
     },
     "execution_count": 15,
     "metadata": {},
     "output_type": "execute_result"
    }
   ],
   "source": [
    "seq_length2 = pd.Series(온라인_x2).map(lambda x: len(x))\n",
    "max_len = np.percentile(seq_length2, 99)\n",
    "max_len"
   ]
  },
  {
   "cell_type": "code",
   "execution_count": 16,
   "metadata": {},
   "outputs": [],
   "source": [
    "온라인_x2 = [np.int64(i) for i in 온라인_x2]"
   ]
  },
  {
   "cell_type": "code",
   "execution_count": 17,
   "metadata": {},
   "outputs": [],
   "source": [
    "max_len = int(max_len)"
   ]
  },
  {
   "cell_type": "code",
   "execution_count": 18,
   "metadata": {
    "jupyter": {
     "outputs_hidden": true
    }
   },
   "outputs": [],
   "source": [
    "X_padded, X_resampled, Y_resampled = make_padding_and_oversample(np.array(온라인_x2), 온라인_y, length=max_len)\n",
    "X_train, X_test, y_train, y_test = train_test_split(X_resampled, Y_resampled, test_size=0.3, random_state=42)"
   ]
  },
  {
   "cell_type": "code",
   "execution_count": 19,
   "metadata": {},
   "outputs": [
    {
     "data": {
      "text/plain": [
       "((447638, 38, 23), (191846, 38, 23))"
      ]
     },
     "execution_count": 19,
     "metadata": {},
     "output_type": "execute_result"
    }
   ],
   "source": [
    "X_train.shape, X_test.shape"
   ]
  },
  {
   "cell_type": "code",
   "execution_count": 20,
   "metadata": {},
   "outputs": [],
   "source": [
    "X_train_1d = X_train.reshape((447638,-1))\n",
    "X_test_1d = X_test.reshape((191846,-1))"
   ]
  },
  {
   "cell_type": "markdown",
   "metadata": {},
   "source": [
    "### Gaussian Naive Bayes"
   ]
  },
  {
   "cell_type": "code",
   "execution_count": 88,
   "metadata": {},
   "outputs": [],
   "source": [
    "from sklearn.naive_bayes import GaussianNB\n",
    "\n",
    "clf = GaussianNB()\n",
    "clf.fit(X_train_1d, y_train)\n",
    "y_pred = clf.predict(X_test_1d)"
   ]
  },
  {
   "cell_type": "code",
   "execution_count": 89,
   "metadata": {},
   "outputs": [
    {
     "name": "stdout",
     "output_type": "stream",
     "text": [
      "Accuracy: 0.61\n",
      "F1 score: 0.42\n",
      "Precision: 0.84\n",
      "Recall: 0.28\n"
     ]
    }
   ],
   "source": [
    "from sklearn.metrics import accuracy_score, f1_score, precision_score, recall_score\n",
    "\n",
    "print('Accuracy: %.2f' % accuracy_score(y_test, y_pred))\n",
    "print('F1 score: %.2f' % f1_score(y_test, y_pred))\n",
    "print('Precision: %.2f' % precision_score(y_test, y_pred))\n",
    "print('Recall: %.2f' % recall_score(y_test, y_pred))"
   ]
  },
  {
   "cell_type": "markdown",
   "metadata": {},
   "source": [
    "### KNN Classification"
   ]
  },
  {
   "cell_type": "code",
   "execution_count": 21,
   "metadata": {},
   "outputs": [],
   "source": [
    "from sklearn.neighbors import KNeighborsClassifier\n",
    "\n",
    "clf = KNeighborsClassifier()\n",
    "clf.fit(X_train_1d, y_train)\n",
    "y_pred = clf.predict(X_test_1d)"
   ]
  },
  {
   "cell_type": "code",
   "execution_count": 22,
   "metadata": {},
   "outputs": [
    {
     "name": "stdout",
     "output_type": "stream",
     "text": [
      "Accuracy: 0.87\n",
      "F1 score: 0.88\n",
      "Precision: 0.80\n",
      "Recall: 0.97\n"
     ]
    }
   ],
   "source": [
    "from sklearn.metrics import accuracy_score, f1_score, precision_score, recall_score\n",
    "\n",
    "print('Accuracy: %.2f' % accuracy_score(y_test, y_pred))\n",
    "print('F1 score: %.2f' % f1_score(y_test, y_pred))\n",
    "print('Precision: %.2f' % precision_score(y_test, y_pred))\n",
    "print('Recall: %.2f' % recall_score(y_test, y_pred))"
   ]
  },
  {
   "cell_type": "markdown",
   "metadata": {},
   "source": [
    "### Decision Tree Classification"
   ]
  },
  {
   "cell_type": "code",
   "execution_count": 23,
   "metadata": {},
   "outputs": [],
   "source": [
    "from sklearn.tree import DecisionTreeClassifier\n",
    "\n",
    "clf = DecisionTreeClassifier()\n",
    "clf.fit(X_train_1d, y_train)\n",
    "y_pred = clf.predict(X_test_1d)"
   ]
  },
  {
   "cell_type": "code",
   "execution_count": 24,
   "metadata": {},
   "outputs": [
    {
     "name": "stdout",
     "output_type": "stream",
     "text": [
      "Accuracy: 0.91\n",
      "F1 score: 0.91\n",
      "Precision: 0.90\n",
      "Recall: 0.92\n"
     ]
    }
   ],
   "source": [
    "from sklearn.metrics import accuracy_score, f1_score, precision_score, recall_score\n",
    "\n",
    "print('Accuracy: %.2f' % accuracy_score(y_test, y_pred))\n",
    "print('F1 score: %.2f' % f1_score(y_test, y_pred))\n",
    "print('Precision: %.2f' % precision_score(y_test, y_pred))\n",
    "print('Recall: %.2f' % recall_score(y_test, y_pred))"
   ]
  },
  {
   "cell_type": "markdown",
   "metadata": {},
   "source": [
    "### 각 sequence length의 0.5-0.75배 random값"
   ]
  },
  {
   "cell_type": "code",
   "execution_count": 25,
   "metadata": {},
   "outputs": [],
   "source": [
    "remove_ratio = pd.Series([random.random() for i in range(len(온라인_x))]) + 2\n",
    "remove_seq_length = np.floor(remove_ratio*seq_length)/4"
   ]
  },
  {
   "cell_type": "code",
   "execution_count": 26,
   "metadata": {},
   "outputs": [],
   "source": [
    "온라인_x2 = list(map(lambda x,y: x[:-y] if y !=0 else x, \n",
    "                     pd.Series(온라인_x), \n",
    "                     remove_seq_length.astype(int)))"
   ]
  },
  {
   "cell_type": "code",
   "execution_count": 27,
   "metadata": {},
   "outputs": [
    {
     "data": {
      "text/plain": [
       "27"
      ]
     },
     "execution_count": 27,
     "metadata": {},
     "output_type": "execute_result"
    }
   ],
   "source": [
    "seq_length2 = pd.Series(온라인_x2).map(lambda x: len(x))\n",
    "max_len = np.percentile(seq_length2,99)\n",
    "max_len = int(max_len)\n",
    "max_len"
   ]
  },
  {
   "cell_type": "code",
   "execution_count": 28,
   "metadata": {},
   "outputs": [
    {
     "data": {
      "text/plain": [
       "(447638, 27, 23)"
      ]
     },
     "execution_count": 28,
     "metadata": {},
     "output_type": "execute_result"
    }
   ],
   "source": [
    "X_padded, X_resampled, Y_resampled = make_padding_and_oversample(np.array(온라인_x2), 온라인_y,length = int(max_len))\n",
    "X_train, X_test, y_train, y_test = train_test_split(X_resampled, Y_resampled, test_size=0.3, random_state=42)"
   ]
  },
  {
   "cell_type": "code",
   "execution_count": 29,
   "metadata": {},
   "outputs": [
    {
     "data": {
      "text/plain": [
       "((447638, 27, 23), (191846, 27, 23))"
      ]
     },
     "execution_count": 29,
     "metadata": {},
     "output_type": "execute_result"
    }
   ],
   "source": [
    "X_train.shape, X_test.shape"
   ]
  },
  {
   "cell_type": "code",
   "execution_count": 30,
   "metadata": {},
   "outputs": [],
   "source": [
    "X_train_1d = X_train.reshape((447638,-1))\n",
    "X_test_1d = X_test.reshape((191846,-1))"
   ]
  },
  {
   "cell_type": "markdown",
   "metadata": {},
   "source": [
    "### Gaussian Naive Bayes"
   ]
  },
  {
   "cell_type": "code",
   "execution_count": 31,
   "metadata": {},
   "outputs": [],
   "source": [
    "from sklearn.naive_bayes import GaussianNB\n",
    "\n",
    "clf = GaussianNB()\n",
    "clf.fit(X_train_1d, y_train)\n",
    "y_pred = clf.predict(X_test_1d)"
   ]
  },
  {
   "cell_type": "code",
   "execution_count": 32,
   "metadata": {},
   "outputs": [
    {
     "name": "stdout",
     "output_type": "stream",
     "text": [
      "Accuracy: 0.63\n",
      "F1 score: 0.45\n",
      "Precision: 0.84\n",
      "Recall: 0.31\n"
     ]
    }
   ],
   "source": [
    "from sklearn.metrics import accuracy_score, f1_score, precision_score, recall_score\n",
    "\n",
    "print('Accuracy: %.2f' % accuracy_score(y_test, y_pred))\n",
    "print('F1 score: %.2f' % f1_score(y_test, y_pred))\n",
    "print('Precision: %.2f' % precision_score(y_test, y_pred))\n",
    "print('Recall: %.2f' % recall_score(y_test, y_pred))"
   ]
  },
  {
   "cell_type": "markdown",
   "metadata": {},
   "source": [
    "### KNN Classification"
   ]
  },
  {
   "cell_type": "code",
   "execution_count": null,
   "metadata": {},
   "outputs": [],
   "source": [
    "from sklearn.neighbors import KNeighborsClassifier\n",
    "\n",
    "clf = KNeighborsClassifier()\n",
    "clf.fit(X_train_1d, y_train)\n",
    "y_pred = clf.predict(X_test_1d)"
   ]
  },
  {
   "cell_type": "code",
   "execution_count": null,
   "metadata": {},
   "outputs": [],
   "source": [
    "from sklearn.metrics import accuracy_score, f1_score, precision_score, recall_score\n",
    "\n",
    "print('Accuracy: %.2f' % accuracy_score(y_test, y_pred))\n",
    "print('F1 score: %.2f' % f1_score(y_test, y_pred))\n",
    "print('Precision: %.2f' % precision_score(y_test, y_pred))\n",
    "print('Recall: %.2f' % recall_score(y_test, y_pred))"
   ]
  },
  {
   "cell_type": "markdown",
   "metadata": {},
   "source": [
    "### Decision Tree Classification"
   ]
  },
  {
   "cell_type": "code",
   "execution_count": null,
   "metadata": {},
   "outputs": [],
   "source": [
    "from sklearn.tree import DecisionTreeClassifier\n",
    "\n",
    "clf = DecisionTreeClassifier()\n",
    "clf.fit(X_train_1d, y_train)\n",
    "y_pred = clf.predict(X_test_1d)"
   ]
  },
  {
   "cell_type": "code",
   "execution_count": null,
   "metadata": {},
   "outputs": [],
   "source": [
    "from sklearn.metrics import accuracy_score, f1_score, precision_score, recall_score\n",
    "\n",
    "print('Accuracy: %.2f' % accuracy_score(y_test, y_pred))\n",
    "print('F1 score: %.2f' % f1_score(y_test, y_pred))\n",
    "print('Precision: %.2f' % precision_score(y_test, y_pred))\n",
    "print('Recall: %.2f' % recall_score(y_test, y_pred))"
   ]
  },
  {
   "cell_type": "markdown",
   "metadata": {},
   "source": [
    "### 각 sequence length의 0.5배 값"
   ]
  },
  {
   "cell_type": "code",
   "execution_count": null,
   "metadata": {},
   "outputs": [],
   "source": [
    "remove_seq_length = np.floor(0.5*seq_length)\n",
    "온라인_x2 = list(map(lambda x,y: x[:-y] if y !=0 else x, \n",
    "                     pd.Series(온라인_x), \n",
    "                     remove_seq_length.astype(int)))\n",
    "seq_length2 = pd.Series(온라인_x2).map(lambda x: len(x))\n",
    "max_len = np.percentile(seq_length2,99)\n",
    "max_len = int(max_len)\n",
    "max_len"
   ]
  },
  {
   "cell_type": "code",
   "execution_count": null,
   "metadata": {},
   "outputs": [],
   "source": [
    "X_padded, X_resampled, Y_resampled = make_padding_and_oversample(np.array(온라인_x2), 온라인_y, length= int(max_len))\n",
    "X_train, X_test, y_train, y_test = train_test_split(X_resampled, Y_resampled, test_size=0.3, random_state=42)"
   ]
  },
  {
   "cell_type": "code",
   "execution_count": null,
   "metadata": {},
   "outputs": [],
   "source": [
    "X_train_1d = X_train.reshape((447638,-1))\n",
    "X_test_1d = X_test.reshape((191846,-1))"
   ]
  },
  {
   "cell_type": "markdown",
   "metadata": {},
   "source": [
    "### Gaussian Naive Bayes"
   ]
  },
  {
   "cell_type": "code",
   "execution_count": null,
   "metadata": {},
   "outputs": [],
   "source": [
    "from sklearn.naive_bayes import GaussianNB\n",
    "\n",
    "clf = GaussianNB()\n",
    "clf.fit(X_train_1d, y_train)\n",
    "y_pred = clf.predict(X_test_1d)"
   ]
  },
  {
   "cell_type": "code",
   "execution_count": null,
   "metadata": {},
   "outputs": [],
   "source": [
    "from sklearn.metrics import accuracy_score, f1_score, precision_score, recall_score\n",
    "\n",
    "print('Accuracy: %.2f' % accuracy_score(y_test, y_pred))\n",
    "print('F1 score: %.2f' % f1_score(y_test, y_pred))\n",
    "print('Precision: %.2f' % precision_score(y_test, y_pred))\n",
    "print('Recall: %.2f' % recall_score(y_test, y_pred))"
   ]
  },
  {
   "cell_type": "markdown",
   "metadata": {},
   "source": [
    "### KNN Classification"
   ]
  },
  {
   "cell_type": "code",
   "execution_count": null,
   "metadata": {},
   "outputs": [],
   "source": [
    "from sklearn.neighbors import KNeighborsClassifier\n",
    "\n",
    "clf = KNeighborsClassifier()\n",
    "clf.fit(X_train_1d, y_train)\n",
    "y_pred = clf.predict(X_test_1d)"
   ]
  },
  {
   "cell_type": "code",
   "execution_count": null,
   "metadata": {},
   "outputs": [],
   "source": [
    "from sklearn.metrics import accuracy_score, f1_score, precision_score, recall_score\n",
    "\n",
    "print('Accuracy: %.2f' % accuracy_score(y_test, y_pred))\n",
    "print('F1 score: %.2f' % f1_score(y_test, y_pred))\n",
    "print('Precision: %.2f' % precision_score(y_test, y_pred))\n",
    "print('Recall: %.2f' % recall_score(y_test, y_pred))"
   ]
  },
  {
   "cell_type": "markdown",
   "metadata": {},
   "source": [
    "### Decision Tree Classification"
   ]
  },
  {
   "cell_type": "code",
   "execution_count": null,
   "metadata": {},
   "outputs": [],
   "source": [
    "from sklearn.tree import DecisionTreeClassifier\n",
    "\n",
    "clf = DecisionTreeClassifier()\n",
    "clf.fit(X_train_1d, y_train)\n",
    "y_pred = clf.predict(X_test_1d)"
   ]
  },
  {
   "cell_type": "code",
   "execution_count": null,
   "metadata": {},
   "outputs": [],
   "source": [
    "from sklearn.metrics import accuracy_score, f1_score, precision_score, recall_score\n",
    "\n",
    "print('Accuracy: %.2f' % accuracy_score(y_test, y_pred))\n",
    "print('F1 score: %.2f' % f1_score(y_test, y_pred))\n",
    "print('Precision: %.2f' % precision_score(y_test, y_pred))\n",
    "print('Recall: %.2f' % recall_score(y_test, y_pred))"
   ]
  },
  {
   "cell_type": "markdown",
   "metadata": {},
   "source": [
    "# Conv1D + LSTM"
   ]
  },
  {
   "cell_type": "code",
   "execution_count": 226,
   "metadata": {},
   "outputs": [
    {
     "name": "stdout",
     "output_type": "stream",
     "text": [
      "WARNING:tensorflow:From C:\\ProgramData\\Anaconda3\\lib\\site-packages\\keras\\backend\\tensorflow_backend.py:4070: The name tf.nn.max_pool is deprecated. Please use tf.nn.max_pool2d instead.\n",
      "\n"
     ]
    }
   ],
   "source": [
    "model = Sequential()\n",
    "#model.add(Masking(mask_value=0., input_shape=(X_train.shape[1], X_train.shape[2])))\n",
    "model.add(Conv1D(64, 5, activation='relu', input_shape=(X_train.shape[1], X_train.shape[2])))\n",
    "model.add(MaxPooling1D(3))\n",
    "model.add(Conv1D(64, 5, activation='relu'))\n",
    "model.add(LSTM(32, dropout=0.2, recurrent_dropout=0.5))\n",
    "model.add(Dense(16, activation= 'relu'))\n",
    "model.add(Dense(1, activation='sigmoid'))\n",
    "model.compile(loss='binary_crossentropy', optimizer=RMSprop(lr= 0.001, rho = 0.9), metrics=['acc',f1_m,precision_m, recall_m])\n",
    "#print(model.summary())"
   ]
  },
  {
   "cell_type": "code",
   "execution_count": 227,
   "metadata": {
    "scrolled": true
   },
   "outputs": [
    {
     "name": "stdout",
     "output_type": "stream",
     "text": [
      "Train on 447638 samples, validate on 191846 samples\n",
      "Epoch 1/25\n",
      "447638/447638 [==============================] - 12s 27us/step - loss: 0.5528 - acc: 0.7195 - f1_m: 0.6860 - precision_m: 0.7819 - recall_m: 0.6181 - val_loss: 0.5134 - val_acc: 0.7414 - val_f1_m: 0.7363 - val_precision_m: 0.7504 - val_recall_m: 0.7230\n",
      "Epoch 2/25\n",
      "447638/447638 [==============================] - 10s 21us/step - loss: 0.4706 - acc: 0.7698 - f1_m: 0.7341 - precision_m: 0.8707 - recall_m: 0.6410 - val_loss: 0.5054 - val_acc: 0.7399 - val_f1_m: 0.6610 - val_precision_m: 0.9472 - val_recall_m: 0.5080\n",
      "Epoch 3/25\n",
      "447638/447638 [==============================] - 10s 21us/step - loss: 0.4452 - acc: 0.7825 - f1_m: 0.7454 - precision_m: 0.8976 - recall_m: 0.6424 - val_loss: 0.4188 - val_acc: 0.7970 - val_f1_m: 0.7622 - val_precision_m: 0.9184 - val_recall_m: 0.6518\n",
      "Epoch 4/25\n",
      "447638/447638 [==============================] - 9s 21us/step - loss: 0.4322 - acc: 0.7883 - f1_m: 0.7516 - precision_m: 0.9082 - recall_m: 0.6455 - val_loss: 0.4138 - val_acc: 0.7974 - val_f1_m: 0.7731 - val_precision_m: 0.8775 - val_recall_m: 0.6912\n",
      "Epoch 5/25\n",
      "447638/447638 [==============================] - 9s 21us/step - loss: 0.4239 - acc: 0.7921 - f1_m: 0.7561 - precision_m: 0.9128 - recall_m: 0.6490 - val_loss: 0.4020 - val_acc: 0.8044 - val_f1_m: 0.7711 - val_precision_m: 0.9283 - val_recall_m: 0.6598\n",
      "Epoch 6/25\n",
      "447638/447638 [==============================] - 9s 21us/step - loss: 0.4179 - acc: 0.7950 - f1_m: 0.7600 - precision_m: 0.9160 - recall_m: 0.6526 - val_loss: 0.5353 - val_acc: 0.7149 - val_f1_m: 0.6047 - val_precision_m: 0.9840 - val_recall_m: 0.4368\n",
      "Epoch 7/25\n",
      "447638/447638 [==============================] - 9s 21us/step - loss: 0.4130 - acc: 0.7968 - f1_m: 0.7618 - precision_m: 0.9192 - recall_m: 0.6530 - val_loss: 0.3988 - val_acc: 0.8042 - val_f1_m: 0.7705 - val_precision_m: 0.9291 - val_recall_m: 0.6585\n",
      "Epoch 8/25\n",
      "447638/447638 [==============================] - 10s 21us/step - loss: 0.4099 - acc: 0.7985 - f1_m: 0.7642 - precision_m: 0.9196 - recall_m: 0.6564 - val_loss: 0.3995 - val_acc: 0.8047 - val_f1_m: 0.7778 - val_precision_m: 0.9010 - val_recall_m: 0.6846\n",
      "Epoch 9/25\n",
      "447638/447638 [==============================] - 9s 21us/step - loss: 0.4069 - acc: 0.7998 - f1_m: 0.7659 - precision_m: 0.9213 - recall_m: 0.6577 - val_loss: 0.4075 - val_acc: 0.7977 - val_f1_m: 0.7559 - val_precision_m: 0.9511 - val_recall_m: 0.6275\n",
      "Epoch 10/25\n",
      "447638/447638 [==============================] - 9s 21us/step - loss: 0.4044 - acc: 0.8009 - f1_m: 0.7669 - precision_m: 0.9232 - recall_m: 0.6582 - val_loss: 0.3928 - val_acc: 0.8065 - val_f1_m: 0.7719 - val_precision_m: 0.9381 - val_recall_m: 0.6562\n",
      "Epoch 11/25\n",
      "447638/447638 [==============================] - 10s 21us/step - loss: 0.4024 - acc: 0.8020 - f1_m: 0.7681 - precision_m: 0.9257 - recall_m: 0.6584 - val_loss: 0.3958 - val_acc: 0.8066 - val_f1_m: 0.7757 - val_precision_m: 0.9217 - val_recall_m: 0.6700\n",
      "Epoch 12/25\n",
      "447638/447638 [==============================] - 10s 21us/step - loss: 0.4008 - acc: 0.8028 - f1_m: 0.7696 - precision_m: 0.9246 - recall_m: 0.6612 - val_loss: 0.4090 - val_acc: 0.7980 - val_f1_m: 0.7565 - val_precision_m: 0.9504 - val_recall_m: 0.6286\n",
      "Epoch 13/25\n",
      "447638/447638 [==============================] - 10s 21us/step - loss: 0.3986 - acc: 0.8039 - f1_m: 0.7711 - precision_m: 0.9257 - recall_m: 0.6624 - val_loss: 0.3898 - val_acc: 0.8084 - val_f1_m: 0.7760 - val_precision_m: 0.9321 - val_recall_m: 0.6651\n",
      "Epoch 14/25\n",
      "447638/447638 [==============================] - 10s 21us/step - loss: 0.3979 - acc: 0.8045 - f1_m: 0.7715 - precision_m: 0.9272 - recall_m: 0.6623 - val_loss: 0.3896 - val_acc: 0.8072 - val_f1_m: 0.7729 - val_precision_m: 0.9385 - val_recall_m: 0.6573\n",
      "Epoch 15/25\n",
      "447638/447638 [==============================] - 9s 21us/step - loss: 0.3971 - acc: 0.8048 - f1_m: 0.7725 - precision_m: 0.9252 - recall_m: 0.6646 - val_loss: 0.4106 - val_acc: 0.7975 - val_f1_m: 0.7523 - val_precision_m: 0.9668 - val_recall_m: 0.6161\n",
      "Epoch 16/25\n",
      "447638/447638 [==============================] - 9s 21us/step - loss: 0.3963 - acc: 0.8051 - f1_m: 0.7729 - precision_m: 0.9249 - recall_m: 0.6654 - val_loss: 0.3900 - val_acc: 0.8091 - val_f1_m: 0.7783 - val_precision_m: 0.9267 - val_recall_m: 0.6712\n",
      "Epoch 17/25\n",
      "447638/447638 [==============================] - 10s 21us/step - loss: 0.3949 - acc: 0.8059 - f1_m: 0.7739 - precision_m: 0.9258 - recall_m: 0.6662 - val_loss: 0.3916 - val_acc: 0.8066 - val_f1_m: 0.7752 - val_precision_m: 0.9242 - val_recall_m: 0.6679\n",
      "Epoch 18/25\n",
      "447638/447638 [==============================] - 9s 21us/step - loss: 0.3954 - acc: 0.8058 - f1_m: 0.7737 - precision_m: 0.9259 - recall_m: 0.6659 - val_loss: 0.3898 - val_acc: 0.8080 - val_f1_m: 0.7767 - val_precision_m: 0.9262 - val_recall_m: 0.6692\n",
      "Epoch 19/25\n",
      "447638/447638 [==============================] - 9s 21us/step - loss: 0.3943 - acc: 0.8064 - f1_m: 0.7745 - precision_m: 0.9263 - recall_m: 0.6667 - val_loss: 0.3906 - val_acc: 0.8073 - val_f1_m: 0.7739 - val_precision_m: 0.9348 - val_recall_m: 0.6606\n",
      "Epoch 20/25\n",
      "447638/447638 [==============================] - 9s 21us/step - loss: 0.3936 - acc: 0.8069 - f1_m: 0.7750 - precision_m: 0.9278 - recall_m: 0.6665 - val_loss: 0.4243 - val_acc: 0.7888 - val_f1_m: 0.7387 - val_precision_m: 0.9663 - val_recall_m: 0.5983\n",
      "Epoch 21/25\n",
      "447638/447638 [==============================] - 9s 21us/step - loss: 0.3940 - acc: 0.8064 - f1_m: 0.7747 - precision_m: 0.9259 - recall_m: 0.6671 - val_loss: 0.4363 - val_acc: 0.7997 - val_f1_m: 0.7751 - val_precision_m: 0.8823 - val_recall_m: 0.6915\n",
      "Epoch 22/25\n",
      "447638/447638 [==============================] - 9s 21us/step - loss: 0.3932 - acc: 0.8071 - f1_m: 0.7758 - precision_m: 0.9259 - recall_m: 0.6688 - val_loss: 0.4153 - val_acc: 0.7944 - val_f1_m: 0.7485 - val_precision_m: 0.9621 - val_recall_m: 0.6129\n",
      "Epoch 23/25\n",
      "447638/447638 [==============================] - 9s 21us/step - loss: 0.3930 - acc: 0.8071 - f1_m: 0.7755 - precision_m: 0.9269 - recall_m: 0.6677 - val_loss: 0.3853 - val_acc: 0.8105 - val_f1_m: 0.7778 - val_precision_m: 0.9386 - val_recall_m: 0.6644\n",
      "Epoch 24/25\n",
      "447638/447638 [==============================] - 9s 21us/step - loss: 0.3933 - acc: 0.8070 - f1_m: 0.7750 - precision_m: 0.9281 - recall_m: 0.6665 - val_loss: 0.3930 - val_acc: 0.8064 - val_f1_m: 0.7690 - val_precision_m: 0.9522 - val_recall_m: 0.6452\n",
      "Epoch 25/25\n",
      "447638/447638 [==============================] - 9s 21us/step - loss: 0.3927 - acc: 0.8071 - f1_m: 0.7755 - precision_m: 0.9270 - recall_m: 0.6677 - val_loss: 0.3857 - val_acc: 0.8104 - val_f1_m: 0.7780 - val_precision_m: 0.9369 - val_recall_m: 0.6656\n"
     ]
    }
   ],
   "source": [
    "history = model.fit(X_train, y_train, epochs=25, batch_size=1000, validation_data=(X_test, y_test), verbose=1, shuffle=True)"
   ]
  },
  {
   "cell_type": "code",
   "execution_count": 228,
   "metadata": {},
   "outputs": [
    {
     "data": {
      "image/png": "[encoded data removed]",
      "text/plain": [
       "<Figure size 576x288 with 1 Axes>"
      ]
     },
     "metadata": {
      "needs_background": "light"
     },
     "output_type": "display_data"
    }
   ],
   "source": [
    "# plot history\n",
    "plt.figure(figsize=(8,4))\n",
    "plt.plot(history.history['acc'], label='train')\n",
    "plt.plot(history.history['val_acc'], label='test')\n",
    "plt.legend()                                       \n",
    "plt.show()"
   ]
  },
  {
   "cell_type": "code",
   "execution_count": 230,
   "metadata": {},
   "outputs": [
    {
     "name": "stdout",
     "output_type": "stream",
     "text": [
      "191846/191846 [==============================] - 33s 171us/step\n"
     ]
    }
   ],
   "source": [
    "loss, accuracy, f1_score, precision, recall = model.evaluate(X_test, y_test, verbose=1)"
   ]
  },
  {
   "cell_type": "code",
   "execution_count": 231,
   "metadata": {},
   "outputs": [
    {
     "name": "stdout",
     "output_type": "stream",
     "text": [
      "0.8104051947593689\n"
     ]
    }
   ],
   "source": [
    "print(accuracy)"
   ]
  },
  {
   "cell_type": "code",
   "execution_count": 232,
   "metadata": {
    "scrolled": true
   },
   "outputs": [],
   "source": [
    "model = Sequential()\n",
    "#model.add(Masking(mask_value=0., input_shape=(X_train.shape[1], X_train.shape[2])))\n",
    "model.add(Conv1D(128, 5, activation='relu', input_shape=(X_train.shape[1], X_train.shape[2])))\n",
    "model.add(MaxPooling1D(3))\n",
    "model.add(Conv1D(64, 5, activation='relu'))\n",
    "model.add(LSTM(32))\n",
    "model.add(Dense(32, activation= 'relu'))\n",
    "model.add(Dropout(0.2))\n",
    "model.add(Dense(16, activation= 'relu'))\n",
    "model.add(Dense(1, activation='sigmoid'))\n",
    "model.compile(loss='binary_crossentropy', optimizer=RMSprop(lr= 0.001, rho = 0.9), metrics=['acc',f1_m,precision_m, recall_m])\n",
    "#print(model.summary())"
   ]
  },
  {
   "cell_type": "code",
   "execution_count": 233,
   "metadata": {
    "scrolled": true
   },
   "outputs": [
    {
     "name": "stdout",
     "output_type": "stream",
     "text": [
      "Train on 447638 samples, validate on 191846 samples\n",
      "Epoch 1/25\n",
      "447638/447638 [==============================] - 11s 25us/step - loss: 0.5421 - acc: 0.7258 - f1_m: 0.6797 - precision_m: 0.8175 - recall_m: 0.5940 - val_loss: 0.4704 - val_acc: 0.7680 - val_f1_m: 0.7189 - val_precision_m: 0.9108 - val_recall_m: 0.5941\n",
      "Epoch 2/25\n",
      "447638/447638 [==============================] - 10s 23us/step - loss: 0.4678 - acc: 0.7701 - f1_m: 0.7286 - precision_m: 0.8860 - recall_m: 0.6270 - val_loss: 0.4505 - val_acc: 0.7747 - val_f1_m: 0.7248 - val_precision_m: 0.9300 - val_recall_m: 0.5941\n",
      "Epoch 3/25\n",
      "447638/447638 [==============================] - 10s 23us/step - loss: 0.4412 - acc: 0.7836 - f1_m: 0.7454 - precision_m: 0.9021 - recall_m: 0.6408 - val_loss: 0.4194 - val_acc: 0.7998 - val_f1_m: 0.7694 - val_precision_m: 0.9057 - val_recall_m: 0.6691\n",
      "Epoch 4/25\n",
      "447638/447638 [==============================] - 10s 23us/step - loss: 0.4281 - acc: 0.7898 - f1_m: 0.7534 - precision_m: 0.9097 - recall_m: 0.6472 - val_loss: 0.4059 - val_acc: 0.8027 - val_f1_m: 0.7770 - val_precision_m: 0.8922 - val_recall_m: 0.6885\n",
      "Epoch 5/25\n",
      "447638/447638 [==============================] - 10s 22us/step - loss: 0.4202 - acc: 0.7940 - f1_m: 0.7594 - precision_m: 0.9116 - recall_m: 0.6546 - val_loss: 0.3997 - val_acc: 0.8047 - val_f1_m: 0.7737 - val_precision_m: 0.9186 - val_recall_m: 0.6687\n",
      "Epoch 6/25\n",
      "447638/447638 [==============================] - 10s 23us/step - loss: 0.4141 - acc: 0.7965 - f1_m: 0.7626 - precision_m: 0.9143 - recall_m: 0.6574 - val_loss: 0.4095 - val_acc: 0.8010 - val_f1_m: 0.7646 - val_precision_m: 0.9342 - val_recall_m: 0.6474\n",
      "Epoch 7/25\n",
      "447638/447638 [==============================] - 10s 23us/step - loss: 0.4090 - acc: 0.7989 - f1_m: 0.7653 - precision_m: 0.9175 - recall_m: 0.6595 - val_loss: 0.4037 - val_acc: 0.8023 - val_f1_m: 0.7723 - val_precision_m: 0.9092 - val_recall_m: 0.6717\n",
      "Epoch 8/25\n",
      "447638/447638 [==============================] - 10s 23us/step - loss: 0.4068 - acc: 0.8006 - f1_m: 0.7675 - precision_m: 0.9191 - recall_m: 0.6617 - val_loss: 0.3973 - val_acc: 0.8049 - val_f1_m: 0.7768 - val_precision_m: 0.9064 - val_recall_m: 0.6799\n",
      "Epoch 9/25\n",
      "447638/447638 [==============================] - 10s 23us/step - loss: 0.4037 - acc: 0.8017 - f1_m: 0.7688 - precision_m: 0.9208 - recall_m: 0.6624 - val_loss: 0.3979 - val_acc: 0.8055 - val_f1_m: 0.7692 - val_precision_m: 0.9447 - val_recall_m: 0.6490\n",
      "Epoch 10/25\n",
      "447638/447638 [==============================] - 10s 23us/step - loss: 0.4025 - acc: 0.8023 - f1_m: 0.7698 - precision_m: 0.9197 - recall_m: 0.6642 - val_loss: 0.4326 - val_acc: 0.7837 - val_f1_m: 0.7330 - val_precision_m: 0.9556 - val_recall_m: 0.5949\n",
      "Epoch 11/25\n",
      "447638/447638 [==============================] - 10s 23us/step - loss: 0.3997 - acc: 0.8036 - f1_m: 0.7715 - precision_m: 0.9213 - recall_m: 0.6657 - val_loss: 0.3880 - val_acc: 0.8096 - val_f1_m: 0.7808 - val_precision_m: 0.9188 - val_recall_m: 0.6792\n",
      "Epoch 12/25\n",
      "447638/447638 [==============================] - 10s 23us/step - loss: 0.3978 - acc: 0.8042 - f1_m: 0.7727 - precision_m: 0.9213 - recall_m: 0.6676 - val_loss: 0.4165 - val_acc: 0.7959 - val_f1_m: 0.7523 - val_precision_m: 0.9555 - val_recall_m: 0.6207\n",
      "Epoch 13/25\n",
      "447638/447638 [==============================] - 10s 23us/step - loss: 0.3968 - acc: 0.8049 - f1_m: 0.7740 - precision_m: 0.9198 - recall_m: 0.6698 - val_loss: 0.3885 - val_acc: 0.8092 - val_f1_m: 0.7795 - val_precision_m: 0.9222 - val_recall_m: 0.6753\n",
      "Epoch 14/25\n",
      "447638/447638 [==============================] - 10s 23us/step - loss: 0.3967 - acc: 0.8051 - f1_m: 0.7730 - precision_m: 0.9244 - recall_m: 0.6661 - val_loss: 0.3914 - val_acc: 0.8080 - val_f1_m: 0.7792 - val_precision_m: 0.9156 - val_recall_m: 0.6784\n",
      "Epoch 15/25\n",
      "447638/447638 [==============================] - 10s 23us/step - loss: 0.3957 - acc: 0.8053 - f1_m: 0.7738 - precision_m: 0.9224 - recall_m: 0.6686 - val_loss: 0.3857 - val_acc: 0.8096 - val_f1_m: 0.7755 - val_precision_m: 0.9431 - val_recall_m: 0.6588\n",
      "Epoch 16/25\n",
      "447638/447638 [==============================] - 10s 23us/step - loss: 0.3959 - acc: 0.8050 - f1_m: 0.7745 - precision_m: 0.9198 - recall_m: 0.6717 - val_loss: 0.3850 - val_acc: 0.8100 - val_f1_m: 0.7777 - val_precision_m: 0.9361 - val_recall_m: 0.6654\n",
      "Epoch 17/25\n",
      "447638/447638 [==============================] - 10s 23us/step - loss: 0.3940 - acc: 0.8064 - f1_m: 0.7754 - precision_m: 0.9230 - recall_m: 0.6701 - val_loss: 0.3893 - val_acc: 0.8068 - val_f1_m: 0.7790 - val_precision_m: 0.9087 - val_recall_m: 0.6821\n",
      "Epoch 18/25\n",
      "447638/447638 [==============================] - 10s 23us/step - loss: 0.3931 - acc: 0.8069 - f1_m: 0.7762 - precision_m: 0.9236 - recall_m: 0.6711 - val_loss: 0.3961 - val_acc: 0.8040 - val_f1_m: 0.7807 - val_precision_m: 0.8846 - val_recall_m: 0.6990\n",
      "Epoch 19/25\n",
      "447638/447638 [==============================] - 10s 23us/step - loss: 0.3926 - acc: 0.8071 - f1_m: 0.7761 - precision_m: 0.9246 - recall_m: 0.6703 - val_loss: 0.3846 - val_acc: 0.8109 - val_f1_m: 0.7781 - val_precision_m: 0.9403 - val_recall_m: 0.6639\n",
      "Epoch 20/25\n",
      "447638/447638 [==============================] - 10s 23us/step - loss: 0.3935 - acc: 0.8071 - f1_m: 0.7752 - precision_m: 0.9284 - recall_m: 0.6668 - val_loss: 0.4116 - val_acc: 0.7935 - val_f1_m: 0.7759 - val_precision_m: 0.8472 - val_recall_m: 0.7160\n",
      "Epoch 21/25\n",
      "447638/447638 [==============================] - 10s 23us/step - loss: 0.3918 - acc: 0.8075 - f1_m: 0.7765 - precision_m: 0.9258 - recall_m: 0.6701 - val_loss: 0.3883 - val_acc: 0.8101 - val_f1_m: 0.7801 - val_precision_m: 0.9251 - val_recall_m: 0.6748\n",
      "Epoch 22/25\n",
      "447638/447638 [==============================] - 10s 23us/step - loss: 0.3930 - acc: 0.8069 - f1_m: 0.7751 - precision_m: 0.9282 - recall_m: 0.6673 - val_loss: 0.3911 - val_acc: 0.8084 - val_f1_m: 0.7797 - val_precision_m: 0.9161 - val_recall_m: 0.6789\n",
      "Epoch 23/25\n",
      "447638/447638 [==============================] - 10s 23us/step - loss: 0.3918 - acc: 0.8072 - f1_m: 0.7757 - precision_m: 0.9274 - recall_m: 0.6684 - val_loss: 0.3901 - val_acc: 0.8081 - val_f1_m: 0.7822 - val_precision_m: 0.9030 - val_recall_m: 0.6902\n",
      "Epoch 24/25\n",
      "447638/447638 [==============================] - 10s 23us/step - loss: 0.3920 - acc: 0.8076 - f1_m: 0.7757 - precision_m: 0.9289 - recall_m: 0.6673 - val_loss: 0.3868 - val_acc: 0.8110 - val_f1_m: 0.7774 - val_precision_m: 0.9442 - val_recall_m: 0.6610\n",
      "Epoch 25/25\n",
      "447638/447638 [==============================] - 10s 23us/step - loss: 0.3925 - acc: 0.8071 - f1_m: 0.7747 - precision_m: 0.9303 - recall_m: 0.6649 - val_loss: 0.4115 - val_acc: 0.8060 - val_f1_m: 0.7788 - val_precision_m: 0.9046 - val_recall_m: 0.6841\n"
     ]
    }
   ],
   "source": [
    "history = model.fit(X_train, y_train, epochs=25, batch_size=1000, validation_data=(X_test, y_test), verbose=1, shuffle=True)"
   ]
  },
  {
   "cell_type": "code",
   "execution_count": 234,
   "metadata": {},
   "outputs": [
    {
     "name": "stdout",
     "output_type": "stream",
     "text": [
      "191846/191846 [==============================] - 32s 169us/step\n"
     ]
    }
   ],
   "source": [
    "loss, accuracy, f1_score, precision, recall = model.evaluate(X_test, y_test, verbose=1)"
   ]
  },
  {
   "cell_type": "code",
   "execution_count": 237,
   "metadata": {},
   "outputs": [
    {
     "data": {
      "text/plain": [
       "(0.8059954047203064,\n",
       " 0.7727072238922119,\n",
       " 0.9044153094291687,\n",
       " 0.6840417385101318)"
      ]
     },
     "execution_count": 237,
     "metadata": {},
     "output_type": "execute_result"
    }
   ],
   "source": [
    "accuracy, f1_score, precision, recall"
   ]
  },
  {
   "cell_type": "markdown",
   "metadata": {},
   "source": [
    "# <br>\n",
    "# sensitivity analysis"
   ]
  },
  {
   "cell_type": "code",
   "execution_count": 222,
   "metadata": {},
   "outputs": [
    {
     "data": {
      "text/plain": [
       "(24, 24)"
      ]
     },
     "execution_count": 222,
     "metadata": {},
     "output_type": "execute_result"
    }
   ],
   "source": [
    "## Sensitivity Analysis\n",
    "full_X_c = 온라인.iloc[:,3:-2].columns\n",
    "a_features = int(X_train.shape[2])\n",
    "importance_df = pd.DataFrame(np.zeros((a_features, 2)), \n",
    "                             columns=['varible_name', 'perturbation_effect'])\n",
    "a_features, len(full_X_c)"
   ]
  },
  {
   "cell_type": "code",
   "execution_count": 238,
   "metadata": {
    "collapsed": true,
    "jupyter": {
     "outputs_hidden": true
    }
   },
   "outputs": [
    {
     "name": "stderr",
     "output_type": "stream",
     "text": [
      "C:\\ProgramData\\Anaconda3\\lib\\site-packages\\ipykernel_launcher.py:4: TqdmDeprecationWarning: This function will be removed in tqdm==5.0.0\n",
      "Please use `tqdm.notebook.tqdm` instead of `tqdm.tqdm_notebook`\n",
      "  after removing the cwd from sys.path.\n"
     ]
    },
    {
     "data": {
      "application/vnd.jupyter.widget-view+json": {
       "model_id": "",
       "version_major": 2,
       "version_minor": 0
      },
      "text/plain": [
       "HBox(children=(FloatProgress(value=0.0, max=24.0), HTML(value='')))"
      ]
     },
     "metadata": {},
     "output_type": "display_data"
    },
    {
     "name": "stdout",
     "output_type": "stream",
     "text": [
      "Variable 1, perturbation effect: 0.0502\n",
      "Variable 2, perturbation effect: 0.0055\n",
      "Variable 3, perturbation effect: 0.0069\n",
      "Variable 4, perturbation effect: 0.0164\n",
      "Variable 5, perturbation effect: 0.1752\n",
      "Variable 6, perturbation effect: 0.1279\n",
      "Variable 7, perturbation effect: 0.1628\n",
      "Variable 8, perturbation effect: 0.1527\n",
      "Variable 9, perturbation effect: 0.0745\n",
      "Variable 10, perturbation effect: 0.1128\n",
      "Variable 11, perturbation effect: 0.0138\n",
      "Variable 12, perturbation effect: 0.0364\n",
      "Variable 13, perturbation effect: 0.0413\n",
      "Variable 14, perturbation effect: 0.0295\n",
      "Variable 15, perturbation effect: 0.0310\n",
      "Variable 16, perturbation effect: 0.0076\n",
      "Variable 17, perturbation effect: 0.0057\n",
      "Variable 18, perturbation effect: 0.0029\n",
      "Variable 19, perturbation effect: 0.0098\n",
      "Variable 20, perturbation effect: 0.0077\n",
      "Variable 21, perturbation effect: 0.0146\n",
      "Variable 22, perturbation effect: 0.0272\n",
      "Variable 23, perturbation effect: 0.0357\n",
      "Variable 24, perturbation effect: 0.0448\n",
      "\n",
      "             varible_name  perturbation_effect\n",
      "4                 keyword             0.175248\n",
      "6           action_type_2             0.162847\n",
      "7           action_type_3             0.152704\n",
      "5           action_type_1             0.127881\n",
      "9           action_type_5             0.112824\n",
      "8           action_type_4             0.074540\n",
      "0                 hit_seq             0.050248\n",
      "23     dvc_ctg_nm_unknown             0.044779\n",
      "12           biz_unit_A03             0.041329\n",
      "11           biz_unit_A02             0.036424\n",
      "22  dvc_ctg_nm_mobile_web             0.035730\n",
      "14         sess_dt_201909             0.030971\n",
      "13         sess_dt_201908             0.029467\n",
      "21  dvc_ctg_nm_mobile_app             0.027249\n",
      "3            holiday_diff             0.016400\n",
      "20       trfc_src_unknown             0.014609\n",
      "10          action_type_7             0.013810\n",
      "18          trfc_src_PUSH             0.009813\n",
      "19       trfc_src_WEBSITE             0.007725\n",
      "15      trfc_src_PORTAL_1             0.007629\n",
      "2             time_length             0.006939\n",
      "16      trfc_src_PORTAL_2             0.005727\n",
      "1              hit_pss_tm             0.005522\n",
      "17      trfc_src_PORTAL_3             0.002877\n"
     ]
    }
   ],
   "source": [
    "def var_importance(model):\n",
    "    x = X_test # Get a sample of data\n",
    "    orig_out = model.predict(x)\n",
    "    for i in tqdm_notebook(range(a_features)):  # iterate over the three features\n",
    "        new_x = x.copy()\n",
    "        perturbation = np.random.normal(0.0, 0.2, size= new_x.shape[:2])\n",
    "        new_x[:, :, i] = new_x[:, :, i] + perturbation\n",
    "        perturbed_out = model.predict(new_x)\n",
    "        effect = ((orig_out - perturbed_out) ** 2).mean() ** 0.5 #RMSE\n",
    "        importance_df.iloc[i,0] = full_X_c[i]\n",
    "        importance_df.iloc[i,1] = effect\n",
    "        print(f'Variable {i+1}, perturbation effect: {effect:.4f}')\n",
    "\n",
    "var_importance(model)\n",
    "importance_df = importance_df.sort_values(by='perturbation_effect', ascending=False)\n",
    "print(importance_df)"
   ]
  },
  {
   "cell_type": "code",
   "execution_count": 239,
   "metadata": {
    "scrolled": true
   },
   "outputs": [
    {
     "data": {
      "text/html": [
       "<div>\n",
       "<style scoped>\n",
       "    .dataframe tbody tr th:only-of-type {\n",
       "        vertical-align: middle;\n",
       "    }\n",
       "\n",
       "    .dataframe tbody tr th {\n",
       "        vertical-align: top;\n",
       "    }\n",
       "\n",
       "    .dataframe thead th {\n",
       "        text-align: right;\n",
       "    }\n",
       "</style>\n",
       "<table border=\"1\" class=\"dataframe\">\n",
       "  <thead>\n",
       "    <tr style=\"text-align: right;\">\n",
       "      <th></th>\n",
       "      <th>varible_name</th>\n",
       "      <th>perturbation_effect</th>\n",
       "    </tr>\n",
       "  </thead>\n",
       "  <tbody>\n",
       "    <tr>\n",
       "      <th>4</th>\n",
       "      <td>keyword</td>\n",
       "      <td>0.175248</td>\n",
       "    </tr>\n",
       "    <tr>\n",
       "      <th>6</th>\n",
       "      <td>action_type_2</td>\n",
       "      <td>0.162847</td>\n",
       "    </tr>\n",
       "    <tr>\n",
       "      <th>7</th>\n",
       "      <td>action_type_3</td>\n",
       "      <td>0.152704</td>\n",
       "    </tr>\n",
       "    <tr>\n",
       "      <th>5</th>\n",
       "      <td>action_type_1</td>\n",
       "      <td>0.127881</td>\n",
       "    </tr>\n",
       "    <tr>\n",
       "      <th>9</th>\n",
       "      <td>action_type_5</td>\n",
       "      <td>0.112824</td>\n",
       "    </tr>\n",
       "    <tr>\n",
       "      <th>8</th>\n",
       "      <td>action_type_4</td>\n",
       "      <td>0.074540</td>\n",
       "    </tr>\n",
       "    <tr>\n",
       "      <th>0</th>\n",
       "      <td>hit_seq</td>\n",
       "      <td>0.050248</td>\n",
       "    </tr>\n",
       "    <tr>\n",
       "      <th>23</th>\n",
       "      <td>dvc_ctg_nm_unknown</td>\n",
       "      <td>0.044779</td>\n",
       "    </tr>\n",
       "    <tr>\n",
       "      <th>12</th>\n",
       "      <td>biz_unit_A03</td>\n",
       "      <td>0.041329</td>\n",
       "    </tr>\n",
       "    <tr>\n",
       "      <th>11</th>\n",
       "      <td>biz_unit_A02</td>\n",
       "      <td>0.036424</td>\n",
       "    </tr>\n",
       "    <tr>\n",
       "      <th>22</th>\n",
       "      <td>dvc_ctg_nm_mobile_web</td>\n",
       "      <td>0.035730</td>\n",
       "    </tr>\n",
       "    <tr>\n",
       "      <th>14</th>\n",
       "      <td>sess_dt_201909</td>\n",
       "      <td>0.030971</td>\n",
       "    </tr>\n",
       "    <tr>\n",
       "      <th>13</th>\n",
       "      <td>sess_dt_201908</td>\n",
       "      <td>0.029467</td>\n",
       "    </tr>\n",
       "    <tr>\n",
       "      <th>21</th>\n",
       "      <td>dvc_ctg_nm_mobile_app</td>\n",
       "      <td>0.027249</td>\n",
       "    </tr>\n",
       "    <tr>\n",
       "      <th>3</th>\n",
       "      <td>holiday_diff</td>\n",
       "      <td>0.016400</td>\n",
       "    </tr>\n",
       "    <tr>\n",
       "      <th>20</th>\n",
       "      <td>trfc_src_unknown</td>\n",
       "      <td>0.014609</td>\n",
       "    </tr>\n",
       "    <tr>\n",
       "      <th>10</th>\n",
       "      <td>action_type_7</td>\n",
       "      <td>0.013810</td>\n",
       "    </tr>\n",
       "    <tr>\n",
       "      <th>18</th>\n",
       "      <td>trfc_src_PUSH</td>\n",
       "      <td>0.009813</td>\n",
       "    </tr>\n",
       "    <tr>\n",
       "      <th>19</th>\n",
       "      <td>trfc_src_WEBSITE</td>\n",
       "      <td>0.007725</td>\n",
       "    </tr>\n",
       "    <tr>\n",
       "      <th>15</th>\n",
       "      <td>trfc_src_PORTAL_1</td>\n",
       "      <td>0.007629</td>\n",
       "    </tr>\n",
       "    <tr>\n",
       "      <th>2</th>\n",
       "      <td>time_length</td>\n",
       "      <td>0.006939</td>\n",
       "    </tr>\n",
       "    <tr>\n",
       "      <th>16</th>\n",
       "      <td>trfc_src_PORTAL_2</td>\n",
       "      <td>0.005727</td>\n",
       "    </tr>\n",
       "    <tr>\n",
       "      <th>1</th>\n",
       "      <td>hit_pss_tm</td>\n",
       "      <td>0.005522</td>\n",
       "    </tr>\n",
       "    <tr>\n",
       "      <th>17</th>\n",
       "      <td>trfc_src_PORTAL_3</td>\n",
       "      <td>0.002877</td>\n",
       "    </tr>\n",
       "  </tbody>\n",
       "</table>\n",
       "</div>"
      ],
      "text/plain": [
       "             varible_name  perturbation_effect\n",
       "4                 keyword             0.175248\n",
       "6           action_type_2             0.162847\n",
       "7           action_type_3             0.152704\n",
       "5           action_type_1             0.127881\n",
       "9           action_type_5             0.112824\n",
       "8           action_type_4             0.074540\n",
       "0                 hit_seq             0.050248\n",
       "23     dvc_ctg_nm_unknown             0.044779\n",
       "12           biz_unit_A03             0.041329\n",
       "11           biz_unit_A02             0.036424\n",
       "22  dvc_ctg_nm_mobile_web             0.035730\n",
       "14         sess_dt_201909             0.030971\n",
       "13         sess_dt_201908             0.029467\n",
       "21  dvc_ctg_nm_mobile_app             0.027249\n",
       "3            holiday_diff             0.016400\n",
       "20       trfc_src_unknown             0.014609\n",
       "10          action_type_7             0.013810\n",
       "18          trfc_src_PUSH             0.009813\n",
       "19       trfc_src_WEBSITE             0.007725\n",
       "15      trfc_src_PORTAL_1             0.007629\n",
       "2             time_length             0.006939\n",
       "16      trfc_src_PORTAL_2             0.005727\n",
       "1              hit_pss_tm             0.005522\n",
       "17      trfc_src_PORTAL_3             0.002877"
      ]
     },
     "execution_count": 239,
     "metadata": {},
     "output_type": "execute_result"
    }
   ],
   "source": [
    "importance_df"
   ]
  },
  {
   "cell_type": "code",
   "execution_count": 248,
   "metadata": {},
   "outputs": [
    {
     "data": {
      "image/png": "[encoded data removed]",
      "text/plain": [
       "<Figure size 1080x360 with 1 Axes>"
      ]
     },
     "metadata": {
      "needs_background": "light"
     },
     "output_type": "display_data"
    }
   ],
   "source": [
    "## Plot 예시\n",
    "#mpl.rc('font', family='New Gulim')\n",
    "#mpl.rc('axes', unicode_minus=False)\n",
    "plt.subplots(figsize=(15,5))\n",
    "plt.bar(importance_df.iloc[:,0], importance_df.iloc[:,1])\n",
    "plt.title('Sensitivity Analysis', fontsize=18)\n",
    "#plt.xlabel('IV')\n",
    "plt.ylabel('Perturbation Effect')\n",
    "plt.xticks(importance_df.iloc[:,0], rotation=90)\n",
    "plt.show()"
   ]
  },
  {
   "cell_type": "code",
   "execution_count": 246,
   "metadata": {},
   "outputs": [
    {
     "data": {
      "text/plain": [
       "0.04972061081192088"
      ]
     },
     "execution_count": 246,
     "metadata": {},
     "output_type": "execute_result"
    }
   ],
   "source": [
    "importance_df.perturbation_effect.mean()"
   ]
  }
 ],
 "metadata": {
  "kernelspec": {
   "display_name": "Python 3",
   "language": "python",
   "name": "python3"
  },
  "language_info": {
   "codemirror_mode": {
    "name": "ipython",
    "version": 3
   },
   "file_extension": ".py",
   "mimetype": "text/x-python",
   "name": "python",
   "nbconvert_exporter": "python",
   "pygments_lexer": "ipython3",
   "version": "3.7.4"
  }
 },
 "nbformat": 4,
 "nbformat_minor": 4
}
